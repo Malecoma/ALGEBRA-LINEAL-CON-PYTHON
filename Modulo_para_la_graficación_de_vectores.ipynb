{
  "nbformat": 4,
  "nbformat_minor": 0,
  "metadata": {
    "colab": {
      "name": "Modulo para la graficación de vectores.ipynb",
      "provenance": [],
      "collapsed_sections": [],
      "authorship_tag": "ABX9TyOZ+K1L4WtVtwKtv+U1lRiR",
      "include_colab_link": true
    },
    "kernelspec": {
      "name": "python3",
      "display_name": "Python 3"
    },
    "language_info": {
      "name": "python"
    }
  },
  "cells": [
    {
      "cell_type": "markdown",
      "metadata": {
        "id": "view-in-github",
        "colab_type": "text"
      },
      "source": [
        "<a href=\"https://colab.research.google.com/github/josorio398/ALGEBRA-LINEAL-CON-PYTHON/blob/master/Modulo_para_la_graficaci%C3%B3n_de_vectores.ipynb\" target=\"_parent\"><img src=\"https://colab.research.google.com/assets/colab-badge.svg\" alt=\"Open In Colab\"/></a>"
      ]
    },
    {
      "cell_type": "markdown",
      "metadata": {
        "id": "RVxHpsbcExUD"
      },
      "source": [
        "<p><img alt=\"logo.fua\" height=\"100px\" src=\"https://www.uamerica.edu.co/wp-content/images/escudo.png\" align=\"left\" hspace=\"10px\" vspace=\"0px\"></p>\n",
        "\n",
        "<p><img alt=\"logo.fua\" height=\"26px\" src=\"https://mirrors.creativecommons.org/presskit/buttons/88x31/svg/by-nd.svg\" align=\"right\" hspace=\"0px\" vspace=\"11px\"></p>\n",
        "\n",
        "\n",
        "# <center> <font size=\"6\"> &nbsp;  &nbsp; &nbsp;  &nbsp; &nbsp;  &nbsp; &nbsp;  &nbsp; &nbsp;  &nbsp;**ÁLGEBRA LINEAL CON PYTHON &nbsp; &nbsp;&nbsp;&nbsp; &nbsp; &nbsp; &nbsp; &nbsp; &nbsp; &nbsp; &nbsp;     &nbsp; &nbsp;  &nbsp; MÓDULO PARA LA GRAFICACIÓN DE VECTORES** &nbsp;  &nbsp; &nbsp;  &nbsp; &nbsp;  &nbsp; &nbsp;  &nbsp; <center> &nbsp; &nbsp; &nbsp; &nbsp;*Jhonny Osorio Gallego* &nbsp; &nbsp; &nbsp;<p></font> \n"
      ]
    },
    {
      "cell_type": "markdown",
      "metadata": {
        "id": "NuJv09kaL05p"
      },
      "source": [
        "El siguiente módulo esta diseñado haciendo uso de la librería **NumPy** y **Plotly**, pretende servir de apoyo para la representación gráfica de vectores en el plano y el espacio, como estratégia para la enseñanza de los concéptos vectoriales."
      ]
    },
    {
      "cell_type": "markdown",
      "metadata": {
        "id": "pELON3yz_46g"
      },
      "source": [
        "## **FUNCIÓN PARA GENERAR COLORES RGB ALEATORIAMENTE**"
      ]
    },
    {
      "cell_type": "code",
      "metadata": {
        "id": "eNueQhrULGLc"
      },
      "source": [
        "import random \n",
        "def randomRgbaColor(): \n",
        "   r = random.randrange(0, 255) \n",
        "   g = random.randrange(0, 255)  \n",
        "   b =random.randrange(0, 255)\n",
        "   return \"rgb\"+ \"(\" + str(r) + \",\" + str(g) + \",\"+ str(b) + \")\""
      ],
      "execution_count": 3,
      "outputs": []
    },
    {
      "cell_type": "markdown",
      "metadata": {
        "id": "trqCkPGoLI42"
      },
      "source": [
        "## **DEFINICIÓN DE LA FUNCIÓN PARA GRAFICAR MULTIPLES VECTORES EN EL PLANO**\n",
        "\n",
        "La función tiene como sintaxis **plotvectors2D** permite graficar multiples vectores en el plano cartesiano."
      ]
    },
    {
      "cell_type": "code",
      "metadata": {
        "id": "SPozi_Z7LQJ-"
      },
      "source": [
        "import plotly.graph_objects as go\n",
        "import numpy as np\n",
        "\n",
        "\n",
        "def plotvectors2D(*args):\n",
        "    '''Función elaborada en el módulo plotly para realizar la gráfica de multiples vectores en el plano cartesiano'''\n",
        "    \n",
        "    fig = go.Figure()\n",
        "    x = [0]\n",
        "    y = [0]\n",
        "    for V in args:\n",
        "        color = randomRgbaColor()\n",
        "        x.append(V[0])\n",
        "        y.append(V[1])\n",
        "        #fig.add_trace(go.Scatter(x=[V[0]],y=[V[1]],mode='markers',marker=dict(color= color,size=7),showlegend=True,name=\"vector \"+ str(args.index(V)+1)))\n",
        "        fig.add_trace(go.Scatter(x=[0,V[0]], y=[0,V[1]],mode='lines',marker=dict(color= color,size=8),showlegend=True,name=\"vector \"+ str(args.index(V)+1)))\n",
        "        fig.add_annotation(\n",
        "        x=V[0],  # Coordenada en x cabeza\n",
        "        y=V[1],  # Coordenada en y cabeza\n",
        "        ax=0.0,  # Coordenada en x de la cola\n",
        "        ay=0.0,  # Coordenada en x de la cola\n",
        "        xref='x',\n",
        "        yref='y',\n",
        "        axref='x',\n",
        "        ayref='y',\n",
        "        showarrow=True,\n",
        "        arrowhead=2,\n",
        "        arrowsize=1.5,\n",
        "        arrowwidth=2.3,\n",
        "        arrowcolor = color)\n",
        "        \n",
        "    fig.add_trace(go.Scatter(x=[0],y=[0],mode='markers',marker=dict(color=\"#2a3f5f\",size=9),showlegend=True,opacity=1,name=\"origen\"))\n",
        "\n",
        "    fig.add_annotation(ax = min(x)-0.5, axref = 'x', ay = 0, ayref = 'y',x = max(x)+0.5, xref = 'x', y = 0, yref = 'y',arrowwidth = 1.5, arrowhead = 2,arrowcolor = \"#2a3f5f\")\n",
        "    fig.add_annotation(ax = 0, axref = 'x', ay = min(y)-0.5, ayref = 'y',x = 0, xref = 'x', y = max(y)+0.5, yref = 'y',arrowwidth = 1.5, arrowhead = 2,arrowcolor = \"#2a3f5f\")\n",
        "    fig.add_annotation(text=\"$x$\", x=max(x)+0.5, y=-0.2, arrowhead=1, showarrow=False)\n",
        "    fig.add_annotation(text=\"$y$\", x=-0.2, y=max(y)+0.5, arrowhead=1, showarrow=False)\n",
        "\n",
        "    fig.update_xaxes(title = \"$\\large{x}$\", title_font=dict(size=30, family='latex', color='rgb(1,21,51)'),range = [min(x)-0.5, max(x)+0.5],showgrid = True) #,zerolinecolor=\"black\" ,autorange = True\n",
        "    fig.update_yaxes(title = \"$\\large{y}$\", title_font=dict(size=30, family='latex', color='rgb(1,21,51)'),range = [min(y)-0.4, max(y)+0.5],showgrid = True) #, zerolinecolor= \"black\" ,autorange = True\n",
        "    fig.update_layout(font=dict(family=\"latex\",size=20,color=\"black\")) #y=1.2,x=0.03\n",
        "    #fig.update_layout(title= \"\",title_font=dict(size=5, family='latex', color='rgb(1,21,51)'),title_x=0.5)\n",
        "    fig.update_layout(legend=dict(orientation=\"h\",yanchor=\"bottom\",y=1.02,xanchor=\"right\",x=1, itemdoubleclick =\"toggle\"),title_font=dict(size=30, color='rgb(1,21,51)'),showlegend=True,width=500, height=480)\n",
        "    fig.show()"
      ],
      "execution_count": 5,
      "outputs": []
    },
    {
      "cell_type": "code",
      "metadata": {
        "colab": {
          "base_uri": "https://localhost:8080/",
          "height": 497
        },
        "id": "3dc6Gq4MkCM3",
        "outputId": "f3084cc6-2757-41a0-c8ba-86cae6a20ea2"
      },
      "source": [
        "plotvectors2D([1,2],[-3,2],[5,3],[-1,-4],[2,-4])"
      ],
      "execution_count": 6,
      "outputs": [
        {
          "output_type": "display_data",
          "data": {
            "text/html": [
              "<html>\n",
              "<head><meta charset=\"utf-8\" /></head>\n",
              "<body>\n",
              "    <div>\n",
              "            <script src=\"https://cdnjs.cloudflare.com/ajax/libs/mathjax/2.7.5/MathJax.js?config=TeX-AMS-MML_SVG\"></script><script type=\"text/javascript\">if (window.MathJax) {MathJax.Hub.Config({SVG: {font: \"STIX-Web\"}});}</script>\n",
              "                <script type=\"text/javascript\">window.PlotlyConfig = {MathJaxConfig: 'local'};</script>\n",
              "        <script src=\"https://cdn.plot.ly/plotly-latest.min.js\"></script>    \n",
              "            <div id=\"1b996fb5-f152-44c3-a64e-a7514c4825b5\" class=\"plotly-graph-div\" style=\"height:480px; width:500px;\"></div>\n",
              "            <script type=\"text/javascript\">\n",
              "                \n",
              "                    window.PLOTLYENV=window.PLOTLYENV || {};\n",
              "                    \n",
              "                if (document.getElementById(\"1b996fb5-f152-44c3-a64e-a7514c4825b5\")) {\n",
              "                    Plotly.newPlot(\n",
              "                        '1b996fb5-f152-44c3-a64e-a7514c4825b5',\n",
              "                        [{\"marker\": {\"color\": \"rgb(185,62,58)\", \"size\": 8}, \"mode\": \"lines\", \"name\": \"vector 1\", \"showlegend\": true, \"type\": \"scatter\", \"x\": [0, 1], \"y\": [0, 2]}, {\"marker\": {\"color\": \"rgb(121,246,239)\", \"size\": 8}, \"mode\": \"lines\", \"name\": \"vector 2\", \"showlegend\": true, \"type\": \"scatter\", \"x\": [0, -3], \"y\": [0, 2]}, {\"marker\": {\"color\": \"rgb(190,47,249)\", \"size\": 8}, \"mode\": \"lines\", \"name\": \"vector 3\", \"showlegend\": true, \"type\": \"scatter\", \"x\": [0, 5], \"y\": [0, 3]}, {\"marker\": {\"color\": \"rgb(197,106,138)\", \"size\": 8}, \"mode\": \"lines\", \"name\": \"vector 4\", \"showlegend\": true, \"type\": \"scatter\", \"x\": [0, -1], \"y\": [0, -4]}, {\"marker\": {\"color\": \"rgb(34,115,231)\", \"size\": 8}, \"mode\": \"lines\", \"name\": \"vector 5\", \"showlegend\": true, \"type\": \"scatter\", \"x\": [0, 2], \"y\": [0, -4]}, {\"marker\": {\"color\": \"#2a3f5f\", \"size\": 9}, \"mode\": \"markers\", \"name\": \"origen\", \"opacity\": 1, \"showlegend\": true, \"type\": \"scatter\", \"x\": [0], \"y\": [0]}],\n",
              "                        {\"annotations\": [{\"arrowcolor\": \"rgb(185,62,58)\", \"arrowhead\": 2, \"arrowsize\": 1.5, \"arrowwidth\": 2.3, \"ax\": 0.0, \"axref\": \"x\", \"ay\": 0.0, \"ayref\": \"y\", \"showarrow\": true, \"x\": 1, \"xref\": \"x\", \"y\": 2, \"yref\": \"y\"}, {\"arrowcolor\": \"rgb(121,246,239)\", \"arrowhead\": 2, \"arrowsize\": 1.5, \"arrowwidth\": 2.3, \"ax\": 0.0, \"axref\": \"x\", \"ay\": 0.0, \"ayref\": \"y\", \"showarrow\": true, \"x\": -3, \"xref\": \"x\", \"y\": 2, \"yref\": \"y\"}, {\"arrowcolor\": \"rgb(190,47,249)\", \"arrowhead\": 2, \"arrowsize\": 1.5, \"arrowwidth\": 2.3, \"ax\": 0.0, \"axref\": \"x\", \"ay\": 0.0, \"ayref\": \"y\", \"showarrow\": true, \"x\": 5, \"xref\": \"x\", \"y\": 3, \"yref\": \"y\"}, {\"arrowcolor\": \"rgb(197,106,138)\", \"arrowhead\": 2, \"arrowsize\": 1.5, \"arrowwidth\": 2.3, \"ax\": 0.0, \"axref\": \"x\", \"ay\": 0.0, \"ayref\": \"y\", \"showarrow\": true, \"x\": -1, \"xref\": \"x\", \"y\": -4, \"yref\": \"y\"}, {\"arrowcolor\": \"rgb(34,115,231)\", \"arrowhead\": 2, \"arrowsize\": 1.5, \"arrowwidth\": 2.3, \"ax\": 0.0, \"axref\": \"x\", \"ay\": 0.0, \"ayref\": \"y\", \"showarrow\": true, \"x\": 2, \"xref\": \"x\", \"y\": -4, \"yref\": \"y\"}, {\"arrowcolor\": \"#2a3f5f\", \"arrowhead\": 2, \"arrowwidth\": 1.5, \"ax\": -3.5, \"axref\": \"x\", \"ay\": 0, \"ayref\": \"y\", \"x\": 5.5, \"xref\": \"x\", \"y\": 0, \"yref\": \"y\"}, {\"arrowcolor\": \"#2a3f5f\", \"arrowhead\": 2, \"arrowwidth\": 1.5, \"ax\": 0, \"axref\": \"x\", \"ay\": -4.5, \"ayref\": \"y\", \"x\": 0, \"xref\": \"x\", \"y\": 3.5, \"yref\": \"y\"}, {\"arrowhead\": 1, \"showarrow\": false, \"text\": \"$x$\", \"x\": 5.5, \"y\": -0.2}, {\"arrowhead\": 1, \"showarrow\": false, \"text\": \"$y$\", \"x\": -0.2, \"y\": 3.5}], \"font\": {\"color\": \"black\", \"family\": \"latex\", \"size\": 20}, \"height\": 480, \"legend\": {\"itemdoubleclick\": \"toggle\", \"orientation\": \"h\", \"x\": 1, \"xanchor\": \"right\", \"y\": 1.02, \"yanchor\": \"bottom\"}, \"showlegend\": true, \"template\": {\"data\": {\"bar\": [{\"error_x\": {\"color\": \"#2a3f5f\"}, \"error_y\": {\"color\": \"#2a3f5f\"}, \"marker\": {\"line\": {\"color\": \"#E5ECF6\", \"width\": 0.5}}, \"type\": \"bar\"}], \"barpolar\": [{\"marker\": {\"line\": {\"color\": \"#E5ECF6\", \"width\": 0.5}}, \"type\": \"barpolar\"}], \"carpet\": [{\"aaxis\": {\"endlinecolor\": \"#2a3f5f\", \"gridcolor\": \"white\", \"linecolor\": \"white\", \"minorgridcolor\": \"white\", \"startlinecolor\": \"#2a3f5f\"}, \"baxis\": {\"endlinecolor\": \"#2a3f5f\", \"gridcolor\": \"white\", \"linecolor\": \"white\", \"minorgridcolor\": \"white\", \"startlinecolor\": \"#2a3f5f\"}, \"type\": \"carpet\"}], \"choropleth\": [{\"colorbar\": {\"outlinewidth\": 0, \"ticks\": \"\"}, \"type\": \"choropleth\"}], \"contour\": [{\"colorbar\": {\"outlinewidth\": 0, \"ticks\": \"\"}, \"colorscale\": [[0.0, \"#0d0887\"], [0.1111111111111111, \"#46039f\"], [0.2222222222222222, \"#7201a8\"], [0.3333333333333333, \"#9c179e\"], [0.4444444444444444, \"#bd3786\"], [0.5555555555555556, \"#d8576b\"], [0.6666666666666666, \"#ed7953\"], [0.7777777777777778, \"#fb9f3a\"], [0.8888888888888888, \"#fdca26\"], [1.0, \"#f0f921\"]], \"type\": \"contour\"}], \"contourcarpet\": [{\"colorbar\": {\"outlinewidth\": 0, \"ticks\": \"\"}, \"type\": \"contourcarpet\"}], \"heatmap\": [{\"colorbar\": {\"outlinewidth\": 0, \"ticks\": \"\"}, \"colorscale\": [[0.0, \"#0d0887\"], [0.1111111111111111, \"#46039f\"], [0.2222222222222222, \"#7201a8\"], [0.3333333333333333, \"#9c179e\"], [0.4444444444444444, \"#bd3786\"], [0.5555555555555556, \"#d8576b\"], [0.6666666666666666, \"#ed7953\"], [0.7777777777777778, \"#fb9f3a\"], [0.8888888888888888, \"#fdca26\"], [1.0, \"#f0f921\"]], \"type\": \"heatmap\"}], \"heatmapgl\": [{\"colorbar\": {\"outlinewidth\": 0, \"ticks\": \"\"}, \"colorscale\": [[0.0, \"#0d0887\"], [0.1111111111111111, \"#46039f\"], [0.2222222222222222, \"#7201a8\"], [0.3333333333333333, \"#9c179e\"], [0.4444444444444444, \"#bd3786\"], [0.5555555555555556, \"#d8576b\"], [0.6666666666666666, \"#ed7953\"], [0.7777777777777778, \"#fb9f3a\"], [0.8888888888888888, \"#fdca26\"], [1.0, \"#f0f921\"]], \"type\": \"heatmapgl\"}], \"histogram\": [{\"marker\": {\"colorbar\": {\"outlinewidth\": 0, \"ticks\": \"\"}}, \"type\": \"histogram\"}], \"histogram2d\": [{\"colorbar\": {\"outlinewidth\": 0, \"ticks\": \"\"}, \"colorscale\": [[0.0, \"#0d0887\"], [0.1111111111111111, \"#46039f\"], [0.2222222222222222, \"#7201a8\"], [0.3333333333333333, \"#9c179e\"], [0.4444444444444444, \"#bd3786\"], [0.5555555555555556, \"#d8576b\"], [0.6666666666666666, \"#ed7953\"], [0.7777777777777778, \"#fb9f3a\"], [0.8888888888888888, \"#fdca26\"], [1.0, \"#f0f921\"]], \"type\": \"histogram2d\"}], \"histogram2dcontour\": [{\"colorbar\": {\"outlinewidth\": 0, \"ticks\": \"\"}, \"colorscale\": [[0.0, \"#0d0887\"], [0.1111111111111111, \"#46039f\"], [0.2222222222222222, \"#7201a8\"], [0.3333333333333333, \"#9c179e\"], [0.4444444444444444, \"#bd3786\"], [0.5555555555555556, \"#d8576b\"], [0.6666666666666666, \"#ed7953\"], [0.7777777777777778, \"#fb9f3a\"], [0.8888888888888888, \"#fdca26\"], [1.0, \"#f0f921\"]], \"type\": \"histogram2dcontour\"}], \"mesh3d\": [{\"colorbar\": {\"outlinewidth\": 0, \"ticks\": \"\"}, \"type\": \"mesh3d\"}], \"parcoords\": [{\"line\": {\"colorbar\": {\"outlinewidth\": 0, \"ticks\": \"\"}}, \"type\": \"parcoords\"}], \"pie\": [{\"automargin\": true, \"type\": \"pie\"}], \"scatter\": [{\"marker\": {\"colorbar\": {\"outlinewidth\": 0, \"ticks\": \"\"}}, \"type\": \"scatter\"}], \"scatter3d\": [{\"line\": {\"colorbar\": {\"outlinewidth\": 0, \"ticks\": \"\"}}, \"marker\": {\"colorbar\": {\"outlinewidth\": 0, \"ticks\": \"\"}}, \"type\": \"scatter3d\"}], \"scattercarpet\": [{\"marker\": {\"colorbar\": {\"outlinewidth\": 0, \"ticks\": \"\"}}, \"type\": \"scattercarpet\"}], \"scattergeo\": [{\"marker\": {\"colorbar\": {\"outlinewidth\": 0, \"ticks\": \"\"}}, \"type\": \"scattergeo\"}], \"scattergl\": [{\"marker\": {\"colorbar\": {\"outlinewidth\": 0, \"ticks\": \"\"}}, \"type\": \"scattergl\"}], \"scattermapbox\": [{\"marker\": {\"colorbar\": {\"outlinewidth\": 0, \"ticks\": \"\"}}, \"type\": \"scattermapbox\"}], \"scatterpolar\": [{\"marker\": {\"colorbar\": {\"outlinewidth\": 0, \"ticks\": \"\"}}, \"type\": \"scatterpolar\"}], \"scatterpolargl\": [{\"marker\": {\"colorbar\": {\"outlinewidth\": 0, \"ticks\": \"\"}}, \"type\": \"scatterpolargl\"}], \"scatterternary\": [{\"marker\": {\"colorbar\": {\"outlinewidth\": 0, \"ticks\": \"\"}}, \"type\": \"scatterternary\"}], \"surface\": [{\"colorbar\": {\"outlinewidth\": 0, \"ticks\": \"\"}, \"colorscale\": [[0.0, \"#0d0887\"], [0.1111111111111111, \"#46039f\"], [0.2222222222222222, \"#7201a8\"], [0.3333333333333333, \"#9c179e\"], [0.4444444444444444, \"#bd3786\"], [0.5555555555555556, \"#d8576b\"], [0.6666666666666666, \"#ed7953\"], [0.7777777777777778, \"#fb9f3a\"], [0.8888888888888888, \"#fdca26\"], [1.0, \"#f0f921\"]], \"type\": \"surface\"}], \"table\": [{\"cells\": {\"fill\": {\"color\": \"#EBF0F8\"}, \"line\": {\"color\": \"white\"}}, \"header\": {\"fill\": {\"color\": \"#C8D4E3\"}, \"line\": {\"color\": \"white\"}}, \"type\": \"table\"}]}, \"layout\": {\"annotationdefaults\": {\"arrowcolor\": \"#2a3f5f\", \"arrowhead\": 0, \"arrowwidth\": 1}, \"coloraxis\": {\"colorbar\": {\"outlinewidth\": 0, \"ticks\": \"\"}}, \"colorscale\": {\"diverging\": [[0, \"#8e0152\"], [0.1, \"#c51b7d\"], [0.2, \"#de77ae\"], [0.3, \"#f1b6da\"], [0.4, \"#fde0ef\"], [0.5, \"#f7f7f7\"], [0.6, \"#e6f5d0\"], [0.7, \"#b8e186\"], [0.8, \"#7fbc41\"], [0.9, \"#4d9221\"], [1, \"#276419\"]], \"sequential\": [[0.0, \"#0d0887\"], [0.1111111111111111, \"#46039f\"], [0.2222222222222222, \"#7201a8\"], [0.3333333333333333, \"#9c179e\"], [0.4444444444444444, \"#bd3786\"], [0.5555555555555556, \"#d8576b\"], [0.6666666666666666, \"#ed7953\"], [0.7777777777777778, \"#fb9f3a\"], [0.8888888888888888, \"#fdca26\"], [1.0, \"#f0f921\"]], \"sequentialminus\": [[0.0, \"#0d0887\"], [0.1111111111111111, \"#46039f\"], [0.2222222222222222, \"#7201a8\"], [0.3333333333333333, \"#9c179e\"], [0.4444444444444444, \"#bd3786\"], [0.5555555555555556, \"#d8576b\"], [0.6666666666666666, \"#ed7953\"], [0.7777777777777778, \"#fb9f3a\"], [0.8888888888888888, \"#fdca26\"], [1.0, \"#f0f921\"]]}, \"colorway\": [\"#636efa\", \"#EF553B\", \"#00cc96\", \"#ab63fa\", \"#FFA15A\", \"#19d3f3\", \"#FF6692\", \"#B6E880\", \"#FF97FF\", \"#FECB52\"], \"font\": {\"color\": \"#2a3f5f\"}, \"geo\": {\"bgcolor\": \"white\", \"lakecolor\": \"white\", \"landcolor\": \"#E5ECF6\", \"showlakes\": true, \"showland\": true, \"subunitcolor\": \"white\"}, \"hoverlabel\": {\"align\": \"left\"}, \"hovermode\": \"closest\", \"mapbox\": {\"style\": \"light\"}, \"paper_bgcolor\": \"white\", \"plot_bgcolor\": \"#E5ECF6\", \"polar\": {\"angularaxis\": {\"gridcolor\": \"white\", \"linecolor\": \"white\", \"ticks\": \"\"}, \"bgcolor\": \"#E5ECF6\", \"radialaxis\": {\"gridcolor\": \"white\", \"linecolor\": \"white\", \"ticks\": \"\"}}, \"scene\": {\"xaxis\": {\"backgroundcolor\": \"#E5ECF6\", \"gridcolor\": \"white\", \"gridwidth\": 2, \"linecolor\": \"white\", \"showbackground\": true, \"ticks\": \"\", \"zerolinecolor\": \"white\"}, \"yaxis\": {\"backgroundcolor\": \"#E5ECF6\", \"gridcolor\": \"white\", \"gridwidth\": 2, \"linecolor\": \"white\", \"showbackground\": true, \"ticks\": \"\", \"zerolinecolor\": \"white\"}, \"zaxis\": {\"backgroundcolor\": \"#E5ECF6\", \"gridcolor\": \"white\", \"gridwidth\": 2, \"linecolor\": \"white\", \"showbackground\": true, \"ticks\": \"\", \"zerolinecolor\": \"white\"}}, \"shapedefaults\": {\"line\": {\"color\": \"#2a3f5f\"}}, \"ternary\": {\"aaxis\": {\"gridcolor\": \"white\", \"linecolor\": \"white\", \"ticks\": \"\"}, \"baxis\": {\"gridcolor\": \"white\", \"linecolor\": \"white\", \"ticks\": \"\"}, \"bgcolor\": \"#E5ECF6\", \"caxis\": {\"gridcolor\": \"white\", \"linecolor\": \"white\", \"ticks\": \"\"}}, \"title\": {\"x\": 0.05}, \"xaxis\": {\"automargin\": true, \"gridcolor\": \"white\", \"linecolor\": \"white\", \"ticks\": \"\", \"title\": {\"standoff\": 15}, \"zerolinecolor\": \"white\", \"zerolinewidth\": 2}, \"yaxis\": {\"automargin\": true, \"gridcolor\": \"white\", \"linecolor\": \"white\", \"ticks\": \"\", \"title\": {\"standoff\": 15}, \"zerolinecolor\": \"white\", \"zerolinewidth\": 2}}}, \"title\": {\"font\": {\"color\": \"rgb(1,21,51)\", \"size\": 30}}, \"width\": 500, \"xaxis\": {\"range\": [-3.5, 5.5], \"showgrid\": true, \"title\": {\"font\": {\"color\": \"rgb(1,21,51)\", \"family\": \"latex\", \"size\": 30}, \"text\": \"$\\\\large{x}$\"}}, \"yaxis\": {\"range\": [-4.4, 3.5], \"showgrid\": true, \"title\": {\"font\": {\"color\": \"rgb(1,21,51)\", \"family\": \"latex\", \"size\": 30}, \"text\": \"$\\\\large{y}$\"}}},\n",
              "                        {\"responsive\": true}\n",
              "                    ).then(function(){\n",
              "                            \n",
              "var gd = document.getElementById('1b996fb5-f152-44c3-a64e-a7514c4825b5');\n",
              "var x = new MutationObserver(function (mutations, observer) {{\n",
              "        var display = window.getComputedStyle(gd).display;\n",
              "        if (!display || display === 'none') {{\n",
              "            console.log([gd, 'removed!']);\n",
              "            Plotly.purge(gd);\n",
              "            observer.disconnect();\n",
              "        }}\n",
              "}});\n",
              "\n",
              "// Listen for the removal of the full notebook cells\n",
              "var notebookContainer = gd.closest('#notebook-container');\n",
              "if (notebookContainer) {{\n",
              "    x.observe(notebookContainer, {childList: true});\n",
              "}}\n",
              "\n",
              "// Listen for the clearing of the current output cell\n",
              "var outputEl = gd.closest('.output');\n",
              "if (outputEl) {{\n",
              "    x.observe(outputEl, {childList: true});\n",
              "}}\n",
              "\n",
              "                        })\n",
              "                };\n",
              "                \n",
              "            </script>\n",
              "        </div>\n",
              "</body>\n",
              "</html>"
            ]
          },
          "metadata": {
            "tags": []
          }
        }
      ]
    },
    {
      "cell_type": "markdown",
      "metadata": {
        "id": "XdQplWz_sGwV"
      },
      "source": [
        "## **DEFINICIÓN DE LA FUNCIÓN PARA GRAFICAR MULTIPLES VECTORES EN EL ESPACIO**\n",
        "La función tiene como sintaxis plotvectors3D permite graficar multiples vectores en el plano cartesiano."
      ]
    },
    {
      "cell_type": "code",
      "metadata": {
        "id": "t0eumCCOnLUR"
      },
      "source": [
        "import plotly.graph_objs as go\n",
        "from plotly.offline import plot\n",
        "\n",
        "\n",
        "def plotvectors3D(*args):\n",
        "    '''Función elaborada en el módulo plotly para realizar la gráfica de multiples vectores en el espacio'''\n",
        "    data = []\n",
        "    x = [0]\n",
        "    y = [0]\n",
        "    z = [0.3,-0.3]\n",
        "    for V in args:\n",
        "        x.append(V[0])\n",
        "        y.append(V[1])\n",
        "        z.append(V[2])\n",
        "        color = randomRgbaColor()\n",
        "        vector = go.Scatter3d( \n",
        "        x = [0,V[0]],\n",
        "        y = [0,V[1]],\n",
        "        z = [0,V[2]],\n",
        "        marker = dict( size = 1,color= color),\n",
        "        line = dict( color= color, width = 7),name=\"vector \"+ str(args.index(V)+1))\n",
        "        \n",
        "        paleta = [[0, color],[1, color]]\n",
        "\n",
        "        cono = go.Cone(x=[V[0]], y=[V[1]], z=[V[2]], u=[V[0]], v=[V[1]], w=[V[2]],sizemode=\"absolute\",sizeref=0.5,anchor=\"cm\",\n",
        "               showscale=False,\n",
        "               colorscale=paleta,\n",
        "               colorbar=dict(thickness=20, ticklen=4),\n",
        "               name=\"vector \"+ str(args.index(V)+1))\n",
        "        \n",
        "        data += [vector,cono]\n",
        "        layout = go.Layout(margin = dict( l = 0,r = 0,b = 0,t = 0))\n",
        "\n",
        "    paleta2 = [[0, \"#2a3f5f\"],[1, \"#2a3f5f\"]]\n",
        "    point = go.Scatter3d( x = [0],y = [0],z = [0], mode='markers',marker=dict(color= \"#2a3f5f\",size=5),showlegend=True,name=\"origen\")\n",
        "    \n",
        "    axex = go.Scatter3d( \n",
        "        x = [min(x), max(x)],\n",
        "        y = [0,0],\n",
        "        z = [0,0],\n",
        "        hoverinfo = \"skip\",\n",
        "        marker = dict( size = 1,color= \"#2a3f5f\"),\n",
        "        line = dict( color= \"#2a3f5f\", width = 3), showlegend=False,name=\"\")\n",
        "    \n",
        "    \n",
        "    conox = go.Cone(x=[max(x)], y=[0], z=[0], u=[max(x)], v=[0], w=[0],sizemode=\"absolute\",sizeref=0.3,anchor=\"cm\",\n",
        "               showscale=False,\n",
        "               colorscale=paleta2,\n",
        "               hoverinfo = \"name\",\n",
        "               colorbar=dict(thickness=20, ticklen=4),name=\"Eje x-positivo\")\n",
        "    \n",
        "    axey = go.Scatter3d( \n",
        "        x = [0,0],\n",
        "        y = [min(y),max(y)],\n",
        "        z = [0,0],\n",
        "        hoverinfo = \"skip\",\n",
        "        marker = dict( size = 1,color=\"#2a3f5f\"),\n",
        "        line = dict( color= \"#2a3f5f\", width = 3), showlegend=False,name=\"\")\n",
        "    \n",
        "    conoy = go.Cone(x=[0], y=[max(y)], z=[0], u=[0], v=[max(y)], w=[0],sizemode=\"absolute\",sizeref=0.3,anchor=\"cm\",\n",
        "               showscale=False,\n",
        "               colorscale=paleta2,\n",
        "               hoverinfo = \"name\",\n",
        "               colorbar=dict(thickness=20, ticklen=4),\n",
        "               name=\"Eje y-positivo \")\n",
        "    \n",
        "    axez = go.Scatter3d( \n",
        "        x = [0,0],\n",
        "        y = [0,0],\n",
        "        z = [min(z)-0.5,max(z)],\n",
        "        hoverinfo = \"skip\",\n",
        "        marker = dict( size = 1,color= \"#2a3f5f\"),\n",
        "        line = dict( color= \"#2a3f5f\", width = 3), showlegend=False,name=\"eje z-positivo\")\n",
        "    \n",
        "    conoz = go.Cone(x=[0], y=[0], z=[max(z)], u=[0], v=[0], w=[max(z)],sizemode=\"absolute\",sizeref=0.3,anchor=\"cm\",\n",
        "               showscale=False,\n",
        "               colorscale=paleta2,\n",
        "               hoverinfo= \"name\",\n",
        "               colorbar=dict(thickness=20, ticklen=4),\n",
        "               name=\"Eje z-positivo\")\n",
        "    \n",
        "\n",
        "    fig = go.Figure(data= data + [point, axex, conox, axey, conoy, axez,conoz] ,layout=layout)\n",
        "\n",
        "\n",
        "    fig.update_layout(legend=dict(orientation=\"h\",y=1.3,x=0.03),title_font=dict(size=50, color='rgb(1,21,51)'),showlegend=True,width=480, height=480)\n",
        "\n",
        "\n",
        "    plot(fig,image_height=800,image_width=800)\n",
        "    fig.show()"
      ],
      "execution_count": 65,
      "outputs": []
    },
    {
      "cell_type": "code",
      "metadata": {
        "colab": {
          "base_uri": "https://localhost:8080/",
          "height": 497
        },
        "id": "LJfxpinipj45",
        "outputId": "6cbbb13a-28db-4bbd-ffc1-68a842dcfe01"
      },
      "source": [
        "plotvectors3D([1,2,-3],[2,-3,1])"
      ],
      "execution_count": 66,
      "outputs": [
        {
          "output_type": "display_data",
          "data": {
            "text/html": [
              "<html>\n",
              "<head><meta charset=\"utf-8\" /></head>\n",
              "<body>\n",
              "    <div>\n",
              "            <script src=\"https://cdnjs.cloudflare.com/ajax/libs/mathjax/2.7.5/MathJax.js?config=TeX-AMS-MML_SVG\"></script><script type=\"text/javascript\">if (window.MathJax) {MathJax.Hub.Config({SVG: {font: \"STIX-Web\"}});}</script>\n",
              "                <script type=\"text/javascript\">window.PlotlyConfig = {MathJaxConfig: 'local'};</script>\n",
              "        <script src=\"https://cdn.plot.ly/plotly-latest.min.js\"></script>    \n",
              "            <div id=\"be190d75-dc44-4849-8746-1b80da3e6160\" class=\"plotly-graph-div\" style=\"height:480px; width:480px;\"></div>\n",
              "            <script type=\"text/javascript\">\n",
              "                \n",
              "                    window.PLOTLYENV=window.PLOTLYENV || {};\n",
              "                    \n",
              "                if (document.getElementById(\"be190d75-dc44-4849-8746-1b80da3e6160\")) {\n",
              "                    Plotly.newPlot(\n",
              "                        'be190d75-dc44-4849-8746-1b80da3e6160',\n",
              "                        [{\"line\": {\"color\": \"rgb(35,150,87)\", \"width\": 7}, \"marker\": {\"color\": \"rgb(35,150,87)\", \"size\": 1}, \"name\": \"vector 1\", \"type\": \"scatter3d\", \"x\": [0, 1], \"y\": [0, 2], \"z\": [0, -3]}, {\"anchor\": \"cm\", \"colorbar\": {\"thickness\": 20, \"ticklen\": 4}, \"colorscale\": [[0, \"rgb(35,150,87)\"], [1, \"rgb(35,150,87)\"]], \"name\": \"vector 1\", \"showscale\": false, \"sizemode\": \"absolute\", \"sizeref\": 0.5, \"type\": \"cone\", \"u\": [1], \"v\": [2], \"w\": [-3], \"x\": [1], \"y\": [2], \"z\": [-3]}, {\"line\": {\"color\": \"rgb(65,213,5)\", \"width\": 7}, \"marker\": {\"color\": \"rgb(65,213,5)\", \"size\": 1}, \"name\": \"vector 2\", \"type\": \"scatter3d\", \"x\": [0, 2], \"y\": [0, -3], \"z\": [0, 1]}, {\"anchor\": \"cm\", \"colorbar\": {\"thickness\": 20, \"ticklen\": 4}, \"colorscale\": [[0, \"rgb(65,213,5)\"], [1, \"rgb(65,213,5)\"]], \"name\": \"vector 2\", \"showscale\": false, \"sizemode\": \"absolute\", \"sizeref\": 0.5, \"type\": \"cone\", \"u\": [2], \"v\": [-3], \"w\": [1], \"x\": [2], \"y\": [-3], \"z\": [1]}, {\"marker\": {\"color\": \"#2a3f5f\", \"size\": 5}, \"mode\": \"markers\", \"name\": \"origen\", \"showlegend\": true, \"type\": \"scatter3d\", \"x\": [0], \"y\": [0], \"z\": [0]}, {\"hoverinfo\": \"skip\", \"line\": {\"color\": \"#2a3f5f\", \"width\": 3}, \"marker\": {\"color\": \"#2a3f5f\", \"size\": 1}, \"name\": \"\", \"showlegend\": false, \"type\": \"scatter3d\", \"x\": [0, 2], \"y\": [0, 0], \"z\": [0, 0]}, {\"anchor\": \"cm\", \"colorbar\": {\"thickness\": 20, \"ticklen\": 4}, \"colorscale\": [[0, \"#2a3f5f\"], [1, \"#2a3f5f\"]], \"hoverinfo\": \"name\", \"name\": \"Eje x-positivo\", \"showscale\": false, \"sizemode\": \"absolute\", \"sizeref\": 0.3, \"type\": \"cone\", \"u\": [2], \"v\": [0], \"w\": [0], \"x\": [2], \"y\": [0], \"z\": [0]}, {\"hoverinfo\": \"skip\", \"line\": {\"color\": \"#2a3f5f\", \"width\": 3}, \"marker\": {\"color\": \"#2a3f5f\", \"size\": 1}, \"name\": \"\", \"showlegend\": false, \"type\": \"scatter3d\", \"x\": [0, 0], \"y\": [-3, 2], \"z\": [0, 0]}, {\"anchor\": \"cm\", \"colorbar\": {\"thickness\": 20, \"ticklen\": 4}, \"colorscale\": [[0, \"#2a3f5f\"], [1, \"#2a3f5f\"]], \"hoverinfo\": \"name\", \"name\": \"Eje y-positivo \", \"showscale\": false, \"sizemode\": \"absolute\", \"sizeref\": 0.3, \"type\": \"cone\", \"u\": [0], \"v\": [2], \"w\": [0], \"x\": [0], \"y\": [2], \"z\": [0]}, {\"hoverinfo\": \"skip\", \"line\": {\"color\": \"#2a3f5f\", \"width\": 3}, \"marker\": {\"color\": \"#2a3f5f\", \"size\": 1}, \"name\": \"eje z-positivo\", \"showlegend\": false, \"type\": \"scatter3d\", \"x\": [0, 0], \"y\": [0, 0], \"z\": [-3.5, 1]}, {\"anchor\": \"cm\", \"colorbar\": {\"thickness\": 20, \"ticklen\": 4}, \"colorscale\": [[0, \"#2a3f5f\"], [1, \"#2a3f5f\"]], \"hoverinfo\": \"name\", \"name\": \"Eje z-positivo\", \"showscale\": false, \"sizemode\": \"absolute\", \"sizeref\": 0.3, \"type\": \"cone\", \"u\": [0], \"v\": [0], \"w\": [1], \"x\": [0], \"y\": [0], \"z\": [1]}],\n",
              "                        {\"height\": 480, \"legend\": {\"orientation\": \"h\", \"x\": 0.03, \"y\": 1.3}, \"margin\": {\"b\": 0, \"l\": 0, \"r\": 0, \"t\": 0}, \"showlegend\": true, \"template\": {\"data\": {\"bar\": [{\"error_x\": {\"color\": \"#2a3f5f\"}, \"error_y\": {\"color\": \"#2a3f5f\"}, \"marker\": {\"line\": {\"color\": \"#E5ECF6\", \"width\": 0.5}}, \"type\": \"bar\"}], \"barpolar\": [{\"marker\": {\"line\": {\"color\": \"#E5ECF6\", \"width\": 0.5}}, \"type\": \"barpolar\"}], \"carpet\": [{\"aaxis\": {\"endlinecolor\": \"#2a3f5f\", \"gridcolor\": \"white\", \"linecolor\": \"white\", \"minorgridcolor\": \"white\", \"startlinecolor\": \"#2a3f5f\"}, \"baxis\": {\"endlinecolor\": \"#2a3f5f\", \"gridcolor\": \"white\", \"linecolor\": \"white\", \"minorgridcolor\": \"white\", \"startlinecolor\": \"#2a3f5f\"}, \"type\": \"carpet\"}], \"choropleth\": [{\"colorbar\": {\"outlinewidth\": 0, \"ticks\": \"\"}, \"type\": \"choropleth\"}], \"contour\": [{\"colorbar\": {\"outlinewidth\": 0, \"ticks\": \"\"}, \"colorscale\": [[0.0, \"#0d0887\"], [0.1111111111111111, \"#46039f\"], [0.2222222222222222, \"#7201a8\"], [0.3333333333333333, \"#9c179e\"], [0.4444444444444444, \"#bd3786\"], [0.5555555555555556, \"#d8576b\"], [0.6666666666666666, \"#ed7953\"], [0.7777777777777778, \"#fb9f3a\"], [0.8888888888888888, \"#fdca26\"], [1.0, \"#f0f921\"]], \"type\": \"contour\"}], \"contourcarpet\": [{\"colorbar\": {\"outlinewidth\": 0, \"ticks\": \"\"}, \"type\": \"contourcarpet\"}], \"heatmap\": [{\"colorbar\": {\"outlinewidth\": 0, \"ticks\": \"\"}, \"colorscale\": [[0.0, \"#0d0887\"], [0.1111111111111111, \"#46039f\"], [0.2222222222222222, \"#7201a8\"], [0.3333333333333333, \"#9c179e\"], [0.4444444444444444, \"#bd3786\"], [0.5555555555555556, \"#d8576b\"], [0.6666666666666666, \"#ed7953\"], [0.7777777777777778, \"#fb9f3a\"], [0.8888888888888888, \"#fdca26\"], [1.0, \"#f0f921\"]], \"type\": \"heatmap\"}], \"heatmapgl\": [{\"colorbar\": {\"outlinewidth\": 0, \"ticks\": \"\"}, \"colorscale\": [[0.0, \"#0d0887\"], [0.1111111111111111, \"#46039f\"], [0.2222222222222222, \"#7201a8\"], [0.3333333333333333, \"#9c179e\"], [0.4444444444444444, \"#bd3786\"], [0.5555555555555556, \"#d8576b\"], [0.6666666666666666, \"#ed7953\"], [0.7777777777777778, \"#fb9f3a\"], [0.8888888888888888, \"#fdca26\"], [1.0, \"#f0f921\"]], \"type\": \"heatmapgl\"}], \"histogram\": [{\"marker\": {\"colorbar\": {\"outlinewidth\": 0, \"ticks\": \"\"}}, \"type\": \"histogram\"}], \"histogram2d\": [{\"colorbar\": {\"outlinewidth\": 0, \"ticks\": \"\"}, \"colorscale\": [[0.0, \"#0d0887\"], [0.1111111111111111, \"#46039f\"], [0.2222222222222222, \"#7201a8\"], [0.3333333333333333, \"#9c179e\"], [0.4444444444444444, \"#bd3786\"], [0.5555555555555556, \"#d8576b\"], [0.6666666666666666, \"#ed7953\"], [0.7777777777777778, \"#fb9f3a\"], [0.8888888888888888, \"#fdca26\"], [1.0, \"#f0f921\"]], \"type\": \"histogram2d\"}], \"histogram2dcontour\": [{\"colorbar\": {\"outlinewidth\": 0, \"ticks\": \"\"}, \"colorscale\": [[0.0, \"#0d0887\"], [0.1111111111111111, \"#46039f\"], [0.2222222222222222, \"#7201a8\"], [0.3333333333333333, \"#9c179e\"], [0.4444444444444444, \"#bd3786\"], [0.5555555555555556, \"#d8576b\"], [0.6666666666666666, \"#ed7953\"], [0.7777777777777778, \"#fb9f3a\"], [0.8888888888888888, \"#fdca26\"], [1.0, \"#f0f921\"]], \"type\": \"histogram2dcontour\"}], \"mesh3d\": [{\"colorbar\": {\"outlinewidth\": 0, \"ticks\": \"\"}, \"type\": \"mesh3d\"}], \"parcoords\": [{\"line\": {\"colorbar\": {\"outlinewidth\": 0, \"ticks\": \"\"}}, \"type\": \"parcoords\"}], \"pie\": [{\"automargin\": true, \"type\": \"pie\"}], \"scatter\": [{\"marker\": {\"colorbar\": {\"outlinewidth\": 0, \"ticks\": \"\"}}, \"type\": \"scatter\"}], \"scatter3d\": [{\"line\": {\"colorbar\": {\"outlinewidth\": 0, \"ticks\": \"\"}}, \"marker\": {\"colorbar\": {\"outlinewidth\": 0, \"ticks\": \"\"}}, \"type\": \"scatter3d\"}], \"scattercarpet\": [{\"marker\": {\"colorbar\": {\"outlinewidth\": 0, \"ticks\": \"\"}}, \"type\": \"scattercarpet\"}], \"scattergeo\": [{\"marker\": {\"colorbar\": {\"outlinewidth\": 0, \"ticks\": \"\"}}, \"type\": \"scattergeo\"}], \"scattergl\": [{\"marker\": {\"colorbar\": {\"outlinewidth\": 0, \"ticks\": \"\"}}, \"type\": \"scattergl\"}], \"scattermapbox\": [{\"marker\": {\"colorbar\": {\"outlinewidth\": 0, \"ticks\": \"\"}}, \"type\": \"scattermapbox\"}], \"scatterpolar\": [{\"marker\": {\"colorbar\": {\"outlinewidth\": 0, \"ticks\": \"\"}}, \"type\": \"scatterpolar\"}], \"scatterpolargl\": [{\"marker\": {\"colorbar\": {\"outlinewidth\": 0, \"ticks\": \"\"}}, \"type\": \"scatterpolargl\"}], \"scatterternary\": [{\"marker\": {\"colorbar\": {\"outlinewidth\": 0, \"ticks\": \"\"}}, \"type\": \"scatterternary\"}], \"surface\": [{\"colorbar\": {\"outlinewidth\": 0, \"ticks\": \"\"}, \"colorscale\": [[0.0, \"#0d0887\"], [0.1111111111111111, \"#46039f\"], [0.2222222222222222, \"#7201a8\"], [0.3333333333333333, \"#9c179e\"], [0.4444444444444444, \"#bd3786\"], [0.5555555555555556, \"#d8576b\"], [0.6666666666666666, \"#ed7953\"], [0.7777777777777778, \"#fb9f3a\"], [0.8888888888888888, \"#fdca26\"], [1.0, \"#f0f921\"]], \"type\": \"surface\"}], \"table\": [{\"cells\": {\"fill\": {\"color\": \"#EBF0F8\"}, \"line\": {\"color\": \"white\"}}, \"header\": {\"fill\": {\"color\": \"#C8D4E3\"}, \"line\": {\"color\": \"white\"}}, \"type\": \"table\"}]}, \"layout\": {\"annotationdefaults\": {\"arrowcolor\": \"#2a3f5f\", \"arrowhead\": 0, \"arrowwidth\": 1}, \"coloraxis\": {\"colorbar\": {\"outlinewidth\": 0, \"ticks\": \"\"}}, \"colorscale\": {\"diverging\": [[0, \"#8e0152\"], [0.1, \"#c51b7d\"], [0.2, \"#de77ae\"], [0.3, \"#f1b6da\"], [0.4, \"#fde0ef\"], [0.5, \"#f7f7f7\"], [0.6, \"#e6f5d0\"], [0.7, \"#b8e186\"], [0.8, \"#7fbc41\"], [0.9, \"#4d9221\"], [1, \"#276419\"]], \"sequential\": [[0.0, \"#0d0887\"], [0.1111111111111111, \"#46039f\"], [0.2222222222222222, \"#7201a8\"], [0.3333333333333333, \"#9c179e\"], [0.4444444444444444, \"#bd3786\"], [0.5555555555555556, \"#d8576b\"], [0.6666666666666666, \"#ed7953\"], [0.7777777777777778, \"#fb9f3a\"], [0.8888888888888888, \"#fdca26\"], [1.0, \"#f0f921\"]], \"sequentialminus\": [[0.0, \"#0d0887\"], [0.1111111111111111, \"#46039f\"], [0.2222222222222222, \"#7201a8\"], [0.3333333333333333, \"#9c179e\"], [0.4444444444444444, \"#bd3786\"], [0.5555555555555556, \"#d8576b\"], [0.6666666666666666, \"#ed7953\"], [0.7777777777777778, \"#fb9f3a\"], [0.8888888888888888, \"#fdca26\"], [1.0, \"#f0f921\"]]}, \"colorway\": [\"#636efa\", \"#EF553B\", \"#00cc96\", \"#ab63fa\", \"#FFA15A\", \"#19d3f3\", \"#FF6692\", \"#B6E880\", \"#FF97FF\", \"#FECB52\"], \"font\": {\"color\": \"#2a3f5f\"}, \"geo\": {\"bgcolor\": \"white\", \"lakecolor\": \"white\", \"landcolor\": \"#E5ECF6\", \"showlakes\": true, \"showland\": true, \"subunitcolor\": \"white\"}, \"hoverlabel\": {\"align\": \"left\"}, \"hovermode\": \"closest\", \"mapbox\": {\"style\": \"light\"}, \"paper_bgcolor\": \"white\", \"plot_bgcolor\": \"#E5ECF6\", \"polar\": {\"angularaxis\": {\"gridcolor\": \"white\", \"linecolor\": \"white\", \"ticks\": \"\"}, \"bgcolor\": \"#E5ECF6\", \"radialaxis\": {\"gridcolor\": \"white\", \"linecolor\": \"white\", \"ticks\": \"\"}}, \"scene\": {\"xaxis\": {\"backgroundcolor\": \"#E5ECF6\", \"gridcolor\": \"white\", \"gridwidth\": 2, \"linecolor\": \"white\", \"showbackground\": true, \"ticks\": \"\", \"zerolinecolor\": \"white\"}, \"yaxis\": {\"backgroundcolor\": \"#E5ECF6\", \"gridcolor\": \"white\", \"gridwidth\": 2, \"linecolor\": \"white\", \"showbackground\": true, \"ticks\": \"\", \"zerolinecolor\": \"white\"}, \"zaxis\": {\"backgroundcolor\": \"#E5ECF6\", \"gridcolor\": \"white\", \"gridwidth\": 2, \"linecolor\": \"white\", \"showbackground\": true, \"ticks\": \"\", \"zerolinecolor\": \"white\"}}, \"shapedefaults\": {\"line\": {\"color\": \"#2a3f5f\"}}, \"ternary\": {\"aaxis\": {\"gridcolor\": \"white\", \"linecolor\": \"white\", \"ticks\": \"\"}, \"baxis\": {\"gridcolor\": \"white\", \"linecolor\": \"white\", \"ticks\": \"\"}, \"bgcolor\": \"#E5ECF6\", \"caxis\": {\"gridcolor\": \"white\", \"linecolor\": \"white\", \"ticks\": \"\"}}, \"title\": {\"x\": 0.05}, \"xaxis\": {\"automargin\": true, \"gridcolor\": \"white\", \"linecolor\": \"white\", \"ticks\": \"\", \"title\": {\"standoff\": 15}, \"zerolinecolor\": \"white\", \"zerolinewidth\": 2}, \"yaxis\": {\"automargin\": true, \"gridcolor\": \"white\", \"linecolor\": \"white\", \"ticks\": \"\", \"title\": {\"standoff\": 15}, \"zerolinecolor\": \"white\", \"zerolinewidth\": 2}}}, \"title\": {\"font\": {\"color\": \"rgb(1,21,51)\", \"size\": 50}}, \"width\": 480},\n",
              "                        {\"responsive\": true}\n",
              "                    ).then(function(){\n",
              "                            \n",
              "var gd = document.getElementById('be190d75-dc44-4849-8746-1b80da3e6160');\n",
              "var x = new MutationObserver(function (mutations, observer) {{\n",
              "        var display = window.getComputedStyle(gd).display;\n",
              "        if (!display || display === 'none') {{\n",
              "            console.log([gd, 'removed!']);\n",
              "            Plotly.purge(gd);\n",
              "            observer.disconnect();\n",
              "        }}\n",
              "}});\n",
              "\n",
              "// Listen for the removal of the full notebook cells\n",
              "var notebookContainer = gd.closest('#notebook-container');\n",
              "if (notebookContainer) {{\n",
              "    x.observe(notebookContainer, {childList: true});\n",
              "}}\n",
              "\n",
              "// Listen for the clearing of the current output cell\n",
              "var outputEl = gd.closest('.output');\n",
              "if (outputEl) {{\n",
              "    x.observe(outputEl, {childList: true});\n",
              "}}\n",
              "\n",
              "                        })\n",
              "                };\n",
              "                \n",
              "            </script>\n",
              "        </div>\n",
              "</body>\n",
              "</html>"
            ]
          },
          "metadata": {
            "tags": []
          }
        }
      ]
    }
  ]
}