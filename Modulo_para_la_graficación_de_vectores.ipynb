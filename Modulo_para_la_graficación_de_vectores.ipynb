{
  "nbformat": 4,
  "nbformat_minor": 0,
  "metadata": {
    "colab": {
      "name": "Modulo para la graficación de vectores.ipynb",
      "provenance": [],
      "collapsed_sections": [],
      "authorship_tag": "ABX9TyPBfiLtedmixzbOsc0LTKkz",
      "include_colab_link": true
    },
    "kernelspec": {
      "name": "python3",
      "display_name": "Python 3"
    },
    "language_info": {
      "name": "python"
    }
  },
  "cells": [
    {
      "cell_type": "markdown",
      "metadata": {
        "id": "view-in-github",
        "colab_type": "text"
      },
      "source": [
        "<a href=\"https://colab.research.google.com/github/josorio398/ALGEBRA-LINEAL-CON-PYTHON/blob/master/Modulo_para_la_graficaci%C3%B3n_de_vectores.ipynb\" target=\"_parent\"><img src=\"https://colab.research.google.com/assets/colab-badge.svg\" alt=\"Open In Colab\"/></a>"
      ]
    },
    {
      "cell_type": "markdown",
      "metadata": {
        "id": "RVxHpsbcExUD"
      },
      "source": [
        "<p><img alt=\"logo.fua\" height=\"100px\" src=\"https://www.uamerica.edu.co/wp-content/images/escudo.png\" align=\"left\" hspace=\"10px\" vspace=\"0px\"></p>\n",
        "\n",
        "<p><img alt=\"logo.fua\" height=\"26px\" src=\"https://mirrors.creativecommons.org/presskit/buttons/88x31/svg/by-nd.svg\" align=\"right\" hspace=\"0px\" vspace=\"11px\"></p>\n",
        "\n",
        "\n",
        "# <center> <font size=\"6\"> &nbsp;  &nbsp; &nbsp;  &nbsp; &nbsp;  &nbsp; &nbsp;  &nbsp; &nbsp;  &nbsp;**ÁLGEBRA LINEAL CON PYTHON &nbsp; &nbsp;&nbsp;&nbsp; &nbsp; &nbsp; &nbsp; &nbsp; &nbsp; &nbsp; &nbsp;     &nbsp; &nbsp;  &nbsp; MÓDULO PARA LA GRAFICACIÓN DE VECTORES** &nbsp;  &nbsp; &nbsp;  &nbsp; &nbsp;  &nbsp; &nbsp;  &nbsp; <center> &nbsp; &nbsp; &nbsp; &nbsp;*Jhonny Osorio Gallego* &nbsp; &nbsp; &nbsp;<p></font> \n"
      ]
    },
    {
      "cell_type": "markdown",
      "metadata": {
        "id": "NuJv09kaL05p"
      },
      "source": [
        "El siguiente módulo esta diseñado haciendo uso de la librería **NumPy** y **Plotly**, pretende servir de apoyo para la representación gráfica de vectores en el plano y el espacio, como estratégia para la enseñanza de los concéptos vectoriales."
      ]
    },
    {
      "cell_type": "markdown",
      "metadata": {
        "id": "pELON3yz_46g"
      },
      "source": [
        "## **FUNCIÓN PARA GENERAR COLORES RGB ALEATORIAMENTE**"
      ]
    },
    {
      "cell_type": "code",
      "metadata": {
        "id": "eNueQhrULGLc"
      },
      "source": [
        "import random \n",
        "def randomRgbaColor(): \n",
        "   r = random.randrange(0, 255) \n",
        "   g = random.randrange(0, 255)  \n",
        "   b =random.randrange(0, 255)\n",
        "   return \"rgb\"+ \"(\" + str(r) + \",\" + str(g) + \",\"+ str(b) + \")\""
      ],
      "execution_count": null,
      "outputs": []
    },
    {
      "cell_type": "markdown",
      "metadata": {
        "id": "trqCkPGoLI42"
      },
      "source": [
        "## **FUNCIÓN PARA GRAFICAR MULTIPLES VECTORES EN EL PLANO**"
      ]
    },
    {
      "cell_type": "code",
      "metadata": {
        "id": "SPozi_Z7LQJ-"
      },
      "source": [
        "import plotly.graph_objects as go\n",
        "import numpy as np\n",
        "\n",
        "\n",
        "def plotvectors2D(*args):\n",
        "    '''Función elaborada en el módulo plotly para realizar la gráfica de multiples vectores en el plano cartesiano'''\n",
        "    \n",
        "    fig = go.Figure()\n",
        "    x = []\n",
        "    y = []\n",
        "    for V in args:\n",
        "        color = randomRgbaColor()\n",
        "        x.append(V[0])\n",
        "        y.append(V[1])\n",
        "        fig.add_trace(go.Scatter(x=[V[0]],y=[V[1]],mode='markers',marker=dict(color= color,size=1,),showlegend=False,name=\"vector \"+ str(args.index(V)+1)))\n",
        "        fig.add_annotation(\n",
        "        x=V[0],  # Coordenada en x cabeza\n",
        "        y=V[1],  # Coordenada en y cabeza\n",
        "        ax=0,  # Coordenada en x de la cola\n",
        "        ay=0,  # Coordenada en x de la cola\n",
        "        xref='x',\n",
        "        yref='y',\n",
        "        axref='x',\n",
        "        ayref='y',\n",
        "        showarrow=True,\n",
        "        arrowhead=2,\n",
        "        arrowsize=1.5,\n",
        "        arrowwidth=2.3,\n",
        "        arrowcolor = color)\n",
        "        \n",
        "    fig.add_trace(go.Scatter(x=[0],y=[0],mode='markers',marker=dict(color=\"gray\",size=11.5),showlegend=False,opacity=1,name=\"origen\"))\n",
        "    fig.update_xaxes(title = \"$\\large{x}$\", title_font=dict(size=30, family='latex', color='rgb(1,21,51)'),zerolinecolor=\"black\",autorange = True,showgrid = True) \n",
        "    fig.update_yaxes(title = \"$\\large{y}$\", title_font=dict(size=30, family='latex', color='rgb(1,21,51)'), zerolinecolor= \"black\",autorange = True,showgrid = True) \n",
        "    fig.update_layout(font=dict(family=\"latex\",size=20,color=\"black\"))\n",
        "    fig.update_layout(title= \"Representación en el plano\",title_font=dict(size=5, family='latex', color='rgb(1,21,51)'),title_x=0.5,width=480, height=480)\n",
        "    fig.update_layout(legend=dict(orientation=\"h\",y=1.2,x=0.03),title_font=dict(size=30, color='rgb(1,21,51)'),showlegend=True)\n",
        "    fig.show()"
      ],
      "execution_count": null,
      "outputs": []
    }
  ]
}