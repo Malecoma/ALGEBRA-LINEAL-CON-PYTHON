{
  "nbformat": 4,
  "nbformat_minor": 0,
  "metadata": {
    "colab": {
      "name": "Álgebra lineal con Python- Sistema de ecuaciones.ipynb",
      "provenance": [],
      "collapsed_sections": [],
      "include_colab_link": true
    },
    "kernelspec": {
      "display_name": "Python 3",
      "name": "python3"
    }
  },
  "cells": [
    {
      "cell_type": "markdown",
      "metadata": {
        "id": "view-in-github",
        "colab_type": "text"
      },
      "source": [
        "<a href=\"https://colab.research.google.com/github/josorio398/ALGEBRA-LINEAL-CON-PYTHON/blob/master/%C3%81lgebra_lineal_con_Python_Sistema_de_ecuaciones.ipynb\" target=\"_parent\"><img src=\"https://colab.research.google.com/assets/colab-badge.svg\" alt=\"Open In Colab\"/></a>"
      ]
    },
    {
      "cell_type": "markdown",
      "metadata": {
        "id": "RVxHpsbcExUD"
      },
      "source": [
        "<p><img alt=\"logo.fua\" height=\"100px\" src=\"https://www.uamerica.edu.co/wp-content/images/escudo.png\" align=\"left\" hspace=\"10px\" vspace=\"0px\"></p>\n",
        "\n",
        "<p><img alt=\"logo.fua\" height=\"26px\" src=\"https://mirrors.creativecommons.org/presskit/buttons/88x31/svg/by-nd.svg\" align=\"right\" hspace=\"0px\" vspace=\"11px\"></p>\n",
        "\n",
        "\n",
        "# <center> <font size=\"6\">**ÁLGEBRA LINEAL CON PYTHON** <center>*Jhonny Osorio Gallego &nbsp; &nbsp; &nbsp;<p>*</font> "
      ]
    },
    {
      "cell_type": "markdown",
      "metadata": {
        "id": "pELON3yz_46g"
      },
      "source": [
        "#**SISTEMA DE ECUACIONES, MÉTODO DE ELIMINACIÓN DE GAUSS-JORDAN**"
      ]
    },
    {
      "cell_type": "markdown",
      "metadata": {
        "id": "StPcFiQlYfrM"
      },
      "source": [
        "##**Instación librería PlotLinearAlgebra**\n",
        "La librería **PlotLinearAlgebra** fue creada para la visualización bidimensional y tridimensional de objetos geométricos abordados en un curso de álgebra lineal, apoyado desde el lenguaje de programación Python, en particular con el uso de la librería de cálculo simbólico SymPy.[PlotLinearAlgebra](https://pypi.org/project/PlotLinearAlgebra/)"
      ]
    },
    {
      "cell_type": "code",
      "metadata": {
        "id": "6JRJgBgMmhtj"
      },
      "source": [
        "pip install PlotLinearAlgebra"
      ],
      "execution_count": null,
      "outputs": []
    },
    {
      "cell_type": "markdown",
      "metadata": {
        "id": "LBsUKbFnm62J"
      },
      "source": [
        "##**Importación de los módulos de graficación plot2d y plot3d**\n",
        "\n",
        "El módulo **plot2d** permite graficar : puntos, rectas y vectores en el espacio bidimensional, contiene la función plot2D, el módulo **plot3d** permite graficar : puntos, rectas, vectores y planos en el espacio tridimensional, contiene la función plot3D,\n",
        "\n"
      ]
    },
    {
      "cell_type": "code",
      "metadata": {
        "id": "dyWsf3ZNnoa0"
      },
      "source": [
        "from PlotLinearAlgebra.plot2d import *\n",
        "from PlotLinearAlgebra.plot3d import *"
      ],
      "execution_count": null,
      "outputs": []
    },
    {
      "cell_type": "markdown",
      "metadata": {
        "id": "U515Q-sM2m9k"
      },
      "source": [
        "##**Importamos librería simbólica SymPy**\n",
        "**SymPy** es una biblioteca de Python para matemáticas simbólicas. Su objetivo es convertirse en un sistema de álgebra computacional (CAS) con todas las funciones, manteniendo el código lo más simple posible para que sea comprensible y fácilmente extensible. SymPy está escrito completamente en Python.[sympy.org](https://www.sympy.org/en/index.html)"
      ]
    },
    {
      "cell_type": "code",
      "metadata": {
        "id": "4wHJ9dZ3405h"
      },
      "source": [
        "from sympy import *\n",
        "init_printing() \n",
        "x,y,z,w = symbols(\"x y z w \")\n",
        "a,b,c,A,B,C = symbols(\"a b c A B C \")"
      ],
      "execution_count": 8,
      "outputs": []
    },
    {
      "cell_type": "markdown",
      "metadata": {
        "id": "3Hyo-LBSIayP"
      },
      "source": [
        "# **TIPOS SISTEMAS DE ECUACIONES**\n",
        "\n",
        "## **SISTEMA COMPATIBLE DETERMINADO** *(sistema con única solución)*\n",
        "\n",
        "$$\\left\\{\n",
        "\\begin{array}{rcl}\n",
        "     2x+ 4y+6z  & = & 18\n",
        "  \\\\ 4x+ 5y+6z & = & 24\n",
        "  \\\\ 3x+y-2z & = & 4\n",
        "\\end{array}\n",
        "\\right.$$"
      ]
    },
    {
      "cell_type": "markdown",
      "metadata": {
        "id": "hnEusJtlfBf5"
      },
      "source": [
        "### **Forma 1** "
      ]
    },
    {
      "cell_type": "code",
      "metadata": {
        "colab": {
          "base_uri": "https://localhost:8080/",
          "height": 38
        },
        "id": "gJhVTkT4b_dt",
        "outputId": "4debae69-c3b6-4dee-ed66-19e02ee25f40"
      },
      "source": [
        "solve( [ 2*x + 4*y + 6*z -18, 4*x + 5*y +6*z -24, 3*x + y - 2*z - 4])"
      ],
      "execution_count": null,
      "outputs": [
        {
          "data": {
            "image/png": "[encoded data removed]",
            "text/latex": "$\\displaystyle \\left\\{ x : 4, \\  y : -2, \\  z : 3\\right\\}$",
            "text/plain": [
              "{x: 4, y: -2, z: 3}"
            ]
          },
          "execution_count": 4,
          "metadata": {},
          "output_type": "execute_result"
        }
      ]
    },
    {
      "cell_type": "markdown",
      "metadata": {
        "id": "Z6pJKYTlfEHf"
      },
      "source": [
        "### **Forma 2** "
      ]
    },
    {
      "cell_type": "code",
      "metadata": {
        "colab": {
          "base_uri": "https://localhost:8080/",
          "height": 38
        },
        "id": "rvaDm5SRcABF",
        "outputId": "a0c62c3a-e396-4639-fc10-d1748ffed489"
      },
      "source": [
        "Eq1 = Eq(2*x + 4*y + 6*z,18)\n",
        "Eq2 = Eq(4*x + 5*y +6*z,24)\n",
        "Eq3 = Eq( 3*x + y - 2*z,4)\n",
        "solve( [ Eq1,Eq2,Eq3], [x, y, z])"
      ],
      "execution_count": null,
      "outputs": [
        {
          "data": {
            "image/png": "[encoded data removed]",
            "text/latex": "$\\displaystyle \\left\\{ x : 4, \\  y : -2, \\  z : 3\\right\\}$",
            "text/plain": [
              "{x: 4, y: -2, z: 3}"
            ]
          },
          "execution_count": 5,
          "metadata": {},
          "output_type": "execute_result"
        }
      ]
    },
    {
      "cell_type": "markdown",
      "metadata": {
        "id": "VnjYrBnUfw9I"
      },
      "source": [
        "###**Forma 3**"
      ]
    },
    {
      "cell_type": "code",
      "metadata": {
        "colab": {
          "base_uri": "https://localhost:8080/",
          "height": 38
        },
        "id": "k7t0Y_msfwNd",
        "outputId": "bd2c0768-5879-4a4b-d4cd-0a2031b7f7f6"
      },
      "source": [
        "Eq1 = 2*x + 4*y + 6*z - 18\n",
        "Eq2 = 4*x + 5*y + 6*z - 24\n",
        "Eq3 = 3*x + y - 2*z - 4\n",
        "solve( [ Eq1,Eq2,Eq3])"
      ],
      "execution_count": null,
      "outputs": [
        {
          "data": {
            "image/png": "[encoded data removed]",
            "text/latex": "$\\displaystyle \\left\\{ x : 4, \\  y : -2, \\  z : 3\\right\\}$",
            "text/plain": [
              "{x: 4, y: -2, z: 3}"
            ]
          },
          "execution_count": 6,
          "metadata": {},
          "output_type": "execute_result"
        }
      ]
    },
    {
      "cell_type": "markdown",
      "metadata": {
        "id": "mWHsRP7sqUr2"
      },
      "source": [
        "## **SISTEMA INCOMPATIBLE O INCONSISTENTE** *(sistema sin solución)*\n",
        "\n",
        "$$\\left\\{\n",
        "\\begin{array}{rcl}\n",
        "     2x - y+ z  & = & 3\n",
        "  \\\\ 3x+ y-2z & = & -2\n",
        "  \\\\ x-y+z & = & 7\n",
        "  \\\\ x+5y+7z & = & 13\n",
        "  \\\\ x-7y-5z & = & 12\n",
        "\\end{array}\n",
        "\\right.$$"
      ]
    },
    {
      "cell_type": "code",
      "metadata": {
        "colab": {
          "base_uri": "https://localhost:8080/",
          "height": 37
        },
        "id": "x4fJfccOomN0",
        "outputId": "ddbe43cd-1bc6-49da-a165-5d9dd86920cc"
      },
      "source": [
        "Eq1 = Eq(2*x -y + z,3)\n",
        "Eq2 = Eq(3*x + y -2*z,-2)\n",
        "Eq3 = Eq( x - y + z,7)\n",
        "Eq4 = Eq( x + 5* y + 7*z,13)\n",
        "Eq5 = Eq( x - 7* y - 5*z,12)\n",
        "solve( [ Eq1,Eq2,Eq3,Eq4,Eq5], [x, y, z])"
      ],
      "execution_count": null,
      "outputs": [
        {
          "data": {
            "image/png": "[encoded data removed]",
            "text/latex": "$\\displaystyle \\left[ \\right]$",
            "text/plain": [
              "[]"
            ]
          },
          "execution_count": 7,
          "metadata": {},
          "output_type": "execute_result"
        }
      ]
    },
    {
      "cell_type": "markdown",
      "metadata": {
        "id": "X1PSmjfQqa-x"
      },
      "source": [
        "## **SISTEMA COMPATIBLE INDETERMINADO** *(sistema con infinitas soluciones)*\n",
        "###**Ejemplo 1:**\n",
        "\n",
        "\n",
        "\n",
        "$$\\left\\{\n",
        "\\begin{array}{rcl}\n",
        "     2x + y+ z + w  & = & 6\n",
        "  \\\\ 2x+ y-z & = & 3\n",
        "  \\\\ x-y+z & = & 7\n",
        "  \\\\ 3x+y+2w & = & 6\n",
        "\\end{array}\n",
        "\\right.$$"
      ]
    },
    {
      "cell_type": "code",
      "metadata": {
        "colab": {
          "base_uri": "https://localhost:8080/",
          "height": 38
        },
        "id": "xrmFLjAwprJM",
        "outputId": "d6f3c95f-5f0e-464b-87e5-12cc6cb567a3"
      },
      "source": [
        "Eq1 = Eq(x + y + z + w,6)\n",
        "Eq2 = Eq(2*x + y -z,3)\n",
        "Eq3 = Eq( 3*x + y +2*w,6)\n",
        "solve( [ Eq1,Eq2,Eq3], [x, y, z,w])"
      ],
      "execution_count": null,
      "outputs": [
        {
          "data": {
            "image/png": "[encoded data removed]",
            "text/latex": "$\\displaystyle \\left\\{ x : 1 - w, \\  y : w + 3, \\  z : 2 - w\\right\\}$",
            "text/plain": [
              "{x: 1 - w, y: w + 3, z: 2 - w}"
            ]
          },
          "execution_count": 8,
          "metadata": {},
          "output_type": "execute_result"
        }
      ]
    },
    {
      "cell_type": "markdown",
      "metadata": {
        "id": "ai6ErXM5Qrq_"
      },
      "source": [
        "###**Ejemplo 2:**\n",
        "\n",
        "\n",
        "\n",
        "$$\\left\\{\n",
        "\\begin{array}{rcl}\n",
        "     -x_1+x_2  & = & 50\n",
        "  \\\\ -x_2 +x_3-x_4+x_5 & = & 0\n",
        "  \\\\ x_5-x_6& = & 60\n",
        "  \\\\ x_4-x_6 & = & 50\n",
        "  \\\\ -x_1+x_3 & = & 40\n",
        "\\end{array}\n",
        "\\right.$$"
      ]
    },
    {
      "cell_type": "code",
      "metadata": {
        "colab": {
          "base_uri": "https://localhost:8080/",
          "height": 38
        },
        "id": "j8Nhc0OLCXFk",
        "outputId": "59b8ac28-adc0-4e8d-b7e8-c3b3fe942801"
      },
      "source": [
        "x1,x2,x3,x4,x5,x6 = symbols(\"x1 x2 x3 x4 x5 x6 \")\n",
        "\n",
        "Eq1 = Eq(-x1+x2,50)\n",
        "Eq2 = Eq(-x2 + x3-x4+x5,0)\n",
        "Eq3 = Eq(x5-x6,60)\n",
        "Eq4 = Eq(x4-x6,50)\n",
        "Eq5 = Eq(-x1+x3,40)\n",
        "solve( [ Eq1,Eq2,Eq3,Eq4,Eq5])"
      ],
      "execution_count": null,
      "outputs": [
        {
          "data": {
            "image/png": "[encoded data removed]",
            "text/latex": "$\\displaystyle \\left\\{ x_{1} : x_{3} - 40, \\  x_{2} : x_{3} + 10, \\  x_{4} : x_{6} + 50, \\  x_{5} : x_{6} + 60\\right\\}$",
            "text/plain": [
              "{x₁: x₃ - 40, x₂: x₃ + 10, x₄: x₆ + 50, x₅: x₆ + 60}"
            ]
          },
          "execution_count": 9,
          "metadata": {},
          "output_type": "execute_result"
        }
      ]
    },
    {
      "cell_type": "markdown",
      "metadata": {
        "id": "b42xq_Z-gYvc"
      },
      "source": [
        "#**MÉTODO DE ELIMINACIÓN DE GAUSS-JORDAN**\n",
        "\n",
        "## **Eliminación de Gauss-Jordan** --> *verificación rápida*\n",
        "\n",
        "###**Ejemplo 1:**\n",
        "\n",
        "Encuentra la solución o soluciones del siguiente sistema de ecuaciones, si es posible, usando el método de eliminación de **Gauss-jordan**:\n",
        "\n",
        "$$\\left\\{\n",
        "\\begin{array}{rcl}\n",
        "     x_1-3x_3& = & 0\n",
        "  \\\\ x_1+ 8x_2-5x_3-2x_4 & = & 0\n",
        "   \\\\ x_1+ 6x_2-6x_3-x_5 & = & 0\n",
        "   \\\\ 3x_1+ 7x_2-7x_3-x_4-2x_5 & = & 0\n",
        "\\end{array}\n",
        "\\right.$$"
      ]
    },
    {
      "cell_type": "code",
      "metadata": {
        "colab": {
          "base_uri": "https://localhost:8080/",
          "height": 98
        },
        "id": "Nq57WA6FcARL",
        "outputId": "081917a0-310a-48fc-b120-0d51e87668eb"
      },
      "source": [
        "A = Matrix([[1,0,-3,0,0,0],[1,8,-5,-2,0,0],[1,6,-6,0,-1,0],[3,7,-7,-1,-2,0]])\n",
        "B = A.rref(pivots=False) # rref: row reduced echelon form\n",
        "B"
      ],
      "execution_count": null,
      "outputs": [
        {
          "data": {
            "text/latex": "$\\displaystyle \\left[\\begin{matrix}1 & 0 & 0 & 0 & -1 & 0\\\\0 & 1 & 0 & 0 & - \\frac{1}{3} & 0\\\\0 & 0 & 1 & 0 & - \\frac{1}{3} & 0\\\\0 & 0 & 0 & 1 & -1 & 0\\end{matrix}\\right]$",
            "text/plain": [
              "⎡1  0  0  0   -1   0⎤\n",
              "⎢                   ⎥\n",
              "⎢0  1  0  0  -1/3  0⎥\n",
              "⎢                   ⎥\n",
              "⎢0  0  1  0  -1/3  0⎥\n",
              "⎢                   ⎥\n",
              "⎣0  0  0  1   -1   0⎦"
            ]
          },
          "execution_count": 10,
          "metadata": {},
          "output_type": "execute_result"
        }
      ]
    },
    {
      "cell_type": "markdown",
      "metadata": {
        "id": "k36nvWUwTXJf"
      },
      "source": [
        "###**Ejemplo 2:**\n",
        "\n",
        "Encuentra la solución o soluciones del siguiente sistema de ecuaciones, si es posible, usando el método de eliminación de **Gauss-jordan**:\n",
        "$$\\left\\{\n",
        "\\begin{array}{rcl}\n",
        "     x + z  & = & 20\n",
        "  \\\\ y-z-w & = & 0\n",
        "  \\\\ x+y & = & 80\n",
        "\\end{array}\n",
        "\\right.$$"
      ]
    },
    {
      "cell_type": "code",
      "metadata": {
        "colab": {
          "base_uri": "https://localhost:8080/",
          "height": 78
        },
        "id": "Czawo8dwSYq0",
        "outputId": "c282c55f-6bc3-470e-963e-4fe57042e7a8"
      },
      "source": [
        "A = Matrix([[1,0,1,0,20],[0,1,-1,-1,0],[1,1,0,0,80]])\n",
        "B = A.rref(pivots=False)\n",
        "B"
      ],
      "execution_count": null,
      "outputs": [
        {
          "data": {
            "text/latex": "$\\displaystyle \\left[\\begin{matrix}1 & 0 & 1 & 0 & 20\\\\0 & 1 & -1 & 0 & 60\\\\0 & 0 & 0 & 1 & 60\\end{matrix}\\right]$",
            "text/plain": [
              "⎡1  0  1   0  20⎤\n",
              "⎢               ⎥\n",
              "⎢0  1  -1  0  60⎥\n",
              "⎢               ⎥\n",
              "⎣0  0  0   1  60⎦"
            ]
          },
          "execution_count": 11,
          "metadata": {},
          "output_type": "execute_result"
        }
      ]
    },
    {
      "cell_type": "markdown",
      "metadata": {
        "id": "KXkkSMhGUrfm"
      },
      "source": [
        "###**Ejemplo 3:**\n",
        "\n",
        "Encuentra la solución o soluciones del siguiente sistema de ecuaciones, si es posible, usando el método de eliminación de **Gauss-jordan**:\n",
        "$$\\left\\{\n",
        "\\begin{array}{rcl}\n",
        "     x + z  & = & 20\n",
        "  \\\\ y-z-w & = & 0\n",
        "  \\\\ x+y & = & 80\n",
        "\\end{array}\n",
        "\\right.$$"
      ]
    },
    {
      "cell_type": "code",
      "metadata": {
        "colab": {
          "base_uri": "https://localhost:8080/",
          "height": 78
        },
        "id": "xvXHlqobI6xv",
        "outputId": "65643374-3cbc-4a27-a2e8-6ed2fc7e2754"
      },
      "source": [
        "A = Matrix([[1,0,1,0,20],[0,1,-1,-1,0],[1,1,0,0,80]])\n",
        "B = A.rref(pivots=False)\n",
        "B"
      ],
      "execution_count": null,
      "outputs": [
        {
          "data": {
            "text/latex": "$\\displaystyle \\left[\\begin{matrix}1 & 0 & 1 & 0 & 20\\\\0 & 1 & -1 & 0 & 60\\\\0 & 0 & 0 & 1 & 60\\end{matrix}\\right]$",
            "text/plain": [
              "⎡1  0  1   0  20⎤\n",
              "⎢               ⎥\n",
              "⎢0  1  -1  0  60⎥\n",
              "⎢               ⎥\n",
              "⎣0  0  0   1  60⎦"
            ]
          },
          "execution_count": 12,
          "metadata": {},
          "output_type": "execute_result"
        }
      ]
    },
    {
      "cell_type": "markdown",
      "metadata": {
        "id": "OeZfDuJFZISz"
      },
      "source": [
        "###**Ejemplo 4:**\n",
        "\n",
        "Encuentra la solución o soluciones del siguiente sistema de ecuaciones, si es posible, usando el método de eliminación de **Gauss-jordan**:\n",
        "$$\\left\\{\n",
        "\\begin{array}{rcl}\n",
        "     x + z  & = & 0\n",
        "  \\\\ 3x +y+6z+w & = & 1\n",
        "  \\\\ 3x+9z+6w & = & 0\n",
        "  \\\\ 9x+3y+9w & = & 15\n",
        "\\end{array}\n",
        "\\right.$$"
      ]
    },
    {
      "cell_type": "code",
      "metadata": {
        "colab": {
          "base_uri": "https://localhost:8080/",
          "height": 98
        },
        "id": "8qtsgjgDq0QH",
        "outputId": "67fc58b1-e270-4e3a-c73d-6964384b5697"
      },
      "source": [
        "A = Matrix([[1,0,1,0,0],[3,1,6,1,1],[3,0,9,6,0],[9,3,0,9,15]])\n",
        "B = A.rref(pivots=False)\n",
        "B"
      ],
      "execution_count": null,
      "outputs": [
        {
          "data": {
            "text/latex": "$\\displaystyle \\left[\\begin{matrix}1 & 0 & 0 & 0 & \\frac{1}{2}\\\\0 & 1 & 0 & 0 & 2\\\\0 & 0 & 1 & 0 & - \\frac{1}{2}\\\\0 & 0 & 0 & 1 & \\frac{1}{2}\\end{matrix}\\right]$",
            "text/plain": [
              "⎡1  0  0  0  1/2 ⎤\n",
              "⎢                ⎥\n",
              "⎢0  1  0  0   2  ⎥\n",
              "⎢                ⎥\n",
              "⎢0  0  1  0  -1/2⎥\n",
              "⎢                ⎥\n",
              "⎣0  0  0  1  1/2 ⎦"
            ]
          },
          "execution_count": 13,
          "metadata": {},
          "output_type": "execute_result"
        }
      ]
    },
    {
      "cell_type": "markdown",
      "metadata": {
        "id": "HhAkBy3OZx7O"
      },
      "source": [
        "###**Ejemplo 5:**\n",
        "\n",
        "Encuentra la solución o soluciones del siguiente sistema de ecuaciones, si es posible, usando el método de eliminación de **Gauss-jordan**:\n",
        "$$\\left\\{\n",
        "\\begin{array}{rcl}\n",
        "     16x -8y + 4z -2w & = & 2\n",
        "  \\\\ x -y+z-w & = & 4\n",
        "  \\\\ x+y+z+w & = & 3\n",
        "  \\\\ 16x+8y+4z+2w & = & 9\n",
        "\\end{array}\n",
        "\\right.$$"
      ]
    },
    {
      "cell_type": "code",
      "metadata": {
        "colab": {
          "base_uri": "https://localhost:8080/",
          "height": 98
        },
        "id": "pPZPd-ufwHsx",
        "outputId": "ce8f22e2-a27d-423f-8a16-81dd30a60c61"
      },
      "source": [
        "A = Matrix([[16,-8,4,-2,2],[1,-1,1,-1,4],[1,1,1,1,3],[16,8,4,2,9]])\n",
        "B = A.rref(pivots=False)\n",
        "B"
      ],
      "execution_count": null,
      "outputs": [
        {
          "data": {
            "text/latex": "$\\displaystyle \\left[\\begin{matrix}1 & 0 & 0 & 0 & - \\frac{17}{24}\\\\0 & 1 & 0 & 0 & \\frac{3}{4}\\\\0 & 0 & 1 & 0 & \\frac{101}{24}\\\\0 & 0 & 0 & 1 & - \\frac{5}{4}\\end{matrix}\\right]$",
            "text/plain": [
              "⎡            -17 ⎤\n",
              "⎢1  0  0  0  ────⎥\n",
              "⎢             24 ⎥\n",
              "⎢                ⎥\n",
              "⎢0  1  0  0  3/4 ⎥\n",
              "⎢                ⎥\n",
              "⎢            101 ⎥\n",
              "⎢0  0  1  0  ─── ⎥\n",
              "⎢             24 ⎥\n",
              "⎢                ⎥\n",
              "⎣0  0  0  1  -5/4⎦"
            ]
          },
          "execution_count": 12,
          "metadata": {},
          "output_type": "execute_result"
        }
      ]
    },
    {
      "cell_type": "markdown",
      "metadata": {
        "id": "W3IXxUGgv7OI"
      },
      "source": [
        "###**Ejemplo 6:**\n",
        "\n",
        "Encuentra la solución o soluciones del siguiente sistema de ecuaciones, si es posible, usando el método de eliminación de **Gauss-jordan**:\n",
        "$$\\left\\{\n",
        "\\begin{array}{rcl}\n",
        "     -x_1 -x_2 & = & 50\n",
        "  \\\\ -x_2+x_3-x_4+x_5 & = & 0\n",
        "  \\\\ x_5-x_6 & = & 60\n",
        "  \\\\ x_4-x_6 & = & 50\n",
        "  \\\\ -x_1+x_2 & = & 40\n",
        "\\end{array}\n",
        "\\right.$$"
      ]
    },
    {
      "cell_type": "code",
      "metadata": {
        "colab": {
          "base_uri": "https://localhost:8080/",
          "height": 119
        },
        "id": "KEblnuohqVT5",
        "outputId": "3e5e3fb3-ec1d-4970-dfea-49e75bbeb679"
      },
      "source": [
        "A = Matrix([[-1,1,0,0,0,0,50],[0,-1,1,-1,1,0,0],[0,0,0,0,1,-1,60],[0,0,0,1,0,-1,50],[-1,0,1,0,0,0,40]])\n",
        "B = A.rref(pivots=False)\n",
        "B"
      ],
      "execution_count": null,
      "outputs": [
        {
          "data": {
            "text/latex": "$\\displaystyle \\left[\\begin{matrix}1 & 0 & -1 & 0 & 0 & 0 & -40\\\\0 & 1 & -1 & 0 & 0 & 0 & 10\\\\0 & 0 & 0 & 1 & 0 & -1 & 50\\\\0 & 0 & 0 & 0 & 1 & -1 & 60\\\\0 & 0 & 0 & 0 & 0 & 0 & 0\\end{matrix}\\right]$",
            "text/plain": [
              "⎡1  0  -1  0  0  0   -40⎤\n",
              "⎢                       ⎥\n",
              "⎢0  1  -1  0  0  0   10 ⎥\n",
              "⎢                       ⎥\n",
              "⎢0  0  0   1  0  -1  50 ⎥\n",
              "⎢                       ⎥\n",
              "⎢0  0  0   0  1  -1  60 ⎥\n",
              "⎢                       ⎥\n",
              "⎣0  0  0   0  0  0    0 ⎦"
            ]
          },
          "execution_count": 13,
          "metadata": {},
          "output_type": "execute_result"
        }
      ]
    },
    {
      "cell_type": "markdown",
      "metadata": {
        "id": "VpsgVrhtaep1"
      },
      "source": [
        "###**Ejemplo 7:**\n",
        "\n",
        "Encuentra la solución o soluciones del siguiente sistema de ecuaciones, si es posible, usando el método de eliminación de **Gauss-jordan**:\n",
        "\n",
        "$$\\left\\{\n",
        "\\begin{array}{rcl}\n",
        "     3x+ 2y+2z  & = & 34\n",
        "  \\\\ 2x+ 3y+2z & = & 32\n",
        "  \\\\ x+y+z & = & 14\n",
        "\\end{array}\n",
        "\\right.$$\n",
        "\n"
      ]
    },
    {
      "cell_type": "code",
      "metadata": {
        "colab": {
          "base_uri": "https://localhost:8080/",
          "height": 78
        },
        "id": "EX2XjmI2KUKk",
        "outputId": "7d61a785-6cbb-47e9-9741-e0a11d4f9d31"
      },
      "source": [
        "A = Matrix([[3,2,2,34],[2,3,2,32],[1,1,1,14]])\n",
        "B = A.rref(pivots=False)\n",
        "B"
      ],
      "execution_count": null,
      "outputs": [
        {
          "data": {
            "text/latex": "$\\displaystyle \\left[\\begin{matrix}1 & 0 & 0 & 6\\\\0 & 1 & 0 & 4\\\\0 & 0 & 1 & 4\\end{matrix}\\right]$",
            "text/plain": [
              "⎡1  0  0  6⎤\n",
              "⎢          ⎥\n",
              "⎢0  1  0  4⎥\n",
              "⎢          ⎥\n",
              "⎣0  0  1  4⎦"
            ]
          },
          "execution_count": 14,
          "metadata": {},
          "output_type": "execute_result"
        }
      ]
    },
    {
      "cell_type": "markdown",
      "metadata": {
        "id": "zw7ZDQVJa8_w"
      },
      "source": [
        "###**Ejemplo 8:**\n",
        "\n",
        "Encuentra la solución o soluciones del siguiente sistema de ecuaciones, si es posible, usando el método de eliminación de **Gauss-jordan**:\n",
        "\n",
        "$$\\left\\{\n",
        "\\begin{array}{rcl}\n",
        "      2y+3z  & = & 4\n",
        "  \\\\ 2x-6y+7z & = & 15\n",
        "  \\\\ x-2y+5z & = & 10\n",
        "\\end{array}\n",
        "\\right.$$\n",
        "\n"
      ]
    },
    {
      "cell_type": "code",
      "metadata": {
        "colab": {
          "base_uri": "https://localhost:8080/",
          "height": 78
        },
        "id": "LKejlVzxSyJZ",
        "outputId": "c5fc29de-861f-4aa0-d4e1-4b0987251047"
      },
      "source": [
        "A = Matrix([[0,2,3,4],[2,-6,7,15],[1,-2,5,10]])\n",
        "B = A.rref(pivots=False)\n",
        "B"
      ],
      "execution_count": null,
      "outputs": [
        {
          "data": {
            "text/latex": "$\\displaystyle \\left[\\begin{matrix}1 & 0 & 8 & 0\\\\0 & 1 & \\frac{3}{2} & 0\\\\0 & 0 & 0 & 1\\end{matrix}\\right]$",
            "text/plain": [
              "⎡1  0   8   0⎤\n",
              "⎢            ⎥\n",
              "⎢0  1  3/2  0⎥\n",
              "⎢            ⎥\n",
              "⎣0  0   0   1⎦"
            ]
          },
          "execution_count": 15,
          "metadata": {},
          "output_type": "execute_result"
        }
      ]
    },
    {
      "cell_type": "markdown",
      "metadata": {
        "id": "YtVtluDOcyeO"
      },
      "source": [
        "###**Ejemplo 9:**\n",
        "\n",
        "Encuentra la solución o soluciones del siguiente sistema de ecuaciones, si es posible, usando el método de eliminación de **Gauss-jordan**:\n",
        "\n",
        "$$\\left\\{\n",
        "\\begin{array}{rcl}\n",
        "      2x-y+z  & = & 3\n",
        "  \\\\ 3x+y-2z & = & -2\n",
        "  \\\\ x-y+z & = & 7\n",
        "  \\\\ x+5y+7z & = & 13\n",
        "  \\\\ x-7y-5z & = & 12\n",
        "\\end{array}\n",
        "\\right.$$"
      ]
    },
    {
      "cell_type": "code",
      "metadata": {
        "colab": {
          "base_uri": "https://localhost:8080/",
          "height": 119
        },
        "id": "dBOqTFtkF8GJ",
        "outputId": "e7c84b26-6e02-412e-8e0f-c658ef80d3d8"
      },
      "source": [
        "A = Matrix([[2,-1,1,3],[3,1,-2,-2],[1,-1,1,7],[1,5,7,13],[1,-7,-5,12]])\n",
        "B = A.echelon_form(with_pivots=False)\n",
        "B"
      ],
      "execution_count": null,
      "outputs": [
        {
          "data": {
            "text/latex": "$\\displaystyle \\left[\\begin{matrix}2 & -1 & 1 & 3\\\\0 & 5 & -7 & -13\\\\0 & 0 & -2 & 42\\\\0 & 0 & 0 & -6480\\\\0 & 0 & 0 & 0\\end{matrix}\\right]$",
            "text/plain": [
              "⎡2  -1  1     3  ⎤\n",
              "⎢                ⎥\n",
              "⎢0  5   -7   -13 ⎥\n",
              "⎢                ⎥\n",
              "⎢0  0   -2   42  ⎥\n",
              "⎢                ⎥\n",
              "⎢0  0   0   -6480⎥\n",
              "⎢                ⎥\n",
              "⎣0  0   0     0  ⎦"
            ]
          },
          "execution_count": 16,
          "metadata": {},
          "output_type": "execute_result"
        }
      ]
    },
    {
      "cell_type": "markdown",
      "metadata": {
        "id": "T60nQdXid0K5"
      },
      "source": [
        "###**Ejemplo 10:**\n",
        "\n",
        "Encuentra la solución o soluciones del siguiente sistema de ecuaciones, si es posible, usando el método de eliminación de **Gauss-jordan**:\n",
        "\n",
        "$$\\left\\{\n",
        "\\begin{array}{rcl}\n",
        "     x +y + z +w & = & 6\n",
        "  \\\\ 2x +y-z & = & 3\n",
        "  \\\\ 3x+y+2w & = & 6\n",
        "\\end{array}\n",
        "\\right.$$"
      ]
    },
    {
      "cell_type": "code",
      "metadata": {
        "colab": {
          "base_uri": "https://localhost:8080/",
          "height": 78
        },
        "id": "tdfV3DH1cGQV",
        "outputId": "cfab1913-b366-4d30-ecc1-6db5b08e70d7"
      },
      "source": [
        "A = Matrix([[1,1,1,1,6],[2,1,-1,0,3],[3,1,0,2,6]])\n",
        "B = A.rref(pivots=False) \n",
        "B"
      ],
      "execution_count": null,
      "outputs": [
        {
          "data": {
            "text/latex": "$\\displaystyle \\left[\\begin{matrix}1 & 0 & 0 & 1 & 1\\\\0 & 1 & 0 & -1 & 3\\\\0 & 0 & 1 & 1 & 2\\end{matrix}\\right]$",
            "text/plain": [
              "⎡1  0  0  1   1⎤\n",
              "⎢              ⎥\n",
              "⎢0  1  0  -1  3⎥\n",
              "⎢              ⎥\n",
              "⎣0  0  1  1   2⎦"
            ]
          },
          "execution_count": 17,
          "metadata": {},
          "output_type": "execute_result"
        }
      ]
    },
    {
      "cell_type": "markdown",
      "metadata": {
        "id": "vA8cXYWvebCa"
      },
      "source": [
        "###**Ejemplo 11:**\n",
        "\n",
        "Encuentra la solución o soluciones del siguiente sistema de ecuaciones, si es posible, usando el método de eliminación de **Gauss-jordan**:\n",
        "$$\\left\\{\n",
        "\\begin{array}{rcl}\n",
        "     x  + z & = & 0\n",
        "  \\\\ 3x +y+6z+w & = & 1\n",
        "  \\\\ 3x+9z+6w & = & 0\n",
        "  \\\\ 9x +3y+9w & = & 15\n",
        "\\end{array}\n",
        "\\right.$$"
      ]
    },
    {
      "cell_type": "code",
      "metadata": {
        "colab": {
          "base_uri": "https://localhost:8080/",
          "height": 98
        },
        "id": "oJOz4yqjXIZK",
        "outputId": "3f978b12-7d42-4bcb-d321-dc8786edbf02"
      },
      "source": [
        "A = Matrix([[1,0,1,0,0],[3 ,1,6,1,1],[3,0,9,6,0],[9,3,0,9,15]])\n",
        "B = A.rref(pivots=False) \n",
        "B"
      ],
      "execution_count": null,
      "outputs": [
        {
          "data": {
            "text/latex": "$\\displaystyle \\left[\\begin{matrix}1 & 0 & 0 & 0 & \\frac{1}{2}\\\\0 & 1 & 0 & 0 & 2\\\\0 & 0 & 1 & 0 & - \\frac{1}{2}\\\\0 & 0 & 0 & 1 & \\frac{1}{2}\\end{matrix}\\right]$",
            "text/plain": [
              "⎡1  0  0  0  1/2 ⎤\n",
              "⎢                ⎥\n",
              "⎢0  1  0  0   2  ⎥\n",
              "⎢                ⎥\n",
              "⎢0  0  1  0  -1/2⎥\n",
              "⎢                ⎥\n",
              "⎣0  0  0  1  1/2 ⎦"
            ]
          },
          "execution_count": 18,
          "metadata": {},
          "output_type": "execute_result"
        }
      ]
    },
    {
      "cell_type": "markdown",
      "metadata": {
        "id": "a48EPyOWwdIc"
      },
      "source": [
        "# **Eliminación de Gauss-Jordan** --> *paso a paso*\n",
        "## **Operaciones elemantales sobre matrices**"
      ]
    },
    {
      "cell_type": "markdown",
      "metadata": {
        "id": "a8DSGsswon8y"
      },
      "source": [
        "|             Notación utilizada                  |         Operación sobre fila         | Código |\n",
        "|:-------------------------------:|:--------------------------------------:|:--------------:|\n",
        "|     $F_i \\longleftrightarrow F_j $  | Interrarcambiar la fila<br> $F_i$ con $F_j$ | **` M.row_swap(i, j)`**   |\n",
        "|            $k F_i \\rightarrow F_i  $           |  Multiplicar la fila $F_i$ <br> por la constante $k$ |     **`M[i ,:] = k*M[ i ,:]`**   |\n",
        "| $kF_i + F_j \\rightarrow F_j  $|  Sumar $k$ veces la fila $F_i$ <br> a la fila $F_j$ |    **`M[j ,:] = k*M[ i ,:] + M[j ,:]`**    |"
      ]
    },
    {
      "cell_type": "markdown",
      "metadata": {
        "id": "Nh3w3jQuwQxT"
      },
      "source": [
        "## **Interrarcambiar la fila $F_i$ con $F_j$** \n",
        "\n",
        "Dada la matriz $A$ aumentada intercambia la primera fila con la última fila.&nbsp;&nbsp;&nbsp;&nbsp;($F_1 \\longleftrightarrow F_3$)\n",
        "\n",
        "$$A=\\begin{bmatrix}\n",
        "2 & 7 & 5  & 6\\\\\n",
        "0 & 6 & 7  & 2\\\\\n",
        "1 & 4 & 3  & 1\\\\\n",
        "\\end{bmatrix}$$"
      ]
    },
    {
      "cell_type": "code",
      "metadata": {
        "colab": {
          "base_uri": "https://localhost:8080/",
          "height": 78
        },
        "id": "u1-53fFuj9E_",
        "outputId": "458e8d00-3ab2-44f0-cbbc-f0982e9563ac"
      },
      "source": [
        "A = Matrix([[2,7,5,6],[0,6,7,2],[1,4,3,1]])\n",
        "A.row_swap(0,2)\n",
        "A"
      ],
      "execution_count": null,
      "outputs": [
        {
          "data": {
            "text/latex": "$\\displaystyle \\left[\\begin{matrix}1 & 4 & 3 & 1\\\\0 & 6 & 7 & 2\\\\2 & 7 & 5 & 6\\end{matrix}\\right]$",
            "text/plain": [
              "⎡1  4  3  1⎤\n",
              "⎢          ⎥\n",
              "⎢0  6  7  2⎥\n",
              "⎢          ⎥\n",
              "⎣2  7  5  6⎦"
            ]
          },
          "execution_count": 15,
          "metadata": {},
          "output_type": "execute_result"
        }
      ]
    },
    {
      "cell_type": "markdown",
      "metadata": {
        "id": "9rR4h1bcyR84"
      },
      "source": [
        "## **Multiplicar la fila $F_i$ por la constante $k$** \n",
        "\n",
        "Dada la matriz $A$ aumentada multiplica por $\\frac{1}{5}$ la segunda fila.  &nbsp;&nbsp;&nbsp;&nbsp;($\\frac{1}{5} F_2 \\rightarrow F_2  $ )\n",
        "\n",
        "$$A=\\begin{bmatrix}\n",
        "2 & 7 & 5  & 6\\\\\n",
        "0 & 6 & 7  & 2\\\\\n",
        "1 & 4 & 3  & 1\\\\\n",
        "\\end{bmatrix}$$"
      ]
    },
    {
      "cell_type": "code",
      "metadata": {
        "colab": {
          "base_uri": "https://localhost:8080/",
          "height": 78
        },
        "id": "TwOi9g_jyR8_",
        "outputId": "1f2198b3-72bc-4359-d1ed-31466d685fc1"
      },
      "source": [
        "A = Matrix([[2,7,5,6],[0,6,7,2],[1,4,3,1]])\n",
        "A[1,:] = S(\"1/5\")*A[1,:]\n",
        "A"
      ],
      "execution_count": null,
      "outputs": [
        {
          "data": {
            "text/latex": "$\\displaystyle \\left[\\begin{matrix}2 & 7 & 5 & 6\\\\0 & \\frac{6}{5} & \\frac{7}{5} & \\frac{2}{5}\\\\1 & 4 & 3 & 1\\end{matrix}\\right]$",
            "text/plain": [
              "⎡2   7    5    6 ⎤\n",
              "⎢                ⎥\n",
              "⎢0  6/5  7/5  2/5⎥\n",
              "⎢                ⎥\n",
              "⎣1   4    3    1 ⎦"
            ]
          },
          "execution_count": 32,
          "metadata": {},
          "output_type": "execute_result"
        }
      ]
    },
    {
      "cell_type": "markdown",
      "metadata": {
        "id": "nD75gHLAzcH1"
      },
      "source": [
        " ## **Sumar $k$ veces la fila $F_i$  a la fila $F_j$** \n",
        "\n",
        "Dada la matriz $A$ aumentada multiplica por $-5$ la segunda fila y adicionala a la fila 3  &nbsp;&nbsp;&nbsp;&nbsp;($-5F_2 + F_3 \\rightarrow F_3$ )\n",
        "\n",
        "$$A=\\begin{bmatrix}\n",
        "3 & 7 & 5  & 6\\\\\n",
        "1 & 6 & 7  & 2\\\\\n",
        "5 & 4 & 3  & 1\\\\\n",
        "\\end{bmatrix}$$"
      ]
    },
    {
      "cell_type": "code",
      "metadata": {
        "colab": {
          "base_uri": "https://localhost:8080/",
          "height": 78
        },
        "id": "KJhUqW8IzbT5",
        "outputId": "aee302ae-067c-4671-aefb-397ed50b7037"
      },
      "source": [
        "A = Matrix([[3,7,5,6],[1,6,7,2],[5,4,3,1]])\n",
        "A[2,:] = -5*A[1,:] + A[2,:]\n",
        "A"
      ],
      "execution_count": null,
      "outputs": [
        {
          "data": {
            "text/latex": "$\\displaystyle \\left[\\begin{matrix}3 & 7 & 5 & 6\\\\1 & 6 & 7 & 2\\\\0 & -26 & -32 & -9\\end{matrix}\\right]$",
            "text/plain": [
              "⎡3   7    5   6 ⎤\n",
              "⎢               ⎥\n",
              "⎢1   6    7   2 ⎥\n",
              "⎢               ⎥\n",
              "⎣0  -26  -32  -9⎦"
            ]
          },
          "execution_count": 33,
          "metadata": {},
          "output_type": "execute_result"
        }
      ]
    },
    {
      "cell_type": "markdown",
      "metadata": {
        "id": "hhKNEekl0H-l"
      },
      "source": [
        "# **Ejercicio 1 : reducción de Gauss-Jordan** --> *paso a paso*\n",
        "\n",
        "Utilice el método de Gauss-Jordan para encontar todas las soluciones si existen del siguiente sistema dado\n",
        "\n",
        "$$\\left\\{\n",
        "\\begin{array}{rcl}\n",
        "     2x+ 4y+6z  & = & 18\n",
        "  \\\\ 4x+ 5y+6z & = & 24\n",
        "  \\\\ 3x+y-2z & = & 4\n",
        "\\end{array}\n",
        "\\right.$$\n"
      ]
    },
    {
      "cell_type": "markdown",
      "metadata": {
        "id": "M_sv0FmQ_l1u"
      },
      "source": [
        "###**Definimos la matriz**"
      ]
    },
    {
      "cell_type": "code",
      "metadata": {
        "id": "2ZckkdOkOaJB"
      },
      "source": [
        "A = Matrix([[2,4,6,18],[4,5,6,24],[3,1,-2,4]])\n",
        "A"
      ],
      "execution_count": null,
      "outputs": []
    },
    {
      "cell_type": "markdown",
      "metadata": {
        "id": "eCsb0NKS_9hk"
      },
      "source": [
        "### **Multiplicamos por $\\frac{1}{2}$ la fila 1:**&nbsp;&nbsp;&nbsp;&nbsp;($\\frac{1}{2} F_1 \\rightarrow F_1  $ )"
      ]
    },
    {
      "cell_type": "code",
      "metadata": {
        "id": "cqHky56zOaJD"
      },
      "source": [
        "A[0,:] = S(\"1/2\")*A[0,:]\n",
        "A"
      ],
      "execution_count": null,
      "outputs": []
    },
    {
      "cell_type": "markdown",
      "metadata": {
        "id": "vOd7PisBCO0r"
      },
      "source": [
        "### **Multiplicamos por $-4$ &nbsp; la fila&nbsp; $1$ &nbsp; y se la sumamos a la fila&nbsp; $2$:**&nbsp;&nbsp;&nbsp;&nbsp;($-4F_1 + F_2 \\rightarrow F_2 $ )"
      ]
    },
    {
      "cell_type": "code",
      "metadata": {
        "id": "Xsv7Z3AFOaJF"
      },
      "source": [
        "A[1,:] = -4*A[0,:] + A[1,:]\n",
        "A"
      ],
      "execution_count": null,
      "outputs": []
    },
    {
      "cell_type": "markdown",
      "metadata": {
        "id": "IEOTgBnTEWf8"
      },
      "source": [
        "### **Multiplicamos por $-3$ &nbsp; la fila&nbsp; $1$ &nbsp; y se la sumamos a la fila&nbsp; $3$:**&nbsp;&nbsp;&nbsp;&nbsp;($-3F_1 + F_3 \\rightarrow F_3 $ )"
      ]
    },
    {
      "cell_type": "code",
      "metadata": {
        "id": "Uesr2p1-EWgZ"
      },
      "source": [
        "A[2,:] = -3*A[0,:] + A[2,:]\n",
        "A"
      ],
      "execution_count": null,
      "outputs": []
    },
    {
      "cell_type": "markdown",
      "metadata": {
        "id": "KOI3-j__FRdq"
      },
      "source": [
        "### **Multiplicamos por $-\\frac{1}{3}$ la fila 1:**&nbsp;&nbsp;&nbsp;&nbsp;($-\\frac{1}{3} F_2 \\rightarrow F_2  $ )"
      ]
    },
    {
      "cell_type": "code",
      "metadata": {
        "id": "hvhS2bEzOaJH"
      },
      "source": [
        "A[1,:] = S(\"-1/3\")*A[1,:]\n",
        "A"
      ],
      "execution_count": null,
      "outputs": []
    },
    {
      "cell_type": "markdown",
      "metadata": {
        "id": "z1g6jIbVGosZ"
      },
      "source": [
        "### **Multiplicamos por &nbsp; $2$ &nbsp; la fila&nbsp; $2$ &nbsp; y se la sumamos a la fila&nbsp; $1$:**&nbsp;&nbsp;&nbsp;&nbsp;($-2F_2 + F_1 \\rightarrow F_1 $ )"
      ]
    },
    {
      "cell_type": "code",
      "metadata": {
        "id": "C72KvuqgGmKw"
      },
      "source": [
        ""
      ],
      "execution_count": null,
      "outputs": []
    },
    {
      "cell_type": "markdown",
      "metadata": {
        "id": "sHyM0T-bHhtE"
      },
      "source": [
        "### **Multiplicamos por &nbsp; $5$ &nbsp; la fila&nbsp; $2$ &nbsp; y se la sumamos a la fila&nbsp; $3$:**&nbsp;&nbsp;&nbsp;&nbsp;($5F_2 + F_3 \\rightarrow F_3 $ )"
      ]
    },
    {
      "cell_type": "code",
      "metadata": {
        "id": "mopE0RuKOaJK"
      },
      "source": [
        ""
      ],
      "execution_count": null,
      "outputs": []
    },
    {
      "cell_type": "markdown",
      "metadata": {
        "id": "QE6nsSVvIRho"
      },
      "source": [
        "### **Multiplicamos por $-1$ la fila 3:**&nbsp;&nbsp;&nbsp;&nbsp;($-1 F_3 \\rightarrow F_3  $ )"
      ]
    },
    {
      "cell_type": "code",
      "metadata": {
        "id": "YOz6Km7YOaJM"
      },
      "source": [
        ""
      ],
      "execution_count": null,
      "outputs": []
    },
    {
      "cell_type": "markdown",
      "metadata": {
        "id": "czXg3hSOJmFX"
      },
      "source": [
        "### **Multiplicamos por &nbsp; $-2$ &nbsp; la fila&nbsp; $3$ &nbsp; y se la sumamos a la fila&nbsp; $2$:**&nbsp;&nbsp;&nbsp;&nbsp;($-2F_3 + F_2 \\rightarrow F_2 $ )"
      ]
    },
    {
      "cell_type": "code",
      "metadata": {
        "id": "NSF53SECJmF3"
      },
      "source": [
        ""
      ],
      "execution_count": null,
      "outputs": []
    },
    {
      "cell_type": "markdown",
      "metadata": {
        "id": "1qfibHwAKecg"
      },
      "source": [
        "### **Multiplicamos por &nbsp; $1$ &nbsp; la fila&nbsp; $3$ &nbsp; y se la sumamos a la fila&nbsp; $1$:**&nbsp;&nbsp;&nbsp;&nbsp;($1F_3 + F_1 \\rightarrow F_1 $ )"
      ]
    },
    {
      "cell_type": "code",
      "metadata": {
        "id": "TGGl_rZ3Keci"
      },
      "source": [
        ""
      ],
      "execution_count": null,
      "outputs": []
    },
    {
      "cell_type": "markdown",
      "metadata": {
        "id": "3oNhmN8Nh8AC"
      },
      "source": [
        "# **Ejercicio 2 : reducción de Gauss-Jordan** --> *paso a paso*\n",
        "\n",
        "Utilice el método de Gauss-Jordan para encontar todas las soluciones si existen del siguiente sistema dado\n",
        "\n",
        "$$\\left\\{\n",
        "\\begin{array}{rcl}\n",
        "     2x+ 4y+6z  & = & 18\n",
        "  \\\\ 4x+ 5y+6z & = & 24\n",
        "  \\\\ 2x+7y+12z & = & 30\n",
        "\\end{array}\n",
        "\\right.$$"
      ]
    },
    {
      "cell_type": "code",
      "metadata": {
        "id": "6KfAd_lRWL3R"
      },
      "source": [
        "A=Matrix([[2,4,6,18], [4,5,6,24],[2,7,12,30]])\n",
        "A"
      ],
      "execution_count": null,
      "outputs": []
    },
    {
      "cell_type": "code",
      "metadata": {
        "id": "ZMVfoV1nMX9i"
      },
      "source": [
        "A[0,:] = S(\"1/2\")*A[0,:]\n",
        "A"
      ],
      "execution_count": null,
      "outputs": []
    },
    {
      "cell_type": "code",
      "metadata": {
        "id": "IGJ32WG_NKo8"
      },
      "source": [
        "A[1,:] = -4*A[0,:] + A[1,:] \n",
        "A[2,:] = -2*A[0,:] + A[2,:] \n",
        "A"
      ],
      "execution_count": null,
      "outputs": []
    },
    {
      "cell_type": "code",
      "metadata": {
        "id": "dc0UAIgGNrYx"
      },
      "source": [
        "A[1,:] = S(\"-1/3\")*A[1,:]\n",
        "A"
      ],
      "execution_count": null,
      "outputs": []
    },
    {
      "cell_type": "code",
      "metadata": {
        "id": "-T8O6OjJOIPT"
      },
      "source": [
        "A[0,:] = -2*A[1,:] + A[0,:] \n",
        "A[2,:] = -3*A[1,:] + A[2,:] \n",
        "A"
      ],
      "execution_count": null,
      "outputs": []
    },
    {
      "cell_type": "markdown",
      "metadata": {
        "id": "eGyDcVCCijHg"
      },
      "source": [
        "# **Ejercicio 3 : reducción de Gauss-Jordan** --> *paso a paso*\n",
        "\n",
        "Encuentra la solución o soluciones del siguiente sistema de ecuaciones, si es posible, usando el método de eliminación de **Gauss-jordan**:\n",
        "\n",
        "$$\\left\\{\n",
        "\\begin{array}{rcl}\n",
        "     x +y + z +w & = & 6\n",
        "  \\\\ 2x +y-z & = & 3\n",
        "  \\\\ 3x+y+2w & = & 6\n",
        "\\end{array}\n",
        "\\right.$$"
      ]
    },
    {
      "cell_type": "code",
      "metadata": {
        "id": "AG9xtf8COdpC"
      },
      "source": [
        "A=Matrix([[1,1,1,1,6], [2, 1,-1,0,3],[3, 1, 0, 2,6]])\n",
        "A"
      ],
      "execution_count": null,
      "outputs": []
    },
    {
      "cell_type": "code",
      "metadata": {
        "id": "qTHXE_DzamTZ"
      },
      "source": [
        "A[1,:] = -2*A[0,:] + A[1,:]\n",
        "A[2,:] = -3*A[0,:] + A[2,:]\n",
        "A\n"
      ],
      "execution_count": null,
      "outputs": []
    },
    {
      "cell_type": "code",
      "metadata": {
        "id": "mF6HEJ13b7n-"
      },
      "source": [
        "A[1,:] = -1*A[1,:]\n",
        "A"
      ],
      "execution_count": null,
      "outputs": []
    },
    {
      "cell_type": "code",
      "metadata": {
        "id": "YRcF5RK6cK6O"
      },
      "source": [
        "A[0,:] = -1*A[1,:] + A[0,:]\n",
        "A[2,:] = 2*A[1,:] + A[2,:]\n",
        "A"
      ],
      "execution_count": null,
      "outputs": []
    },
    {
      "cell_type": "code",
      "metadata": {
        "id": "75v1MJyLcdMy"
      },
      "source": [
        "A[2,:] = S(\"1/3\")*A[2,:]\n",
        "A"
      ],
      "execution_count": null,
      "outputs": []
    },
    {
      "cell_type": "code",
      "metadata": {
        "id": "IWK_5ny3cv_m"
      },
      "source": [
        "A[0,:] = 2*A[2,:] + A[0,:]\n",
        "A[1,:] = -3*A[2,:] + A[1,:]\n",
        "A"
      ],
      "execution_count": null,
      "outputs": []
    },
    {
      "cell_type": "markdown",
      "metadata": {
        "id": "GrtQPJLBOTfy"
      },
      "source": [
        "# **Ejercicio 4: reducción de Gauss-Jordan** --> *paso a paso*\n",
        "\n",
        "Encuentra la solución o soluciones del siguiente sistema de ecuaciones, si es posible, usando el método de eliminación de **Gauss-jordan** paso a paso:\n",
        "\n",
        "$$\\left\\{\n",
        "\\begin{array}{rcl}\n",
        "      2y+3z  & = & 4\n",
        "  \\\\ 2x-6y+7z & = & 15\n",
        "  \\\\ x-2y+5z & = & 10\n",
        "\\end{array}\n",
        "\\right.$$"
      ]
    },
    {
      "cell_type": "code",
      "metadata": {
        "id": "0Oj8a6epPc5g"
      },
      "source": [
        "A=Matrix([[0,2,3,4], [2,-6,7,15],[1,-2,5,10]])\n",
        "A"
      ],
      "execution_count": null,
      "outputs": []
    },
    {
      "cell_type": "code",
      "metadata": {
        "id": "V-Tdeq8IPuGo"
      },
      "source": [
        "A.row_swap(0,2)\n",
        "A"
      ],
      "execution_count": null,
      "outputs": []
    },
    {
      "cell_type": "code",
      "metadata": {
        "id": "QdXIAGVoP4uW"
      },
      "source": [
        "A[1,:] = -2*A[0,:] + A[1,:]\n",
        "A"
      ],
      "execution_count": null,
      "outputs": []
    },
    {
      "cell_type": "code",
      "metadata": {
        "colab": {
          "background_save": true
        },
        "id": "P57lfjXZQJ8D",
        "outputId": "5ffca58f-cbbb-40ee-c2bb-6176968c03f3"
      },
      "source": [
        "A[1,:] = S(\"-1/2\")*A[1,:]\n",
        "A"
      ],
      "execution_count": null,
      "outputs": [
        {
          "data": {
            "text/latex": "$\\displaystyle \\left[\\begin{matrix}1 & -2 & 5 & 10\\\\0 & 1 & \\frac{3}{2} & \\frac{5}{2}\\\\0 & 2 & 3 & 4\\end{matrix}\\right]$",
            "text/plain": [
              "⎡1  -2   5   10 ⎤\n",
              "⎢               ⎥\n",
              "⎢0  1   3/2  5/2⎥\n",
              "⎢               ⎥\n",
              "⎣0  2    3    4 ⎦"
            ]
          },
          "execution_count": null,
          "metadata": {},
          "output_type": "execute_result"
        }
      ]
    },
    {
      "cell_type": "code",
      "metadata": {
        "colab": {
          "background_save": true
        },
        "id": "t4j-pjQsQWTc",
        "outputId": "77a02c91-31fb-4fae-eb2f-f956b61360c2"
      },
      "source": [
        "A[0,:] = 2*A[1,:] +  A[0,:]\n",
        "A[2,:] = -2*A[1,:] + A[2,:]\n",
        "A"
      ],
      "execution_count": null,
      "outputs": [
        {
          "data": {
            "text/latex": "$\\displaystyle \\left[\\begin{matrix}1 & 0 & 8 & 15\\\\0 & 1 & \\frac{3}{2} & \\frac{5}{2}\\\\0 & 0 & 0 & -1\\end{matrix}\\right]$",
            "text/plain": [
              "⎡1  0   8   15 ⎤\n",
              "⎢              ⎥\n",
              "⎢0  1  3/2  5/2⎥\n",
              "⎢              ⎥\n",
              "⎣0  0   0   -1 ⎦"
            ]
          },
          "execution_count": null,
          "metadata": {},
          "output_type": "execute_result"
        }
      ]
    },
    {
      "cell_type": "markdown",
      "metadata": {
        "id": "776yomQ3iurQ"
      },
      "source": [
        "# **Ejercicio 5 : reducción de Gauss-Jordan** --> *paso a paso*\n",
        "\n",
        "Utilice el **método de Gauss-Jordan** para encontar todas las soluciones si existen del siguiente sistema dado\n",
        "\n",
        "$$\\left\\{\n",
        "\\begin{array}{rcl}\n",
        "      2x-y+z  & = & 3\n",
        "  \\\\ 3x+y-2z & = & -2\n",
        "  \\\\ x-y+z & = & 7\n",
        "  \\\\ x+5y+7z & = & 13\n",
        "  \\\\ x-7y-5z & = & 12\n",
        "\\end{array}\n",
        "\\right.$$"
      ]
    },
    {
      "cell_type": "code",
      "metadata": {
        "colab": {
          "background_save": true
        },
        "id": "O-mqwHn0VbED",
        "outputId": "37109888-39f6-45e4-d32c-341f7348fb5d"
      },
      "source": [
        "A=Matrix([[2,-1,1,3], [3,1,-2,-2],[1,-1,1,7],[1,5,7,13],[1,-7,-5,12]])\n",
        "A"
      ],
      "execution_count": null,
      "outputs": [
        {
          "data": {
            "text/latex": "$\\displaystyle \\left[\\begin{matrix}2 & -1 & 1 & 3\\\\3 & 1 & -2 & -2\\\\1 & -1 & 1 & 7\\\\1 & 5 & 7 & 13\\\\1 & -7 & -5 & 12\\end{matrix}\\right]$",
            "text/plain": [
              "⎡2  -1  1   3 ⎤\n",
              "⎢             ⎥\n",
              "⎢3  1   -2  -2⎥\n",
              "⎢             ⎥\n",
              "⎢1  -1  1   7 ⎥\n",
              "⎢             ⎥\n",
              "⎢1  5   7   13⎥\n",
              "⎢             ⎥\n",
              "⎣1  -7  -5  12⎦"
            ]
          },
          "execution_count": null,
          "metadata": {},
          "output_type": "execute_result"
        }
      ]
    },
    {
      "cell_type": "code",
      "metadata": {
        "colab": {
          "background_save": true
        },
        "id": "L0hmOrfWWK7k",
        "outputId": "98782fc5-46e4-425c-dbce-eface42ddf4c"
      },
      "source": [
        "A.row_swap(0,2)\n",
        "A"
      ],
      "execution_count": null,
      "outputs": [
        {
          "data": {
            "text/latex": "$\\displaystyle \\left[\\begin{matrix}1 & -1 & 1 & 7\\\\3 & 1 & -2 & -2\\\\2 & -1 & 1 & 3\\\\1 & 5 & 7 & 13\\\\1 & -7 & -5 & 12\\end{matrix}\\right]$",
            "text/plain": [
              "⎡1  -1  1   7 ⎤\n",
              "⎢             ⎥\n",
              "⎢3  1   -2  -2⎥\n",
              "⎢             ⎥\n",
              "⎢2  -1  1   3 ⎥\n",
              "⎢             ⎥\n",
              "⎢1  5   7   13⎥\n",
              "⎢             ⎥\n",
              "⎣1  -7  -5  12⎦"
            ]
          },
          "execution_count": null,
          "metadata": {},
          "output_type": "execute_result"
        }
      ]
    },
    {
      "cell_type": "code",
      "metadata": {
        "colab": {
          "background_save": true
        },
        "id": "8mvvTDKlWehI",
        "outputId": "1d5a0fd0-ace2-4149-a4ff-2617835eaafc"
      },
      "source": [
        "A[1,:] = -3*A[0,:] +  A[1,:]\n",
        "A[2,:] = -2*A[0,:] +  A[2,:]\n",
        "A[3,:] = -1*A[0,:] +  A[3,:]\n",
        "A[4,:] = -1*A[0,:] +  A[4,:]\n",
        "A"
      ],
      "execution_count": null,
      "outputs": [
        {
          "data": {
            "text/latex": "$\\displaystyle \\left[\\begin{matrix}1 & -1 & 1 & 7\\\\0 & 4 & -5 & -23\\\\0 & 1 & -1 & -11\\\\0 & 6 & 6 & 6\\\\0 & -6 & -6 & 5\\end{matrix}\\right]$",
            "text/plain": [
              "⎡1  -1  1    7 ⎤\n",
              "⎢              ⎥\n",
              "⎢0  4   -5  -23⎥\n",
              "⎢              ⎥\n",
              "⎢0  1   -1  -11⎥\n",
              "⎢              ⎥\n",
              "⎢0  6   6    6 ⎥\n",
              "⎢              ⎥\n",
              "⎣0  -6  -6   5 ⎦"
            ]
          },
          "execution_count": null,
          "metadata": {},
          "output_type": "execute_result"
        }
      ]
    },
    {
      "cell_type": "code",
      "metadata": {
        "colab": {
          "background_save": true
        },
        "id": "vqf2eULbXK4M",
        "outputId": "567a3a89-8f9e-48a8-eec0-16621675b08b"
      },
      "source": [
        "A[1,:] = S(\"1/4\")*A[1,:]\n",
        "A"
      ],
      "execution_count": null,
      "outputs": [
        {
          "data": {
            "text/latex": "$\\displaystyle \\left[\\begin{matrix}1 & -1 & 1 & 7\\\\0 & 1 & - \\frac{5}{4} & - \\frac{23}{4}\\\\0 & 1 & -1 & -11\\\\0 & 6 & 6 & 6\\\\0 & -6 & -6 & 5\\end{matrix}\\right]$",
            "text/plain": [
              "⎡1  -1   1      7  ⎤\n",
              "⎢                  ⎥\n",
              "⎢0  1   -5/4  -23/4⎥\n",
              "⎢                  ⎥\n",
              "⎢0  1    -1    -11 ⎥\n",
              "⎢                  ⎥\n",
              "⎢0  6    6      6  ⎥\n",
              "⎢                  ⎥\n",
              "⎣0  -6   -6     5  ⎦"
            ]
          },
          "execution_count": null,
          "metadata": {},
          "output_type": "execute_result"
        }
      ]
    },
    {
      "cell_type": "code",
      "metadata": {
        "colab": {
          "background_save": true
        },
        "id": "juPDK3z2XUwP",
        "outputId": "f8f84fd2-eaa6-4989-a67b-0f2a15ff58c4"
      },
      "source": [
        "A[0,:] = 1*A[1,:] +  A[0,:]\n",
        "A[2,:] = -1*A[1,:] +  A[2,:]\n",
        "A[3,:] = -6*A[1,:] +  A[3,:]\n",
        "A[4,:] = 6*A[1,:] +  A[4,:]\n",
        "A"
      ],
      "execution_count": null,
      "outputs": [
        {
          "data": {
            "text/latex": "$\\displaystyle \\left[\\begin{matrix}1 & 0 & - \\frac{1}{4} & \\frac{5}{4}\\\\0 & 1 & - \\frac{5}{4} & - \\frac{23}{4}\\\\0 & 0 & \\frac{1}{4} & - \\frac{21}{4}\\\\0 & 0 & \\frac{27}{2} & \\frac{81}{2}\\\\0 & 0 & - \\frac{27}{2} & - \\frac{59}{2}\\end{matrix}\\right]$",
            "text/plain": [
              "⎡1  0  -1/4    5/4 ⎤\n",
              "⎢                  ⎥\n",
              "⎢0  1  -5/4   -23/4⎥\n",
              "⎢                  ⎥\n",
              "⎢0  0   1/4   -21/4⎥\n",
              "⎢                  ⎥\n",
              "⎢0  0  27/2   81/2 ⎥\n",
              "⎢                  ⎥\n",
              "⎣0  0  -27/2  -59/2⎦"
            ]
          },
          "execution_count": null,
          "metadata": {},
          "output_type": "execute_result"
        }
      ]
    },
    {
      "cell_type": "code",
      "metadata": {
        "colab": {
          "background_save": true
        },
        "id": "tW59Aon7Xz79",
        "outputId": "2d311321-db23-4004-a389-54542cc36003"
      },
      "source": [
        "A[2,:] = 4*A[2,:]\n",
        "A"
      ],
      "execution_count": null,
      "outputs": [
        {
          "data": {
            "text/latex": "$\\displaystyle \\left[\\begin{matrix}1 & 0 & - \\frac{1}{4} & \\frac{5}{4}\\\\0 & 1 & - \\frac{5}{4} & - \\frac{23}{4}\\\\0 & 0 & 1 & -21\\\\0 & 0 & \\frac{27}{2} & \\frac{81}{2}\\\\0 & 0 & - \\frac{27}{2} & - \\frac{59}{2}\\end{matrix}\\right]$",
            "text/plain": [
              "⎡1  0  -1/4    5/4 ⎤\n",
              "⎢                  ⎥\n",
              "⎢0  1  -5/4   -23/4⎥\n",
              "⎢                  ⎥\n",
              "⎢0  0    1     -21 ⎥\n",
              "⎢                  ⎥\n",
              "⎢0  0  27/2   81/2 ⎥\n",
              "⎢                  ⎥\n",
              "⎣0  0  -27/2  -59/2⎦"
            ]
          },
          "execution_count": null,
          "metadata": {},
          "output_type": "execute_result"
        }
      ]
    },
    {
      "cell_type": "code",
      "metadata": {
        "colab": {
          "background_save": true
        },
        "id": "dnHXiAyPYFhK",
        "outputId": "4a1981ea-9325-4ffd-be7a-a5ab30b6273b"
      },
      "source": [
        "A[0,:] = S(\"1/4\")*A[2,:] +  A[0,:]\n",
        "A[1,:] = S(\"5/4\")*A[2,:] +  A[1,:]\n",
        "A[3,:] = S(\"-27/2\")*A[2,:] +  A[3,:]\n",
        "A[4,:] = S(\"27/2\")*A[2,:] +  A[4,:]\n",
        "A"
      ],
      "execution_count": null,
      "outputs": [
        {
          "data": {
            "text/latex": "$\\displaystyle \\left[\\begin{matrix}1 & 0 & 0 & -4\\\\0 & 1 & 0 & -32\\\\0 & 0 & 1 & -21\\\\0 & 0 & 0 & 324\\\\0 & 0 & 0 & -313\\end{matrix}\\right]$",
            "text/plain": [
              "⎡1  0  0   -4 ⎤\n",
              "⎢             ⎥\n",
              "⎢0  1  0  -32 ⎥\n",
              "⎢             ⎥\n",
              "⎢0  0  1  -21 ⎥\n",
              "⎢             ⎥\n",
              "⎢0  0  0  324 ⎥\n",
              "⎢             ⎥\n",
              "⎣0  0  0  -313⎦"
            ]
          },
          "execution_count": null,
          "metadata": {},
          "output_type": "execute_result"
        }
      ]
    },
    {
      "cell_type": "markdown",
      "metadata": {
        "id": "AnzvupknWWhG"
      },
      "source": [
        "# **Ejercicio 6: reducción de Gauss-Jordan** --> *paso a paso*\n",
        "\n",
        "Utilice el método de Gauss-Jordan para encontar todas las soluciones si existen del siguiente sistema dado\n",
        "\n",
        "$$\\left\\{\n",
        "\\begin{array}{rcl}\n",
        "     2x+3z  & = & 4\n",
        "  \\\\ 2x- 6y+7z & = & 15\n",
        "  \\\\ x-2y+5z & = & 10\n",
        "\\end{array}\n",
        "\\right.$$\n"
      ]
    },
    {
      "cell_type": "code",
      "metadata": {
        "colab": {
          "background_save": true
        },
        "id": "JCYNIn4gWWhN",
        "outputId": "1ac20f41-b915-4417-e34e-4e8622a52c3d"
      },
      "source": [
        "A=Matrix([[2,0,3,4], [2,-6,7,15],[1,-2,5,10]])\n",
        "A"
      ],
      "execution_count": null,
      "outputs": [
        {
          "data": {
            "text/latex": "$\\displaystyle \\left[\\begin{matrix}2 & 0 & 3 & 4\\\\2 & -6 & 7 & 15\\\\1 & -2 & 5 & 10\\end{matrix}\\right]$",
            "text/plain": [
              "⎡2  0   3  4 ⎤\n",
              "⎢            ⎥\n",
              "⎢2  -6  7  15⎥\n",
              "⎢            ⎥\n",
              "⎣1  -2  5  10⎦"
            ]
          },
          "execution_count": null,
          "metadata": {},
          "output_type": "execute_result"
        }
      ]
    },
    {
      "cell_type": "code",
      "metadata": {
        "colab": {
          "background_save": true
        },
        "id": "9rJl1MRbXdgH",
        "outputId": "9880fc6b-5190-4025-cbe4-bb82d0eb8e1a"
      },
      "source": [
        "A.row_swap(0,2)\n",
        "A"
      ],
      "execution_count": null,
      "outputs": [
        {
          "data": {
            "text/latex": "$\\displaystyle \\left[\\begin{matrix}1 & -2 & 5 & 10\\\\2 & -6 & 7 & 15\\\\2 & 0 & 3 & 4\\end{matrix}\\right]$",
            "text/plain": [
              "⎡1  -2  5  10⎤\n",
              "⎢            ⎥\n",
              "⎢2  -6  7  15⎥\n",
              "⎢            ⎥\n",
              "⎣2  0   3  4 ⎦"
            ]
          },
          "execution_count": null,
          "metadata": {},
          "output_type": "execute_result"
        }
      ]
    },
    {
      "cell_type": "code",
      "metadata": {
        "colab": {
          "background_save": true
        },
        "id": "IbeT5V4SWWhQ",
        "outputId": "b601dd91-3252-4ca9-f32b-678c7d2d64fe"
      },
      "source": [
        "A[1,:] = -2*A[0,:]+A[1,:]\n",
        "A[2,:] = -2*A[0,:] +A[2,:]\n",
        "A"
      ],
      "execution_count": null,
      "outputs": [
        {
          "data": {
            "text/latex": "$\\displaystyle \\left[\\begin{matrix}1 & -2 & 5 & 10\\\\0 & -2 & -3 & -5\\\\0 & 4 & -7 & -16\\end{matrix}\\right]$",
            "text/plain": [
              "⎡1  -2  5   10 ⎤\n",
              "⎢              ⎥\n",
              "⎢0  -2  -3  -5 ⎥\n",
              "⎢              ⎥\n",
              "⎣0  4   -7  -16⎦"
            ]
          },
          "execution_count": null,
          "metadata": {},
          "output_type": "execute_result"
        }
      ]
    },
    {
      "cell_type": "code",
      "metadata": {
        "colab": {
          "background_save": true
        },
        "id": "yWrx6ZThYlYl",
        "outputId": "01f09662-5bff-4562-bb31-bb64fa7597f4"
      },
      "source": [
        "A[1,:] = S(\"-1/2\")*A[1,:]\n",
        "A"
      ],
      "execution_count": null,
      "outputs": [
        {
          "data": {
            "text/latex": "$\\displaystyle \\left[\\begin{matrix}1 & -2 & 5 & 10\\\\0 & 1 & \\frac{3}{2} & \\frac{5}{2}\\\\0 & 4 & -7 & -16\\end{matrix}\\right]$",
            "text/plain": [
              "⎡1  -2   5   10 ⎤\n",
              "⎢               ⎥\n",
              "⎢0  1   3/2  5/2⎥\n",
              "⎢               ⎥\n",
              "⎣0  4   -7   -16⎦"
            ]
          },
          "execution_count": null,
          "metadata": {},
          "output_type": "execute_result"
        }
      ]
    },
    {
      "cell_type": "code",
      "metadata": {
        "colab": {
          "background_save": true
        },
        "id": "boxh_wZ-Y2UH",
        "outputId": "16333c2d-15af-4780-b257-69f9c50f8221"
      },
      "source": [
        "A[0,:] =2*A[1,:] +A[0,:]\n",
        "A[2,:] =-4*A[1,:] +A[2,:]\n",
        "A"
      ],
      "execution_count": null,
      "outputs": [
        {
          "data": {
            "text/latex": "$\\displaystyle \\left[\\begin{matrix}1 & 0 & 8 & 15\\\\0 & 1 & \\frac{3}{2} & \\frac{5}{2}\\\\0 & 0 & -13 & -26\\end{matrix}\\right]$",
            "text/plain": [
              "⎡1  0   8   15 ⎤\n",
              "⎢              ⎥\n",
              "⎢0  1  3/2  5/2⎥\n",
              "⎢              ⎥\n",
              "⎣0  0  -13  -26⎦"
            ]
          },
          "execution_count": null,
          "metadata": {},
          "output_type": "execute_result"
        }
      ]
    },
    {
      "cell_type": "code",
      "metadata": {
        "colab": {
          "background_save": true
        },
        "id": "MZ8Rv2DHZQZJ",
        "outputId": "6ccb55b2-1a55-4303-98e0-8d9ed107e19c"
      },
      "source": [
        "A[2,:] = S(\"-1/13\")*A[2,:]\n",
        "A"
      ],
      "execution_count": null,
      "outputs": [
        {
          "data": {
            "text/latex": "$\\displaystyle \\left[\\begin{matrix}1 & 0 & 8 & 15\\\\0 & 1 & \\frac{3}{2} & \\frac{5}{2}\\\\0 & 0 & 1 & 2\\end{matrix}\\right]$",
            "text/plain": [
              "⎡1  0   8   15 ⎤\n",
              "⎢              ⎥\n",
              "⎢0  1  3/2  5/2⎥\n",
              "⎢              ⎥\n",
              "⎣0  0   1    2 ⎦"
            ]
          },
          "execution_count": null,
          "metadata": {},
          "output_type": "execute_result"
        }
      ]
    },
    {
      "cell_type": "code",
      "metadata": {
        "colab": {
          "background_save": true
        },
        "id": "JSZpWCJ_ZkqV",
        "outputId": "c5d8c767-96f0-46ee-c487-645bc255040b"
      },
      "source": [
        "A[0,:] =-8*A[2,:] +A[0,:]\n",
        "A[1,:] =S(\"-3/2\")*A[2,:] +A[1,:]\n",
        "A"
      ],
      "execution_count": null,
      "outputs": [
        {
          "data": {
            "text/latex": "$\\displaystyle \\left[\\begin{matrix}1 & 0 & 0 & -1\\\\0 & 1 & 0 & - \\frac{1}{2}\\\\0 & 0 & 1 & 2\\end{matrix}\\right]$",
            "text/plain": [
              "⎡1  0  0   -1 ⎤\n",
              "⎢             ⎥\n",
              "⎢0  1  0  -1/2⎥\n",
              "⎢             ⎥\n",
              "⎣0  0  1   2  ⎦"
            ]
          },
          "execution_count": null,
          "metadata": {},
          "output_type": "execute_result"
        }
      ]
    },
    {
      "cell_type": "markdown",
      "metadata": {
        "id": "s17xLvW-ipoB"
      },
      "source": [
        "# **EJERCICIOS DE APLICACIÓN**\n",
        "\n",
        "## **EJERCICIO 1** *(discriminación de sistemas)*\n",
        "\n",
        "Utilice el método de Gauss-Jordan para encontar los valores de $a$ y $b$ pra los cuales el sistema tiene:\n",
        "1. única solución\n",
        "2. infinitas soluciones\n",
        "3. no tiene solución\n",
        "\n",
        "\n",
        "\n",
        "$$\\left\\{\n",
        "\\begin{array}{rcl}\n",
        "     x+ y+3z  & = & 2\n",
        "  \\\\ x+ 2y+4z & = & 3\n",
        "  \\\\ x+3y+az & = & b\n",
        "\\end{array}\n",
        "\\right.$$"
      ]
    },
    {
      "cell_type": "code",
      "metadata": {
        "colab": {
          "base_uri": "https://localhost:8080/",
          "height": 78
        },
        "id": "b_iq_NB0cPwG",
        "outputId": "a7461611-8e97-43db-ce7c-87c455d78a22"
      },
      "source": [
        "A=Matrix([[1,1,3,2], [1,2,4,3],[1,3,a,b]])\n",
        "A"
      ],
      "execution_count": 9,
      "outputs": [
        {
          "output_type": "execute_result",
          "data": {
            "text/latex": "$\\displaystyle \\left[\\begin{matrix}1 & 1 & 3 & 2\\\\1 & 2 & 4 & 3\\\\1 & 3 & a & b\\end{matrix}\\right]$",
            "text/plain": [
              "⎡1  1  3  2⎤\n",
              "⎢          ⎥\n",
              "⎢1  2  4  3⎥\n",
              "⎢          ⎥\n",
              "⎣1  3  a  b⎦"
            ]
          },
          "metadata": {},
          "execution_count": 9
        }
      ]
    },
    {
      "cell_type": "code",
      "metadata": {
        "colab": {
          "base_uri": "https://localhost:8080/",
          "height": 78
        },
        "id": "L-9BH3UUcoDg",
        "outputId": "59c967a1-2ec8-4af1-cfa4-dbb29f937107"
      },
      "source": [
        "A[1,:] = -1*A[0,:] +  A[1,:]\n",
        "A[2,:] = -1*A[0,:] + A[2,:]\n",
        "A"
      ],
      "execution_count": 10,
      "outputs": [
        {
          "output_type": "execute_result",
          "data": {
            "text/latex": "$\\displaystyle \\left[\\begin{matrix}1 & 1 & 3 & 2\\\\0 & 1 & 1 & 1\\\\0 & 2 & a - 3 & b - 2\\end{matrix}\\right]$",
            "text/plain": [
              "⎡1  1    3      2  ⎤\n",
              "⎢                  ⎥\n",
              "⎢0  1    1      1  ⎥\n",
              "⎢                  ⎥\n",
              "⎣0  2  a - 3  b - 2⎦"
            ]
          },
          "metadata": {},
          "execution_count": 10
        }
      ]
    },
    {
      "cell_type": "code",
      "metadata": {
        "colab": {
          "base_uri": "https://localhost:8080/",
          "height": 78
        },
        "id": "f7SYLFGDc1kK",
        "outputId": "d1adf5d0-6fda-4d24-cce8-ee05f39011fa"
      },
      "source": [
        "A[2,:] = -2*A[1,:] + A[2,:]\n",
        "A"
      ],
      "execution_count": 11,
      "outputs": [
        {
          "output_type": "execute_result",
          "data": {
            "text/latex": "$\\displaystyle \\left[\\begin{matrix}1 & 1 & 3 & 2\\\\0 & 1 & 1 & 1\\\\0 & 0 & a - 5 & b - 4\\end{matrix}\\right]$",
            "text/plain": [
              "⎡1  1    3      2  ⎤\n",
              "⎢                  ⎥\n",
              "⎢0  1    1      1  ⎥\n",
              "⎢                  ⎥\n",
              "⎣0  0  a - 5  b - 4⎦"
            ]
          },
          "metadata": {},
          "execution_count": 11
        }
      ]
    },
    {
      "cell_type": "markdown",
      "metadata": {
        "id": "8xkzxtB565x-"
      },
      "source": [
        "### **Solución ecuación 1:**"
      ]
    },
    {
      "cell_type": "code",
      "metadata": {
        "colab": {
          "base_uri": "https://localhost:8080/",
          "height": 38
        },
        "id": "dhoNCHrc5j4c",
        "outputId": "068c9ba0-f784-4790-b490-8f5a4e4dea63"
      },
      "source": [
        "Eq1 = A[10]\n",
        "Eq1"
      ],
      "execution_count": 14,
      "outputs": [
        {
          "output_type": "execute_result",
          "data": {
            "image/png": "[encoded data removed]",
            "text/latex": "$\\displaystyle a - 5$",
            "text/plain": [
              "a - 5"
            ]
          },
          "metadata": {},
          "execution_count": 14
        }
      ]
    },
    {
      "cell_type": "code",
      "metadata": {
        "colab": {
          "base_uri": "https://localhost:8080/",
          "height": 36
        },
        "id": "6CZrzN056MEQ",
        "outputId": "24046a2e-cb70-4adf-ff22-8816b20bf2b6"
      },
      "source": [
        "solve(Eq1,a)"
      ],
      "execution_count": 15,
      "outputs": [
        {
          "output_type": "execute_result",
          "data": {
            "image/png": "[encoded data removed]",
            "text/latex": "$\\displaystyle \\left[ 5\\right]$",
            "text/plain": [
              "[5]"
            ]
          },
          "metadata": {},
          "execution_count": 15
        }
      ]
    },
    {
      "cell_type": "markdown",
      "metadata": {
        "id": "kxrK9Iot7ICE"
      },
      "source": [
        "### **Solución ecuación 2:**"
      ]
    },
    {
      "cell_type": "code",
      "metadata": {
        "id": "Hrcqf3OT6APn",
        "colab": {
          "base_uri": "https://localhost:8080/",
          "height": 38
        },
        "outputId": "335cb4d8-dfdd-4741-d5db-8f9423c3dd1f"
      },
      "source": [
        "Eq2 = A[11]\n",
        "Eq2"
      ],
      "execution_count": 16,
      "outputs": [
        {
          "output_type": "execute_result",
          "data": {
            "image/png": "[encoded data removed]",
            "text/latex": "$\\displaystyle b - 4$",
            "text/plain": [
              "b - 4"
            ]
          },
          "metadata": {},
          "execution_count": 16
        }
      ]
    },
    {
      "cell_type": "code",
      "metadata": {
        "id": "3Pm1tq5K6cCp",
        "colab": {
          "base_uri": "https://localhost:8080/",
          "height": 36
        },
        "outputId": "2dc0f6ac-9e78-4da1-e1a3-d48f99d8940c"
      },
      "source": [
        "solve(Eq2,b)"
      ],
      "execution_count": 17,
      "outputs": [
        {
          "output_type": "execute_result",
          "data": {
            "image/png": "[encoded data removed]",
            "text/latex": "$\\displaystyle \\left[ 4\\right]$",
            "text/plain": [
              "[4]"
            ]
          },
          "metadata": {},
          "execution_count": 17
        }
      ]
    },
    {
      "cell_type": "markdown",
      "metadata": {
        "id": "3nLxWNWQAi1z"
      },
      "source": [
        "## **EJERCICIO 2:** *(Ajuste polinomial)*\n",
        "\n",
        "Encuentra un polinómio que se ajuste a los puntos $(-2,3)$, $(-1,5)$, $(0,1),(1,4)$ y $(2,10)$, verifica tu resultado realizando la grafica de los puntos y del polinomio en el mismo palno cartesiano.\n",
        "\n",
        "<center><img src=\"https://github.com/josorio398/ALGEBRA-LINEAL-CON-PYTHON/blob/master/im%C3%A1genes%20repositorio/ajuste%20poli.png?raw=true\"  height=\"320\" />\n",
        "\n"
      ]
    },
    {
      "cell_type": "markdown",
      "metadata": {
        "id": "XlbRAPCrKYsQ"
      },
      "source": [
        "## **Coeficientes del polinómio**"
      ]
    },
    {
      "cell_type": "code",
      "metadata": {
        "colab": {
          "base_uri": "https://localhost:8080/"
        },
        "id": "Oj34hsu86k_F",
        "outputId": "64c43f32-ebf9-4113-b153-65ff1c692390"
      },
      "source": [
        "import numpy as np #libreria para construir arreglos y ajustar curvas\n",
        "\n",
        "X = np.array([-2,-1,0,1,2]) # coordenadas x\n",
        "Y = np.array([3,5,1,4,10])  # coordenadas y\n",
        "\n",
        "fit = np.polyfit(X, Y, 4)\n",
        "fit\n"
      ],
      "execution_count": 6,
      "outputs": [
        {
          "output_type": "execute_result",
          "data": {
            "text/plain": [
              "array([-0.70833333,  0.75      ,  4.20833333, -1.25      ,  1.        ])"
            ]
          },
          "metadata": {},
          "execution_count": 6
        }
      ]
    },
    {
      "cell_type": "markdown",
      "metadata": {
        "id": "AJQGCKgYKlW9"
      },
      "source": [
        "## **Gráfica de los puntos y del polinomio de ajuste**"
      ]
    },
    {
      "cell_type": "code",
      "metadata": {
        "colab": {
          "base_uri": "https://localhost:8080/",
          "height": 281
        },
        "id": "jXNgYZXQ8dKw",
        "outputId": "b60d42e6-6e37-4947-c426-0bdd79f78caa"
      },
      "source": [
        "import matplotlib.pyplot as plt  # Librería para realizar la gráfica\n",
        "\n",
        "a = fit[0]\n",
        "b = fit[1]\n",
        "c = fit[2]\n",
        "d = fit[3]\n",
        "e = fit[4]\n",
        "\n",
        "x = np.linspace(min(X),max(X),100)\n",
        "polinomio = a*x**4+b*x**3+c*x**2+d*x+e\n",
        "\n",
        "fig1 = plt.figure()\n",
        "ax1 = fig1.subplots()\n",
        "\n",
        "ax1.plot(x,polinomio,label = 'Polinomio de ajuste')\n",
        "ax1.scatter(X, Y,label = 'Datos')\n",
        "\n",
        "ax1.set_title('Ejemplo de Ajuste Polinomial')\n",
        "ax1.legend()\n",
        "plt.show()"
      ],
      "execution_count": 5,
      "outputs": [
        {
          "output_type": "display_data",
          "data": {
            "image/png": "[encoded data removed]",
            "text/plain": [
              "<Figure size 432x288 with 1 Axes>"
            ]
          },
          "metadata": {
            "needs_background": "light"
          }
        }
      ]
    }
  ]
}