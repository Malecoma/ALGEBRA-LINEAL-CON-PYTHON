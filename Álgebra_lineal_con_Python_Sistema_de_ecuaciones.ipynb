{
  "nbformat": 4,
  "nbformat_minor": 0,
  "metadata": {
    "colab": {
      "name": "Álgebra lineal con Python- Sistema de ecuaciones.ipynb",
      "provenance": [],
      "collapsed_sections": [],
      "include_colab_link": true
    },
    "kernelspec": {
      "name": "python3",
      "display_name": "Python 3"
    }
  },
  "cells": [
    {
      "cell_type": "markdown",
      "metadata": {
        "id": "view-in-github",
        "colab_type": "text"
      },
      "source": [
        "<a href=\"https://colab.research.google.com/github/josorio398/Calculadora-con-ciclo-while/blob/master/%C3%81lgebra_lineal_con_Python_Sistema_de_ecuaciones.ipynb\" target=\"_parent\"><img src=\"https://colab.research.google.com/assets/colab-badge.svg\" alt=\"Open In Colab\"/></a>"
      ]
    },
    {
      "cell_type": "markdown",
      "metadata": {
        "id": "RVxHpsbcExUD"
      },
      "source": [
        "<p><img alt=\"logo.fua\" height=\"100px\" src=\"https://www.uamerica.edu.co/wp-content/images/escudo.png\" align=\"left\" hspace=\"10px\" vspace=\"0px\"></p>\n",
        "\n",
        "<p><img alt=\"logo.fua\" height=\"26px\" src=\"https://mirrors.creativecommons.org/presskit/buttons/88x31/svg/by-nd.svg\" align=\"right\" hspace=\"0px\" vspace=\"11px\"></p>\n",
        "\n",
        "\n",
        "# <center> <font size=\"6\">**ÁLGEBRA LINEAL CON PYTHON** <center>*Jhonny Osorio Gallego &nbsp; &nbsp; &nbsp;<p>*</font> "
      ]
    },
    {
      "cell_type": "markdown",
      "metadata": {
        "id": "pELON3yz_46g"
      },
      "source": [
        "#**SISTEMA DE ECUACIONES, MÉTODO DE ELIMINACIÓN DE GAUSS-JORDAN**"
      ]
    },
    {
      "cell_type": "markdown",
      "metadata": {
        "id": "U515Q-sM2m9k"
      },
      "source": [
        "##**LIBRERÍA SIMBÓLICA SYMPY**\n",
        "**SymPy** es una biblioteca de Python para matemáticas simbólicas. Su objetivo es convertirse en un sistema de álgebra computacional (CAS) con todas las funciones, manteniendo el código lo más simple posible para que sea comprensible y fácilmente extensible. SymPy está escrito completamente en Python.[sympy.org](https://www.sympy.org/en/index.html)"
      ]
    },
    {
      "cell_type": "code",
      "metadata": {
        "id": "4wHJ9dZ3405h"
      },
      "source": [
        "from sympy import *\n",
        "init_printing() \n",
        "x,y,z,w,a,b = symbols(\"x y z w a b \")\n",
        "A,B,C = symbols(\"A B C \")"
      ],
      "execution_count": null,
      "outputs": []
    },
    {
      "cell_type": "markdown",
      "metadata": {
        "id": "3Hyo-LBSIayP"
      },
      "source": [
        "# **SISTEMAS DE ECUACIONES**"
      ]
    },
    {
      "cell_type": "markdown",
      "metadata": {
        "id": "CiGMdfZJbkhS"
      },
      "source": [
        "## **SISTEMA CON ÚNICA SOLUCIÓN**\n",
        "\n",
        "$$\\left\\{\n",
        "\\begin{array}{rcl}\n",
        "     2x+ 4y+6z  & = & 18\n",
        "  \\\\ 4x+ 5y+6z & = & 24\n",
        "  \\\\ 3x+y-2z & = & 4\n",
        "\\end{array}\n",
        "\\right.$$"
      ]
    },
    {
      "cell_type": "markdown",
      "metadata": {
        "id": "hnEusJtlfBf5"
      },
      "source": [
        "### **Forma 1** "
      ]
    },
    {
      "cell_type": "code",
      "metadata": {
        "colab": {
          "base_uri": "https://localhost:8080/",
          "height": 38
        },
        "id": "gJhVTkT4b_dt",
        "outputId": "b0cd5c41-042f-45c2-b041-ab0fb83e614f"
      },
      "source": [
        "solve( [ 2*x + 4*y + 6*z -18, 4*x + 5*y +6*z -24, 3*x + y - 2*z - 4], [x, y, z])"
      ],
      "execution_count": null,
      "outputs": [
        {
          "output_type": "execute_result",
          "data": {
            "image/png": "[encoded data removed]",
            "text/latex": "$\\displaystyle \\left\\{ x : 4, \\  y : -2, \\  z : 3\\right\\}$",
            "text/plain": [
              "{x: 4, y: -2, z: 3}"
            ]
          },
          "metadata": {
            "tags": []
          },
          "execution_count": 3
        }
      ]
    },
    {
      "cell_type": "markdown",
      "metadata": {
        "id": "Z6pJKYTlfEHf"
      },
      "source": [
        "### **Forma 2** "
      ]
    },
    {
      "cell_type": "code",
      "metadata": {
        "colab": {
          "base_uri": "https://localhost:8080/",
          "height": 38
        },
        "id": "rvaDm5SRcABF",
        "outputId": "450ccf0a-ed15-4153-fc00-0f5449d2172a"
      },
      "source": [
        "Eq1 = Eq(2*x + 4*y + 6*z,18)\n",
        "Eq2 = Eq(4*x + 5*y +6*z,24)\n",
        "Eq3 = Eq( 3*x + y - 2*z,4)\n",
        "solve( [ Eq1,Eq2,Eq3], [x, y, z])"
      ],
      "execution_count": null,
      "outputs": [
        {
          "output_type": "execute_result",
          "data": {
            "image/png": "[encoded data removed]",
            "text/latex": "$\\displaystyle \\left\\{ x : 4, \\  y : -2, \\  z : 3\\right\\}$",
            "text/plain": [
              "{x: 4, y: -2, z: 3}"
            ]
          },
          "metadata": {
            "tags": []
          },
          "execution_count": 4
        }
      ]
    },
    {
      "cell_type": "markdown",
      "metadata": {
        "id": "VnjYrBnUfw9I"
      },
      "source": [
        "###**Forma 3**"
      ]
    },
    {
      "cell_type": "code",
      "metadata": {
        "colab": {
          "base_uri": "https://localhost:8080/",
          "height": 38
        },
        "id": "k7t0Y_msfwNd",
        "outputId": "9dc82282-f34f-4c1d-a109-32ffdb6d3381"
      },
      "source": [
        "Eq1 = 2*x + 4*y + 6*z - 18\n",
        "Eq2 = 4*x + 5*y + 6*z - 24\n",
        "Eq3 = 3*x + y - 2*z - 4\n",
        "solve( [ Eq1,Eq2,Eq3], [x, y, z])"
      ],
      "execution_count": null,
      "outputs": [
        {
          "output_type": "execute_result",
          "data": {
            "image/png": "[encoded data removed]",
            "text/latex": "$$\\left \\{ x : 4, \\quad y : -2, \\quad z : 3\\right \\}$$",
            "text/plain": [
              "{x: 4, y: -2, z: 3}"
            ]
          },
          "metadata": {
            "tags": []
          },
          "execution_count": 11
        }
      ]
    },
    {
      "cell_type": "markdown",
      "metadata": {
        "id": "mWHsRP7sqUr2"
      },
      "source": [
        "## **SISTEMA INCONSISTENTE O SIN SOLUCIÓN**\n",
        "\n",
        "$$\\left\\{\n",
        "\\begin{array}{rcl}\n",
        "     2x - y+ z  & = & 3\n",
        "  \\\\ 3x+ y-2z & = & -2\n",
        "  \\\\ x-y+z & = & 7\n",
        "  \\\\ x+5y+7z & = & 13\n",
        "  \\\\ x-7y-5z & = & 12\n",
        "\\end{array}\n",
        "\\right.$$"
      ]
    },
    {
      "cell_type": "code",
      "metadata": {
        "colab": {
          "base_uri": "https://localhost:8080/",
          "height": 36
        },
        "id": "x4fJfccOomN0",
        "outputId": "857af8c9-dfdc-4763-a6ea-68c009e8ef09"
      },
      "source": [
        "Eq1 = Eq(2*x -y + z,3)\n",
        "Eq2 = Eq(3*x + y -2*z,-2)\n",
        "Eq3 = Eq( x - y + z,7)\n",
        "Eq4 = Eq( x + 5* y + 7*z,13)\n",
        "Eq5 = Eq( x - 7* y - 5*z,12)\n",
        "solve( [ Eq1,Eq2,Eq3,Eq4,Eq5], [x, y, z])"
      ],
      "execution_count": null,
      "outputs": [
        {
          "output_type": "execute_result",
          "data": {
            "image/png": "[encoded data removed]",
            "text/latex": "$\\displaystyle \\left[ \\right]$",
            "text/plain": [
              "[]"
            ]
          },
          "metadata": {
            "tags": []
          },
          "execution_count": 5
        }
      ]
    },
    {
      "cell_type": "markdown",
      "metadata": {
        "id": "X1PSmjfQqa-x"
      },
      "source": [
        "## **SISTEMAS CON INFINITAS SOLUCIONES**\n",
        "###**Ejemplo 1:**\n",
        "\n",
        "\n",
        "\n",
        "$$\\left\\{\n",
        "\\begin{array}{rcl}\n",
        "     2x - y+ z  & = & 3\n",
        "  \\\\ 3x+ y-2z & = & -2\n",
        "  \\\\ x-y+z & = & 7\n",
        "  \\\\ x+5y+7z & = & 13\n",
        "  \\\\ x-7y-5z & = & 12\n",
        "\\end{array}\n",
        "\\right.$$"
      ]
    },
    {
      "cell_type": "code",
      "metadata": {
        "colab": {
          "base_uri": "https://localhost:8080/",
          "height": 38
        },
        "id": "xrmFLjAwprJM",
        "outputId": "f1bf096d-15f7-40b1-d505-aff993bb0f67"
      },
      "source": [
        "Eq1 = Eq(x + y + z + w,6)\n",
        "Eq2 = Eq(2*x + y -z,3)\n",
        "Eq3 = Eq( 3*x + y +2*w,6)\n",
        "solve( [ Eq1,Eq2,Eq3], [x, y, z,w])"
      ],
      "execution_count": null,
      "outputs": [
        {
          "output_type": "execute_result",
          "data": {
            "image/png": "[encoded data removed]",
            "text/latex": "$\\displaystyle \\left\\{ x : 1 - w, \\  y : w + 3, \\  z : 2 - w\\right\\}$",
            "text/plain": [
              "{x: 1 - w, y: w + 3, z: 2 - w}"
            ]
          },
          "metadata": {
            "tags": []
          },
          "execution_count": 6
        }
      ]
    },
    {
      "cell_type": "markdown",
      "metadata": {
        "id": "ai6ErXM5Qrq_"
      },
      "source": [
        "###**Ejemplo 2:**\n",
        "\n",
        "\n",
        "\n",
        "$$\\left\\{\n",
        "\\begin{array}{rcl}\n",
        "     -x_1+x_2  & = & 50\n",
        "  \\\\ -x_2 +x_3-x_4+x_5 & = & 0\n",
        "  \\\\ x_5-x_6& = & 60\n",
        "  \\\\ x_4-x_6 & = & 50\n",
        "  \\\\ -x_1+x_3 & = & 40\n",
        "\\end{array}\n",
        "\\right.$$"
      ]
    },
    {
      "cell_type": "code",
      "metadata": {
        "id": "j8Nhc0OLCXFk",
        "colab": {
          "base_uri": "https://localhost:8080/",
          "height": 38
        },
        "outputId": "553e98c4-e751-4901-8a69-dcc6dccabdb8"
      },
      "source": [
        "x1,x2,x3,x4,x5,x6 = symbols(\"x1 x2 x3 x4 x5 x6 \")\n",
        "\n",
        "Eq1 = Eq(-x1+x2,50)\n",
        "Eq2 = Eq(-x2 + x3-x4+x5,0)\n",
        "Eq3 = Eq(x5-x6,60)\n",
        "Eq4 = Eq(x4-x6,50)\n",
        "Eq5 = Eq(-x1+x3,40)\n",
        "solve( [ Eq1,Eq2,Eq3,Eq4,Eq5], [x1,x2,x3,x4,x5,x6])"
      ],
      "execution_count": null,
      "outputs": [
        {
          "output_type": "execute_result",
          "data": {
            "image/png": "[encoded data removed]",
            "text/latex": "$\\displaystyle \\left\\{ x_{1} : x_{3} - 40, \\  x_{2} : x_{3} + 10, \\  x_{4} : x_{6} + 50, \\  x_{5} : x_{6} + 60\\right\\}$",
            "text/plain": [
              "{x₁: x₃ - 40, x₂: x₃ + 10, x₄: x₆ + 50, x₅: x₆ + 60}"
            ]
          },
          "metadata": {
            "tags": []
          },
          "execution_count": 9
        }
      ]
    },
    {
      "cell_type": "markdown",
      "metadata": {
        "id": "b42xq_Z-gYvc"
      },
      "source": [
        "#**MÉTODO DE ELIMINACIÓN DE GAUSS-JORDAN**\n",
        "\n",
        "## **Eliminación de Gauss-Jordan** --> *verificación rápida*\n",
        "\n",
        "###**Ejemplo 1:**\n",
        "\n",
        "Encuentra la solución o soluciones del siguiente sistema de ecuaciones, si es posible, usando el método de eliminación de **Gauss-jordan**:\n",
        "\n",
        "$$\\left\\{\n",
        "\\begin{array}{rcl}\n",
        "     2x+ 4y+6z  & = & 18\n",
        "  \\\\ 4x+ 5y+6z & = & 24\n",
        "  \\\\ 3x+y-2z & = & 4\n",
        "\\end{array}\n",
        "\\right.$$"
      ]
    },
    {
      "cell_type": "code",
      "metadata": {
        "colab": {
          "base_uri": "https://localhost:8080/",
          "height": 99
        },
        "id": "Nq57WA6FcARL",
        "outputId": "258fcff1-c6e2-4cdc-acf2-a1b3ceaadc07"
      },
      "source": [
        "A = Matrix([[1,0,-3,0,0,0],[1,8,-5,-2,0,0],[1,6,-6,0,-1,0],[3,7,-7,-1,-2,0]])\n",
        "B = A.rref(pivots=False) # rref: row reduced echelon form\n",
        "B"
      ],
      "execution_count": null,
      "outputs": [
        {
          "output_type": "execute_result",
          "data": {
            "text/latex": "$$\\left[\\begin{matrix}1 & 0 & 0 & 0 & -1 & 0\\\\0 & 1 & 0 & 0 & - \\frac{1}{3} & 0\\\\0 & 0 & 1 & 0 & - \\frac{1}{3} & 0\\\\0 & 0 & 0 & 1 & -1 & 0\\end{matrix}\\right]$$",
            "text/plain": [
              "⎡1  0  0  0   -1   0⎤\n",
              "⎢                   ⎥\n",
              "⎢0  1  0  0  -1/3  0⎥\n",
              "⎢                   ⎥\n",
              "⎢0  0  1  0  -1/3  0⎥\n",
              "⎢                   ⎥\n",
              "⎣0  0  0  1   -1   0⎦"
            ]
          },
          "metadata": {
            "tags": []
          },
          "execution_count": 3
        }
      ]
    },
    {
      "cell_type": "markdown",
      "metadata": {
        "id": "k36nvWUwTXJf"
      },
      "source": [
        "###**Ejemplo 2:**\n",
        "\n",
        "Encuentra la solución o soluciones del siguiente sistema de ecuaciones, si es posible, usando el método de eliminación de **Gauss-jordan**:\n",
        "$$\\left\\{\n",
        "\\begin{array}{rcl}\n",
        "     x + z  & = & 20\n",
        "  \\\\ y-z-w & = & 0\n",
        "  \\\\ x+y & = & 80\n",
        "\\end{array}\n",
        "\\right.$$"
      ]
    },
    {
      "cell_type": "code",
      "metadata": {
        "colab": {
          "base_uri": "https://localhost:8080/",
          "height": 78
        },
        "id": "Czawo8dwSYq0",
        "outputId": "a87b0709-1c1d-4261-809e-a57efa456053"
      },
      "source": [
        "A = Matrix([[1,0,1,0,20],[0,1,-1,-1,0],[1,1,0,0,80]])\n",
        "B = A.rref(pivots=False)\n",
        "B"
      ],
      "execution_count": null,
      "outputs": [
        {
          "output_type": "execute_result",
          "data": {
            "text/latex": "$$\\left[\\begin{matrix}1 & 0 & 1 & 0 & 20\\\\0 & 1 & -1 & 0 & 60\\\\0 & 0 & 0 & 1 & 60\\end{matrix}\\right]$$",
            "text/plain": [
              "⎡1  0  1   0  20⎤\n",
              "⎢               ⎥\n",
              "⎢0  1  -1  0  60⎥\n",
              "⎢               ⎥\n",
              "⎣0  0  0   1  60⎦"
            ]
          },
          "metadata": {
            "tags": []
          },
          "execution_count": 4
        }
      ]
    },
    {
      "cell_type": "markdown",
      "metadata": {
        "id": "KXkkSMhGUrfm"
      },
      "source": [
        "###**Ejemplo 3:**\n",
        "\n",
        "Encuentra la solución o soluciones del siguiente sistema de ecuaciones, si es posible, usando el método de eliminación de **Gauss-jordan**:\n",
        "$$\\left\\{\n",
        "\\begin{array}{rcl}\n",
        "     x + z  & = & 20\n",
        "  \\\\ y-z-w & = & 0\n",
        "  \\\\ x+y & = & 80\n",
        "\\end{array}\n",
        "\\right.$$"
      ]
    },
    {
      "cell_type": "code",
      "metadata": {
        "colab": {
          "base_uri": "https://localhost:8080/",
          "height": 78
        },
        "id": "xvXHlqobI6xv",
        "outputId": "283201de-a3b2-4862-9b5f-be80985b742b"
      },
      "source": [
        "A = Matrix([[3,2,2,34],[2,3,2,32],[1,1,1,14]])\n",
        "B = A.rref(pivots=False)\n",
        "B"
      ],
      "execution_count": null,
      "outputs": [
        {
          "output_type": "execute_result",
          "data": {
            "text/latex": "$$\\left[\\begin{matrix}1 & 0 & 0 & 6\\\\0 & 1 & 0 & 4\\\\0 & 0 & 1 & 4\\end{matrix}\\right]$$",
            "text/plain": [
              "⎡1  0  0  6⎤\n",
              "⎢          ⎥\n",
              "⎢0  1  0  4⎥\n",
              "⎢          ⎥\n",
              "⎣0  0  1  4⎦"
            ]
          },
          "metadata": {
            "tags": []
          },
          "execution_count": 3
        }
      ]
    },
    {
      "cell_type": "markdown",
      "metadata": {
        "id": "OeZfDuJFZISz"
      },
      "source": [
        "###**Ejemplo 4:**\n",
        "\n",
        "Encuentra la solución o soluciones del siguiente sistema de ecuaciones, si es posible, usando el método de eliminación de **Gauss-jordan**:\n",
        "$$\\left\\{\n",
        "\\begin{array}{rcl}\n",
        "     x + z  & = & 0\n",
        "  \\\\ 3x +y+6z+w & = & 1\n",
        "  \\\\ 3x+9z+6w & = & 0\n",
        "  \\\\ 9x+3y+9w & = & 15\n",
        "\\end{array}\n",
        "\\right.$$"
      ]
    },
    {
      "cell_type": "code",
      "metadata": {
        "colab": {
          "base_uri": "https://localhost:8080/",
          "height": 99
        },
        "id": "8qtsgjgDq0QH",
        "outputId": "80c787a3-9f34-4fb6-86c2-a7629ebc2c4a"
      },
      "source": [
        "A = Matrix([[1,0,1,0,0],[3,1,6,1,1],[3,0,9,6,0],[9,3,0,9,15]])\n",
        "B = A.rref(pivots=False)\n",
        "B"
      ],
      "execution_count": null,
      "outputs": [
        {
          "output_type": "execute_result",
          "data": {
            "text/latex": "$$\\left[\\begin{matrix}1 & 0 & 0 & 0 & \\frac{1}{2}\\\\0 & 1 & 0 & 0 & 2\\\\0 & 0 & 1 & 0 & - \\frac{1}{2}\\\\0 & 0 & 0 & 1 & \\frac{1}{2}\\end{matrix}\\right]$$",
            "text/plain": [
              "⎡1  0  0  0  1/2 ⎤\n",
              "⎢                ⎥\n",
              "⎢0  1  0  0   2  ⎥\n",
              "⎢                ⎥\n",
              "⎢0  0  1  0  -1/2⎥\n",
              "⎢                ⎥\n",
              "⎣0  0  0  1  1/2 ⎦"
            ]
          },
          "metadata": {
            "tags": []
          },
          "execution_count": 6
        }
      ]
    },
    {
      "cell_type": "markdown",
      "metadata": {
        "id": "HhAkBy3OZx7O"
      },
      "source": [
        "###**Ejemplo 5:**\n",
        "\n",
        "Encuentra la solución o soluciones del siguiente sistema de ecuaciones, si es posible, usando el método de eliminación de **Gauss-jordan**:\n",
        "$$\\left\\{\n",
        "\\begin{array}{rcl}\n",
        "     16x -8y + 4z -2w & = & 2\n",
        "  \\\\ x -y+z-w & = & 4\n",
        "  \\\\ x+y+z+w & = & 3\n",
        "  \\\\ 16x+8y+4z+2w & = & 9\n",
        "\\end{array}\n",
        "\\right.$$"
      ]
    },
    {
      "cell_type": "code",
      "metadata": {
        "colab": {
          "base_uri": "https://localhost:8080/",
          "height": 99
        },
        "id": "pPZPd-ufwHsx",
        "outputId": "de408939-f0a9-4a6b-cf04-04303512f417"
      },
      "source": [
        "A = Matrix([[16,-8,4,-2,2],[1,-1,1,-1,4],[1,1,1,1,3],[16,8,4,2,9]])\n",
        "B = A.rref(pivots=False)\n",
        "B"
      ],
      "execution_count": null,
      "outputs": [
        {
          "output_type": "execute_result",
          "data": {
            "text/latex": "$\\displaystyle \\left[\\begin{matrix}1 & 0 & 0 & 0 & - \\frac{17}{24}\\\\0 & 1 & 0 & 0 & \\frac{3}{4}\\\\0 & 0 & 1 & 0 & \\frac{101}{24}\\\\0 & 0 & 0 & 1 & - \\frac{5}{4}\\end{matrix}\\right]$",
            "text/plain": [
              "⎡            -17 ⎤\n",
              "⎢1  0  0  0  ────⎥\n",
              "⎢             24 ⎥\n",
              "⎢                ⎥\n",
              "⎢0  1  0  0  3/4 ⎥\n",
              "⎢                ⎥\n",
              "⎢            101 ⎥\n",
              "⎢0  0  1  0  ─── ⎥\n",
              "⎢             24 ⎥\n",
              "⎢                ⎥\n",
              "⎣0  0  0  1  -5/4⎦"
            ]
          },
          "metadata": {
            "tags": []
          },
          "execution_count": 8
        }
      ]
    },
    {
      "cell_type": "markdown",
      "metadata": {
        "id": "W3IXxUGgv7OI"
      },
      "source": [
        "###**Ejemplo 6:**\n",
        "\n",
        "Encuentra la solución o soluciones del siguiente sistema de ecuaciones, si es posible, usando el método de eliminación de **Gauss-jordan**:\n",
        "$$\\left\\{\n",
        "\\begin{array}{rcl}\n",
        "     -x_1 -x_2 & = & 50\n",
        "  \\\\ -x_2+x_3-x_4+x_5 & = & 0\n",
        "  \\\\ x_5-x_6 & = & 60\n",
        "  \\\\ x_4-x_6 & = & 50\n",
        "  \\\\ -x_1+x_2 & = & 40\n",
        "\\end{array}\n",
        "\\right.$$"
      ]
    },
    {
      "cell_type": "code",
      "metadata": {
        "id": "KEblnuohqVT5",
        "colab": {
          "base_uri": "https://localhost:8080/",
          "height": 119
        },
        "outputId": "db2f0fc1-6ee7-4d77-cdbd-c68d12c689f5"
      },
      "source": [
        "A = Matrix([[-1,1,0,0,0,0,50],[0,-1,1,-1,1,0,0],[0,0,0,0,1,-1,60],[0,0,0,1,0,-1,50],[-1,0,1,0,0,0,40]])\n",
        "B = A.rref(pivots=False)\n",
        "B"
      ],
      "execution_count": null,
      "outputs": [
        {
          "output_type": "execute_result",
          "data": {
            "text/latex": "$\\displaystyle \\left[\\begin{matrix}1 & 0 & -1 & 0 & 0 & 0 & -40\\\\0 & 1 & -1 & 0 & 0 & 0 & 10\\\\0 & 0 & 0 & 1 & 0 & -1 & 50\\\\0 & 0 & 0 & 0 & 1 & -1 & 60\\\\0 & 0 & 0 & 0 & 0 & 0 & 0\\end{matrix}\\right]$",
            "text/plain": [
              "⎡1  0  -1  0  0  0   -40⎤\n",
              "⎢                       ⎥\n",
              "⎢0  1  -1  0  0  0   10 ⎥\n",
              "⎢                       ⎥\n",
              "⎢0  0  0   1  0  -1  50 ⎥\n",
              "⎢                       ⎥\n",
              "⎢0  0  0   0  1  -1  60 ⎥\n",
              "⎢                       ⎥\n",
              "⎣0  0  0   0  0  0    0 ⎦"
            ]
          },
          "metadata": {
            "tags": []
          },
          "execution_count": 7
        }
      ]
    },
    {
      "cell_type": "markdown",
      "metadata": {
        "id": "VpsgVrhtaep1"
      },
      "source": [
        "###**Ejemplo 7:**\n",
        "\n",
        "Encuentra la solución o soluciones del siguiente sistema de ecuaciones, si es posible, usando el método de eliminación de **Gauss-jordan**:\n",
        "\n",
        "$$\\left\\{\n",
        "\\begin{array}{rcl}\n",
        "     3x+ 2y+2z  & = & 34\n",
        "  \\\\ 2x+ 3y+2z & = & 32\n",
        "  \\\\ x+y+z & = & 14\n",
        "\\end{array}\n",
        "\\right.$$\n",
        "\n"
      ]
    },
    {
      "cell_type": "code",
      "metadata": {
        "colab": {
          "base_uri": "https://localhost:8080/",
          "height": 78
        },
        "id": "EX2XjmI2KUKk",
        "outputId": "990c651a-4e9f-4ceb-e25f-87b6c5ed7b48"
      },
      "source": [
        "A = Matrix([[3,2,2,34],[2,3,2,32],[1,1,1,14]])\n",
        "B = A.rref(pivots=False)\n",
        "B"
      ],
      "execution_count": null,
      "outputs": [
        {
          "output_type": "execute_result",
          "data": {
            "text/latex": "$$\\left[\\begin{matrix}1 & 0 & 0 & 6\\\\0 & 1 & 0 & 4\\\\0 & 0 & 1 & 4\\end{matrix}\\right]$$",
            "text/plain": [
              "⎡1  0  0  6⎤\n",
              "⎢          ⎥\n",
              "⎢0  1  0  4⎥\n",
              "⎢          ⎥\n",
              "⎣0  0  1  4⎦"
            ]
          },
          "metadata": {
            "tags": []
          },
          "execution_count": 2
        }
      ]
    },
    {
      "cell_type": "markdown",
      "metadata": {
        "id": "zw7ZDQVJa8_w"
      },
      "source": [
        "###**Ejemplo 8:**\n",
        "\n",
        "Encuentra la solución o soluciones del siguiente sistema de ecuaciones, si es posible, usando el método de eliminación de **Gauss-jordan**:\n",
        "\n",
        "$$\\left\\{\n",
        "\\begin{array}{rcl}\n",
        "      2y+3z  & = & 4\n",
        "  \\\\ 2x-6y+7z & = & 15\n",
        "  \\\\ x-2y+5z & = & 10\n",
        "\\end{array}\n",
        "\\right.$$\n",
        "\n"
      ]
    },
    {
      "cell_type": "code",
      "metadata": {
        "colab": {
          "base_uri": "https://localhost:8080/",
          "height": 78
        },
        "id": "LKejlVzxSyJZ",
        "outputId": "8156173d-472e-430c-af5d-3c14d0683e01"
      },
      "source": [
        "A = Matrix([[0,2,3,4],[2,-6,7,15],[1,-2,5,10]])\n",
        "B = A.rref(pivots=False)\n",
        "B"
      ],
      "execution_count": null,
      "outputs": [
        {
          "output_type": "execute_result",
          "data": {
            "text/latex": "$$\\left[\\begin{matrix}1 & 0 & 8 & 0\\\\0 & 1 & \\frac{3}{2} & 0\\\\0 & 0 & 0 & 1\\end{matrix}\\right]$$",
            "text/plain": [
              "⎡1  0   8   0⎤\n",
              "⎢            ⎥\n",
              "⎢0  1  3/2  0⎥\n",
              "⎢            ⎥\n",
              "⎣0  0   0   1⎦"
            ]
          },
          "metadata": {
            "tags": []
          },
          "execution_count": 26
        }
      ]
    },
    {
      "cell_type": "markdown",
      "metadata": {
        "id": "YtVtluDOcyeO"
      },
      "source": [
        "###**Ejemplo 8:**\n",
        "\n",
        "Encuentra la solución o soluciones del siguiente sistema de ecuaciones, si es posible, usando el método de eliminación de **Gauss-jordan**:\n",
        "\n",
        "$$\\left\\{\n",
        "\\begin{array}{rcl}\n",
        "      2x-y+z  & = & 3\n",
        "  \\\\ 3x+y-2z & = & -2\n",
        "  \\\\ x-y+z & = & 7\n",
        "  \\\\ x+5y+7z & = & 13\n",
        "  \\\\ x-7y-5z & = & 12\n",
        "\\end{array}\n",
        "\\right.$$"
      ]
    },
    {
      "cell_type": "code",
      "metadata": {
        "colab": {
          "base_uri": "https://localhost:8080/",
          "height": 119
        },
        "id": "dBOqTFtkF8GJ",
        "outputId": "d7bc6550-9b70-43c6-b4e2-776874011e50"
      },
      "source": [
        "A = Matrix([[2,-1,1,3],[3,1,-2,-2],[1,-1,1,7],[1,5,7,13],[1,-7,-5,12]])\n",
        "B = A.echelon_form(with_pivots=False)\n",
        "B"
      ],
      "execution_count": null,
      "outputs": [
        {
          "output_type": "execute_result",
          "data": {
            "text/latex": "$$\\left[\\begin{matrix}2 & -1 & 1 & 3\\\\0 & 5 & -7 & -13\\\\0 & 0 & -2 & 42\\\\0 & 0 & 0 & -6480\\\\0 & 0 & 0 & 0\\end{matrix}\\right]$$",
            "text/plain": [
              "⎡2  -1  1     3  ⎤\n",
              "⎢                ⎥\n",
              "⎢0  5   -7   -13 ⎥\n",
              "⎢                ⎥\n",
              "⎢0  0   -2   42  ⎥\n",
              "⎢                ⎥\n",
              "⎢0  0   0   -6480⎥\n",
              "⎢                ⎥\n",
              "⎣0  0   0     0  ⎦"
            ]
          },
          "metadata": {
            "tags": []
          },
          "execution_count": 4
        }
      ]
    },
    {
      "cell_type": "markdown",
      "metadata": {
        "id": "T60nQdXid0K5"
      },
      "source": [
        "###**Ejemplo 9:**\n",
        "\n",
        "Encuentra la solución o soluciones del siguiente sistema de ecuaciones, si es posible, usando el método de eliminación de **Gauss-jordan**:\n",
        "$$\\left\\{\n",
        "\\begin{array}{rcl}\n",
        "     x +y + z +w & = & 6\n",
        "  \\\\ 2x +y-z & = & 3\n",
        "  \\\\ 3x+y+2w & = & 6\n",
        "  \n",
        "\\end{array}\n",
        "\\right.$$"
      ]
    },
    {
      "cell_type": "code",
      "metadata": {
        "colab": {
          "base_uri": "https://localhost:8080/",
          "height": 78
        },
        "id": "tdfV3DH1cGQV",
        "outputId": "bc1fbd8a-1f3c-4b46-aa76-930a53230d36"
      },
      "source": [
        "A = Matrix([[1,1,1,1,6],[2,1,-1,0,3],[3,1,0,2,6]])\n",
        "B = A.rref(pivots=False) \n",
        "B"
      ],
      "execution_count": null,
      "outputs": [
        {
          "output_type": "execute_result",
          "data": {
            "text/latex": "$$\\left[\\begin{matrix}1 & 0 & 0 & 1 & 1\\\\0 & 1 & 0 & -1 & 3\\\\0 & 0 & 1 & 1 & 2\\end{matrix}\\right]$$",
            "text/plain": [
              "⎡1  0  0  1   1⎤\n",
              "⎢              ⎥\n",
              "⎢0  1  0  -1  3⎥\n",
              "⎢              ⎥\n",
              "⎣0  0  1  1   2⎦"
            ]
          },
          "metadata": {
            "tags": []
          },
          "execution_count": 10
        }
      ]
    },
    {
      "cell_type": "markdown",
      "metadata": {
        "id": "vA8cXYWvebCa"
      },
      "source": [
        "###**Ejemplo 10:**\n",
        "\n",
        "Encuentra la solución o soluciones del siguiente sistema de ecuaciones, si es posible, usando el método de eliminación de **Gauss-jordan**:\n",
        "$$\\left\\{\n",
        "\\begin{array}{rcl}\n",
        "     x  + z & = & 0\n",
        "  \\\\ 3x +y+6z+w & = & 1\n",
        "  \\\\ 3x+9z+6w & = & 0\n",
        "  \\\\ 9x +3y+9w & = & 15\n",
        "  \n",
        "\\end{array}\n",
        "\\right.$$"
      ]
    },
    {
      "cell_type": "code",
      "metadata": {
        "colab": {
          "base_uri": "https://localhost:8080/",
          "height": 99
        },
        "id": "oJOz4yqjXIZK",
        "outputId": "f6ad74b8-4c37-4b9f-84c0-ef3f686a6f34"
      },
      "source": [
        "A = Matrix([[1,0,1,0,0],[3 ,1,6,1,1],[3,0,9,6,0],[9,3,0,9,15]])\n",
        "B = A.rref(pivots=False) \n",
        "B"
      ],
      "execution_count": null,
      "outputs": [
        {
          "output_type": "execute_result",
          "data": {
            "text/latex": "$\\displaystyle \\left[\\begin{matrix}1 & 0 & 0 & 0 & \\frac{1}{2}\\\\0 & 1 & 0 & 0 & 2\\\\0 & 0 & 1 & 0 & - \\frac{1}{2}\\\\0 & 0 & 0 & 1 & \\frac{1}{2}\\end{matrix}\\right]$",
            "text/plain": [
              "⎡1  0  0  0  1/2 ⎤\n",
              "⎢                ⎥\n",
              "⎢0  1  0  0   2  ⎥\n",
              "⎢                ⎥\n",
              "⎢0  0  1  0  -1/2⎥\n",
              "⎢                ⎥\n",
              "⎣0  0  0  1  1/2 ⎦"
            ]
          },
          "metadata": {
            "tags": []
          },
          "execution_count": 7
        }
      ]
    },
    {
      "cell_type": "markdown",
      "metadata": {
        "id": "a48EPyOWwdIc"
      },
      "source": [
        "# **Eliminación de Gauss-Jordan** --> *paso a paso*\n",
        "## **Operaciones elemantales sobre matrices**"
      ]
    },
    {
      "cell_type": "markdown",
      "metadata": {
        "id": "a8DSGsswon8y"
      },
      "source": [
        "|             Notación utilizada                  |         Operación sobre fila         | Código |\n",
        "|:-------------------------------:|:--------------------------------------:|:--------------:|\n",
        "|     $F_i \\longleftrightarrow F_j $  | Interrarcambiar la fila<br> $F_i$ con $F_j$ | **` M.row_swap(i, j)`**   |\n",
        "|            $k F_i \\rightarrow F_i  $           |  Multiplicar la fila $F_i$ <br> por la constante $k$ |     **`M[i ,:] = k*M[ i ,:]`**   |\n",
        "| $kF_i + F_j \\rightarrow F_j  $|  Sumar $k$ veces la fila $F_i$ <br> a la fila $F_j$ |    **`M[j ,:] = k*M[ i ,:] + M[j ,:]`**    |"
      ]
    },
    {
      "cell_type": "markdown",
      "metadata": {
        "id": "Nh3w3jQuwQxT"
      },
      "source": [
        "## **Interrarcambiar la fila $F_i$ con $F_j$** \n",
        "\n",
        "Dada la matriz $A$ aumentada intercambia la primera fila con la última fila.&nbsp;&nbsp;&nbsp;&nbsp;($F_1 \\longleftrightarrow F_3$)\n",
        "\n",
        "$$A=\\begin{bmatrix}\n",
        "2 & 7 & 5  & 6\\\\\n",
        "0 & 6 & 7  & 2\\\\\n",
        "1 & 4 & 3  & 1\\\\\n",
        "\\end{bmatrix}$$"
      ]
    },
    {
      "cell_type": "code",
      "metadata": {
        "id": "u1-53fFuj9E_",
        "colab": {
          "base_uri": "https://localhost:8080/",
          "height": 78
        },
        "outputId": "d0ef119f-f415-4c3a-b2b6-78df742074e0"
      },
      "source": [
        "A = Matrix([[2,7,5,6],[0,6,7,2],[1,4,3,1]])\n",
        "A.row_swap(0, 2)\n",
        "A"
      ],
      "execution_count": null,
      "outputs": [
        {
          "output_type": "execute_result",
          "data": {
            "text/latex": "$$\\left[\\begin{matrix}1 & 4 & 3 & 1\\\\0 & 6 & 7 & 2\\\\2 & 7 & 5 & 6\\end{matrix}\\right]$$",
            "text/plain": [
              "⎡1  4  3  1⎤\n",
              "⎢          ⎥\n",
              "⎢0  6  7  2⎥\n",
              "⎢          ⎥\n",
              "⎣2  7  5  6⎦"
            ]
          },
          "metadata": {
            "tags": []
          },
          "execution_count": 33
        }
      ]
    },
    {
      "cell_type": "markdown",
      "metadata": {
        "id": "9rR4h1bcyR84"
      },
      "source": [
        "## **Multiplicar la fila $F_i$ por la constante $k$** \n",
        "\n",
        "Dada la matriz $A$ aumentada multiplica por $\\frac{1}{5}$ la segunda fila.  &nbsp;&nbsp;&nbsp;&nbsp;($\\frac{1}{5} F_2 \\rightarrow F_2  $ )\n",
        "\n",
        "$$A=\\begin{bmatrix}\n",
        "2 & 7 & 5  & 6\\\\\n",
        "0 & 6 & 7  & 2\\\\\n",
        "1 & 4 & 3  & 1\\\\\n",
        "\\end{bmatrix}$$"
      ]
    },
    {
      "cell_type": "code",
      "metadata": {
        "id": "TwOi9g_jyR8_",
        "colab": {
          "base_uri": "https://localhost:8080/",
          "height": 78
        },
        "outputId": "e1ae8150-9756-4533-802a-beaf75d2b369"
      },
      "source": [
        "A = Matrix([[2,7,5,6],[0,6,7,2],[1,4,3,1]])\n",
        "A[1,:] = S(\"1/5\")*A[1,:]\n",
        "A"
      ],
      "execution_count": null,
      "outputs": [
        {
          "output_type": "execute_result",
          "data": {
            "text/latex": "$$\\left[\\begin{matrix}2 & 7 & 5 & 6\\\\0 & \\frac{6}{5} & \\frac{7}{5} & \\frac{2}{5}\\\\1 & 4 & 3 & 1\\end{matrix}\\right]$$",
            "text/plain": [
              "⎡2   7    5    6 ⎤\n",
              "⎢                ⎥\n",
              "⎢0  6/5  7/5  2/5⎥\n",
              "⎢                ⎥\n",
              "⎣1   4    3    1 ⎦"
            ]
          },
          "metadata": {
            "tags": []
          },
          "execution_count": 36
        }
      ]
    },
    {
      "cell_type": "markdown",
      "metadata": {
        "id": "nD75gHLAzcH1"
      },
      "source": [
        " ## **Sumar $k$ veces la fila $F_i$  a la fila $F_j$** \n",
        "\n",
        "Dada la matriz $A$ aumentada multiplica por $-5$ la segunda fila y adicionala a la fila 3  &nbsp;&nbsp;&nbsp;&nbsp;($-5F_2 + F_3 \\rightarrow F_3$ )\n",
        "\n",
        "$$A=\\begin{bmatrix}\n",
        "3 & 7 & 5  & 6\\\\\n",
        "1 & 6 & 7  & 2\\\\\n",
        "5 & 4 & 3  & 1\\\\\n",
        "\\end{bmatrix}$$"
      ]
    },
    {
      "cell_type": "code",
      "metadata": {
        "id": "KJhUqW8IzbT5",
        "colab": {
          "base_uri": "https://localhost:8080/",
          "height": 78
        },
        "outputId": "90f4c768-85d9-4bc3-9982-f17d9c0abf15"
      },
      "source": [
        "A = Matrix([[3,7,5,6],[1,6,7,2],[5,4,3,1]])\n",
        "A[2,:] = -5*A[1,:] + A[2,:]\n",
        "A"
      ],
      "execution_count": null,
      "outputs": [
        {
          "output_type": "execute_result",
          "data": {
            "text/latex": "$$\\left[\\begin{matrix}3 & 7 & 5 & 6\\\\1 & 6 & 7 & 2\\\\0 & -26 & -32 & -9\\end{matrix}\\right]$$",
            "text/plain": [
              "⎡3   7    5   6 ⎤\n",
              "⎢               ⎥\n",
              "⎢1   6    7   2 ⎥\n",
              "⎢               ⎥\n",
              "⎣0  -26  -32  -9⎦"
            ]
          },
          "metadata": {
            "tags": []
          },
          "execution_count": 37
        }
      ]
    },
    {
      "cell_type": "markdown",
      "metadata": {
        "id": "hhKNEekl0H-l"
      },
      "source": [
        "# **Ejercicio 1 : reducción de Gauss-Jordan** --> *paso a paso*\n",
        "\n",
        "Utilice el método de Gauss-Jordan para encontar todas las soluciones si existen del siguiente sistema dado\n",
        "\n",
        "$$\\left\\{\n",
        "\\begin{array}{rcl}\n",
        "     2x+ 4y+6z  & = & 18\n",
        "  \\\\ 4x+ 5y+6z & = & 24\n",
        "  \\\\ 3x+y-2z & = & 4\n",
        "\\end{array}\n",
        "\\right.$$\n"
      ]
    },
    {
      "cell_type": "markdown",
      "metadata": {
        "id": "M_sv0FmQ_l1u"
      },
      "source": [
        "###**Definimos la matriz**"
      ]
    },
    {
      "cell_type": "code",
      "metadata": {
        "id": "2ZckkdOkOaJB",
        "colab": {
          "base_uri": "https://localhost:8080/",
          "height": 78
        },
        "outputId": "357224cc-233a-4063-ed41-5685c86a9238"
      },
      "source": [
        "A=Matrix([[2,4,6,18], [4,5,6,24],[3,1,-2,4]])\n",
        "A"
      ],
      "execution_count": null,
      "outputs": [
        {
          "output_type": "execute_result",
          "data": {
            "text/latex": "$$\\left[\\begin{matrix}2 & 4 & 6 & 18\\\\4 & 5 & 6 & 24\\\\3 & 1 & -2 & 4\\end{matrix}\\right]$$",
            "text/plain": [
              "⎡2  4  6   18⎤\n",
              "⎢            ⎥\n",
              "⎢4  5  6   24⎥\n",
              "⎢            ⎥\n",
              "⎣3  1  -2  4 ⎦"
            ]
          },
          "metadata": {
            "tags": []
          },
          "execution_count": 53
        }
      ]
    },
    {
      "cell_type": "markdown",
      "metadata": {
        "id": "eCsb0NKS_9hk"
      },
      "source": [
        "### **Multiplicamos por $\\frac{1}{2}$ la fila 1:**&nbsp;&nbsp;&nbsp;&nbsp;($\\frac{1}{2} F_1 \\rightarrow F_1  $ )"
      ]
    },
    {
      "cell_type": "code",
      "metadata": {
        "id": "cqHky56zOaJD",
        "colab": {
          "base_uri": "https://localhost:8080/",
          "height": 78
        },
        "outputId": "4b7be228-0ba1-4adf-baca-2bd9a979ae84"
      },
      "source": [
        "A[0,:] =  S(\"1/2\")*A[0,:]\n",
        "A\n"
      ],
      "execution_count": null,
      "outputs": [
        {
          "output_type": "execute_result",
          "data": {
            "text/latex": "$$\\left[\\begin{matrix}\\frac{1}{2} & 1 & \\frac{3}{2} & \\frac{9}{2}\\\\4 & 5 & 6 & 24\\\\3 & 1 & -2 & 4\\end{matrix}\\right]$$",
            "text/plain": [
              "⎡1/2  1  3/2  9/2⎤\n",
              "⎢                ⎥\n",
              "⎢ 4   5   6   24 ⎥\n",
              "⎢                ⎥\n",
              "⎣ 3   1  -2    4 ⎦"
            ]
          },
          "metadata": {
            "tags": []
          },
          "execution_count": 51
        }
      ]
    },
    {
      "cell_type": "markdown",
      "metadata": {
        "id": "vOd7PisBCO0r"
      },
      "source": [
        "### **Multiplicamos por $-4$ &nbsp; la fila&nbsp; $1$ &nbsp; y se la sumamos a la fila&nbsp; $2$:**&nbsp;&nbsp;&nbsp;&nbsp;($-4F_1 + F_2 \\rightarrow F_2 $ )"
      ]
    },
    {
      "cell_type": "code",
      "metadata": {
        "id": "Xsv7Z3AFOaJF"
      },
      "source": [
        "A[1,:]=-(4)*A[0,:]+A[1,:]\n",
        "A\n"
      ],
      "execution_count": null,
      "outputs": []
    },
    {
      "cell_type": "markdown",
      "metadata": {
        "id": "IEOTgBnTEWf8"
      },
      "source": [
        "### **Multiplicamos por $-3$ &nbsp; la fila&nbsp; $1$ &nbsp; y se la sumamos a la fila&nbsp; $3$:**&nbsp;&nbsp;&nbsp;&nbsp;($-3F_1 + F_3 \\rightarrow F_3 $ )"
      ]
    },
    {
      "cell_type": "code",
      "metadata": {
        "colab": {
          "base_uri": "https://localhost:8080/",
          "height": 78
        },
        "id": "Uesr2p1-EWgZ",
        "outputId": "662b062d-ecb1-4df4-c3f3-f418a4d2b523"
      },
      "source": [
        "A[2,:]=-(3)*A[0,:] + A[2,:]\n",
        "A"
      ],
      "execution_count": null,
      "outputs": [
        {
          "output_type": "execute_result",
          "data": {
            "text/latex": "$$\\left[\\begin{matrix}1 & 2 & 3 & 9\\\\0 & -3 & -6 & -12\\\\0 & -5 & -11 & -23\\end{matrix}\\right]$$",
            "text/plain": [
              "⎡1  2    3    9 ⎤\n",
              "⎢               ⎥\n",
              "⎢0  -3  -6   -12⎥\n",
              "⎢               ⎥\n",
              "⎣0  -5  -11  -23⎦"
            ]
          },
          "metadata": {
            "tags": []
          },
          "execution_count": 41
        }
      ]
    },
    {
      "cell_type": "markdown",
      "metadata": {
        "id": "KOI3-j__FRdq"
      },
      "source": [
        "### **Multiplicamos por $-\\frac{1}{3}$ la fila 1:**&nbsp;&nbsp;&nbsp;&nbsp;($-\\frac{1}{3} F_2 \\rightarrow F_2  $ )"
      ]
    },
    {
      "cell_type": "code",
      "metadata": {
        "id": "hvhS2bEzOaJH"
      },
      "source": [
        "A[1,:] =S(\"-1/3\")*A[1,:]\n",
        "A"
      ],
      "execution_count": null,
      "outputs": []
    },
    {
      "cell_type": "markdown",
      "metadata": {
        "id": "z1g6jIbVGosZ"
      },
      "source": [
        "### **Multiplicamos por &nbsp; $2$ &nbsp; la fila&nbsp; $2$ &nbsp; y se la sumamos a la fila&nbsp; $1$:**&nbsp;&nbsp;&nbsp;&nbsp;($-2F_2 + F_1 \\rightarrow F_1 $ )"
      ]
    },
    {
      "cell_type": "code",
      "metadata": {
        "colab": {
          "base_uri": "https://localhost:8080/",
          "height": 78
        },
        "id": "C72KvuqgGmKw",
        "outputId": "a7d00f98-7ab3-48f8-d46a-bbc5bd3afded"
      },
      "source": [
        "A[0,:] = -2*A[1,:] + A[0,:]\n",
        "A"
      ],
      "execution_count": null,
      "outputs": [
        {
          "output_type": "execute_result",
          "data": {
            "text/latex": "$$\\left[\\begin{matrix}1 & 0 & -1 & 1\\\\0 & 1 & 2 & 4\\\\0 & -5 & -11 & -23\\end{matrix}\\right]$$",
            "text/plain": [
              "⎡1  0   -1    1 ⎤\n",
              "⎢               ⎥\n",
              "⎢0  1    2    4 ⎥\n",
              "⎢               ⎥\n",
              "⎣0  -5  -11  -23⎦"
            ]
          },
          "metadata": {
            "tags": []
          },
          "execution_count": 43
        }
      ]
    },
    {
      "cell_type": "markdown",
      "metadata": {
        "id": "sHyM0T-bHhtE"
      },
      "source": [
        "### **Multiplicamos por &nbsp; $5$ &nbsp; la fila&nbsp; $2$ &nbsp; y se la sumamos a la fila&nbsp; $3$:**&nbsp;&nbsp;&nbsp;&nbsp;($5F_2 + F_3 \\rightarrow F_3 $ )"
      ]
    },
    {
      "cell_type": "code",
      "metadata": {
        "id": "mopE0RuKOaJK",
        "colab": {
          "base_uri": "https://localhost:8080/",
          "height": 78
        },
        "outputId": "44385f51-cb46-4c69-b9f1-81eabc9366e9"
      },
      "source": [
        "A[2,:] = 5*A[1,:] + A[2,:]\n",
        "A"
      ],
      "execution_count": null,
      "outputs": [
        {
          "output_type": "execute_result",
          "data": {
            "text/latex": "$$\\left[\\begin{matrix}1 & 0 & -1 & 1\\\\0 & 1 & 2 & 4\\\\0 & 0 & -1 & -3\\end{matrix}\\right]$$",
            "text/plain": [
              "⎡1  0  -1  1 ⎤\n",
              "⎢            ⎥\n",
              "⎢0  1  2   4 ⎥\n",
              "⎢            ⎥\n",
              "⎣0  0  -1  -3⎦"
            ]
          },
          "metadata": {
            "tags": []
          },
          "execution_count": 44
        }
      ]
    },
    {
      "cell_type": "markdown",
      "metadata": {
        "id": "QE6nsSVvIRho"
      },
      "source": [
        "### **Multiplicamos por $-1$ la fila 3:**&nbsp;&nbsp;&nbsp;&nbsp;($-1 F_3 \\rightarrow F_3  $ )"
      ]
    },
    {
      "cell_type": "code",
      "metadata": {
        "id": "YOz6Km7YOaJM",
        "colab": {
          "base_uri": "https://localhost:8080/",
          "height": 78
        },
        "outputId": "df0784bf-8d2c-4d2d-ae46-715609d5e9ac"
      },
      "source": [
        "A[2,:] =-1* A[2,:] \n",
        "A"
      ],
      "execution_count": null,
      "outputs": [
        {
          "output_type": "execute_result",
          "data": {
            "text/latex": "$$\\left[\\begin{matrix}1 & 0 & -1 & 1\\\\0 & 1 & 2 & 4\\\\0 & 0 & 1 & 3\\end{matrix}\\right]$$",
            "text/plain": [
              "⎡1  0  -1  1⎤\n",
              "⎢           ⎥\n",
              "⎢0  1  2   4⎥\n",
              "⎢           ⎥\n",
              "⎣0  0  1   3⎦"
            ]
          },
          "metadata": {
            "tags": []
          },
          "execution_count": 45
        }
      ]
    },
    {
      "cell_type": "markdown",
      "metadata": {
        "id": "czXg3hSOJmFX"
      },
      "source": [
        "### **Multiplicamos por &nbsp; $-2$ &nbsp; la fila&nbsp; $3$ &nbsp; y se la sumamos a la fila&nbsp; $2$:**&nbsp;&nbsp;&nbsp;&nbsp;($-2F_3 + F_2 \\rightarrow F_2 $ )"
      ]
    },
    {
      "cell_type": "code",
      "metadata": {
        "colab": {
          "base_uri": "https://localhost:8080/",
          "height": 78
        },
        "id": "NSF53SECJmF3",
        "outputId": "92103d44-350c-4a85-f651-6fb446672593"
      },
      "source": [
        "A[1,:] = -2*A[2,:] + A[1,:]\n",
        "A"
      ],
      "execution_count": null,
      "outputs": [
        {
          "output_type": "execute_result",
          "data": {
            "text/latex": "$$\\left[\\begin{matrix}1 & 0 & 0 & 4\\\\0 & 1 & -2 & -8\\\\0 & 0 & 1 & 3\\end{matrix}\\right]$$",
            "text/plain": [
              "⎡1  0  0   4 ⎤\n",
              "⎢            ⎥\n",
              "⎢0  1  -2  -8⎥\n",
              "⎢            ⎥\n",
              "⎣0  0  1   3 ⎦"
            ]
          },
          "metadata": {
            "tags": []
          },
          "execution_count": 48
        }
      ]
    },
    {
      "cell_type": "markdown",
      "metadata": {
        "id": "1qfibHwAKecg"
      },
      "source": [
        "### **Multiplicamos por &nbsp; $1$ &nbsp; la fila&nbsp; $3$ &nbsp; y se la sumamos a la fila&nbsp; $1$:**&nbsp;&nbsp;&nbsp;&nbsp;($1F_3 + F_1 \\rightarrow F_1 $ )"
      ]
    },
    {
      "cell_type": "code",
      "metadata": {
        "colab": {
          "base_uri": "https://localhost:8080/",
          "height": 78
        },
        "id": "TGGl_rZ3Keci",
        "outputId": "f4e0227f-561e-4df7-f33a-edab2b8d2253"
      },
      "source": [
        "A[0,:] = 1*A[2,:] + A[0,:]\n",
        "A"
      ],
      "execution_count": null,
      "outputs": [
        {
          "output_type": "execute_result",
          "data": {
            "text/latex": "$$\\left[\\begin{matrix}1 & 0 & 0 & 4\\\\0 & 1 & 0 & -2\\\\0 & 0 & 1 & 3\\end{matrix}\\right]$$",
            "text/plain": [
              "⎡1  0  0  4 ⎤\n",
              "⎢           ⎥\n",
              "⎢0  1  0  -2⎥\n",
              "⎢           ⎥\n",
              "⎣0  0  1  3 ⎦"
            ]
          },
          "metadata": {
            "tags": []
          },
          "execution_count": 47
        }
      ]
    },
    {
      "cell_type": "markdown",
      "metadata": {
        "id": "3oNhmN8Nh8AC"
      },
      "source": [
        "# **Ejercicio 2 : reducción de Gauss-Jordan** --> *paso a paso*\n",
        "\n",
        "Utilice el método de Gauss-Jordan para encontar todas las soluciones si existen del siguiente sistema dado\n",
        "\n",
        "$$\\left\\{\n",
        "\\begin{array}{rcl}\n",
        "     2x+ 4y+6z  & = & 18\n",
        "  \\\\ 4x+ 5y+6z & = & 24\n",
        "  \\\\ 3x+y-2z & = & 4\n",
        "\\end{array}\n",
        "\\right.$$"
      ]
    },
    {
      "cell_type": "code",
      "metadata": {
        "id": "6KfAd_lRWL3R",
        "colab": {
          "base_uri": "https://localhost:8080/",
          "height": 78
        },
        "outputId": "a6ff94e1-e113-4dbb-a5d7-af50bea7769d"
      },
      "source": [
        "A=Matrix([[2,4,6,18], [4,5,6,24],[2,7,12,30]])\n",
        "A"
      ],
      "execution_count": null,
      "outputs": [
        {
          "output_type": "execute_result",
          "data": {
            "text/latex": "$$\\left[\\begin{matrix}2 & 4 & 6 & 18\\\\4 & 5 & 6 & 24\\\\2 & 7 & 12 & 30\\end{matrix}\\right]$$",
            "text/plain": [
              "⎡2  4  6   18⎤\n",
              "⎢            ⎥\n",
              "⎢4  5  6   24⎥\n",
              "⎢            ⎥\n",
              "⎣2  7  12  30⎦"
            ]
          },
          "metadata": {
            "tags": []
          },
          "execution_count": 60
        }
      ]
    },
    {
      "cell_type": "code",
      "metadata": {
        "colab": {
          "base_uri": "https://localhost:8080/",
          "height": 78
        },
        "id": "ZMVfoV1nMX9i",
        "outputId": "bc81d49d-467a-4a65-c3a7-a7157557e135"
      },
      "source": [
        "A[0,:] = S(\"1/2\")*A[0,:]\n",
        "A"
      ],
      "execution_count": null,
      "outputs": [
        {
          "output_type": "execute_result",
          "data": {
            "text/latex": "$$\\left[\\begin{matrix}1 & 2 & 3 & 9\\\\4 & 5 & 6 & 24\\\\2 & 7 & 12 & 30\\end{matrix}\\right]$$",
            "text/plain": [
              "⎡1  2  3   9 ⎤\n",
              "⎢            ⎥\n",
              "⎢4  5  6   24⎥\n",
              "⎢            ⎥\n",
              "⎣2  7  12  30⎦"
            ]
          },
          "metadata": {
            "tags": []
          },
          "execution_count": 61
        }
      ]
    },
    {
      "cell_type": "code",
      "metadata": {
        "colab": {
          "base_uri": "https://localhost:8080/",
          "height": 78
        },
        "id": "IGJ32WG_NKo8",
        "outputId": "0d7f33b2-aaf0-4798-ea43-0d903d9829a0"
      },
      "source": [
        "A[1,:] = -4*A[0,:] + A[1,:] \n",
        "A[2,:] = -2*A[0,:] + A[2,:] \n",
        "A"
      ],
      "execution_count": null,
      "outputs": [
        {
          "output_type": "execute_result",
          "data": {
            "text/latex": "$$\\left[\\begin{matrix}1 & 2 & 3 & 9\\\\0 & -3 & -6 & -12\\\\0 & 3 & 6 & 12\\end{matrix}\\right]$$",
            "text/plain": [
              "⎡1  2   3    9 ⎤\n",
              "⎢              ⎥\n",
              "⎢0  -3  -6  -12⎥\n",
              "⎢              ⎥\n",
              "⎣0  3   6   12 ⎦"
            ]
          },
          "metadata": {
            "tags": []
          },
          "execution_count": 62
        }
      ]
    },
    {
      "cell_type": "code",
      "metadata": {
        "colab": {
          "base_uri": "https://localhost:8080/",
          "height": 78
        },
        "id": "dc0UAIgGNrYx",
        "outputId": "a490ba99-4574-4101-bfd1-711bab6d0af0"
      },
      "source": [
        "A[1,:] = S(\"-1/3\")*A[1,:]\n",
        "A"
      ],
      "execution_count": null,
      "outputs": [
        {
          "output_type": "execute_result",
          "data": {
            "text/latex": "$$\\left[\\begin{matrix}1 & 2 & 3 & 9\\\\0 & 1 & 2 & 4\\\\0 & 3 & 6 & 12\\end{matrix}\\right]$$",
            "text/plain": [
              "⎡1  2  3  9 ⎤\n",
              "⎢           ⎥\n",
              "⎢0  1  2  4 ⎥\n",
              "⎢           ⎥\n",
              "⎣0  3  6  12⎦"
            ]
          },
          "metadata": {
            "tags": []
          },
          "execution_count": 63
        }
      ]
    },
    {
      "cell_type": "code",
      "metadata": {
        "colab": {
          "base_uri": "https://localhost:8080/",
          "height": 78
        },
        "id": "-T8O6OjJOIPT",
        "outputId": "bae804b1-ffc0-409e-ae9c-50dfa784417b"
      },
      "source": [
        "A[0,:] = -2*A[1,:] + A[0,:] \n",
        "A[2,:] = -3*A[1,:] + A[2,:] \n",
        "A"
      ],
      "execution_count": null,
      "outputs": [
        {
          "output_type": "execute_result",
          "data": {
            "text/latex": "$$\\left[\\begin{matrix}1 & 0 & -1 & 1\\\\0 & 1 & 2 & 4\\\\0 & 0 & 0 & 0\\end{matrix}\\right]$$",
            "text/plain": [
              "⎡1  0  -1  1⎤\n",
              "⎢           ⎥\n",
              "⎢0  1  2   4⎥\n",
              "⎢           ⎥\n",
              "⎣0  0  0   0⎦"
            ]
          },
          "metadata": {
            "tags": []
          },
          "execution_count": 64
        }
      ]
    },
    {
      "cell_type": "markdown",
      "metadata": {
        "id": "eGyDcVCCijHg"
      },
      "source": [
        "# **Ejercicio 3 : reducción de Gauss-Jordan** --> *paso a paso*\n",
        "\n",
        "Encuentra la solución o soluciones del siguiente sistema de ecuaciones, si es posible, usando el método de eliminación de **Gauss-jordan**:\n",
        "\n",
        "$$\\left\\{\n",
        "\\begin{array}{rcl}\n",
        "     x +y + z +w & = & 6\n",
        "  \\\\ 2x +y-z & = & 3\n",
        "  \\\\ 3x+y+2w & = & 6\n",
        "  \n",
        "\\end{array}\n",
        "\\right.$$"
      ]
    },
    {
      "cell_type": "code",
      "metadata": {
        "id": "AG9xtf8COdpC",
        "colab": {
          "base_uri": "https://localhost:8080/",
          "height": 78
        },
        "outputId": "1effd87e-752c-4fac-ec79-fd7654625e06"
      },
      "source": [
        "A=Matrix([[1,1,1,1,6], [2, 1,-1,0,3],[3, 1, 0, 2,6]])\n",
        "A"
      ],
      "execution_count": null,
      "outputs": [
        {
          "output_type": "execute_result",
          "data": {
            "text/latex": "$\\displaystyle \\left[\\begin{matrix}1 & 1 & 1 & 1 & 6\\\\2 & 1 & -1 & 0 & 3\\\\3 & 1 & 0 & 2 & 6\\end{matrix}\\right]$",
            "text/plain": [
              "⎡1  1  1   1  6⎤\n",
              "⎢              ⎥\n",
              "⎢2  1  -1  0  3⎥\n",
              "⎢              ⎥\n",
              "⎣3  1  0   2  6⎦"
            ]
          },
          "metadata": {
            "tags": []
          },
          "execution_count": 8
        }
      ]
    },
    {
      "cell_type": "code",
      "metadata": {
        "colab": {
          "base_uri": "https://localhost:8080/",
          "height": 78
        },
        "id": "qTHXE_DzamTZ",
        "outputId": "d324662e-5686-47a6-bc86-66611f9ddfaf"
      },
      "source": [
        "A[1,:] = -2*A[0,:] + A[1,:]\n",
        "A[2,:] = -3*A[0,:] + A[2,:]\n",
        "A\n"
      ],
      "execution_count": null,
      "outputs": [
        {
          "output_type": "execute_result",
          "data": {
            "text/latex": "$\\displaystyle \\left[\\begin{matrix}1 & 1 & 1 & 1 & 6\\\\0 & -1 & -3 & -2 & -9\\\\0 & -2 & -3 & -1 & -12\\end{matrix}\\right]$",
            "text/plain": [
              "⎡1  1   1   1    6 ⎤\n",
              "⎢                  ⎥\n",
              "⎢0  -1  -3  -2  -9 ⎥\n",
              "⎢                  ⎥\n",
              "⎣0  -2  -3  -1  -12⎦"
            ]
          },
          "metadata": {
            "tags": []
          },
          "execution_count": 9
        }
      ]
    },
    {
      "cell_type": "code",
      "metadata": {
        "colab": {
          "base_uri": "https://localhost:8080/",
          "height": 78
        },
        "id": "mF6HEJ13b7n-",
        "outputId": "f157554f-094a-4f6b-b39b-1c67f6cd14bd"
      },
      "source": [
        "A[1,:] = -1*A[1,:]\n",
        "A"
      ],
      "execution_count": null,
      "outputs": [
        {
          "output_type": "execute_result",
          "data": {
            "text/latex": "$\\displaystyle \\left[\\begin{matrix}1 & 1 & 1 & 1 & 6\\\\0 & 1 & 3 & 2 & 9\\\\0 & -2 & -3 & -1 & -12\\end{matrix}\\right]$",
            "text/plain": [
              "⎡1  1   1   1    6 ⎤\n",
              "⎢                  ⎥\n",
              "⎢0  1   3   2    9 ⎥\n",
              "⎢                  ⎥\n",
              "⎣0  -2  -3  -1  -12⎦"
            ]
          },
          "metadata": {
            "tags": []
          },
          "execution_count": 10
        }
      ]
    },
    {
      "cell_type": "code",
      "metadata": {
        "colab": {
          "base_uri": "https://localhost:8080/",
          "height": 78
        },
        "id": "YRcF5RK6cK6O",
        "outputId": "443691f0-970c-4a14-ce31-664986a297e9"
      },
      "source": [
        "A[0,:] = -1*A[1,:] + A[0,:]\n",
        "A[2,:] = 2*A[1,:] + A[2,:]\n",
        "A"
      ],
      "execution_count": null,
      "outputs": [
        {
          "output_type": "execute_result",
          "data": {
            "text/latex": "$\\displaystyle \\left[\\begin{matrix}1 & 0 & -2 & -1 & -3\\\\0 & 1 & 3 & 2 & 9\\\\0 & 0 & 3 & 3 & 6\\end{matrix}\\right]$",
            "text/plain": [
              "⎡1  0  -2  -1  -3⎤\n",
              "⎢                ⎥\n",
              "⎢0  1  3   2   9 ⎥\n",
              "⎢                ⎥\n",
              "⎣0  0  3   3   6 ⎦"
            ]
          },
          "metadata": {
            "tags": []
          },
          "execution_count": 11
        }
      ]
    },
    {
      "cell_type": "code",
      "metadata": {
        "colab": {
          "base_uri": "https://localhost:8080/",
          "height": 78
        },
        "id": "75v1MJyLcdMy",
        "outputId": "1c93c1c4-2131-4ffe-c5c2-d4ced24a53f2"
      },
      "source": [
        "A[2,:] = S(\"1/3\")*A[2,:]\n",
        "A"
      ],
      "execution_count": null,
      "outputs": [
        {
          "output_type": "execute_result",
          "data": {
            "text/latex": "$\\displaystyle \\left[\\begin{matrix}1 & 0 & -2 & -1 & -3\\\\0 & 1 & 3 & 2 & 9\\\\0 & 0 & 1 & 1 & 2\\end{matrix}\\right]$",
            "text/plain": [
              "⎡1  0  -2  -1  -3⎤\n",
              "⎢                ⎥\n",
              "⎢0  1  3   2   9 ⎥\n",
              "⎢                ⎥\n",
              "⎣0  0  1   1   2 ⎦"
            ]
          },
          "metadata": {
            "tags": []
          },
          "execution_count": 12
        }
      ]
    },
    {
      "cell_type": "code",
      "metadata": {
        "colab": {
          "base_uri": "https://localhost:8080/",
          "height": 78
        },
        "id": "IWK_5ny3cv_m",
        "outputId": "acf3a852-89b9-4ce3-afe8-3150a7c1967d"
      },
      "source": [
        "A[0,:] = 2*A[2,:] + A[0,:]\n",
        "A[1,:] = -3*A[2,:] + A[1,:]\n",
        "A"
      ],
      "execution_count": null,
      "outputs": [
        {
          "output_type": "execute_result",
          "data": {
            "text/latex": "$\\displaystyle \\left[\\begin{matrix}1 & 0 & 0 & 1 & 1\\\\0 & 1 & 0 & -1 & 3\\\\0 & 0 & 1 & 1 & 2\\end{matrix}\\right]$",
            "text/plain": [
              "⎡1  0  0  1   1⎤\n",
              "⎢              ⎥\n",
              "⎢0  1  0  -1  3⎥\n",
              "⎢              ⎥\n",
              "⎣0  0  1  1   2⎦"
            ]
          },
          "metadata": {
            "tags": []
          },
          "execution_count": 13
        }
      ]
    },
    {
      "cell_type": "code",
      "metadata": {
        "colab": {
          "base_uri": "https://localhost:8080/",
          "height": 78
        },
        "id": "0Oj8a6epPc5g",
        "outputId": "b8e5620d-af4b-43ee-baa1-76222b80bec3"
      },
      "source": [
        "A=Matrix([[0,2,3,4], [2,-6,7,15],[1,-2,5,10]])\n",
        "A"
      ],
      "execution_count": null,
      "outputs": [
        {
          "output_type": "execute_result",
          "data": {
            "text/latex": "$\\displaystyle \\left[\\begin{matrix}0 & 2 & 3 & 4\\\\2 & -6 & 7 & 15\\\\1 & -2 & 5 & 10\\end{matrix}\\right]$",
            "text/plain": [
              "⎡0  2   3  4 ⎤\n",
              "⎢            ⎥\n",
              "⎢2  -6  7  15⎥\n",
              "⎢            ⎥\n",
              "⎣1  -2  5  10⎦"
            ]
          },
          "metadata": {
            "tags": []
          },
          "execution_count": 14
        }
      ]
    },
    {
      "cell_type": "code",
      "metadata": {
        "colab": {
          "base_uri": "https://localhost:8080/",
          "height": 78
        },
        "id": "V-Tdeq8IPuGo",
        "outputId": "0644a26e-b77f-4ed4-d4cf-d7ed4c5745e9"
      },
      "source": [
        "A.row_swap(0,2)\n",
        "A"
      ],
      "execution_count": null,
      "outputs": [
        {
          "output_type": "execute_result",
          "data": {
            "text/latex": "$\\displaystyle \\left[\\begin{matrix}1 & -2 & 5 & 10\\\\2 & -6 & 7 & 15\\\\0 & 2 & 3 & 4\\end{matrix}\\right]$",
            "text/plain": [
              "⎡1  -2  5  10⎤\n",
              "⎢            ⎥\n",
              "⎢2  -6  7  15⎥\n",
              "⎢            ⎥\n",
              "⎣0  2   3  4 ⎦"
            ]
          },
          "metadata": {
            "tags": []
          },
          "execution_count": 15
        }
      ]
    },
    {
      "cell_type": "code",
      "metadata": {
        "colab": {
          "base_uri": "https://localhost:8080/",
          "height": 78
        },
        "id": "QdXIAGVoP4uW",
        "outputId": "9d567af9-09a1-4c22-826e-87b963e11fb0"
      },
      "source": [
        "A[1,:] = -2*A[0,:] + A[1,:]\n",
        "A"
      ],
      "execution_count": null,
      "outputs": [
        {
          "output_type": "execute_result",
          "data": {
            "text/latex": "$\\displaystyle \\left[\\begin{matrix}1 & -2 & 5 & 10\\\\0 & -2 & -3 & -5\\\\0 & 2 & 3 & 4\\end{matrix}\\right]$",
            "text/plain": [
              "⎡1  -2  5   10⎤\n",
              "⎢             ⎥\n",
              "⎢0  -2  -3  -5⎥\n",
              "⎢             ⎥\n",
              "⎣0  2   3   4 ⎦"
            ]
          },
          "metadata": {
            "tags": []
          },
          "execution_count": 16
        }
      ]
    },
    {
      "cell_type": "code",
      "metadata": {
        "colab": {
          "base_uri": "https://localhost:8080/",
          "height": 78
        },
        "id": "P57lfjXZQJ8D",
        "outputId": "3fa733db-0ce0-45ae-ba52-3b1abeb657b9"
      },
      "source": [
        "A[1,:] = S(\"-1/2\")*A[1,:]\n",
        "A"
      ],
      "execution_count": null,
      "outputs": [
        {
          "output_type": "execute_result",
          "data": {
            "text/latex": "$\\displaystyle \\left[\\begin{matrix}1 & -2 & 5 & 10\\\\0 & 1 & \\frac{3}{2} & \\frac{5}{2}\\\\0 & 2 & 3 & 4\\end{matrix}\\right]$",
            "text/plain": [
              "⎡1  -2   5   10 ⎤\n",
              "⎢               ⎥\n",
              "⎢0  1   3/2  5/2⎥\n",
              "⎢               ⎥\n",
              "⎣0  2    3    4 ⎦"
            ]
          },
          "metadata": {
            "tags": []
          },
          "execution_count": 17
        }
      ]
    },
    {
      "cell_type": "code",
      "metadata": {
        "colab": {
          "base_uri": "https://localhost:8080/",
          "height": 78
        },
        "id": "t4j-pjQsQWTc",
        "outputId": "c38e9d73-c4e1-45d5-8f92-3297d879fa09"
      },
      "source": [
        "A[0,:] = 2*A[1,:] +  A[0,:]\n",
        "A[2,:] = -2*A[1,:] + A[2,:]\n",
        "A"
      ],
      "execution_count": null,
      "outputs": [
        {
          "output_type": "execute_result",
          "data": {
            "text/latex": "$\\displaystyle \\left[\\begin{matrix}1 & 0 & 8 & 15\\\\0 & 1 & \\frac{3}{2} & \\frac{5}{2}\\\\0 & 0 & 0 & -1\\end{matrix}\\right]$",
            "text/plain": [
              "⎡1  0   8   15 ⎤\n",
              "⎢              ⎥\n",
              "⎢0  1  3/2  5/2⎥\n",
              "⎢              ⎥\n",
              "⎣0  0   0   -1 ⎦"
            ]
          },
          "metadata": {
            "tags": []
          },
          "execution_count": 18
        }
      ]
    },
    {
      "cell_type": "markdown",
      "metadata": {
        "id": "776yomQ3iurQ"
      },
      "source": [
        "# **Ejercicio 4 : reducción de Gauss-Jordan** --> *paso a paso*\n",
        "\n",
        "Utilice el **método de Gauss-Jordan** para encontar todas las soluciones si existen del siguiente sistema dado\n",
        "\n",
        "$$\\left\\{\n",
        "\\begin{array}{rcl}\n",
        "      2x-y+z  & = & 3\n",
        "  \\\\ 3x+y-2z & = & -2\n",
        "  \\\\ x-y+z & = & 7\n",
        "  \\\\ x+5y+7z & = & 13\n",
        "  \\\\ x-7y-5z & = & 12\n",
        "\\end{array}\n",
        "\\right.$$"
      ]
    },
    {
      "cell_type": "code",
      "metadata": {
        "colab": {
          "base_uri": "https://localhost:8080/",
          "height": 119
        },
        "id": "O-mqwHn0VbED",
        "outputId": "7b18ce02-4c5f-4615-a1b1-d524b4d8e022"
      },
      "source": [
        "A=Matrix([[2,-1,1,3], [3,1,-2,-2],[1,-1,1,7],[1,5,7,13],[1,-7,-5,12]])\n",
        "A"
      ],
      "execution_count": null,
      "outputs": [
        {
          "output_type": "execute_result",
          "data": {
            "text/latex": "$$\\left[\\begin{matrix}2 & -1 & 1 & 3\\\\3 & 1 & -2 & -2\\\\1 & -1 & 1 & 7\\\\1 & 5 & 7 & 13\\\\1 & -7 & -5 & 12\\end{matrix}\\right]$$",
            "text/plain": [
              "⎡2  -1  1   3 ⎤\n",
              "⎢             ⎥\n",
              "⎢3  1   -2  -2⎥\n",
              "⎢             ⎥\n",
              "⎢1  -1  1   7 ⎥\n",
              "⎢             ⎥\n",
              "⎢1  5   7   13⎥\n",
              "⎢             ⎥\n",
              "⎣1  -7  -5  12⎦"
            ]
          },
          "metadata": {
            "tags": []
          },
          "execution_count": 2
        }
      ]
    },
    {
      "cell_type": "code",
      "metadata": {
        "colab": {
          "base_uri": "https://localhost:8080/",
          "height": 119
        },
        "id": "L0hmOrfWWK7k",
        "outputId": "0a408c62-f07e-4041-a316-8ed8bf928210"
      },
      "source": [
        "A.row_swap(0,2)\n",
        "A"
      ],
      "execution_count": null,
      "outputs": [
        {
          "output_type": "execute_result",
          "data": {
            "text/latex": "$$\\left[\\begin{matrix}1 & -1 & 1 & 7\\\\3 & 1 & -2 & -2\\\\2 & -1 & 1 & 3\\\\1 & 5 & 7 & 13\\\\1 & -7 & -5 & 12\\end{matrix}\\right]$$",
            "text/plain": [
              "⎡1  -1  1   7 ⎤\n",
              "⎢             ⎥\n",
              "⎢3  1   -2  -2⎥\n",
              "⎢             ⎥\n",
              "⎢2  -1  1   3 ⎥\n",
              "⎢             ⎥\n",
              "⎢1  5   7   13⎥\n",
              "⎢             ⎥\n",
              "⎣1  -7  -5  12⎦"
            ]
          },
          "metadata": {
            "tags": []
          },
          "execution_count": 3
        }
      ]
    },
    {
      "cell_type": "code",
      "metadata": {
        "colab": {
          "base_uri": "https://localhost:8080/",
          "height": 119
        },
        "id": "8mvvTDKlWehI",
        "outputId": "96f962a5-20f6-4df0-a987-a3cca2d3c3ec"
      },
      "source": [
        "A[1,:] = -3*A[0,:] +  A[1,:]\n",
        "A[2,:] = -2*A[0,:] +  A[2,:]\n",
        "A[3,:] = -1*A[0,:] +  A[3,:]\n",
        "A[4,:] = -1*A[0,:] +  A[4,:]\n",
        "A"
      ],
      "execution_count": null,
      "outputs": [
        {
          "output_type": "execute_result",
          "data": {
            "text/latex": "$$\\left[\\begin{matrix}1 & -1 & 1 & 7\\\\0 & 4 & -5 & -23\\\\0 & 1 & -1 & -11\\\\0 & 6 & 6 & 6\\\\0 & -6 & -6 & 5\\end{matrix}\\right]$$",
            "text/plain": [
              "⎡1  -1  1    7 ⎤\n",
              "⎢              ⎥\n",
              "⎢0  4   -5  -23⎥\n",
              "⎢              ⎥\n",
              "⎢0  1   -1  -11⎥\n",
              "⎢              ⎥\n",
              "⎢0  6   6    6 ⎥\n",
              "⎢              ⎥\n",
              "⎣0  -6  -6   5 ⎦"
            ]
          },
          "metadata": {
            "tags": []
          },
          "execution_count": 4
        }
      ]
    },
    {
      "cell_type": "code",
      "metadata": {
        "colab": {
          "base_uri": "https://localhost:8080/",
          "height": 119
        },
        "id": "vqf2eULbXK4M",
        "outputId": "8472df76-b809-4058-9de7-0293ba6c2403"
      },
      "source": [
        "A[1,:] = S(\"1/4\")*A[1,:]\n",
        "A"
      ],
      "execution_count": null,
      "outputs": [
        {
          "output_type": "execute_result",
          "data": {
            "text/latex": "$$\\left[\\begin{matrix}1 & -1 & 1 & 7\\\\0 & 1 & - \\frac{5}{4} & - \\frac{23}{4}\\\\0 & 1 & -1 & -11\\\\0 & 6 & 6 & 6\\\\0 & -6 & -6 & 5\\end{matrix}\\right]$$",
            "text/plain": [
              "⎡1  -1   1      7  ⎤\n",
              "⎢                  ⎥\n",
              "⎢0  1   -5/4  -23/4⎥\n",
              "⎢                  ⎥\n",
              "⎢0  1    -1    -11 ⎥\n",
              "⎢                  ⎥\n",
              "⎢0  6    6      6  ⎥\n",
              "⎢                  ⎥\n",
              "⎣0  -6   -6     5  ⎦"
            ]
          },
          "metadata": {
            "tags": []
          },
          "execution_count": 5
        }
      ]
    },
    {
      "cell_type": "code",
      "metadata": {
        "colab": {
          "base_uri": "https://localhost:8080/",
          "height": 119
        },
        "id": "juPDK3z2XUwP",
        "outputId": "2e992f06-c4f3-4083-d638-78ae11760cf0"
      },
      "source": [
        "A[0,:] = 1*A[1,:] +  A[0,:]\n",
        "A[2,:] = -1*A[1,:] +  A[2,:]\n",
        "A[3,:] = -6*A[1,:] +  A[3,:]\n",
        "A[4,:] = 6*A[1,:] +  A[4,:]\n",
        "A"
      ],
      "execution_count": null,
      "outputs": [
        {
          "output_type": "execute_result",
          "data": {
            "text/latex": "$$\\left[\\begin{matrix}1 & 0 & - \\frac{1}{4} & \\frac{5}{4}\\\\0 & 1 & - \\frac{5}{4} & - \\frac{23}{4}\\\\0 & 0 & \\frac{1}{4} & - \\frac{21}{4}\\\\0 & 0 & \\frac{27}{2} & \\frac{81}{2}\\\\0 & 0 & - \\frac{27}{2} & - \\frac{59}{2}\\end{matrix}\\right]$$",
            "text/plain": [
              "⎡1  0  -1/4    5/4 ⎤\n",
              "⎢                  ⎥\n",
              "⎢0  1  -5/4   -23/4⎥\n",
              "⎢                  ⎥\n",
              "⎢0  0   1/4   -21/4⎥\n",
              "⎢                  ⎥\n",
              "⎢0  0  27/2   81/2 ⎥\n",
              "⎢                  ⎥\n",
              "⎣0  0  -27/2  -59/2⎦"
            ]
          },
          "metadata": {
            "tags": []
          },
          "execution_count": 6
        }
      ]
    },
    {
      "cell_type": "code",
      "metadata": {
        "colab": {
          "base_uri": "https://localhost:8080/",
          "height": 119
        },
        "id": "tW59Aon7Xz79",
        "outputId": "8569d6fc-5993-4d83-d872-ed1fd0507556"
      },
      "source": [
        "A[2,:] = 4*A[2,:]\n",
        "A"
      ],
      "execution_count": null,
      "outputs": [
        {
          "output_type": "execute_result",
          "data": {
            "text/latex": "$$\\left[\\begin{matrix}1 & 0 & - \\frac{1}{4} & \\frac{5}{4}\\\\0 & 1 & - \\frac{5}{4} & - \\frac{23}{4}\\\\0 & 0 & 1 & -21\\\\0 & 0 & \\frac{27}{2} & \\frac{81}{2}\\\\0 & 0 & - \\frac{27}{2} & - \\frac{59}{2}\\end{matrix}\\right]$$",
            "text/plain": [
              "⎡1  0  -1/4    5/4 ⎤\n",
              "⎢                  ⎥\n",
              "⎢0  1  -5/4   -23/4⎥\n",
              "⎢                  ⎥\n",
              "⎢0  0    1     -21 ⎥\n",
              "⎢                  ⎥\n",
              "⎢0  0  27/2   81/2 ⎥\n",
              "⎢                  ⎥\n",
              "⎣0  0  -27/2  -59/2⎦"
            ]
          },
          "metadata": {
            "tags": []
          },
          "execution_count": 7
        }
      ]
    },
    {
      "cell_type": "code",
      "metadata": {
        "colab": {
          "base_uri": "https://localhost:8080/",
          "height": 119
        },
        "id": "dnHXiAyPYFhK",
        "outputId": "c97fc6e7-e9e3-4ec1-825b-ae5924d29b5b"
      },
      "source": [
        "A[0,:] = S(\"1/4\")*A[2,:] +  A[0,:]\n",
        "A[1,:] = S(\"5/4\")*A[2,:] +  A[1,:]\n",
        "A[3,:] = S(\"-27/2\")*A[2,:] +  A[3,:]\n",
        "A[4,:] = S(\"27/2\")*A[2,:] +  A[4,:]\n",
        "A"
      ],
      "execution_count": null,
      "outputs": [
        {
          "output_type": "execute_result",
          "data": {
            "text/latex": "$$\\left[\\begin{matrix}1 & 0 & 0 & -4\\\\0 & 1 & 0 & -32\\\\0 & 0 & 1 & -21\\\\0 & 0 & 0 & 324\\\\0 & 0 & 0 & -313\\end{matrix}\\right]$$",
            "text/plain": [
              "⎡1  0  0   -4 ⎤\n",
              "⎢             ⎥\n",
              "⎢0  1  0  -32 ⎥\n",
              "⎢             ⎥\n",
              "⎢0  0  1  -21 ⎥\n",
              "⎢             ⎥\n",
              "⎢0  0  0  324 ⎥\n",
              "⎢             ⎥\n",
              "⎣0  0  0  -313⎦"
            ]
          },
          "metadata": {
            "tags": []
          },
          "execution_count": 8
        }
      ]
    },
    {
      "cell_type": "markdown",
      "metadata": {
        "id": "AnzvupknWWhG"
      },
      "source": [
        "# **Ejercicio 5: reducción de Gauss-Jordan** --> *paso a paso*\n",
        "\n",
        "Utilice el método de Gauss-Jordan para encontar todas las soluciones si existen del siguiente sistema dado\n",
        "\n",
        "$$\\left\\{\n",
        "\\begin{array}{rcl}\n",
        "     2x+3z  & = & 4\n",
        "  \\\\ 2x- 6y+7z & = & 15\n",
        "  \\\\ x-2y+5z & = & 10\n",
        "\\end{array}\n",
        "\\right.$$\n"
      ]
    },
    {
      "cell_type": "code",
      "metadata": {
        "colab": {
          "base_uri": "https://localhost:8080/",
          "height": 78
        },
        "id": "JCYNIn4gWWhN",
        "outputId": "74bfec99-2db4-4fd8-e28d-67a483f01155"
      },
      "source": [
        "A=Matrix([[2,0,3,4], [2,-6,7,15],[1,-2,5,10]])\n",
        "A"
      ],
      "execution_count": null,
      "outputs": [
        {
          "output_type": "execute_result",
          "data": {
            "text/latex": "$$\\left[\\begin{matrix}2 & 0 & 3 & 4\\\\2 & -6 & 7 & 15\\\\1 & -2 & 5 & 10\\end{matrix}\\right]$$",
            "text/plain": [
              "⎡2  0   3  4 ⎤\n",
              "⎢            ⎥\n",
              "⎢2  -6  7  15⎥\n",
              "⎢            ⎥\n",
              "⎣1  -2  5  10⎦"
            ]
          },
          "metadata": {
            "tags": []
          },
          "execution_count": 46
        }
      ]
    },
    {
      "cell_type": "code",
      "metadata": {
        "colab": {
          "base_uri": "https://localhost:8080/",
          "height": 78
        },
        "id": "9rJl1MRbXdgH",
        "outputId": "d6202b75-f842-41ea-f413-d1b78872bc46"
      },
      "source": [
        "A.row_swap(0,2)\n",
        "A"
      ],
      "execution_count": null,
      "outputs": [
        {
          "output_type": "execute_result",
          "data": {
            "text/latex": "$$\\left[\\begin{matrix}1 & -2 & 5 & 10\\\\2 & -6 & 7 & 15\\\\2 & 0 & 3 & 4\\end{matrix}\\right]$$",
            "text/plain": [
              "⎡1  -2  5  10⎤\n",
              "⎢            ⎥\n",
              "⎢2  -6  7  15⎥\n",
              "⎢            ⎥\n",
              "⎣2  0   3  4 ⎦"
            ]
          },
          "metadata": {
            "tags": []
          },
          "execution_count": 47
        }
      ]
    },
    {
      "cell_type": "code",
      "metadata": {
        "colab": {
          "base_uri": "https://localhost:8080/",
          "height": 78
        },
        "id": "IbeT5V4SWWhQ",
        "outputId": "d2e09216-d611-4712-a027-236ffe2e2f4d"
      },
      "source": [
        "A[1,:] = -2*A[0,:]+A[1,:]\n",
        "A[2,:] = -2*A[0,:] +A[2,:]\n",
        "A"
      ],
      "execution_count": null,
      "outputs": [
        {
          "output_type": "execute_result",
          "data": {
            "text/latex": "$$\\left[\\begin{matrix}1 & -2 & 5 & 10\\\\0 & -2 & -3 & -5\\\\0 & 4 & -7 & -16\\end{matrix}\\right]$$",
            "text/plain": [
              "⎡1  -2  5   10 ⎤\n",
              "⎢              ⎥\n",
              "⎢0  -2  -3  -5 ⎥\n",
              "⎢              ⎥\n",
              "⎣0  4   -7  -16⎦"
            ]
          },
          "metadata": {
            "tags": []
          },
          "execution_count": 48
        }
      ]
    },
    {
      "cell_type": "code",
      "metadata": {
        "colab": {
          "base_uri": "https://localhost:8080/",
          "height": 78
        },
        "id": "yWrx6ZThYlYl",
        "outputId": "29acfe53-21cc-4bc7-b503-90735e2865fb"
      },
      "source": [
        "A[1,:] = S(\"-1/2\")*A[1,:]\n",
        "A"
      ],
      "execution_count": null,
      "outputs": [
        {
          "output_type": "execute_result",
          "data": {
            "text/latex": "$$\\left[\\begin{matrix}1 & -2 & 5 & 10\\\\0 & 1 & \\frac{3}{2} & \\frac{5}{2}\\\\0 & 4 & -7 & -16\\end{matrix}\\right]$$",
            "text/plain": [
              "⎡1  -2   5   10 ⎤\n",
              "⎢               ⎥\n",
              "⎢0  1   3/2  5/2⎥\n",
              "⎢               ⎥\n",
              "⎣0  4   -7   -16⎦"
            ]
          },
          "metadata": {
            "tags": []
          },
          "execution_count": 49
        }
      ]
    },
    {
      "cell_type": "code",
      "metadata": {
        "colab": {
          "base_uri": "https://localhost:8080/",
          "height": 78
        },
        "id": "boxh_wZ-Y2UH",
        "outputId": "ba3e30a6-cd8a-4086-fc04-144f48ccd499"
      },
      "source": [
        "A[0,:] =2*A[1,:] +A[0,:]\n",
        "A[2,:] =-4*A[1,:] +A[2,:]\n",
        "A"
      ],
      "execution_count": null,
      "outputs": [
        {
          "output_type": "execute_result",
          "data": {
            "text/latex": "$$\\left[\\begin{matrix}1 & 0 & 8 & 15\\\\0 & 1 & \\frac{3}{2} & \\frac{5}{2}\\\\0 & 0 & -13 & -26\\end{matrix}\\right]$$",
            "text/plain": [
              "⎡1  0   8   15 ⎤\n",
              "⎢              ⎥\n",
              "⎢0  1  3/2  5/2⎥\n",
              "⎢              ⎥\n",
              "⎣0  0  -13  -26⎦"
            ]
          },
          "metadata": {
            "tags": []
          },
          "execution_count": 50
        }
      ]
    },
    {
      "cell_type": "code",
      "metadata": {
        "colab": {
          "base_uri": "https://localhost:8080/",
          "height": 78
        },
        "id": "MZ8Rv2DHZQZJ",
        "outputId": "c4ff411c-5d80-4740-ff84-6b7b7d8445f2"
      },
      "source": [
        "A[2,:] = S(\"-1/13\")*A[2,:]\n",
        "A"
      ],
      "execution_count": null,
      "outputs": [
        {
          "output_type": "execute_result",
          "data": {
            "text/latex": "$$\\left[\\begin{matrix}1 & 0 & 8 & 15\\\\0 & 1 & \\frac{3}{2} & \\frac{5}{2}\\\\0 & 0 & 1 & 2\\end{matrix}\\right]$$",
            "text/plain": [
              "⎡1  0   8   15 ⎤\n",
              "⎢              ⎥\n",
              "⎢0  1  3/2  5/2⎥\n",
              "⎢              ⎥\n",
              "⎣0  0   1    2 ⎦"
            ]
          },
          "metadata": {
            "tags": []
          },
          "execution_count": 51
        }
      ]
    },
    {
      "cell_type": "code",
      "metadata": {
        "colab": {
          "base_uri": "https://localhost:8080/",
          "height": 78
        },
        "id": "JSZpWCJ_ZkqV",
        "outputId": "2111fc90-bb08-4f14-962c-473c9602a7f1"
      },
      "source": [
        "A[0,:] =-8*A[2,:] +A[0,:]\n",
        "A[1,:] =S(\"-3/2\")*A[2,:] +A[1,:]\n",
        "A"
      ],
      "execution_count": null,
      "outputs": [
        {
          "output_type": "execute_result",
          "data": {
            "text/latex": "$$\\left[\\begin{matrix}1 & 0 & 0 & -1\\\\0 & 1 & 0 & - \\frac{1}{2}\\\\0 & 0 & 1 & 2\\end{matrix}\\right]$$",
            "text/plain": [
              "⎡1  0  0   -1 ⎤\n",
              "⎢             ⎥\n",
              "⎢0  1  0  -1/2⎥\n",
              "⎢             ⎥\n",
              "⎣0  0  1   2  ⎦"
            ]
          },
          "metadata": {
            "tags": []
          },
          "execution_count": 52
        }
      ]
    },
    {
      "cell_type": "markdown",
      "metadata": {
        "id": "s17xLvW-ipoB"
      },
      "source": [
        "# **Ejercicio 6 :**\n",
        "\n",
        "Utilice el método de Gauss-Jordan para encontar los valores de $a$ y $b$ pra los cuales el sistema tiene:\n",
        "1. única solución\n",
        "2. infinitas soluciones\n",
        "3. no tiene solución\n",
        "\n",
        "\n",
        "\n",
        "$$\\left\\{\n",
        "\\begin{array}{rcl}\n",
        "     x+ y+3z  & = & 2\n",
        "  \\\\ x+ 2y+4z & = & 3\n",
        "  \\\\ x+3y+az & = & b\n",
        "\\end{array}\n",
        "\\right.$$"
      ]
    },
    {
      "cell_type": "code",
      "metadata": {
        "colab": {
          "base_uri": "https://localhost:8080/",
          "height": 78
        },
        "id": "b_iq_NB0cPwG",
        "outputId": "14006b57-b6dd-4361-f3de-245fd8458655"
      },
      "source": [
        "A=Matrix([[1,1,3,2], [1,2,4,3],[1,3,a,b]])\n",
        "A"
      ],
      "execution_count": null,
      "outputs": [
        {
          "output_type": "execute_result",
          "data": {
            "text/latex": "$\\displaystyle \\left[\\begin{matrix}1 & 1 & 3 & 2\\\\1 & 2 & 4 & 3\\\\1 & 3 & a & b\\end{matrix}\\right]$",
            "text/plain": [
              "⎡1  1  3  2⎤\n",
              "⎢          ⎥\n",
              "⎢1  2  4  3⎥\n",
              "⎢          ⎥\n",
              "⎣1  3  a  b⎦"
            ]
          },
          "metadata": {
            "tags": []
          },
          "execution_count": 26
        }
      ]
    },
    {
      "cell_type": "code",
      "metadata": {
        "colab": {
          "base_uri": "https://localhost:8080/",
          "height": 78
        },
        "id": "L-9BH3UUcoDg",
        "outputId": "a919fe0d-e0d5-440f-8bbe-f50ef6417c79"
      },
      "source": [
        "A[1,:] = -1*A[0,:] +  A[1,:]\n",
        "A[2,:] = -1*A[0,:] + A[2,:]\n",
        "A"
      ],
      "execution_count": null,
      "outputs": [
        {
          "output_type": "execute_result",
          "data": {
            "text/latex": "$\\displaystyle \\left[\\begin{matrix}1 & 1 & 3 & 2\\\\0 & 1 & 1 & 1\\\\0 & 2 & a - 3 & b - 2\\end{matrix}\\right]$",
            "text/plain": [
              "⎡1  1    3      2  ⎤\n",
              "⎢                  ⎥\n",
              "⎢0  1    1      1  ⎥\n",
              "⎢                  ⎥\n",
              "⎣0  2  a - 3  b - 2⎦"
            ]
          },
          "metadata": {
            "tags": []
          },
          "execution_count": 27
        }
      ]
    },
    {
      "cell_type": "code",
      "metadata": {
        "colab": {
          "base_uri": "https://localhost:8080/",
          "height": 78
        },
        "id": "f7SYLFGDc1kK",
        "outputId": "c4fcbed2-1d6f-4534-859b-d23376d811d9"
      },
      "source": [
        "A[2,:] = -2*A[1,:] + A[2,:]\n",
        "A"
      ],
      "execution_count": null,
      "outputs": [
        {
          "output_type": "execute_result",
          "data": {
            "text/latex": "$\\displaystyle \\left[\\begin{matrix}1 & 1 & 3 & 2\\\\0 & 1 & 1 & 1\\\\0 & 0 & a - 5 & b - 4\\end{matrix}\\right]$",
            "text/plain": [
              "⎡1  1    3      2  ⎤\n",
              "⎢                  ⎥\n",
              "⎢0  1    1      1  ⎥\n",
              "⎢                  ⎥\n",
              "⎣0  0  a - 5  b - 4⎦"
            ]
          },
          "metadata": {
            "tags": []
          },
          "execution_count": 28
        }
      ]
    },
    {
      "cell_type": "code",
      "metadata": {
        "id": "N8k0a_ut64xr"
      },
      "source": [
        ""
      ],
      "execution_count": null,
      "outputs": []
    },
    {
      "cell_type": "markdown",
      "metadata": {
        "id": "8xkzxtB565x-"
      },
      "source": [
        "### **Solución ecuación 1:**"
      ]
    },
    {
      "cell_type": "code",
      "metadata": {
        "colab": {
          "base_uri": "https://localhost:8080/",
          "height": 38
        },
        "id": "dhoNCHrc5j4c",
        "outputId": "8dbb9bad-1a89-49bb-afd7-bc864be16e9b"
      },
      "source": [
        "Eq1 = A[2,:][2]\n",
        "Eq1"
      ],
      "execution_count": null,
      "outputs": [
        {
          "output_type": "execute_result",
          "data": {
            "image/png": "[encoded data removed]",
            "text/latex": "$\\displaystyle a - 5$",
            "text/plain": [
              "a - 5"
            ]
          },
          "metadata": {
            "tags": []
          },
          "execution_count": 51
        }
      ]
    },
    {
      "cell_type": "code",
      "metadata": {
        "colab": {
          "base_uri": "https://localhost:8080/",
          "height": 36
        },
        "id": "6CZrzN056MEQ",
        "outputId": "88f8b1af-3af9-4e21-b5ac-b8eb6173be17"
      },
      "source": [
        "solve(Eq1,a)"
      ],
      "execution_count": null,
      "outputs": [
        {
          "output_type": "execute_result",
          "data": {
            "image/png": "[encoded data removed]",
            "text/latex": "$\\displaystyle \\left[ 5\\right]$",
            "text/plain": [
              "[5]"
            ]
          },
          "metadata": {
            "tags": []
          },
          "execution_count": 56
        }
      ]
    },
    {
      "cell_type": "markdown",
      "metadata": {
        "id": "kxrK9Iot7ICE"
      },
      "source": [
        "### **Solución ecuación 2:**"
      ]
    },
    {
      "cell_type": "code",
      "metadata": {
        "colab": {
          "base_uri": "https://localhost:8080/",
          "height": 38
        },
        "id": "Hrcqf3OT6APn",
        "outputId": "0d4adc56-b346-4902-cb18-2228ab22cf8c"
      },
      "source": [
        "Eq2 = A[2,:][3]\n",
        "Eq2"
      ],
      "execution_count": null,
      "outputs": [
        {
          "output_type": "execute_result",
          "data": {
            "image/png": "[encoded data removed]",
            "text/latex": "$\\displaystyle b - 4$",
            "text/plain": [
              "b - 4"
            ]
          },
          "metadata": {
            "tags": []
          },
          "execution_count": 52
        }
      ]
    },
    {
      "cell_type": "code",
      "metadata": {
        "colab": {
          "base_uri": "https://localhost:8080/",
          "height": 36
        },
        "id": "3Pm1tq5K6cCp",
        "outputId": "cb4c98af-371d-472d-f240-e5322b12b71a"
      },
      "source": [
        "solve(Eq2,b)"
      ],
      "execution_count": null,
      "outputs": [
        {
          "output_type": "execute_result",
          "data": {
            "image/png": "[encoded data removed]",
            "text/latex": "$\\displaystyle \\left[ 4\\right]$",
            "text/plain": [
              "[4]"
            ]
          },
          "metadata": {
            "tags": []
          },
          "execution_count": 58
        }
      ]
    }
  ]
}