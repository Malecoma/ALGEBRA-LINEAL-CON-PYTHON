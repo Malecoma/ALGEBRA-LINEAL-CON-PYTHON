{
  "nbformat": 4,
  "nbformat_minor": 0,
  "metadata": {
    "colab": {
      "name": "Álgebra lineal con Python- Sistema de ecuaciones.ipynb",
      "provenance": [],
      "collapsed_sections": [],
      "include_colab_link": true
    },
    "kernelspec": {
      "display_name": "Python 3",
      "name": "python3"
    }
  },
  "cells": [
    {
      "cell_type": "markdown",
      "metadata": {
        "id": "view-in-github",
        "colab_type": "text"
      },
      "source": [
        "<a href=\"https://colab.research.google.com/github/josorio398/ALGEBRA-LINEAL-CON-PYTHON/blob/master/%C3%81lgebra_lineal_con_Python_Sistema_de_ecuaciones.ipynb\" target=\"_parent\"><img src=\"https://colab.research.google.com/assets/colab-badge.svg\" alt=\"Open In Colab\"/></a>"
      ]
    },
    {
      "cell_type": "markdown",
      "metadata": {
        "id": "RVxHpsbcExUD"
      },
      "source": [
        "<p><img alt=\"logo.fua\" height=\"100px\" src=\"https://github.com/josorio398/ALGEBRA-LINEAL-CON-PYTHON/blob/master/im%C3%A1genes%20repositorio/Logo%20UAm%C3%A9rica%20nuevo%202021.ai_page-0005.jpg?raw=true\" align=\"left\" hspace=\"0px\" vspace=\"0px\"></p>\n",
        "\n",
        "<p><img alt=\"logo.fua\" height=\"26px\" src=\"https://mirrors.creativecommons.org/presskit/buttons/88x31/svg/by-nd.svg\" align=\"right\" hspace=\"0px\" vspace=\"11px\"></p>\n",
        "\n",
        "\n",
        "<center> <font size=\"6\"><b>ÁLGEBRA LINEAL CON PYTHON</b>&nbsp;&nbsp;&nbsp;&nbsp;<center><I>Jhonny Osorio Gallego</I> &nbsp; &nbsp;&nbsp; &nbsp;&nbsp; &nbsp;&nbsp;&nbsp;&nbsp;&nbsp;<p></font></center> "
      ]
    },
    {
      "cell_type": "markdown",
      "metadata": {
        "id": "pELON3yz_46g"
      },
      "source": [
        "#**SISTEMA DE ECUACIONES, MÉTODO DE ELIMINACIÓN DE GAUSS-JORDAN**"
      ]
    },
    {
      "cell_type": "markdown",
      "metadata": {
        "id": "StPcFiQlYfrM"
      },
      "source": [
        "##**Instalación librería PlotLinearAlgebra**\n",
        "La librería **PlotLinearAlgebra** fue creada para la visualización bidimensional y tridimensional de objetos geométricos abordados en un curso de álgebra lineal, apoyado desde el lenguaje de programación Python, en particular con el uso de la librería de cálculo simbólico SymPy.[PlotLinearAlgebra](https://pypi.org/project/PlotLinearAlgebra/)"
      ]
    },
    {
      "cell_type": "code",
      "metadata": {
        "id": "6JRJgBgMmhtj"
      },
      "source": [
        "pip install PlotLinearAlgebra"
      ],
      "execution_count": null,
      "outputs": []
    },
    {
      "cell_type": "markdown",
      "metadata": {
        "id": "LBsUKbFnm62J"
      },
      "source": [
        "##**Importación de los módulos de graficación plot2d y plot3d**\n",
        "\n",
        "El módulo **plot2d** permite graficar : puntos, rectas y vectores en el espacio bidimensional, contiene la función plot2D, el módulo **plot3d** permite graficar : puntos, rectas, vectores y planos en el espacio tridimensional, contiene la función plot3D.\n",
        "\n"
      ]
    },
    {
      "cell_type": "code",
      "metadata": {
        "id": "dyWsf3ZNnoa0"
      },
      "source": [
        "from PlotLinearAlgebra.plot2d import *\n",
        "from PlotLinearAlgebra.plot3d import *"
      ],
      "execution_count": null,
      "outputs": []
    },
    {
      "cell_type": "markdown",
      "metadata": {
        "id": "U515Q-sM2m9k"
      },
      "source": [
        "##**Importamos librería simbólica SymPy**\n",
        "**SymPy** es una biblioteca de Python para matemáticas simbólicas. Su objetivo es convertirse en un sistema de álgebra computacional (CAS) con todas las funciones, manteniendo el código lo más simple posible para que sea comprensible y fácilmente extensible. SymPy está escrito completamente en Python.[sympy.org](https://www.sympy.org/en/index.html)"
      ]
    },
    {
      "cell_type": "code",
      "metadata": {
        "id": "4wHJ9dZ3405h"
      },
      "source": [
        "from sympy import *\n",
        "init_printing()\n",
        "x,y,z,w = symbols(\"x y z w \")\n",
        "a,b,c,A,B,C = symbols(\"a b c A B C \")"
      ],
      "execution_count": null,
      "outputs": []
    },
    {
      "cell_type": "markdown",
      "metadata": {
        "id": "3Hyo-LBSIayP"
      },
      "source": [
        "# **TIPOS SISTEMAS DE ECUACIONES**\n",
        "\n",
        "## **SISTEMA COMPATIBLE DETERMINADO** *(sistema con única solución)*\n",
        "\n",
        "$$\\left\\{\n",
        "\\begin{array}{rcl}\n",
        "     2x+ 4y+6z  & = & 18\n",
        "  \\\\ 4x+ 5y+6z & = & 24\n",
        "  \\\\ 3x+y-2z & = & 4\n",
        "\\end{array}\n",
        "\\right.$$"
      ]
    },
    {
      "cell_type": "markdown",
      "metadata": {
        "id": "hnEusJtlfBf5"
      },
      "source": [
        "### **Forma 1** "
      ]
    },
    {
      "cell_type": "code",
      "metadata": {
        "colab": {
          "base_uri": "https://localhost:8080/"
        },
        "id": "gJhVTkT4b_dt",
        "outputId": "274eb2bb-9dfe-46d7-82c5-e2d079cc1b04"
      },
      "source": [
        "solve( [ 2*x + 4*y + 6*z -18, 4*x + 5*y +6*z -24, 3*x + y - 2*z - 4])"
      ],
      "execution_count": null,
      "outputs": [
        {
          "output_type": "execute_result",
          "data": {
            "text/plain": [
              "{x: 4, y: -2, z: 3}"
            ]
          },
          "metadata": {},
          "execution_count": 19
        }
      ]
    },
    {
      "cell_type": "markdown",
      "metadata": {
        "id": "Z6pJKYTlfEHf"
      },
      "source": [
        "### **Forma 2** "
      ]
    },
    {
      "cell_type": "code",
      "metadata": {
        "colab": {
          "base_uri": "https://localhost:8080/"
        },
        "id": "rvaDm5SRcABF",
        "outputId": "7f6fb50e-8511-4ace-9ce6-87eb1dcc6225"
      },
      "source": [
        "Eq1 = Eq(2*x + 4*y + 6*z,18)\n",
        "Eq2 = Eq(4*x + 5*y +6*z,24)\n",
        "Eq3 = Eq( 3*x + y - 2*z,4)\n",
        "solve( [ Eq1,Eq2,Eq3], [x, y, z])"
      ],
      "execution_count": null,
      "outputs": [
        {
          "output_type": "execute_result",
          "data": {
            "text/plain": [
              "{x: 4, y: -2, z: 3}"
            ]
          },
          "metadata": {},
          "execution_count": 6
        }
      ]
    },
    {
      "cell_type": "markdown",
      "metadata": {
        "id": "VnjYrBnUfw9I"
      },
      "source": [
        "###**Forma 3**"
      ]
    },
    {
      "cell_type": "code",
      "metadata": {
        "colab": {
          "base_uri": "https://localhost:8080/"
        },
        "id": "k7t0Y_msfwNd",
        "outputId": "e6c5e7e9-ceee-47a2-b171-41360e5f7019"
      },
      "source": [
        "Eq1 = 2*x + 4*y + 6*z - 18\n",
        "Eq2 = 4*x + 5*y + 6*z - 24\n",
        "Eq3 = 3*x + y - 2*z - 4\n",
        "solve( [ Eq1,Eq2,Eq3])"
      ],
      "execution_count": null,
      "outputs": [
        {
          "output_type": "execute_result",
          "data": {
            "text/plain": [
              "{x: 4, y: -2, z: 3}"
            ]
          },
          "metadata": {},
          "execution_count": 4
        }
      ]
    },
    {
      "cell_type": "markdown",
      "metadata": {
        "id": "mWHsRP7sqUr2"
      },
      "source": [
        "## **SISTEMA INCOMPATIBLE O INCONSISTENTE** *(sistema sin solución)*\n",
        "\n",
        "$$\\left\\{\n",
        "\\begin{array}{rcl}\n",
        "     2x - y+ z  & = & 3\n",
        "  \\\\ 3x+ y-2z & = & -2\n",
        "  \\\\ x-y+z & = & 7\n",
        "  \\\\ x+5y+7z & = & 13\n",
        "  \\\\ x-7y-5z & = & 12\n",
        "\\end{array}\n",
        "\\right.$$"
      ]
    },
    {
      "cell_type": "code",
      "metadata": {
        "colab": {
          "base_uri": "https://localhost:8080/"
        },
        "id": "x4fJfccOomN0",
        "outputId": "e5d57c37-3c4c-41dd-8b3a-52f7630f35a8"
      },
      "source": [
        "Eq1 = Eq(2*x -y + z,3)\n",
        "Eq2 = Eq(3*x + y -2*z,-2)\n",
        "Eq3 = Eq( x - y + z,7)\n",
        "Eq4 = Eq( x + 5* y + 7*z,13)\n",
        "Eq5 = Eq( x - 7* y - 5*z,12)\n",
        "solve( [ Eq1,Eq2,Eq3,Eq4,Eq5], [x, y, z])"
      ],
      "execution_count": null,
      "outputs": [
        {
          "output_type": "execute_result",
          "data": {
            "text/plain": [
              "[]"
            ]
          },
          "metadata": {},
          "execution_count": 7
        }
      ]
    },
    {
      "cell_type": "markdown",
      "metadata": {
        "id": "X1PSmjfQqa-x"
      },
      "source": [
        "## **SISTEMA COMPATIBLE INDETERMINADO** *(sistema con infinitas soluciones)*\n",
        "###**Ejemplo 1:**\n",
        "\n",
        "\n",
        "\n",
        "$$\\left\\{\n",
        "\\begin{array}{rcl}\n",
        "     2x + y+ z + w  & = & 6\n",
        "  \\\\ 2x+ y-z & = & 3\n",
        "  \\\\ x-y+z & = & 7\n",
        "  \\\\ 3x+y+2w & = & 6\n",
        "\\end{array}\n",
        "\\right.$$"
      ]
    },
    {
      "cell_type": "code",
      "metadata": {
        "colab": {
          "base_uri": "https://localhost:8080/"
        },
        "id": "xrmFLjAwprJM",
        "outputId": "4660508d-d83f-4366-b28b-d17142a77165"
      },
      "source": [
        "Eq1 = Eq(x + y + z + w,6)\n",
        "Eq2 = Eq(2*x + y -z,3)\n",
        "Eq3 = Eq( 3*x + y +2*w,6)\n",
        "solve( [ Eq1,Eq2,Eq3], [x, y, z,w])"
      ],
      "execution_count": null,
      "outputs": [
        {
          "output_type": "execute_result",
          "data": {
            "text/plain": [
              "{x: 1 - w, y: w + 3, z: 2 - w}"
            ]
          },
          "metadata": {},
          "execution_count": 8
        }
      ]
    },
    {
      "cell_type": "markdown",
      "metadata": {
        "id": "ai6ErXM5Qrq_"
      },
      "source": [
        "###**Ejemplo 2:**\n",
        "\n",
        "\n",
        "\n",
        "$$\\left\\{\n",
        "\\begin{array}{rcl}\n",
        "     -x_1+x_2  & = & 50\n",
        "  \\\\ -x_2 +x_3-x_4+x_5 & = & 0\n",
        "  \\\\ x_5-x_6& = & 60\n",
        "  \\\\ x_4-x_6 & = & 50\n",
        "  \\\\ -x_1+x_3 & = & 40\n",
        "\\end{array}\n",
        "\\right.$$"
      ]
    },
    {
      "cell_type": "code",
      "metadata": {
        "colab": {
          "base_uri": "https://localhost:8080/"
        },
        "id": "j8Nhc0OLCXFk",
        "outputId": "0cef6903-4d3a-4361-ccdd-e13c8125ddb3"
      },
      "source": [
        "x1,x2,x3,x4,x5,x6 = symbols(\"x1 x2 x3 x4 x5 x6 \")\n",
        "\n",
        "Eq1 = Eq(-x1+x2,50)\n",
        "Eq2 = Eq(-x2 + x3-x4+x5,0)\n",
        "Eq3 = Eq(x5-x6,60)\n",
        "Eq4 = Eq(x4-x6,50)\n",
        "Eq5 = Eq(-x1+x3,40)\n",
        "solve( [ Eq1,Eq2,Eq3,Eq4,Eq5])"
      ],
      "execution_count": null,
      "outputs": [
        {
          "output_type": "execute_result",
          "data": {
            "text/plain": [
              "{x1: x3 - 40, x2: x3 + 10, x4: x6 + 50, x5: x6 + 60}"
            ]
          },
          "metadata": {},
          "execution_count": 9
        }
      ]
    },
    {
      "cell_type": "markdown",
      "metadata": {
        "id": "b42xq_Z-gYvc"
      },
      "source": [
        "#**MÉTODO DE ELIMINACIÓN DE GAUSS-JORDAN**\n",
        "\n",
        "## **Eliminación de Gauss-Jordan** --> *verificación rápida*\n",
        "\n",
        "###**Ejemplo 1:**\n",
        "\n",
        "Encuentra la solución o soluciones del siguiente sistema de ecuaciones, si es posible, usando el método de eliminación de **Gauss-jordan**:\n",
        "\n",
        "$$\\left\\{\n",
        "\\begin{array}{rcl}\n",
        "     x_1-3x_3& = & 0\n",
        "  \\\\ x_1+ 8x_2-5x_3-2x_4 & = & 0\n",
        "   \\\\ x_1+ 6x_2-6x_3-x_5 & = & 0\n",
        "   \\\\ 3x_1+ 7x_2-7x_3-x_4-2x_5 & = & 0\n",
        "\\end{array}\n",
        "\\right.$$"
      ]
    },
    {
      "cell_type": "code",
      "metadata": {
        "colab": {
          "base_uri": "https://localhost:8080/",
          "height": 98
        },
        "id": "Nq57WA6FcARL",
        "outputId": "b35582ba-21ef-4cd1-ca0d-83203b4bf525"
      },
      "source": [
        "A = Matrix([[1,0,-3,0,0,0],[1,8,-5,-2,0,0],[1,6,-6,0,-1,0],[3,7,-7,-1,-2,0]])\n",
        "B = A.rref(pivots=False) # rref: row reduced echelon form\n",
        "B"
      ],
      "execution_count": null,
      "outputs": [
        {
          "output_type": "execute_result",
          "data": {
            "text/latex": "$\\displaystyle \\left[\\begin{matrix}1 & 0 & 0 & 0 & -1 & 0\\\\0 & 1 & 0 & 0 & - \\frac{1}{3} & 0\\\\0 & 0 & 1 & 0 & - \\frac{1}{3} & 0\\\\0 & 0 & 0 & 1 & -1 & 0\\end{matrix}\\right]$",
            "text/plain": [
              "Matrix([\n",
              "[1, 0, 0, 0,   -1, 0],\n",
              "[0, 1, 0, 0, -1/3, 0],\n",
              "[0, 0, 1, 0, -1/3, 0],\n",
              "[0, 0, 0, 1,   -1, 0]])"
            ]
          },
          "metadata": {},
          "execution_count": 10
        }
      ]
    },
    {
      "cell_type": "markdown",
      "metadata": {
        "id": "k36nvWUwTXJf"
      },
      "source": [
        "###**Ejemplo 2:**\n",
        "\n",
        "Encuentra la solución o soluciones del siguiente sistema de ecuaciones, si es posible, usando el método de eliminación de **Gauss-jordan**:\n",
        "$$\\left\\{\n",
        "\\begin{array}{rcl}\n",
        "     x + z  & = & 20\n",
        "  \\\\ y-z-w & = & 0\n",
        "  \\\\ x+y & = & 80\n",
        "\\end{array}\n",
        "\\right.$$"
      ]
    },
    {
      "cell_type": "code",
      "metadata": {
        "colab": {
          "base_uri": "https://localhost:8080/",
          "height": 78
        },
        "id": "Czawo8dwSYq0",
        "outputId": "59dde92c-43dc-48ad-ac60-6a0ccfb779c8"
      },
      "source": [
        "A = Matrix([[1,0,1,0,20],[0,1,-1,-1,0],[1,1,0,0,80]])\n",
        "B = A.rref(pivots=False)\n",
        "B"
      ],
      "execution_count": null,
      "outputs": [
        {
          "output_type": "execute_result",
          "data": {
            "text/latex": "$\\displaystyle \\left[\\begin{matrix}1 & 0 & 1 & 0 & 20\\\\0 & 1 & -1 & 0 & 60\\\\0 & 0 & 0 & 1 & 60\\end{matrix}\\right]$",
            "text/plain": [
              "Matrix([\n",
              "[1, 0,  1, 0, 20],\n",
              "[0, 1, -1, 0, 60],\n",
              "[0, 0,  0, 1, 60]])"
            ]
          },
          "metadata": {},
          "execution_count": 11
        }
      ]
    },
    {
      "cell_type": "markdown",
      "metadata": {
        "id": "KXkkSMhGUrfm"
      },
      "source": [
        "###**Ejemplo 3:**\n",
        "\n",
        "Encuentra la solución o soluciones del siguiente sistema de ecuaciones, si es posible, usando el método de eliminación de **Gauss-jordan**:\n",
        "$$\\left\\{\n",
        "\\begin{array}{rcl}\n",
        "     x + z  & = & 20\n",
        "  \\\\ y-z-w & = & 0\n",
        "  \\\\ x+y & = & 80\n",
        "\\end{array}\n",
        "\\right.$$"
      ]
    },
    {
      "cell_type": "code",
      "metadata": {
        "colab": {
          "base_uri": "https://localhost:8080/",
          "height": 78
        },
        "id": "xvXHlqobI6xv",
        "outputId": "8b0bd22f-0c09-443f-e8a8-63aa1c8a971b"
      },
      "source": [
        "A = Matrix([[1,0,1,0,20],[0,1,-1,-1,0],[1,1,0,0,80]])\n",
        "B = A.rref(pivots=False)\n",
        "B"
      ],
      "execution_count": null,
      "outputs": [
        {
          "output_type": "execute_result",
          "data": {
            "text/latex": "$\\displaystyle \\left[\\begin{matrix}1 & 0 & 1 & 0 & 20\\\\0 & 1 & -1 & 0 & 60\\\\0 & 0 & 0 & 1 & 60\\end{matrix}\\right]$",
            "text/plain": [
              "Matrix([\n",
              "[1, 0,  1, 0, 20],\n",
              "[0, 1, -1, 0, 60],\n",
              "[0, 0,  0, 1, 60]])"
            ]
          },
          "metadata": {},
          "execution_count": 12
        }
      ]
    },
    {
      "cell_type": "markdown",
      "metadata": {
        "id": "OeZfDuJFZISz"
      },
      "source": [
        "###**Ejemplo 4:**\n",
        "\n",
        "Encuentra la solución o soluciones del siguiente sistema de ecuaciones, si es posible, usando el método de eliminación de **Gauss-jordan**:\n",
        "$$\\left\\{\n",
        "\\begin{array}{rcl}\n",
        "     x + z  & = & 0\n",
        "  \\\\ 3x +y+6z+w & = & 1\n",
        "  \\\\ 3x+9z+6w & = & 0\n",
        "  \\\\ 9x+3y+9w & = & 15\n",
        "\\end{array}\n",
        "\\right.$$"
      ]
    },
    {
      "cell_type": "code",
      "metadata": {
        "colab": {
          "base_uri": "https://localhost:8080/",
          "height": 98
        },
        "id": "8qtsgjgDq0QH",
        "outputId": "4d665e51-529c-46e3-a40d-321fa249a0b6"
      },
      "source": [
        "A = Matrix([[1,0,1,0,0],[3,1,6,1,1],[3,0,9,6,0],[9,3,0,9,15]])\n",
        "B = A.rref(pivots=False)\n",
        "B"
      ],
      "execution_count": null,
      "outputs": [
        {
          "output_type": "execute_result",
          "data": {
            "text/latex": "$\\displaystyle \\left[\\begin{matrix}1 & 0 & 0 & 0 & \\frac{1}{2}\\\\0 & 1 & 0 & 0 & 2\\\\0 & 0 & 1 & 0 & - \\frac{1}{2}\\\\0 & 0 & 0 & 1 & \\frac{1}{2}\\end{matrix}\\right]$",
            "text/plain": [
              "Matrix([\n",
              "[1, 0, 0, 0,  1/2],\n",
              "[0, 1, 0, 0,    2],\n",
              "[0, 0, 1, 0, -1/2],\n",
              "[0, 0, 0, 1,  1/2]])"
            ]
          },
          "metadata": {},
          "execution_count": 13
        }
      ]
    },
    {
      "cell_type": "markdown",
      "metadata": {
        "id": "HhAkBy3OZx7O"
      },
      "source": [
        "###**Ejemplo 5:**\n",
        "\n",
        "Encuentra la solución o soluciones del siguiente sistema de ecuaciones, si es posible, usando el método de eliminación de **Gauss-jordan**:\n",
        "$$\\left\\{\n",
        "\\begin{array}{rcl}\n",
        "     16x -8y + 4z -2w & = & 2\n",
        "  \\\\ x -y+z-w & = & 4\n",
        "  \\\\ x+y+z+w & = & 3\n",
        "  \\\\ 16x+8y+4z+2w & = & 9\n",
        "\\end{array}\n",
        "\\right.$$"
      ]
    },
    {
      "cell_type": "code",
      "metadata": {
        "colab": {
          "base_uri": "https://localhost:8080/",
          "height": 98
        },
        "id": "pPZPd-ufwHsx",
        "outputId": "e73d78ad-f58b-492c-8234-0ecaa7926aa1"
      },
      "source": [
        "A = Matrix([[16,-8,4,-2,2],[1,-1,1,-1,4],[1,1,1,1,3],[16,8,4,2,9]])\n",
        "B = A.rref(pivots=False)\n",
        "B"
      ],
      "execution_count": null,
      "outputs": [
        {
          "output_type": "execute_result",
          "data": {
            "text/latex": "$\\displaystyle \\left[\\begin{matrix}1 & 0 & 0 & 0 & - \\frac{17}{24}\\\\0 & 1 & 0 & 0 & \\frac{3}{4}\\\\0 & 0 & 1 & 0 & \\frac{101}{24}\\\\0 & 0 & 0 & 1 & - \\frac{5}{4}\\end{matrix}\\right]$",
            "text/plain": [
              "Matrix([\n",
              "[1, 0, 0, 0, -17/24],\n",
              "[0, 1, 0, 0,    3/4],\n",
              "[0, 0, 1, 0, 101/24],\n",
              "[0, 0, 0, 1,   -5/4]])"
            ]
          },
          "metadata": {},
          "execution_count": 14
        }
      ]
    },
    {
      "cell_type": "markdown",
      "metadata": {
        "id": "W3IXxUGgv7OI"
      },
      "source": [
        "###**Ejemplo 6:**\n",
        "\n",
        "Encuentra la solución o soluciones del siguiente sistema de ecuaciones, si es posible, usando el método de eliminación de **Gauss-jordan**:\n",
        "$$\\left\\{\n",
        "\\begin{array}{rcl}\n",
        "     -x_1 -x_2 & = & 50\n",
        "  \\\\ -x_2+x_3-x_4+x_5 & = & 0\n",
        "  \\\\ x_5-x_6 & = & 60\n",
        "  \\\\ x_4-x_6 & = & 50\n",
        "  \\\\ -x_1+x_2 & = & 40\n",
        "\\end{array}\n",
        "\\right.$$"
      ]
    },
    {
      "cell_type": "code",
      "metadata": {
        "colab": {
          "base_uri": "https://localhost:8080/",
          "height": 119
        },
        "id": "KEblnuohqVT5",
        "outputId": "41780351-fc2f-4bd7-9cbe-848ee4b72f02"
      },
      "source": [
        "A = Matrix([[-1,1,0,0,0,0,50],[0,-1,1,-1,1,0,0],[0,0,0,0,1,-1,60],[0,0,0,1,0,-1,50],[-1,0,1,0,0,0,40]])\n",
        "B = A.rref(pivots=False)\n",
        "B"
      ],
      "execution_count": null,
      "outputs": [
        {
          "output_type": "execute_result",
          "data": {
            "text/latex": "$\\displaystyle \\left[\\begin{matrix}1 & 0 & -1 & 0 & 0 & 0 & -40\\\\0 & 1 & -1 & 0 & 0 & 0 & 10\\\\0 & 0 & 0 & 1 & 0 & -1 & 50\\\\0 & 0 & 0 & 0 & 1 & -1 & 60\\\\0 & 0 & 0 & 0 & 0 & 0 & 0\\end{matrix}\\right]$",
            "text/plain": [
              "Matrix([\n",
              "[1, 0, -1, 0, 0,  0, -40],\n",
              "[0, 1, -1, 0, 0,  0,  10],\n",
              "[0, 0,  0, 1, 0, -1,  50],\n",
              "[0, 0,  0, 0, 1, -1,  60],\n",
              "[0, 0,  0, 0, 0,  0,   0]])"
            ]
          },
          "metadata": {},
          "execution_count": 15
        }
      ]
    },
    {
      "cell_type": "markdown",
      "metadata": {
        "id": "VpsgVrhtaep1"
      },
      "source": [
        "###**Ejemplo 7:**\n",
        "\n",
        "Encuentra la solución o soluciones del siguiente sistema de ecuaciones, si es posible, usando el método de eliminación de **Gauss-jordan**:\n",
        "\n",
        "$$\\left\\{\n",
        "\\begin{array}{rcl}\n",
        "     3x+ 2y+2z  & = & 34\n",
        "  \\\\ 2x+ 3y+2z & = & 32\n",
        "  \\\\ x+y+z & = & 14\n",
        "\\end{array}\n",
        "\\right.$$\n",
        "\n"
      ]
    },
    {
      "cell_type": "code",
      "metadata": {
        "colab": {
          "base_uri": "https://localhost:8080/",
          "height": 78
        },
        "id": "EX2XjmI2KUKk",
        "outputId": "6eab4f87-9955-4fe0-8fe4-65d9117c0f2a"
      },
      "source": [
        "A = Matrix([[3,2,2,34],[2,3,2,32],[1,1,1,14]])\n",
        "B = A.rref(pivots=False)\n",
        "B"
      ],
      "execution_count": null,
      "outputs": [
        {
          "output_type": "execute_result",
          "data": {
            "text/latex": "$\\displaystyle \\left[\\begin{matrix}1 & 0 & 0 & 6\\\\0 & 1 & 0 & 4\\\\0 & 0 & 1 & 4\\end{matrix}\\right]$",
            "text/plain": [
              "⎡1  0  0  6⎤\n",
              "⎢          ⎥\n",
              "⎢0  1  0  4⎥\n",
              "⎢          ⎥\n",
              "⎣0  0  1  4⎦"
            ]
          },
          "metadata": {},
          "execution_count": 7
        }
      ]
    },
    {
      "cell_type": "markdown",
      "metadata": {
        "id": "zw7ZDQVJa8_w"
      },
      "source": [
        "###**Ejemplo 8:**\n",
        "\n",
        "Encuentra la solución o soluciones del siguiente sistema de ecuaciones, si es posible, usando el método de eliminación de **Gauss-jordan**:\n",
        "\n",
        "$$\\left\\{\n",
        "\\begin{array}{rcl}\n",
        "      2y+3z  & = & 4\n",
        "  \\\\ 2x-6y+7z & = & 15\n",
        "  \\\\ x-2y+5z & = & 10\n",
        "\\end{array}\n",
        "\\right.$$\n"
      ]
    },
    {
      "cell_type": "code",
      "metadata": {
        "colab": {
          "base_uri": "https://localhost:8080/",
          "height": 78
        },
        "id": "LKejlVzxSyJZ",
        "outputId": "c5fc29de-861f-4aa0-d4e1-4b0987251047"
      },
      "source": [
        "A = Matrix([[0,2,3,4],[2,-6,7,15],[1,-2,5,10]])\n",
        "B = A.rref(pivots=False)\n",
        "B"
      ],
      "execution_count": null,
      "outputs": [
        {
          "data": {
            "text/latex": "$\\displaystyle \\left[\\begin{matrix}1 & 0 & 8 & 0\\\\0 & 1 & \\frac{3}{2} & 0\\\\0 & 0 & 0 & 1\\end{matrix}\\right]$",
            "text/plain": [
              "⎡1  0   8   0⎤\n",
              "⎢            ⎥\n",
              "⎢0  1  3/2  0⎥\n",
              "⎢            ⎥\n",
              "⎣0  0   0   1⎦"
            ]
          },
          "execution_count": 15,
          "metadata": {},
          "output_type": "execute_result"
        }
      ]
    },
    {
      "cell_type": "markdown",
      "metadata": {
        "id": "YtVtluDOcyeO"
      },
      "source": [
        "###**Ejemplo 9:**\n",
        "\n",
        "Encuentra la solución o soluciones del siguiente sistema de ecuaciones, si es posible, usando el método de eliminación de **Gauss-jordan**:\n",
        "\n",
        "$$\\left\\{\n",
        "\\begin{array}{rcl}\n",
        "      2x-y+z  & = & 3\n",
        "  \\\\ 3x+y-2z & = & -2\n",
        "  \\\\ x-y+z & = & 7\n",
        "  \\\\ x+5y+7z & = & 13\n",
        "  \\\\ x-7y-5z & = & 12\n",
        "\\end{array}\n",
        "\\right.$$"
      ]
    },
    {
      "cell_type": "code",
      "metadata": {
        "colab": {
          "base_uri": "https://localhost:8080/",
          "height": 119
        },
        "id": "dBOqTFtkF8GJ",
        "outputId": "e7c84b26-6e02-412e-8e0f-c658ef80d3d8"
      },
      "source": [
        "A = Matrix([[2,-1,1,3],[3,1,-2,-2],[1,-1,1,7],[1,5,7,13],[1,-7,-5,12]])\n",
        "B = A.echelon_form(with_pivots=False)\n",
        "B"
      ],
      "execution_count": null,
      "outputs": [
        {
          "data": {
            "text/latex": "$\\displaystyle \\left[\\begin{matrix}2 & -1 & 1 & 3\\\\0 & 5 & -7 & -13\\\\0 & 0 & -2 & 42\\\\0 & 0 & 0 & -6480\\\\0 & 0 & 0 & 0\\end{matrix}\\right]$",
            "text/plain": [
              "⎡2  -1  1     3  ⎤\n",
              "⎢                ⎥\n",
              "⎢0  5   -7   -13 ⎥\n",
              "⎢                ⎥\n",
              "⎢0  0   -2   42  ⎥\n",
              "⎢                ⎥\n",
              "⎢0  0   0   -6480⎥\n",
              "⎢                ⎥\n",
              "⎣0  0   0     0  ⎦"
            ]
          },
          "execution_count": 16,
          "metadata": {},
          "output_type": "execute_result"
        }
      ]
    },
    {
      "cell_type": "markdown",
      "metadata": {
        "id": "T60nQdXid0K5"
      },
      "source": [
        "###**Ejemplo 10:**\n",
        "\n",
        "Encuentra la solución o soluciones del siguiente sistema de ecuaciones, si es posible, usando el método de eliminación de **Gauss-jordan**:\n",
        "\n",
        "$$\\left\\{\n",
        "\\begin{array}{rcl}\n",
        "     x +y + z +w & = & 6\n",
        "  \\\\ 2x +y-z & = & 3\n",
        "  \\\\ 3x+y+2w & = & 6\n",
        "\\end{array}\n",
        "\\right.$$"
      ]
    },
    {
      "cell_type": "code",
      "metadata": {
        "colab": {
          "base_uri": "https://localhost:8080/",
          "height": 78
        },
        "id": "tdfV3DH1cGQV",
        "outputId": "cfab1913-b366-4d30-ecc1-6db5b08e70d7"
      },
      "source": [
        "A = Matrix([[1,1,1,1,6],[2,1,-1,0,3],[3,1,0,2,6]])\n",
        "B = A.rref(pivots=False) \n",
        "B"
      ],
      "execution_count": null,
      "outputs": [
        {
          "data": {
            "text/latex": "$\\displaystyle \\left[\\begin{matrix}1 & 0 & 0 & 1 & 1\\\\0 & 1 & 0 & -1 & 3\\\\0 & 0 & 1 & 1 & 2\\end{matrix}\\right]$",
            "text/plain": [
              "⎡1  0  0  1   1⎤\n",
              "⎢              ⎥\n",
              "⎢0  1  0  -1  3⎥\n",
              "⎢              ⎥\n",
              "⎣0  0  1  1   2⎦"
            ]
          },
          "execution_count": 17,
          "metadata": {},
          "output_type": "execute_result"
        }
      ]
    },
    {
      "cell_type": "markdown",
      "metadata": {
        "id": "vA8cXYWvebCa"
      },
      "source": [
        "###**Ejemplo 11:**\n",
        "\n",
        "Encuentra la solución o soluciones del siguiente sistema de ecuaciones, si es posible, usando el método de eliminación de **Gauss-jordan**:\n",
        "$$\\left\\{\n",
        "\\begin{array}{rcl}\n",
        "     x  + z & = & 0\n",
        "  \\\\ 3x +y+6z+w & = & 1\n",
        "  \\\\ 3x+9z+6w & = & 0\n",
        "  \\\\ 9x +3y+9w & = & 15\n",
        "\\end{array}\n",
        "\\right.$$"
      ]
    },
    {
      "cell_type": "code",
      "metadata": {
        "colab": {
          "base_uri": "https://localhost:8080/",
          "height": 98
        },
        "id": "oJOz4yqjXIZK",
        "outputId": "e2af8ec1-dc75-4aa7-b2df-e3a7d8a5d27e"
      },
      "source": [
        "A = Matrix([[1,0,1,0,0],[3 ,1,6,1,1],[3,0,9,6,0],[9,3,0,9,15]])\n",
        "B = A.rref(pivots=False) \n",
        "B"
      ],
      "execution_count": null,
      "outputs": [
        {
          "output_type": "execute_result",
          "data": {
            "text/latex": "$\\displaystyle \\left[\\begin{matrix}1 & 0 & 0 & 0 & \\frac{1}{2}\\\\0 & 1 & 0 & 0 & 2\\\\0 & 0 & 1 & 0 & - \\frac{1}{2}\\\\0 & 0 & 0 & 1 & \\frac{1}{2}\\end{matrix}\\right]$",
            "text/plain": [
              "⎡1  0  0  0  1/2 ⎤\n",
              "⎢                ⎥\n",
              "⎢0  1  0  0   2  ⎥\n",
              "⎢                ⎥\n",
              "⎢0  0  1  0  -1/2⎥\n",
              "⎢                ⎥\n",
              "⎣0  0  0  1  1/2 ⎦"
            ]
          },
          "metadata": {},
          "execution_count": 4
        }
      ]
    },
    {
      "cell_type": "markdown",
      "metadata": {
        "id": "a48EPyOWwdIc"
      },
      "source": [
        "# **Eliminación de Gauss-Jordan** --> *paso a paso*\n",
        "## **Operaciones elemantales sobre matrices**"
      ]
    },
    {
      "cell_type": "markdown",
      "metadata": {
        "id": "a8DSGsswon8y"
      },
      "source": [
        "|             Notación utilizada                  |         Operación sobre fila         | Código |\n",
        "|:-------------------------------:|:--------------------------------------:|:--------------:|\n",
        "|     $F_i \\longleftrightarrow F_j $  | Interrarcambiar la fila<br> $F_i$ con $F_j$ | **` M.row_swap(i, j)`**   |\n",
        "|            $k F_i \\rightarrow F_i  $           |  Multiplicar la fila $F_i$ <br> por la constante $k$ |     **`M[i ,:] = k*M[ i ,:]`**   |\n",
        "| $kF_i + F_j \\rightarrow F_j  $|  Sumar $k$ veces la fila $F_i$ <br> a la fila $F_j$ |    **`M[j ,:] = k*M[ i ,:] + M[j ,:]`**    |"
      ]
    },
    {
      "cell_type": "markdown",
      "metadata": {
        "id": "Nh3w3jQuwQxT"
      },
      "source": [
        "## **Interrarcambiar la fila $F_i$ con $F_j$** \n",
        "\n",
        "Dada la matriz $A$ aumentada intercambia la primera fila con la última fila.&nbsp;&nbsp;&nbsp;&nbsp;($F_1 \\longleftrightarrow F_3$)\n",
        "\n",
        "$$A=\\begin{bmatrix}\n",
        "2 & 7 & 5  & 6\\\\\n",
        "0 & 6 & 7  & 2\\\\\n",
        "1 & 4 & 3  & 1\\\\\n",
        "\\end{bmatrix}$$"
      ]
    },
    {
      "cell_type": "code",
      "metadata": {
        "colab": {
          "base_uri": "https://localhost:8080/",
          "height": 78
        },
        "id": "u1-53fFuj9E_",
        "outputId": "458e8d00-3ab2-44f0-cbbc-f0982e9563ac"
      },
      "source": [
        "A = Matrix([[2,7,5,6],[0,6,7,2],[1,4,3,1]])\n",
        "A.row_swap(0,2)\n",
        "A"
      ],
      "execution_count": null,
      "outputs": [
        {
          "data": {
            "text/latex": "$\\displaystyle \\left[\\begin{matrix}1 & 4 & 3 & 1\\\\0 & 6 & 7 & 2\\\\2 & 7 & 5 & 6\\end{matrix}\\right]$",
            "text/plain": [
              "⎡1  4  3  1⎤\n",
              "⎢          ⎥\n",
              "⎢0  6  7  2⎥\n",
              "⎢          ⎥\n",
              "⎣2  7  5  6⎦"
            ]
          },
          "execution_count": 15,
          "metadata": {},
          "output_type": "execute_result"
        }
      ]
    },
    {
      "cell_type": "markdown",
      "metadata": {
        "id": "9rR4h1bcyR84"
      },
      "source": [
        "## **Multiplicar la fila $F_i$ por la constante $k$** \n",
        "\n",
        "Dada la matriz $A$ aumentada multiplica por $\\frac{1}{5}$ la segunda fila.  &nbsp;&nbsp;&nbsp;&nbsp;($\\frac{1}{5} F_2 \\rightarrow F_2  $ )\n",
        "\n",
        "$$A=\\begin{bmatrix}\n",
        "2 & 7 & 5  & 6\\\\\n",
        "0 & 6 & 7  & 2\\\\\n",
        "1 & 4 & 3  & 1\\\\\n",
        "\\end{bmatrix}$$"
      ]
    },
    {
      "cell_type": "code",
      "metadata": {
        "colab": {
          "base_uri": "https://localhost:8080/",
          "height": 78
        },
        "id": "TwOi9g_jyR8_",
        "outputId": "1f2198b3-72bc-4359-d1ed-31466d685fc1"
      },
      "source": [
        "A = Matrix([[2,7,5,6],[0,6,7,2],[1,4,3,1]])\n",
        "A[1,:] = S(\"1/5\")*A[1,:]\n",
        "A"
      ],
      "execution_count": null,
      "outputs": [
        {
          "data": {
            "text/latex": "$\\displaystyle \\left[\\begin{matrix}2 & 7 & 5 & 6\\\\0 & \\frac{6}{5} & \\frac{7}{5} & \\frac{2}{5}\\\\1 & 4 & 3 & 1\\end{matrix}\\right]$",
            "text/plain": [
              "⎡2   7    5    6 ⎤\n",
              "⎢                ⎥\n",
              "⎢0  6/5  7/5  2/5⎥\n",
              "⎢                ⎥\n",
              "⎣1   4    3    1 ⎦"
            ]
          },
          "execution_count": 32,
          "metadata": {},
          "output_type": "execute_result"
        }
      ]
    },
    {
      "cell_type": "markdown",
      "metadata": {
        "id": "nD75gHLAzcH1"
      },
      "source": [
        " ## **Sumar $k$ veces la fila $F_i$  a la fila $F_j$** \n",
        "\n",
        "Dada la matriz $A$ aumentada multiplica por $-5$ la segunda fila y adicionala a la fila 3  &nbsp;&nbsp;&nbsp;&nbsp;($-5F_2 + F_3 \\rightarrow F_3$ )\n",
        "\n",
        "$$A=\\begin{bmatrix}\n",
        "3 & 7 & 5  & 6\\\\\n",
        "1 & 6 & 7  & 2\\\\\n",
        "5 & 4 & 3  & 1\\\\\n",
        "\\end{bmatrix}$$"
      ]
    },
    {
      "cell_type": "code",
      "metadata": {
        "colab": {
          "base_uri": "https://localhost:8080/",
          "height": 78
        },
        "id": "KJhUqW8IzbT5",
        "outputId": "aee302ae-067c-4671-aefb-397ed50b7037"
      },
      "source": [
        "A = Matrix([[3,7,5,6],[1,6,7,2],[5,4,3,1]])\n",
        "A[2,:] = -5*A[1,:] + A[2,:]\n",
        "A"
      ],
      "execution_count": null,
      "outputs": [
        {
          "data": {
            "text/latex": "$\\displaystyle \\left[\\begin{matrix}3 & 7 & 5 & 6\\\\1 & 6 & 7 & 2\\\\0 & -26 & -32 & -9\\end{matrix}\\right]$",
            "text/plain": [
              "⎡3   7    5   6 ⎤\n",
              "⎢               ⎥\n",
              "⎢1   6    7   2 ⎥\n",
              "⎢               ⎥\n",
              "⎣0  -26  -32  -9⎦"
            ]
          },
          "execution_count": 33,
          "metadata": {},
          "output_type": "execute_result"
        }
      ]
    },
    {
      "cell_type": "markdown",
      "metadata": {
        "id": "hhKNEekl0H-l"
      },
      "source": [
        "# **Ejercicio 1 : reducción de Gauss-Jordan** --> *paso a paso*\n",
        "\n",
        "Utilice el método de Gauss-Jordan para encontar todas las soluciones si existen del siguiente sistema dado\n",
        "\n",
        "$$\\left\\{\n",
        "\\begin{array}{rcl}\n",
        "     2x+ 4y+6z  & = & 18\n",
        "  \\\\ 4x+ 5y+6z & = & 24\n",
        "  \\\\ 3x+y-2z & = & 4\n",
        "\\end{array}\n",
        "\\right.$$\n"
      ]
    },
    {
      "cell_type": "markdown",
      "metadata": {
        "id": "M_sv0FmQ_l1u"
      },
      "source": [
        "###**Definimos la matriz**"
      ]
    },
    {
      "cell_type": "code",
      "metadata": {
        "id": "2ZckkdOkOaJB",
        "colab": {
          "base_uri": "https://localhost:8080/",
          "height": 78
        },
        "outputId": "4dcd4ce8-635f-4f8e-98e9-65082d081421"
      },
      "source": [
        "A = Matrix([[2,4,6,18],[4,5,6,24],[3,1,-2,4]])\n",
        "A"
      ],
      "execution_count": null,
      "outputs": [
        {
          "output_type": "execute_result",
          "data": {
            "text/latex": "$\\displaystyle \\left[\\begin{matrix}2 & 4 & 6 & 18\\\\4 & 5 & 6 & 24\\\\3 & 1 & -2 & 4\\end{matrix}\\right]$",
            "text/plain": [
              "⎡2  4  6   18⎤\n",
              "⎢            ⎥\n",
              "⎢4  5  6   24⎥\n",
              "⎢            ⎥\n",
              "⎣3  1  -2  4 ⎦"
            ]
          },
          "metadata": {},
          "execution_count": 37
        }
      ]
    },
    {
      "cell_type": "markdown",
      "metadata": {
        "id": "eCsb0NKS_9hk"
      },
      "source": [
        "### **Multiplicamos por $\\frac{1}{2}$ la fila 1:**&nbsp;&nbsp;&nbsp;&nbsp;($\\frac{1}{2} F_1 \\rightarrow F_1  $ )"
      ]
    },
    {
      "cell_type": "code",
      "metadata": {
        "id": "cqHky56zOaJD",
        "colab": {
          "base_uri": "https://localhost:8080/",
          "height": 78
        },
        "outputId": "0dc211b7-1e12-4e59-bf0d-32d068790530"
      },
      "source": [
        "A[0,:] = S(\"1/2\")*A[0,:]\n",
        "A"
      ],
      "execution_count": null,
      "outputs": [
        {
          "output_type": "execute_result",
          "data": {
            "text/latex": "$\\displaystyle \\left[\\begin{matrix}1 & 2 & 3 & 9\\\\4 & 5 & 6 & 24\\\\3 & 1 & -2 & 4\\end{matrix}\\right]$",
            "text/plain": [
              "⎡1  2  3   9 ⎤\n",
              "⎢            ⎥\n",
              "⎢4  5  6   24⎥\n",
              "⎢            ⎥\n",
              "⎣3  1  -2  4 ⎦"
            ]
          },
          "metadata": {},
          "execution_count": 38
        }
      ]
    },
    {
      "cell_type": "markdown",
      "metadata": {
        "id": "vOd7PisBCO0r"
      },
      "source": [
        "### **Multiplicamos por $-4$ &nbsp; la fila&nbsp; $1$ &nbsp; y se la sumamos a la fila&nbsp; $2$:**&nbsp;&nbsp;&nbsp;&nbsp;($-4F_1 + F_2 \\rightarrow F_2 $ )"
      ]
    },
    {
      "cell_type": "code",
      "metadata": {
        "id": "Xsv7Z3AFOaJF",
        "colab": {
          "base_uri": "https://localhost:8080/",
          "height": 78
        },
        "outputId": "f519c9dd-c59e-4121-fce9-e8bab9fa5a07"
      },
      "source": [
        "A[1,:] = -4*A[0,:] + A[1,:]\n",
        "A"
      ],
      "execution_count": null,
      "outputs": [
        {
          "output_type": "execute_result",
          "data": {
            "text/latex": "$\\displaystyle \\left[\\begin{matrix}1 & 2 & 3 & 9\\\\0 & -3 & -6 & -12\\\\3 & 1 & -2 & 4\\end{matrix}\\right]$",
            "text/plain": [
              "⎡1  2   3    9 ⎤\n",
              "⎢              ⎥\n",
              "⎢0  -3  -6  -12⎥\n",
              "⎢              ⎥\n",
              "⎣3  1   -2   4 ⎦"
            ]
          },
          "metadata": {},
          "execution_count": 39
        }
      ]
    },
    {
      "cell_type": "markdown",
      "metadata": {
        "id": "IEOTgBnTEWf8"
      },
      "source": [
        "### **Multiplicamos por $-3$ &nbsp; la fila&nbsp; $1$ &nbsp; y se la sumamos a la fila&nbsp; $3$:**&nbsp;&nbsp;&nbsp;&nbsp;($-3F_1 + F_3 \\rightarrow F_3 $ )"
      ]
    },
    {
      "cell_type": "code",
      "metadata": {
        "id": "Uesr2p1-EWgZ",
        "colab": {
          "base_uri": "https://localhost:8080/",
          "height": 78
        },
        "outputId": "6fd83d58-c68c-4746-94b6-91786f86e8ca"
      },
      "source": [
        "A[2,:] = -3*A[0,:] + A[2,:]\n",
        "A"
      ],
      "execution_count": null,
      "outputs": [
        {
          "output_type": "execute_result",
          "data": {
            "text/latex": "$\\displaystyle \\left[\\begin{matrix}1 & 2 & 3 & 9\\\\0 & -3 & -6 & -12\\\\0 & -5 & -11 & -23\\end{matrix}\\right]$",
            "text/plain": [
              "⎡1  2    3    9 ⎤\n",
              "⎢               ⎥\n",
              "⎢0  -3  -6   -12⎥\n",
              "⎢               ⎥\n",
              "⎣0  -5  -11  -23⎦"
            ]
          },
          "metadata": {},
          "execution_count": 40
        }
      ]
    },
    {
      "cell_type": "markdown",
      "metadata": {
        "id": "KOI3-j__FRdq"
      },
      "source": [
        "### **Multiplicamos por $-\\frac{1}{3}$ la fila 1:**&nbsp;&nbsp;&nbsp;&nbsp;($-\\frac{1}{3} F_2 \\rightarrow F_2  $ )"
      ]
    },
    {
      "cell_type": "code",
      "metadata": {
        "id": "hvhS2bEzOaJH",
        "colab": {
          "base_uri": "https://localhost:8080/",
          "height": 78
        },
        "outputId": "f3db81b6-7ea6-4554-f15d-cfffa71671e6"
      },
      "source": [
        "A[1,:] = S(\"-1/3\")*A[1,:]\n",
        "A"
      ],
      "execution_count": null,
      "outputs": [
        {
          "output_type": "execute_result",
          "data": {
            "text/latex": "$\\displaystyle \\left[\\begin{matrix}1 & 2 & 3 & 9\\\\0 & 1 & 2 & 4\\\\0 & -5 & -11 & -23\\end{matrix}\\right]$",
            "text/plain": [
              "⎡1  2    3    9 ⎤\n",
              "⎢               ⎥\n",
              "⎢0  1    2    4 ⎥\n",
              "⎢               ⎥\n",
              "⎣0  -5  -11  -23⎦"
            ]
          },
          "metadata": {},
          "execution_count": 41
        }
      ]
    },
    {
      "cell_type": "markdown",
      "metadata": {
        "id": "z1g6jIbVGosZ"
      },
      "source": [
        "### **Multiplicamos por &nbsp; $2$ &nbsp; la fila&nbsp; $2$ &nbsp; y se la sumamos a la fila&nbsp; $1$:**&nbsp;&nbsp;&nbsp;&nbsp;($-2F_2 + F_1 \\rightarrow F_1 $ )"
      ]
    },
    {
      "cell_type": "code",
      "metadata": {
        "id": "C72KvuqgGmKw",
        "colab": {
          "base_uri": "https://localhost:8080/",
          "height": 78
        },
        "outputId": "78c5b093-e461-4fc9-ff11-bff73a057b42"
      },
      "source": [
        "A[0,:] = -2*A[1,:] + A[0,:]\n",
        "A"
      ],
      "execution_count": null,
      "outputs": [
        {
          "output_type": "execute_result",
          "data": {
            "text/latex": "$\\displaystyle \\left[\\begin{matrix}1 & 0 & -1 & 1\\\\0 & 1 & 2 & 4\\\\0 & -5 & -11 & -23\\end{matrix}\\right]$",
            "text/plain": [
              "⎡1  0   -1    1 ⎤\n",
              "⎢               ⎥\n",
              "⎢0  1    2    4 ⎥\n",
              "⎢               ⎥\n",
              "⎣0  -5  -11  -23⎦"
            ]
          },
          "metadata": {},
          "execution_count": 42
        }
      ]
    },
    {
      "cell_type": "markdown",
      "metadata": {
        "id": "sHyM0T-bHhtE"
      },
      "source": [
        "### **Multiplicamos por &nbsp; $5$ &nbsp; la fila&nbsp; $2$ &nbsp; y se la sumamos a la fila&nbsp; $3$:**&nbsp;&nbsp;&nbsp;&nbsp;($5F_2 + F_3 \\rightarrow F_3 $ )"
      ]
    },
    {
      "cell_type": "code",
      "metadata": {
        "id": "mopE0RuKOaJK",
        "colab": {
          "base_uri": "https://localhost:8080/",
          "height": 78
        },
        "outputId": "67b65972-9963-488f-b003-b79d97287ac6"
      },
      "source": [
        "A[2,:] = 5*A[1,:] + A[2,:]\n",
        "A"
      ],
      "execution_count": null,
      "outputs": [
        {
          "output_type": "execute_result",
          "data": {
            "text/latex": "$\\displaystyle \\left[\\begin{matrix}1 & 0 & -1 & 1\\\\0 & 1 & 2 & 4\\\\0 & 0 & -1 & -3\\end{matrix}\\right]$",
            "text/plain": [
              "⎡1  0  -1  1 ⎤\n",
              "⎢            ⎥\n",
              "⎢0  1  2   4 ⎥\n",
              "⎢            ⎥\n",
              "⎣0  0  -1  -3⎦"
            ]
          },
          "metadata": {},
          "execution_count": 43
        }
      ]
    },
    {
      "cell_type": "markdown",
      "metadata": {
        "id": "QE6nsSVvIRho"
      },
      "source": [
        "### **Multiplicamos por $-1$ la fila 3:**&nbsp;&nbsp;&nbsp;&nbsp;($-1 F_3 \\rightarrow F_3  $ )"
      ]
    },
    {
      "cell_type": "code",
      "metadata": {
        "id": "YOz6Km7YOaJM",
        "colab": {
          "base_uri": "https://localhost:8080/",
          "height": 78
        },
        "outputId": "f1208351-acaf-45ce-8df2-2fc7bcf3e284"
      },
      "source": [
        "A[2,:] = -1*A[2,:]\n",
        "A"
      ],
      "execution_count": null,
      "outputs": [
        {
          "output_type": "execute_result",
          "data": {
            "text/latex": "$\\displaystyle \\left[\\begin{matrix}1 & 0 & -1 & 1\\\\0 & 1 & 2 & 4\\\\0 & 0 & 1 & 3\\end{matrix}\\right]$",
            "text/plain": [
              "⎡1  0  -1  1⎤\n",
              "⎢           ⎥\n",
              "⎢0  1  2   4⎥\n",
              "⎢           ⎥\n",
              "⎣0  0  1   3⎦"
            ]
          },
          "metadata": {},
          "execution_count": 44
        }
      ]
    },
    {
      "cell_type": "markdown",
      "metadata": {
        "id": "czXg3hSOJmFX"
      },
      "source": [
        "### **Multiplicamos por &nbsp; $-2$ &nbsp; la fila&nbsp; $3$ &nbsp; y se la sumamos a la fila&nbsp; $2$:**&nbsp;&nbsp;&nbsp;&nbsp;($-2F_3 + F_2 \\rightarrow F_2 $ )"
      ]
    },
    {
      "cell_type": "code",
      "metadata": {
        "id": "NSF53SECJmF3",
        "colab": {
          "base_uri": "https://localhost:8080/",
          "height": 78
        },
        "outputId": "b22f7ad6-e8ab-44ad-954a-d13511b3f654"
      },
      "source": [
        "A[1,:] = -2*A[2,:] + A[1,:]\n",
        "A"
      ],
      "execution_count": null,
      "outputs": [
        {
          "output_type": "execute_result",
          "data": {
            "text/latex": "$\\displaystyle \\left[\\begin{matrix}1 & 0 & -1 & 1\\\\0 & 1 & 0 & -2\\\\0 & 0 & 1 & 3\\end{matrix}\\right]$",
            "text/plain": [
              "⎡1  0  -1  1 ⎤\n",
              "⎢            ⎥\n",
              "⎢0  1  0   -2⎥\n",
              "⎢            ⎥\n",
              "⎣0  0  1   3 ⎦"
            ]
          },
          "metadata": {},
          "execution_count": 45
        }
      ]
    },
    {
      "cell_type": "markdown",
      "metadata": {
        "id": "1qfibHwAKecg"
      },
      "source": [
        "### **Multiplicamos por &nbsp; $1$ &nbsp; la fila&nbsp; $3$ &nbsp; y se la sumamos a la fila&nbsp; $1$:**&nbsp;&nbsp;&nbsp;&nbsp;($1F_3 + F_1 \\rightarrow F_1 $ )"
      ]
    },
    {
      "cell_type": "code",
      "metadata": {
        "id": "TGGl_rZ3Keci",
        "colab": {
          "base_uri": "https://localhost:8080/",
          "height": 78
        },
        "outputId": "7ad0eab5-a5a2-4921-a3f9-183aa853230d"
      },
      "source": [
        "A[0,:] = 1*A[2,:] + A[0,:]\n",
        "A"
      ],
      "execution_count": null,
      "outputs": [
        {
          "output_type": "execute_result",
          "data": {
            "text/latex": "$\\displaystyle \\left[\\begin{matrix}1 & 0 & 0 & 4\\\\0 & 1 & 0 & -2\\\\0 & 0 & 1 & 3\\end{matrix}\\right]$",
            "text/plain": [
              "⎡1  0  0  4 ⎤\n",
              "⎢           ⎥\n",
              "⎢0  1  0  -2⎥\n",
              "⎢           ⎥\n",
              "⎣0  0  1  3 ⎦"
            ]
          },
          "metadata": {},
          "execution_count": 46
        }
      ]
    },
    {
      "cell_type": "markdown",
      "metadata": {
        "id": "3oNhmN8Nh8AC"
      },
      "source": [
        "# **Ejercicio 2 : reducción de Gauss-Jordan** --> *paso a paso*\n",
        "\n",
        "Utilice el método de Gauss-Jordan para encontar todas las soluciones si existen del siguiente sistema dado\n",
        "\n",
        "$$\\left\\{\n",
        "\\begin{array}{rcl}\n",
        "     2x+ 4y+6z  & = & 18\n",
        "  \\\\ 4x+ 5y+6z & = & 24\n",
        "  \\\\ 2x+7y+12z & = & 30\n",
        "\\end{array}\n",
        "\\right.$$"
      ]
    },
    {
      "cell_type": "code",
      "metadata": {
        "id": "6KfAd_lRWL3R"
      },
      "source": [
        "A=Matrix([[2,4,6,18], [4,5,6,24],[2,7,12,30]])\n",
        "A"
      ],
      "execution_count": null,
      "outputs": []
    },
    {
      "cell_type": "code",
      "metadata": {
        "id": "ZMVfoV1nMX9i"
      },
      "source": [
        "A[0,:] = S(\"1/2\")*A[0,:]\n",
        "A"
      ],
      "execution_count": null,
      "outputs": []
    },
    {
      "cell_type": "code",
      "metadata": {
        "id": "IGJ32WG_NKo8"
      },
      "source": [
        "A[1,:] = -4*A[0,:] + A[1,:] \n",
        "A[2,:] = -2*A[0,:] + A[2,:] \n",
        "A"
      ],
      "execution_count": null,
      "outputs": []
    },
    {
      "cell_type": "code",
      "metadata": {
        "id": "dc0UAIgGNrYx"
      },
      "source": [
        "A[1,:] = S(\"-1/3\")*A[1,:]\n",
        "A"
      ],
      "execution_count": null,
      "outputs": []
    },
    {
      "cell_type": "code",
      "metadata": {
        "id": "-T8O6OjJOIPT"
      },
      "source": [
        "A[0,:] = -2*A[1,:] + A[0,:] \n",
        "A[2,:] = -3*A[1,:] + A[2,:] \n",
        "A"
      ],
      "execution_count": null,
      "outputs": []
    },
    {
      "cell_type": "markdown",
      "metadata": {
        "id": "eGyDcVCCijHg"
      },
      "source": [
        "# **Ejercicio 3 : reducción de Gauss-Jordan** --> *paso a paso*\n",
        "\n",
        "Encuentra la solución o soluciones del siguiente sistema de ecuaciones, si es posible, usando el método de eliminación de **Gauss-jordan**:\n",
        "\n",
        "$$\\left\\{\n",
        "\\begin{array}{rcl}\n",
        "     x +y + z +w & = & 6\n",
        "  \\\\ 2x +y-z & = & 3\n",
        "  \\\\ 3x+y+2w & = & 6\n",
        "\\end{array}\n",
        "\\right.$$"
      ]
    },
    {
      "cell_type": "code",
      "metadata": {
        "id": "AG9xtf8COdpC"
      },
      "source": [
        "A=Matrix([[1,1,1,1,6], [2, 1,-1,0,3],[3, 1, 0, 2,6]])\n",
        "A"
      ],
      "execution_count": null,
      "outputs": []
    },
    {
      "cell_type": "code",
      "metadata": {
        "id": "qTHXE_DzamTZ"
      },
      "source": [
        "A[1,:] = -2*A[0,:] + A[1,:]\n",
        "A[2,:] = -3*A[0,:] + A[2,:]\n",
        "A"
      ],
      "execution_count": null,
      "outputs": []
    },
    {
      "cell_type": "code",
      "metadata": {
        "id": "mF6HEJ13b7n-"
      },
      "source": [
        "A[1,:] = -1*A[1,:]\n",
        "A"
      ],
      "execution_count": null,
      "outputs": []
    },
    {
      "cell_type": "code",
      "metadata": {
        "id": "YRcF5RK6cK6O"
      },
      "source": [
        "A[0,:] = -1*A[1,:] + A[0,:]\n",
        "A[2,:] = 2*A[1,:] + A[2,:]\n",
        "A"
      ],
      "execution_count": null,
      "outputs": []
    },
    {
      "cell_type": "code",
      "metadata": {
        "id": "75v1MJyLcdMy"
      },
      "source": [
        "A[2,:] = S(\"1/3\")*A[2,:]\n",
        "A"
      ],
      "execution_count": null,
      "outputs": []
    },
    {
      "cell_type": "code",
      "metadata": {
        "id": "IWK_5ny3cv_m"
      },
      "source": [
        "A[0,:] = 2*A[2,:] + A[0,:]\n",
        "A[1,:] = -3*A[2,:] + A[1,:]\n",
        "A"
      ],
      "execution_count": null,
      "outputs": []
    },
    {
      "cell_type": "markdown",
      "metadata": {
        "id": "GrtQPJLBOTfy"
      },
      "source": [
        "# **Ejercicio 4: reducción de Gauss-Jordan** --> *paso a paso*\n",
        "\n",
        "Encuentra la solución o soluciones del siguiente sistema de ecuaciones, si es posible, usando el método de eliminación de **Gauss-jordan** paso a paso:\n",
        "\n",
        "$$\\left\\{\n",
        "\\begin{array}{rcl}\n",
        "      2y+3z  & = & 4\n",
        "  \\\\ 2x-6y+7z & = & 15\n",
        "  \\\\ x-2y+5z & = & 10\n",
        "\\end{array}\n",
        "\\right.$$"
      ]
    },
    {
      "cell_type": "code",
      "metadata": {
        "id": "0Oj8a6epPc5g"
      },
      "source": [
        "A=Matrix([[0,2,3,4], [2,-6,7,15],[1,-2,5,10]])\n",
        "A"
      ],
      "execution_count": null,
      "outputs": []
    },
    {
      "cell_type": "code",
      "metadata": {
        "id": "V-Tdeq8IPuGo"
      },
      "source": [
        "A.row_swap(0,2)\n",
        "A"
      ],
      "execution_count": null,
      "outputs": []
    },
    {
      "cell_type": "code",
      "metadata": {
        "id": "QdXIAGVoP4uW"
      },
      "source": [
        "A[1,:] = -2*A[0,:] + A[1,:]\n",
        "A"
      ],
      "execution_count": null,
      "outputs": []
    },
    {
      "cell_type": "code",
      "metadata": {
        "colab": {
          "background_save": true
        },
        "id": "P57lfjXZQJ8D",
        "outputId": "5ffca58f-cbbb-40ee-c2bb-6176968c03f3"
      },
      "source": [
        "A[1,:] = S(\"-1/2\")*A[1,:]\n",
        "A"
      ],
      "execution_count": null,
      "outputs": [
        {
          "data": {
            "text/latex": "$\\displaystyle \\left[\\begin{matrix}1 & -2 & 5 & 10\\\\0 & 1 & \\frac{3}{2} & \\frac{5}{2}\\\\0 & 2 & 3 & 4\\end{matrix}\\right]$",
            "text/plain": [
              "⎡1  -2   5   10 ⎤\n",
              "⎢               ⎥\n",
              "⎢0  1   3/2  5/2⎥\n",
              "⎢               ⎥\n",
              "⎣0  2    3    4 ⎦"
            ]
          },
          "execution_count": null,
          "metadata": {},
          "output_type": "execute_result"
        }
      ]
    },
    {
      "cell_type": "code",
      "metadata": {
        "colab": {
          "background_save": true
        },
        "id": "t4j-pjQsQWTc",
        "outputId": "77a02c91-31fb-4fae-eb2f-f956b61360c2"
      },
      "source": [
        "A[0,:] = 2*A[1,:] +  A[0,:]\n",
        "A[2,:] = -2*A[1,:] + A[2,:]\n",
        "A"
      ],
      "execution_count": null,
      "outputs": [
        {
          "data": {
            "text/latex": "$\\displaystyle \\left[\\begin{matrix}1 & 0 & 8 & 15\\\\0 & 1 & \\frac{3}{2} & \\frac{5}{2}\\\\0 & 0 & 0 & -1\\end{matrix}\\right]$",
            "text/plain": [
              "⎡1  0   8   15 ⎤\n",
              "⎢              ⎥\n",
              "⎢0  1  3/2  5/2⎥\n",
              "⎢              ⎥\n",
              "⎣0  0   0   -1 ⎦"
            ]
          },
          "execution_count": null,
          "metadata": {},
          "output_type": "execute_result"
        }
      ]
    },
    {
      "cell_type": "markdown",
      "metadata": {
        "id": "776yomQ3iurQ"
      },
      "source": [
        "# **Ejercicio 5 : reducción de Gauss-Jordan** --> *paso a paso*\n",
        "\n",
        "Utilice el **método de Gauss-Jordan** para encontar todas las soluciones si existen del siguiente sistema dado\n",
        "\n",
        "$$\\left\\{\n",
        "\\begin{array}{rcl}\n",
        "      2x-y+z  & = & 3\n",
        "  \\\\ 3x+y-2z & = & -2\n",
        "  \\\\ x-y+z & = & 7\n",
        "  \\\\ x+5y+7z & = & 13\n",
        "  \\\\ x-7y-5z & = & 12\n",
        "\\end{array}\n",
        "\\right.$$"
      ]
    },
    {
      "cell_type": "code",
      "metadata": {
        "colab": {
          "background_save": true
        },
        "id": "O-mqwHn0VbED",
        "outputId": "37109888-39f6-45e4-d32c-341f7348fb5d"
      },
      "source": [
        "A=Matrix([[2,-1,1,3], [3,1,-2,-2],[1,-1,1,7],[1,5,7,13],[1,-7,-5,12]])\n",
        "A"
      ],
      "execution_count": null,
      "outputs": [
        {
          "data": {
            "text/latex": "$\\displaystyle \\left[\\begin{matrix}2 & -1 & 1 & 3\\\\3 & 1 & -2 & -2\\\\1 & -1 & 1 & 7\\\\1 & 5 & 7 & 13\\\\1 & -7 & -5 & 12\\end{matrix}\\right]$",
            "text/plain": [
              "⎡2  -1  1   3 ⎤\n",
              "⎢             ⎥\n",
              "⎢3  1   -2  -2⎥\n",
              "⎢             ⎥\n",
              "⎢1  -1  1   7 ⎥\n",
              "⎢             ⎥\n",
              "⎢1  5   7   13⎥\n",
              "⎢             ⎥\n",
              "⎣1  -7  -5  12⎦"
            ]
          },
          "execution_count": null,
          "metadata": {},
          "output_type": "execute_result"
        }
      ]
    },
    {
      "cell_type": "code",
      "metadata": {
        "colab": {
          "background_save": true
        },
        "id": "L0hmOrfWWK7k",
        "outputId": "98782fc5-46e4-425c-dbce-eface42ddf4c"
      },
      "source": [
        "A.row_swap(0,2)\n",
        "A"
      ],
      "execution_count": null,
      "outputs": [
        {
          "data": {
            "text/latex": "$\\displaystyle \\left[\\begin{matrix}1 & -1 & 1 & 7\\\\3 & 1 & -2 & -2\\\\2 & -1 & 1 & 3\\\\1 & 5 & 7 & 13\\\\1 & -7 & -5 & 12\\end{matrix}\\right]$",
            "text/plain": [
              "⎡1  -1  1   7 ⎤\n",
              "⎢             ⎥\n",
              "⎢3  1   -2  -2⎥\n",
              "⎢             ⎥\n",
              "⎢2  -1  1   3 ⎥\n",
              "⎢             ⎥\n",
              "⎢1  5   7   13⎥\n",
              "⎢             ⎥\n",
              "⎣1  -7  -5  12⎦"
            ]
          },
          "execution_count": null,
          "metadata": {},
          "output_type": "execute_result"
        }
      ]
    },
    {
      "cell_type": "code",
      "metadata": {
        "colab": {
          "background_save": true
        },
        "id": "8mvvTDKlWehI",
        "outputId": "1d5a0fd0-ace2-4149-a4ff-2617835eaafc"
      },
      "source": [
        "A[1,:] = -3*A[0,:] +  A[1,:]\n",
        "A[2,:] = -2*A[0,:] +  A[2,:]\n",
        "A[3,:] = -1*A[0,:] +  A[3,:]\n",
        "A[4,:] = -1*A[0,:] +  A[4,:]\n",
        "A"
      ],
      "execution_count": null,
      "outputs": [
        {
          "data": {
            "text/latex": "$\\displaystyle \\left[\\begin{matrix}1 & -1 & 1 & 7\\\\0 & 4 & -5 & -23\\\\0 & 1 & -1 & -11\\\\0 & 6 & 6 & 6\\\\0 & -6 & -6 & 5\\end{matrix}\\right]$",
            "text/plain": [
              "⎡1  -1  1    7 ⎤\n",
              "⎢              ⎥\n",
              "⎢0  4   -5  -23⎥\n",
              "⎢              ⎥\n",
              "⎢0  1   -1  -11⎥\n",
              "⎢              ⎥\n",
              "⎢0  6   6    6 ⎥\n",
              "⎢              ⎥\n",
              "⎣0  -6  -6   5 ⎦"
            ]
          },
          "execution_count": null,
          "metadata": {},
          "output_type": "execute_result"
        }
      ]
    },
    {
      "cell_type": "code",
      "metadata": {
        "colab": {
          "background_save": true
        },
        "id": "vqf2eULbXK4M",
        "outputId": "567a3a89-8f9e-48a8-eec0-16621675b08b"
      },
      "source": [
        "A[1,:] = S(\"1/4\")*A[1,:]\n",
        "A"
      ],
      "execution_count": null,
      "outputs": [
        {
          "data": {
            "text/latex": "$\\displaystyle \\left[\\begin{matrix}1 & -1 & 1 & 7\\\\0 & 1 & - \\frac{5}{4} & - \\frac{23}{4}\\\\0 & 1 & -1 & -11\\\\0 & 6 & 6 & 6\\\\0 & -6 & -6 & 5\\end{matrix}\\right]$",
            "text/plain": [
              "⎡1  -1   1      7  ⎤\n",
              "⎢                  ⎥\n",
              "⎢0  1   -5/4  -23/4⎥\n",
              "⎢                  ⎥\n",
              "⎢0  1    -1    -11 ⎥\n",
              "⎢                  ⎥\n",
              "⎢0  6    6      6  ⎥\n",
              "⎢                  ⎥\n",
              "⎣0  -6   -6     5  ⎦"
            ]
          },
          "execution_count": null,
          "metadata": {},
          "output_type": "execute_result"
        }
      ]
    },
    {
      "cell_type": "code",
      "metadata": {
        "colab": {
          "background_save": true
        },
        "id": "juPDK3z2XUwP",
        "outputId": "f8f84fd2-eaa6-4989-a67b-0f2a15ff58c4"
      },
      "source": [
        "A[0,:] = 1*A[1,:] +  A[0,:]\n",
        "A[2,:] = -1*A[1,:] +  A[2,:]\n",
        "A[3,:] = -6*A[1,:] +  A[3,:]\n",
        "A[4,:] = 6*A[1,:] +  A[4,:]\n",
        "A"
      ],
      "execution_count": null,
      "outputs": [
        {
          "data": {
            "text/latex": "$\\displaystyle \\left[\\begin{matrix}1 & 0 & - \\frac{1}{4} & \\frac{5}{4}\\\\0 & 1 & - \\frac{5}{4} & - \\frac{23}{4}\\\\0 & 0 & \\frac{1}{4} & - \\frac{21}{4}\\\\0 & 0 & \\frac{27}{2} & \\frac{81}{2}\\\\0 & 0 & - \\frac{27}{2} & - \\frac{59}{2}\\end{matrix}\\right]$",
            "text/plain": [
              "⎡1  0  -1/4    5/4 ⎤\n",
              "⎢                  ⎥\n",
              "⎢0  1  -5/4   -23/4⎥\n",
              "⎢                  ⎥\n",
              "⎢0  0   1/4   -21/4⎥\n",
              "⎢                  ⎥\n",
              "⎢0  0  27/2   81/2 ⎥\n",
              "⎢                  ⎥\n",
              "⎣0  0  -27/2  -59/2⎦"
            ]
          },
          "execution_count": null,
          "metadata": {},
          "output_type": "execute_result"
        }
      ]
    },
    {
      "cell_type": "code",
      "metadata": {
        "colab": {
          "background_save": true
        },
        "id": "tW59Aon7Xz79",
        "outputId": "2d311321-db23-4004-a389-54542cc36003"
      },
      "source": [
        "A[2,:] = 4*A[2,:]\n",
        "A"
      ],
      "execution_count": null,
      "outputs": [
        {
          "data": {
            "text/latex": "$\\displaystyle \\left[\\begin{matrix}1 & 0 & - \\frac{1}{4} & \\frac{5}{4}\\\\0 & 1 & - \\frac{5}{4} & - \\frac{23}{4}\\\\0 & 0 & 1 & -21\\\\0 & 0 & \\frac{27}{2} & \\frac{81}{2}\\\\0 & 0 & - \\frac{27}{2} & - \\frac{59}{2}\\end{matrix}\\right]$",
            "text/plain": [
              "⎡1  0  -1/4    5/4 ⎤\n",
              "⎢                  ⎥\n",
              "⎢0  1  -5/4   -23/4⎥\n",
              "⎢                  ⎥\n",
              "⎢0  0    1     -21 ⎥\n",
              "⎢                  ⎥\n",
              "⎢0  0  27/2   81/2 ⎥\n",
              "⎢                  ⎥\n",
              "⎣0  0  -27/2  -59/2⎦"
            ]
          },
          "execution_count": null,
          "metadata": {},
          "output_type": "execute_result"
        }
      ]
    },
    {
      "cell_type": "code",
      "metadata": {
        "colab": {
          "background_save": true
        },
        "id": "dnHXiAyPYFhK",
        "outputId": "4a1981ea-9325-4ffd-be7a-a5ab30b6273b"
      },
      "source": [
        "A[0,:] = S(\"1/4\")*A[2,:] +  A[0,:]\n",
        "A[1,:] = S(\"5/4\")*A[2,:] +  A[1,:]\n",
        "A[3,:] = S(\"-27/2\")*A[2,:] +  A[3,:]\n",
        "A[4,:] = S(\"27/2\")*A[2,:] +  A[4,:]\n",
        "A"
      ],
      "execution_count": null,
      "outputs": [
        {
          "data": {
            "text/latex": "$\\displaystyle \\left[\\begin{matrix}1 & 0 & 0 & -4\\\\0 & 1 & 0 & -32\\\\0 & 0 & 1 & -21\\\\0 & 0 & 0 & 324\\\\0 & 0 & 0 & -313\\end{matrix}\\right]$",
            "text/plain": [
              "⎡1  0  0   -4 ⎤\n",
              "⎢             ⎥\n",
              "⎢0  1  0  -32 ⎥\n",
              "⎢             ⎥\n",
              "⎢0  0  1  -21 ⎥\n",
              "⎢             ⎥\n",
              "⎢0  0  0  324 ⎥\n",
              "⎢             ⎥\n",
              "⎣0  0  0  -313⎦"
            ]
          },
          "execution_count": null,
          "metadata": {},
          "output_type": "execute_result"
        }
      ]
    },
    {
      "cell_type": "markdown",
      "metadata": {
        "id": "AnzvupknWWhG"
      },
      "source": [
        "# **Ejercicio 6: reducción de Gauss-Jordan** --> *paso a paso*\n",
        "\n",
        "Utilice el método de Gauss-Jordan para encontar todas las soluciones si existen del siguiente sistema dado\n",
        "\n",
        "$$\\left\\{\n",
        "\\begin{array}{rcl}\n",
        "     2x+3z  & = & 4\n",
        "  \\\\ 2x- 6y+7z & = & 15\n",
        "  \\\\ x-2y+5z & = & 10\n",
        "\\end{array}\n",
        "\\right.$$\n"
      ]
    },
    {
      "cell_type": "code",
      "metadata": {
        "colab": {
          "background_save": true
        },
        "id": "JCYNIn4gWWhN",
        "outputId": "1ac20f41-b915-4417-e34e-4e8622a52c3d"
      },
      "source": [
        "A=Matrix([[2,0,3,4], [2,-6,7,15],[1,-2,5,10]])\n",
        "A"
      ],
      "execution_count": null,
      "outputs": [
        {
          "data": {
            "text/latex": "$\\displaystyle \\left[\\begin{matrix}2 & 0 & 3 & 4\\\\2 & -6 & 7 & 15\\\\1 & -2 & 5 & 10\\end{matrix}\\right]$",
            "text/plain": [
              "⎡2  0   3  4 ⎤\n",
              "⎢            ⎥\n",
              "⎢2  -6  7  15⎥\n",
              "⎢            ⎥\n",
              "⎣1  -2  5  10⎦"
            ]
          },
          "execution_count": null,
          "metadata": {},
          "output_type": "execute_result"
        }
      ]
    },
    {
      "cell_type": "code",
      "metadata": {
        "colab": {
          "background_save": true
        },
        "id": "9rJl1MRbXdgH",
        "outputId": "9880fc6b-5190-4025-cbe4-bb82d0eb8e1a"
      },
      "source": [
        "A.row_swap(0,2)\n",
        "A"
      ],
      "execution_count": null,
      "outputs": [
        {
          "data": {
            "text/latex": "$\\displaystyle \\left[\\begin{matrix}1 & -2 & 5 & 10\\\\2 & -6 & 7 & 15\\\\2 & 0 & 3 & 4\\end{matrix}\\right]$",
            "text/plain": [
              "⎡1  -2  5  10⎤\n",
              "⎢            ⎥\n",
              "⎢2  -6  7  15⎥\n",
              "⎢            ⎥\n",
              "⎣2  0   3  4 ⎦"
            ]
          },
          "execution_count": null,
          "metadata": {},
          "output_type": "execute_result"
        }
      ]
    },
    {
      "cell_type": "code",
      "metadata": {
        "colab": {
          "background_save": true
        },
        "id": "IbeT5V4SWWhQ",
        "outputId": "b601dd91-3252-4ca9-f32b-678c7d2d64fe"
      },
      "source": [
        "A[1,:] = -2*A[0,:]+A[1,:]\n",
        "A[2,:] = -2*A[0,:] +A[2,:]\n",
        "A"
      ],
      "execution_count": null,
      "outputs": [
        {
          "data": {
            "text/latex": "$\\displaystyle \\left[\\begin{matrix}1 & -2 & 5 & 10\\\\0 & -2 & -3 & -5\\\\0 & 4 & -7 & -16\\end{matrix}\\right]$",
            "text/plain": [
              "⎡1  -2  5   10 ⎤\n",
              "⎢              ⎥\n",
              "⎢0  -2  -3  -5 ⎥\n",
              "⎢              ⎥\n",
              "⎣0  4   -7  -16⎦"
            ]
          },
          "execution_count": null,
          "metadata": {},
          "output_type": "execute_result"
        }
      ]
    },
    {
      "cell_type": "code",
      "metadata": {
        "colab": {
          "background_save": true
        },
        "id": "yWrx6ZThYlYl",
        "outputId": "01f09662-5bff-4562-bb31-bb64fa7597f4"
      },
      "source": [
        "A[1,:] = S(\"-1/2\")*A[1,:]\n",
        "A"
      ],
      "execution_count": null,
      "outputs": [
        {
          "data": {
            "text/latex": "$\\displaystyle \\left[\\begin{matrix}1 & -2 & 5 & 10\\\\0 & 1 & \\frac{3}{2} & \\frac{5}{2}\\\\0 & 4 & -7 & -16\\end{matrix}\\right]$",
            "text/plain": [
              "⎡1  -2   5   10 ⎤\n",
              "⎢               ⎥\n",
              "⎢0  1   3/2  5/2⎥\n",
              "⎢               ⎥\n",
              "⎣0  4   -7   -16⎦"
            ]
          },
          "execution_count": null,
          "metadata": {},
          "output_type": "execute_result"
        }
      ]
    },
    {
      "cell_type": "code",
      "metadata": {
        "colab": {
          "background_save": true
        },
        "id": "boxh_wZ-Y2UH",
        "outputId": "16333c2d-15af-4780-b257-69f9c50f8221"
      },
      "source": [
        "A[0,:] =2*A[1,:] +A[0,:]\n",
        "A[2,:] =-4*A[1,:] +A[2,:]\n",
        "A"
      ],
      "execution_count": null,
      "outputs": [
        {
          "data": {
            "text/latex": "$\\displaystyle \\left[\\begin{matrix}1 & 0 & 8 & 15\\\\0 & 1 & \\frac{3}{2} & \\frac{5}{2}\\\\0 & 0 & -13 & -26\\end{matrix}\\right]$",
            "text/plain": [
              "⎡1  0   8   15 ⎤\n",
              "⎢              ⎥\n",
              "⎢0  1  3/2  5/2⎥\n",
              "⎢              ⎥\n",
              "⎣0  0  -13  -26⎦"
            ]
          },
          "execution_count": null,
          "metadata": {},
          "output_type": "execute_result"
        }
      ]
    },
    {
      "cell_type": "code",
      "metadata": {
        "colab": {
          "background_save": true
        },
        "id": "MZ8Rv2DHZQZJ",
        "outputId": "6ccb55b2-1a55-4303-98e0-8d9ed107e19c"
      },
      "source": [
        "A[2,:] = S(\"-1/13\")*A[2,:]\n",
        "A"
      ],
      "execution_count": null,
      "outputs": [
        {
          "data": {
            "text/latex": "$\\displaystyle \\left[\\begin{matrix}1 & 0 & 8 & 15\\\\0 & 1 & \\frac{3}{2} & \\frac{5}{2}\\\\0 & 0 & 1 & 2\\end{matrix}\\right]$",
            "text/plain": [
              "⎡1  0   8   15 ⎤\n",
              "⎢              ⎥\n",
              "⎢0  1  3/2  5/2⎥\n",
              "⎢              ⎥\n",
              "⎣0  0   1    2 ⎦"
            ]
          },
          "execution_count": null,
          "metadata": {},
          "output_type": "execute_result"
        }
      ]
    },
    {
      "cell_type": "code",
      "metadata": {
        "colab": {
          "background_save": true
        },
        "id": "JSZpWCJ_ZkqV",
        "outputId": "c5d8c767-96f0-46ee-c487-645bc255040b"
      },
      "source": [
        "A[0,:] =-8*A[2,:] +A[0,:]\n",
        "A[1,:] =S(\"-3/2\")*A[2,:] +A[1,:]\n",
        "A"
      ],
      "execution_count": null,
      "outputs": [
        {
          "data": {
            "text/latex": "$\\displaystyle \\left[\\begin{matrix}1 & 0 & 0 & -1\\\\0 & 1 & 0 & - \\frac{1}{2}\\\\0 & 0 & 1 & 2\\end{matrix}\\right]$",
            "text/plain": [
              "⎡1  0  0   -1 ⎤\n",
              "⎢             ⎥\n",
              "⎢0  1  0  -1/2⎥\n",
              "⎢             ⎥\n",
              "⎣0  0  1   2  ⎦"
            ]
          },
          "execution_count": null,
          "metadata": {},
          "output_type": "execute_result"
        }
      ]
    },
    {
      "cell_type": "markdown",
      "metadata": {
        "id": "s17xLvW-ipoB"
      },
      "source": [
        "# **PROBLEMAS Y EJERCICIOS DE APLICACIÓN SOBRE SISTEMAS DE ECUACIONES**\n",
        "\n",
        "## **Ejercicio 1:** *(discriminación de sistemas de ecuaciones)*\n",
        "\n",
        "Utilice el método de Gauss-Jordan para encontar los valores de $a$ y $b$ pra los cuales el sistema tiene:\n",
        "1. única solución\n",
        "2. infinitas soluciones\n",
        "3. no tiene solución\n",
        "\n",
        "\n",
        "\n",
        "$$\\left\\{\n",
        "\\begin{array}{rcl}\n",
        "     x+ y+3z  & = & 2\n",
        "  \\\\ x+ 2y+4z & = & 3\n",
        "  \\\\ x+3y+az & = & b\n",
        "\\end{array}\n",
        "\\right.$$"
      ]
    },
    {
      "cell_type": "code",
      "metadata": {
        "colab": {
          "base_uri": "https://localhost:8080/",
          "height": 78
        },
        "id": "b_iq_NB0cPwG",
        "outputId": "aac1fe14-5ea5-4798-8965-5bbb270c3f6b"
      },
      "source": [
        "a,b, = symbols(\"a b\")\n",
        "\n",
        "A=Matrix([[1,1,3,2], [1,2,4,3],[1,3,a,b]])\n",
        "A"
      ],
      "execution_count": null,
      "outputs": [
        {
          "output_type": "execute_result",
          "data": {
            "text/latex": "$\\displaystyle \\left[\\begin{matrix}1 & 1 & 3 & 2\\\\1 & 2 & 4 & 3\\\\1 & 3 & a & b\\end{matrix}\\right]$",
            "text/plain": [
              "⎡1  1  3  2⎤\n",
              "⎢          ⎥\n",
              "⎢1  2  4  3⎥\n",
              "⎢          ⎥\n",
              "⎣1  3  a  b⎦"
            ]
          },
          "metadata": {},
          "execution_count": 4
        }
      ]
    },
    {
      "cell_type": "code",
      "metadata": {
        "colab": {
          "base_uri": "https://localhost:8080/",
          "height": 78
        },
        "id": "L-9BH3UUcoDg",
        "outputId": "8a4babf0-4dbd-46f2-fea9-352f3120f255"
      },
      "source": [
        "A[1,:] = -1*A[0,:] +  A[1,:]\n",
        "A[2,:] = -1*A[0,:] + A[2,:]\n",
        "A"
      ],
      "execution_count": null,
      "outputs": [
        {
          "output_type": "execute_result",
          "data": {
            "text/latex": "$\\displaystyle \\left[\\begin{matrix}1 & 1 & 3 & 2\\\\0 & 1 & 1 & 1\\\\0 & 2 & a - 3 & b - 2\\end{matrix}\\right]$",
            "text/plain": [
              "⎡1  1    3      2  ⎤\n",
              "⎢                  ⎥\n",
              "⎢0  1    1      1  ⎥\n",
              "⎢                  ⎥\n",
              "⎣0  2  a - 3  b - 2⎦"
            ]
          },
          "metadata": {},
          "execution_count": 5
        }
      ]
    },
    {
      "cell_type": "code",
      "metadata": {
        "colab": {
          "base_uri": "https://localhost:8080/",
          "height": 78
        },
        "id": "f7SYLFGDc1kK",
        "outputId": "14a66782-6ee5-441e-c469-4cbc1d827804"
      },
      "source": [
        "A[2,:] = -2*A[1,:] + A[2,:]\n",
        "A"
      ],
      "execution_count": null,
      "outputs": [
        {
          "output_type": "execute_result",
          "data": {
            "text/latex": "$\\displaystyle \\left[\\begin{matrix}1 & 1 & 3 & 2\\\\0 & 1 & 1 & 1\\\\0 & 0 & a - 5 & b - 4\\end{matrix}\\right]$",
            "text/plain": [
              "⎡1  1    3      2  ⎤\n",
              "⎢                  ⎥\n",
              "⎢0  1    1      1  ⎥\n",
              "⎢                  ⎥\n",
              "⎣0  0  a - 5  b - 4⎦"
            ]
          },
          "metadata": {},
          "execution_count": 6
        }
      ]
    },
    {
      "cell_type": "markdown",
      "metadata": {
        "id": "76ysWgCtBbcY"
      },
      "source": [
        "## **Ejercicio 2:** *(discriminación de sistemas de ecuaciones)*\n",
        "\n",
        "Utilice el método de Gauss-Jordan para encontar los valores de $m$ para los cuales el sistema tiene:\n",
        "1. única solución\n",
        "2. infinitas soluciones\n",
        "3. no tiene solución\n",
        "\n",
        "\n",
        "\n",
        "$$\\left\\{\n",
        "\\begin{array}{rcl}\n",
        "     x -y+mz  & = & -3\n",
        "  \\\\ 3x+ my-z & = & -2\n",
        "  \\\\ 5x-y+mz & = & 4\n",
        "\\end{array}\n",
        "\\right.$$"
      ]
    },
    {
      "cell_type": "code",
      "metadata": {
        "colab": {
          "base_uri": "https://localhost:8080/",
          "height": 78
        },
        "id": "Dm40U3hoMEEr",
        "outputId": "a03e36e5-9086-4eca-ea97-e3c29e353b5d"
      },
      "source": [
        "m= Symbol(\"m\")\n",
        "A = Matrix([[1,-1,m,-3],[3,m,-1,-2],[5,-1,m,4]])\n",
        "A"
      ],
      "execution_count": null,
      "outputs": [
        {
          "output_type": "execute_result",
          "data": {
            "text/latex": "$\\displaystyle \\left[\\begin{matrix}1 & -1 & m & -3\\\\3 & m & -1 & -2\\\\5 & -1 & m & 4\\end{matrix}\\right]$",
            "text/plain": [
              "⎡1  -1  m   -3⎤\n",
              "⎢             ⎥\n",
              "⎢3  m   -1  -2⎥\n",
              "⎢             ⎥\n",
              "⎣5  -1  m   4 ⎦"
            ]
          },
          "metadata": {},
          "execution_count": 8
        }
      ]
    },
    {
      "cell_type": "code",
      "metadata": {
        "colab": {
          "base_uri": "https://localhost:8080/",
          "height": 78
        },
        "id": "PzKWaeBzNGQ4",
        "outputId": "9e9fa5b5-ae7a-467b-dad8-8c66f93dfde8"
      },
      "source": [
        "A[1,:] = -3*A[0,:] + A[1,:]\n",
        "A[2,:] = -5*A[0,:] + A[2,:]\n",
        "A"
      ],
      "execution_count": null,
      "outputs": [
        {
          "output_type": "execute_result",
          "data": {
            "text/latex": "$\\displaystyle \\left[\\begin{matrix}1 & -1 & m & -3\\\\0 & m + 3 & - 3 m - 1 & 7\\\\0 & 4 & - 4 m & 19\\end{matrix}\\right]$",
            "text/plain": [
              "⎡1   -1       m      -3⎤\n",
              "⎢                      ⎥\n",
              "⎢0  m + 3  -3⋅m - 1  7 ⎥\n",
              "⎢                      ⎥\n",
              "⎣0    4      -4⋅m    19⎦"
            ]
          },
          "metadata": {},
          "execution_count": 9
        }
      ]
    },
    {
      "cell_type": "code",
      "metadata": {
        "colab": {
          "base_uri": "https://localhost:8080/",
          "height": 79
        },
        "id": "AkPg7xwLNnt_",
        "outputId": "4b945578-8e85-41f8-fe91-e77ebc820fcd"
      },
      "source": [
        "A[1,:] = simplify((1/(m+3))*A[1,:]) \n",
        "A"
      ],
      "execution_count": null,
      "outputs": [
        {
          "output_type": "execute_result",
          "data": {
            "text/latex": "$\\displaystyle \\left[\\begin{matrix}1 & -1 & m & -3\\\\0 & 1 & - \\frac{3 m + 1}{m + 3} & \\frac{7}{m + 3}\\\\0 & 4 & - 4 m & 19\\end{matrix}\\right]$",
            "text/plain": [
              "⎡1  -1       m        -3  ⎤\n",
              "⎢                         ⎥\n",
              "⎢       -(3⋅m + 1)     7  ⎥\n",
              "⎢0  1   ───────────  ─────⎥\n",
              "⎢          m + 3     m + 3⎥\n",
              "⎢                         ⎥\n",
              "⎣0  4      -4⋅m       19  ⎦"
            ]
          },
          "metadata": {},
          "execution_count": 10
        }
      ]
    },
    {
      "cell_type": "code",
      "metadata": {
        "colab": {
          "base_uri": "https://localhost:8080/",
          "height": 88
        },
        "id": "s2y7dhesN7h9",
        "outputId": "fa3cb3ec-40d3-47a4-d533-02937da87f14"
      },
      "source": [
        "A[2,:] = simplify(-4*A[1,:] + A[2,:])\n",
        "A"
      ],
      "execution_count": null,
      "outputs": [
        {
          "output_type": "execute_result",
          "data": {
            "text/latex": "$\\displaystyle \\left[\\begin{matrix}1 & -1 & m & -3\\\\0 & 1 & - \\frac{3 m + 1}{m + 3} & \\frac{7}{m + 3}\\\\0 & 0 & \\frac{4 \\left(1 - m^{2}\\right)}{m + 3} & \\frac{19 m + 29}{m + 3}\\end{matrix}\\right]$",
            "text/plain": [
              "⎡1  -1       m          -3    ⎤\n",
              "⎢                             ⎥\n",
              "⎢       -(3⋅m + 1)       7    ⎥\n",
              "⎢0  1   ───────────    ─────  ⎥\n",
              "⎢          m + 3       m + 3  ⎥\n",
              "⎢                             ⎥\n",
              "⎢         ⎛     2⎞            ⎥\n",
              "⎢       4⋅⎝1 - m ⎠   19⋅m + 29⎥\n",
              "⎢0  0   ──────────   ─────────⎥\n",
              "⎣         m + 3        m + 3  ⎦"
            ]
          },
          "metadata": {},
          "execution_count": 11
        }
      ]
    },
    {
      "cell_type": "markdown",
      "metadata": {
        "id": "a9yryBEWCQEn"
      },
      "source": [
        "## **Ejercicio 3:** *(discriminación de sistemas de ecuaciones)*\n",
        "\n",
        "Utilice el método de Gauss-Jordan para encontar los valores de $a$ para los cuales el sistema tiene:\n",
        "1. única solución\n",
        "2. infinitas soluciones\n",
        "3. no tiene solución\n",
        "\n",
        "$$\\left\\{\n",
        "\\begin{array}{rcl}\n",
        "     ax +y+z  & = & 1\n",
        "  \\\\ x+ ay+z & = & 1\n",
        "  \\\\ x+y+az & = & 1\n",
        "\\end{array}\n",
        "\\right.$$"
      ]
    },
    {
      "cell_type": "code",
      "metadata": {
        "colab": {
          "base_uri": "https://localhost:8080/",
          "height": 78
        },
        "id": "yjprUftCZilW",
        "outputId": "0c275b77-1ac7-49e0-8fd1-5b5561813d32"
      },
      "source": [
        "a = Symbol(\"a\")\n",
        "A = Matrix([[a,1,1,1],[1,a,1,1],[1,1,a,1]])\n",
        "A"
      ],
      "execution_count": null,
      "outputs": [
        {
          "output_type": "execute_result",
          "data": {
            "text/latex": "$\\displaystyle \\left[\\begin{matrix}a & 1 & 1 & 1\\\\1 & a & 1 & 1\\\\1 & 1 & a & 1\\end{matrix}\\right]$",
            "text/plain": [
              "⎡a  1  1  1⎤\n",
              "⎢          ⎥\n",
              "⎢1  a  1  1⎥\n",
              "⎢          ⎥\n",
              "⎣1  1  a  1⎦"
            ]
          },
          "metadata": {},
          "execution_count": 45
        }
      ]
    },
    {
      "cell_type": "code",
      "metadata": {
        "colab": {
          "base_uri": "https://localhost:8080/",
          "height": 78
        },
        "id": "Q9ctlZkgZ-Iz",
        "outputId": "b08c9ed4-cb2d-4930-8ac4-ab96fa564ff5"
      },
      "source": [
        "A.row_swap(0,1)\n",
        "A"
      ],
      "execution_count": null,
      "outputs": [
        {
          "output_type": "execute_result",
          "data": {
            "text/latex": "$\\displaystyle \\left[\\begin{matrix}1 & a & 1 & 1\\\\a & 1 & 1 & 1\\\\1 & 1 & a & 1\\end{matrix}\\right]$",
            "text/plain": [
              "⎡1  a  1  1⎤\n",
              "⎢          ⎥\n",
              "⎢a  1  1  1⎥\n",
              "⎢          ⎥\n",
              "⎣1  1  a  1⎦"
            ]
          },
          "metadata": {},
          "execution_count": 46
        }
      ]
    },
    {
      "cell_type": "code",
      "metadata": {
        "colab": {
          "base_uri": "https://localhost:8080/",
          "height": 78
        },
        "id": "eq3J8C4CaSrn",
        "outputId": "9856efc3-91c9-4939-a5a7-0c0acfc2cde9"
      },
      "source": [
        "A[1,:]=-a*A[0,:] + A[1,:]\n",
        "A[2,:]=-1*A[0,:] + A[2,:]\n",
        "A"
      ],
      "execution_count": null,
      "outputs": [
        {
          "output_type": "execute_result",
          "data": {
            "text/latex": "$\\displaystyle \\left[\\begin{matrix}1 & a & 1 & 1\\\\0 & 1 - a^{2} & 1 - a & 1 - a\\\\0 & 1 - a & a - 1 & 0\\end{matrix}\\right]$",
            "text/plain": [
              "⎡1    a       1      1  ⎤\n",
              "⎢                       ⎥\n",
              "⎢        2              ⎥\n",
              "⎢0  1 - a   1 - a  1 - a⎥\n",
              "⎢                       ⎥\n",
              "⎣0  1 - a   a - 1    0  ⎦"
            ]
          },
          "metadata": {},
          "execution_count": 47
        }
      ]
    },
    {
      "cell_type": "code",
      "metadata": {
        "colab": {
          "base_uri": "https://localhost:8080/",
          "height": 78
        },
        "id": "ZVJ-RaqhaR3V",
        "outputId": "7e4c36f9-c8a4-4a5c-ec17-c3e2fdde26e8"
      },
      "source": [
        "A.row_swap(1,2)\n",
        "A"
      ],
      "execution_count": null,
      "outputs": [
        {
          "output_type": "execute_result",
          "data": {
            "text/latex": "$\\displaystyle \\left[\\begin{matrix}1 & a & 1 & 1\\\\0 & 1 - a & a - 1 & 0\\\\0 & 1 - a^{2} & 1 - a & 1 - a\\end{matrix}\\right]$",
            "text/plain": [
              "⎡1    a       1      1  ⎤\n",
              "⎢                       ⎥\n",
              "⎢0  1 - a   a - 1    0  ⎥\n",
              "⎢                       ⎥\n",
              "⎢        2              ⎥\n",
              "⎣0  1 - a   1 - a  1 - a⎦"
            ]
          },
          "metadata": {},
          "execution_count": 48
        }
      ]
    },
    {
      "cell_type": "code",
      "metadata": {
        "colab": {
          "base_uri": "https://localhost:8080/",
          "height": 79
        },
        "id": "FJqBJHSyaSKL",
        "outputId": "87776db7-512f-4e89-eba9-193a95e7a8be"
      },
      "source": [
        "A[1,:]=(1/(1-a))*A[1,:] \n",
        "A"
      ],
      "execution_count": null,
      "outputs": [
        {
          "output_type": "execute_result",
          "data": {
            "text/latex": "$\\displaystyle \\left[\\begin{matrix}1 & a & 1 & 1\\\\0 & 1 & \\frac{a - 1}{1 - a} & 0\\\\0 & 1 - a^{2} & 1 - a & 1 - a\\end{matrix}\\right]$",
            "text/plain": [
              "⎡1    a       1      1  ⎤\n",
              "⎢                       ⎥\n",
              "⎢           a - 1       ⎥\n",
              "⎢0    1     ─────    0  ⎥\n",
              "⎢           1 - a       ⎥\n",
              "⎢                       ⎥\n",
              "⎢        2              ⎥\n",
              "⎣0  1 - a   1 - a  1 - a⎦"
            ]
          },
          "metadata": {},
          "execution_count": 49
        }
      ]
    },
    {
      "cell_type": "code",
      "metadata": {
        "colab": {
          "base_uri": "https://localhost:8080/",
          "height": 79
        },
        "id": "7yd3eVmQcB9M",
        "outputId": "8adc2ae1-68db-4921-9d24-c5db9581212f"
      },
      "source": [
        "A[2,:]= simplify(-(1-a**2)*A[1,:] + A[2,:])\n",
        "A"
      ],
      "execution_count": null,
      "outputs": [
        {
          "output_type": "execute_result",
          "data": {
            "text/latex": "$\\displaystyle \\left[\\begin{matrix}1 & a & 1 & 1\\\\0 & 1 & \\frac{a - 1}{1 - a} & 0\\\\0 & 0 & - a^{2} - a + 2 & 1 - a\\end{matrix}\\right]$",
            "text/plain": [
              "⎡1  a       1          1  ⎤\n",
              "⎢                         ⎥\n",
              "⎢         a - 1           ⎥\n",
              "⎢0  1     ─────        0  ⎥\n",
              "⎢         1 - a           ⎥\n",
              "⎢                         ⎥\n",
              "⎢         2               ⎥\n",
              "⎣0  0  - a  - a + 2  1 - a⎦"
            ]
          },
          "metadata": {},
          "execution_count": 50
        }
      ]
    },
    {
      "cell_type": "markdown",
      "metadata": {
        "id": "Dbc_vTk6E0EK"
      },
      "source": [
        "## **Problema** *(sistemas de ecuaciones con elaboración de una tabla)*\n",
        "\n",
        "Un viajero que acaba de regresar de europa gastó $30$ euros diarios en inglaterra, $20$ euros diarios en francia y $20$ euros diarios en españa por concepto de hospedaje. en comida gastó $20$ euros diarios en inglaterra, $30$ euros pesos diarios en francia y $20$ euros pesos diarios en españa. sus gastos adicionales fueron de $10$ euros diarios en cada país. los registros del viajero indican que gastó un total de $340$ euros en hospedaje, $320$ euros en comida y $140$ euros en gastos adicionales durante su viaje por estos tres países. calcule el número de días que pasó el viajero en cada país o muestre que los registros son incorrectos debido a que las cantidades gastadas no son compatibles una con la otra.  <br> </br>\n",
        "\n",
        "\n",
        "|                    | Inglaterra | Francia | España|  Total   |\n",
        "|--------------------|:--------------:|:-----------:|:----------:|-----|\n",
        "|      Hospedaje     |       30       |      20     |     20     | 340 |\n",
        "|       Comida       |       20       |      30     |     20     | 320 |\n",
        "| Gastos adicionales |       10       |      10     |     10     | 140 |"
      ]
    },
    {
      "cell_type": "markdown",
      "metadata": {
        "id": "PcwcZsK4GQ9A"
      },
      "source": [
        "###**Planteamiento del sistema:**\n",
        "$$\\left\\{\n",
        "\\begin{array}{rcl}\n",
        "     3x+ 2y+2z  & = & 34\n",
        "  \\\\ 2x+ 3y+2z & = & 32\n",
        "  \\\\ x+y+z & = & 14\n",
        "\\end{array}\n",
        "\\right.$$"
      ]
    },
    {
      "cell_type": "code",
      "metadata": {
        "colab": {
          "base_uri": "https://localhost:8080/",
          "height": 78
        },
        "id": "HIRC412rGQ9B",
        "outputId": "9c4f5ae8-a4f8-4224-8ed6-9659161da0f6"
      },
      "source": [
        "A = Matrix([[3,2,2,34],[2,3,2,32],[1,1,1,14]])\n",
        "A"
      ],
      "execution_count": null,
      "outputs": [
        {
          "output_type": "execute_result",
          "data": {
            "text/latex": "$\\displaystyle \\left[\\begin{matrix}3 & 2 & 2 & 34\\\\2 & 3 & 2 & 32\\\\1 & 1 & 1 & 14\\end{matrix}\\right]$",
            "text/plain": [
              "⎡3  2  2  34⎤\n",
              "⎢           ⎥\n",
              "⎢2  3  2  32⎥\n",
              "⎢           ⎥\n",
              "⎣1  1  1  14⎦"
            ]
          },
          "metadata": {},
          "execution_count": 12
        }
      ]
    },
    {
      "cell_type": "code",
      "metadata": {
        "colab": {
          "base_uri": "https://localhost:8080/",
          "height": 78
        },
        "id": "ch-9_FYpsvlm",
        "outputId": "10170ede-6381-411c-a0dd-c7414d5a9614"
      },
      "source": [
        "A.rref(pivots=False)"
      ],
      "execution_count": null,
      "outputs": [
        {
          "output_type": "execute_result",
          "data": {
            "text/latex": "$\\displaystyle \\left[\\begin{matrix}1 & 0 & 0 & 6\\\\0 & 1 & 0 & 4\\\\0 & 0 & 1 & 4\\end{matrix}\\right]$",
            "text/plain": [
              "⎡1  0  0  6⎤\n",
              "⎢          ⎥\n",
              "⎢0  1  0  4⎥\n",
              "⎢          ⎥\n",
              "⎣0  0  1  4⎦"
            ]
          },
          "metadata": {},
          "execution_count": 13
        }
      ]
    },
    {
      "cell_type": "markdown",
      "metadata": {
        "id": "rM_nXdyCHnqg"
      },
      "source": [
        "## **Problema** *(balanceo de ecuaciones químicas)*\n",
        "\n",
        "Alka-Seltzer contiene bicarbonato de sodio ( $NaHCO_3$) y ácido cítrico ($H_3C_6H_5O_7$). Cuando una tableta se disuelve en agua, la reacción produce citrato de sodio, agua y dioxido de carbono (gaseoso).<br> </br>\n",
        "\n",
        "$$NaHCO_3\\ +\\ \\ H_3C_6H_5O_7 \\ \\Rightarrow \\ \\ Na_3C_6H_5O_7 \\ +\\ \\ H_2O\\ + \\ \\ CO_2$$"
      ]
    },
    {
      "cell_type": "markdown",
      "metadata": {
        "id": "w0tnvmc7JXE_"
      },
      "source": [
        "###**Planteamiento del sistema:**\n",
        "$$\\left\\{\n",
        "\\begin{array}{rcl}\n",
        "     x_1-3x_3& = & 0\n",
        "  \\\\ x_1+ 8x_2-5x_3-2x_4 & = & 0\n",
        "   \\\\ x_1+ 6x_2-6x_3-x_5 & = & 0\n",
        "   \\\\ 3x_1+ 7x_2-7x_3-x_4-2x_5 & = & 0\n",
        "\\end{array}\n",
        "\\right.$$"
      ]
    },
    {
      "cell_type": "code",
      "metadata": {
        "colab": {
          "base_uri": "https://localhost:8080/",
          "height": 98
        },
        "id": "Lezmjx8RJXFA",
        "outputId": "0c089072-3ea9-49ce-dd21-19fd15bc63cc"
      },
      "source": [
        "A = Matrix([[1,0,-3,0,0,0],[1,8,-5,-2,0,0],[1,6,-6,0,-1,0],[3,7,-7,-1,-2,0]])\n",
        "A"
      ],
      "execution_count": null,
      "outputs": [
        {
          "output_type": "execute_result",
          "data": {
            "text/latex": "$\\displaystyle \\left[\\begin{matrix}1 & 0 & -3 & 0 & 0 & 0\\\\1 & 8 & -5 & -2 & 0 & 0\\\\1 & 6 & -6 & 0 & -1 & 0\\\\3 & 7 & -7 & -1 & -2 & 0\\end{matrix}\\right]$",
            "text/plain": [
              "⎡1  0  -3  0   0   0⎤\n",
              "⎢                   ⎥\n",
              "⎢1  8  -5  -2  0   0⎥\n",
              "⎢                   ⎥\n",
              "⎢1  6  -6  0   -1  0⎥\n",
              "⎢                   ⎥\n",
              "⎣3  7  -7  -1  -2  0⎦"
            ]
          },
          "metadata": {},
          "execution_count": 13
        }
      ]
    },
    {
      "cell_type": "code",
      "metadata": {
        "id": "XY3hZt2JFDxo",
        "colab": {
          "base_uri": "https://localhost:8080/",
          "height": 98
        },
        "outputId": "daa5dc85-d64e-4339-a0cd-4e1812e5565d"
      },
      "source": [
        "B = A.rref(pivots=False) # rref: row reduced echelon form\n",
        "B"
      ],
      "execution_count": null,
      "outputs": [
        {
          "output_type": "execute_result",
          "data": {
            "text/latex": "$\\displaystyle \\left[\\begin{matrix}1 & 0 & 0 & 0 & -1 & 0\\\\0 & 1 & 0 & 0 & - \\frac{1}{3} & 0\\\\0 & 0 & 1 & 0 & - \\frac{1}{3} & 0\\\\0 & 0 & 0 & 1 & -1 & 0\\end{matrix}\\right]$",
            "text/plain": [
              "⎡1  0  0  0   -1   0⎤\n",
              "⎢                   ⎥\n",
              "⎢0  1  0  0  -1/3  0⎥\n",
              "⎢                   ⎥\n",
              "⎢0  0  1  0  -1/3  0⎥\n",
              "⎢                   ⎥\n",
              "⎣0  0  0  1   -1   0⎦"
            ]
          },
          "metadata": {},
          "execution_count": 14
        }
      ]
    },
    {
      "cell_type": "markdown",
      "metadata": {
        "id": "0ISGBuPoqlHn"
      },
      "source": [
        "## **Problema** *(problema sobre flujo de tráfico)*\n",
        "Encuentre el patrón de flujo general de la red que se muestra en la figura. Suponiendo que todos los flujos son no negativos, ¿Cuál es el máximo valor posible para $x_3$?\n",
        "\n",
        "<center><img src=\"https://github.com/josorio398/ALGEBRA-LINEAL-CON-PYTHON/blob/master/im%C3%A1genes%20repositorio/flujo.PNG?raw=true\"  height=\"130\" />"
      ]
    },
    {
      "cell_type": "markdown",
      "metadata": {
        "id": "tyTDphlE-OZL"
      },
      "source": [
        "###**Planteamiento del sistema:**\n",
        "$$\\left\\{\n",
        "\\begin{array}{rcl}\n",
        "     x_1+x_3& = & 20\n",
        "  \\\\ x_2 - x_3-x_4& = & 0\n",
        "   \\\\ x_1+ x_2& = & 80\n",
        "\\end{array}\n",
        "\\right.$$"
      ]
    },
    {
      "cell_type": "code",
      "metadata": {
        "colab": {
          "base_uri": "https://localhost:8080/",
          "height": 78
        },
        "id": "ht61hwco-OZM",
        "outputId": "c874b1b1-8714-41dc-ed59-f7173ebc21d9"
      },
      "source": [
        "A = Matrix([[1,0,1,0,20],[0,1,-1,-1,0],[1,1,0,0,80]])\n",
        "A"
      ],
      "execution_count": null,
      "outputs": [
        {
          "output_type": "execute_result",
          "data": {
            "text/latex": "$\\displaystyle \\left[\\begin{matrix}1 & 0 & 1 & 0 & 20\\\\0 & 1 & -1 & -1 & 0\\\\1 & 1 & 0 & 0 & 80\\end{matrix}\\right]$",
            "text/plain": [
              "⎡1  0  1   0   20⎤\n",
              "⎢                ⎥\n",
              "⎢0  1  -1  -1  0 ⎥\n",
              "⎢                ⎥\n",
              "⎣1  1  0   0   80⎦"
            ]
          },
          "metadata": {},
          "execution_count": 5
        }
      ]
    },
    {
      "cell_type": "code",
      "metadata": {
        "colab": {
          "base_uri": "https://localhost:8080/",
          "height": 78
        },
        "id": "Xczo_B6L_Q7A",
        "outputId": "5d97d7f2-a4c1-48a1-a718-7ec597657bbc"
      },
      "source": [
        "B = A.rref(pivots=False) # rref: row reduced echelon form\n",
        "B"
      ],
      "execution_count": null,
      "outputs": [
        {
          "output_type": "execute_result",
          "data": {
            "text/latex": "$\\displaystyle \\left[\\begin{matrix}1 & 0 & 1 & 0 & 20\\\\0 & 1 & -1 & 0 & 60\\\\0 & 0 & 0 & 1 & 60\\end{matrix}\\right]$",
            "text/plain": [
              "⎡1  0  1   0  20⎤\n",
              "⎢               ⎥\n",
              "⎢0  1  -1  0  60⎥\n",
              "⎢               ⎥\n",
              "⎣0  0  0   1  60⎦"
            ]
          },
          "metadata": {},
          "execution_count": 6
        }
      ]
    },
    {
      "cell_type": "markdown",
      "metadata": {
        "id": "SyJNi-L6gJyy"
      },
      "source": [
        "## **Ejercicio** *(Fracciones parciales)*\n",
        "Encontrar los valores de $A,B,C,D$ tales que: <br> </br>\n",
        "\n",
        "$$\\dfrac{x^2+15}{(x+3)^2(x^2+3)} = \\dfrac{A}{x+3} + \\dfrac{B}{(x+3)^2} + \\dfrac{Cx+D}{x^2+3}$$\n",
        "\n"
      ]
    },
    {
      "cell_type": "markdown",
      "metadata": {
        "id": "nUbKxkCGh_0-"
      },
      "source": [
        "###**Planteamiento del sistema:**\n",
        "$$\\left\\{\n",
        "\\begin{array}{rcl}\n",
        "     A  + C & = & 0\n",
        "  \\\\ 3A +B+6C+D & = & 1\n",
        "  \\\\ 3A+9C+6D & = & 0\n",
        "  \\\\ 9A +3B+9D & = & 15\n",
        "\\end{array}\n",
        "\\right.$$\n"
      ]
    },
    {
      "cell_type": "code",
      "metadata": {
        "colab": {
          "base_uri": "https://localhost:8080/",
          "height": 98
        },
        "id": "Cel6-8csh_1A",
        "outputId": "19c3e7a3-7d1f-42f1-dc6e-0bcc9e2518fe"
      },
      "source": [
        "A = Matrix([[1,0,1,0,0],[3 ,1,6,1,1],[3,0,9,6,0],[9,3,0,9,15]])\n",
        "A"
      ],
      "execution_count": null,
      "outputs": [
        {
          "output_type": "execute_result",
          "data": {
            "text/latex": "$\\displaystyle \\left[\\begin{matrix}1 & 0 & 1 & 0 & 0\\\\3 & 1 & 6 & 1 & 1\\\\3 & 0 & 9 & 6 & 0\\\\9 & 3 & 0 & 9 & 15\\end{matrix}\\right]$",
            "text/plain": [
              "⎡1  0  1  0  0 ⎤\n",
              "⎢              ⎥\n",
              "⎢3  1  6  1  1 ⎥\n",
              "⎢              ⎥\n",
              "⎢3  0  9  6  0 ⎥\n",
              "⎢              ⎥\n",
              "⎣9  3  0  9  15⎦"
            ]
          },
          "metadata": {},
          "execution_count": 34
        }
      ]
    },
    {
      "cell_type": "code",
      "metadata": {
        "colab": {
          "base_uri": "https://localhost:8080/",
          "height": 98
        },
        "id": "dWQa8fD8h_1B",
        "outputId": "70bc3dea-2f84-4912-be34-c2616038a3d6"
      },
      "source": [
        "B = A.rref(pivots=False) # rref: row reduced echelon form\n",
        "B"
      ],
      "execution_count": null,
      "outputs": [
        {
          "output_type": "execute_result",
          "data": {
            "text/latex": "$\\displaystyle \\left[\\begin{matrix}1 & 0 & 0 & 0 & \\frac{1}{2}\\\\0 & 1 & 0 & 0 & 2\\\\0 & 0 & 1 & 0 & - \\frac{1}{2}\\\\0 & 0 & 0 & 1 & \\frac{1}{2}\\end{matrix}\\right]$",
            "text/plain": [
              "⎡1  0  0  0  1/2 ⎤\n",
              "⎢                ⎥\n",
              "⎢0  1  0  0   2  ⎥\n",
              "⎢                ⎥\n",
              "⎢0  0  1  0  -1/2⎥\n",
              "⎢                ⎥\n",
              "⎣0  0  0  1  1/2 ⎦"
            ]
          },
          "metadata": {},
          "execution_count": 29
        }
      ]
    },
    {
      "cell_type": "markdown",
      "metadata": {
        "id": "v8KVyd3Yj5Ls"
      },
      "source": [
        "### **Verificación con la función apart de sympy**"
      ]
    },
    {
      "cell_type": "code",
      "metadata": {
        "colab": {
          "base_uri": "https://localhost:8080/",
          "height": 61
        },
        "id": "bF7gZal9kHyo",
        "outputId": "1776c886-a816-423b-8481-2e30a9b638c0"
      },
      "source": [
        "x = Symbol(\"x\")\n",
        "\n",
        "f = (x**2+15)/((x+3)**2*(x**2+3))\n",
        "f"
      ],
      "execution_count": null,
      "outputs": [
        {
          "output_type": "execute_result",
          "data": {
            "image/png": "[encoded data removed]",
            "text/latex": "$\\displaystyle \\frac{x^{2} + 15}{\\left(x + 3\\right)^{2} \\left(x^{2} + 3\\right)}$",
            "text/plain": [
              "      2          \n",
              "     x  + 15     \n",
              "─────────────────\n",
              "       2 ⎛ 2    ⎞\n",
              "(x + 3) ⋅⎝x  + 3⎠"
            ]
          },
          "metadata": {},
          "execution_count": 13
        }
      ]
    },
    {
      "cell_type": "code",
      "metadata": {
        "colab": {
          "base_uri": "https://localhost:8080/",
          "height": 58
        },
        "id": "veR7gq8ak8wh",
        "outputId": "0ab56a98-a77b-4f70-8a06-35bb447ea1a0"
      },
      "source": [
        "apart(f)"
      ],
      "execution_count": null,
      "outputs": [
        {
          "output_type": "execute_result",
          "data": {
            "image/png": "[encoded data removed]",
            "text/latex": "$\\displaystyle - \\frac{x - 1}{2 \\left(x^{2} + 3\\right)} + \\frac{1}{2 \\left(x + 3\\right)} + \\frac{2}{\\left(x + 3\\right)^{2}}$",
            "text/plain": [
              "    x - 1          1          2    \n",
              "- ────────── + ───────── + ────────\n",
              "    ⎛ 2    ⎞   2⋅(x + 3)          2\n",
              "  2⋅⎝x  + 3⎠               (x + 3) "
            ]
          },
          "metadata": {},
          "execution_count": 14
        }
      ]
    },
    {
      "cell_type": "markdown",
      "metadata": {
        "id": "3nLxWNWQAi1z"
      },
      "source": [
        "## **Ejercicio** *(Ajuste polinomial)*\n",
        "\n",
        "Encuentra un polinómio que se ajuste a los puntos $(-2,3)$, $(-1,5)$, $(0,1),(1,4)$ y $(2,10)$, verifica tu resultado realizando la grafica de los puntos y del polinomio en el mismo palno cartesiano.<br> </br>\n",
        "\n",
        "<center><img src=\"https://github.com/josorio398/ALGEBRA-LINEAL-CON-PYTHON/blob/master/im%C3%A1genes%20repositorio/ajuste%20poli.png?raw=true\"  height=\"300\" />\n",
        "\n",
        "\n"
      ]
    },
    {
      "cell_type": "markdown",
      "metadata": {
        "id": "8YAHvlfyDASt"
      },
      "source": [
        "###**Planteamiento del sistema:**\n",
        "$$\\left\\{\n",
        "\\begin{array}{rcl}\n",
        "     16a -8b + 4c -2d & = & 2\n",
        "  \\\\ a -b+c-d & = & 4\n",
        "  \\\\ a+b+c+d & = & 3\n",
        "  \\\\ 16a+8b+4c+2d & = & 9\n",
        "\\end{array}\n",
        "\\right.$$"
      ]
    },
    {
      "cell_type": "code",
      "metadata": {
        "colab": {
          "base_uri": "https://localhost:8080/",
          "height": 98
        },
        "id": "t6db_RfoDASu",
        "outputId": "4106ac41-51f8-4e7d-8cd8-7d03830aa706"
      },
      "source": [
        "A = Matrix([[16,-8,4,-2,2],[1,-1,1,-1,4],[1,1,1,1,3],[16,8,4,2,9]])\n",
        "A"
      ],
      "execution_count": null,
      "outputs": [
        {
          "output_type": "execute_result",
          "data": {
            "text/latex": "$\\displaystyle \\left[\\begin{matrix}16 & -8 & 4 & -2 & 2\\\\1 & -1 & 1 & -1 & 4\\\\1 & 1 & 1 & 1 & 3\\\\16 & 8 & 4 & 2 & 9\\end{matrix}\\right]$",
            "text/plain": [
              "⎡16  -8  4  -2  2⎤\n",
              "⎢                ⎥\n",
              "⎢1   -1  1  -1  4⎥\n",
              "⎢                ⎥\n",
              "⎢1   1   1  1   3⎥\n",
              "⎢                ⎥\n",
              "⎣16  8   4  2   9⎦"
            ]
          },
          "metadata": {},
          "execution_count": 21
        }
      ]
    },
    {
      "cell_type": "code",
      "metadata": {
        "colab": {
          "base_uri": "https://localhost:8080/",
          "height": 98
        },
        "id": "8QeXBlxt4K2D",
        "outputId": "1c519830-91cf-4408-a3e2-dec4c1c47c71"
      },
      "source": [
        "B = A.rref(pivots=False)\n",
        "B"
      ],
      "execution_count": null,
      "outputs": [
        {
          "output_type": "execute_result",
          "data": {
            "text/latex": "$\\displaystyle \\left[\\begin{matrix}1 & 0 & 0 & 0 & - \\frac{17}{24}\\\\0 & 1 & 0 & 0 & \\frac{3}{4}\\\\0 & 0 & 1 & 0 & \\frac{101}{24}\\\\0 & 0 & 0 & 1 & - \\frac{5}{4}\\end{matrix}\\right]$",
            "text/plain": [
              "⎡            -17 ⎤\n",
              "⎢1  0  0  0  ────⎥\n",
              "⎢             24 ⎥\n",
              "⎢                ⎥\n",
              "⎢0  1  0  0  3/4 ⎥\n",
              "⎢                ⎥\n",
              "⎢            101 ⎥\n",
              "⎢0  0  1  0  ─── ⎥\n",
              "⎢             24 ⎥\n",
              "⎢                ⎥\n",
              "⎣0  0  0  1  -5/4⎦"
            ]
          },
          "metadata": {},
          "execution_count": 22
        }
      ]
    },
    {
      "cell_type": "markdown",
      "metadata": {
        "id": "XlbRAPCrKYsQ"
      },
      "source": [
        "### **Verificación de la solución con la función polyfit de la librería numpy**"
      ]
    },
    {
      "cell_type": "code",
      "metadata": {
        "colab": {
          "base_uri": "https://localhost:8080/"
        },
        "id": "Oj34hsu86k_F",
        "outputId": "1c04ad70-8541-41e7-df81-4c349d1720af"
      },
      "source": [
        "import numpy as np         #libreria para construir arreglos y ajustar curvas\n",
        "\n",
        "X = np.array([-2,-1,0,1,2]) # coordenadas x\n",
        "Y = np.array([3,5,1,4,10])  # coordenadas y\n",
        "\n",
        "coef = np.polyfit(X, Y, 4)  # coeficientes de del polinomio de ajuste \n",
        "coef\n"
      ],
      "execution_count": null,
      "outputs": [
        {
          "output_type": "execute_result",
          "data": {
            "text/plain": [
              "array([-0.70833333,  0.75      ,  4.20833333, -1.25      ,  1.        ])"
            ]
          },
          "metadata": {},
          "execution_count": 10
        }
      ]
    },
    {
      "cell_type": "markdown",
      "metadata": {
        "id": "AJQGCKgYKlW9"
      },
      "source": [
        "### **Gráfica de los puntos y del polinomio de ajuste con librería matplotlib**"
      ]
    },
    {
      "cell_type": "code",
      "metadata": {
        "colab": {
          "base_uri": "https://localhost:8080/",
          "height": 281
        },
        "id": "jXNgYZXQ8dKw",
        "outputId": "fdebcbd4-6c33-4cd8-d56c-9c56ca3a38f4"
      },
      "source": [
        "import matplotlib.pyplot as plt  # Librería para realizar la gráfica\n",
        "\n",
        "\n",
        "a = coef[0]\n",
        "b = coef[1]\n",
        "c = coef[2]\n",
        "\n",
        "\n",
        "x = np.linspace(min(X),max(X),100)\n",
        "polinomio = a*x**4+b*x**3+c*x**2+d*x+e\n",
        "\n",
        "fig1 = plt.figure()\n",
        "ax1 = fig1.subplots()\n",
        "\n",
        "ax1.plot(x,polinomio,label = 'Polinomio de ajuste') # Gráfica del polinomio de ajuste\n",
        "ax1.scatter(X, Y,label = 'Datos') # Gráfica del diagrama de dispersión \n",
        "\n",
        "ax1.set_title('Ejemplo de Ajuste Polinomial') # Título de la gráfica\n",
        "ax1.legend() # Muestra los nombres \n",
        "plt.show() # Realiza la gráfica"
      ],
      "execution_count": null,
      "outputs": [
        {
          "output_type": "display_data",
          "data": {
            "image/png": "[encoded data removed]",
            "text/plain": [
              "<Figure size 432x288 with 1 Axes>"
            ]
          },
          "metadata": {
            "needs_background": "light"
          }
        }
      ]
    },
    {
      "cell_type": "markdown",
      "metadata": {
        "id": "-M9ruTSgebKG"
      },
      "source": [
        "###**Código para insertar videos en Colab**"
      ]
    },
    {
      "cell_type": "code",
      "metadata": {
        "colab": {
          "base_uri": "https://localhost:8080/",
          "height": 320
        },
        "id": "MN8Icgg6ehAk",
        "outputId": "9e048363-0ca7-4517-f95f-0e21a64bee9f"
      },
      "source": [
        "from IPython.display import YouTubeVideo\n",
        "YouTubeVideo('kx_YN7BYwE8', width=400)"
      ],
      "execution_count": null,
      "outputs": [
        {
          "output_type": "execute_result",
          "data": {
            "text/html": [
              "\n",
              "        <iframe\n",
              "            width=\"400\"\n",
              "            height=\"300\"\n",
              "            src=\"https://www.youtube.com/embed/kx_YN7BYwE8\"\n",
              "            frameborder=\"0\"\n",
              "            allowfullscreen\n",
              "        ></iframe>\n",
              "        "
            ],
            "text/plain": [
              "<IPython.lib.display.YouTubeVideo at 0x7fd6f085d5d0>"
            ],
            "image/jpeg": "[encoded data removed]"
          },
          "metadata": {},
          "execution_count": 2
        }
      ]
    },
    {
      "cell_type": "code",
      "metadata": {
        "colab": {
          "base_uri": "https://localhost:8080/",
          "height": 78
        },
        "id": "Erx-WyrGi6CC",
        "outputId": "86ba0cba-6320-4d56-edb7-59bd3e234c4b"
      },
      "source": [
        "A = Matrix([[1,0,-1,-1,0,40],[1,1,0,0,0,200],[0,1,1,0,-1,100]])\n",
        "A.rref(pivots=False)"
      ],
      "execution_count": null,
      "outputs": [
        {
          "output_type": "execute_result",
          "data": {
            "text/latex": "$\\displaystyle \\left[\\begin{matrix}1 & 0 & -1 & 0 & 1 & 100\\\\0 & 1 & 1 & 0 & -1 & 100\\\\0 & 0 & 0 & 1 & 1 & 60\\end{matrix}\\right]$",
            "text/plain": [
              "⎡1  0  -1  0  1   100⎤\n",
              "⎢                    ⎥\n",
              "⎢0  1  1   0  -1  100⎥\n",
              "⎢                    ⎥\n",
              "⎣0  0  0   1  1   60 ⎦"
            ]
          },
          "metadata": {},
          "execution_count": 4
        }
      ]
    },
    {
      "cell_type": "code",
      "metadata": {
        "colab": {
          "base_uri": "https://localhost:8080/",
          "height": 82
        },
        "id": "kuBkUaqbuV6s",
        "outputId": "6cbb8f04-787d-42b9-86fb-78b1b25820ed"
      },
      "source": [
        "t = Symbol(\"t\")\n",
        "\n",
        "f = Integral(sqrt(1+t**2),(t,0,sin(x)))\n",
        "f"
      ],
      "execution_count": null,
      "outputs": [
        {
          "output_type": "execute_result",
          "data": {
            "image/png": "[encoded data removed]",
            "text/latex": "$\\displaystyle \\int\\limits_{0}^{\\sin{\\left(x \\right)}} \\sqrt{t^{2} + 1}\\, dt$",
            "text/plain": [
              "sin(x)               \n",
              "  ⌠                  \n",
              "  ⎮       ________   \n",
              "  ⎮      ╱  2        \n",
              "  ⎮    ╲╱  t  + 1  dt\n",
              "  ⌡                  \n",
              "  0                  "
            ]
          },
          "metadata": {},
          "execution_count": 7
        }
      ]
    },
    {
      "cell_type": "code",
      "metadata": {
        "colab": {
          "base_uri": "https://localhost:8080/",
          "height": 82
        },
        "id": "fMQ7CI8ku0Xr",
        "outputId": "dc595be3-1f2b-466b-b432-be800c5943b4"
      },
      "source": [
        "g = Integral(f,(x,3,y))\n",
        "g"
      ],
      "execution_count": null,
      "outputs": [
        {
          "output_type": "execute_result",
          "data": {
            "image/png": "[encoded data removed]",
            "text/latex": "$\\displaystyle \\int\\limits_{3}^{y}\\int\\limits_{0}^{\\sin{\\left(x \\right)}} \\sqrt{t^{2} + 1}\\, dt\\, dx$",
            "text/plain": [
              "y sin(x)                  \n",
              "⌠   ⌠                     \n",
              "⎮   ⎮       ________      \n",
              "⎮   ⎮      ╱  2           \n",
              "⎮   ⎮    ╲╱  t  + 1  dt dx\n",
              "⌡   ⌡                     \n",
              "3   0                     "
            ]
          },
          "metadata": {},
          "execution_count": 8
        }
      ]
    },
    {
      "cell_type": "code",
      "metadata": {
        "colab": {
          "base_uri": "https://localhost:8080/",
          "height": 48
        },
        "id": "dtkhaPhivZjF",
        "outputId": "6987e2ef-27b6-4e46-8ed6-3527a61d5189"
      },
      "source": [
        "dg = diff(g)\n",
        "ddg = diff(dg)\n",
        "ddg"
      ],
      "execution_count": null,
      "outputs": [
        {
          "output_type": "execute_result",
          "data": {
            "image/png": "[encoded data removed]",
            "text/latex": "$\\displaystyle \\sqrt{\\sin^{2}{\\left(y \\right)} + 1} \\cos{\\left(y \\right)}$",
            "text/plain": [
              "   _____________       \n",
              "  ╱    2               \n",
              "╲╱  sin (y) + 1 ⋅cos(y)"
            ]
          },
          "metadata": {},
          "execution_count": 12
        }
      ]
    },
    {
      "cell_type": "code",
      "metadata": {
        "colab": {
          "base_uri": "https://localhost:8080/",
          "height": 56
        },
        "id": "-HW-_gx-vq1u",
        "outputId": "a0eb1685-d4a5-474a-f55e-8713bbf59684"
      },
      "source": [
        "ddg.subs(y,pi/6)"
      ],
      "execution_count": null,
      "outputs": [
        {
          "output_type": "execute_result",
          "data": {
            "image/png": "[encoded data removed]",
            "text/latex": "$\\displaystyle \\frac{\\sqrt{15}}{4}$",
            "text/plain": [
              "√15\n",
              "───\n",
              " 4 "
            ]
          },
          "metadata": {},
          "execution_count": 13
        }
      ]
    }
  ]
}