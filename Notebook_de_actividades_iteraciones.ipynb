{
  "nbformat": 4,
  "nbformat_minor": 0,
  "metadata": {
    "colab": {
      "name": "Notebook de actividades: iteraciones",
      "provenance": [],
      "collapsed_sections": [],
      "include_colab_link": true
    },
    "kernelspec": {
      "name": "python3",
      "display_name": "Python 3"
    }
  },
  "cells": [
    {
      "cell_type": "markdown",
      "metadata": {
        "id": "view-in-github",
        "colab_type": "text"
      },
      "source": [
        "<a href=\"https://colab.research.google.com/github/josorio398/ALGEBRA-LINEAL-CON-PYTHON/blob/master/Notebook_de_actividades_iteraciones.ipynb\" target=\"_parent\"><img src=\"https://colab.research.google.com/assets/colab-badge.svg\" alt=\"Open In Colab\"/></a>"
      ]
    },
    {
      "cell_type": "markdown",
      "metadata": {
        "id": "Wu9BDBPMTguh"
      },
      "source": [
        "<p><img alt=\"logo.fua\" height=\"100px\" src=\"https://www.uamerica.edu.co/wp-content/images/escudo.png\" align=\"left\" hspace=\"10px\" vspace=\"0px\"></p>\n",
        "\n",
        "<p><img alt=\"logo.fua\" height=\"26px\" src=\"https://mirrors.creativecommons.org/presskit/buttons/88x31/svg/by-nd.svg\" align=\"right\" hspace=\"0px\" vspace=\"11px\"></p>\n",
        "\n",
        "# <center> <font size=\"6\">**CURSO DE INTRODUCCIÓN A PYTHON** <center>*Jhonny Osorio Gallego , Rossember Cárdenas, Elena Tinoco<p>*</font> "
      ]
    },
    {
      "cell_type": "markdown",
      "metadata": {
        "id": "BdEOVw1emwdC"
      },
      "source": [
        "# **ITERACIÓNES**\n",
        "Atravezar los elementos de una secuencia."
      ]
    },
    {
      "cell_type": "markdown",
      "metadata": {
        "id": "sXeJkYgO9hTW"
      },
      "source": [
        "## **FUNCIÓN RANGO**\n",
        "\n",
        "La función **\"range\"** crea una **lista secuencial** de números enteros. que podemos incorporar a una **lista** o una **tupla**, el el siguiente código podemos apreciar cuantos elementos tiene  **range(5)**.\n",
        "\n",
        "<div align=\"center\"><a href=\"https://ibb.co/mqB4vDw\"><img src=\"https://i.ibb.co/pzPdW08/range.png\" alt=\"\" ></a>"
      ]
    },
    {
      "cell_type": "code",
      "metadata": {
        "id": "u7gRV1TJ67t3"
      },
      "source": [
        ""
      ],
      "execution_count": null,
      "outputs": []
    },
    {
      "cell_type": "markdown",
      "metadata": {
        "id": "-8SReKzT_gph"
      },
      "source": [
        "## **Creación de una lista**"
      ]
    },
    {
      "cell_type": "code",
      "metadata": {
        "id": "Q9jm0ozk_f7Z"
      },
      "source": [
        ""
      ],
      "execution_count": null,
      "outputs": []
    },
    {
      "cell_type": "markdown",
      "metadata": {
        "id": "nhI2-Z2t_l9A"
      },
      "source": [
        "## **Creación de una tupla**"
      ]
    },
    {
      "cell_type": "code",
      "metadata": {
        "id": "pU_49wWB9mNP"
      },
      "source": [
        ""
      ],
      "execution_count": null,
      "outputs": []
    },
    {
      "cell_type": "markdown",
      "metadata": {
        "id": "nal9OpX1_UZA"
      },
      "source": [
        "<p><height=\"45px\" src=\"<a href=\"https://ibb.co/pZYMC0T\"><img src=\"https://i.ibb.co/ZL1WsdZ/poll.png\" align=\"left\" alt=\"\" width=\"4%\" height=\"5%\"></a><p> <H3><strong>&nbsp;Ejercicio 1:</strong>¿Cuál es el resultado de este código?"
      ]
    },
    {
      "cell_type": "code",
      "metadata": {
        "id": "QEHPZpmd_UZD"
      },
      "source": [
        ""
      ],
      "execution_count": null,
      "outputs": []
    },
    {
      "cell_type": "markdown",
      "metadata": {
        "id": "3VWxOgr6-Deg"
      },
      "source": [
        "Si se llama a la función **range** con un argumento , produce un objeto con valores de 0 a ese argumento.Si se llama con dos argumentos, produce valores del primero al segundo.\n",
        "\n",
        "##<div align=\"center\"><strong>range</strong>(start,stop)</p>"
      ]
    },
    {
      "cell_type": "code",
      "metadata": {
        "id": "iksaqFfP-FMH"
      },
      "source": [
        "numeros = list(range(3, 8))\n",
        "print(numeros)"
      ],
      "execution_count": null,
      "outputs": []
    },
    {
      "cell_type": "markdown",
      "metadata": {
        "id": "vuZuW_ec-_sT"
      },
      "source": [
        "<p><height=\"45px\" src=\"<a href=\"https://ibb.co/pZYMC0T\"><img src=\"https://i.ibb.co/ZL1WsdZ/poll.png\" align=\"left\" alt=\"\" width=\"4%\" height=\"5%\"></a><p> <H3><strong>&nbsp;Ejercicio 2:</strong>¿Cuál es el resultado de este código?"
      ]
    },
    {
      "cell_type": "code",
      "metadata": {
        "id": "eGE-3Nao_Hyz"
      },
      "source": [
        ""
      ],
      "execution_count": null,
      "outputs": []
    },
    {
      "cell_type": "markdown",
      "metadata": {
        "id": "LjNb0ABwESqF"
      },
      "source": [
        "Si se llama rango con un argumento, esos argumentos deben ser un **número positivo**"
      ]
    },
    {
      "cell_type": "code",
      "metadata": {
        "id": "9Zubu_bPEVxt"
      },
      "source": [
        ""
      ],
      "execution_count": null,
      "outputs": []
    },
    {
      "cell_type": "markdown",
      "metadata": {
        "id": "tO1R1bW9E-vP"
      },
      "source": [
        "<p><height=\"45px\" src=\"<a href=\"https://ibb.co/pZYMC0T\"><img src=\"https://i.ibb.co/ZL1WsdZ/poll.png\" align=\"left\" alt=\"\" width=\"4%\" height=\"5%\"></a><p> <H3><strong>&nbsp;Ejercicio 3:</strong>¿Cuál es el resultado de este código?"
      ]
    },
    {
      "cell_type": "code",
      "metadata": {
        "id": "dGsrk-pUE-vR"
      },
      "source": [
        ""
      ],
      "execution_count": null,
      "outputs": []
    },
    {
      "cell_type": "markdown",
      "metadata": {
        "id": "0p6kFIB2FXQ8"
      },
      "source": [
        "la función **range** puede tener un tercer argumento, que determina la partición de la secuencia producida. Este tercer argumento debe ser un número entero.\n",
        "\n",
        "##<div align=\"center\"><strong>range</strong>(start,stop,step)</p>"
      ]
    },
    {
      "cell_type": "code",
      "metadata": {
        "id": "8AiR_BuhFpue"
      },
      "source": [
        ""
      ],
      "execution_count": null,
      "outputs": []
    },
    {
      "cell_type": "markdown",
      "metadata": {
        "id": "VdywLJ6cGdyI"
      },
      "source": [
        "Asimismo, podemos crear una **lista de números decrecientes**, utilizando un número negativo como tercer argumento"
      ]
    },
    {
      "cell_type": "code",
      "metadata": {
        "id": "Xmi0eM9wGg26"
      },
      "source": [
        ""
      ],
      "execution_count": null,
      "outputs": []
    },
    {
      "cell_type": "markdown",
      "metadata": {
        "id": "srQZD6ghIU9A"
      },
      "source": [
        "<p><height=\"45px\" src=\"<a href=\"https://ibb.co/pZYMC0T\"><img src=\"https://i.ibb.co/ZL1WsdZ/poll.png\" align=\"left\" alt=\"\" width=\"4%\" height=\"5%\"></a><p> <H3><strong>&nbsp;Ejercicio 4:</strong>¿Cuál es el resultado de este código?"
      ]
    },
    {
      "cell_type": "code",
      "metadata": {
        "id": "B70m6K4gIU9D"
      },
      "source": [
        ""
      ],
      "execution_count": null,
      "outputs": []
    },
    {
      "cell_type": "markdown",
      "metadata": {
        "id": "VN4QzUz6Iqi0"
      },
      "source": [
        "En programación, **iteración** es la repetición de un segmento de código dentro de un programa de computadora."
      ]
    },
    {
      "cell_type": "markdown",
      "metadata": {
        "id": "YvWKgC4EJ4EB"
      },
      "source": [
        "<p><height=\"45px\" src=\"<a href=\"https://ibb.co/pZYMC0T\"><img src=\"https://i.ibb.co/Gkz8gxD/actividad.png\" align=\"left\" alt=\"\" width=\"4%\" height=\"5%\"></a><p>\n",
        "<font size=5><strong>&nbsp;Actividad de practica 1:</strong></font> \n",
        "\n",
        "completa el siguiente código para imprimir las palabras de la lista dada."
      ]
    },
    {
      "cell_type": "code",
      "metadata": {
        "id": "GMxCwbcsLx96"
      },
      "source": [
        "palabras = [\"hola\", \"mundo\", \"spam\", \"eggs\"]\n",
        "\n",
        "contador = 0\n",
        "indice_maximo = len(palabras)\n",
        "\n",
        "while "
      ],
      "execution_count": null,
      "outputs": []
    },
    {
      "cell_type": "markdown",
      "metadata": {
        "id": "U7XzDjOaNjPa"
      },
      "source": [
        "#**BUCLE FOR**\n",
        "La **iteración** a través de una lista utilizando un tiempo de bucle requiere un montón de código, lo que Python proporciona con el bucle **for** es un acceso directo que consigue el mismo efecto, su estructuta es la siguiente:\n",
        "\n",
        "<p><strong>&nbsp; &nbsp; &nbsp; &nbsp; &nbsp; &nbsp; &nbsp; &nbsp; &nbsp; &nbsp; &nbsp; &nbsp; &nbsp; &nbsp; &nbsp; &nbsp; &nbsp; &nbsp; &nbsp; &nbsp; &nbsp; &nbsp; &nbsp; &nbsp; &nbsp; &nbsp; &nbsp; &nbsp; &nbsp; &nbsp; &nbsp; &nbsp; &nbsp; for&nbsp;</strong> variable del bucle <strong>in </strong>secuencia:</p>\n",
        "<p>&nbsp; &nbsp; &nbsp; &nbsp; &nbsp; &nbsp; &nbsp; &nbsp; &nbsp; &nbsp; &nbsp; &nbsp; &nbsp; &nbsp; &nbsp; &nbsp; &nbsp; &nbsp; &nbsp; &nbsp; &nbsp; &nbsp; &nbsp; &nbsp; &nbsp; &nbsp; &nbsp; &nbsp; &nbsp; &nbsp; &nbsp; &nbsp; &nbsp; &nbsp &nbsp; &nbsp; instrucciones</p>\n",
        "\n",
        "###**Diagrama de flujo**\n",
        "<div align=\"center\"><a href=\"https://ibb.co/BNV4Ghb\"><img src=\"https://i.ibb.co/gVMvd0N/buclefor.png\" alt=\"\" width=\"300px\" height=\"500px\"></a>"
      ]
    },
    {
      "cell_type": "markdown",
      "metadata": {
        "id": "yzfe1Vi6Ttpk"
      },
      "source": [
        "\n",
        "**Iterable:** Es un objeto, sobre el cual se puede iterar (secuencia). Generalmente, este objeto no cambia mientras se ejecuta el bucle for.\n",
        "\n",
        "**Iterador:** Es la variable del bucle que almacena una parte del iterable cuando se ejecuta el bucle for. Cada vez que el ciclo itera, el valor de la variable iterador cambiará a una porción diferente del iterable.\n"
      ]
    },
    {
      "cell_type": "markdown",
      "metadata": {
        "id": "B1crMreN5vN3"
      },
      "source": [
        "\n",
        "## **Bucle for con listas**"
      ]
    },
    {
      "cell_type": "code",
      "metadata": {
        "id": "Q4D-cVE3JxMy"
      },
      "source": [
        ""
      ],
      "execution_count": null,
      "outputs": []
    },
    {
      "cell_type": "markdown",
      "metadata": {
        "id": "ntAebTH3jQ7B"
      },
      "source": [
        "<p><height=\"45px\" src=\"<a href=\"https://ibb.co/pZYMC0T\"><img src=\"https://i.ibb.co/Gkz8gxD/actividad.png\" align=\"left\" alt=\"\" width=\"4%\" height=\"5%\"></a><p>\n",
        "<font size=5><strong>&nbsp;Actividad de practica 2:</strong></font> \n",
        "\n",
        "Escribe un código que utilize la iteración para imprimir la longitud de cada elemento de la lista dada.\n",
        "\n"
      ]
    },
    {
      "cell_type": "code",
      "metadata": {
        "id": "6jIXy0SljQ7I"
      },
      "source": [
        "lista = [\"hello\", \"\", \"goodbye\", \"wonderful\", \"I love Python\"]"
      ],
      "execution_count": null,
      "outputs": []
    },
    {
      "cell_type": "markdown",
      "metadata": {
        "id": "DwhFAwCW8oPO"
      },
      "source": [
        "<p><height=\"45px\" src=\"<a href=\"https://ibb.co/pZYMC0T\"><img src=\"https://i.ibb.co/ZL1WsdZ/poll.png\" align=\"left\" alt=\"\" width=\"4%\" height=\"5%\"></a><p> <H3><strong>&nbsp;Ejercicio 6:</strong> ¿Completa el siguiente código para imprimir las palabras de la lista?"
      ]
    },
    {
      "cell_type": "code",
      "metadata": {
        "id": "6rOL0ZoS8ozN"
      },
      "source": [
        ""
      ],
      "execution_count": null,
      "outputs": []
    },
    {
      "cell_type": "markdown",
      "metadata": {
        "id": "nbTrGlTEBaZ0"
      },
      "source": [
        "## **Bucle for con cadenas**\n",
        "Como una cadena es simplemente una **secuencia de caracteres**, el ciclo **for** itera sobre cada carácter automáticamente."
      ]
    },
    {
      "cell_type": "code",
      "metadata": {
        "id": "KwPWD15LBlI9"
      },
      "source": [
        ""
      ],
      "execution_count": null,
      "outputs": []
    },
    {
      "cell_type": "markdown",
      "metadata": {
        "id": "Z0pBKRuMC6AB"
      },
      "source": [
        "<p><height=\"45px\" src=\"<a href=\"https://ibb.co/pZYMC0T\"><img src=\"https://i.ibb.co/ZL1WsdZ/poll.png\" align=\"left\" alt=\"\" width=\"4%\" height=\"5%\"></a><p> <H3><strong>&nbsp;Ejercicio 7:</strong> ¿Cuál es el resultado de este código?"
      ]
    },
    {
      "cell_type": "code",
      "metadata": {
        "id": "TUfCmVUBC2Tn"
      },
      "source": [
        ""
      ],
      "execution_count": null,
      "outputs": []
    },
    {
      "cell_type": "markdown",
      "metadata": {
        "id": "-xrjoinNEf0R"
      },
      "source": [
        "<p><height=\"45px\" src=\"<a href=\"https://ibb.co/pZYMC0T\"><img src=\"https://i.ibb.co/ZL1WsdZ/poll.png\" align=\"left\" alt=\"\" width=\"4%\" height=\"5%\"></a><p> <H3><strong>&nbsp;Ejercicio 8:</strong> ¿Cuál es el resultado de este código?"
      ]
    },
    {
      "cell_type": "code",
      "metadata": {
        "id": "9MZ3BDiwEOtE"
      },
      "source": [
        ""
      ],
      "execution_count": null,
      "outputs": []
    },
    {
      "cell_type": "markdown",
      "metadata": {
        "id": "7waFZMEWEvYX"
      },
      "source": [
        "## **Bucle for con tuplas**\n",
        "También es posible realizar un recorrido de una tupla mediante la iteración por elemento. Una tupla es una **secuencia de elementos** , por lo que el bucle **for** itera sobre cada elemento de la tupla automáticamente."
      ]
    },
    {
      "cell_type": "code",
      "metadata": {
        "id": "ScypQ5eIExEs"
      },
      "source": [
        ""
      ],
      "execution_count": null,
      "outputs": []
    },
    {
      "cell_type": "markdown",
      "metadata": {
        "id": "7zBNIDgOky16"
      },
      "source": [
        ""
      ]
    },
    {
      "cell_type": "markdown",
      "metadata": {
        "id": "8PE3MZ9Xkzdj"
      },
      "source": [
        "<p><height=\"45px\" src=\"<a href=\"https://ibb.co/pZYMC0T\"><img src=\"https://i.ibb.co/Gkz8gxD/actividad.png\" align=\"left\" alt=\"\" width=\"4%\" height=\"5%\"></a><p>\n",
        "<font size=5><strong>&nbsp;Actividad de practica 3:</strong></font> \n",
        "\n",
        "Escribe un código que imprima la cadena \"Si puedes aplicar al curso de python\"  si el \"curso de python\" se encuetra en la lista, en caso contrario que imprima \"No hay cupo para este curso\".\n"
      ]
    },
    {
      "cell_type": "code",
      "metadata": {
        "id": "FqJ8T03akzdn"
      },
      "source": [
        "lista = [\"curso de latex\", \"curso de python\", \"curso de calculo\", \"curso de costura \", \"curso de química\"]"
      ],
      "execution_count": null,
      "outputs": []
    },
    {
      "cell_type": "markdown",
      "metadata": {
        "id": "aIlFvn_sQ70w"
      },
      "source": [
        "\n",
        "## **Bucle for con la función range**\n",
        "El bucle for se usa frecuentemente para repetir algún código un cierto número de veces. Esto se realiza combinando bucles con objetos creados con **range** "
      ]
    },
    {
      "cell_type": "code",
      "metadata": {
        "id": "rt2i3GCU8wH1"
      },
      "source": [
        ""
      ],
      "execution_count": null,
      "outputs": []
    },
    {
      "cell_type": "markdown",
      "metadata": {
        "id": "PW-bNwqV9eQV"
      },
      "source": [
        "Nota que no es necesario llamar al objeto lista o tupla en la función **range** cuando se usa en un bucle de for,debido a que no se está indexando."
      ]
    },
    {
      "cell_type": "markdown",
      "metadata": {
        "id": "yLSAkYgiBFOv"
      },
      "source": [
        "###**Ejemplo**"
      ]
    },
    {
      "cell_type": "code",
      "metadata": {
        "id": "bwsGb5lMAU9-"
      },
      "source": [
        ""
      ],
      "execution_count": null,
      "outputs": []
    },
    {
      "cell_type": "code",
      "metadata": {
        "id": "VZvJF5LsBIkJ"
      },
      "source": [
        ""
      ],
      "execution_count": null,
      "outputs": []
    },
    {
      "cell_type": "markdown",
      "metadata": {
        "id": "WWz4AoGqhd4f"
      },
      "source": [
        "<p><height=\"45px\" src=\"<a href=\"https://ibb.co/pZYMC0T\"><img src=\"https://i.ibb.co/Gkz8gxD/actividad.png\" align=\"left\" alt=\"\" width=\"4%\" height=\"5%\"></a><p>\n",
        "<font size=5><strong>&nbsp;Actividad de practica 4:</strong></font> \n",
        "\n",
        "¿Escribe un código para imprimir los números pares del 0 al 20?\n",
        "\n"
      ]
    },
    {
      "cell_type": "code",
      "metadata": {
        "id": "bAkld5-O9j80"
      },
      "source": [
        ""
      ],
      "execution_count": null,
      "outputs": []
    },
    {
      "cell_type": "markdown",
      "metadata": {
        "id": "hWrKXqXMcI1M"
      },
      "source": [
        "#**LISTAS POR COMPRENSIÓN**\n",
        "\n",
        "Las listas por comprensión son una forma útil de crear rápidamente listas cuyo contenido obedezca a una regla simple."
      ]
    },
    {
      "cell_type": "markdown",
      "metadata": {
        "id": "rS3AYNFBc_1m"
      },
      "source": [
        "### **Ejemplo**"
      ]
    },
    {
      "cell_type": "code",
      "metadata": {
        "id": "nzrW7i6jcg_W"
      },
      "source": [
        "# Una lista por comprensión\n",
        "\n"
      ],
      "execution_count": null,
      "outputs": []
    },
    {
      "cell_type": "markdown",
      "metadata": {
        "id": "4ktHn_P2no25"
      },
      "source": [
        "<p><height=\"45px\" src=\"<a href=\"https://ibb.co/pZYMC0T\"><img src=\"https://i.ibb.co/Gkz8gxD/actividad.png\" align=\"left\" alt=\"\" width=\"4%\" height=\"5%\"></a><p>\n",
        "<font size=5><strong>&nbsp;Actividad de practica 5:</strong></font> \n",
        "\n",
        "Crea una lista por comprensión con los números pares del  0 al 20.\n",
        "\n"
      ]
    },
    {
      "cell_type": "code",
      "metadata": {
        "id": "xEV7w0F0no2_"
      },
      "source": [
        ""
      ],
      "execution_count": null,
      "outputs": []
    },
    {
      "cell_type": "markdown",
      "metadata": {
        "id": "T_IkcXMCeEmg"
      },
      "source": [
        "La **lista por comprensión** también puede contener una instrucción **if** para hacer cumplir una condición sobre los valores de la lista."
      ]
    },
    {
      "cell_type": "code",
      "metadata": {
        "id": "huAoduJHeFT7"
      },
      "source": [
        ""
      ],
      "execution_count": null,
      "outputs": []
    },
    {
      "cell_type": "code",
      "metadata": {
        "id": "ImLmOebmgKUQ"
      },
      "source": [
        ""
      ],
      "execution_count": null,
      "outputs": []
    },
    {
      "cell_type": "markdown",
      "metadata": {
        "id": "8kmL0lP6oPfC"
      },
      "source": [
        "<p><height=\"45px\" src=\"<a href=\"https://ibb.co/pZYMC0T\"><img src=\"https://i.ibb.co/Gkz8gxD/actividad.png\" align=\"left\" alt=\"\" width=\"4%\" height=\"5%\"></a><p>\n",
        "<font size=5><strong>&nbsp;Actividad de practica 6:</strong></font> \n",
        "\n",
        "Crea una lista por comprensión con los números multiplos de 3 del  0 al 20.\n",
        "\n"
      ]
    },
    {
      "cell_type": "code",
      "metadata": {
        "id": "zhnK5d89oPfJ"
      },
      "source": [
        ""
      ],
      "execution_count": null,
      "outputs": []
    },
    {
      "cell_type": "markdown",
      "metadata": {
        "id": "t6goMSl1gkfj"
      },
      "source": [
        "Intentar crear una lista en un rango muy extenso resultará en un **MemoryError**."
      ]
    },
    {
      "cell_type": "code",
      "metadata": {
        "id": "wW4-R-mSgnX9"
      },
      "source": [
        "impares = [2*i for i in range(10**100)]"
      ],
      "execution_count": null,
      "outputs": []
    },
    {
      "cell_type": "markdown",
      "metadata": {
        "id": "-XcSE44KhOiP"
      },
      "source": [
        "Este problema se resuelve con los **generadores**."
      ]
    },
    {
      "cell_type": "markdown",
      "metadata": {
        "id": "pT3tp4euhj3W"
      },
      "source": [
        "Crear un código para imprimir una lista de números multiplicados por 10 en el rango de 5 a 9."
      ]
    },
    {
      "cell_type": "markdown",
      "metadata": {
        "id": "sSpYNBAro1PJ"
      },
      "source": [
        "<p><height=\"45px\" src=\"<a href=\"https://ibb.co/pZYMC0T\"><img src=\"https://i.ibb.co/Gkz8gxD/actividad.png\" align=\"left\" alt=\"\" width=\"4%\" height=\"5%\"></a><p>\n",
        "<font size=5><strong>&nbsp;Actividad de practica 7:</strong></font> \n",
        "\n",
        "Crear un código para imprimir una lista de números multiplicados por 10 en el rango de 5 a 9.\n"
      ]
    },
    {
      "cell_type": "code",
      "metadata": {
        "id": "rZhn8xcbo1PN"
      },
      "source": [
        ""
      ],
      "execution_count": null,
      "outputs": []
    },
    {
      "cell_type": "markdown",
      "metadata": {
        "id": "ER9TKhYVPf6U"
      },
      "source": [
        "#**Patron de acumulación**\n",
        "Un \"patrón\" de programación común es atravesar una secuencia, acumulando un valor a medida que avanzamos, como la suma hasta el momento o el máximo hasta el momento. De esa manera, al final del recorrido hemos acumulado un solo valor, como la suma total de todos los artículos o el artículo más grande.\n",
        "\n",
        "**Anatomía de un patrón de acumulación**\n",
        "\n",
        "\n",
        "\n",
        "*   **Inicialización:** Una variable de **\"acumulador\"** se le asigna un valor inicial. \n",
        "\n",
        "*   **Iteración:** Atravezar los elementos de una secuencia.\n",
        "\n",
        "*   **Actualización:** La variable acumuladora en cada iteración se debe actualizar al procesar cada elemento en la secuencia.\n",
        "\n",
        "  "
      ]
    },
    {
      "cell_type": "markdown",
      "metadata": {
        "id": "pYBZqyy4s_hO"
      },
      "source": [
        "### **Ejemplo**"
      ]
    },
    {
      "cell_type": "markdown",
      "metadata": {
        "id": "F6hdBzrju39e"
      },
      "source": [
        "### **Patron de acumulación con listas**"
      ]
    },
    {
      "cell_type": "code",
      "metadata": {
        "id": "hjDUiAcdgNsF",
        "colab": {
          "base_uri": "https://localhost:8080/",
          "height": 34
        },
        "outputId": "c3bdcbb6-039c-4f5d-d526-0ec370c26a07"
      },
      "source": [
        ""
      ],
      "execution_count": null,
      "outputs": [
        {
          "output_type": "stream",
          "text": [
            "55\n"
          ],
          "name": "stdout"
        }
      ]
    },
    {
      "cell_type": "markdown",
      "metadata": {
        "id": "w0BXIL1_vBef"
      },
      "source": [
        "### **Patron de acumulación con la funcion range**"
      ]
    },
    {
      "cell_type": "code",
      "metadata": {
        "id": "wlKi_P6PtyOb",
        "colab": {
          "base_uri": "https://localhost:8080/",
          "height": 34
        },
        "outputId": "62c7ffc8-cc12-479e-98e2-0aeaf222e4b8"
      },
      "source": [
        ""
      ],
      "execution_count": null,
      "outputs": [
        {
          "output_type": "stream",
          "text": [
            "55\n"
          ],
          "name": "stdout"
        }
      ]
    },
    {
      "cell_type": "markdown",
      "metadata": {
        "id": "fg3zqw4PvH90"
      },
      "source": [
        "### **Patron de acumulación con cadenas**"
      ]
    },
    {
      "cell_type": "code",
      "metadata": {
        "id": "ydAXsUHDvKiT"
      },
      "source": [
        ""
      ],
      "execution_count": null,
      "outputs": []
    },
    {
      "cell_type": "markdown",
      "metadata": {
        "id": "dfHXKB34wwL0"
      },
      "source": [
        "<p><height=\"45px\" src=\"<a href=\"https://ibb.co/pZYMC0T\"><img src=\"https://i.ibb.co/Gkz8gxD/actividad.png\" align=\"left\" alt=\"\" width=\"4%\" height=\"5%\"></a><p>\n",
        "<font size=5><strong>&nbsp;Actividad de practica 8:</strong></font>\n",
        "\n",
        "Escriba el código para crear una lista con las longitudes de palabras que componen la cadena \"frase\" usando **el patrón de acumulación** y asigne la respuesta una lista llamada \"longitud_palabras\". (Debes usar la función len). \n"
      ]
    },
    {
      "cell_type": "code",
      "metadata": {
        "id": "ZyfC67sBw_Yg"
      },
      "source": [
        "frase = \"El rápido rinoceronte marrón saltó sobre el zorro extremadamente perezoso\""
      ],
      "execution_count": null,
      "outputs": []
    },
    {
      "cell_type": "markdown",
      "metadata": {
        "id": "55d0Lbe7ypty"
      },
      "source": [
        "## **ACTIVIDADES DE PRÁCTICA**"
      ]
    },
    {
      "cell_type": "markdown",
      "metadata": {
        "id": "Ps-dSwOvh2Hj"
      },
      "source": [
        " - <font size=\"4\">  **EJERCICIO 1:** \"temperaturas\" es una cadena con una lista de temperaturas en grados Fahrenheit separadas por el signo \",\". Escribe el código que utiliza el patrón de acumulación para calcular el promedio de las temperaturas y lo asigne a la variable \"promedio_temperatura\". No codifique su respuesta manualmente (Debe usar la función .split(\",\") para dividirla por \",\" y float() para entregar el promedio como un **flotante**).  </font>"
      ]
    },
    {
      "cell_type": "code",
      "metadata": {
        "id": "igE1FKBNyuKr"
      },
      "source": [
        "temperaturas = \"75.1,77.7,83.2,82.5,81.0,79.5,85.7\""
      ],
      "execution_count": null,
      "outputs": []
    },
    {
      "cell_type": "markdown",
      "metadata": {
        "id": "-RCjtN1Mi28P"
      },
      "source": [
        "- <font size=\"4\">  **EJERCICIO 2:** \"cadena_suma\" es una cadena con una lista de números separados por el signo +. Escribe el código que utiliza el patrón de acumulación para tomar la suma de todos los números y asignarla a la variable \"suma\" (un entero). (Debes usar la función .split(\"+\") para separar por \"+\" e int() para asignar a un entero).  </font>"
      ]
    },
    {
      "cell_type": "code",
      "metadata": {
        "id": "M2EpKNUKjUQK"
      },
      "source": [
        "cadena_suma = \"2+5+10+20\""
      ],
      "execution_count": null,
      "outputs": []
    },
    {
      "cell_type": "markdown",
      "metadata": {
        "id": "MDQnCm4AkR-a"
      },
      "source": [
        "- <font size=\"4\">  **EJERCICIO 3:** Cree un condicional  que imprima \"falso enta en la frase!\" si la palabra \"falso\" esta en la cadena, Comprueba si la palabra \"verdad\" está en la cadena y si es así, imprima \"verdad esta en la frase!\" . Si ninguna de las dos palabras está en la cadena , imprima \"las palabras  verdad y falso no estan en la frase!\". </font>"
      ]
    },
    {
      "cell_type": "code",
      "metadata": {
        "id": "ldRa-ID4jnDi"
      },
      "source": [
        "cadena = \"¡Hoy eres tú! ¡Eso es más cierto que la verdad! ¡No hay nadie vivo que sea más que tú!\""
      ],
      "execution_count": null,
      "outputs": []
    },
    {
      "cell_type": "markdown",
      "metadata": {
        "id": "ROCTf9TOnKft"
      },
      "source": [
        "- <font size=\"4\">  **EJERCICIO 4:** Para cada palabra en ingles de la lista \"palabras\", agregue una \"d\" al final de la palabra si termina en \"e\" para que quede en tiempo pasado. De lo contrario, agregue \"ed\".Guarda estas nuevas palabras en una lista llamada \"palabras_pasado\" </font>"
      ]
    },
    {
      "cell_type": "code",
      "metadata": {
        "id": "9J5By74On2et"
      },
      "source": [
        "palabras = [\"adopt\", \"bake\", \"beam\", \"confide\", \"grill\", \"plant\", \"time\", \"wave\", \"wish\"]"
      ],
      "execution_count": null,
      "outputs": []
    },
    {
      "cell_type": "markdown",
      "metadata": {
        "id": "U1FYXdA4ot91"
      },
      "source": [
        "- <font size=\"4\">  **EJERCICIO 5:** Escriba un código para determinar cuántas palabras de la cadena \"frase \"empiezan y terminan con la misma letra, incluyendo las palabras de una letra. Almacene el resultado en la variable \"numero_palabras\" e imprima el número de palabras que empizan y terminan con la misma letra.\" </font>\n",
        "\n"
      ]
    },
    {
      "cell_type": "code",
      "metadata": {
        "id": "8HT-8xv6pNnw"
      },
      "source": [
        "frase = \"con los bucles y las secuencias podemos hacer programas en python para aproximar los valores de las constantes irracionales pi y e\""
      ],
      "execution_count": null,
      "outputs": []
    },
    {
      "cell_type": "markdown",
      "metadata": {
        "id": "4z6pXiiLrKaL"
      },
      "source": [
        "- <font size=\"4\">  **EJERCICIO 6:** Escribe un  código para contar el número de palabras en la lista \"palabras\" que tienen el carácter \"e\". Asigne ese número a la variable \"numero_palabras\" e imprima este número. </font>"
      ]
    },
    {
      "cell_type": "code",
      "metadata": {
        "id": "pG7DtioWrS59"
      },
      "source": [
        "palabras = [\"patron\", \"acumulador\", \"secuencia\", \"iterable\", \"iterador\", \"variable\", \"iteraciones\",\"bucle\",\"lista\"]"
      ],
      "execution_count": null,
      "outputs": []
    },
    {
      "cell_type": "markdown",
      "metadata": {
        "id": "NSBPsZI_s4a6"
      },
      "source": [
        "- <font size=\"4\">  **EJERCICIO 7:** Escribe un  código para contar el número de palabras de la cadena \"frase\" que tienen el carácter \"a\" o \"e\". Asigne ese número a la variable \"numero_palabras\" e imprima este número. </font>"
      ]
    },
    {
      "cell_type": "code",
      "metadata": {
        "id": "nrzNy0pZs57e"
      },
      "source": [
        "frase = \"python is a high level general purpose programming language that can be applied to many different classes of problems.\""
      ],
      "execution_count": null,
      "outputs": []
    }
  ]
}