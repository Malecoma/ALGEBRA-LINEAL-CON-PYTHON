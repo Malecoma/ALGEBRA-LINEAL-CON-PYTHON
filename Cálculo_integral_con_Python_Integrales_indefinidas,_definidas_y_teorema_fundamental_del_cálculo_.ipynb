{
  "nbformat": 4,
  "nbformat_minor": 0,
  "metadata": {
    "colab": {
      "name": "Cálculo integral con Python-Integrales indefinidas, definidas y teorema fundamental del cálculo .ipynb",
      "provenance": [],
      "collapsed_sections": [],
      "include_colab_link": true
    },
    "kernelspec": {
      "name": "python3",
      "display_name": "Python 3"
    }
  },
  "cells": [
    {
      "cell_type": "markdown",
      "metadata": {
        "id": "view-in-github",
        "colab_type": "text"
      },
      "source": [
        "<a href=\"https://colab.research.google.com/github/josorio398/ALGEBRA-LINEAL-CON-PYTHON/blob/master/C%C3%A1lculo_integral_con_Python_Integrales_indefinidas%2C_definidas_y_teorema_fundamental_del_c%C3%A1lculo_.ipynb\" target=\"_parent\"><img src=\"https://colab.research.google.com/assets/colab-badge.svg\" alt=\"Open In Colab\"/></a>"
      ]
    },
    {
      "cell_type": "markdown",
      "metadata": {
        "id": "RVxHpsbcExUD"
      },
      "source": [
        "<p><img alt=\"logo.fua\" height=\"100px\" src=\"https://github.com/josorio398/ALGEBRA-LINEAL-CON-PYTHON/blob/master/im%C3%A1genes%20repositorio/Logo-UAme%CC%81rica-nuevo-2021.png?raw=true\" align=\"left\" hspace=\"0px\" vspace=\"0px\"></p>\n",
        "\n",
        "<p><img alt=\"logo.fua\" height=\"26px\" src=\"https://mirrors.creativecommons.org/presskit/buttons/88x31/svg/by-nd.svg\" align=\"right\" hspace=\"0px\" vspace=\"11px\"></p>\n",
        "\n",
        "\n",
        "# <center> <font size=\"6\">**CALCULO INTEGRAL CON PYTHON**  &nbsp;&nbsp; &nbsp; &nbsp;<center>*Jhonny Osorio Gallego* &nbsp;&nbsp;&nbsp;&nbsp;&nbsp;&nbsp;&nbsp;&nbsp;&nbsp;&nbsp;&nbsp; &nbsp; &nbsp;<p></font> \n",
        " "
      ]
    },
    {
      "cell_type": "markdown",
      "metadata": {
        "id": "pELON3yz_46g"
      },
      "source": [
        "# **CÁLCULO INTEGRAL USANDO LIBRERÍA SYMPY**"
      ]
    },
    {
      "cell_type": "markdown",
      "metadata": {
        "id": "U515Q-sM2m9k"
      },
      "source": [
        "## **Importamos librería simbolica SymPy**\n",
        "**SymPy** es una biblioteca de Python para matemáticas simbólicas. Su objetivo es convertirse en un sistema de álgebra computacional (CAS) con todas las funciones, manteniendo el código lo más simple posible para que sea comprensible y fácilmente extensible. SymPy está escrito completamente en Python.[sympy.org](https://www.sympy.org/en/index.html)"
      ]
    },
    {
      "cell_type": "code",
      "metadata": {
        "id": "4wHJ9dZ3405h"
      },
      "source": [
        "from sympy import *\n",
        "init_printing() \n",
        "x,y,z,q,u,t = symbols(\"x y z q u t\")"
      ],
      "execution_count": 2,
      "outputs": []
    },
    {
      "cell_type": "markdown",
      "metadata": {
        "id": "LPNq31Fwyw1H"
      },
      "source": [
        "# **INTEGRALES INDEFINIDAS**\n",
        "La realización de integrales indefinidas usando la librería **SymPy** de Python se puede realizar de dos formas diferentes, la primera es usando la función **integrate( )** y la segunda es con la función **Integral( )**, a continuación se presenta algunos ejemplo.<br> </br>\n",
        "\n",
        "\n",
        "## **Función integrate( )**\n",
        "\n",
        "El cálculo de antiderivadas se puede realizar usando la función **integrate(  )** y utilizando la siguiente sintaxis:<br>\n",
        "<center><font size=4><strong>integrate(&nbsp;<em>f(x)&nbsp;</em>, variable)</strong></p></center>\n",
        "\n",
        "\n",
        "### **Ejemplo :**\n",
        "Encuentra la antiderivada de la función $$f(x)= 3x^2 - \\sqrt{x}+\\dfrac{1}{x}-4$$\n"
      ]
    },
    {
      "cell_type": "code",
      "metadata": {
        "id": "ALKGj_KK2klW",
        "colab": {
          "base_uri": "https://localhost:8080/",
          "height": 56
        },
        "outputId": "30d28908-9c0c-4db5-8e65-91cf75c8df1a"
      },
      "source": [
        "integrate(3*x**2-sqrt(x)+1/x+4, x)"
      ],
      "execution_count": 21,
      "outputs": [
        {
          "output_type": "execute_result",
          "data": {
            "image/png": "[encoded data removed]",
            "text/latex": "$\\displaystyle - \\frac{2 x^{\\frac{3}{2}}}{3} + x^{3} + 4 x + \\log{\\left(x \\right)}$",
            "text/plain": [
              "     3/2                    \n",
              "  2⋅x       3               \n",
              "- ────── + x  + 4⋅x + log(x)\n",
              "    3                       "
            ]
          },
          "metadata": {},
          "execution_count": 21
        }
      ]
    },
    {
      "cell_type": "markdown",
      "metadata": {
        "id": "d2S3j6g3tpHB"
      },
      "source": [
        "Se puede omitir el parámetro de la variable cuando la función depende solamente de una variable"
      ]
    },
    {
      "cell_type": "code",
      "metadata": {
        "colab": {
          "base_uri": "https://localhost:8080/",
          "height": 56
        },
        "id": "-fz5br9jtoAh",
        "outputId": "99713cb3-51b6-40da-c3a4-b95705f2983f"
      },
      "source": [
        "integrate(3*x**2-sqrt(x)+1/x+4)"
      ],
      "execution_count": 5,
      "outputs": [
        {
          "output_type": "execute_result",
          "data": {
            "image/png": "[encoded data removed]",
            "text/latex": "$\\displaystyle - \\frac{2 x^{\\frac{3}{2}}}{3} + x^{3} + 4 x + \\log{\\left(x \\right)}$",
            "text/plain": [
              "     3/2                    \n",
              "  2⋅x       3               \n",
              "- ────── + x  + 4⋅x + log(x)\n",
              "    3                       "
            ]
          },
          "metadata": {},
          "execution_count": 5
        }
      ]
    },
    {
      "cell_type": "markdown",
      "metadata": {
        "id": "mhzNJ6KYSE8V"
      },
      "source": [
        "##  **Función Integral( )**\n",
        "\n",
        "El cálculo de antiderivadas se puede realizar usando la función **Integral(  )**, inicialmente para expresar la integral, y luego aplicar sobre esta función el método **doit(  )** para calcularla, la sintaxis para usarla de manera adecuada es la siguiente:<br>\n",
        "\n",
        "<center><font size=4><strong>Integral(&nbsp;<em>f(x)&nbsp;</em>, variable).doit( )</strong></p></center>\n",
        "\n",
        "### **Ejemplo:**\n",
        "\n",
        "Encuentra la antiderivada de la función $$f(x)=\\sec(x)\\tan(x)$$"
      ]
    },
    {
      "cell_type": "code",
      "metadata": {
        "colab": {
          "base_uri": "https://localhost:8080/",
          "height": 55
        },
        "id": "AYLsgta0jAUJ",
        "outputId": "049bb8d7-180d-419b-a2f0-2c4da81af824"
      },
      "source": [
        "f= sec(x)*tan(x)\n",
        "Integral(f).doit()"
      ],
      "execution_count": 6,
      "outputs": [
        {
          "output_type": "execute_result",
          "data": {
            "image/png": "[encoded data removed]",
            "text/latex": "$\\displaystyle \\frac{1}{\\cos{\\left(x \\right)}}$",
            "text/plain": [
              "  1   \n",
              "──────\n",
              "cos(x)"
            ]
          },
          "metadata": {},
          "execution_count": 6
        }
      ]
    },
    {
      "cell_type": "markdown",
      "metadata": {
        "id": "WRLdSc-Iye8T"
      },
      "source": [
        "Se puede realizar en dos lineas de codigo diferentes de la siguiente forma:"
      ]
    },
    {
      "cell_type": "code",
      "metadata": {
        "colab": {
          "base_uri": "https://localhost:8080/",
          "height": 54
        },
        "id": "mXsK1DWkyvca",
        "outputId": "2c87436a-3e02-48e8-99e3-f8a7b6bb1cec"
      },
      "source": [
        "Integral(sec(x)*tan(x))"
      ],
      "execution_count": 10,
      "outputs": [
        {
          "output_type": "execute_result",
          "data": {
            "image/png": "[encoded data removed]",
            "text/latex": "$\\displaystyle \\int \\tan{\\left(x \\right)} \\sec{\\left(x \\right)}\\, dx$",
            "text/plain": [
              "⌠                 \n",
              "⎮ tan(x)⋅sec(x) dx\n",
              "⌡                 "
            ]
          },
          "metadata": {},
          "execution_count": 10
        }
      ]
    },
    {
      "cell_type": "code",
      "metadata": {
        "colab": {
          "base_uri": "https://localhost:8080/",
          "height": 55
        },
        "id": "JcJLp3amy3G4",
        "outputId": "f5cafba5-be57-42ae-969d-d67427a927a2"
      },
      "source": [
        "Integral(f).doit()"
      ],
      "execution_count": 14,
      "outputs": [
        {
          "output_type": "execute_result",
          "data": {
            "image/png": "[encoded data removed]",
            "text/latex": "$\\displaystyle \\frac{1}{\\cos{\\left(x \\right)}}$",
            "text/plain": [
              "  1   \n",
              "──────\n",
              "cos(x)"
            ]
          },
          "metadata": {},
          "execution_count": 14
        }
      ]
    },
    {
      "cell_type": "markdown",
      "metadata": {
        "id": "_BUnX2EzhIzW"
      },
      "source": [
        "# **INTEGRALES DEFINIDAS**\n",
        "\n",
        "La realización de integrales definidas en la librería **sympy** se puede realizar al igual que las integrales indefinidas con las funciónes **integrate( )** e **Integral( )**, a continuación se presentan algunos ejemplos.<br> </br>\n",
        "\n",
        "\n",
        "## **Función integrate( )**\n",
        "\n",
        "El cálculo de antiderivadas se puede realizar usando la función **integrate(  )**, utilizando la siguiente sintaxis:<br>\n",
        "\n",
        "<center><font size=4><strong>integrate(&nbsp;<em>f(x)</em>, (<em>var</em>, a, b) )</strong></p></p></center>\n",
        "\n",
        "### **Ejemplo**: \n",
        "Cálcula la siguiente integral definida \n",
        "$$\\int_{1}^{2}  \\! x^2 \\, dx $$"
      ]
    },
    {
      "cell_type": "code",
      "metadata": {
        "colab": {
          "base_uri": "https://localhost:8080/",
          "height": 38
        },
        "id": "ATh4QqGkhc02",
        "outputId": "2a52ff58-41ac-4b36-c627-2b05b9c04e60"
      },
      "source": [
        "f = x**2\n",
        "f"
      ],
      "execution_count": 22,
      "outputs": [
        {
          "output_type": "execute_result",
          "data": {
            "image/png": "[encoded data removed]",
            "text/latex": "$\\displaystyle x^{2}$",
            "text/plain": [
              " 2\n",
              "x "
            ]
          },
          "metadata": {},
          "execution_count": 22
        }
      ]
    },
    {
      "cell_type": "code",
      "metadata": {
        "colab": {
          "base_uri": "https://localhost:8080/",
          "height": 51
        },
        "id": "n6cYvZgzyvek",
        "outputId": "e33ead5c-ab0e-4ac6-cf8f-b372048d36c9"
      },
      "source": [
        "integrate(f, (x,1,3))"
      ],
      "execution_count": 23,
      "outputs": [
        {
          "output_type": "execute_result",
          "data": {
            "image/png": "[encoded data removed]",
            "text/latex": "$\\displaystyle \\frac{26}{3}$",
            "text/plain": [
              "26/3"
            ]
          },
          "metadata": {},
          "execution_count": 23
        }
      ]
    },
    {
      "cell_type": "markdown",
      "metadata": {
        "id": "XM7nDnRCiwm4"
      },
      "source": [
        "##  **Función Integral( )**\n",
        "\n",
        "El cálculo de integrales definidas se puede realizar usando la función **Integral(  )**, inicialmente para expresar la integral definida, y luego aplicando el método **doit(  )** para calcularla, la sintaxis para usarla de manera adecuada es la siguiente:<br>\n",
        "\n",
        "\n",
        "<center><font size=4><strong>Integral(&nbsp;<em>f(x)</em>, (<em>var</em>, a, b) ).doit( )</strong></p></center>\n",
        "\n",
        "### **Ejemplo**: \n",
        "\n",
        "Cálcula la siguinete integral definida \n",
        "$$\\int_{\\pi/4}^{3\\pi/2}  \\! \\sin(x) \\, dx $$"
      ]
    },
    {
      "cell_type": "code",
      "metadata": {
        "colab": {
          "base_uri": "https://localhost:8080/",
          "height": 56
        },
        "id": "pWGKk8s6i5GE",
        "outputId": "cfdbc78a-85a4-4a98-faca-ee1ece886dfa"
      },
      "source": [
        "fx = sin(x)\n",
        "Integral(fx,(x,pi/4,3*pi/2)).doit()"
      ],
      "execution_count": 24,
      "outputs": [
        {
          "output_type": "execute_result",
          "data": {
            "image/png": "[encoded data removed]",
            "text/latex": "$\\displaystyle \\frac{\\sqrt{2}}{2}$",
            "text/plain": [
              "√2\n",
              "──\n",
              "2 "
            ]
          },
          "metadata": {},
          "execution_count": 24
        }
      ]
    },
    {
      "cell_type": "markdown",
      "metadata": {
        "id": "zJmZoSOeGJ9l"
      },
      "source": [
        ""
      ]
    },
    {
      "cell_type": "code",
      "metadata": {
        "colab": {
          "base_uri": "https://localhost:8080/",
          "height": 37
        },
        "id": "FaoKy243EwFA",
        "outputId": "46cffd13-85d0-4195-e375-2e071196fff5"
      },
      "source": [
        "integrate(2*x, (x,1,2))"
      ],
      "execution_count": null,
      "outputs": [
        {
          "output_type": "execute_result",
          "data": {
            "image/png": "[encoded data removed]",
            "text/latex": "$\\displaystyle 3$",
            "text/plain": [
              "3"
            ]
          },
          "metadata": {},
          "execution_count": 18
        }
      ]
    },
    {
      "cell_type": "markdown",
      "metadata": {
        "id": "GXjQ_XSTGRBO"
      },
      "source": [
        "# **VERIFICACIÓN DE INTEGRALES INDEFINIDAS**\n",
        "Al realizar una integral definida podemos encontrarnos con integrales que tienen diferentes maneras de abordarse y al verificarlas haciendo uso de técnología podriamos apreciar diferentes resultados y pensar que no se realizó correctamente, en la siguiente formula usando la función **symplify( )** de Python, puede servir para verificar la integral:\n",
        "\n",
        "<center><font size=4><strong>simplify( integral en Python - Integral manual) = constante&nbsp;</strong></p></center>\n",
        "\n",
        "### **Ejemplo:**\n",
        "\n",
        "Realiza la siguiente integral sin hacer uso de técnología y luego verifica tu resultado con **Python**.\n",
        "\n",
        "$$\\int \\! (3x^2+1)^3\\, dx $$"
      ]
    },
    {
      "cell_type": "markdown",
      "metadata": {
        "id": "O0BQrQtsJ9e8"
      },
      "source": [
        "###  **Resultado sin usar tecnología**"
      ]
    },
    {
      "cell_type": "code",
      "metadata": {
        "colab": {
          "base_uri": "https://localhost:8080/",
          "height": 59
        },
        "id": "mYP_K5juI2WF",
        "outputId": "31374fac-b72d-4d16-fb2a-9937478af470"
      },
      "source": [
        "Im = S(\"1/24\")*(3*x**2+1)**4\n",
        "Im"
      ],
      "execution_count": 25,
      "outputs": [
        {
          "output_type": "execute_result",
          "data": {
            "image/png": "[encoded data removed]",
            "text/latex": "$\\displaystyle \\frac{\\left(3 x^{2} + 1\\right)^{4}}{24}$",
            "text/plain": [
              "          4\n",
              "⎛   2    ⎞ \n",
              "⎝3⋅x  + 1⎠ \n",
              "───────────\n",
              "     24    "
            ]
          },
          "metadata": {},
          "execution_count": 25
        }
      ]
    },
    {
      "cell_type": "markdown",
      "metadata": {
        "id": "WeJDd6dSJk12"
      },
      "source": [
        "\n",
        "###  **Resultado de Python**"
      ]
    },
    {
      "cell_type": "code",
      "metadata": {
        "colab": {
          "base_uri": "https://localhost:8080/",
          "height": 54
        },
        "id": "Cf3MhOPIQG_I",
        "outputId": "50a53143-92bb-4470-d7db-de86f5a28729"
      },
      "source": [
        "Ip = integrate(x*(3*x**2+1)**3)\n",
        "Ip"
      ],
      "execution_count": 26,
      "outputs": [
        {
          "output_type": "execute_result",
          "data": {
            "image/png": "[encoded data removed]",
            "text/latex": "$\\displaystyle \\frac{27 x^{8}}{8} + \\frac{9 x^{6}}{2} + \\frac{9 x^{4}}{4} + \\frac{x^{2}}{2}$",
            "text/plain": [
              "    8      6      4    2\n",
              "27⋅x    9⋅x    9⋅x    x \n",
              "───── + ──── + ──── + ──\n",
              "  8      2      4     2 "
            ]
          },
          "metadata": {},
          "execution_count": 26
        }
      ]
    },
    {
      "cell_type": "markdown",
      "metadata": {
        "id": "lcTOm5ihJt-B"
      },
      "source": [
        "###  **Verificación**"
      ]
    },
    {
      "cell_type": "code",
      "metadata": {
        "colab": {
          "base_uri": "https://localhost:8080/",
          "height": 51
        },
        "id": "Ga0Y5tG4zbFe",
        "outputId": "ec3aba8a-5902-4720-b668-fbd16b4350b2"
      },
      "source": [
        "simplify(Ip -Im)"
      ],
      "execution_count": 28,
      "outputs": [
        {
          "output_type": "execute_result",
          "data": {
            "image/png": "[encoded data removed]",
            "text/latex": "$\\displaystyle - \\frac{1}{24}$",
            "text/plain": [
              "-1/24"
            ]
          },
          "metadata": {},
          "execution_count": 28
        }
      ]
    },
    {
      "cell_type": "markdown",
      "metadata": {
        "id": "_PzKeijqyMaM"
      },
      "source": [
        "# **TEOREMA FUNDAMENTAL DEL CÁLCULO**\n",
        "\n",
        "Sea $f(t)$ una función integrable en el intervalo ${\\displaystyle [a,b],}$ definimos una función de area $F(x)$ en el intervalo ${\\displaystyle [a,b]}$ de la siguiente forma:\n",
        "\n",
        "$$F(x) = \\int_{0}^{x}  \\! f(t) \\, dt$$\n",
        "\n",
        "si $f(t)$ es continua en $(a,b)$, entonces $F(x)$ es diferenciable y se cumple:\n",
        "\n",
        "$$F^\\prime(x) = f(x)$$\n",
        "\n",
        "### **Ejemplo 1**: \n",
        "\n",
        "Hallar $F^\\prime(x)$ de la función de área:\n",
        "\n",
        "$$F(x) = \\int_{0}^{x}  \\! \\dfrac{1}{t^2-1} \\, dt$$"
      ]
    },
    {
      "cell_type": "code",
      "metadata": {
        "id": "sGgxGYYJ4-_E",
        "colab": {
          "base_uri": "https://localhost:8080/",
          "height": 52
        },
        "outputId": "72debdb0-4939-4271-9d1e-ab94308e31fd"
      },
      "source": [
        "F=  integrate(1/(t**2-1), (t,0,x))\n",
        "DF = simplify(diff(F))\n",
        "DF"
      ],
      "execution_count": 30,
      "outputs": [
        {
          "output_type": "execute_result",
          "data": {
            "image/png": "[encoded data removed]",
            "text/latex": "$\\displaystyle \\frac{1}{x^{2} - 1}$",
            "text/plain": [
              "  1   \n",
              "──────\n",
              " 2    \n",
              "x  - 1"
            ]
          },
          "metadata": {},
          "execution_count": 30
        }
      ]
    },
    {
      "cell_type": "markdown",
      "metadata": {
        "id": "aaJzGjrtRazb"
      },
      "source": [
        "### **Ejemplo 2**: \n",
        "\n",
        "Hallar $F^\\prime(x)$ de la función de área:\n",
        "\n",
        "$$F(x) = \\int_{x^2}^{0}  \\!\\sqrt{t+1} \\, dt$$"
      ]
    },
    {
      "cell_type": "code",
      "metadata": {
        "colab": {
          "base_uri": "https://localhost:8080/",
          "height": 41
        },
        "id": "oUaV55hCRazz",
        "outputId": "bec25161-16c5-44de-9a9d-ba29d1540e85"
      },
      "source": [
        "Fx =  integrate(sqrt(1+t),(t,x**2,0))\n",
        "diff(Fx)"
      ],
      "execution_count": 33,
      "outputs": [
        {
          "output_type": "execute_result",
          "data": {
            "image/png": "[encoded data removed]",
            "text/latex": "$\\displaystyle - 2 x \\sqrt{x^{2} + 1}$",
            "text/plain": [
              "        ________\n",
              "       ╱  2     \n",
              "-2⋅x⋅╲╱  x  + 1 "
            ]
          },
          "metadata": {},
          "execution_count": 33
        }
      ]
    },
    {
      "cell_type": "markdown",
      "metadata": {
        "id": "uClhlalAynKo"
      },
      "source": [
        "### **Ejemplo 3**: \n",
        "\n",
        "Hallar $F^\\prime(x)$ de la función de área:\n",
        "\n",
        "$$F(x) = \\int_{x^3}^{x^2}  \\! t^3 \\, dt$$"
      ]
    },
    {
      "cell_type": "code",
      "metadata": {
        "colab": {
          "base_uri": "https://localhost:8080/",
          "height": 38
        },
        "id": "M-wpoEFmEylJ",
        "outputId": "d8b5caa5-78f1-4ec2-be42-b719781a6cb8"
      },
      "source": [
        "Fx =  integrate(t**3, (t,x**3,x**2))\n",
        "diff(Fx)"
      ],
      "execution_count": null,
      "outputs": [
        {
          "output_type": "execute_result",
          "data": {
            "image/png": "[encoded data removed]",
            "text/latex": "$\\displaystyle - 3 x^{11} + 2 x^{7}$",
            "text/plain": [
              "     11      7\n",
              "- 3⋅x   + 2⋅x "
            ]
          },
          "metadata": {},
          "execution_count": 30
        }
      ]
    },
    {
      "cell_type": "markdown",
      "metadata": {
        "id": "wkvAh2OlSZbX"
      },
      "source": [
        "### **Ejemplo 4**: \n",
        "\n",
        "Hallar el intervalo donde es creciente la función $F$ definida como:\n",
        "\n",
        "$$F(x) = \\int_{0}^{x}  \\! (1-t^2)e^{t^2} \\, dt$$"
      ]
    },
    {
      "cell_type": "code",
      "metadata": {
        "colab": {
          "base_uri": "https://localhost:8080/",
          "height": 77
        },
        "id": "v2aytC6dSZbv",
        "outputId": "887393f4-e8e5-4e09-c4f4-ed785fa98dae"
      },
      "source": [
        "F =  Integral((1-t**2)*(E**(t**2)), (t,0,x))\n",
        "F"
      ],
      "execution_count": 38,
      "outputs": [
        {
          "output_type": "execute_result",
          "data": {
            "image/png": "[encoded data removed]",
            "text/latex": "$\\displaystyle \\int\\limits_{0}^{x} \\left(1 - t^{2}\\right) e^{t^{2}}\\, dt$",
            "text/plain": [
              "x                  \n",
              "⌠                  \n",
              "⎮           ⎛ 2⎞   \n",
              "⎮ ⎛     2⎞  ⎝t ⎠   \n",
              "⎮ ⎝1 - t ⎠⋅ℯ     dt\n",
              "⌡                  \n",
              "0                  "
            ]
          },
          "metadata": {},
          "execution_count": 38
        }
      ]
    },
    {
      "cell_type": "code",
      "metadata": {
        "colab": {
          "base_uri": "https://localhost:8080/",
          "height": 40
        },
        "id": "PkrlFqNfTnxJ",
        "outputId": "9bcd5b8f-5a3d-4d45-bc38-11da03132900"
      },
      "source": [
        "DF = diff(F.doit())\n",
        "DF"
      ],
      "execution_count": 41,
      "outputs": [
        {
          "output_type": "execute_result",
          "data": {
            "image/png": "[encoded data removed]",
            "text/latex": "$\\displaystyle - x^{2} e^{x^{2}} + e^{x^{2}}$",
            "text/plain": [
              "      ⎛ 2⎞    ⎛ 2⎞\n",
              "   2  ⎝x ⎠    ⎝x ⎠\n",
              "- x ⋅ℯ     + ℯ    "
            ]
          },
          "metadata": {},
          "execution_count": 41
        }
      ]
    },
    {
      "cell_type": "code",
      "metadata": {
        "colab": {
          "base_uri": "https://localhost:8080/",
          "height": 40
        },
        "id": "LC2GEDvBT3dg",
        "outputId": "6043cce0-d847-4d4c-f87f-a54a3eb90ea4"
      },
      "source": [
        "exp = factor(DF)\n",
        "exp"
      ],
      "execution_count": 44,
      "outputs": [
        {
          "output_type": "execute_result",
          "data": {
            "image/png": "[encoded data removed]",
            "text/latex": "$\\displaystyle - \\left(x - 1\\right) \\left(x + 1\\right) e^{x^{2}}$",
            "text/plain": [
              "                  ⎛ 2⎞\n",
              "                  ⎝x ⎠\n",
              "-(x - 1)⋅(x + 1)⋅ℯ    "
            ]
          },
          "metadata": {},
          "execution_count": 44
        }
      ]
    },
    {
      "cell_type": "code",
      "metadata": {
        "colab": {
          "base_uri": "https://localhost:8080/",
          "height": 37
        },
        "id": "9d24hWYUUAIA",
        "outputId": "c0dcacc6-8021-45c9-ad1f-dde57f2a8e8a"
      },
      "source": [
        "from sympy.solvers.inequalities import reduce_inequalities\n",
        "reduce_inequalities(exp> 0, x).as_set()"
      ],
      "execution_count": 51,
      "outputs": [
        {
          "output_type": "execute_result",
          "data": {
            "image/png": "[encoded data removed]",
            "text/latex": "$\\displaystyle \\left(-1, 1\\right)$",
            "text/plain": [
              "(-1, 1)"
            ]
          },
          "metadata": {},
          "execution_count": 51
        }
      ]
    },
    {
      "cell_type": "markdown",
      "metadata": {
        "id": "6lJjRAVOVS8O"
      },
      "source": [
        "### **Ejemplo 5**: \n",
        "\n",
        "Hallar el intervalo donde es cóncava hacia arriba la función $F$ definida como:\n",
        "\n",
        "$$F(x) = \\int_{0}^{x}  \\! t^4+1 \\, dt$$"
      ]
    },
    {
      "cell_type": "code",
      "metadata": {
        "colab": {
          "base_uri": "https://localhost:8080/",
          "height": 38
        },
        "id": "f-elvXn1VmNb",
        "outputId": "aada56bd-f001-47d2-82ba-9646d70f5df2"
      },
      "source": [
        "F = integrate(t**4+1,(t,0,x))\n",
        "DF = diff(F)\n",
        "DF"
      ],
      "execution_count": 53,
      "outputs": [
        {
          "output_type": "execute_result",
          "data": {
            "image/png": "[encoded data removed]",
            "text/latex": "$\\displaystyle x^{4} + 1$",
            "text/plain": [
              " 4    \n",
              "x  + 1"
            ]
          },
          "metadata": {},
          "execution_count": 53
        }
      ]
    },
    {
      "cell_type": "code",
      "metadata": {
        "colab": {
          "base_uri": "https://localhost:8080/",
          "height": 38
        },
        "id": "oLS-tuZ3V2k-",
        "outputId": "17d0afd2-1047-48e4-9525-264f98ddbaef"
      },
      "source": [
        "DDF = diff(DF)\n",
        "DDF"
      ],
      "execution_count": 54,
      "outputs": [
        {
          "output_type": "execute_result",
          "data": {
            "image/png": "[encoded data removed]",
            "text/latex": "$\\displaystyle 4 x^{3}$",
            "text/plain": [
              "   3\n",
              "4⋅x "
            ]
          },
          "metadata": {},
          "execution_count": 54
        }
      ]
    },
    {
      "cell_type": "code",
      "metadata": {
        "colab": {
          "base_uri": "https://localhost:8080/",
          "height": 37
        },
        "id": "L-krm3jfWEao",
        "outputId": "a308eeb5-0de7-4c75-b167-8fc9552602f0"
      },
      "source": [
        "from sympy.solvers.inequalities import reduce_inequalities\n",
        "reduce_inequalities(DDF > 0, x).as_set()"
      ],
      "execution_count": 55,
      "outputs": [
        {
          "output_type": "execute_result",
          "data": {
            "image/png": "[encoded data removed]",
            "text/latex": "$\\displaystyle \\left(0, \\infty\\right)$",
            "text/plain": [
              "(0, ∞)"
            ]
          },
          "metadata": {},
          "execution_count": 55
        }
      ]
    },
    {
      "cell_type": "markdown",
      "metadata": {
        "id": "HNkZpi7iVE3C"
      },
      "source": [
        "## **CÓDIGO PARA INSERTAR VIDEOS EN COLAB**"
      ]
    },
    {
      "cell_type": "code",
      "metadata": {
        "id": "r5Cu55gfm_pd",
        "colab": {
          "base_uri": "https://localhost:8080/",
          "height": 320
        },
        "outputId": "cbcd1c10-6251-4a80-ff70-3ed4033aa2fa"
      },
      "source": [
        "from IPython.display import YouTubeVideo\n",
        "YouTubeVideo('_hFAwTtEMh8', width=400)"
      ],
      "execution_count": null,
      "outputs": [
        {
          "output_type": "execute_result",
          "data": {
            "text/html": [
              "\n",
              "        <iframe\n",
              "            width=\"400\"\n",
              "            height=\"300\"\n",
              "            src=\"https://www.youtube.com/embed/_hFAwTtEMh8\"\n",
              "            frameborder=\"0\"\n",
              "            allowfullscreen\n",
              "        ></iframe>\n",
              "        "
            ],
            "text/plain": [
              "<IPython.lib.display.YouTubeVideo at 0x7f6936376990>"
            ],
            "image/jpeg": "[encoded data removed]"
          },
          "metadata": {},
          "execution_count": 34
        }
      ]
    },
    {
      "cell_type": "code",
      "metadata": {
        "id": "IBo4AENLxs_x"
      },
      "source": [
        ""
      ],
      "execution_count": null,
      "outputs": []
    }
  ]
}