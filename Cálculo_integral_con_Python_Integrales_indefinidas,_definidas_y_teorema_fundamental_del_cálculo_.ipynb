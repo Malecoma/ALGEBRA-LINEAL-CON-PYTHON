{
  "nbformat": 4,
  "nbformat_minor": 0,
  "metadata": {
    "colab": {
      "name": "Cálculo integral con Python-Integrales indefinidas, definidas y teorema fundamental del cálculo .ipynb",
      "provenance": [],
      "collapsed_sections": [],
      "include_colab_link": true
    },
    "kernelspec": {
      "name": "python3",
      "display_name": "Python 3"
    }
  },
  "cells": [
    {
      "cell_type": "markdown",
      "metadata": {
        "id": "view-in-github",
        "colab_type": "text"
      },
      "source": [
        "<a href=\"https://colab.research.google.com/github/josorio398/ALGEBRA-LINEAL-CON-PYTHON/blob/master/C%C3%A1lculo_integral_con_Python_Integrales_indefinidas%2C_definidas_y_teorema_fundamental_del_c%C3%A1lculo_.ipynb\" target=\"_parent\"><img src=\"https://colab.research.google.com/assets/colab-badge.svg\" alt=\"Open In Colab\"/></a>"
      ]
    },
    {
      "cell_type": "markdown",
      "metadata": {
        "id": "RVxHpsbcExUD"
      },
      "source": [
        "<p><img alt=\"logo.fua\" height=\"100px\" src=\"https://www.uamerica.edu.co/wp-content/images/escudo.png\" align=\"left\" hspace=\"10px\" vspace=\"0px\"></p>\n",
        "\n",
        "<p><img alt=\"logo.fua\" height=\"26px\" src=\"https://mirrors.creativecommons.org/presskit/buttons/88x31/svg/by-nd.svg\" align=\"right\" hspace=\"0px\" vspace=\"11px\"></p>\n",
        "\n",
        "\n",
        "# <center> <font size=\"6\">**CALCULO INTEGRAL CON PYTHON** <center>*Jhonny Osorio Gallego* &nbsp; &nbsp; &nbsp;<p></font> \n",
        " "
      ]
    },
    {
      "cell_type": "markdown",
      "metadata": {
        "id": "pELON3yz_46g"
      },
      "source": [
        "# **INTEGRACIÓN CON MÓDULO SYMPY**"
      ]
    },
    {
      "cell_type": "markdown",
      "metadata": {
        "id": "U515Q-sM2m9k"
      },
      "source": [
        "## **LIBRERÍA SIMBÓLICA SYMPY**\n",
        "**SymPy** es una biblioteca de Python para matemáticas simbólicas. Su objetivo es convertirse en un sistema de álgebra computacional (CAS) con todas las funciones, manteniendo el código lo más simple posible para que sea comprensible y fácilmente extensible. SymPy está escrito completamente en Python.[sympy.org](https://www.sympy.org/en/index.html)"
      ]
    },
    {
      "cell_type": "code",
      "metadata": {
        "id": "4wHJ9dZ3405h"
      },
      "source": [
        "from sympy import *\n",
        "init_printing() \n",
        "x,y,z,q,u,t = symbols(\"x y z q u t\")"
      ],
      "execution_count": null,
      "outputs": []
    },
    {
      "cell_type": "markdown",
      "metadata": {
        "id": "LPNq31Fwyw1H"
      },
      "source": [
        "## **INTEGRACIÓN**\n",
        "\n",
        "## **Integrales indefinidas**\n",
        "\n",
        "#### *Cálculo de antiderivadas usando la función* **integrate(  )** de **SymPy**.\n",
        "\n",
        "### **Ejemplo 1**: \n",
        "Encuentra la antiderivada de la función $$f(x)=\\dfrac{1}{x}$$"
      ]
    },
    {
      "cell_type": "code",
      "metadata": {
        "id": "ALKGj_KK2klW",
        "colab": {
          "base_uri": "https://localhost:8080/",
          "height": 38
        },
        "outputId": "d39e7ae6-3dee-485b-90db-ba9b116b6648"
      },
      "source": [
        "integrate(1/x, x)"
      ],
      "execution_count": null,
      "outputs": [
        {
          "output_type": "execute_result",
          "data": {
            "image/png": "[encoded data removed]",
            "text/latex": "$$\\log{\\left (x \\right )}$$",
            "text/plain": [
              "log(x)"
            ]
          },
          "metadata": {
            "tags": []
          },
          "execution_count": 49
        }
      ]
    },
    {
      "cell_type": "markdown",
      "metadata": {
        "id": "mhzNJ6KYSE8V"
      },
      "source": [
        "#### *Cálculo de antiderivadas usando la función* **Integral(  )** de **SymPy**.\n",
        "\n",
        "### **Ejemplo 2**: \n",
        "\n",
        "Encuentra la antiderivada de la función $$f(x)=\\sin(x)$$"
      ]
    },
    {
      "cell_type": "code",
      "metadata": {
        "colab": {
          "base_uri": "https://localhost:8080/",
          "height": 38
        },
        "id": "AYLsgta0jAUJ",
        "outputId": "62ec8382-2505-4f17-f713-7868e8c7b78f"
      },
      "source": [
        "fx= sin(x)\n",
        "Integral(fx).doit()"
      ],
      "execution_count": null,
      "outputs": [
        {
          "output_type": "execute_result",
          "data": {
            "image/png": "[encoded data removed]",
            "text/latex": "$$- \\cos{\\left (x \\right )}$$",
            "text/plain": [
              "-cos(x)"
            ]
          },
          "metadata": {
            "tags": []
          },
          "execution_count": 23
        }
      ]
    },
    {
      "cell_type": "markdown",
      "metadata": {
        "id": "_BUnX2EzhIzW"
      },
      "source": [
        "## **Integrales definidas**\n",
        "\n",
        "#### *Cálculo de integrales definidas usando la función* **integrate(  )** de **SymPy**.\n",
        "\n",
        "### **Ejemplo 1**: \n",
        "Cálcula la siguiente integral definida \n",
        "$$\\int_{1}^{3}  \\! x^3 \\, dx = 8$$"
      ]
    },
    {
      "cell_type": "code",
      "metadata": {
        "colab": {
          "base_uri": "https://localhost:8080/",
          "height": 37
        },
        "id": "ATh4QqGkhc02",
        "outputId": "9399f66e-252d-4a08-f3ed-51d5141a7c16"
      },
      "source": [
        "integrate(x**3, (x,1,3))"
      ],
      "execution_count": null,
      "outputs": [
        {
          "output_type": "execute_result",
          "data": {
            "image/png": "[encoded data removed]",
            "text/latex": "$$20$$",
            "text/plain": [
              "20"
            ]
          },
          "metadata": {
            "tags": []
          },
          "execution_count": 21
        }
      ]
    },
    {
      "cell_type": "markdown",
      "metadata": {
        "id": "XM7nDnRCiwm4"
      },
      "source": [
        "#### *Cálculo de integrales definidas usando la función* **Integral(  )** de **SymPy**.\n",
        "\n",
        "### **Ejemplo 2**: \n",
        "\n",
        "Cálcula la siguinete integral definida \n",
        "$$\\int_{\\pi/4}^{3\\pi/2}  \\! \\sin(x) \\, dx = 8$$"
      ]
    },
    {
      "cell_type": "code",
      "metadata": {
        "colab": {
          "base_uri": "https://localhost:8080/",
          "height": 40
        },
        "id": "pWGKk8s6i5GE",
        "outputId": "dee35998-5357-4490-a079-3c13879d4c89"
      },
      "source": [
        "fx = sin(x)\n",
        "Integral(fx,(x,pi/4,3*pi/2)).doit()"
      ],
      "execution_count": null,
      "outputs": [
        {
          "output_type": "execute_result",
          "data": {
            "image/png": "[encoded data removed]",
            "text/latex": "$$\\frac{\\sqrt{2}}{2}$$",
            "text/plain": [
              "√2\n",
              "──\n",
              "2 "
            ]
          },
          "metadata": {
            "tags": []
          },
          "execution_count": 26
        }
      ]
    },
    {
      "cell_type": "code",
      "metadata": {
        "colab": {
          "base_uri": "https://localhost:8080/",
          "height": 36
        },
        "id": "FaoKy243EwFA",
        "outputId": "578dfd75-aca2-40f4-c09d-9876b5f6fc60"
      },
      "source": [
        "integrate(2*x, (x,1,2))"
      ],
      "execution_count": null,
      "outputs": [
        {
          "output_type": "execute_result",
          "data": {
            "image/png": "[encoded data removed]",
            "text/latex": "$\\displaystyle 3$",
            "text/plain": [
              "3"
            ]
          },
          "metadata": {
            "tags": []
          },
          "execution_count": 4
        }
      ]
    },
    {
      "cell_type": "code",
      "metadata": {
        "colab": {
          "base_uri": "https://localhost:8080/",
          "height": 51
        },
        "id": "Cf3MhOPIQG_I",
        "outputId": "9895347f-adcd-44be-c13c-06f44e6cc914"
      },
      "source": [
        "simplify(integrate(x*(3*x**2+1)**3, x) - (S(\"1/24\")*(3*x**2+1)**4))"
      ],
      "execution_count": null,
      "outputs": [
        {
          "output_type": "execute_result",
          "data": {
            "image/png": "[encoded data removed]",
            "text/latex": "$\\displaystyle - \\frac{1}{24}$",
            "text/plain": [
              "-1/24"
            ]
          },
          "metadata": {
            "tags": []
          },
          "execution_count": 13
        }
      ]
    },
    {
      "cell_type": "markdown",
      "metadata": {
        "id": "_PzKeijqyMaM"
      },
      "source": [
        "## **Teorema fundamental del cálculo**\n",
        "\n",
        "### **Ejemplo 1**: "
      ]
    },
    {
      "cell_type": "code",
      "metadata": {
        "colab": {
          "base_uri": "https://localhost:8080/",
          "height": 36
        },
        "id": "TE466OJn0Oua",
        "outputId": "ae94417a-cfd0-4bfd-dfe7-511d2faa5d53"
      },
      "source": [
        "ft = integrate(u**2, (u,1,sqrt(t)))\n",
        "diff(ft,t).subs(t,x).subs(x,2).evalf(10)"
      ],
      "execution_count": null,
      "outputs": [
        {
          "output_type": "execute_result",
          "data": {
            "image/png": "[encoded data removed]",
            "text/latex": "$\\displaystyle 0.7071067812$",
            "text/plain": [
              "0.7071067812"
            ]
          },
          "metadata": {
            "tags": []
          },
          "execution_count": 3
        }
      ]
    },
    {
      "cell_type": "markdown",
      "metadata": {
        "id": "vbTtwyc8yjzJ"
      },
      "source": [
        "### **Ejemplo 2**: "
      ]
    },
    {
      "cell_type": "code",
      "metadata": {
        "id": "sGgxGYYJ4-_E"
      },
      "source": [
        "Yx =  integrate(1/(t**2-1), (t,0,x))\n",
        "Yxd = simplify(diff(Yx))\n",
        "Yxdd= diff(Yxd)"
      ],
      "execution_count": null,
      "outputs": []
    },
    {
      "cell_type": "markdown",
      "metadata": {
        "id": "uClhlalAynKo"
      },
      "source": [
        "### **Ejemplo 3**: "
      ]
    },
    {
      "cell_type": "code",
      "metadata": {
        "colab": {
          "base_uri": "https://localhost:8080/",
          "height": 38
        },
        "id": "M-wpoEFmEylJ",
        "outputId": "32c8d963-0eb2-426f-f3bb-8a084e0fbacb"
      },
      "source": [
        "Fx =  integrate(t**3, (t,x**3,x**2))\n",
        "diff(Fx)"
      ],
      "execution_count": null,
      "outputs": [
        {
          "output_type": "execute_result",
          "data": {
            "image/png": "[encoded data removed]",
            "text/latex": "$\\displaystyle - 3 x^{11} + 2 x^{7}$",
            "text/plain": [
              "     11      7\n",
              "- 3⋅x   + 2⋅x "
            ]
          },
          "metadata": {
            "tags": []
          },
          "execution_count": 27
        }
      ]
    },
    {
      "cell_type": "code",
      "metadata": {
        "id": "EdkcKgXzXBrL"
      },
      "source": [
        ""
      ],
      "execution_count": null,
      "outputs": []
    },
    {
      "cell_type": "markdown",
      "metadata": {
        "id": "ZgazcKP3IEGF"
      },
      "source": [
        "## **Integración por fracciones parciales**"
      ]
    },
    {
      "cell_type": "code",
      "metadata": {
        "colab": {
          "base_uri": "https://localhost:8080/",
          "height": 55
        },
        "id": "N7D6mwXVILRt",
        "outputId": "7a27cba5-60e0-46b0-a31e-ab516f79e950"
      },
      "source": [
        "apart(x-1/(x**2-1),x)"
      ],
      "execution_count": null,
      "outputs": [
        {
          "output_type": "execute_result",
          "data": {
            "image/png": "[encoded data removed]",
            "text/latex": "$\\displaystyle x + \\frac{1}{2 \\left(x + 1\\right)} - \\frac{1}{2 \\left(x - 1\\right)}$",
            "text/plain": [
              "        1           1    \n",
              "x + ───────── - ─────────\n",
              "    2⋅(x + 1)   2⋅(x - 1)"
            ]
          },
          "metadata": {
            "tags": []
          },
          "execution_count": 3
        }
      ]
    },
    {
      "cell_type": "code",
      "metadata": {
        "colab": {
          "base_uri": "https://localhost:8080/",
          "height": 38
        },
        "id": "MUOo6gw8OhRF",
        "outputId": "35243c2f-9a05-4f8c-b3f7-bebce484eb56"
      },
      "source": [
        "factor(4*x**3 - 2*x**2+4)"
      ],
      "execution_count": null,
      "outputs": [
        {
          "output_type": "execute_result",
          "data": {
            "image/png": "[encoded data removed]",
            "text/latex": "$\\displaystyle 2 \\left(2 x^{3} - x^{2} + 2\\right)$",
            "text/plain": [
              "  ⎛   3    2    ⎞\n",
              "2⋅⎝2⋅x  - x  + 2⎠"
            ]
          },
          "metadata": {
            "tags": []
          },
          "execution_count": 4
        }
      ]
    },
    {
      "cell_type": "code",
      "metadata": {
        "colab": {
          "base_uri": "https://localhost:8080/",
          "height": 55
        },
        "id": "C1UAXQf6RsPK",
        "outputId": "4b85dddd-ce4c-48ef-b31c-766747675405"
      },
      "source": [
        "exp = (x**2)/((x**3)+1)\n",
        "exp\n",
        "\n",
        "apart(exp)"
      ],
      "execution_count": null,
      "outputs": [
        {
          "output_type": "execute_result",
          "data": {
            "image/png": "[encoded data removed]",
            "text/latex": "$\\displaystyle \\frac{2 x - 1}{3 \\left(x^{2} - x + 1\\right)} + \\frac{1}{3 \\left(x + 1\\right)}$",
            "text/plain": [
              "   2⋅x - 1           1    \n",
              "────────────── + ─────────\n",
              "  ⎛ 2        ⎞   3⋅(x + 1)\n",
              "3⋅⎝x  - x + 1⎠            "
            ]
          },
          "metadata": {
            "tags": []
          },
          "execution_count": 11
        }
      ]
    },
    {
      "cell_type": "code",
      "metadata": {
        "id": "r5Cu55gfm_pd"
      },
      "source": [
        "from IPython.display import YouTubeVideo\n",
        "YouTubeVideo('nUlwKXSI6sU', width=800, height=450)"
      ],
      "execution_count": null,
      "outputs": []
    }
  ]
}