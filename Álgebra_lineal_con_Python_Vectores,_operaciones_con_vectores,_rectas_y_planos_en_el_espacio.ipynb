{
  "nbformat": 4,
  "nbformat_minor": 0,
  "metadata": {
    "colab": {
      "name": "Álgebra lineal con Python- Vectores, operaciones con vectores, rectas y planos en el espacio.ipynb",
      "provenance": [],
      "collapsed_sections": [],
      "include_colab_link": true
    },
    "kernelspec": {
      "name": "python3",
      "display_name": "Python 3"
    }
  },
  "cells": [
    {
      "cell_type": "markdown",
      "metadata": {
        "id": "view-in-github",
        "colab_type": "text"
      },
      "source": [
        "<a href=\"https://colab.research.google.com/github/josorio398/ALGEBRA-LINEAL-CON-PYTHON/blob/master/%C3%81lgebra_lineal_con_Python_Vectores%2C_operaciones_con_vectores%2C_rectas_y_planos_en_el_espacio.ipynb\" target=\"_parent\"><img src=\"https://colab.research.google.com/assets/colab-badge.svg\" alt=\"Open In Colab\"/></a>"
      ]
    },
    {
      "cell_type": "markdown",
      "metadata": {
        "id": "RVxHpsbcExUD"
      },
      "source": [
        "<p><img alt=\"logo.fua\" height=\"100px\" src=\"https://www.uamerica.edu.co/wp-content/images/escudo.png\" align=\"left\" hspace=\"10px\" vspace=\"0px\"></p>\n",
        "\n",
        "<p><img alt=\"logo.fua\" height=\"26px\" src=\"https://mirrors.creativecommons.org/presskit/buttons/88x31/svg/by-nd.svg\" align=\"right\" hspace=\"0px\" vspace=\"11px\"></p>\n",
        "\n",
        "\n",
        "# <center> <font size=\"6\">**ÁLGEBRA LINEAL CON PYTHON** <center>*Jhonny Osorio Gallego &nbsp; &nbsp; &nbsp;<p>*</font> "
      ]
    },
    {
      "cell_type": "markdown",
      "metadata": {
        "id": "pELON3yz_46g"
      },
      "source": [
        "#**OPERACIONES CON VECTORES, RECTAS Y PLANOS EN EL ESPACIO**\n",
        "\n"
      ]
    },
    {
      "cell_type": "markdown",
      "metadata": {
        "id": "U515Q-sM2m9k"
      },
      "source": [
        "##**LIBRERÍA SIMBÓLICA SYMPY**\n",
        "**SymPy** es una biblioteca de Python para matemáticas simbólicas. Su objetivo es convertirse en un sistema de álgebra computacional (CAS) con todas las funciones, manteniendo el código lo más simple posible para que sea comprensible y fácilmente extensible. SymPy está escrito completamente en Python.[sympy.org](https://www.sympy.org/en/index.html)"
      ]
    },
    {
      "cell_type": "code",
      "metadata": {
        "id": "4wHJ9dZ3405h"
      },
      "source": [
        "from sympy import *\n",
        "init_printing() \n",
        "from sympy.physics.vector import *\n",
        "e = ReferenceFrame('e')\n",
        "x,y,z,A,B,C = symbols(\"x y z A B C \")\n"
      ],
      "execution_count": null,
      "outputs": []
    },
    {
      "cell_type": "markdown",
      "metadata": {
        "id": "7W2a1nKcMwME"
      },
      "source": [
        "#**DEFINICIÓN DE VECTOR EN SYMPY** \n",
        "\n",
        "<div>\n",
        "<h2><p><span><h2><strong>Vectores&nbsp;unidimensionales:&nbsp;</strong>son&nbsp;vectores&nbsp;que&nbsp;poseen&nbsp;una&nbsp;sola&nbsp;componente</h3></span></p>\n",
        "</div>\n",
        "<p></p>\n",
        "\n",
        "###**Ejemplo:** Define el vector  $\\vec{V} = \\langle 2 \\rangle = 2 \\hat{\\imath} $, cuya gráfica se presenta a continuación:\n",
        "\n",
        "\n",
        "<center><img src=\"https://github.com/josorio398/ALGEBRA-LINEAL-CON-PYTHON/blob/master/vector.png?raw=true\"  height=\"250\" />\n",
        "\n"
      ]
    },
    {
      "cell_type": "markdown",
      "metadata": {
        "id": "Qa5Lw7N1ZAYE"
      },
      "source": [
        "### **Forma 1** (como una matriz columna)"
      ]
    },
    {
      "cell_type": "code",
      "metadata": {
        "colab": {
          "base_uri": "https://localhost:8080/",
          "height": 38
        },
        "id": "-KtnbbUWD5GY",
        "outputId": "502ab3bc-976e-438c-b0b2-037c56940b97"
      },
      "source": [
        "A = Matrix([4])\n",
        "A"
      ],
      "execution_count": null,
      "outputs": [
        {
          "output_type": "execute_result",
          "data": {
            "text/latex": "$\\displaystyle \\left[\\begin{matrix}4\\end{matrix}\\right]$",
            "text/plain": [
              "[4]"
            ]
          },
          "metadata": {
            "tags": []
          },
          "execution_count": 2
        }
      ]
    },
    {
      "cell_type": "markdown",
      "metadata": {
        "id": "ELVNV_OOnZO6"
      },
      "source": [
        "### **Forma 2** (en términos de vectores unitarios)"
      ]
    },
    {
      "cell_type": "code",
      "metadata": {
        "colab": {
          "base_uri": "https://localhost:8080/",
          "height": 37
        },
        "id": "_TpMTgGuEVHU",
        "outputId": "acbb9e4f-db5c-4672-b5cc-55ce5dc9bdad"
      },
      "source": [
        "A = 4*e.x \n",
        "A"
      ],
      "execution_count": null,
      "outputs": [
        {
          "output_type": "execute_result",
          "data": {
            "image/png": "[encoded data removed]",
            "text/latex": "$\\displaystyle 4\\mathbf{\\hat{e}_x}$",
            "text/plain": [
              "4 e_x"
            ]
          },
          "metadata": {
            "tags": []
          },
          "execution_count": 24
        }
      ]
    },
    {
      "cell_type": "markdown",
      "metadata": {
        "id": "HHW4CLCGoia_"
      },
      "source": [
        "<div>\n",
        "<h2><p><span><h2><strong>Vectores&nbsp;bidimensionales:&nbsp;</strong>son&nbsp;vectores&nbsp;que&nbsp;poseen dos componentes</h3></span></p>\n",
        "</div>\n",
        "<p></p>\n",
        "\n",
        "###**Ejemplo:** Define el vector  $\\vec{V} = \\langle -2,3 \\rangle = -2 \\hat{\\imath} +3 \\hat{\\jmath} $, cuya gráfica se presenta a continuación:\n",
        "\n",
        "\n",
        "<center><img src=\"https://github.com/josorio398/ALGEBRA-LINEAL-CON-PYTHON/blob/master/vector%202.png?raw=true\"  height=\"200\" />\n",
        "\n"
      ]
    },
    {
      "cell_type": "markdown",
      "metadata": {
        "id": "Q91aZzB7oibF"
      },
      "source": [
        "### **Forma 1** (como una matriz columna)"
      ]
    },
    {
      "cell_type": "code",
      "metadata": {
        "colab": {
          "base_uri": "https://localhost:8080/",
          "height": 57
        },
        "id": "OAAiOBL0oibG",
        "outputId": "46d3b559-c0b8-4997-f7cd-317348614159"
      },
      "source": [
        "A = Matrix([-2,3])\n",
        "A"
      ],
      "execution_count": null,
      "outputs": [
        {
          "output_type": "execute_result",
          "data": {
            "text/latex": "$\\displaystyle \\left[\\begin{matrix}-2\\\\3\\end{matrix}\\right]$",
            "text/plain": [
              "⎡-2⎤\n",
              "⎢  ⎥\n",
              "⎣3 ⎦"
            ]
          },
          "metadata": {
            "tags": []
          },
          "execution_count": 3
        }
      ]
    },
    {
      "cell_type": "markdown",
      "metadata": {
        "id": "5A9ZNQnPoibI"
      },
      "source": [
        "### **Forma 2** (en términos de vectores unitarios)"
      ]
    },
    {
      "cell_type": "code",
      "metadata": {
        "colab": {
          "base_uri": "https://localhost:8080/",
          "height": 38
        },
        "id": "Ag_boYxpoibJ",
        "outputId": "c5751a7e-1c71-4e33-f124-bf6dc34af7a2"
      },
      "source": [
        "A = -2*e.x +3*e.y\n",
        "A"
      ],
      "execution_count": null,
      "outputs": [
        {
          "output_type": "execute_result",
          "data": {
            "image/png": "[encoded data removed]",
            "text/latex": "$\\displaystyle - 2\\mathbf{\\hat{e}_x} + 3\\mathbf{\\hat{e}_y}$",
            "text/plain": [
              "-2 e_x + 3 e_y"
            ]
          },
          "metadata": {
            "tags": []
          },
          "execution_count": 4
        }
      ]
    },
    {
      "cell_type": "markdown",
      "metadata": {
        "id": "h-y1jk6LvvFW"
      },
      "source": [
        "<div>\n",
        "<h2><p><span><h2><strong>Vectores&nbsp;tridimensionales:&nbsp;</strong>son&nbsp;vectores&nbsp;que&nbsp;poseen dos componentes</h3></span></p>\n",
        "</div>\n",
        "<p></p>\n",
        "\n",
        "###**Ejemplo:** Define el vector  $\\vec{V} = \\langle -2,3 \\rangle = -2 \\hat{\\imath} +3 \\hat{\\jmath} $, cuya gráfica se presenta a continuación:\n",
        "\n",
        "\n",
        "<center><img src=\"https://github.com/josorio398/ALGEBRA-LINEAL-CON-PYTHON/blob/master/vector%202.png?raw=true\"  height=\"200\" />\n",
        "\n"
      ]
    },
    {
      "cell_type": "markdown",
      "metadata": {
        "id": "EhY6npk_vvFZ"
      },
      "source": [
        "### **Forma 1** (como una matriz columna)"
      ]
    },
    {
      "cell_type": "code",
      "metadata": {
        "colab": {
          "base_uri": "https://localhost:8080/",
          "height": 57
        },
        "id": "TBRuq8IFvvFa",
        "outputId": "46d3b559-c0b8-4997-f7cd-317348614159"
      },
      "source": [
        "A = Matrix([-2,3])\n",
        "A"
      ],
      "execution_count": null,
      "outputs": [
        {
          "output_type": "execute_result",
          "data": {
            "text/latex": "$\\displaystyle \\left[\\begin{matrix}-2\\\\3\\end{matrix}\\right]$",
            "text/plain": [
              "⎡-2⎤\n",
              "⎢  ⎥\n",
              "⎣3 ⎦"
            ]
          },
          "metadata": {
            "tags": []
          },
          "execution_count": 3
        }
      ]
    },
    {
      "cell_type": "markdown",
      "metadata": {
        "id": "tRUkFYQzvvFc"
      },
      "source": [
        "### **Forma 2** (en términos de vectores unitarios)"
      ]
    },
    {
      "cell_type": "code",
      "metadata": {
        "colab": {
          "base_uri": "https://localhost:8080/",
          "height": 38
        },
        "id": "kQlJ2uw9vvFd",
        "outputId": "c5751a7e-1c71-4e33-f124-bf6dc34af7a2"
      },
      "source": [
        "A = -2*e.x +3*e.y\n",
        "A"
      ],
      "execution_count": null,
      "outputs": [
        {
          "output_type": "execute_result",
          "data": {
            "image/png": "[encoded data removed]",
            "text/latex": "$\\displaystyle - 2\\mathbf{\\hat{e}_x} + 3\\mathbf{\\hat{e}_y}$",
            "text/plain": [
              "-2 e_x + 3 e_y"
            ]
          },
          "metadata": {
            "tags": []
          },
          "execution_count": 4
        }
      ]
    }
  ]
}