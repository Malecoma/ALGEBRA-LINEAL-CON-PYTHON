{
  "nbformat": 4,
  "nbformat_minor": 0,
  "metadata": {
    "colab": {
      "name": "Álgebra lineal con Python- Vectores, operaciones con vectores, rectas y planos en el espacio.ipynb",
      "provenance": [],
      "collapsed_sections": [],
      "include_colab_link": true
    },
    "kernelspec": {
      "name": "python3",
      "display_name": "Python 3"
    }
  },
  "cells": [
    {
      "cell_type": "markdown",
      "metadata": {
        "id": "view-in-github",
        "colab_type": "text"
      },
      "source": [
        "<a href=\"https://colab.research.google.com/github/josorio398/ALGEBRA-LINEAL-CON-PYTHON/blob/master/%C3%81lgebra_lineal_con_Python_Vectores%2C_operaciones_con_vectores%2C_rectas_y_planos_en_el_espacio.ipynb\" target=\"_parent\"><img src=\"https://colab.research.google.com/assets/colab-badge.svg\" alt=\"Open In Colab\"/></a>"
      ]
    },
    {
      "cell_type": "markdown",
      "metadata": {
        "id": "RVxHpsbcExUD"
      },
      "source": [
        "<p><img alt=\"logo.fua\" height=\"100px\" src=\"https://www.uamerica.edu.co/wp-content/images/escudo.png\" align=\"left\" hspace=\"10px\" vspace=\"0px\"></p>\n",
        "\n",
        "<p><img alt=\"logo.fua\" height=\"26px\" src=\"https://mirrors.creativecommons.org/presskit/buttons/88x31/svg/by-nd.svg\" align=\"right\" hspace=\"0px\" vspace=\"11px\"></p>\n",
        "\n",
        "\n",
        "# <center> <font size=\"6\">**ÁLGEBRA LINEAL CON PYTHON** <center>*Jhonny Osorio Gallego &nbsp; &nbsp; &nbsp;<p>*</font> "
      ]
    },
    {
      "cell_type": "markdown",
      "metadata": {
        "id": "pELON3yz_46g"
      },
      "source": [
        "#**VECTORES, OPERACIONES CON VECTORES, RECTAS Y PLANOS EN EL ESPACIO**\n",
        "\n"
      ]
    },
    {
      "cell_type": "markdown",
      "metadata": {
        "id": "U515Q-sM2m9k"
      },
      "source": [
        "##**LIBRERÍA SIMBÓLICA SYMPY**\n",
        "**SymPy** es una biblioteca de Python para matemáticas simbólicas. Su objetivo es convertirse en un sistema de álgebra computacional (CAS) con todas las funciones, manteniendo el código lo más simple posible para que sea comprensible y fácilmente extensible. SymPy está escrito completamente en Python.[sympy.org](https://www.sympy.org/en/index.html)"
      ]
    },
    {
      "cell_type": "code",
      "metadata": {
        "id": "4wHJ9dZ3405h"
      },
      "source": [
        "from sympy import *\n",
        "from sympy.physics.vector import *\n",
        "e = ReferenceFrame('e')\n",
        "init_printing()\n",
        "x,y,z,A,B,C = symbols(\"x y z A B C \")\n"
      ],
      "execution_count": 2,
      "outputs": []
    },
    {
      "cell_type": "markdown",
      "metadata": {
        "id": "T3qeIP9FOkfL"
      },
      "source": [
        "#**DEFINICIÓN DE VECTOR**\n",
        "Un vector con dimensión $n$, es una $n$-tupla de números reales que pertenece a $\\mathbb {R} ^{n}$ en donde cada elemento de la  $n$-tupla recibe el nómbre de componente.\n",
        "\n",
        "De esta manera un vector $\\vec{V} \\in \\mathbb {R} ^{n}$ se nota cómo:\n",
        "\n",
        "$$\\vec{V} = (x_1,x_2,\\cdots,x_n) = x_1\\hat{e_1} + x_2\\hat{e_2} +\\cdots+ x_n\\hat{e_n}$$\n",
        "\n",
        "Donde  $\\hat{e_i}$ son los respectivos vectores unitarios para cada una de las componentes y donde $\\hat{e_1}= \\hat{\\imath} $,  $\\hat{e_2}= \\hat{\\jmath}$, $\\hat{e_3}= \\hat{k} $\n",
        " \n",
        "\n",
        "Cuando los vectores pertenecen a $\\mathbb {R} ^{n}$ con $n=1,2 \\hspace{0.2cm} \\text{o} \\hspace{0.2cm} 3$  podemos realizar **representaciones geométricas** de los mismos en la recta, el plano y el espacio respectivamente."
      ]
    },
    {
      "cell_type": "markdown",
      "metadata": {
        "id": "7W2a1nKcMwME"
      },
      "source": [
        "#**DEFINICIÓN DE VECTOR EN SYMPY** \n",
        "\n",
        "#**Vectores unidimensionales**\n",
        "Son vectores $\\vec{V} \\in \\mathbb {R}$ y poseen una sola componente, se notan como: \n",
        "\n",
        "$$\\vec{V} =  \\langle x \\rangle \\hspace{0.2cm} \\text{donde}    \\hspace{0.2cm} x \\in \\mathbb {R}$$\n",
        "\n",
        "\n",
        "\n",
        "\n",
        "###**Ejemplo:** \n",
        "Define el vector  $\\vec{V} = \\langle 2 \\rangle = 2 \\hat{\\imath} $ en SymPy cuya gráfica se presenta a continuación:\n",
        "\n",
        "\n",
        "<center><img src=\"https://github.com/josorio398/ALGEBRA-LINEAL-CON-PYTHON/blob/master/im%C3%A1genes%20repositorio/vector1.png?raw=true\"  height=\"200\" />\n",
        "\n"
      ]
    },
    {
      "cell_type": "markdown",
      "metadata": {
        "id": "Qa5Lw7N1ZAYE"
      },
      "source": [
        "### **Forma 1** (como una matriz columna)"
      ]
    },
    {
      "cell_type": "code",
      "metadata": {
        "colab": {
          "base_uri": "https://localhost:8080/",
          "height": 38
        },
        "id": "-KtnbbUWD5GY",
        "outputId": "1862593f-7219-428c-feda-2198a680145d"
      },
      "source": [
        "V = Matrix([2])\n",
        "V"
      ],
      "execution_count": 38,
      "outputs": [
        {
          "output_type": "execute_result",
          "data": {
            "text/latex": "$\\displaystyle \\left[\\begin{matrix}2\\end{matrix}\\right]$",
            "text/plain": [
              "[2]"
            ]
          },
          "metadata": {
            "tags": []
          },
          "execution_count": 38
        }
      ]
    },
    {
      "cell_type": "markdown",
      "metadata": {
        "id": "ELVNV_OOnZO6"
      },
      "source": [
        "### **Forma 2** (en términos de vectores unitarios)"
      ]
    },
    {
      "cell_type": "code",
      "metadata": {
        "colab": {
          "base_uri": "https://localhost:8080/",
          "height": 37
        },
        "id": "_TpMTgGuEVHU",
        "outputId": "b2f68379-48d8-41c6-f510-9952ee47e3ce"
      },
      "source": [
        "V = 2*e.x \n",
        "V"
      ],
      "execution_count": 39,
      "outputs": [
        {
          "output_type": "execute_result",
          "data": {
            "image/png": "[encoded data removed]",
            "text/latex": "$\\displaystyle 2\\mathbf{\\hat{e}_x}$",
            "text/plain": [
              "2 e_x"
            ]
          },
          "metadata": {
            "tags": []
          },
          "execution_count": 39
        }
      ]
    },
    {
      "cell_type": "markdown",
      "metadata": {
        "id": "HHW4CLCGoia_"
      },
      "source": [
        "#**Vectores bidimensionales**\n",
        "Son vectores $\\vec{V} \\in \\mathbb {R^2}$ y poseen dos componentes, se notan como: \n",
        "\n",
        "$$\\vec{V} =  \\langle x,y \\rangle \\hspace{0.2cm} \\text{donde}    \\hspace{0.2cm} x,y \\in \\mathbb {R}$$\n",
        "\n",
        "###**Ejemplo:** \n",
        "Define el vector  $\\vec{V} = \\langle -2,3 \\rangle = -2 \\hat{\\imath} + 3 \\hat{\\jmath} $ en SymPy cuya gráfica se presenta a continuación:\n",
        "\n",
        "<center><img src=\"https://github.com/josorio398/ALGEBRA-LINEAL-CON-PYTHON/blob/master/im%C3%A1genes%20repositorio/vector2d.png?raw=true\"  height=\"350\" />"
      ]
    },
    {
      "cell_type": "markdown",
      "metadata": {
        "id": "Q91aZzB7oibF"
      },
      "source": [
        "### **Forma 1** (como una matriz columna)"
      ]
    },
    {
      "cell_type": "code",
      "metadata": {
        "colab": {
          "base_uri": "https://localhost:8080/",
          "height": 57
        },
        "id": "OAAiOBL0oibG",
        "outputId": "33871336-cec0-48ce-b2d4-4fa184eb0764"
      },
      "source": [
        "A = Matrix([-2,3])\n",
        "A"
      ],
      "execution_count": null,
      "outputs": [
        {
          "output_type": "execute_result",
          "data": {
            "text/latex": "$\\displaystyle \\left[\\begin{matrix}-2\\\\3\\end{matrix}\\right]$",
            "text/plain": [
              "⎡-2⎤\n",
              "⎢  ⎥\n",
              "⎣3 ⎦"
            ]
          },
          "metadata": {
            "tags": []
          },
          "execution_count": 6
        }
      ]
    },
    {
      "cell_type": "markdown",
      "metadata": {
        "id": "5A9ZNQnPoibI"
      },
      "source": [
        "### **Forma 2** (en términos de vectores unitarios)"
      ]
    },
    {
      "cell_type": "code",
      "metadata": {
        "colab": {
          "base_uri": "https://localhost:8080/",
          "height": 38
        },
        "id": "Ag_boYxpoibJ",
        "outputId": "8bee3793-a46a-4a57-cfdb-4559295f4b48"
      },
      "source": [
        "V = -2*e.x +3*e.y\n",
        "V"
      ],
      "execution_count": null,
      "outputs": [
        {
          "output_type": "execute_result",
          "data": {
            "image/png": "[encoded data removed]",
            "text/latex": "$\\displaystyle - 2\\mathbf{\\hat{e}_x} + 3\\mathbf{\\hat{e}_y}$",
            "text/plain": [
              "-2 e_x + 3 e_y"
            ]
          },
          "metadata": {
            "tags": []
          },
          "execution_count": 8
        }
      ]
    },
    {
      "cell_type": "markdown",
      "metadata": {
        "id": "h-y1jk6LvvFW"
      },
      "source": [
        "#**Vectores tridimensionales**\n",
        "Son vectores $\\vec{V} \\in \\mathbb {R^3}$ y poseen tres componentes, se notan como: \n",
        "\n",
        "$$\\vec{V} =  \\langle x,y,z \\rangle \\hspace{0.2cm} \\text{donde}    \\hspace{0.2cm} x,y,z \\in \\mathbb {R}$$\n",
        "\n",
        "###**Ejemplo:** \n",
        "Define el vector  $\\vec{V} = \\langle 1,2,3 \\rangle = 1 \\hat{\\imath} + 2 \\hat{\\jmath} +3\\hat{k} $ en SymPy cuya gráfica se presenta a continuación:\n",
        "\n",
        "\n",
        "<center><img src=\"https://github.com/josorio398/ALGEBRA-LINEAL-CON-PYTHON/blob/master/im%C3%A1genes%20repositorio/vector3d.PNG?raw=true\"  height=\"250\" />\n",
        "\n",
        "\n",
        "\n",
        "\n",
        "\n"
      ]
    },
    {
      "cell_type": "markdown",
      "metadata": {
        "id": "EhY6npk_vvFZ"
      },
      "source": [
        "### **Forma 1** (como una matriz columna)"
      ]
    },
    {
      "cell_type": "code",
      "metadata": {
        "colab": {
          "base_uri": "https://localhost:8080/",
          "height": 78
        },
        "id": "TBRuq8IFvvFa",
        "outputId": "6c5e4d10-62e7-4bab-dfe4-21ec95c8e347"
      },
      "source": [
        "V = Matrix([1,2,3])\n",
        "V"
      ],
      "execution_count": null,
      "outputs": [
        {
          "output_type": "execute_result",
          "data": {
            "text/latex": "$\\displaystyle \\left[\\begin{matrix}1\\\\2\\\\3\\end{matrix}\\right]$",
            "text/plain": [
              "⎡1⎤\n",
              "⎢ ⎥\n",
              "⎢2⎥\n",
              "⎢ ⎥\n",
              "⎣3⎦"
            ]
          },
          "metadata": {
            "tags": []
          },
          "execution_count": 9
        }
      ]
    },
    {
      "cell_type": "markdown",
      "metadata": {
        "id": "tRUkFYQzvvFc"
      },
      "source": [
        "### **Forma 2** (en términos de vectores unitarios)"
      ]
    },
    {
      "cell_type": "code",
      "metadata": {
        "colab": {
          "base_uri": "https://localhost:8080/",
          "height": 38
        },
        "id": "kQlJ2uw9vvFd",
        "outputId": "f805570e-c8ec-42b9-afa3-ed188f2de5b8"
      },
      "source": [
        "V = 1*e.x +2*e.y +3*e.z\n",
        "V"
      ],
      "execution_count": null,
      "outputs": [
        {
          "output_type": "execute_result",
          "data": {
            "image/png": "[encoded data removed]",
            "text/latex": "$\\displaystyle \\mathbf{\\hat{e}_x} + 2\\mathbf{\\hat{e}_y} + 3\\mathbf{\\hat{e}_z}$",
            "text/plain": [
              "e_x + 2 e_y + 3 e_z"
            ]
          },
          "metadata": {
            "tags": []
          },
          "execution_count": 10
        }
      ]
    },
    {
      "cell_type": "markdown",
      "metadata": {
        "id": "7XkgUlQS5GgC"
      },
      "source": [
        "#**Vectores $n$ dimensionales**\n",
        "Son vectores $\\vec{V} \\in \\mathbb {R^n}$ con $n > 3$, se notan como: \n",
        "\n",
        "$$\\vec{V} =  \\langle x_1,x_2,\\cdots ,x_n \\rangle \\hspace{0.2cm} \\text{donde}    \\hspace{0.2cm} x_i \\in \\mathbb {R}$$\n",
        "\n",
        "###**Ejemplo:** \n",
        "Define el vector  $\\vec{V} = \\langle 1,2,3,4,5 \\rangle $ en SymPy."
      ]
    },
    {
      "cell_type": "markdown",
      "metadata": {
        "id": "JhmH1EpT5GgH"
      },
      "source": [
        "### **Forma 1** (como una matriz columna)"
      ]
    },
    {
      "cell_type": "code",
      "metadata": {
        "colab": {
          "base_uri": "https://localhost:8080/",
          "height": 119
        },
        "id": "IOnXruOb5GgI",
        "outputId": "bd2dba27-d926-46f6-f0b9-5c15de47fc7f"
      },
      "source": [
        "V = Matrix([1,2,3,4,5])\n",
        "V"
      ],
      "execution_count": null,
      "outputs": [
        {
          "output_type": "execute_result",
          "data": {
            "text/latex": "$\\displaystyle \\left[\\begin{matrix}1\\\\2\\\\3\\\\4\\\\5\\end{matrix}\\right]$",
            "text/plain": [
              "⎡1⎤\n",
              "⎢ ⎥\n",
              "⎢2⎥\n",
              "⎢ ⎥\n",
              "⎢3⎥\n",
              "⎢ ⎥\n",
              "⎢4⎥\n",
              "⎢ ⎥\n",
              "⎣5⎦"
            ]
          },
          "metadata": {
            "tags": []
          },
          "execution_count": 11
        }
      ]
    },
    {
      "cell_type": "markdown",
      "metadata": {
        "id": "JCv_p6O596gr"
      },
      "source": [
        "#**Traslación de un vector al origen en el plano**\n",
        "\n",
        "Sea $\\vec{V}$ el vector del plano que tiene como punto inicial $A = (x_A,y_A)$ y como punto final $B = (x_B,y_B) $ entonces podemos afirmar:\n",
        "\n",
        "$$\\vec{V} = (x_B-x_A,,y_B- y_A)$$\n",
        " \n",
        "### **Ejemplo:**\n",
        "Si $P = (4,2)$ y $Q = (7,6)$ halla las coordenadas del vector $\\vec{V}=\\vec{PQ}$\n",
        "\n",
        "\n",
        "<center><img src=\"https://github.com/josorio398/ALGEBRA-LINEAL-CON-PYTHON/blob/master/im%C3%A1genes%20repositorio/trasla1.png?raw=true\"  height=\"300\" />\n"
      ]
    },
    {
      "cell_type": "code",
      "metadata": {
        "colab": {
          "base_uri": "https://localhost:8080/",
          "height": 57
        },
        "id": "-89KgYaM-NUF",
        "outputId": "f1b70ee6-3565-4635-d492-8a142b46e7ed"
      },
      "source": [
        "P = (4,2)\n",
        "Q = (7,6)\n",
        "\n",
        "V = Matrix([Q[0]-P[0],Q[1]-P[1]])\n",
        "V"
      ],
      "execution_count": null,
      "outputs": [
        {
          "output_type": "execute_result",
          "data": {
            "text/latex": "$\\displaystyle \\left[\\begin{matrix}3\\\\4\\end{matrix}\\right]$",
            "text/plain": [
              "⎡3⎤\n",
              "⎢ ⎥\n",
              "⎣4⎦"
            ]
          },
          "metadata": {
            "tags": []
          },
          "execution_count": 2
        }
      ]
    },
    {
      "cell_type": "markdown",
      "metadata": {
        "id": "tNqERv3GGpVP"
      },
      "source": [
        "#**Traslación de un vector al origen en el espacio**\n",
        "\n",
        "Sea $\\vec{V}$ el vector del plano que tiene como punto inicial $A = (x_A,y_A,z_A)$ y como punto final $B = (x_B,y_B,z_B) $ entonces podemos afirmar:\n",
        "\n",
        "$$\\vec{V} = (x_B-x_A,,y_B- y_A,z_B- z_A)$$\n",
        " \n",
        "### **Ejemplo:**\n",
        "\n",
        "Si $P = (2,3,2)$ y $Q = (3,5,5)$ halla las coordenadas del vector $\\vec{V}=\\vec{PQ}$\n",
        "\n",
        "<center><img src=\"https://github.com/josorio398/ALGEBRA-LINEAL-CON-PYTHON/blob/master/im%C3%A1genes%20repositorio/trasla2.PNG?raw=true\"  height=\"300\" />\n"
      ]
    },
    {
      "cell_type": "code",
      "metadata": {
        "colab": {
          "base_uri": "https://localhost:8080/",
          "height": 78
        },
        "id": "kl25Ixi-GpVV",
        "outputId": "e6802395-4f5c-4f4a-b5c3-2e84e6862413"
      },
      "source": [
        "P = (2,3,2)\n",
        "Q = (3,5,5)\n",
        "\n",
        "V = Matrix([Q[0]-P[0],Q[1]-P[1],Q[2]-P[2]])\n",
        "V"
      ],
      "execution_count": 43,
      "outputs": [
        {
          "output_type": "execute_result",
          "data": {
            "text/latex": "$\\displaystyle \\left[\\begin{matrix}1\\\\2\\\\3\\end{matrix}\\right]$",
            "text/plain": [
              "⎡1⎤\n",
              "⎢ ⎥\n",
              "⎢2⎥\n",
              "⎢ ⎥\n",
              "⎣3⎦"
            ]
          },
          "metadata": {
            "tags": []
          },
          "execution_count": 43
        }
      ]
    },
    {
      "cell_type": "markdown",
      "metadata": {
        "id": "_NHC3psQeiTl"
      },
      "source": [
        "#**CARACTERISTICAS DE UN VECTOR GEOMÉTRICO**"
      ]
    },
    {
      "cell_type": "markdown",
      "metadata": {
        "id": "iE-pvRZfHCOV"
      },
      "source": [
        "# **Magnitud de un vector**\n",
        "\n",
        "Sea  $\\vec{V} \\in \\mathbb {R^n}$ de la forma $\\vec{V} = (x_1,x_2 \\cdots,x_n)$ el **módulo**, la **norma** o **magnitud** del vector se define y se nota como:\n",
        "\n",
        "$$||V||= \\sqrt{x_1^2+x_2^2+\\cdots+x_{n-1}^2+x_{n}^2}$$\n",
        "\n",
        "Cuando $n\\leq 3$ la **norma** conincide con la longitud del vector en su **representación gráfica**.\n",
        "\n",
        "##**Ejemplo 1:**\n",
        "\n",
        "Halla la **norma** del vector representado en la figura:\n",
        "\n",
        "<center><img src=\"https://github.com/josorio398/ALGEBRA-LINEAL-CON-PYTHON/blob/master/im%C3%A1genes%20repositorio/magnitud1.png?raw=true\"  height=\"150\" />\n",
        "\n",
        "\n",
        "\n"
      ]
    },
    {
      "cell_type": "markdown",
      "metadata": {
        "id": "BXzFfYnc7v0t"
      },
      "source": [
        "###**Forma 1**"
      ]
    },
    {
      "cell_type": "code",
      "metadata": {
        "colab": {
          "base_uri": "https://localhost:8080/",
          "height": 37
        },
        "id": "Ck1-yYOgrYRb",
        "outputId": "6d5cee35-7022-4a1f-a8c1-bb10d5e4bab0"
      },
      "source": [
        "V = Matrix([2])\n",
        "V.norm()"
      ],
      "execution_count": 36,
      "outputs": [
        {
          "output_type": "execute_result",
          "data": {
            "image/png": "[encoded data removed]",
            "text/latex": "$\\displaystyle 2$",
            "text/plain": [
              "2"
            ]
          },
          "metadata": {
            "tags": []
          },
          "execution_count": 36
        }
      ]
    },
    {
      "cell_type": "markdown",
      "metadata": {
        "id": "E9C_owmi79iz"
      },
      "source": [
        "###**Forma 2**"
      ]
    },
    {
      "cell_type": "code",
      "metadata": {
        "id": "YhyYFN-yHF2d",
        "colab": {
          "base_uri": "https://localhost:8080/",
          "height": 37
        },
        "outputId": "5506215f-853d-4529-9f07-9664e72a6d14"
      },
      "source": [
        "V = 2*e.x \n",
        "V.magnitude()"
      ],
      "execution_count": 37,
      "outputs": [
        {
          "output_type": "execute_result",
          "data": {
            "image/png": "[encoded data removed]",
            "text/latex": "$\\displaystyle 2$",
            "text/plain": [
              "2"
            ]
          },
          "metadata": {
            "tags": []
          },
          "execution_count": 37
        }
      ]
    },
    {
      "cell_type": "markdown",
      "metadata": {
        "id": "SyPHuE7L8bD9"
      },
      "source": [
        "##**Ejemplo 2:**\n",
        "\n",
        "Halla la **norma** del vector representado en la figura:\n",
        "\n",
        "<center><img src=\"https://github.com/josorio398/ALGEBRA-LINEAL-CON-PYTHON/blob/master/im%C3%A1genes%20repositorio/magnitud2d.png?raw=true\"  height=\"300\" />"
      ]
    },
    {
      "cell_type": "markdown",
      "metadata": {
        "id": "sQdLFyj6DGV2"
      },
      "source": [
        "###**Forma 1**"
      ]
    },
    {
      "cell_type": "code",
      "metadata": {
        "colab": {
          "base_uri": "https://localhost:8080/",
          "height": 38
        },
        "id": "KIy_FS9WDGWU",
        "outputId": "584816ef-b855-4a78-a27f-fbca532c8c0a"
      },
      "source": [
        "V = Matrix([-2,3])\n",
        "V.norm()"
      ],
      "execution_count": 43,
      "outputs": [
        {
          "output_type": "execute_result",
          "data": {
            "image/png": "[encoded data removed]",
            "text/latex": "$\\displaystyle \\sqrt{13}$",
            "text/plain": [
              "√13"
            ]
          },
          "metadata": {
            "tags": []
          },
          "execution_count": 43
        }
      ]
    },
    {
      "cell_type": "markdown",
      "metadata": {
        "id": "Khm_lWn-DGWZ"
      },
      "source": [
        "###**Forma 2**"
      ]
    },
    {
      "cell_type": "code",
      "metadata": {
        "colab": {
          "base_uri": "https://localhost:8080/",
          "height": 38
        },
        "id": "VhFiySyTDGWa",
        "outputId": "4dadda95-9bcf-4038-b1fe-f7f4500fd85b"
      },
      "source": [
        "V = -2*e.x+3*e.y \n",
        "V.magnitude()"
      ],
      "execution_count": 44,
      "outputs": [
        {
          "output_type": "execute_result",
          "data": {
            "image/png": "[encoded data removed]",
            "text/latex": "$\\displaystyle \\sqrt{13}$",
            "text/plain": [
              "√13"
            ]
          },
          "metadata": {
            "tags": []
          },
          "execution_count": 44
        }
      ]
    },
    {
      "cell_type": "markdown",
      "metadata": {
        "id": "s5kPYLZKFPxN"
      },
      "source": [
        "##**Ejemplo 3:**\n",
        "\n",
        "Halla la **norma** del vector representado en la figura:\n",
        "\n",
        "<center><img src=\"https://github.com/josorio398/ALGEBRA-LINEAL-CON-PYTHON/blob/master/im%C3%A1genes%20repositorio/magnitud3d.PNG?raw=true\"  height=\"300\" />"
      ]
    },
    {
      "cell_type": "markdown",
      "metadata": {
        "id": "kmrbyEL7FPxW"
      },
      "source": [
        "###**Forma 1**"
      ]
    },
    {
      "cell_type": "code",
      "metadata": {
        "colab": {
          "base_uri": "https://localhost:8080/",
          "height": 38
        },
        "id": "htDFXFL-FPxY",
        "outputId": "aa9b3161-ef2a-4873-8796-86b43ea28340"
      },
      "source": [
        "V = Matrix([1,2,3])\n",
        "V.norm()"
      ],
      "execution_count": 45,
      "outputs": [
        {
          "output_type": "execute_result",
          "data": {
            "image/png": "[encoded data removed]",
            "text/latex": "$\\displaystyle \\sqrt{14}$",
            "text/plain": [
              "√14"
            ]
          },
          "metadata": {
            "tags": []
          },
          "execution_count": 45
        }
      ]
    },
    {
      "cell_type": "markdown",
      "metadata": {
        "id": "J8NUwxubFPxa"
      },
      "source": [
        "###**Forma 2**"
      ]
    },
    {
      "cell_type": "code",
      "metadata": {
        "colab": {
          "base_uri": "https://localhost:8080/",
          "height": 38
        },
        "id": "FzOami5BFPxb",
        "outputId": "fe241b2b-11f1-400e-c382-824ac1ae4004"
      },
      "source": [
        "V = 1*e.x+2*e.y+3*e.z\n",
        "V.magnitude()"
      ],
      "execution_count": 46,
      "outputs": [
        {
          "output_type": "execute_result",
          "data": {
            "image/png": "[encoded data removed]",
            "text/latex": "$\\displaystyle \\sqrt{14}$",
            "text/plain": [
              "√14"
            ]
          },
          "metadata": {
            "tags": []
          },
          "execution_count": 46
        }
      ]
    },
    {
      "cell_type": "markdown",
      "metadata": {
        "id": "B4fTX5suOFQV"
      },
      "source": [
        "##**Ejemplo 4:**\n",
        "\n",
        "Halla la **norma** del vector \n",
        "\n",
        "$$\\vec{V} = \\langle 2,4,5,6 \\rangle $$"
      ]
    },
    {
      "cell_type": "markdown",
      "metadata": {
        "id": "EI7gZfI-OFQ2"
      },
      "source": [
        "###**Forma 1**"
      ]
    },
    {
      "cell_type": "code",
      "metadata": {
        "colab": {
          "base_uri": "https://localhost:8080/",
          "height": 37
        },
        "id": "A3SDbm51OFQ3",
        "outputId": "323f9674-a65e-4007-8db1-01e532da870c"
      },
      "source": [
        "V = Matrix([2,4,5,6])\n",
        "V.norm()"
      ],
      "execution_count": 47,
      "outputs": [
        {
          "output_type": "execute_result",
          "data": {
            "image/png": "[encoded data removed]",
            "text/latex": "$\\displaystyle 9$",
            "text/plain": [
              "9"
            ]
          },
          "metadata": {
            "tags": []
          },
          "execution_count": 47
        }
      ]
    },
    {
      "cell_type": "markdown",
      "metadata": {
        "id": "ojqsTiVYOFQ6"
      },
      "source": [
        "###**Forma 2**"
      ]
    },
    {
      "cell_type": "code",
      "metadata": {
        "colab": {
          "base_uri": "https://localhost:8080/",
          "height": 37
        },
        "id": "u7uF0R3MOFQ7",
        "outputId": "4b0e7278-6e70-45ca-e0ad-f51c1c2ef1b2"
      },
      "source": [
        "V = Matrix([2,4,5,6])\n",
        "sqrt(V[0]**2 + V[1]**2 + V[2]**2 + V[3]**2)"
      ],
      "execution_count": 48,
      "outputs": [
        {
          "output_type": "execute_result",
          "data": {
            "image/png": "[encoded data removed]",
            "text/latex": "$\\displaystyle 9$",
            "text/plain": [
              "9"
            ]
          },
          "metadata": {
            "tags": []
          },
          "execution_count": 48
        }
      ]
    },
    {
      "cell_type": "markdown",
      "metadata": {
        "id": "_WO4xlpDHIIb"
      },
      "source": [
        "#**Dirección de un vector en el plano**"
      ]
    },
    {
      "cell_type": "code",
      "metadata": {
        "id": "BBINbBoMHGwO"
      },
      "source": [
        ""
      ],
      "execution_count": null,
      "outputs": []
    },
    {
      "cell_type": "markdown",
      "metadata": {
        "id": "-2IdgyNEQdtU"
      },
      "source": [
        "#**Dirección de un vector en el espacio**"
      ]
    },
    {
      "cell_type": "code",
      "metadata": {
        "id": "ICVOfVmsQc69"
      },
      "source": [
        ""
      ],
      "execution_count": null,
      "outputs": []
    },
    {
      "cell_type": "markdown",
      "metadata": {
        "id": "2_MXZUkBPWcj"
      },
      "source": [
        "#**TIPOS DE VECTORES**\n",
        "\n",
        "#**Vector fila**\n",
        "Un **vector fila** o **vector renglón** es una matriz formada por una fila y $n$ entradas y por lo tanto de tamaño $1 \\times n$, de la forma:\n",
        "\n",
        "$$\\vec{V} = (x_1,x_2 \\cdots,x_n)$$\n",
        "\n",
        "###**Ejemplo 1:**"
      ]
    },
    {
      "cell_type": "code",
      "metadata": {
        "colab": {
          "base_uri": "https://localhost:8080/",
          "height": 38
        },
        "id": "4ign4rsVPfQn",
        "outputId": "3245e40d-9f61-4bb1-f8ab-f274855c56d2"
      },
      "source": [
        "V = Matrix(1,3,[4,5,6])\n",
        "V"
      ],
      "execution_count": null,
      "outputs": [
        {
          "output_type": "execute_result",
          "data": {
            "text/latex": "$\\displaystyle \\left[\\begin{matrix}4 & 5 & 6\\end{matrix}\\right]$",
            "text/plain": [
              "[4  5  6]"
            ]
          },
          "metadata": {
            "tags": []
          },
          "execution_count": 24
        }
      ]
    },
    {
      "cell_type": "markdown",
      "metadata": {
        "id": "LTs0f6WfV7F2"
      },
      "source": [
        "###**Ejemplo 2:** (vector fila aleatorio)"
      ]
    },
    {
      "cell_type": "code",
      "metadata": {
        "colab": {
          "base_uri": "https://localhost:8080/",
          "height": 38
        },
        "id": "CpWp-QepShs7",
        "outputId": "0067de97-67a8-4422-8f0d-78439cb59af7"
      },
      "source": [
        "V = randMatrix(1,4,min=-5, max=5)\n",
        "V"
      ],
      "execution_count": null,
      "outputs": [
        {
          "output_type": "execute_result",
          "data": {
            "text/latex": "$\\displaystyle \\left[\\begin{matrix}-1 & 4 & -2 & -2\\end{matrix}\\right]$",
            "text/plain": [
              "[-1  4  -2  -2]"
            ]
          },
          "metadata": {
            "tags": []
          },
          "execution_count": 26
        }
      ]
    },
    {
      "cell_type": "markdown",
      "metadata": {
        "id": "uSVxjyz2Wb8j"
      },
      "source": [
        "#**Vector columna**\n",
        "Un **vector columna** es una matriz formada por una columna y $n$ entradas y por lo tanto de  tamaño $n \\times 1$, de la forma:\n",
        "\n",
        "$$\\vec{V} = \\begin{pmatrix}x_1 \\\\ x_2 \\\\ \\vdots \\\\ x_n\\end{pmatrix} $$\n",
        "\n",
        "###**Ejemplo 1:**"
      ]
    },
    {
      "cell_type": "code",
      "metadata": {
        "colab": {
          "base_uri": "https://localhost:8080/",
          "height": 78
        },
        "id": "FNWOYb5AWb89",
        "outputId": "16cceda7-9e0b-4659-9293-bf83c4807c91"
      },
      "source": [
        "V = Matrix([2,5,7])\n",
        "V"
      ],
      "execution_count": null,
      "outputs": [
        {
          "output_type": "execute_result",
          "data": {
            "text/latex": "$\\displaystyle \\left[\\begin{matrix}2\\\\5\\\\7\\end{matrix}\\right]$",
            "text/plain": [
              "⎡2⎤\n",
              "⎢ ⎥\n",
              "⎢5⎥\n",
              "⎢ ⎥\n",
              "⎣7⎦"
            ]
          },
          "metadata": {
            "tags": []
          },
          "execution_count": 27
        }
      ]
    },
    {
      "cell_type": "markdown",
      "metadata": {
        "id": "7uOXIKJkWb9A"
      },
      "source": [
        "###**Ejemplo 2:** (vector columna aleatorio)"
      ]
    },
    {
      "cell_type": "code",
      "metadata": {
        "colab": {
          "base_uri": "https://localhost:8080/",
          "height": 98
        },
        "id": "Cs6dtzGLWb9B",
        "outputId": "4eee6ea2-59fc-4a14-b4d8-be44e9b27e0c"
      },
      "source": [
        "V = randMatrix(4,1,min=-5, max=5)\n",
        "V"
      ],
      "execution_count": null,
      "outputs": [
        {
          "output_type": "execute_result",
          "data": {
            "text/latex": "$\\displaystyle \\left[\\begin{matrix}5\\\\4\\\\5\\\\2\\end{matrix}\\right]$",
            "text/plain": [
              "⎡5⎤\n",
              "⎢ ⎥\n",
              "⎢4⎥\n",
              "⎢ ⎥\n",
              "⎢5⎥\n",
              "⎢ ⎥\n",
              "⎣2⎦"
            ]
          },
          "metadata": {
            "tags": []
          },
          "execution_count": 28
        }
      ]
    },
    {
      "cell_type": "markdown",
      "metadata": {
        "id": "JHtbQwaKYMSg"
      },
      "source": [
        "#**Vector nulo**\n",
        "un **vector nulo** o **vector cero** es un vector que posee módulo o mágnitud nula, se representa de la forma \n",
        "\n",
        "$$\\vec{0} = \\begin{pmatrix}0 \\\\ 0 \\\\ \\vdots \\\\ 0\\end{pmatrix} \\hspace{0.5cm} \\text{o} \\hspace{0.5cm} \\vec{0} = (0,0 \\cdots,0)$$\n",
        "\n",
        "respectivamente como **vector columna** o **vector fila**.\n",
        "\n",
        "###**Ejemplo 1:**"
      ]
    },
    {
      "cell_type": "code",
      "metadata": {
        "colab": {
          "base_uri": "https://localhost:8080/",
          "height": 38
        },
        "id": "UD7qvqn6Z_ox",
        "outputId": "152a7f39-7e6c-43c7-89fe-984a7aaa194a"
      },
      "source": [
        "O = zeros(1,4)\n",
        "O"
      ],
      "execution_count": null,
      "outputs": [
        {
          "output_type": "execute_result",
          "data": {
            "text/latex": "$\\displaystyle \\left[\\begin{matrix}0 & 0 & 0 & 0\\end{matrix}\\right]$",
            "text/plain": [
              "[0  0  0  0]"
            ]
          },
          "metadata": {
            "tags": []
          },
          "execution_count": 30
        }
      ]
    },
    {
      "cell_type": "markdown",
      "metadata": {
        "id": "YihUXGzXaPS2"
      },
      "source": [
        "###**Ejemplo 2:**"
      ]
    },
    {
      "cell_type": "code",
      "metadata": {
        "colab": {
          "base_uri": "https://localhost:8080/",
          "height": 78
        },
        "id": "rAhMdcdQabIv",
        "outputId": "811de7c4-c42a-42b8-fbcc-7c85ac44076a"
      },
      "source": [
        "O = zeros(3,1)\n",
        "O"
      ],
      "execution_count": null,
      "outputs": [
        {
          "output_type": "execute_result",
          "data": {
            "text/latex": "$\\displaystyle \\left[\\begin{matrix}0\\\\0\\\\0\\end{matrix}\\right]$",
            "text/plain": [
              "⎡0⎤\n",
              "⎢ ⎥\n",
              "⎢0⎥\n",
              "⎢ ⎥\n",
              "⎣0⎦"
            ]
          },
          "metadata": {
            "tags": []
          },
          "execution_count": 32
        }
      ]
    },
    {
      "cell_type": "markdown",
      "metadata": {
        "id": "W3hGZNPIf2DN"
      },
      "source": [
        "#**Vector unitario o versor**"
      ]
    },
    {
      "cell_type": "code",
      "metadata": {
        "id": "ItPELPRpf5JC"
      },
      "source": [
        ""
      ],
      "execution_count": null,
      "outputs": []
    }
  ]
}