{
  "nbformat": 4,
  "nbformat_minor": 0,
  "metadata": {
    "colab": {
      "name": "Álgebra lineal con Python- Vectores y operaciones con vectores.ipynb",
      "provenance": [],
      "collapsed_sections": [],
      "include_colab_link": true
    },
    "kernelspec": {
      "name": "python3",
      "display_name": "Python 3"
    }
  },
  "cells": [
    {
      "cell_type": "markdown",
      "metadata": {
        "id": "view-in-github",
        "colab_type": "text"
      },
      "source": [
        "<a href=\"https://colab.research.google.com/github/josorio398/ALGEBRA-LINEAL-CON-PYTHON/blob/master/%C3%81lgebra_lineal_con_Python_Vectores_y_operaciones_con_vectores.ipynb\" target=\"_parent\"><img src=\"https://colab.research.google.com/assets/colab-badge.svg\" alt=\"Open In Colab\"/></a>"
      ]
    },
    {
      "cell_type": "markdown",
      "metadata": {
        "id": "RVxHpsbcExUD"
      },
      "source": [
        "<p><img alt=\"logo.fua\" height=\"100px\" src=\"https://www.uamerica.edu.co/wp-content/images/escudo.png\" align=\"left\" hspace=\"10px\" vspace=\"0px\"></p>\n",
        "\n",
        "<p><img alt=\"logo.fua\" height=\"26px\" src=\"https://mirrors.creativecommons.org/presskit/buttons/88x31/svg/by-nd.svg\" align=\"right\" hspace=\"0px\" vspace=\"11px\"></p>\n",
        "\n",
        "\n",
        "# <center> <font size=\"6\">**ÁLGEBRA LINEAL CON PYTHON** <center>*Jhonny Osorio Gallego* &nbsp; &nbsp; &nbsp;&nbsp;&nbsp;&nbsp;&nbsp;<p></font> "
      ]
    },
    {
      "cell_type": "markdown",
      "metadata": {
        "id": "pELON3yz_46g"
      },
      "source": [
        "# **VECTORES Y OPERACIONES CON VECTORES**\n",
        "\n"
      ]
    },
    {
      "cell_type": "markdown",
      "metadata": {
        "id": "U515Q-sM2m9k"
      },
      "source": [
        "## **LIBRERÍA SIMBÓLICA SYMPY**\n",
        "**SymPy** es una biblioteca de Python para matemáticas simbólicas. Su objetivo es convertirse en un sistema de álgebra computacional (CAS) con todas las funciones, manteniendo el código lo más simple posible para que sea comprensible y fácilmente extensible. SymPy está escrito completamente en Python.[sympy.org](https://www.sympy.org/en/index.html)"
      ]
    },
    {
      "cell_type": "code",
      "metadata": {
        "id": "4wHJ9dZ3405h"
      },
      "source": [
        "from sympy import *\n",
        "from sympy.physics.vector import *\n",
        "\n",
        "e = ReferenceFrame('e')\n",
        "i = e.x \n",
        "j = e.y \n",
        "k = e.z\n",
        "\n",
        "init_printing()\n",
        "x,y,z,A,B,C = symbols(\"x y z A B C \")"
      ],
      "execution_count": 21,
      "outputs": []
    },
    {
      "cell_type": "markdown",
      "metadata": {
        "id": "7OJc3TGM7Nou"
      },
      "source": [
        "## **MÓDULO EXTERNO PARA LA GRAFICACIÓN DE VECTORES**\n",
        "\n",
        "El siguiente módulo permite la representación gráfica de vectores en el plano y el espacio y hace uso de la librería  de graficación **Plotly** y de arreglos multidimensionales **NumPy**, se crea como herramienta para una mejor comprensión de los conceptos vectoriales desde las actividades con el lenguaje de programación Python y se nombra como **plotvector**."
      ]
    },
    {
      "cell_type": "markdown",
      "metadata": {
        "id": "hR0Y0p5XBxuX"
      },
      "source": [
        "##**Clonamos el repositorio de álgebra lineal desde GitHub**"
      ]
    },
    {
      "cell_type": "code",
      "metadata": {
        "id": "DKBWba4FBw8r",
        "colab": {
          "base_uri": "https://localhost:8080/"
        },
        "outputId": "40d0595e-5913-41e9-fb98-c8d6ddd1edba"
      },
      "source": [
        "!git clone https://github.com/josorio398/ALGEBRA-LINEAL-CON-PYTHON"
      ],
      "execution_count": 2,
      "outputs": [
        {
          "output_type": "stream",
          "text": [
            "Cloning into 'ALGEBRA-LINEAL-CON-PYTHON'...\n",
            "remote: Enumerating objects: 493, done.\u001b[K\n",
            "remote: Counting objects: 100% (267/267), done.\u001b[K\n",
            "remote: Compressing objects: 100% (267/267), done.\u001b[K\n",
            "remote: Total 493 (delta 149), reused 0 (delta 0), pack-reused 226\u001b[K\n",
            "Receiving objects: 100% (493/493), 1.90 MiB | 18.31 MiB/s, done.\n",
            "Resolving deltas: 100% (264/264), done.\n"
          ],
          "name": "stdout"
        }
      ]
    },
    {
      "cell_type": "markdown",
      "metadata": {
        "id": "nU4zthk5Hwu2"
      },
      "source": [
        "##**Accedemos al directorio**"
      ]
    },
    {
      "cell_type": "code",
      "metadata": {
        "id": "Eccs0818Hvii"
      },
      "source": [
        "import sys\n",
        "sys.path.append('/content/ALGEBRA-LINEAL-CON-PYTHON')"
      ],
      "execution_count": 3,
      "outputs": []
    },
    {
      "cell_type": "markdown",
      "metadata": {
        "id": "zFIospgZbbyt"
      },
      "source": [
        "##**Importamos módulo de graficación plotvector**\n",
        "\n",
        "Importamos todas las funciones contenidas en el módulo de graficación llamado *plotvector*."
      ]
    },
    {
      "cell_type": "code",
      "metadata": {
        "id": "qFTvk5IkbKDn"
      },
      "source": [
        "from plotvector import *"
      ],
      "execution_count": null,
      "outputs": []
    },
    {
      "cell_type": "markdown",
      "metadata": {
        "id": "VlH4jywSYh0D"
      },
      "source": [
        "# **MAGNITUD FÍSICA**\n",
        "\n",
        "Son aquellas propiedades que poseen lo cuerpos f́ísicos y fenomenos que son susceptibles a ser medidas.\n",
        "\n",
        "**Ejemplos:**  *la longitud, la masa, el tiempo, la velocidad, la fuerza y la temperatura*.\n",
        "\n",
        "## **Magnitudes físicas escalares**\n",
        "\n",
        "Son aquellas que para su definición necesitan de un número real y una unidad de  medida.\n",
        "\n",
        "**Ejemplos:**  *la longitud, la masa, el tiempo y la temperatura*.\n",
        "\n",
        "\n",
        "## **Magnitudes físicas  vectoriales**\n",
        "\n",
        "Son aquellas que para su definición no solamente necesitan de un número real y una unidad de  medida, tambien se necesita especificar su dirección y sentido, para describirlas se usan los **vectores**.\n",
        "\n",
        "**Ejemplos:**  *el desplazamiento, la velocidad, la cantidad de movimiento y la fuerza*."
      ]
    },
    {
      "cell_type": "markdown",
      "metadata": {
        "id": "aH3zHVH7agru"
      },
      "source": [
        "# **DEFINICIÓN GEOMÉTRICA DE VECTOR**\n",
        "\n",
        "Se define como un segmento de recta dirigido,  entre sus caracteristicas podemos apreciar: *punto inicial, magnitud, dirección y sentido*.\n",
        "\n",
        "\n",
        "\n",
        "*   **Magnitud :** se define como la longitud del vector.\n",
        "*   **Dirección:** es la recta soporte, recta directriz o linea de acción que contiene al vector.\n",
        "*   **Sentido:** es la la punta de la flecha.\n",
        "\n",
        "El ángulo $\\theta$ que se mide respecto a una recta en particular determina  la dirreción y el sentido del vector.\n",
        "\n",
        "\n",
        "\n",
        "\n",
        "\n",
        "\n",
        "\n",
        "<center><img src=\"https://github.com/josorio398/ALGEBRA-LINEAL-CON-PYTHON/blob/master/im%C3%A1genes%20repositorio/vector%20geom%C3%A9trico%20final.png?raw=true\"  height=\"300\" />\n",
        "\n"
      ]
    },
    {
      "cell_type": "markdown",
      "metadata": {
        "id": "5t8sQsegyCDo"
      },
      "source": [
        "# **VECTORES IGUALES O EQUIVALENTES**\n",
        "\n",
        "La relación que permite determinar si dos vectores son equivalentes se llama **relación de equipolencia**, dos vectores o mas son equipolentes si tienen la misma *magnitud, dirección y sentido*.\n",
        "\n",
        "Decimos que dos vectores tienen la misma dirección si sus rectas directrices son paralelas.\n",
        "\n",
        "\n",
        "<center><img src=\"https://github.com/josorio398/ALGEBRA-LINEAL-CON-PYTHON/blob/master/im%C3%A1genes%20repositorio/igualdad%20vectores.png?raw=true\"  height=\"300\" /> </center>\n",
        "\n",
        "¿ Cuales de los siguientes vectores tienen la misma dirección, cuales tienen el mismo sentido, cuales tienen la misma magnitud y cuales son equipolentes?\n",
        "\n",
        "\n",
        "# **Equipolencia de vectores desde la física**\n",
        "\n",
        "Dos o más vectores son equipolentes cuando las magnitudes físicas que estos vectores describen tienen el mismo valor, las mismas unidades y producen los mismos efectos.\n",
        "\n",
        "# **Equipolencia de vectores desde la  representación geometrica-sintética**\n",
        "\n",
        "Decimos que dos vectores $\\overrightarrow{AB}$ y $\\overrightarrow{CD}$ son iguales o equipolentes, si al construir los segmentos $\\overline{AC}$ y $\\overline{CD}$ el cuadrilátero $ABCD$ es un paralelogramo.\n",
        "\n",
        "<center><img src=\"https://github.com/josorio398/ALGEBRA-LINEAL-CON-PYTHON/blob/master/im%C3%A1genes%20repositorio/Equipolencia%20sint%C3%A9tica.png?raw=true\"  height=\"200\" /> </center>\n",
        "\n",
        "\n",
        "# **Equipolencia de vectores desde la  representación geométrica-cartesiana**\n",
        "\n",
        "Decimos que dos vectores en el plano $\\overrightarrow{AB}$ y $\\overrightarrow{CD}$ donde $A = (A_x,A_y)$, $B = (B_x,B_y)$, $C= (C_x,C_y)$ y  $D= (D_x,D_y)$ son iguales, si se cumple:\n",
        "\n",
        "\n",
        "<center><img src=\"https://github.com/josorio398/ALGEBRA-LINEAL-CON-PYTHON/blob/master/im%C3%A1genes%20repositorio/equipolencia-cartesiana.png?raw=true\"  height=\"300\" /> </center>\n",
        "\n",
        "\n",
        "\n"
      ]
    },
    {
      "cell_type": "markdown",
      "metadata": {
        "id": "6AOFYb3vw2w_"
      },
      "source": [
        "#**Definición de un vector en la librería SymPy**\n",
        "\n",
        "En la libreria **SymPy** de python  un vector se define como una matriz columna, existen otras librerías como NumPy en donde se define como un arreglo, puede consultar en la documentación oficial [https://numpy.org/](https://numpy.org/)."
      ]
    },
    {
      "cell_type": "code",
      "metadata": {
        "colab": {
          "base_uri": "https://localhost:8080/",
          "height": 58
        },
        "id": "RJF9cU2kwsca",
        "outputId": "b112a6e3-0060-4e15-f3ca-4db81a2b8dea"
      },
      "source": [
        "A = Matrix([1,2])\n",
        "A"
      ],
      "execution_count": null,
      "outputs": [
        {
          "output_type": "execute_result",
          "data": {
            "text/latex": "$\\displaystyle \\left[\\begin{matrix}1\\\\2\\end{matrix}\\right]$",
            "text/plain": [
              "⎡1⎤\n",
              "⎢ ⎥\n",
              "⎣2⎦"
            ]
          },
          "metadata": {
            "tags": []
          },
          "execution_count": 12
        }
      ]
    },
    {
      "cell_type": "code",
      "metadata": {
        "colab": {
          "base_uri": "https://localhost:8080/",
          "height": 78
        },
        "id": "hgFSaymv3prJ",
        "outputId": "d058e3f7-cfca-432c-8cc5-df666f25dfad"
      },
      "source": [
        "A = Matrix([1,2,3])\n",
        "A"
      ],
      "execution_count": null,
      "outputs": [
        {
          "output_type": "execute_result",
          "data": {
            "text/latex": "$\\displaystyle \\left[\\begin{matrix}1\\\\2\\\\3\\end{matrix}\\right]$",
            "text/plain": [
              "⎡1⎤\n",
              "⎢ ⎥\n",
              "⎢2⎥\n",
              "⎢ ⎥\n",
              "⎣3⎦"
            ]
          },
          "metadata": {
            "tags": []
          },
          "execution_count": 13
        }
      ]
    },
    {
      "cell_type": "markdown",
      "metadata": {
        "id": "j_P1C8zGSBLA"
      },
      "source": [
        "#**TRASLACIÓN DE UN VECTORES AL ORIGEN**\n",
        "\n",
        "# **Traslación en el plano**\n",
        "\n",
        "Sea $\\vec{V}$ el vector del plano que tiene como punto inicial $A = (A_x,A_y)$ y como punto final $B = (B_x,B_y) $ entonces podemos afirmar:\n",
        "\n",
        "$$\\vec{V} = (B_x-A_x,B_y- A_y)$$\n",
        "\n",
        "\n",
        "<center><img src=\"https://github.com/josorio398/ALGEBRA-LINEAL-CON-PYTHON/blob/master/im%C3%A1genes%20repositorio/vector%20fijo%20-plano.png?raw=true\"  height=\"300\" /></center>\n",
        " \n",
        "### **Ejemplo:**\n",
        "Si $P = (4,2)$ y $Q = (7,6)$ halla las coordenadas del vector $\\vec{V}=\\vec{PQ}$\n",
        "\n",
        "\n",
        "<center><img src=\"https://github.com/josorio398/ALGEBRA-LINEAL-CON-PYTHON/blob/master/im%C3%A1genes%20repositorio/trasla1.png?raw=true\"  height=\"300\" />\n"
      ]
    },
    {
      "cell_type": "code",
      "metadata": {
        "colab": {
          "base_uri": "https://localhost:8080/",
          "height": 58
        },
        "id": "W8KkKzEhSBLB",
        "outputId": "82f2e5c4-6205-4906-b27e-42a59f9fee88"
      },
      "source": [
        "P = (4,2)\n",
        "Q = (7,6)\n",
        "\n",
        "V = Matrix([Q[0]-P[0],Q[1]-P[1]])\n",
        "V"
      ],
      "execution_count": null,
      "outputs": [
        {
          "output_type": "execute_result",
          "data": {
            "text/latex": "$\\displaystyle \\left[\\begin{matrix}3\\\\4\\end{matrix}\\right]$",
            "text/plain": [
              "⎡3⎤\n",
              "⎢ ⎥\n",
              "⎣4⎦"
            ]
          },
          "metadata": {
            "tags": []
          },
          "execution_count": 6
        }
      ]
    },
    {
      "cell_type": "markdown",
      "metadata": {
        "id": "Rj-9lFoRSBLD"
      },
      "source": [
        "## **Representación gráfica de la traslación en el plano** "
      ]
    },
    {
      "cell_type": "code",
      "metadata": {
        "colab": {
          "base_uri": "https://localhost:8080/",
          "height": 497
        },
        "id": "TNG5n4f4SBLE",
        "outputId": "12580a48-3b74-4362-a526-f303be1152c7"
      },
      "source": [
        "plotvectors2D([(4,2),(7,6)],(3,4))"
      ],
      "execution_count": null,
      "outputs": [
        {
          "output_type": "display_data",
          "data": {
            "text/html": [
              "<html>\n",
              "<head><meta charset=\"utf-8\" /></head>\n",
              "<body>\n",
              "    <div>\n",
              "            <script src=\"https://cdnjs.cloudflare.com/ajax/libs/mathjax/2.7.5/MathJax.js?config=TeX-AMS-MML_SVG\"></script><script type=\"text/javascript\">if (window.MathJax) {MathJax.Hub.Config({SVG: {font: \"STIX-Web\"}});}</script>\n",
              "                <script type=\"text/javascript\">window.PlotlyConfig = {MathJaxConfig: 'local'};</script>\n",
              "        <script src=\"https://cdn.plot.ly/plotly-latest.min.js\"></script>    \n",
              "            <div id=\"7a70bc89-c1db-4593-b565-20cb108e07dc\" class=\"plotly-graph-div\" style=\"height:480px; width:500px;\"></div>\n",
              "            <script type=\"text/javascript\">\n",
              "                \n",
              "                    window.PLOTLYENV=window.PLOTLYENV || {};\n",
              "                    \n",
              "                if (document.getElementById(\"7a70bc89-c1db-4593-b565-20cb108e07dc\")) {\n",
              "                    Plotly.newPlot(\n",
              "                        '7a70bc89-c1db-4593-b565-20cb108e07dc',\n",
              "                        [{\"marker\": {\"color\": \"rgb(230,29,89)\", \"size\": 8}, \"mode\": \"lines\", \"name\": \"vector 1\", \"showlegend\": true, \"type\": \"scatter\", \"x\": [4, 7], \"y\": [2, 6]}, {\"marker\": {\"color\": \"rgb(69,82,22)\", \"size\": 8}, \"mode\": \"lines\", \"name\": \"vector 2\", \"showlegend\": true, \"type\": \"scatter\", \"x\": [0, 3], \"y\": [0, 4]}, {\"marker\": {\"color\": \"#2a3f5f\", \"size\": 9}, \"mode\": \"markers\", \"name\": \"origen\", \"opacity\": 1, \"showlegend\": true, \"type\": \"scatter\", \"x\": [0], \"y\": [0]}],\n",
              "                        {\"annotations\": [{\"arrowcolor\": \"rgb(230,29,89)\", \"arrowhead\": 2, \"arrowsize\": 1.5, \"arrowwidth\": 2.3, \"ax\": 4, \"axref\": \"x\", \"ay\": 2, \"ayref\": \"y\", \"showarrow\": true, \"x\": 7, \"xref\": \"x\", \"y\": 6, \"yref\": \"y\"}, {\"arrowcolor\": \"rgb(69,82,22)\", \"arrowhead\": 2, \"arrowsize\": 1.5, \"arrowwidth\": 2.3, \"ax\": 0.0, \"axref\": \"x\", \"ay\": 0.0, \"ayref\": \"y\", \"showarrow\": true, \"x\": 3, \"xref\": \"x\", \"y\": 4, \"yref\": \"y\"}, {\"arrowcolor\": \"#2a3f5f\", \"arrowhead\": 2, \"arrowwidth\": 1.5, \"ax\": -0.54, \"axref\": \"x\", \"ay\": 0, \"ayref\": \"y\", \"x\": 7.5, \"xref\": \"x\", \"y\": 0, \"yref\": \"y\"}, {\"arrowcolor\": \"#2a3f5f\", \"arrowhead\": 2, \"arrowwidth\": 1.5, \"ax\": 0, \"axref\": \"x\", \"ay\": -0.54, \"ayref\": \"y\", \"x\": 0, \"xref\": \"x\", \"y\": 6.5, \"yref\": \"y\"}, {\"arrowhead\": 1, \"showarrow\": false, \"text\": \"$x$\", \"x\": 7.5, \"y\": -0.2}, {\"arrowhead\": 1, \"showarrow\": false, \"text\": \"$y$\", \"x\": -0.2, \"y\": 6.5}], \"font\": {\"color\": \"black\", \"family\": \"latex\", \"size\": 20}, \"height\": 480, \"legend\": {\"itemdoubleclick\": \"toggle\", \"orientation\": \"h\", \"x\": 1, \"xanchor\": \"right\", \"y\": 1.02, \"yanchor\": \"bottom\"}, \"showlegend\": true, \"template\": {\"data\": {\"bar\": [{\"error_x\": {\"color\": \"#2a3f5f\"}, \"error_y\": {\"color\": \"#2a3f5f\"}, \"marker\": {\"line\": {\"color\": \"#E5ECF6\", \"width\": 0.5}}, \"type\": \"bar\"}], \"barpolar\": [{\"marker\": {\"line\": {\"color\": \"#E5ECF6\", \"width\": 0.5}}, \"type\": \"barpolar\"}], \"carpet\": [{\"aaxis\": {\"endlinecolor\": \"#2a3f5f\", \"gridcolor\": \"white\", \"linecolor\": \"white\", \"minorgridcolor\": \"white\", \"startlinecolor\": \"#2a3f5f\"}, \"baxis\": {\"endlinecolor\": \"#2a3f5f\", \"gridcolor\": \"white\", \"linecolor\": \"white\", \"minorgridcolor\": \"white\", \"startlinecolor\": \"#2a3f5f\"}, \"type\": \"carpet\"}], \"choropleth\": [{\"colorbar\": {\"outlinewidth\": 0, \"ticks\": \"\"}, \"type\": \"choropleth\"}], \"contour\": [{\"colorbar\": {\"outlinewidth\": 0, \"ticks\": \"\"}, \"colorscale\": [[0.0, \"#0d0887\"], [0.1111111111111111, \"#46039f\"], [0.2222222222222222, \"#7201a8\"], [0.3333333333333333, \"#9c179e\"], [0.4444444444444444, \"#bd3786\"], [0.5555555555555556, \"#d8576b\"], [0.6666666666666666, \"#ed7953\"], [0.7777777777777778, \"#fb9f3a\"], [0.8888888888888888, \"#fdca26\"], [1.0, \"#f0f921\"]], \"type\": \"contour\"}], \"contourcarpet\": [{\"colorbar\": {\"outlinewidth\": 0, \"ticks\": \"\"}, \"type\": \"contourcarpet\"}], \"heatmap\": [{\"colorbar\": {\"outlinewidth\": 0, \"ticks\": \"\"}, \"colorscale\": [[0.0, \"#0d0887\"], [0.1111111111111111, \"#46039f\"], [0.2222222222222222, \"#7201a8\"], [0.3333333333333333, \"#9c179e\"], [0.4444444444444444, \"#bd3786\"], [0.5555555555555556, \"#d8576b\"], [0.6666666666666666, \"#ed7953\"], [0.7777777777777778, \"#fb9f3a\"], [0.8888888888888888, \"#fdca26\"], [1.0, \"#f0f921\"]], \"type\": \"heatmap\"}], \"heatmapgl\": [{\"colorbar\": {\"outlinewidth\": 0, \"ticks\": \"\"}, \"colorscale\": [[0.0, \"#0d0887\"], [0.1111111111111111, \"#46039f\"], [0.2222222222222222, \"#7201a8\"], [0.3333333333333333, \"#9c179e\"], [0.4444444444444444, \"#bd3786\"], [0.5555555555555556, \"#d8576b\"], [0.6666666666666666, \"#ed7953\"], [0.7777777777777778, \"#fb9f3a\"], [0.8888888888888888, \"#fdca26\"], [1.0, \"#f0f921\"]], \"type\": \"heatmapgl\"}], \"histogram\": [{\"marker\": {\"colorbar\": {\"outlinewidth\": 0, \"ticks\": \"\"}}, \"type\": \"histogram\"}], \"histogram2d\": [{\"colorbar\": {\"outlinewidth\": 0, \"ticks\": \"\"}, \"colorscale\": [[0.0, \"#0d0887\"], [0.1111111111111111, \"#46039f\"], [0.2222222222222222, \"#7201a8\"], [0.3333333333333333, \"#9c179e\"], [0.4444444444444444, \"#bd3786\"], [0.5555555555555556, \"#d8576b\"], [0.6666666666666666, \"#ed7953\"], [0.7777777777777778, \"#fb9f3a\"], [0.8888888888888888, \"#fdca26\"], [1.0, \"#f0f921\"]], \"type\": \"histogram2d\"}], \"histogram2dcontour\": [{\"colorbar\": {\"outlinewidth\": 0, \"ticks\": \"\"}, \"colorscale\": [[0.0, \"#0d0887\"], [0.1111111111111111, \"#46039f\"], [0.2222222222222222, \"#7201a8\"], [0.3333333333333333, \"#9c179e\"], [0.4444444444444444, \"#bd3786\"], [0.5555555555555556, \"#d8576b\"], [0.6666666666666666, \"#ed7953\"], [0.7777777777777778, \"#fb9f3a\"], [0.8888888888888888, \"#fdca26\"], [1.0, \"#f0f921\"]], \"type\": \"histogram2dcontour\"}], \"mesh3d\": [{\"colorbar\": {\"outlinewidth\": 0, \"ticks\": \"\"}, \"type\": \"mesh3d\"}], \"parcoords\": [{\"line\": {\"colorbar\": {\"outlinewidth\": 0, \"ticks\": \"\"}}, \"type\": \"parcoords\"}], \"pie\": [{\"automargin\": true, \"type\": \"pie\"}], \"scatter\": [{\"marker\": {\"colorbar\": {\"outlinewidth\": 0, \"ticks\": \"\"}}, \"type\": \"scatter\"}], \"scatter3d\": [{\"line\": {\"colorbar\": {\"outlinewidth\": 0, \"ticks\": \"\"}}, \"marker\": {\"colorbar\": {\"outlinewidth\": 0, \"ticks\": \"\"}}, \"type\": \"scatter3d\"}], \"scattercarpet\": [{\"marker\": {\"colorbar\": {\"outlinewidth\": 0, \"ticks\": \"\"}}, \"type\": \"scattercarpet\"}], \"scattergeo\": [{\"marker\": {\"colorbar\": {\"outlinewidth\": 0, \"ticks\": \"\"}}, \"type\": \"scattergeo\"}], \"scattergl\": [{\"marker\": {\"colorbar\": {\"outlinewidth\": 0, \"ticks\": \"\"}}, \"type\": \"scattergl\"}], \"scattermapbox\": [{\"marker\": {\"colorbar\": {\"outlinewidth\": 0, \"ticks\": \"\"}}, \"type\": \"scattermapbox\"}], \"scatterpolar\": [{\"marker\": {\"colorbar\": {\"outlinewidth\": 0, \"ticks\": \"\"}}, \"type\": \"scatterpolar\"}], \"scatterpolargl\": [{\"marker\": {\"colorbar\": {\"outlinewidth\": 0, \"ticks\": \"\"}}, \"type\": \"scatterpolargl\"}], \"scatterternary\": [{\"marker\": {\"colorbar\": {\"outlinewidth\": 0, \"ticks\": \"\"}}, \"type\": \"scatterternary\"}], \"surface\": [{\"colorbar\": {\"outlinewidth\": 0, \"ticks\": \"\"}, \"colorscale\": [[0.0, \"#0d0887\"], [0.1111111111111111, \"#46039f\"], [0.2222222222222222, \"#7201a8\"], [0.3333333333333333, \"#9c179e\"], [0.4444444444444444, \"#bd3786\"], [0.5555555555555556, \"#d8576b\"], [0.6666666666666666, \"#ed7953\"], [0.7777777777777778, \"#fb9f3a\"], [0.8888888888888888, \"#fdca26\"], [1.0, \"#f0f921\"]], \"type\": \"surface\"}], \"table\": [{\"cells\": {\"fill\": {\"color\": \"#EBF0F8\"}, \"line\": {\"color\": \"white\"}}, \"header\": {\"fill\": {\"color\": \"#C8D4E3\"}, \"line\": {\"color\": \"white\"}}, \"type\": \"table\"}]}, \"layout\": {\"annotationdefaults\": {\"arrowcolor\": \"#2a3f5f\", \"arrowhead\": 0, \"arrowwidth\": 1}, \"coloraxis\": {\"colorbar\": {\"outlinewidth\": 0, \"ticks\": \"\"}}, \"colorscale\": {\"diverging\": [[0, \"#8e0152\"], [0.1, \"#c51b7d\"], [0.2, \"#de77ae\"], [0.3, \"#f1b6da\"], [0.4, \"#fde0ef\"], [0.5, \"#f7f7f7\"], [0.6, \"#e6f5d0\"], [0.7, \"#b8e186\"], [0.8, \"#7fbc41\"], [0.9, \"#4d9221\"], [1, \"#276419\"]], \"sequential\": [[0.0, \"#0d0887\"], [0.1111111111111111, \"#46039f\"], [0.2222222222222222, \"#7201a8\"], [0.3333333333333333, \"#9c179e\"], [0.4444444444444444, \"#bd3786\"], [0.5555555555555556, \"#d8576b\"], [0.6666666666666666, \"#ed7953\"], [0.7777777777777778, \"#fb9f3a\"], [0.8888888888888888, \"#fdca26\"], [1.0, \"#f0f921\"]], \"sequentialminus\": [[0.0, \"#0d0887\"], [0.1111111111111111, \"#46039f\"], [0.2222222222222222, \"#7201a8\"], [0.3333333333333333, \"#9c179e\"], [0.4444444444444444, \"#bd3786\"], [0.5555555555555556, \"#d8576b\"], [0.6666666666666666, \"#ed7953\"], [0.7777777777777778, \"#fb9f3a\"], [0.8888888888888888, \"#fdca26\"], [1.0, \"#f0f921\"]]}, \"colorway\": [\"#636efa\", \"#EF553B\", \"#00cc96\", \"#ab63fa\", \"#FFA15A\", \"#19d3f3\", \"#FF6692\", \"#B6E880\", \"#FF97FF\", \"#FECB52\"], \"font\": {\"color\": \"#2a3f5f\"}, \"geo\": {\"bgcolor\": \"white\", \"lakecolor\": \"white\", \"landcolor\": \"#E5ECF6\", \"showlakes\": true, \"showland\": true, \"subunitcolor\": \"white\"}, \"hoverlabel\": {\"align\": \"left\"}, \"hovermode\": \"closest\", \"mapbox\": {\"style\": \"light\"}, \"paper_bgcolor\": \"white\", \"plot_bgcolor\": \"#E5ECF6\", \"polar\": {\"angularaxis\": {\"gridcolor\": \"white\", \"linecolor\": \"white\", \"ticks\": \"\"}, \"bgcolor\": \"#E5ECF6\", \"radialaxis\": {\"gridcolor\": \"white\", \"linecolor\": \"white\", \"ticks\": \"\"}}, \"scene\": {\"xaxis\": {\"backgroundcolor\": \"#E5ECF6\", \"gridcolor\": \"white\", \"gridwidth\": 2, \"linecolor\": \"white\", \"showbackground\": true, \"ticks\": \"\", \"zerolinecolor\": \"white\"}, \"yaxis\": {\"backgroundcolor\": \"#E5ECF6\", \"gridcolor\": \"white\", \"gridwidth\": 2, \"linecolor\": \"white\", \"showbackground\": true, \"ticks\": \"\", \"zerolinecolor\": \"white\"}, \"zaxis\": {\"backgroundcolor\": \"#E5ECF6\", \"gridcolor\": \"white\", \"gridwidth\": 2, \"linecolor\": \"white\", \"showbackground\": true, \"ticks\": \"\", \"zerolinecolor\": \"white\"}}, \"shapedefaults\": {\"line\": {\"color\": \"#2a3f5f\"}}, \"ternary\": {\"aaxis\": {\"gridcolor\": \"white\", \"linecolor\": \"white\", \"ticks\": \"\"}, \"baxis\": {\"gridcolor\": \"white\", \"linecolor\": \"white\", \"ticks\": \"\"}, \"bgcolor\": \"#E5ECF6\", \"caxis\": {\"gridcolor\": \"white\", \"linecolor\": \"white\", \"ticks\": \"\"}}, \"title\": {\"x\": 0.05}, \"xaxis\": {\"automargin\": true, \"gridcolor\": \"white\", \"linecolor\": \"white\", \"ticks\": \"\", \"title\": {\"standoff\": 15}, \"zerolinecolor\": \"white\", \"zerolinewidth\": 2}, \"yaxis\": {\"automargin\": true, \"gridcolor\": \"white\", \"linecolor\": \"white\", \"ticks\": \"\", \"title\": {\"standoff\": 15}, \"zerolinecolor\": \"white\", \"zerolinewidth\": 2}}}, \"title\": {\"font\": {\"color\": \"rgb(1,21,51)\", \"size\": 30}}, \"width\": 500, \"xaxis\": {\"range\": [-0.5, 7.5], \"showgrid\": true, \"title\": {\"font\": {\"color\": \"rgb(1,21,51)\", \"family\": \"latex\", \"size\": 30}, \"text\": \"$\\\\large{x}$\"}}, \"yaxis\": {\"range\": [-0.4, 6.5], \"showgrid\": true, \"title\": {\"font\": {\"color\": \"rgb(1,21,51)\", \"family\": \"latex\", \"size\": 30}, \"text\": \"$\\\\large{y}$\"}}},\n",
              "                        {\"responsive\": true}\n",
              "                    ).then(function(){\n",
              "                            \n",
              "var gd = document.getElementById('7a70bc89-c1db-4593-b565-20cb108e07dc');\n",
              "var x = new MutationObserver(function (mutations, observer) {{\n",
              "        var display = window.getComputedStyle(gd).display;\n",
              "        if (!display || display === 'none') {{\n",
              "            console.log([gd, 'removed!']);\n",
              "            Plotly.purge(gd);\n",
              "            observer.disconnect();\n",
              "        }}\n",
              "}});\n",
              "\n",
              "// Listen for the removal of the full notebook cells\n",
              "var notebookContainer = gd.closest('#notebook-container');\n",
              "if (notebookContainer) {{\n",
              "    x.observe(notebookContainer, {childList: true});\n",
              "}}\n",
              "\n",
              "// Listen for the clearing of the current output cell\n",
              "var outputEl = gd.closest('.output');\n",
              "if (outputEl) {{\n",
              "    x.observe(outputEl, {childList: true});\n",
              "}}\n",
              "\n",
              "                        })\n",
              "                };\n",
              "                \n",
              "            </script>\n",
              "        </div>\n",
              "</body>\n",
              "</html>"
            ]
          },
          "metadata": {
            "tags": []
          }
        }
      ]
    },
    {
      "cell_type": "markdown",
      "metadata": {
        "id": "-RzUwGB-SBLE"
      },
      "source": [
        "#**Traslación en el espacio**\n",
        "\n",
        "Sea $\\vec{V}$ el vector del plano que tiene como punto inicial $A = (A_x,A_y,A_z)$ y como punto final $B = (B_x,B_y,B_z) $ entonces podemos afirmar:\n",
        "\n",
        "$$\\vec{V} = (B_x-A_x,B_y-A_y,B_z- A_z)$$\n",
        "\n",
        "<center><img src=\"https://github.com/josorio398/ALGEBRA-LINEAL-CON-PYTHON/blob/master/im%C3%A1genes%20repositorio/vector%20fijo%20-espacio.png?raw=true\"  height=\"300\" /></center>\n",
        " \n",
        "### **Ejemplo:**\n",
        "\n",
        "Si $P = (2,3,2)$ y $Q = (3,5,5)$ halla las coordenadas del vector $\\vec{V}=\\vec{PQ}$\n",
        "\n",
        "<center><img src=\"https://github.com/josorio398/ALGEBRA-LINEAL-CON-PYTHON/blob/master/im%C3%A1genes%20repositorio/trasla2.PNG?raw=true\"  height=\"300\" />\n"
      ]
    },
    {
      "cell_type": "code",
      "metadata": {
        "colab": {
          "base_uri": "https://localhost:8080/",
          "height": 78
        },
        "id": "CgyiEuCMSBLF",
        "outputId": "69f13175-8aad-43af-db71-8092d5a1daed"
      },
      "source": [
        "P = (2,3,2)\n",
        "Q = (3,5,5)\n",
        "\n",
        "V = Matrix([Q[0]-P[0],Q[1]-P[1],Q[2]-P[2]])\n",
        "V"
      ],
      "execution_count": null,
      "outputs": [
        {
          "output_type": "execute_result",
          "data": {
            "text/latex": "$\\displaystyle \\left[\\begin{matrix}1\\\\2\\\\3\\end{matrix}\\right]$",
            "text/plain": [
              "⎡1⎤\n",
              "⎢ ⎥\n",
              "⎢2⎥\n",
              "⎢ ⎥\n",
              "⎣3⎦"
            ]
          },
          "metadata": {
            "tags": []
          },
          "execution_count": 21
        }
      ]
    },
    {
      "cell_type": "markdown",
      "metadata": {
        "id": "DnHdTVq6SBLG"
      },
      "source": [
        "## **Representación gráfica de la traslación en el espacio** "
      ]
    },
    {
      "cell_type": "code",
      "metadata": {
        "colab": {
          "base_uri": "https://localhost:8080/",
          "height": 497
        },
        "id": "0NizXmMfSBLH",
        "outputId": "cddf4c44-3e41-429a-dd74-c3c0ddc6b618"
      },
      "source": [
        "plotvectors3D([(2,3,2),(3,5,5)],[1,2,3])"
      ],
      "execution_count": null,
      "outputs": [
        {
          "output_type": "display_data",
          "data": {
            "text/html": [
              "<html>\n",
              "<head><meta charset=\"utf-8\" /></head>\n",
              "<body>\n",
              "    <div>\n",
              "            <script src=\"https://cdnjs.cloudflare.com/ajax/libs/mathjax/2.7.5/MathJax.js?config=TeX-AMS-MML_SVG\"></script><script type=\"text/javascript\">if (window.MathJax) {MathJax.Hub.Config({SVG: {font: \"STIX-Web\"}});}</script>\n",
              "                <script type=\"text/javascript\">window.PlotlyConfig = {MathJaxConfig: 'local'};</script>\n",
              "        <script src=\"https://cdn.plot.ly/plotly-latest.min.js\"></script>    \n",
              "            <div id=\"fb345c36-d9f8-43d5-be9a-c296ccf2193d\" class=\"plotly-graph-div\" style=\"height:480px; width:480px;\"></div>\n",
              "            <script type=\"text/javascript\">\n",
              "                \n",
              "                    window.PLOTLYENV=window.PLOTLYENV || {};\n",
              "                    \n",
              "                if (document.getElementById(\"fb345c36-d9f8-43d5-be9a-c296ccf2193d\")) {\n",
              "                    Plotly.newPlot(\n",
              "                        'fb345c36-d9f8-43d5-be9a-c296ccf2193d',\n",
              "                        [{\"hoverinfo\": \"name+text\", \"hovertext\": \"Tail=(2,3,2)\\nHead=(3,5,5)\", \"line\": {\"color\": \"rgb(4,115,34)\", \"width\": 7}, \"marker\": {\"color\": \"rgb(4,115,34)\", \"size\": 1}, \"name\": \"vector 1\", \"type\": \"scatter3d\", \"x\": [2, 3], \"y\": [3, 5], \"z\": [2, 5]}, {\"anchor\": \"cm\", \"colorbar\": {\"thickness\": 20, \"ticklen\": 4}, \"colorscale\": [[0, \"rgb(4,115,34)\"], [1, \"rgb(4,115,34)\"]], \"hoverinfo\": \"skip\", \"name\": \"vector 1\", \"showscale\": false, \"sizemode\": \"absolute\", \"sizeref\": 0.43333333333333335, \"type\": \"cone\", \"u\": [0.5], \"v\": [1.0], \"w\": [1.5], \"x\": [2.937], \"y\": [4.874], \"z\": [4.811]}, {\"line\": {\"color\": \"rgb(144,83,222)\", \"width\": 7}, \"marker\": {\"color\": \"rgb(144,83,222)\", \"size\": 1}, \"name\": \"vector 2\", \"type\": \"scatter3d\", \"x\": [0, 1], \"y\": [0, 2], \"z\": [0, 3]}, {\"anchor\": \"cm\", \"colorbar\": {\"thickness\": 20, \"ticklen\": 4}, \"colorscale\": [[0, \"rgb(144,83,222)\"], [1, \"rgb(144,83,222)\"]], \"name\": \"vector 2\", \"showscale\": false, \"sizemode\": \"absolute\", \"sizeref\": 0.43333333333333335, \"type\": \"cone\", \"u\": [1], \"v\": [2], \"w\": [3], \"x\": [1], \"y\": [2], \"z\": [3]}, {\"marker\": {\"color\": \"#2a3f5f\", \"size\": 5}, \"mode\": \"markers\", \"name\": \"origen\", \"showlegend\": true, \"type\": \"scatter3d\", \"x\": [0], \"y\": [0], \"z\": [0]}, {\"hoverinfo\": \"skip\", \"line\": {\"color\": \"#2a3f5f\", \"width\": 3}, \"marker\": {\"color\": \"#2a3f5f\", \"size\": 1}, \"name\": \"\", \"showlegend\": false, \"type\": \"scatter3d\", \"x\": [-0.43333333333333335, 3.4333333333333336], \"y\": [0, 0], \"z\": [0, 0]}, {\"anchor\": \"cm\", \"colorbar\": {\"thickness\": 20, \"ticklen\": 4}, \"colorscale\": [[0, \"#2a3f5f\"], [1, \"#2a3f5f\"]], \"hoverinfo\": \"name\", \"name\": \"Eje x-positivo\", \"showscale\": false, \"sizemode\": \"absolute\", \"sizeref\": 0.26, \"type\": \"cone\", \"u\": [3.4333333333333336], \"v\": [0], \"w\": [0], \"x\": [3.4333333333333336], \"y\": [0], \"z\": [0]}, {\"hoverinfo\": \"skip\", \"line\": {\"color\": \"#2a3f5f\", \"width\": 3}, \"marker\": {\"color\": \"#2a3f5f\", \"size\": 1}, \"name\": \"\", \"showlegend\": false, \"type\": \"scatter3d\", \"x\": [0, 0], \"y\": [-0.43333333333333335, 5.433333333333334], \"z\": [0, 0]}, {\"anchor\": \"cm\", \"colorbar\": {\"thickness\": 20, \"ticklen\": 4}, \"colorscale\": [[0, \"#2a3f5f\"], [1, \"#2a3f5f\"]], \"hoverinfo\": \"name\", \"name\": \"Eje y-positivo \", \"showscale\": false, \"sizemode\": \"absolute\", \"sizeref\": 0.26, \"type\": \"cone\", \"u\": [0], \"v\": [5.433333333333334], \"w\": [0], \"x\": [0], \"y\": [5.433333333333334], \"z\": [0]}, {\"hoverinfo\": \"skip\", \"line\": {\"color\": \"#2a3f5f\", \"width\": 3}, \"marker\": {\"color\": \"#2a3f5f\", \"size\": 1}, \"name\": \"eje z-positivo\", \"showlegend\": false, \"type\": \"scatter3d\", \"x\": [0, 0], \"y\": [0, 0], \"z\": [-0.7333333333333334, 5.433333333333334]}, {\"anchor\": \"cm\", \"colorbar\": {\"thickness\": 20, \"ticklen\": 4}, \"colorscale\": [[0, \"#2a3f5f\"], [1, \"#2a3f5f\"]], \"hoverinfo\": \"name\", \"name\": \"Eje z-positivo\", \"showscale\": false, \"sizemode\": \"absolute\", \"sizeref\": 0.26, \"type\": \"cone\", \"u\": [0], \"v\": [0], \"w\": [5.433333333333334], \"x\": [0], \"y\": [0], \"z\": [5.433333333333334]}],\n",
              "                        {\"height\": 480, \"legend\": {\"orientation\": \"h\", \"x\": 0.03, \"y\": 1.3}, \"margin\": {\"b\": 0, \"l\": 0, \"r\": 0, \"t\": 0}, \"showlegend\": true, \"template\": {\"data\": {\"bar\": [{\"error_x\": {\"color\": \"#2a3f5f\"}, \"error_y\": {\"color\": \"#2a3f5f\"}, \"marker\": {\"line\": {\"color\": \"#E5ECF6\", \"width\": 0.5}}, \"type\": \"bar\"}], \"barpolar\": [{\"marker\": {\"line\": {\"color\": \"#E5ECF6\", \"width\": 0.5}}, \"type\": \"barpolar\"}], \"carpet\": [{\"aaxis\": {\"endlinecolor\": \"#2a3f5f\", \"gridcolor\": \"white\", \"linecolor\": \"white\", \"minorgridcolor\": \"white\", \"startlinecolor\": \"#2a3f5f\"}, \"baxis\": {\"endlinecolor\": \"#2a3f5f\", \"gridcolor\": \"white\", \"linecolor\": \"white\", \"minorgridcolor\": \"white\", \"startlinecolor\": \"#2a3f5f\"}, \"type\": \"carpet\"}], \"choropleth\": [{\"colorbar\": {\"outlinewidth\": 0, \"ticks\": \"\"}, \"type\": \"choropleth\"}], \"contour\": [{\"colorbar\": {\"outlinewidth\": 0, \"ticks\": \"\"}, \"colorscale\": [[0.0, \"#0d0887\"], [0.1111111111111111, \"#46039f\"], [0.2222222222222222, \"#7201a8\"], [0.3333333333333333, \"#9c179e\"], [0.4444444444444444, \"#bd3786\"], [0.5555555555555556, \"#d8576b\"], [0.6666666666666666, \"#ed7953\"], [0.7777777777777778, \"#fb9f3a\"], [0.8888888888888888, \"#fdca26\"], [1.0, \"#f0f921\"]], \"type\": \"contour\"}], \"contourcarpet\": [{\"colorbar\": {\"outlinewidth\": 0, \"ticks\": \"\"}, \"type\": \"contourcarpet\"}], \"heatmap\": [{\"colorbar\": {\"outlinewidth\": 0, \"ticks\": \"\"}, \"colorscale\": [[0.0, \"#0d0887\"], [0.1111111111111111, \"#46039f\"], [0.2222222222222222, \"#7201a8\"], [0.3333333333333333, \"#9c179e\"], [0.4444444444444444, \"#bd3786\"], [0.5555555555555556, \"#d8576b\"], [0.6666666666666666, \"#ed7953\"], [0.7777777777777778, \"#fb9f3a\"], [0.8888888888888888, \"#fdca26\"], [1.0, \"#f0f921\"]], \"type\": \"heatmap\"}], \"heatmapgl\": [{\"colorbar\": {\"outlinewidth\": 0, \"ticks\": \"\"}, \"colorscale\": [[0.0, \"#0d0887\"], [0.1111111111111111, \"#46039f\"], [0.2222222222222222, \"#7201a8\"], [0.3333333333333333, \"#9c179e\"], [0.4444444444444444, \"#bd3786\"], [0.5555555555555556, \"#d8576b\"], [0.6666666666666666, \"#ed7953\"], [0.7777777777777778, \"#fb9f3a\"], [0.8888888888888888, \"#fdca26\"], [1.0, \"#f0f921\"]], \"type\": \"heatmapgl\"}], \"histogram\": [{\"marker\": {\"colorbar\": {\"outlinewidth\": 0, \"ticks\": \"\"}}, \"type\": \"histogram\"}], \"histogram2d\": [{\"colorbar\": {\"outlinewidth\": 0, \"ticks\": \"\"}, \"colorscale\": [[0.0, \"#0d0887\"], [0.1111111111111111, \"#46039f\"], [0.2222222222222222, \"#7201a8\"], [0.3333333333333333, \"#9c179e\"], [0.4444444444444444, \"#bd3786\"], [0.5555555555555556, \"#d8576b\"], [0.6666666666666666, \"#ed7953\"], [0.7777777777777778, \"#fb9f3a\"], [0.8888888888888888, \"#fdca26\"], [1.0, \"#f0f921\"]], \"type\": \"histogram2d\"}], \"histogram2dcontour\": [{\"colorbar\": {\"outlinewidth\": 0, \"ticks\": \"\"}, \"colorscale\": [[0.0, \"#0d0887\"], [0.1111111111111111, \"#46039f\"], [0.2222222222222222, \"#7201a8\"], [0.3333333333333333, \"#9c179e\"], [0.4444444444444444, \"#bd3786\"], [0.5555555555555556, \"#d8576b\"], [0.6666666666666666, \"#ed7953\"], [0.7777777777777778, \"#fb9f3a\"], [0.8888888888888888, \"#fdca26\"], [1.0, \"#f0f921\"]], \"type\": \"histogram2dcontour\"}], \"mesh3d\": [{\"colorbar\": {\"outlinewidth\": 0, \"ticks\": \"\"}, \"type\": \"mesh3d\"}], \"parcoords\": [{\"line\": {\"colorbar\": {\"outlinewidth\": 0, \"ticks\": \"\"}}, \"type\": \"parcoords\"}], \"pie\": [{\"automargin\": true, \"type\": \"pie\"}], \"scatter\": [{\"marker\": {\"colorbar\": {\"outlinewidth\": 0, \"ticks\": \"\"}}, \"type\": \"scatter\"}], \"scatter3d\": [{\"line\": {\"colorbar\": {\"outlinewidth\": 0, \"ticks\": \"\"}}, \"marker\": {\"colorbar\": {\"outlinewidth\": 0, \"ticks\": \"\"}}, \"type\": \"scatter3d\"}], \"scattercarpet\": [{\"marker\": {\"colorbar\": {\"outlinewidth\": 0, \"ticks\": \"\"}}, \"type\": \"scattercarpet\"}], \"scattergeo\": [{\"marker\": {\"colorbar\": {\"outlinewidth\": 0, \"ticks\": \"\"}}, \"type\": \"scattergeo\"}], \"scattergl\": [{\"marker\": {\"colorbar\": {\"outlinewidth\": 0, \"ticks\": \"\"}}, \"type\": \"scattergl\"}], \"scattermapbox\": [{\"marker\": {\"colorbar\": {\"outlinewidth\": 0, \"ticks\": \"\"}}, \"type\": \"scattermapbox\"}], \"scatterpolar\": [{\"marker\": {\"colorbar\": {\"outlinewidth\": 0, \"ticks\": \"\"}}, \"type\": \"scatterpolar\"}], \"scatterpolargl\": [{\"marker\": {\"colorbar\": {\"outlinewidth\": 0, \"ticks\": \"\"}}, \"type\": \"scatterpolargl\"}], \"scatterternary\": [{\"marker\": {\"colorbar\": {\"outlinewidth\": 0, \"ticks\": \"\"}}, \"type\": \"scatterternary\"}], \"surface\": [{\"colorbar\": {\"outlinewidth\": 0, \"ticks\": \"\"}, \"colorscale\": [[0.0, \"#0d0887\"], [0.1111111111111111, \"#46039f\"], [0.2222222222222222, \"#7201a8\"], [0.3333333333333333, \"#9c179e\"], [0.4444444444444444, \"#bd3786\"], [0.5555555555555556, \"#d8576b\"], [0.6666666666666666, \"#ed7953\"], [0.7777777777777778, \"#fb9f3a\"], [0.8888888888888888, \"#fdca26\"], [1.0, \"#f0f921\"]], \"type\": \"surface\"}], \"table\": [{\"cells\": {\"fill\": {\"color\": \"#EBF0F8\"}, \"line\": {\"color\": \"white\"}}, \"header\": {\"fill\": {\"color\": \"#C8D4E3\"}, \"line\": {\"color\": \"white\"}}, \"type\": \"table\"}]}, \"layout\": {\"annotationdefaults\": {\"arrowcolor\": \"#2a3f5f\", \"arrowhead\": 0, \"arrowwidth\": 1}, \"coloraxis\": {\"colorbar\": {\"outlinewidth\": 0, \"ticks\": \"\"}}, \"colorscale\": {\"diverging\": [[0, \"#8e0152\"], [0.1, \"#c51b7d\"], [0.2, \"#de77ae\"], [0.3, \"#f1b6da\"], [0.4, \"#fde0ef\"], [0.5, \"#f7f7f7\"], [0.6, \"#e6f5d0\"], [0.7, \"#b8e186\"], [0.8, \"#7fbc41\"], [0.9, \"#4d9221\"], [1, \"#276419\"]], \"sequential\": [[0.0, \"#0d0887\"], [0.1111111111111111, \"#46039f\"], [0.2222222222222222, \"#7201a8\"], [0.3333333333333333, \"#9c179e\"], [0.4444444444444444, \"#bd3786\"], [0.5555555555555556, \"#d8576b\"], [0.6666666666666666, \"#ed7953\"], [0.7777777777777778, \"#fb9f3a\"], [0.8888888888888888, \"#fdca26\"], [1.0, \"#f0f921\"]], \"sequentialminus\": [[0.0, \"#0d0887\"], [0.1111111111111111, \"#46039f\"], [0.2222222222222222, \"#7201a8\"], [0.3333333333333333, \"#9c179e\"], [0.4444444444444444, \"#bd3786\"], [0.5555555555555556, \"#d8576b\"], [0.6666666666666666, \"#ed7953\"], [0.7777777777777778, \"#fb9f3a\"], [0.8888888888888888, \"#fdca26\"], [1.0, \"#f0f921\"]]}, \"colorway\": [\"#636efa\", \"#EF553B\", \"#00cc96\", \"#ab63fa\", \"#FFA15A\", \"#19d3f3\", \"#FF6692\", \"#B6E880\", \"#FF97FF\", \"#FECB52\"], \"font\": {\"color\": \"#2a3f5f\"}, \"geo\": {\"bgcolor\": \"white\", \"lakecolor\": \"white\", \"landcolor\": \"#E5ECF6\", \"showlakes\": true, \"showland\": true, \"subunitcolor\": \"white\"}, \"hoverlabel\": {\"align\": \"left\"}, \"hovermode\": \"closest\", \"mapbox\": {\"style\": \"light\"}, \"paper_bgcolor\": \"white\", \"plot_bgcolor\": \"#E5ECF6\", \"polar\": {\"angularaxis\": {\"gridcolor\": \"white\", \"linecolor\": \"white\", \"ticks\": \"\"}, \"bgcolor\": \"#E5ECF6\", \"radialaxis\": {\"gridcolor\": \"white\", \"linecolor\": \"white\", \"ticks\": \"\"}}, \"scene\": {\"xaxis\": {\"backgroundcolor\": \"#E5ECF6\", \"gridcolor\": \"white\", \"gridwidth\": 2, \"linecolor\": \"white\", \"showbackground\": true, \"ticks\": \"\", \"zerolinecolor\": \"white\"}, \"yaxis\": {\"backgroundcolor\": \"#E5ECF6\", \"gridcolor\": \"white\", \"gridwidth\": 2, \"linecolor\": \"white\", \"showbackground\": true, \"ticks\": \"\", \"zerolinecolor\": \"white\"}, \"zaxis\": {\"backgroundcolor\": \"#E5ECF6\", \"gridcolor\": \"white\", \"gridwidth\": 2, \"linecolor\": \"white\", \"showbackground\": true, \"ticks\": \"\", \"zerolinecolor\": \"white\"}}, \"shapedefaults\": {\"line\": {\"color\": \"#2a3f5f\"}}, \"ternary\": {\"aaxis\": {\"gridcolor\": \"white\", \"linecolor\": \"white\", \"ticks\": \"\"}, \"baxis\": {\"gridcolor\": \"white\", \"linecolor\": \"white\", \"ticks\": \"\"}, \"bgcolor\": \"#E5ECF6\", \"caxis\": {\"gridcolor\": \"white\", \"linecolor\": \"white\", \"ticks\": \"\"}}, \"title\": {\"x\": 0.05}, \"xaxis\": {\"automargin\": true, \"gridcolor\": \"white\", \"linecolor\": \"white\", \"ticks\": \"\", \"title\": {\"standoff\": 15}, \"zerolinecolor\": \"white\", \"zerolinewidth\": 2}, \"yaxis\": {\"automargin\": true, \"gridcolor\": \"white\", \"linecolor\": \"white\", \"ticks\": \"\", \"title\": {\"standoff\": 15}, \"zerolinecolor\": \"white\", \"zerolinewidth\": 2}}}, \"title\": {\"font\": {\"color\": \"rgb(1,21,51)\", \"size\": 50}}, \"width\": 480},\n",
              "                        {\"responsive\": true}\n",
              "                    ).then(function(){\n",
              "                            \n",
              "var gd = document.getElementById('fb345c36-d9f8-43d5-be9a-c296ccf2193d');\n",
              "var x = new MutationObserver(function (mutations, observer) {{\n",
              "        var display = window.getComputedStyle(gd).display;\n",
              "        if (!display || display === 'none') {{\n",
              "            console.log([gd, 'removed!']);\n",
              "            Plotly.purge(gd);\n",
              "            observer.disconnect();\n",
              "        }}\n",
              "}});\n",
              "\n",
              "// Listen for the removal of the full notebook cells\n",
              "var notebookContainer = gd.closest('#notebook-container');\n",
              "if (notebookContainer) {{\n",
              "    x.observe(notebookContainer, {childList: true});\n",
              "}}\n",
              "\n",
              "// Listen for the clearing of the current output cell\n",
              "var outputEl = gd.closest('.output');\n",
              "if (outputEl) {{\n",
              "    x.observe(outputEl, {childList: true});\n",
              "}}\n",
              "\n",
              "                        })\n",
              "                };\n",
              "                \n",
              "            </script>\n",
              "        </div>\n",
              "</body>\n",
              "</html>"
            ]
          },
          "metadata": {
            "tags": []
          }
        }
      ]
    },
    {
      "cell_type": "markdown",
      "metadata": {
        "id": "T3qeIP9FOkfL"
      },
      "source": [
        "# **DEFINICIÓN ANALÍTICA DE VECTOR**\n",
        "Un vector con dimensión $n$, es una $n$-tupla de números reales que pertenece a $\\mathbb {R} ^{n}$ en donde cada elemento de la  $n$-tupla recibe el nómbre de componente.\n",
        "\n",
        "De esta manera un vector $\\vec{V} \\in \\mathbb {R} ^{n}$ se nota cómo:\n",
        "\n",
        "$$\\vec{V} = (x_1,x_2,\\cdots,x_n) = x_1\\hat{e_1} + x_2\\hat{e_2} +\\cdots+ x_n\\hat{e_n}$$\n",
        "\n",
        "Donde  $\\hat{e_i}$ son los respectivos vectores unitarios para cada una de las componentes y donde $\\hat{e_1}= \\hat{\\imath} $,  $\\hat{e_2}= \\hat{\\jmath}$, $\\hat{e_3}= \\hat{k} $\n",
        " \n",
        "\n",
        "Cuando los vectores pertenecen a $\\mathbb {R} ^{n}$ con $n=1,2 \\hspace{0.2cm} \\text{o} \\hspace{0.2cm} 3$  podemos realizar **representaciones geométricas** de los mismos en la recta, el plano y el espacio respectivamente."
      ]
    },
    {
      "cell_type": "markdown",
      "metadata": {
        "id": "7W2a1nKcMwME"
      },
      "source": [
        "#**DEFINICIÓN DE VECTORES USANDO LIBERÍA SYMPY** \n",
        "\n",
        "#**Vectores unidimensionales**\n",
        "Son vectores $\\vec{V} \\in \\mathbb {R}$ y poseen una sola componente, se notan como: \n",
        "\n",
        "$$\\vec{V} =  ( x ) \\hspace{0.2cm} \\text{donde}    \\hspace{0.2cm} x \\in \\mathbb {R}$$\n",
        "\n",
        "\n",
        "\n",
        "\n",
        "###**Ejemplo:** \n",
        "Define el vector  $\\vec{V} = ( 2 ) = 2 \\hat{\\imath} $ en SymPy cuya gráfica se presenta a continuación y realiza su gráfica con la función **plotvector2D** del módulo de graficación."
      ]
    },
    {
      "cell_type": "markdown",
      "metadata": {
        "id": "Qa5Lw7N1ZAYE"
      },
      "source": [
        "### **Forma 1** (como una matriz columna)"
      ]
    },
    {
      "cell_type": "code",
      "metadata": {
        "colab": {
          "base_uri": "https://localhost:8080/",
          "height": 38
        },
        "id": "-KtnbbUWD5GY",
        "outputId": "e901d800-d4b8-4f0d-8ad2-b9aa6927a666"
      },
      "source": [
        "V = Matrix([2])\n",
        "V"
      ],
      "execution_count": null,
      "outputs": [
        {
          "output_type": "execute_result",
          "data": {
            "text/latex": "$\\displaystyle \\left[\\begin{matrix}2\\end{matrix}\\right]$",
            "text/plain": [
              "[2]"
            ]
          },
          "metadata": {
            "tags": []
          },
          "execution_count": 24
        }
      ]
    },
    {
      "cell_type": "markdown",
      "metadata": {
        "id": "ELVNV_OOnZO6"
      },
      "source": [
        "### **Forma 2** (en términos de vectores unitarios)"
      ]
    },
    {
      "cell_type": "code",
      "metadata": {
        "colab": {
          "base_uri": "https://localhost:8080/",
          "height": 36
        },
        "id": "_TpMTgGuEVHU",
        "outputId": "7a7edc19-7bd0-49e5-99e1-fa8002c7cb0a"
      },
      "source": [
        "V = 2*i\n",
        "V"
      ],
      "execution_count": 12,
      "outputs": [
        {
          "output_type": "execute_result",
          "data": {
            "image/png": "[encoded data removed]",
            "text/latex": "$\\displaystyle 2\\mathbf{\\hat{e}_x}$",
            "text/plain": [
              "2 e_x"
            ]
          },
          "metadata": {
            "tags": []
          },
          "execution_count": 12
        }
      ]
    },
    {
      "cell_type": "markdown",
      "metadata": {
        "id": "DIkUmQACp8s1"
      },
      "source": [
        "## **Representación gráfica en el eje de las absisas** "
      ]
    },
    {
      "cell_type": "code",
      "metadata": {
        "colab": {
          "base_uri": "https://localhost:8080/",
          "height": 497
        },
        "id": "ltnczT66RJJR",
        "outputId": "e17a01ef-4e54-409d-ab77-2d10016cfe57"
      },
      "source": [
        "plotvectors2D([2,0])"
      ],
      "execution_count": null,
      "outputs": [
        {
          "output_type": "display_data",
          "data": {
            "text/html": [
              "<html>\n",
              "<head><meta charset=\"utf-8\" /></head>\n",
              "<body>\n",
              "    <div>\n",
              "            <script src=\"https://cdnjs.cloudflare.com/ajax/libs/mathjax/2.7.5/MathJax.js?config=TeX-AMS-MML_SVG\"></script><script type=\"text/javascript\">if (window.MathJax) {MathJax.Hub.Config({SVG: {font: \"STIX-Web\"}});}</script>\n",
              "                <script type=\"text/javascript\">window.PlotlyConfig = {MathJaxConfig: 'local'};</script>\n",
              "        <script src=\"https://cdn.plot.ly/plotly-latest.min.js\"></script>    \n",
              "            <div id=\"60baa146-824b-4540-a9a3-6892926f8f3e\" class=\"plotly-graph-div\" style=\"height:480px; width:500px;\"></div>\n",
              "            <script type=\"text/javascript\">\n",
              "                \n",
              "                    window.PLOTLYENV=window.PLOTLYENV || {};\n",
              "                    \n",
              "                if (document.getElementById(\"60baa146-824b-4540-a9a3-6892926f8f3e\")) {\n",
              "                    Plotly.newPlot(\n",
              "                        '60baa146-824b-4540-a9a3-6892926f8f3e',\n",
              "                        [{\"marker\": {\"color\": \"rgb(1,111,228)\", \"size\": 8}, \"mode\": \"lines\", \"name\": \"vector 1\", \"showlegend\": true, \"type\": \"scatter\", \"x\": [0, 2], \"y\": [0, 0]}, {\"marker\": {\"color\": \"#2a3f5f\", \"size\": 9}, \"mode\": \"markers\", \"name\": \"origen\", \"opacity\": 1, \"showlegend\": true, \"type\": \"scatter\", \"x\": [0], \"y\": [0]}],\n",
              "                        {\"annotations\": [{\"arrowcolor\": \"rgb(1,111,228)\", \"arrowhead\": 2, \"arrowsize\": 1.5, \"arrowwidth\": 2.3, \"ax\": 0.0, \"axref\": \"x\", \"ay\": 0.0, \"ayref\": \"y\", \"showarrow\": true, \"x\": 2, \"xref\": \"x\", \"y\": 0, \"yref\": \"y\"}, {\"arrowcolor\": \"#2a3f5f\", \"arrowhead\": 2, \"arrowwidth\": 1.5, \"ax\": -0.54, \"axref\": \"x\", \"ay\": 0, \"ayref\": \"y\", \"x\": 2.5, \"xref\": \"x\", \"y\": 0, \"yref\": \"y\"}, {\"arrowcolor\": \"#2a3f5f\", \"arrowhead\": 2, \"arrowwidth\": 1.5, \"ax\": 0, \"axref\": \"x\", \"ay\": -0.54, \"ayref\": \"y\", \"x\": 0, \"xref\": \"x\", \"y\": 0.5, \"yref\": \"y\"}, {\"arrowhead\": 1, \"showarrow\": false, \"text\": \"$x$\", \"x\": 2.5, \"y\": -0.2}, {\"arrowhead\": 1, \"showarrow\": false, \"text\": \"$y$\", \"x\": -0.2, \"y\": 0.5}], \"font\": {\"color\": \"black\", \"family\": \"latex\", \"size\": 20}, \"height\": 480, \"legend\": {\"itemdoubleclick\": \"toggle\", \"orientation\": \"h\", \"x\": 1, \"xanchor\": \"right\", \"y\": 1.02, \"yanchor\": \"bottom\"}, \"showlegend\": true, \"template\": {\"data\": {\"bar\": [{\"error_x\": {\"color\": \"#2a3f5f\"}, \"error_y\": {\"color\": \"#2a3f5f\"}, \"marker\": {\"line\": {\"color\": \"#E5ECF6\", \"width\": 0.5}}, \"type\": \"bar\"}], \"barpolar\": [{\"marker\": {\"line\": {\"color\": \"#E5ECF6\", \"width\": 0.5}}, \"type\": \"barpolar\"}], \"carpet\": [{\"aaxis\": {\"endlinecolor\": \"#2a3f5f\", \"gridcolor\": \"white\", \"linecolor\": \"white\", \"minorgridcolor\": \"white\", \"startlinecolor\": \"#2a3f5f\"}, \"baxis\": {\"endlinecolor\": \"#2a3f5f\", \"gridcolor\": \"white\", \"linecolor\": \"white\", \"minorgridcolor\": \"white\", \"startlinecolor\": \"#2a3f5f\"}, \"type\": \"carpet\"}], \"choropleth\": [{\"colorbar\": {\"outlinewidth\": 0, \"ticks\": \"\"}, \"type\": \"choropleth\"}], \"contour\": [{\"colorbar\": {\"outlinewidth\": 0, \"ticks\": \"\"}, \"colorscale\": [[0.0, \"#0d0887\"], [0.1111111111111111, \"#46039f\"], [0.2222222222222222, \"#7201a8\"], [0.3333333333333333, \"#9c179e\"], [0.4444444444444444, \"#bd3786\"], [0.5555555555555556, \"#d8576b\"], [0.6666666666666666, \"#ed7953\"], [0.7777777777777778, \"#fb9f3a\"], [0.8888888888888888, \"#fdca26\"], [1.0, \"#f0f921\"]], \"type\": \"contour\"}], \"contourcarpet\": [{\"colorbar\": {\"outlinewidth\": 0, \"ticks\": \"\"}, \"type\": \"contourcarpet\"}], \"heatmap\": [{\"colorbar\": {\"outlinewidth\": 0, \"ticks\": \"\"}, \"colorscale\": [[0.0, \"#0d0887\"], [0.1111111111111111, \"#46039f\"], [0.2222222222222222, \"#7201a8\"], [0.3333333333333333, \"#9c179e\"], [0.4444444444444444, \"#bd3786\"], [0.5555555555555556, \"#d8576b\"], [0.6666666666666666, \"#ed7953\"], [0.7777777777777778, \"#fb9f3a\"], [0.8888888888888888, \"#fdca26\"], [1.0, \"#f0f921\"]], \"type\": \"heatmap\"}], \"heatmapgl\": [{\"colorbar\": {\"outlinewidth\": 0, \"ticks\": \"\"}, \"colorscale\": [[0.0, \"#0d0887\"], [0.1111111111111111, \"#46039f\"], [0.2222222222222222, \"#7201a8\"], [0.3333333333333333, \"#9c179e\"], [0.4444444444444444, \"#bd3786\"], [0.5555555555555556, \"#d8576b\"], [0.6666666666666666, \"#ed7953\"], [0.7777777777777778, \"#fb9f3a\"], [0.8888888888888888, \"#fdca26\"], [1.0, \"#f0f921\"]], \"type\": \"heatmapgl\"}], \"histogram\": [{\"marker\": {\"colorbar\": {\"outlinewidth\": 0, \"ticks\": \"\"}}, \"type\": \"histogram\"}], \"histogram2d\": [{\"colorbar\": {\"outlinewidth\": 0, \"ticks\": \"\"}, \"colorscale\": [[0.0, \"#0d0887\"], [0.1111111111111111, \"#46039f\"], [0.2222222222222222, \"#7201a8\"], [0.3333333333333333, \"#9c179e\"], [0.4444444444444444, \"#bd3786\"], [0.5555555555555556, \"#d8576b\"], [0.6666666666666666, \"#ed7953\"], [0.7777777777777778, \"#fb9f3a\"], [0.8888888888888888, \"#fdca26\"], [1.0, \"#f0f921\"]], \"type\": \"histogram2d\"}], \"histogram2dcontour\": [{\"colorbar\": {\"outlinewidth\": 0, \"ticks\": \"\"}, \"colorscale\": [[0.0, \"#0d0887\"], [0.1111111111111111, \"#46039f\"], [0.2222222222222222, \"#7201a8\"], [0.3333333333333333, \"#9c179e\"], [0.4444444444444444, \"#bd3786\"], [0.5555555555555556, \"#d8576b\"], [0.6666666666666666, \"#ed7953\"], [0.7777777777777778, \"#fb9f3a\"], [0.8888888888888888, \"#fdca26\"], [1.0, \"#f0f921\"]], \"type\": \"histogram2dcontour\"}], \"mesh3d\": [{\"colorbar\": {\"outlinewidth\": 0, \"ticks\": \"\"}, \"type\": \"mesh3d\"}], \"parcoords\": [{\"line\": {\"colorbar\": {\"outlinewidth\": 0, \"ticks\": \"\"}}, \"type\": \"parcoords\"}], \"pie\": [{\"automargin\": true, \"type\": \"pie\"}], \"scatter\": [{\"marker\": {\"colorbar\": {\"outlinewidth\": 0, \"ticks\": \"\"}}, \"type\": \"scatter\"}], \"scatter3d\": [{\"line\": {\"colorbar\": {\"outlinewidth\": 0, \"ticks\": \"\"}}, \"marker\": {\"colorbar\": {\"outlinewidth\": 0, \"ticks\": \"\"}}, \"type\": \"scatter3d\"}], \"scattercarpet\": [{\"marker\": {\"colorbar\": {\"outlinewidth\": 0, \"ticks\": \"\"}}, \"type\": \"scattercarpet\"}], \"scattergeo\": [{\"marker\": {\"colorbar\": {\"outlinewidth\": 0, \"ticks\": \"\"}}, \"type\": \"scattergeo\"}], \"scattergl\": [{\"marker\": {\"colorbar\": {\"outlinewidth\": 0, \"ticks\": \"\"}}, \"type\": \"scattergl\"}], \"scattermapbox\": [{\"marker\": {\"colorbar\": {\"outlinewidth\": 0, \"ticks\": \"\"}}, \"type\": \"scattermapbox\"}], \"scatterpolar\": [{\"marker\": {\"colorbar\": {\"outlinewidth\": 0, \"ticks\": \"\"}}, \"type\": \"scatterpolar\"}], \"scatterpolargl\": [{\"marker\": {\"colorbar\": {\"outlinewidth\": 0, \"ticks\": \"\"}}, \"type\": \"scatterpolargl\"}], \"scatterternary\": [{\"marker\": {\"colorbar\": {\"outlinewidth\": 0, \"ticks\": \"\"}}, \"type\": \"scatterternary\"}], \"surface\": [{\"colorbar\": {\"outlinewidth\": 0, \"ticks\": \"\"}, \"colorscale\": [[0.0, \"#0d0887\"], [0.1111111111111111, \"#46039f\"], [0.2222222222222222, \"#7201a8\"], [0.3333333333333333, \"#9c179e\"], [0.4444444444444444, \"#bd3786\"], [0.5555555555555556, \"#d8576b\"], [0.6666666666666666, \"#ed7953\"], [0.7777777777777778, \"#fb9f3a\"], [0.8888888888888888, \"#fdca26\"], [1.0, \"#f0f921\"]], \"type\": \"surface\"}], \"table\": [{\"cells\": {\"fill\": {\"color\": \"#EBF0F8\"}, \"line\": {\"color\": \"white\"}}, \"header\": {\"fill\": {\"color\": \"#C8D4E3\"}, \"line\": {\"color\": \"white\"}}, \"type\": \"table\"}]}, \"layout\": {\"annotationdefaults\": {\"arrowcolor\": \"#2a3f5f\", \"arrowhead\": 0, \"arrowwidth\": 1}, \"coloraxis\": {\"colorbar\": {\"outlinewidth\": 0, \"ticks\": \"\"}}, \"colorscale\": {\"diverging\": [[0, \"#8e0152\"], [0.1, \"#c51b7d\"], [0.2, \"#de77ae\"], [0.3, \"#f1b6da\"], [0.4, \"#fde0ef\"], [0.5, \"#f7f7f7\"], [0.6, \"#e6f5d0\"], [0.7, \"#b8e186\"], [0.8, \"#7fbc41\"], [0.9, \"#4d9221\"], [1, \"#276419\"]], \"sequential\": [[0.0, \"#0d0887\"], [0.1111111111111111, \"#46039f\"], [0.2222222222222222, \"#7201a8\"], [0.3333333333333333, \"#9c179e\"], [0.4444444444444444, \"#bd3786\"], [0.5555555555555556, \"#d8576b\"], [0.6666666666666666, \"#ed7953\"], [0.7777777777777778, \"#fb9f3a\"], [0.8888888888888888, \"#fdca26\"], [1.0, \"#f0f921\"]], \"sequentialminus\": [[0.0, \"#0d0887\"], [0.1111111111111111, \"#46039f\"], [0.2222222222222222, \"#7201a8\"], [0.3333333333333333, \"#9c179e\"], [0.4444444444444444, \"#bd3786\"], [0.5555555555555556, \"#d8576b\"], [0.6666666666666666, \"#ed7953\"], [0.7777777777777778, \"#fb9f3a\"], [0.8888888888888888, \"#fdca26\"], [1.0, \"#f0f921\"]]}, \"colorway\": [\"#636efa\", \"#EF553B\", \"#00cc96\", \"#ab63fa\", \"#FFA15A\", \"#19d3f3\", \"#FF6692\", \"#B6E880\", \"#FF97FF\", \"#FECB52\"], \"font\": {\"color\": \"#2a3f5f\"}, \"geo\": {\"bgcolor\": \"white\", \"lakecolor\": \"white\", \"landcolor\": \"#E5ECF6\", \"showlakes\": true, \"showland\": true, \"subunitcolor\": \"white\"}, \"hoverlabel\": {\"align\": \"left\"}, \"hovermode\": \"closest\", \"mapbox\": {\"style\": \"light\"}, \"paper_bgcolor\": \"white\", \"plot_bgcolor\": \"#E5ECF6\", \"polar\": {\"angularaxis\": {\"gridcolor\": \"white\", \"linecolor\": \"white\", \"ticks\": \"\"}, \"bgcolor\": \"#E5ECF6\", \"radialaxis\": {\"gridcolor\": \"white\", \"linecolor\": \"white\", \"ticks\": \"\"}}, \"scene\": {\"xaxis\": {\"backgroundcolor\": \"#E5ECF6\", \"gridcolor\": \"white\", \"gridwidth\": 2, \"linecolor\": \"white\", \"showbackground\": true, \"ticks\": \"\", \"zerolinecolor\": \"white\"}, \"yaxis\": {\"backgroundcolor\": \"#E5ECF6\", \"gridcolor\": \"white\", \"gridwidth\": 2, \"linecolor\": \"white\", \"showbackground\": true, \"ticks\": \"\", \"zerolinecolor\": \"white\"}, \"zaxis\": {\"backgroundcolor\": \"#E5ECF6\", \"gridcolor\": \"white\", \"gridwidth\": 2, \"linecolor\": \"white\", \"showbackground\": true, \"ticks\": \"\", \"zerolinecolor\": \"white\"}}, \"shapedefaults\": {\"line\": {\"color\": \"#2a3f5f\"}}, \"ternary\": {\"aaxis\": {\"gridcolor\": \"white\", \"linecolor\": \"white\", \"ticks\": \"\"}, \"baxis\": {\"gridcolor\": \"white\", \"linecolor\": \"white\", \"ticks\": \"\"}, \"bgcolor\": \"#E5ECF6\", \"caxis\": {\"gridcolor\": \"white\", \"linecolor\": \"white\", \"ticks\": \"\"}}, \"title\": {\"x\": 0.05}, \"xaxis\": {\"automargin\": true, \"gridcolor\": \"white\", \"linecolor\": \"white\", \"ticks\": \"\", \"title\": {\"standoff\": 15}, \"zerolinecolor\": \"white\", \"zerolinewidth\": 2}, \"yaxis\": {\"automargin\": true, \"gridcolor\": \"white\", \"linecolor\": \"white\", \"ticks\": \"\", \"title\": {\"standoff\": 15}, \"zerolinecolor\": \"white\", \"zerolinewidth\": 2}}}, \"title\": {\"font\": {\"color\": \"rgb(1,21,51)\", \"size\": 30}}, \"width\": 500, \"xaxis\": {\"range\": [-0.5, 2.5], \"showgrid\": true, \"title\": {\"font\": {\"color\": \"rgb(1,21,51)\", \"family\": \"latex\", \"size\": 30}, \"text\": \"$\\\\large{x}$\"}}, \"yaxis\": {\"range\": [-0.4, 0.5], \"showgrid\": true, \"title\": {\"font\": {\"color\": \"rgb(1,21,51)\", \"family\": \"latex\", \"size\": 30}, \"text\": \"$\\\\large{y}$\"}}},\n",
              "                        {\"responsive\": true}\n",
              "                    ).then(function(){\n",
              "                            \n",
              "var gd = document.getElementById('60baa146-824b-4540-a9a3-6892926f8f3e');\n",
              "var x = new MutationObserver(function (mutations, observer) {{\n",
              "        var display = window.getComputedStyle(gd).display;\n",
              "        if (!display || display === 'none') {{\n",
              "            console.log([gd, 'removed!']);\n",
              "            Plotly.purge(gd);\n",
              "            observer.disconnect();\n",
              "        }}\n",
              "}});\n",
              "\n",
              "// Listen for the removal of the full notebook cells\n",
              "var notebookContainer = gd.closest('#notebook-container');\n",
              "if (notebookContainer) {{\n",
              "    x.observe(notebookContainer, {childList: true});\n",
              "}}\n",
              "\n",
              "// Listen for the clearing of the current output cell\n",
              "var outputEl = gd.closest('.output');\n",
              "if (outputEl) {{\n",
              "    x.observe(outputEl, {childList: true});\n",
              "}}\n",
              "\n",
              "                        })\n",
              "                };\n",
              "                \n",
              "            </script>\n",
              "        </div>\n",
              "</body>\n",
              "</html>"
            ]
          },
          "metadata": {
            "tags": []
          }
        }
      ]
    },
    {
      "cell_type": "markdown",
      "metadata": {
        "id": "HHW4CLCGoia_"
      },
      "source": [
        "#**Vectores bidimensionales**\n",
        "Son vectores $\\vec{V} \\in \\mathbb {R^2}$ y poseen dos componentes, se notan como: \n",
        "\n",
        "$$\\vec{V} =  ( x,y )\\hspace{0.2cm} \\text{donde}    \\hspace{0.2cm} x,y \\in \\mathbb {R}$$\n",
        "\n",
        "###**Ejemplo:** \n",
        "Define el vector  $\\vec{V} = (-2,3) = -2 \\hat{\\imath} + 3 \\hat{\\jmath} $ en SymPy cuya gráfica se presenta a continuación y realiza su gráfica con la función **plotvector2D** del módulo de graficación.\n"
      ]
    },
    {
      "cell_type": "markdown",
      "metadata": {
        "id": "Q91aZzB7oibF"
      },
      "source": [
        "### **Forma 1** (como una matriz columna)"
      ]
    },
    {
      "cell_type": "code",
      "metadata": {
        "colab": {
          "base_uri": "https://localhost:8080/",
          "height": 58
        },
        "id": "OAAiOBL0oibG",
        "outputId": "7fec2610-e3c6-4a5d-8d56-ab15a345cd79"
      },
      "source": [
        "A = Matrix([-2,3])\n",
        "A"
      ],
      "execution_count": null,
      "outputs": [
        {
          "output_type": "execute_result",
          "data": {
            "text/latex": "$\\displaystyle \\left[\\begin{matrix}-2\\\\3\\end{matrix}\\right]$",
            "text/plain": [
              "⎡-2⎤\n",
              "⎢  ⎥\n",
              "⎣3 ⎦"
            ]
          },
          "metadata": {
            "tags": []
          },
          "execution_count": 27
        }
      ]
    },
    {
      "cell_type": "markdown",
      "metadata": {
        "id": "5A9ZNQnPoibI"
      },
      "source": [
        "### **Forma 2** (en términos de vectores unitarios)"
      ]
    },
    {
      "cell_type": "code",
      "metadata": {
        "colab": {
          "base_uri": "https://localhost:8080/",
          "height": 37
        },
        "id": "Ag_boYxpoibJ",
        "outputId": "b379fbaf-483b-4ac5-c6f4-120419ee234a"
      },
      "source": [
        "V = -2*i +3*j\n",
        "V"
      ],
      "execution_count": 13,
      "outputs": [
        {
          "output_type": "execute_result",
          "data": {
            "image/png": "[encoded data removed]",
            "text/latex": "$\\displaystyle - 2\\mathbf{\\hat{e}_x} + 3\\mathbf{\\hat{e}_y}$",
            "text/plain": [
              "-2 e_x + 3 e_y"
            ]
          },
          "metadata": {
            "tags": []
          },
          "execution_count": 13
        }
      ]
    },
    {
      "cell_type": "markdown",
      "metadata": {
        "id": "9BKy-bxzq8K9"
      },
      "source": [
        "## **Representación gráfica en el plano** "
      ]
    },
    {
      "cell_type": "code",
      "metadata": {
        "colab": {
          "base_uri": "https://localhost:8080/",
          "height": 497
        },
        "id": "-F-8JgIISuZv",
        "outputId": "7fe23164-d795-4826-a018-5f63eca0eacb"
      },
      "source": [
        "plotvectors2D([-2,3])"
      ],
      "execution_count": null,
      "outputs": [
        {
          "output_type": "display_data",
          "data": {
            "text/html": [
              "<html>\n",
              "<head><meta charset=\"utf-8\" /></head>\n",
              "<body>\n",
              "    <div>\n",
              "            <script src=\"https://cdnjs.cloudflare.com/ajax/libs/mathjax/2.7.5/MathJax.js?config=TeX-AMS-MML_SVG\"></script><script type=\"text/javascript\">if (window.MathJax) {MathJax.Hub.Config({SVG: {font: \"STIX-Web\"}});}</script>\n",
              "                <script type=\"text/javascript\">window.PlotlyConfig = {MathJaxConfig: 'local'};</script>\n",
              "        <script src=\"https://cdn.plot.ly/plotly-latest.min.js\"></script>    \n",
              "            <div id=\"e13704c8-b5a5-4c7b-8048-e73e9df40aaf\" class=\"plotly-graph-div\" style=\"height:480px; width:500px;\"></div>\n",
              "            <script type=\"text/javascript\">\n",
              "                \n",
              "                    window.PLOTLYENV=window.PLOTLYENV || {};\n",
              "                    \n",
              "                if (document.getElementById(\"e13704c8-b5a5-4c7b-8048-e73e9df40aaf\")) {\n",
              "                    Plotly.newPlot(\n",
              "                        'e13704c8-b5a5-4c7b-8048-e73e9df40aaf',\n",
              "                        [{\"marker\": {\"color\": \"rgb(106,229,179)\", \"size\": 8}, \"mode\": \"lines\", \"name\": \"vector 1\", \"showlegend\": true, \"type\": \"scatter\", \"x\": [0, -2], \"y\": [0, 3]}, {\"marker\": {\"color\": \"#2a3f5f\", \"size\": 9}, \"mode\": \"markers\", \"name\": \"origen\", \"opacity\": 1, \"showlegend\": true, \"type\": \"scatter\", \"x\": [0], \"y\": [0]}],\n",
              "                        {\"annotations\": [{\"arrowcolor\": \"rgb(106,229,179)\", \"arrowhead\": 2, \"arrowsize\": 1.5, \"arrowwidth\": 2.3, \"ax\": 0.0, \"axref\": \"x\", \"ay\": 0.0, \"ayref\": \"y\", \"showarrow\": true, \"x\": -2, \"xref\": \"x\", \"y\": 3, \"yref\": \"y\"}, {\"arrowcolor\": \"#2a3f5f\", \"arrowhead\": 2, \"arrowwidth\": 1.5, \"ax\": -2.54, \"axref\": \"x\", \"ay\": 0, \"ayref\": \"y\", \"x\": 0.5, \"xref\": \"x\", \"y\": 0, \"yref\": \"y\"}, {\"arrowcolor\": \"#2a3f5f\", \"arrowhead\": 2, \"arrowwidth\": 1.5, \"ax\": 0, \"axref\": \"x\", \"ay\": -0.54, \"ayref\": \"y\", \"x\": 0, \"xref\": \"x\", \"y\": 3.5, \"yref\": \"y\"}, {\"arrowhead\": 1, \"showarrow\": false, \"text\": \"$x$\", \"x\": 0.5, \"y\": -0.2}, {\"arrowhead\": 1, \"showarrow\": false, \"text\": \"$y$\", \"x\": -0.2, \"y\": 3.5}], \"font\": {\"color\": \"black\", \"family\": \"latex\", \"size\": 20}, \"height\": 480, \"legend\": {\"itemdoubleclick\": \"toggle\", \"orientation\": \"h\", \"x\": 1, \"xanchor\": \"right\", \"y\": 1.02, \"yanchor\": \"bottom\"}, \"showlegend\": true, \"template\": {\"data\": {\"bar\": [{\"error_x\": {\"color\": \"#2a3f5f\"}, \"error_y\": {\"color\": \"#2a3f5f\"}, \"marker\": {\"line\": {\"color\": \"#E5ECF6\", \"width\": 0.5}}, \"type\": \"bar\"}], \"barpolar\": [{\"marker\": {\"line\": {\"color\": \"#E5ECF6\", \"width\": 0.5}}, \"type\": \"barpolar\"}], \"carpet\": [{\"aaxis\": {\"endlinecolor\": \"#2a3f5f\", \"gridcolor\": \"white\", \"linecolor\": \"white\", \"minorgridcolor\": \"white\", \"startlinecolor\": \"#2a3f5f\"}, \"baxis\": {\"endlinecolor\": \"#2a3f5f\", \"gridcolor\": \"white\", \"linecolor\": \"white\", \"minorgridcolor\": \"white\", \"startlinecolor\": \"#2a3f5f\"}, \"type\": \"carpet\"}], \"choropleth\": [{\"colorbar\": {\"outlinewidth\": 0, \"ticks\": \"\"}, \"type\": \"choropleth\"}], \"contour\": [{\"colorbar\": {\"outlinewidth\": 0, \"ticks\": \"\"}, \"colorscale\": [[0.0, \"#0d0887\"], [0.1111111111111111, \"#46039f\"], [0.2222222222222222, \"#7201a8\"], [0.3333333333333333, \"#9c179e\"], [0.4444444444444444, \"#bd3786\"], [0.5555555555555556, \"#d8576b\"], [0.6666666666666666, \"#ed7953\"], [0.7777777777777778, \"#fb9f3a\"], [0.8888888888888888, \"#fdca26\"], [1.0, \"#f0f921\"]], \"type\": \"contour\"}], \"contourcarpet\": [{\"colorbar\": {\"outlinewidth\": 0, \"ticks\": \"\"}, \"type\": \"contourcarpet\"}], \"heatmap\": [{\"colorbar\": {\"outlinewidth\": 0, \"ticks\": \"\"}, \"colorscale\": [[0.0, \"#0d0887\"], [0.1111111111111111, \"#46039f\"], [0.2222222222222222, \"#7201a8\"], [0.3333333333333333, \"#9c179e\"], [0.4444444444444444, \"#bd3786\"], [0.5555555555555556, \"#d8576b\"], [0.6666666666666666, \"#ed7953\"], [0.7777777777777778, \"#fb9f3a\"], [0.8888888888888888, \"#fdca26\"], [1.0, \"#f0f921\"]], \"type\": \"heatmap\"}], \"heatmapgl\": [{\"colorbar\": {\"outlinewidth\": 0, \"ticks\": \"\"}, \"colorscale\": [[0.0, \"#0d0887\"], [0.1111111111111111, \"#46039f\"], [0.2222222222222222, \"#7201a8\"], [0.3333333333333333, \"#9c179e\"], [0.4444444444444444, \"#bd3786\"], [0.5555555555555556, \"#d8576b\"], [0.6666666666666666, \"#ed7953\"], [0.7777777777777778, \"#fb9f3a\"], [0.8888888888888888, \"#fdca26\"], [1.0, \"#f0f921\"]], \"type\": \"heatmapgl\"}], \"histogram\": [{\"marker\": {\"colorbar\": {\"outlinewidth\": 0, \"ticks\": \"\"}}, \"type\": \"histogram\"}], \"histogram2d\": [{\"colorbar\": {\"outlinewidth\": 0, \"ticks\": \"\"}, \"colorscale\": [[0.0, \"#0d0887\"], [0.1111111111111111, \"#46039f\"], [0.2222222222222222, \"#7201a8\"], [0.3333333333333333, \"#9c179e\"], [0.4444444444444444, \"#bd3786\"], [0.5555555555555556, \"#d8576b\"], [0.6666666666666666, \"#ed7953\"], [0.7777777777777778, \"#fb9f3a\"], [0.8888888888888888, \"#fdca26\"], [1.0, \"#f0f921\"]], \"type\": \"histogram2d\"}], \"histogram2dcontour\": [{\"colorbar\": {\"outlinewidth\": 0, \"ticks\": \"\"}, \"colorscale\": [[0.0, \"#0d0887\"], [0.1111111111111111, \"#46039f\"], [0.2222222222222222, \"#7201a8\"], [0.3333333333333333, \"#9c179e\"], [0.4444444444444444, \"#bd3786\"], [0.5555555555555556, \"#d8576b\"], [0.6666666666666666, \"#ed7953\"], [0.7777777777777778, \"#fb9f3a\"], [0.8888888888888888, \"#fdca26\"], [1.0, \"#f0f921\"]], \"type\": \"histogram2dcontour\"}], \"mesh3d\": [{\"colorbar\": {\"outlinewidth\": 0, \"ticks\": \"\"}, \"type\": \"mesh3d\"}], \"parcoords\": [{\"line\": {\"colorbar\": {\"outlinewidth\": 0, \"ticks\": \"\"}}, \"type\": \"parcoords\"}], \"pie\": [{\"automargin\": true, \"type\": \"pie\"}], \"scatter\": [{\"marker\": {\"colorbar\": {\"outlinewidth\": 0, \"ticks\": \"\"}}, \"type\": \"scatter\"}], \"scatter3d\": [{\"line\": {\"colorbar\": {\"outlinewidth\": 0, \"ticks\": \"\"}}, \"marker\": {\"colorbar\": {\"outlinewidth\": 0, \"ticks\": \"\"}}, \"type\": \"scatter3d\"}], \"scattercarpet\": [{\"marker\": {\"colorbar\": {\"outlinewidth\": 0, \"ticks\": \"\"}}, \"type\": \"scattercarpet\"}], \"scattergeo\": [{\"marker\": {\"colorbar\": {\"outlinewidth\": 0, \"ticks\": \"\"}}, \"type\": \"scattergeo\"}], \"scattergl\": [{\"marker\": {\"colorbar\": {\"outlinewidth\": 0, \"ticks\": \"\"}}, \"type\": \"scattergl\"}], \"scattermapbox\": [{\"marker\": {\"colorbar\": {\"outlinewidth\": 0, \"ticks\": \"\"}}, \"type\": \"scattermapbox\"}], \"scatterpolar\": [{\"marker\": {\"colorbar\": {\"outlinewidth\": 0, \"ticks\": \"\"}}, \"type\": \"scatterpolar\"}], \"scatterpolargl\": [{\"marker\": {\"colorbar\": {\"outlinewidth\": 0, \"ticks\": \"\"}}, \"type\": \"scatterpolargl\"}], \"scatterternary\": [{\"marker\": {\"colorbar\": {\"outlinewidth\": 0, \"ticks\": \"\"}}, \"type\": \"scatterternary\"}], \"surface\": [{\"colorbar\": {\"outlinewidth\": 0, \"ticks\": \"\"}, \"colorscale\": [[0.0, \"#0d0887\"], [0.1111111111111111, \"#46039f\"], [0.2222222222222222, \"#7201a8\"], [0.3333333333333333, \"#9c179e\"], [0.4444444444444444, \"#bd3786\"], [0.5555555555555556, \"#d8576b\"], [0.6666666666666666, \"#ed7953\"], [0.7777777777777778, \"#fb9f3a\"], [0.8888888888888888, \"#fdca26\"], [1.0, \"#f0f921\"]], \"type\": \"surface\"}], \"table\": [{\"cells\": {\"fill\": {\"color\": \"#EBF0F8\"}, \"line\": {\"color\": \"white\"}}, \"header\": {\"fill\": {\"color\": \"#C8D4E3\"}, \"line\": {\"color\": \"white\"}}, \"type\": \"table\"}]}, \"layout\": {\"annotationdefaults\": {\"arrowcolor\": \"#2a3f5f\", \"arrowhead\": 0, \"arrowwidth\": 1}, \"coloraxis\": {\"colorbar\": {\"outlinewidth\": 0, \"ticks\": \"\"}}, \"colorscale\": {\"diverging\": [[0, \"#8e0152\"], [0.1, \"#c51b7d\"], [0.2, \"#de77ae\"], [0.3, \"#f1b6da\"], [0.4, \"#fde0ef\"], [0.5, \"#f7f7f7\"], [0.6, \"#e6f5d0\"], [0.7, \"#b8e186\"], [0.8, \"#7fbc41\"], [0.9, \"#4d9221\"], [1, \"#276419\"]], \"sequential\": [[0.0, \"#0d0887\"], [0.1111111111111111, \"#46039f\"], [0.2222222222222222, \"#7201a8\"], [0.3333333333333333, \"#9c179e\"], [0.4444444444444444, \"#bd3786\"], [0.5555555555555556, \"#d8576b\"], [0.6666666666666666, \"#ed7953\"], [0.7777777777777778, \"#fb9f3a\"], [0.8888888888888888, \"#fdca26\"], [1.0, \"#f0f921\"]], \"sequentialminus\": [[0.0, \"#0d0887\"], [0.1111111111111111, \"#46039f\"], [0.2222222222222222, \"#7201a8\"], [0.3333333333333333, \"#9c179e\"], [0.4444444444444444, \"#bd3786\"], [0.5555555555555556, \"#d8576b\"], [0.6666666666666666, \"#ed7953\"], [0.7777777777777778, \"#fb9f3a\"], [0.8888888888888888, \"#fdca26\"], [1.0, \"#f0f921\"]]}, \"colorway\": [\"#636efa\", \"#EF553B\", \"#00cc96\", \"#ab63fa\", \"#FFA15A\", \"#19d3f3\", \"#FF6692\", \"#B6E880\", \"#FF97FF\", \"#FECB52\"], \"font\": {\"color\": \"#2a3f5f\"}, \"geo\": {\"bgcolor\": \"white\", \"lakecolor\": \"white\", \"landcolor\": \"#E5ECF6\", \"showlakes\": true, \"showland\": true, \"subunitcolor\": \"white\"}, \"hoverlabel\": {\"align\": \"left\"}, \"hovermode\": \"closest\", \"mapbox\": {\"style\": \"light\"}, \"paper_bgcolor\": \"white\", \"plot_bgcolor\": \"#E5ECF6\", \"polar\": {\"angularaxis\": {\"gridcolor\": \"white\", \"linecolor\": \"white\", \"ticks\": \"\"}, \"bgcolor\": \"#E5ECF6\", \"radialaxis\": {\"gridcolor\": \"white\", \"linecolor\": \"white\", \"ticks\": \"\"}}, \"scene\": {\"xaxis\": {\"backgroundcolor\": \"#E5ECF6\", \"gridcolor\": \"white\", \"gridwidth\": 2, \"linecolor\": \"white\", \"showbackground\": true, \"ticks\": \"\", \"zerolinecolor\": \"white\"}, \"yaxis\": {\"backgroundcolor\": \"#E5ECF6\", \"gridcolor\": \"white\", \"gridwidth\": 2, \"linecolor\": \"white\", \"showbackground\": true, \"ticks\": \"\", \"zerolinecolor\": \"white\"}, \"zaxis\": {\"backgroundcolor\": \"#E5ECF6\", \"gridcolor\": \"white\", \"gridwidth\": 2, \"linecolor\": \"white\", \"showbackground\": true, \"ticks\": \"\", \"zerolinecolor\": \"white\"}}, \"shapedefaults\": {\"line\": {\"color\": \"#2a3f5f\"}}, \"ternary\": {\"aaxis\": {\"gridcolor\": \"white\", \"linecolor\": \"white\", \"ticks\": \"\"}, \"baxis\": {\"gridcolor\": \"white\", \"linecolor\": \"white\", \"ticks\": \"\"}, \"bgcolor\": \"#E5ECF6\", \"caxis\": {\"gridcolor\": \"white\", \"linecolor\": \"white\", \"ticks\": \"\"}}, \"title\": {\"x\": 0.05}, \"xaxis\": {\"automargin\": true, \"gridcolor\": \"white\", \"linecolor\": \"white\", \"ticks\": \"\", \"title\": {\"standoff\": 15}, \"zerolinecolor\": \"white\", \"zerolinewidth\": 2}, \"yaxis\": {\"automargin\": true, \"gridcolor\": \"white\", \"linecolor\": \"white\", \"ticks\": \"\", \"title\": {\"standoff\": 15}, \"zerolinecolor\": \"white\", \"zerolinewidth\": 2}}}, \"title\": {\"font\": {\"color\": \"rgb(1,21,51)\", \"size\": 30}}, \"width\": 500, \"xaxis\": {\"range\": [-2.5, 0.5], \"showgrid\": true, \"title\": {\"font\": {\"color\": \"rgb(1,21,51)\", \"family\": \"latex\", \"size\": 30}, \"text\": \"$\\\\large{x}$\"}}, \"yaxis\": {\"range\": [-0.4, 3.5], \"showgrid\": true, \"title\": {\"font\": {\"color\": \"rgb(1,21,51)\", \"family\": \"latex\", \"size\": 30}, \"text\": \"$\\\\large{y}$\"}}},\n",
              "                        {\"responsive\": true}\n",
              "                    ).then(function(){\n",
              "                            \n",
              "var gd = document.getElementById('e13704c8-b5a5-4c7b-8048-e73e9df40aaf');\n",
              "var x = new MutationObserver(function (mutations, observer) {{\n",
              "        var display = window.getComputedStyle(gd).display;\n",
              "        if (!display || display === 'none') {{\n",
              "            console.log([gd, 'removed!']);\n",
              "            Plotly.purge(gd);\n",
              "            observer.disconnect();\n",
              "        }}\n",
              "}});\n",
              "\n",
              "// Listen for the removal of the full notebook cells\n",
              "var notebookContainer = gd.closest('#notebook-container');\n",
              "if (notebookContainer) {{\n",
              "    x.observe(notebookContainer, {childList: true});\n",
              "}}\n",
              "\n",
              "// Listen for the clearing of the current output cell\n",
              "var outputEl = gd.closest('.output');\n",
              "if (outputEl) {{\n",
              "    x.observe(outputEl, {childList: true});\n",
              "}}\n",
              "\n",
              "                        })\n",
              "                };\n",
              "                \n",
              "            </script>\n",
              "        </div>\n",
              "</body>\n",
              "</html>"
            ]
          },
          "metadata": {
            "tags": []
          }
        }
      ]
    },
    {
      "cell_type": "markdown",
      "metadata": {
        "id": "h-y1jk6LvvFW"
      },
      "source": [
        "#**Vectores tridimensionales**\n",
        "Son vectores $\\vec{V} \\in \\mathbb {R^3}$ y poseen tres componentes, se notan como: \n",
        "\n",
        "$$\\vec{V} = ( x,y,z ) \\hspace{0.2cm} \\text{donde}    \\hspace{0.2cm} x,y,z \\in \\mathbb {R}$$\n",
        "\n",
        "###**Ejemplo:** \n",
        "Define el vector  $\\vec{V} = ( 1,2,3 ) = 1 \\hat{\\imath} + 2 \\hat{\\jmath} +3\\hat{k} $ en SymPy y realiza su gráfica con la función **plotvectorf3D** del módulo de graficación."
      ]
    },
    {
      "cell_type": "markdown",
      "metadata": {
        "id": "EhY6npk_vvFZ"
      },
      "source": [
        "### **Forma 1** (como una matriz columna)"
      ]
    },
    {
      "cell_type": "code",
      "metadata": {
        "colab": {
          "base_uri": "https://localhost:8080/",
          "height": 78
        },
        "id": "TBRuq8IFvvFa",
        "outputId": "aaaec001-f4fa-4499-b96b-a25657aa7114"
      },
      "source": [
        "V = Matrix([1,2,3])\n",
        "V"
      ],
      "execution_count": null,
      "outputs": [
        {
          "output_type": "execute_result",
          "data": {
            "text/latex": "$\\displaystyle \\left[\\begin{matrix}1\\\\2\\\\3\\end{matrix}\\right]$",
            "text/plain": [
              "⎡1⎤\n",
              "⎢ ⎥\n",
              "⎢2⎥\n",
              "⎢ ⎥\n",
              "⎣3⎦"
            ]
          },
          "metadata": {
            "tags": []
          },
          "execution_count": 30
        }
      ]
    },
    {
      "cell_type": "markdown",
      "metadata": {
        "id": "tRUkFYQzvvFc"
      },
      "source": [
        "### **Forma 2** (en términos de vectores unitarios)"
      ]
    },
    {
      "cell_type": "code",
      "metadata": {
        "colab": {
          "base_uri": "https://localhost:8080/",
          "height": 37
        },
        "id": "kQlJ2uw9vvFd",
        "outputId": "8e84ccb9-8fbd-47cc-a458-ef3402c5d9bb"
      },
      "source": [
        "V = 1*i +2*j +3*k\n",
        "V"
      ],
      "execution_count": 14,
      "outputs": [
        {
          "output_type": "execute_result",
          "data": {
            "image/png": "[encoded data removed]",
            "text/latex": "$\\displaystyle \\mathbf{\\hat{e}_x} + 2\\mathbf{\\hat{e}_y} + 3\\mathbf{\\hat{e}_z}$",
            "text/plain": [
              "e_x + 2 e_y + 3 e_z"
            ]
          },
          "metadata": {
            "tags": []
          },
          "execution_count": 14
        }
      ]
    },
    {
      "cell_type": "markdown",
      "metadata": {
        "id": "0A52PSpXH5wE"
      },
      "source": [
        "## **Representación gráfica en el espacio** "
      ]
    },
    {
      "cell_type": "code",
      "metadata": {
        "colab": {
          "base_uri": "https://localhost:8080/",
          "height": 497
        },
        "id": "pKF2-kJGH5wV",
        "outputId": "db1bb3d8-3568-4a1e-e4c1-9f74b0621114"
      },
      "source": [
        "plotvectors3D([1,2,3])"
      ],
      "execution_count": null,
      "outputs": [
        {
          "output_type": "display_data",
          "data": {
            "text/html": [
              "<html>\n",
              "<head><meta charset=\"utf-8\" /></head>\n",
              "<body>\n",
              "    <div>\n",
              "            <script src=\"https://cdnjs.cloudflare.com/ajax/libs/mathjax/2.7.5/MathJax.js?config=TeX-AMS-MML_SVG\"></script><script type=\"text/javascript\">if (window.MathJax) {MathJax.Hub.Config({SVG: {font: \"STIX-Web\"}});}</script>\n",
              "                <script type=\"text/javascript\">window.PlotlyConfig = {MathJaxConfig: 'local'};</script>\n",
              "        <script src=\"https://cdn.plot.ly/plotly-latest.min.js\"></script>    \n",
              "            <div id=\"5f724eea-219e-47c2-b2f4-4e573cc7c931\" class=\"plotly-graph-div\" style=\"height:480px; width:480px;\"></div>\n",
              "            <script type=\"text/javascript\">\n",
              "                \n",
              "                    window.PLOTLYENV=window.PLOTLYENV || {};\n",
              "                    \n",
              "                if (document.getElementById(\"5f724eea-219e-47c2-b2f4-4e573cc7c931\")) {\n",
              "                    Plotly.newPlot(\n",
              "                        '5f724eea-219e-47c2-b2f4-4e573cc7c931',\n",
              "                        [{\"line\": {\"color\": \"rgb(12,177,83)\", \"width\": 7}, \"marker\": {\"color\": \"rgb(12,177,83)\", \"size\": 1}, \"name\": \"vector 1\", \"type\": \"scatter3d\", \"x\": [0, 1], \"y\": [0, 2], \"z\": [0, 3]}, {\"anchor\": \"cm\", \"colorbar\": {\"thickness\": 20, \"ticklen\": 4}, \"colorscale\": [[0, \"rgb(12,177,83)\"], [1, \"rgb(12,177,83)\"]], \"name\": \"vector 1\", \"showscale\": false, \"sizemode\": \"absolute\", \"sizeref\": 0.2, \"type\": \"cone\", \"u\": [1], \"v\": [2], \"w\": [3], \"x\": [1], \"y\": [2], \"z\": [3]}, {\"marker\": {\"color\": \"#2a3f5f\", \"size\": 5}, \"mode\": \"markers\", \"name\": \"origen\", \"showlegend\": true, \"type\": \"scatter3d\", \"x\": [0], \"y\": [0], \"z\": [0]}, {\"hoverinfo\": \"skip\", \"line\": {\"color\": \"#2a3f5f\", \"width\": 3}, \"marker\": {\"color\": \"#2a3f5f\", \"size\": 1}, \"name\": \"\", \"showlegend\": false, \"type\": \"scatter3d\", \"x\": [-0.2, 1.2], \"y\": [0, 0], \"z\": [0, 0]}, {\"anchor\": \"cm\", \"colorbar\": {\"thickness\": 20, \"ticklen\": 4}, \"colorscale\": [[0, \"#2a3f5f\"], [1, \"#2a3f5f\"]], \"hoverinfo\": \"name\", \"name\": \"Eje x-positivo\", \"showscale\": false, \"sizemode\": \"absolute\", \"sizeref\": 0.12, \"type\": \"cone\", \"u\": [1.2], \"v\": [0], \"w\": [0], \"x\": [1.2], \"y\": [0], \"z\": [0]}, {\"hoverinfo\": \"skip\", \"line\": {\"color\": \"#2a3f5f\", \"width\": 3}, \"marker\": {\"color\": \"#2a3f5f\", \"size\": 1}, \"name\": \"\", \"showlegend\": false, \"type\": \"scatter3d\", \"x\": [0, 0], \"y\": [-0.2, 2.2], \"z\": [0, 0]}, {\"anchor\": \"cm\", \"colorbar\": {\"thickness\": 20, \"ticklen\": 4}, \"colorscale\": [[0, \"#2a3f5f\"], [1, \"#2a3f5f\"]], \"hoverinfo\": \"name\", \"name\": \"Eje y-positivo \", \"showscale\": false, \"sizemode\": \"absolute\", \"sizeref\": 0.12, \"type\": \"cone\", \"u\": [0], \"v\": [2.2], \"w\": [0], \"x\": [0], \"y\": [2.2], \"z\": [0]}, {\"hoverinfo\": \"skip\", \"line\": {\"color\": \"#2a3f5f\", \"width\": 3}, \"marker\": {\"color\": \"#2a3f5f\", \"size\": 1}, \"name\": \"eje z-positivo\", \"showlegend\": false, \"type\": \"scatter3d\", \"x\": [0, 0], \"y\": [0, 0], \"z\": [-0.5, 3.2]}, {\"anchor\": \"cm\", \"colorbar\": {\"thickness\": 20, \"ticklen\": 4}, \"colorscale\": [[0, \"#2a3f5f\"], [1, \"#2a3f5f\"]], \"hoverinfo\": \"name\", \"name\": \"Eje z-positivo\", \"showscale\": false, \"sizemode\": \"absolute\", \"sizeref\": 0.12, \"type\": \"cone\", \"u\": [0], \"v\": [0], \"w\": [3.2], \"x\": [0], \"y\": [0], \"z\": [3.2]}],\n",
              "                        {\"height\": 480, \"legend\": {\"orientation\": \"h\", \"x\": 0.03, \"y\": 1.3}, \"margin\": {\"b\": 0, \"l\": 0, \"r\": 0, \"t\": 0}, \"showlegend\": true, \"template\": {\"data\": {\"bar\": [{\"error_x\": {\"color\": \"#2a3f5f\"}, \"error_y\": {\"color\": \"#2a3f5f\"}, \"marker\": {\"line\": {\"color\": \"#E5ECF6\", \"width\": 0.5}}, \"type\": \"bar\"}], \"barpolar\": [{\"marker\": {\"line\": {\"color\": \"#E5ECF6\", \"width\": 0.5}}, \"type\": \"barpolar\"}], \"carpet\": [{\"aaxis\": {\"endlinecolor\": \"#2a3f5f\", \"gridcolor\": \"white\", \"linecolor\": \"white\", \"minorgridcolor\": \"white\", \"startlinecolor\": \"#2a3f5f\"}, \"baxis\": {\"endlinecolor\": \"#2a3f5f\", \"gridcolor\": \"white\", \"linecolor\": \"white\", \"minorgridcolor\": \"white\", \"startlinecolor\": \"#2a3f5f\"}, \"type\": \"carpet\"}], \"choropleth\": [{\"colorbar\": {\"outlinewidth\": 0, \"ticks\": \"\"}, \"type\": \"choropleth\"}], \"contour\": [{\"colorbar\": {\"outlinewidth\": 0, \"ticks\": \"\"}, \"colorscale\": [[0.0, \"#0d0887\"], [0.1111111111111111, \"#46039f\"], [0.2222222222222222, \"#7201a8\"], [0.3333333333333333, \"#9c179e\"], [0.4444444444444444, \"#bd3786\"], [0.5555555555555556, \"#d8576b\"], [0.6666666666666666, \"#ed7953\"], [0.7777777777777778, \"#fb9f3a\"], [0.8888888888888888, \"#fdca26\"], [1.0, \"#f0f921\"]], \"type\": \"contour\"}], \"contourcarpet\": [{\"colorbar\": {\"outlinewidth\": 0, \"ticks\": \"\"}, \"type\": \"contourcarpet\"}], \"heatmap\": [{\"colorbar\": {\"outlinewidth\": 0, \"ticks\": \"\"}, \"colorscale\": [[0.0, \"#0d0887\"], [0.1111111111111111, \"#46039f\"], [0.2222222222222222, \"#7201a8\"], [0.3333333333333333, \"#9c179e\"], [0.4444444444444444, \"#bd3786\"], [0.5555555555555556, \"#d8576b\"], [0.6666666666666666, \"#ed7953\"], [0.7777777777777778, \"#fb9f3a\"], [0.8888888888888888, \"#fdca26\"], [1.0, \"#f0f921\"]], \"type\": \"heatmap\"}], \"heatmapgl\": [{\"colorbar\": {\"outlinewidth\": 0, \"ticks\": \"\"}, \"colorscale\": [[0.0, \"#0d0887\"], [0.1111111111111111, \"#46039f\"], [0.2222222222222222, \"#7201a8\"], [0.3333333333333333, \"#9c179e\"], [0.4444444444444444, \"#bd3786\"], [0.5555555555555556, \"#d8576b\"], [0.6666666666666666, \"#ed7953\"], [0.7777777777777778, \"#fb9f3a\"], [0.8888888888888888, \"#fdca26\"], [1.0, \"#f0f921\"]], \"type\": \"heatmapgl\"}], \"histogram\": [{\"marker\": {\"colorbar\": {\"outlinewidth\": 0, \"ticks\": \"\"}}, \"type\": \"histogram\"}], \"histogram2d\": [{\"colorbar\": {\"outlinewidth\": 0, \"ticks\": \"\"}, \"colorscale\": [[0.0, \"#0d0887\"], [0.1111111111111111, \"#46039f\"], [0.2222222222222222, \"#7201a8\"], [0.3333333333333333, \"#9c179e\"], [0.4444444444444444, \"#bd3786\"], [0.5555555555555556, \"#d8576b\"], [0.6666666666666666, \"#ed7953\"], [0.7777777777777778, \"#fb9f3a\"], [0.8888888888888888, \"#fdca26\"], [1.0, \"#f0f921\"]], \"type\": \"histogram2d\"}], \"histogram2dcontour\": [{\"colorbar\": {\"outlinewidth\": 0, \"ticks\": \"\"}, \"colorscale\": [[0.0, \"#0d0887\"], [0.1111111111111111, \"#46039f\"], [0.2222222222222222, \"#7201a8\"], [0.3333333333333333, \"#9c179e\"], [0.4444444444444444, \"#bd3786\"], [0.5555555555555556, \"#d8576b\"], [0.6666666666666666, \"#ed7953\"], [0.7777777777777778, \"#fb9f3a\"], [0.8888888888888888, \"#fdca26\"], [1.0, \"#f0f921\"]], \"type\": \"histogram2dcontour\"}], \"mesh3d\": [{\"colorbar\": {\"outlinewidth\": 0, \"ticks\": \"\"}, \"type\": \"mesh3d\"}], \"parcoords\": [{\"line\": {\"colorbar\": {\"outlinewidth\": 0, \"ticks\": \"\"}}, \"type\": \"parcoords\"}], \"pie\": [{\"automargin\": true, \"type\": \"pie\"}], \"scatter\": [{\"marker\": {\"colorbar\": {\"outlinewidth\": 0, \"ticks\": \"\"}}, \"type\": \"scatter\"}], \"scatter3d\": [{\"line\": {\"colorbar\": {\"outlinewidth\": 0, \"ticks\": \"\"}}, \"marker\": {\"colorbar\": {\"outlinewidth\": 0, \"ticks\": \"\"}}, \"type\": \"scatter3d\"}], \"scattercarpet\": [{\"marker\": {\"colorbar\": {\"outlinewidth\": 0, \"ticks\": \"\"}}, \"type\": \"scattercarpet\"}], \"scattergeo\": [{\"marker\": {\"colorbar\": {\"outlinewidth\": 0, \"ticks\": \"\"}}, \"type\": \"scattergeo\"}], \"scattergl\": [{\"marker\": {\"colorbar\": {\"outlinewidth\": 0, \"ticks\": \"\"}}, \"type\": \"scattergl\"}], \"scattermapbox\": [{\"marker\": {\"colorbar\": {\"outlinewidth\": 0, \"ticks\": \"\"}}, \"type\": \"scattermapbox\"}], \"scatterpolar\": [{\"marker\": {\"colorbar\": {\"outlinewidth\": 0, \"ticks\": \"\"}}, \"type\": \"scatterpolar\"}], \"scatterpolargl\": [{\"marker\": {\"colorbar\": {\"outlinewidth\": 0, \"ticks\": \"\"}}, \"type\": \"scatterpolargl\"}], \"scatterternary\": [{\"marker\": {\"colorbar\": {\"outlinewidth\": 0, \"ticks\": \"\"}}, \"type\": \"scatterternary\"}], \"surface\": [{\"colorbar\": {\"outlinewidth\": 0, \"ticks\": \"\"}, \"colorscale\": [[0.0, \"#0d0887\"], [0.1111111111111111, \"#46039f\"], [0.2222222222222222, \"#7201a8\"], [0.3333333333333333, \"#9c179e\"], [0.4444444444444444, \"#bd3786\"], [0.5555555555555556, \"#d8576b\"], [0.6666666666666666, \"#ed7953\"], [0.7777777777777778, \"#fb9f3a\"], [0.8888888888888888, \"#fdca26\"], [1.0, \"#f0f921\"]], \"type\": \"surface\"}], \"table\": [{\"cells\": {\"fill\": {\"color\": \"#EBF0F8\"}, \"line\": {\"color\": \"white\"}}, \"header\": {\"fill\": {\"color\": \"#C8D4E3\"}, \"line\": {\"color\": \"white\"}}, \"type\": \"table\"}]}, \"layout\": {\"annotationdefaults\": {\"arrowcolor\": \"#2a3f5f\", \"arrowhead\": 0, \"arrowwidth\": 1}, \"coloraxis\": {\"colorbar\": {\"outlinewidth\": 0, \"ticks\": \"\"}}, \"colorscale\": {\"diverging\": [[0, \"#8e0152\"], [0.1, \"#c51b7d\"], [0.2, \"#de77ae\"], [0.3, \"#f1b6da\"], [0.4, \"#fde0ef\"], [0.5, \"#f7f7f7\"], [0.6, \"#e6f5d0\"], [0.7, \"#b8e186\"], [0.8, \"#7fbc41\"], [0.9, \"#4d9221\"], [1, \"#276419\"]], \"sequential\": [[0.0, \"#0d0887\"], [0.1111111111111111, \"#46039f\"], [0.2222222222222222, \"#7201a8\"], [0.3333333333333333, \"#9c179e\"], [0.4444444444444444, \"#bd3786\"], [0.5555555555555556, \"#d8576b\"], [0.6666666666666666, \"#ed7953\"], [0.7777777777777778, \"#fb9f3a\"], [0.8888888888888888, \"#fdca26\"], [1.0, \"#f0f921\"]], \"sequentialminus\": [[0.0, \"#0d0887\"], [0.1111111111111111, \"#46039f\"], [0.2222222222222222, \"#7201a8\"], [0.3333333333333333, \"#9c179e\"], [0.4444444444444444, \"#bd3786\"], [0.5555555555555556, \"#d8576b\"], [0.6666666666666666, \"#ed7953\"], [0.7777777777777778, \"#fb9f3a\"], [0.8888888888888888, \"#fdca26\"], [1.0, \"#f0f921\"]]}, \"colorway\": [\"#636efa\", \"#EF553B\", \"#00cc96\", \"#ab63fa\", \"#FFA15A\", \"#19d3f3\", \"#FF6692\", \"#B6E880\", \"#FF97FF\", \"#FECB52\"], \"font\": {\"color\": \"#2a3f5f\"}, \"geo\": {\"bgcolor\": \"white\", \"lakecolor\": \"white\", \"landcolor\": \"#E5ECF6\", \"showlakes\": true, \"showland\": true, \"subunitcolor\": \"white\"}, \"hoverlabel\": {\"align\": \"left\"}, \"hovermode\": \"closest\", \"mapbox\": {\"style\": \"light\"}, \"paper_bgcolor\": \"white\", \"plot_bgcolor\": \"#E5ECF6\", \"polar\": {\"angularaxis\": {\"gridcolor\": \"white\", \"linecolor\": \"white\", \"ticks\": \"\"}, \"bgcolor\": \"#E5ECF6\", \"radialaxis\": {\"gridcolor\": \"white\", \"linecolor\": \"white\", \"ticks\": \"\"}}, \"scene\": {\"xaxis\": {\"backgroundcolor\": \"#E5ECF6\", \"gridcolor\": \"white\", \"gridwidth\": 2, \"linecolor\": \"white\", \"showbackground\": true, \"ticks\": \"\", \"zerolinecolor\": \"white\"}, \"yaxis\": {\"backgroundcolor\": \"#E5ECF6\", \"gridcolor\": \"white\", \"gridwidth\": 2, \"linecolor\": \"white\", \"showbackground\": true, \"ticks\": \"\", \"zerolinecolor\": \"white\"}, \"zaxis\": {\"backgroundcolor\": \"#E5ECF6\", \"gridcolor\": \"white\", \"gridwidth\": 2, \"linecolor\": \"white\", \"showbackground\": true, \"ticks\": \"\", \"zerolinecolor\": \"white\"}}, \"shapedefaults\": {\"line\": {\"color\": \"#2a3f5f\"}}, \"ternary\": {\"aaxis\": {\"gridcolor\": \"white\", \"linecolor\": \"white\", \"ticks\": \"\"}, \"baxis\": {\"gridcolor\": \"white\", \"linecolor\": \"white\", \"ticks\": \"\"}, \"bgcolor\": \"#E5ECF6\", \"caxis\": {\"gridcolor\": \"white\", \"linecolor\": \"white\", \"ticks\": \"\"}}, \"title\": {\"x\": 0.05}, \"xaxis\": {\"automargin\": true, \"gridcolor\": \"white\", \"linecolor\": \"white\", \"ticks\": \"\", \"title\": {\"standoff\": 15}, \"zerolinecolor\": \"white\", \"zerolinewidth\": 2}, \"yaxis\": {\"automargin\": true, \"gridcolor\": \"white\", \"linecolor\": \"white\", \"ticks\": \"\", \"title\": {\"standoff\": 15}, \"zerolinecolor\": \"white\", \"zerolinewidth\": 2}}}, \"title\": {\"font\": {\"color\": \"rgb(1,21,51)\", \"size\": 50}}, \"width\": 480},\n",
              "                        {\"responsive\": true}\n",
              "                    ).then(function(){\n",
              "                            \n",
              "var gd = document.getElementById('5f724eea-219e-47c2-b2f4-4e573cc7c931');\n",
              "var x = new MutationObserver(function (mutations, observer) {{\n",
              "        var display = window.getComputedStyle(gd).display;\n",
              "        if (!display || display === 'none') {{\n",
              "            console.log([gd, 'removed!']);\n",
              "            Plotly.purge(gd);\n",
              "            observer.disconnect();\n",
              "        }}\n",
              "}});\n",
              "\n",
              "// Listen for the removal of the full notebook cells\n",
              "var notebookContainer = gd.closest('#notebook-container');\n",
              "if (notebookContainer) {{\n",
              "    x.observe(notebookContainer, {childList: true});\n",
              "}}\n",
              "\n",
              "// Listen for the clearing of the current output cell\n",
              "var outputEl = gd.closest('.output');\n",
              "if (outputEl) {{\n",
              "    x.observe(outputEl, {childList: true});\n",
              "}}\n",
              "\n",
              "                        })\n",
              "                };\n",
              "                \n",
              "            </script>\n",
              "        </div>\n",
              "</body>\n",
              "</html>"
            ]
          },
          "metadata": {
            "tags": []
          }
        }
      ]
    },
    {
      "cell_type": "markdown",
      "metadata": {
        "id": "7XkgUlQS5GgC"
      },
      "source": [
        "#**Vectores $n$ dimensionales**\n",
        "Son vectores $\\vec{V} \\in \\mathbb {R^n}$ con $n > 3$, se notan como: \n",
        "\n",
        "$$\\vec{V} =  ( x_1,x_2,\\cdots ,x_n ) \\hspace{0.2cm} \\text{donde}    \\hspace{0.2cm} x_i \\in \\mathbb {R}$$\n",
        "\n",
        "###**Ejemplo:** \n",
        "Define el vector  $\\vec{V} = ( 1,2,3,4,5) $ en SymPy."
      ]
    },
    {
      "cell_type": "markdown",
      "metadata": {
        "id": "JhmH1EpT5GgH"
      },
      "source": [
        "### **Forma 1:** (como una matriz columna)"
      ]
    },
    {
      "cell_type": "code",
      "metadata": {
        "colab": {
          "base_uri": "https://localhost:8080/",
          "height": 119
        },
        "id": "IOnXruOb5GgI",
        "outputId": "866be4ca-c651-4f9b-f13a-0612ec73bcc8"
      },
      "source": [
        "V = Matrix([1,2,3,4,5])\n",
        "V"
      ],
      "execution_count": null,
      "outputs": [
        {
          "output_type": "execute_result",
          "data": {
            "text/latex": "$\\displaystyle \\left[\\begin{matrix}1\\\\2\\\\3\\\\4\\\\5\\end{matrix}\\right]$",
            "text/plain": [
              "⎡1⎤\n",
              "⎢ ⎥\n",
              "⎢2⎥\n",
              "⎢ ⎥\n",
              "⎢3⎥\n",
              "⎢ ⎥\n",
              "⎢4⎥\n",
              "⎢ ⎥\n",
              "⎣5⎦"
            ]
          },
          "metadata": {
            "tags": []
          },
          "execution_count": 33
        }
      ]
    },
    {
      "cell_type": "markdown",
      "metadata": {
        "id": "iE-pvRZfHCOV"
      },
      "source": [
        "# **Magnitud, norma o módulo de un vector**\n",
        "\n",
        "Sea  $\\vec{V} \\in \\mathbb {R^{n}}$ de la forma $\\vec{V} = (x_1,x_2 \\cdots,x_n)$ el **módulo**, la **norma** o **magnitud** del vector se define y se nota como:\n",
        "\n",
        "$$||V||= \\sqrt{x_1^2+x_2^2+\\cdots+x_{n-1}^2+x_{n}^2}$$\n",
        "\n",
        "Cuando $n\\leq 3$ la **norma** conincide con la longitud del vector en su **representación gráfica**.\n",
        "\n",
        "##**Ejemplo 1:**\n",
        "\n",
        "Halla la **norma** del vector representado en la figura:\n",
        "\n",
        "<center><img src=\"https://github.com/josorio398/ALGEBRA-LINEAL-CON-PYTHON/blob/master/im%C3%A1genes%20repositorio/magnitud1.png?raw=true\"  height=\"150\" />\n",
        "\n",
        "\n",
        "\n"
      ]
    },
    {
      "cell_type": "markdown",
      "metadata": {
        "id": "BXzFfYnc7v0t"
      },
      "source": [
        "###**Forma 1**"
      ]
    },
    {
      "cell_type": "code",
      "metadata": {
        "colab": {
          "base_uri": "https://localhost:8080/",
          "height": 36
        },
        "id": "Ck1-yYOgrYRb",
        "outputId": "d7f0b17d-7a69-41cd-815a-3734d230c2b5"
      },
      "source": [
        "V = Matrix([2])\n",
        "V.norm()"
      ],
      "execution_count": null,
      "outputs": [
        {
          "output_type": "execute_result",
          "data": {
            "image/png": "[encoded data removed]",
            "text/latex": "$\\displaystyle 2$",
            "text/plain": [
              "2"
            ]
          },
          "metadata": {
            "tags": []
          },
          "execution_count": 34
        }
      ]
    },
    {
      "cell_type": "markdown",
      "metadata": {
        "id": "E9C_owmi79iz"
      },
      "source": [
        "###**Forma 2**"
      ]
    },
    {
      "cell_type": "code",
      "metadata": {
        "id": "YhyYFN-yHF2d",
        "colab": {
          "base_uri": "https://localhost:8080/",
          "height": 36
        },
        "outputId": "d70884f7-e1eb-43d6-80f5-abcf0bd77ba2"
      },
      "source": [
        "V = 2*i\n",
        "V.magnitude()"
      ],
      "execution_count": 15,
      "outputs": [
        {
          "output_type": "execute_result",
          "data": {
            "image/png": "[encoded data removed]",
            "text/latex": "$\\displaystyle 2$",
            "text/plain": [
              "2"
            ]
          },
          "metadata": {
            "tags": []
          },
          "execution_count": 15
        }
      ]
    },
    {
      "cell_type": "markdown",
      "metadata": {
        "id": "SyPHuE7L8bD9"
      },
      "source": [
        "##**Ejemplo 2:**\n",
        "\n",
        "Halla la **norma** del vector representado en la figura:\n",
        "\n",
        "<center><img src=\"https://github.com/josorio398/ALGEBRA-LINEAL-CON-PYTHON/blob/master/im%C3%A1genes%20repositorio/magnitud2d.png?raw=true\"  height=\"300\" />"
      ]
    },
    {
      "cell_type": "markdown",
      "metadata": {
        "id": "sQdLFyj6DGV2"
      },
      "source": [
        "###**Forma 1**"
      ]
    },
    {
      "cell_type": "code",
      "metadata": {
        "colab": {
          "base_uri": "https://localhost:8080/",
          "height": 38
        },
        "id": "KIy_FS9WDGWU",
        "outputId": "023b2834-a87e-4475-c353-545564ba8e12"
      },
      "source": [
        "V = Matrix([-2,3])\n",
        "V.norm()"
      ],
      "execution_count": null,
      "outputs": [
        {
          "output_type": "execute_result",
          "data": {
            "image/png": "[encoded data removed]",
            "text/latex": "$\\displaystyle \\sqrt{13}$",
            "text/plain": [
              "√13"
            ]
          },
          "metadata": {
            "tags": []
          },
          "execution_count": 36
        }
      ]
    },
    {
      "cell_type": "markdown",
      "metadata": {
        "id": "Khm_lWn-DGWZ"
      },
      "source": [
        "###**Forma 2**"
      ]
    },
    {
      "cell_type": "code",
      "metadata": {
        "colab": {
          "base_uri": "https://localhost:8080/",
          "height": 38
        },
        "id": "VhFiySyTDGWa",
        "outputId": "054dbd41-1acd-48d4-d824-406d6a3276a9"
      },
      "source": [
        "V = -2*i+3*j\n",
        "V.magnitude()"
      ],
      "execution_count": 16,
      "outputs": [
        {
          "output_type": "execute_result",
          "data": {
            "image/png": "[encoded data removed]",
            "text/latex": "$\\displaystyle \\sqrt{13}$",
            "text/plain": [
              "√13"
            ]
          },
          "metadata": {
            "tags": []
          },
          "execution_count": 16
        }
      ]
    },
    {
      "cell_type": "markdown",
      "metadata": {
        "id": "s5kPYLZKFPxN"
      },
      "source": [
        "##**Ejemplo 3:**\n",
        "\n",
        "Halla la **norma** del vector representado en la figura:\n",
        "\n",
        "<center><img src=\"https://github.com/josorio398/ALGEBRA-LINEAL-CON-PYTHON/blob/master/im%C3%A1genes%20repositorio/magnitud3d.PNG?raw=true\"  height=\"300\" />"
      ]
    },
    {
      "cell_type": "markdown",
      "metadata": {
        "id": "kmrbyEL7FPxW"
      },
      "source": [
        "###**Forma 1**"
      ]
    },
    {
      "cell_type": "code",
      "metadata": {
        "colab": {
          "base_uri": "https://localhost:8080/",
          "height": 38
        },
        "id": "htDFXFL-FPxY",
        "outputId": "bb802523-fd2e-4f4f-a8c9-b673f903b83c"
      },
      "source": [
        "V = Matrix([1,2,3])\n",
        "V.norm()"
      ],
      "execution_count": null,
      "outputs": [
        {
          "output_type": "execute_result",
          "data": {
            "image/png": "[encoded data removed]",
            "text/latex": "$\\displaystyle \\sqrt{14}$",
            "text/plain": [
              "√14"
            ]
          },
          "metadata": {
            "tags": []
          },
          "execution_count": 38
        }
      ]
    },
    {
      "cell_type": "markdown",
      "metadata": {
        "id": "J8NUwxubFPxa"
      },
      "source": [
        "###**Forma 2**"
      ]
    },
    {
      "cell_type": "code",
      "metadata": {
        "colab": {
          "base_uri": "https://localhost:8080/",
          "height": 38
        },
        "id": "FzOami5BFPxb",
        "outputId": "985101b3-9a68-4aed-83c3-e20166a31521"
      },
      "source": [
        "V = 1*i+2*j+3*k\n",
        "V.magnitude()"
      ],
      "execution_count": 17,
      "outputs": [
        {
          "output_type": "execute_result",
          "data": {
            "image/png": "[encoded data removed]",
            "text/latex": "$\\displaystyle \\sqrt{14}$",
            "text/plain": [
              "√14"
            ]
          },
          "metadata": {
            "tags": []
          },
          "execution_count": 17
        }
      ]
    },
    {
      "cell_type": "markdown",
      "metadata": {
        "id": "B4fTX5suOFQV"
      },
      "source": [
        "##**Ejemplo 4:**\n",
        "\n",
        "Halla la **norma** del vector \n",
        "\n",
        "$$\\vec{V} = ( 2,4,5,6) $$"
      ]
    },
    {
      "cell_type": "markdown",
      "metadata": {
        "id": "EI7gZfI-OFQ2"
      },
      "source": [
        "###**Forma 1**"
      ]
    },
    {
      "cell_type": "code",
      "metadata": {
        "colab": {
          "base_uri": "https://localhost:8080/",
          "height": 36
        },
        "id": "A3SDbm51OFQ3",
        "outputId": "bb371e09-a993-4468-cff6-99cb9678e928"
      },
      "source": [
        "V = Matrix([2,4,5,6])\n",
        "V.norm()"
      ],
      "execution_count": null,
      "outputs": [
        {
          "output_type": "execute_result",
          "data": {
            "image/png": "[encoded data removed]",
            "text/latex": "$\\displaystyle 9$",
            "text/plain": [
              "9"
            ]
          },
          "metadata": {
            "tags": []
          },
          "execution_count": 40
        }
      ]
    },
    {
      "cell_type": "markdown",
      "metadata": {
        "id": "ojqsTiVYOFQ6"
      },
      "source": [
        "###**Forma 2**"
      ]
    },
    {
      "cell_type": "code",
      "metadata": {
        "colab": {
          "base_uri": "https://localhost:8080/",
          "height": 36
        },
        "id": "u7uF0R3MOFQ7",
        "outputId": "81c5ee05-05ac-4eaf-a9f1-e8517dea4786"
      },
      "source": [
        "V = Matrix([2,4,5,6])\n",
        "sqrt(V[0]**2 + V[1]**2 + V[2]**2 + V[3]**2)"
      ],
      "execution_count": null,
      "outputs": [
        {
          "output_type": "execute_result",
          "data": {
            "image/png": "[encoded data removed]",
            "text/latex": "$\\displaystyle 9$",
            "text/plain": [
              "9"
            ]
          },
          "metadata": {
            "tags": []
          },
          "execution_count": 41
        }
      ]
    },
    {
      "cell_type": "markdown",
      "metadata": {
        "id": "2f2VXN0hRx5G"
      },
      "source": [
        "#**DIRECCIÓN Y SENTIDO DE UN VECTOR**\n",
        "\n",
        "La dirección está definida por la recta soporte o linea de acción que contiene al vector y el sentido está determinado por la posición de la flecha en dicha recta, estas dos características determinan el ángulo."
      ]
    },
    {
      "cell_type": "markdown",
      "metadata": {
        "id": "_WO4xlpDHIIb"
      },
      "source": [
        "#**Ángulo de un vector unidimensional** \n",
        "\n",
        "<center><img src=\"https://github.com/josorio398/ALGEBRA-LINEAL-CON-PYTHON/blob/master/im%C3%A1genes%20repositorio/vector%20unidimensional.PNG?raw=true\"  height=\"300\" />"
      ]
    },
    {
      "cell_type": "code",
      "metadata": {
        "colab": {
          "base_uri": "https://localhost:8080/",
          "height": 36
        },
        "id": "s-GyfdqSQrxD",
        "outputId": "97d18e8c-8be6-4d25-f04d-807f0efa8f87"
      },
      "source": [
        "A = Matrix([-2])\n",
        "\n",
        "if A[0]> 0:\n",
        "    angulo = 0\n",
        "if A[0]<0 :\n",
        "    angulo = 180\n",
        "angulo\n"
      ],
      "execution_count": 18,
      "outputs": [
        {
          "output_type": "execute_result",
          "data": {
            "image/png": "[encoded data removed]",
            "text/latex": "$\\displaystyle 180$",
            "text/plain": [
              "180"
            ]
          },
          "metadata": {
            "tags": []
          },
          "execution_count": 18
        }
      ]
    },
    {
      "cell_type": "markdown",
      "metadata": {
        "id": "-2IdgyNEQdtU"
      },
      "source": [
        "#**Ángulo de un vector bidimensional**\n",
        "\n",
        "\n",
        "\n"
      ]
    },
    {
      "cell_type": "code",
      "metadata": {
        "id": "ICVOfVmsQc69"
      },
      "source": [
        ""
      ],
      "execution_count": null,
      "outputs": []
    },
    {
      "cell_type": "markdown",
      "metadata": {
        "id": "7_2wnoU9c5m3"
      },
      "source": [
        "#**Ángulos de un vector tridimensional**"
      ]
    },
    {
      "cell_type": "markdown",
      "metadata": {
        "id": "2_MXZUkBPWcj"
      },
      "source": [
        "#**TIPOS DE VECTORES**\n",
        "\n",
        "#**Vector fila**\n",
        "Un **vector fila** o **vector renglón** es una matriz formada por una fila y $n$ entradas y por lo tanto de tamaño $1 \\times n$, de la forma:\n",
        "\n",
        "$$\\vec{V} = (x_1,x_2 \\cdots,x_n)$$\n",
        "\n",
        "###**Ejemplo 1:**"
      ]
    },
    {
      "cell_type": "code",
      "metadata": {
        "colab": {
          "base_uri": "https://localhost:8080/",
          "height": 38
        },
        "id": "4ign4rsVPfQn",
        "outputId": "5f628a03-59ff-42c1-aa7d-8286263a6bde"
      },
      "source": [
        "V = Matrix(1,3,[4,5,6])\n",
        "V"
      ],
      "execution_count": null,
      "outputs": [
        {
          "output_type": "execute_result",
          "data": {
            "text/latex": "$\\displaystyle \\left[\\begin{matrix}4 & 5 & 6\\end{matrix}\\right]$",
            "text/plain": [
              "[4  5  6]"
            ]
          },
          "metadata": {
            "tags": []
          },
          "execution_count": 27
        }
      ]
    },
    {
      "cell_type": "markdown",
      "metadata": {
        "id": "LTs0f6WfV7F2"
      },
      "source": [
        "###**Ejemplo 2:** (vector fila aleatorio)"
      ]
    },
    {
      "cell_type": "code",
      "metadata": {
        "colab": {
          "base_uri": "https://localhost:8080/",
          "height": 38
        },
        "id": "CpWp-QepShs7",
        "outputId": "0067de97-67a8-4422-8f0d-78439cb59af7"
      },
      "source": [
        "V = randMatrix(1,4,min=-5, max=5)\n",
        "V"
      ],
      "execution_count": null,
      "outputs": [
        {
          "output_type": "execute_result",
          "data": {
            "text/latex": "$\\displaystyle \\left[\\begin{matrix}-1 & 4 & -2 & -2\\end{matrix}\\right]$",
            "text/plain": [
              "[-1  4  -2  -2]"
            ]
          },
          "metadata": {
            "tags": []
          },
          "execution_count": 26
        }
      ]
    },
    {
      "cell_type": "markdown",
      "metadata": {
        "id": "uSVxjyz2Wb8j"
      },
      "source": [
        "#**Vector columna**\n",
        "Un **vector columna** es una matriz formada por una columna y $n$ entradas y por lo tanto de  tamaño $n \\times 1$, de la forma:\n",
        "\n",
        "$$\\vec{V} = \\begin{pmatrix}x_1 \\\\ x_2 \\\\ \\vdots \\\\ x_n\\end{pmatrix} $$\n",
        "\n",
        "###**Ejemplo 1:**"
      ]
    },
    {
      "cell_type": "code",
      "metadata": {
        "colab": {
          "base_uri": "https://localhost:8080/",
          "height": 78
        },
        "id": "FNWOYb5AWb89",
        "outputId": "45b4358a-923b-4a36-fa3f-e82543cddfc1"
      },
      "source": [
        "V = Matrix([2,5,7])\n",
        "V"
      ],
      "execution_count": null,
      "outputs": [
        {
          "output_type": "execute_result",
          "data": {
            "text/latex": "$\\displaystyle \\left[\\begin{matrix}2\\\\5\\\\7\\end{matrix}\\right]$",
            "text/plain": [
              "⎡2⎤\n",
              "⎢ ⎥\n",
              "⎢5⎥\n",
              "⎢ ⎥\n",
              "⎣7⎦"
            ]
          },
          "metadata": {
            "tags": []
          },
          "execution_count": 28
        }
      ]
    },
    {
      "cell_type": "markdown",
      "metadata": {
        "id": "7uOXIKJkWb9A"
      },
      "source": [
        "###**Ejemplo 2:** (vector columna aleatorio)"
      ]
    },
    {
      "cell_type": "code",
      "metadata": {
        "colab": {
          "base_uri": "https://localhost:8080/",
          "height": 98
        },
        "id": "Cs6dtzGLWb9B",
        "outputId": "61f68896-af7d-49aa-d1d0-f60cece820cf"
      },
      "source": [
        "V = randMatrix(4,1,min=-5, max=5)\n",
        "V"
      ],
      "execution_count": null,
      "outputs": [
        {
          "output_type": "execute_result",
          "data": {
            "text/latex": "$\\displaystyle \\left[\\begin{matrix}2\\\\0\\\\-3\\\\3\\end{matrix}\\right]$",
            "text/plain": [
              "⎡2 ⎤\n",
              "⎢  ⎥\n",
              "⎢0 ⎥\n",
              "⎢  ⎥\n",
              "⎢-3⎥\n",
              "⎢  ⎥\n",
              "⎣3 ⎦"
            ]
          },
          "metadata": {
            "tags": []
          },
          "execution_count": 29
        }
      ]
    },
    {
      "cell_type": "markdown",
      "metadata": {
        "id": "JHtbQwaKYMSg"
      },
      "source": [
        "#**Vector nulo**\n",
        "un **vector nulo** o **vector cero** es un vector que posee módulo o mágnitud nula, se representa de la forma \n",
        "\n",
        "$$\\vec{0} = \\begin{pmatrix}0 \\\\ 0 \\\\ \\vdots \\\\ 0\\end{pmatrix} \\hspace{0.5cm} \\text{o} \\hspace{0.5cm} \\vec{0} = (0,0 \\cdots,0)$$\n",
        "\n",
        "respectivamente como **vector columna** o **vector fila**.\n",
        "\n",
        "###**Ejemplo 1:**"
      ]
    },
    {
      "cell_type": "code",
      "metadata": {
        "colab": {
          "base_uri": "https://localhost:8080/",
          "height": 38
        },
        "id": "UD7qvqn6Z_ox",
        "outputId": "2ab5756e-1dc4-470f-8168-4d815d175a7c"
      },
      "source": [
        "O = zeros(1,4)\n",
        "O"
      ],
      "execution_count": null,
      "outputs": [
        {
          "output_type": "execute_result",
          "data": {
            "text/latex": "$\\displaystyle \\left[\\begin{matrix}0 & 0 & 0 & 0\\end{matrix}\\right]$",
            "text/plain": [
              "[0  0  0  0]"
            ]
          },
          "metadata": {
            "tags": []
          },
          "execution_count": 30
        }
      ]
    },
    {
      "cell_type": "markdown",
      "metadata": {
        "id": "YihUXGzXaPS2"
      },
      "source": [
        "###**Ejemplo 2:**"
      ]
    },
    {
      "cell_type": "code",
      "metadata": {
        "colab": {
          "base_uri": "https://localhost:8080/",
          "height": 78
        },
        "id": "rAhMdcdQabIv",
        "outputId": "0f48c7d6-f43a-4d2f-9466-1dd5ebcb6c73"
      },
      "source": [
        "O = zeros(3,1)\n",
        "O"
      ],
      "execution_count": null,
      "outputs": [
        {
          "output_type": "execute_result",
          "data": {
            "text/latex": "$\\displaystyle \\left[\\begin{matrix}0\\\\0\\\\0\\end{matrix}\\right]$",
            "text/plain": [
              "⎡0⎤\n",
              "⎢ ⎥\n",
              "⎢0⎥\n",
              "⎢ ⎥\n",
              "⎣0⎦"
            ]
          },
          "metadata": {
            "tags": []
          },
          "execution_count": 31
        }
      ]
    },
    {
      "cell_type": "markdown",
      "metadata": {
        "id": "JTyDHj-plTiK"
      },
      "source": [
        "#**VECTORES FORMA POLAR**"
      ]
    },
    {
      "cell_type": "markdown",
      "metadata": {
        "id": "zELOjcaTdDWx"
      },
      "source": [
        "#**FUNCIONES Y MÉTODOS SOBRE VECTORES**"
      ]
    },
    {
      "cell_type": "markdown",
      "metadata": {
        "id": "O0CL3PSycU83"
      },
      "source": [
        "#**Dimensión de un vector**"
      ]
    },
    {
      "cell_type": "code",
      "metadata": {
        "colab": {
          "base_uri": "https://localhost:8080/",
          "height": 37
        },
        "id": "8yx1bXngcUGv",
        "outputId": "27e6669b-fffc-4c98-d986-44130bf1ed3c"
      },
      "source": [
        "V = Matrix([1,2,3,4,5])\n",
        "len(V)"
      ],
      "execution_count": null,
      "outputs": [
        {
          "output_type": "execute_result",
          "data": {
            "image/png": "[encoded data removed]",
            "text/latex": "$\\displaystyle 5$",
            "text/plain": [
              "5"
            ]
          },
          "metadata": {
            "tags": []
          },
          "execution_count": 8
        }
      ]
    },
    {
      "cell_type": "markdown",
      "metadata": {
        "id": "B2RxylBsdUyf"
      },
      "source": [
        "#**Indexar una coordenada del vector**"
      ]
    },
    {
      "cell_type": "code",
      "metadata": {
        "id": "ItPELPRpf5JC",
        "colab": {
          "base_uri": "https://localhost:8080/",
          "height": 37
        },
        "outputId": "18244f5c-3ed9-48ce-87aa-6d4fb8efec31"
      },
      "source": [
        "V = Matrix([1,2,3,4,5])\n",
        "V[2]"
      ],
      "execution_count": null,
      "outputs": [
        {
          "output_type": "execute_result",
          "data": {
            "image/png": "[encoded data removed]",
            "text/latex": "$\\displaystyle 3$",
            "text/plain": [
              "3"
            ]
          },
          "metadata": {
            "tags": []
          },
          "execution_count": 9
        }
      ]
    }
  ]
}