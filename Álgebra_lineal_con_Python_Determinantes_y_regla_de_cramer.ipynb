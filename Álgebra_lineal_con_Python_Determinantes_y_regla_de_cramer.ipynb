{
  "nbformat": 4,
  "nbformat_minor": 0,
  "metadata": {
    "colab": {
      "name": "Álgebra lineal con Python- Determinantes y regla de cramer.ipynb",
      "provenance": [],
      "collapsed_sections": [],
      "include_colab_link": true
    },
    "kernelspec": {
      "name": "python3",
      "display_name": "Python 3"
    }
  },
  "cells": [
    {
      "cell_type": "markdown",
      "metadata": {
        "id": "view-in-github",
        "colab_type": "text"
      },
      "source": [
        "<a href=\"https://colab.research.google.com/github/josorio398/ALGEBRA-LINEAL-CON-PYTHON/blob/master/%C3%81lgebra_lineal_con_Python_Determinantes_y_regla_de_cramer.ipynb\" target=\"_parent\"><img src=\"https://colab.research.google.com/assets/colab-badge.svg\" alt=\"Open In Colab\"/></a>"
      ]
    },
    {
      "cell_type": "markdown",
      "metadata": {
        "id": "RVxHpsbcExUD"
      },
      "source": [
        "<p><img alt=\"logo.fua\" height=\"100px\" src=\"https://www.uamerica.edu.co/wp-content/images/escudo.png\" align=\"left\" hspace=\"10px\" vspace=\"0px\"></p>\n",
        "\n",
        "<p><img alt=\"logo.fua\" height=\"26px\" src=\"https://mirrors.creativecommons.org/presskit/buttons/88x31/svg/by-nd.svg\" align=\"right\" hspace=\"0px\" vspace=\"11px\"></p>\n",
        "\n",
        "\n",
        "# <center> <font size=\"6\">**ÁLGEBRA LINEAL CON PYTHON** <center>*Jhonny Osorio Gallego &nbsp; &nbsp; &nbsp;<p>*</font> "
      ]
    },
    {
      "cell_type": "markdown",
      "metadata": {
        "id": "pELON3yz_46g"
      },
      "source": [
        "#**DETERMINANTES Y REGLA DE CRAMER**\n",
        "\n"
      ]
    },
    {
      "cell_type": "markdown",
      "metadata": {
        "id": "U515Q-sM2m9k"
      },
      "source": [
        "##**LIBRERÍA SIMBÓLICA SYMPY**\n",
        "**SymPy** es una biblioteca de Python para matemáticas simbólicas. Su objetivo es convertirse en un sistema de álgebra computacional (CAS) con todas las funciones, manteniendo el código lo más simple posible para que sea comprensible y fácilmente extensible. SymPy está escrito completamente en Python.[sympy.org](https://www.sympy.org/en/index.html)"
      ]
    },
    {
      "cell_type": "code",
      "metadata": {
        "id": "4wHJ9dZ3405h"
      },
      "source": [
        "from sympy import *\n",
        "init_printing() \n",
        "x,y,z,w,a,b = symbols(\"x y z w a b \")\n",
        "A,B,C = symbols(\"A B C \")"
      ],
      "execution_count": 2,
      "outputs": []
    },
    {
      "cell_type": "markdown",
      "metadata": {
        "id": "7W2a1nKcMwME"
      },
      "source": [
        "#**DEFINICIÓN DE UNA MATRIZ EN SYMPY**\n",
        "\n",
        "Define la siguente matriz en el módulo **SymPy**:\n",
        "\n",
        "$$A=\\begin{bmatrix}\n",
        "5 & 4 & 6 & 7 \\\\\n",
        "3 & 5 & 8 & 9 \\\\\n",
        "1 & 5 & 1 & 3 \\\\\n",
        "\\end{bmatrix}$$"
      ]
    },
    {
      "cell_type": "markdown",
      "metadata": {
        "id": "DJ9HtXdzOPAT"
      },
      "source": [
        "### **Forma 1:** "
      ]
    },
    {
      "cell_type": "code",
      "metadata": {
        "colab": {
          "base_uri": "https://localhost:8080/",
          "height": 78
        },
        "id": "FEniaiZiOON8",
        "outputId": "10295612-c3ad-4e4a-b3d0-af9997c34c59"
      },
      "source": [
        "A = Matrix([[5,4,6,7],[3,5,8,9],[1,5,1,3]])\n",
        "A"
      ],
      "execution_count": null,
      "outputs": [
        {
          "output_type": "execute_result",
          "data": {
            "text/latex": "$\\displaystyle \\left[\\begin{matrix}5 & 4 & 6 & 7\\\\3 & 5 & 8 & 9\\\\1 & 5 & 1 & 3\\end{matrix}\\right]$",
            "text/plain": [
              "⎡5  4  6  7⎤\n",
              "⎢          ⎥\n",
              "⎢3  5  8  9⎥\n",
              "⎢          ⎥\n",
              "⎣1  5  1  3⎦"
            ]
          },
          "metadata": {
            "tags": []
          },
          "execution_count": 2
        }
      ]
    },
    {
      "cell_type": "markdown",
      "metadata": {
        "id": "HDepGi8sOku4"
      },
      "source": [
        "### **Forma 2:** "
      ]
    },
    {
      "cell_type": "code",
      "metadata": {
        "colab": {
          "base_uri": "https://localhost:8080/",
          "height": 78
        },
        "id": "hDHRrXx1Mvn1",
        "outputId": "10f5397e-544a-4773-e4bc-7948243e0265"
      },
      "source": [
        "A = Matrix(3,4, [5,4,6,7,3,5,8,9,1,5,1,3])\n",
        "A"
      ],
      "execution_count": null,
      "outputs": [
        {
          "output_type": "execute_result",
          "data": {
            "text/latex": "$\\displaystyle \\left[\\begin{matrix}5 & 4 & 6 & 7\\\\3 & 5 & 8 & 9\\\\1 & 5 & 1 & 3\\end{matrix}\\right]$",
            "text/plain": [
              "⎡5  4  6  7⎤\n",
              "⎢          ⎥\n",
              "⎢3  5  8  9⎥\n",
              "⎢          ⎥\n",
              "⎣1  5  1  3⎦"
            ]
          },
          "metadata": {
            "tags": []
          },
          "execution_count": 3
        }
      ]
    },
    {
      "cell_type": "markdown",
      "metadata": {
        "id": "c4eZEIOn96k8"
      },
      "source": [
        "#**DETERMINANTES**\n",
        "\n",
        "Si $A$ es una matriz **cuadrada**, entonces la función determinante asocia a $A$ exactamente un número real llamado determinante de $A$. El determinante de $A$ se nota cómo $det(A)$ o $|A|$, podemos pensar en la función\n",
        "determinante como una correspondencia:\n",
        "\n",
        "\\begin{align}\n",
        "\\text{matriz cuadrada} \\hspace{0.5cm} &\\longrightarrow \\hspace{1cm}\\text{numero real}\\\\\n",
        "A \\hspace{2cm} &\\longrightarrow \\hspace{1cm}  det(A)=|A|\n",
        "\\end{align}"
      ]
    },
    {
      "cell_type": "markdown",
      "metadata": {
        "id": "c9eRCNhzG2oh"
      },
      "source": [
        "#**Determinante de una matriz cuadrada de orden 1**\n",
        "\n",
        "\n",
        "<center><h5> Si  $A =  \\begin{bmatrix}a_{11}\\end{bmatrix}$ es una <strong> matriz cuadrada de orden 1</strong> &nbsp; entonces &nbsp; $det(A) = a_{11} $\n",
        "\n"
      ]
    },
    {
      "cell_type": "markdown",
      "metadata": {
        "id": "PRprXS2Rgffg"
      },
      "source": [
        "\n",
        "### **Ejemplo 1: determinate matriz de orden 1**\n",
        "Cálcula el determinante de $A$ siendo:\n",
        "\n",
        "\n",
        "$$A=\\begin{bmatrix}\n",
        "5 \n",
        "\\end{bmatrix}$$\n",
        "\n",
        "###**Forma 1**"
      ]
    },
    {
      "cell_type": "code",
      "metadata": {
        "colab": {
          "base_uri": "https://localhost:8080/",
          "height": 38
        },
        "id": "FOCtqLMbSshR",
        "outputId": "93946777-4d40-447c-aa4b-85294d9aa0f7"
      },
      "source": [
        "A = Matrix([[a]])\n",
        "det(A)"
      ],
      "execution_count": null,
      "outputs": [
        {
          "output_type": "execute_result",
          "data": {
            "image/png": "[encoded data removed]",
            "text/latex": "$\\displaystyle a$",
            "text/plain": [
              "a"
            ]
          },
          "metadata": {
            "tags": []
          },
          "execution_count": 3
        }
      ]
    },
    {
      "cell_type": "markdown",
      "metadata": {
        "id": "KUW7dMUxTz0l"
      },
      "source": [
        "###**Forma 2**"
      ]
    },
    {
      "cell_type": "code",
      "metadata": {
        "colab": {
          "base_uri": "https://localhost:8080/",
          "height": 36
        },
        "id": "aLa3SHhYTDp3",
        "outputId": "7a39829e-314a-4821-997b-119dd1e855ea"
      },
      "source": [
        "A = Matrix([[5]])\n",
        "A.det()"
      ],
      "execution_count": null,
      "outputs": [
        {
          "output_type": "execute_result",
          "data": {
            "image/png": "[encoded data removed]",
            "text/latex": "$\\displaystyle 5$",
            "text/plain": [
              "5"
            ]
          },
          "metadata": {
            "tags": []
          },
          "execution_count": 4
        }
      ]
    },
    {
      "cell_type": "markdown",
      "metadata": {
        "id": "W3wmF4yagzSS"
      },
      "source": [
        "#**Determinante de una matriz cuadrada de orden 2**\n",
        "\n",
        "\n",
        "<center><h5> Si  $A=\\begin{bmatrix}\n",
        "a_{11} & a_{12}  \\\\\n",
        "a_{21} & a_{22} \\\\\n",
        "\\end{bmatrix}$ es una <strong>matriz cuadrada de orden 2</strong> &nbsp; entonces &nbsp; $det(A) = a_{11}a_{22}-a_{12}a_{21} $\n",
        "\n"
      ]
    },
    {
      "cell_type": "markdown",
      "metadata": {
        "id": "lbL6wWKngzST"
      },
      "source": [
        "### **Ejemplo 1: determinate de una  matriz cuadrada de orden 2**\n",
        "cálcula el determinante de $A$ siendo:\n",
        "\n",
        "\n",
        "$$A=\\begin{bmatrix}\n",
        "a & b  \\\\\n",
        "c & d \\\\\n",
        "\\end{bmatrix}$$\n"
      ]
    },
    {
      "cell_type": "code",
      "metadata": {
        "colab": {
          "base_uri": "https://localhost:8080/",
          "height": 38
        },
        "id": "gI4EpekugzSU",
        "outputId": "38456ef6-e767-4d8d-a1e5-a885475941b9"
      },
      "source": [
        "a,b,c,d = symbols(\"a b c d \")\n",
        "A = Matrix([[a, b], [c,d]])\n",
        "det(A)"
      ],
      "execution_count": null,
      "outputs": [
        {
          "output_type": "execute_result",
          "data": {
            "image/png": "[encoded data removed]",
            "text/latex": "$\\displaystyle a d - b c$",
            "text/plain": [
              "a⋅d - b⋅c"
            ]
          },
          "metadata": {
            "tags": []
          },
          "execution_count": 5
        }
      ]
    },
    {
      "cell_type": "markdown",
      "metadata": {
        "id": "1UUNiPFVgzSW"
      },
      "source": [
        "### **Ejemplo 2:**\n",
        "Cálcula el determinante de $A$ siendo:\n",
        "$$A=\\begin{bmatrix}\n",
        "-5 & 7  \\\\\n",
        "-2 & 6 \\\\\n",
        "\\end{bmatrix}$$\n"
      ]
    },
    {
      "cell_type": "code",
      "metadata": {
        "colab": {
          "base_uri": "https://localhost:8080/",
          "height": 36
        },
        "id": "roFkQRFogzSW",
        "outputId": "0c862c06-64dd-42b0-ce90-c0867d1c8b2f"
      },
      "source": [
        "A = Matrix([[-5, 7], [-2,6]])\n",
        "A.det()"
      ],
      "execution_count": null,
      "outputs": [
        {
          "output_type": "execute_result",
          "data": {
            "image/png": "[encoded data removed]",
            "text/latex": "$\\displaystyle -16$",
            "text/plain": [
              "-16"
            ]
          },
          "metadata": {
            "tags": []
          },
          "execution_count": 6
        }
      ]
    },
    {
      "cell_type": "markdown",
      "metadata": {
        "id": "aBkilJO8lhxN"
      },
      "source": [
        "#**Determinante de una matriz cuadrada de orden 3**\n",
        "\n",
        "## **Regla de sarrus**\n",
        "La regla de Sarrus es un método mnemotécnico para calcular el determinante de una **matriz cuadrada de orden 3**. Su nombre se debe al matemático francés Pierre Frédéric Sarrus.\n",
        "\n",
        "\n",
        "<center><h5> Si  $A=\\begin{bmatrix}\n",
        "a_{11} & a_{12} & a_{12}  \\\\\n",
        "a_{21} & a_{22} & a_{12} \\\\\n",
        "a_{31} & a_{32} & a_{32}\\\\\n",
        "\\end{bmatrix}$ es una <strong>matriz cuadrada de orden 3</strong> entonces </center>  \n",
        "\n",
        "&nbsp; $$det(A) = (a_{11}a_{22}a_{33}+a_{12}a_{23}a_{31}+a_{13}a_{21}a_{32})- (a_{13}a_{22}a_{31}+a_{11}a_{23}a_{32}+a_{12}a_{21}a_{33}) $$\n",
        "\n",
        "&nbsp;\n",
        "\n",
        "\n",
        "<center><h5><strong>Construcción nemotecnica de la regla de sarrus</strong></center>\n",
        "\n",
        "\n",
        "<center><img src=\"https://github.com/josorio398/ALGEBRA-LINEAL-CON-PYTHON/blob/master/im%C3%A1genes%20repositorio/Sarrus_rule.png?raw=true\"  height=\"200\" />\n",
        "\n",
        "\n"
      ]
    },
    {
      "cell_type": "markdown",
      "metadata": {
        "id": "m2ny_bht7NhX"
      },
      "source": [
        "### **Ejemplo 1: determinate de una matriz cuadrada de orden 3**\n",
        "Cálcula el determinante de $A$ siendo:\n",
        "\n",
        "\n",
        "$$A=\\begin{bmatrix}\n",
        "a_{11} & a_{12} & a_{13}  \\\\\n",
        "a_{21} & a_{22} & a_{23} \\\\\n",
        "a_{31} & a_{32} & a_{33}\\\\\n",
        "\\end{bmatrix}$$\n"
      ]
    },
    {
      "cell_type": "code",
      "metadata": {
        "colab": {
          "base_uri": "https://localhost:8080/",
          "height": 78
        },
        "id": "aLm8ysSP5-xa",
        "outputId": "9427b393-33d0-4860-fd55-95427e9c6498"
      },
      "source": [
        "a11, a12, a13, a21, a22, a23, a31, a32, a33, = symbols(\"a11 a12 a13 a21 a22 a23 a31 a32 a33\")\n",
        "A = Matrix([[a11, a12, a13], [a21,a22,a23],[a31, a32, a33]])\n",
        "A"
      ],
      "execution_count": null,
      "outputs": [
        {
          "output_type": "execute_result",
          "data": {
            "text/latex": "$\\displaystyle \\left[\\begin{matrix}a_{11} & a_{12} & a_{13}\\\\a_{21} & a_{22} & a_{23}\\\\a_{31} & a_{32} & a_{33}\\end{matrix}\\right]$",
            "text/plain": [
              "⎡a₁₁  a₁₂  a₁₃⎤\n",
              "⎢             ⎥\n",
              "⎢a₂₁  a₂₂  a₂₃⎥\n",
              "⎢             ⎥\n",
              "⎣a₃₁  a₃₂  a₃₃⎦"
            ]
          },
          "metadata": {
            "tags": []
          },
          "execution_count": 7
        }
      ]
    },
    {
      "cell_type": "code",
      "metadata": {
        "colab": {
          "base_uri": "https://localhost:8080/",
          "height": 38
        },
        "id": "f-2TgHRTsJXr",
        "outputId": "24c11724-182f-43b3-dfcc-24b0c3aa6072"
      },
      "source": [
        "det(A)"
      ],
      "execution_count": null,
      "outputs": [
        {
          "output_type": "execute_result",
          "data": {
            "image/png": "[encoded data removed]",
            "text/latex": "$\\displaystyle a_{11} a_{22} a_{33} - a_{11} a_{23} a_{32} - a_{12} a_{21} a_{33} + a_{12} a_{23} a_{31} + a_{13} a_{21} a_{32} - a_{13} a_{22} a_{31}$",
            "text/plain": [
              "a₁₁⋅a₂₂⋅a₃₃ - a₁₁⋅a₂₃⋅a₃₂ - a₁₂⋅a₂₁⋅a₃₃ + a₁₂⋅a₂₃⋅a₃₁ + a₁₃⋅a₂₁⋅a₃₂ - a₁₃⋅a₂₂⋅\n",
              "a₃₁"
            ]
          },
          "metadata": {
            "tags": []
          },
          "execution_count": 8
        }
      ]
    },
    {
      "cell_type": "markdown",
      "metadata": {
        "id": "Nx7S3xuT7r_V"
      },
      "source": [
        "### **Ejemplo 2:**\n",
        "Cálcula el determinante de $A$ siendo:\n",
        "\n",
        "$$A=\\begin{bmatrix}\n",
        "5 & -3 & 6  \\\\\n",
        "5 & 9 & 12 \\\\\n",
        "9 & 3 & 5\\\\\n",
        "\\end{bmatrix}$$\n"
      ]
    },
    {
      "cell_type": "code",
      "metadata": {
        "colab": {
          "base_uri": "https://localhost:8080/",
          "height": 36
        },
        "id": "kZLPSUTs7r_X",
        "outputId": "4e1d0f54-429c-4891-f113-3ecf3b008693"
      },
      "source": [
        "A = Matrix([[5,-3, 6], [5,9,12],[9,3,5]])\n",
        "A.det()"
      ],
      "execution_count": null,
      "outputs": [
        {
          "output_type": "execute_result",
          "data": {
            "image/png": "[encoded data removed]",
            "text/latex": "$\\displaystyle -600$",
            "text/plain": [
              "-600"
            ]
          },
          "metadata": {
            "tags": []
          },
          "execution_count": 9
        }
      ]
    },
    {
      "cell_type": "markdown",
      "metadata": {
        "id": "F7N0Pu3y9GgZ"
      },
      "source": [
        "#**Determinante de una matriz cuadrada de orden $n$**\n",
        "\n",
        "Para encontrar el determinante de cualquier matriz cuadrada $A$ de orden $n$ $(n>2)$, seleccione cualquier renglón (o columna) de A y multiplique cada entrada en el renglón (columna) por su cofactor. La suma de estos productos será el determinante de $A$, llamado determinante de orden $n$.\n",
        "\n",
        "Sea $A$ es una matriz cuadrada de tamaño $n\\times n$\n",
        "\n",
        "si seleccionamos una fila $i$:\n",
        "\n",
        "$$|A|= det(A) = a_{i1}A_{n1}+a_{i2}A_{n2}+ \\cdots+ a_{in}A_{in} = \\displaystyle \\sum_{k=1}^{n}a_{ik}A_{ik} = \\displaystyle \\sum_{k=1}^{n}a_{ik}(-1)^{i+k}M_{ik}  $$\n",
        "\n",
        "si seleccionamos una columna $i$:\n",
        "\n",
        "$$|A|= det(A) = a_{1i}A_{1i}+a_{2i}A_{2i}+ \\cdots+ a_{ni}A_{ni} = \\displaystyle \\sum_{k=1}^{n}a_{ki}A_{ki} = \\displaystyle \\sum_{k=1}^{n}a_{ki}(-1)^{k+i}M_{ki}  $$\n",
        "\n",
        "donde $A_{ki}$ o $A_{ik}$ es el llamado **cofactor** y  $M_{ki}$ o $M_{ik}$ es llamano **menor** de la matriz.\n",
        "\n",
        "\n",
        "El **menor** *$M_{ki}$*  de una matriz $A$ es el determinante de la **submatriz** obtenida al eliminar la fila $k$ y la columna $i$ de la matriz $A$.\n"
      ]
    },
    {
      "cell_type": "markdown",
      "metadata": {
        "id": "jHlX43OhWKoE"
      },
      "source": [
        "## **Cálculo de menores**\n",
        "Cálcula el menor $M_{12}$ de $A$ siendo:\n",
        "\n",
        "$$A=\\begin{bmatrix}\n",
        "5 & -3 & 6  \\\\\n",
        "5 & 9 & 12 \\\\\n",
        "9 & 3 & 5\\\\\n",
        "\\end{bmatrix}$$\n",
        "### **Forma 1:** *usando la función* **minor( )**"
      ]
    },
    {
      "cell_type": "code",
      "metadata": {
        "id": "w-rrh7vMCSA5",
        "colab": {
          "base_uri": "https://localhost:8080/",
          "height": 36
        },
        "outputId": "bf9ee3f9-9700-4307-db92-001d7bfd7c9c"
      },
      "source": [
        "A = Matrix([[5, -3, 6], [5, 9, 12], [9, 3, 5]])\n",
        "A.minor(2,1)"
      ],
      "execution_count": null,
      "outputs": [
        {
          "output_type": "execute_result",
          "data": {
            "image/png": "[encoded data removed]",
            "text/latex": "$\\displaystyle 30$",
            "text/plain": [
              "30"
            ]
          },
          "metadata": {
            "tags": []
          },
          "execution_count": 11
        }
      ]
    },
    {
      "cell_type": "markdown",
      "metadata": {
        "id": "FYNYrFiBXhTH"
      },
      "source": [
        "### **Forma 2:** *encontrando el determinate de la submatriz*"
      ]
    },
    {
      "cell_type": "code",
      "metadata": {
        "colab": {
          "base_uri": "https://localhost:8080/",
          "height": 36
        },
        "id": "U4Z7fGJrDH3v",
        "outputId": "9a8246ae-1742-47af-da58-195801b2c7ca"
      },
      "source": [
        "A = Matrix([[5, -3, 6], [5, 9, 12], [9, 3, 5]])\n",
        "A.row_del(2)\n",
        "A.col_del(1)\n",
        "A.det()"
      ],
      "execution_count": null,
      "outputs": [
        {
          "output_type": "execute_result",
          "data": {
            "image/png": "[encoded data removed]",
            "text/latex": "$\\displaystyle 30$",
            "text/plain": [
              "30"
            ]
          },
          "metadata": {
            "tags": []
          },
          "execution_count": 12
        }
      ]
    },
    {
      "cell_type": "markdown",
      "metadata": {
        "id": "0W5op-VXYnHM"
      },
      "source": [
        "## **Cálculo de cofactores** \n",
        "Cálcula el cofactor $A_{12}$ de $A$ siendo:\n",
        "\n",
        "$$A=\\begin{bmatrix}\n",
        "5 & -3 & 6  \\\\\n",
        "5 & 9 & 12 \\\\\n",
        "9 & 3 & 5\\\\\n",
        "\\end{bmatrix}$$\n",
        "### **Forma 1** *usando la función* **cofactor( )**"
      ]
    },
    {
      "cell_type": "code",
      "metadata": {
        "colab": {
          "base_uri": "https://localhost:8080/",
          "height": 36
        },
        "id": "bTbSuKlSYnHQ",
        "outputId": "f370a19a-e7a8-45b0-aea4-947ba003c93d"
      },
      "source": [
        "A = Matrix([[5, -3, 6], [5, 9, 12], [9, 3, 5]])\n",
        "A.cofactor(0,1)"
      ],
      "execution_count": null,
      "outputs": [
        {
          "output_type": "execute_result",
          "data": {
            "image/png": "[encoded data removed]",
            "text/latex": "$\\displaystyle 83$",
            "text/plain": [
              "83"
            ]
          },
          "metadata": {
            "tags": []
          },
          "execution_count": 38
        }
      ]
    },
    {
      "cell_type": "markdown",
      "metadata": {
        "id": "L8FStbT7YnHR"
      },
      "source": [
        "### **Forma 2** *usando la función* **minor( )**"
      ]
    },
    {
      "cell_type": "code",
      "metadata": {
        "colab": {
          "base_uri": "https://localhost:8080/",
          "height": 36
        },
        "id": "n6RafJaEYnHS",
        "outputId": "07a9d219-279b-4bfb-e211-d5073e27d1f9"
      },
      "source": [
        "A = Matrix([[5, -3, 6], [5, 9, 12], [9, 3, 5]])\n",
        "(-1)**(1+2)*A.minor(0,1)"
      ],
      "execution_count": null,
      "outputs": [
        {
          "output_type": "execute_result",
          "data": {
            "image/png": "[encoded data removed]",
            "text/latex": "$\\displaystyle 83$",
            "text/plain": [
              "83"
            ]
          },
          "metadata": {
            "tags": []
          },
          "execution_count": 39
        }
      ]
    },
    {
      "cell_type": "markdown",
      "metadata": {
        "id": "aBr7Sc4vhBcF"
      },
      "source": [
        "### **Forma 3:** *encontrando el determinate de la submatriz*"
      ]
    },
    {
      "cell_type": "code",
      "metadata": {
        "colab": {
          "base_uri": "https://localhost:8080/",
          "height": 36
        },
        "id": "Mh9ojk6BhBcU",
        "outputId": "df5111b2-bc37-404c-89b3-1b475675c085"
      },
      "source": [
        "M = Matrix([[5, -3, 6], [5, 9, 12], [9, 3, 5]])\n",
        "F = 0   # fila\n",
        "C = 1   # columna\n",
        "M.row_del(F)\n",
        "M.col_del(C)\n",
        "(-1)**(F+C)*det(M)"
      ],
      "execution_count": null,
      "outputs": [
        {
          "output_type": "execute_result",
          "data": {
            "image/png": "[encoded data removed]",
            "text/latex": "$\\displaystyle 83$",
            "text/plain": [
              "83"
            ]
          },
          "metadata": {
            "tags": []
          },
          "execution_count": 40
        }
      ]
    },
    {
      "cell_type": "markdown",
      "metadata": {
        "id": "0rvHsukWpneA"
      },
      "source": [
        "# **Cálculo de determinantes paso a paso**\n",
        "cálcula el determinante de $A$ paso a  paso:\n",
        "\n",
        "$$A=\\begin{bmatrix}\n",
        "5 & -3 & 6  \\\\\n",
        "5 & 9 & 12 \\\\\n",
        "9 & 3 & 5\\\\\n",
        "\\end{bmatrix}$$\n",
        "\n",
        "### **Forma 1** *usando la función* **minor( )**"
      ]
    },
    {
      "cell_type": "code",
      "metadata": {
        "colab": {
          "base_uri": "https://localhost:8080/",
          "height": 36
        },
        "id": "gNLN6TEXCWsa",
        "outputId": "22a4b80e-a785-4064-cfc1-8cbddbe0546a"
      },
      "source": [
        "A = Matrix([[5, -3, 6], [5, 9, 12], [9, 3, 5]])\n",
        "\n",
        "(-1)**(0+0)*A[0,0]*A.minor(0, 0)+(-1)**(0+1)*A[0,1]*A.minor(0, 1)+(-1)**(0+2)*A[0,2]*A.minor(0, 2)\n"
      ],
      "execution_count": null,
      "outputs": [
        {
          "output_type": "execute_result",
          "data": {
            "image/png": "[encoded data removed]",
            "text/latex": "$\\displaystyle -600$",
            "text/plain": [
              "-600"
            ]
          },
          "metadata": {
            "tags": []
          },
          "execution_count": 41
        }
      ]
    },
    {
      "cell_type": "markdown",
      "metadata": {
        "id": "j3waxR9Disb4"
      },
      "source": [
        "\n",
        "### **Forma 1** *usando la función* **cofactor( )**"
      ]
    },
    {
      "cell_type": "code",
      "metadata": {
        "colab": {
          "base_uri": "https://localhost:8080/",
          "height": 36
        },
        "id": "VcYkACABiuox",
        "outputId": "d1f54dc2-58f8-404c-b610-4f8818247193"
      },
      "source": [
        "A = Matrix([[5, -3, 6], [5, 9, 12], [9, 3, 5]])\n",
        "\n",
        "A[0,0]*A.cofactor(0, 0)+A[0,1]*A.cofactor(0, 1)+A[0,2]*A.cofactor(0, 2)"
      ],
      "execution_count": null,
      "outputs": [
        {
          "output_type": "execute_result",
          "data": {
            "image/png": "[encoded data removed]",
            "text/latex": "$\\displaystyle -600$",
            "text/plain": [
              "-600"
            ]
          },
          "metadata": {
            "tags": []
          },
          "execution_count": 42
        }
      ]
    },
    {
      "cell_type": "markdown",
      "metadata": {
        "id": "C2CrjPiTY3_V"
      },
      "source": [
        "<p><height=\"45px\" src=\"<a href=\"https://ibb.co/pZYMC0T\"><img src=\"https://i.ibb.co/ZL1WsdZ/poll.png\" align=\"left\" alt=\"\" width=\"4%\" height=\"5%\"></a><p> <H2><strong>&nbsp;Actividad de práctica:</strong> Completa el código para hallar el determinante de una matriz  aleatoria de orden 5, sin usar la función o método det( ) de SymPy."
      ]
    },
    {
      "cell_type": "code",
      "metadata": {
        "id": "dhozC2VgZUkQ"
      },
      "source": [
        "A = randMatrix(5, min=-5, max=5)\n",
        "\n"
      ],
      "execution_count": null,
      "outputs": []
    },
    {
      "cell_type": "markdown",
      "metadata": {
        "id": "ya5Tl9M-kB9B"
      },
      "source": [
        "#**PROPIEDADES DETERMINANTES**\n",
        "\n",
        "### Sea ${\\displaystyle A,B\\in {\\mathcal {M}}_{n\\times n}(\\mathbb {R} )}$, y $k \\in \\mathbb {R}$, se cumplen las siguientes propiedades del determinante:"
      ]
    },
    {
      "cell_type": "markdown",
      "metadata": {
        "id": "Bgmti9Oxkt9M"
      },
      "source": [
        "###**Propiedad 1:** Si cada una de las entradas de un renglón (o columna) de $A$ es $0$, entonces $|A| = 0$."
      ]
    },
    {
      "cell_type": "code",
      "metadata": {
        "id": "3tNxOkOqkBRA",
        "colab": {
          "base_uri": "https://localhost:8080/"
        },
        "outputId": "3a9d8925-dfd3-4beb-ee18-9d4e1c07c243"
      },
      "source": [
        "n = 9\n",
        "C = zeros(n,1)\n",
        "A = randMatrix(n,n-1)\n",
        "M = A.col_insert(3,C)\n",
        "det(M) == 0"
      ],
      "execution_count": null,
      "outputs": [
        {
          "output_type": "execute_result",
          "data": {
            "text/plain": [
              "True"
            ]
          },
          "metadata": {
            "tags": []
          },
          "execution_count": 40
        }
      ]
    },
    {
      "cell_type": "markdown",
      "metadata": {
        "id": "0P_qpCxTlOVp"
      },
      "source": [
        "###**Propiedad 2:** Si dos renglones (o columnas) de $A$ son idénticos, $|A| = 0$."
      ]
    },
    {
      "cell_type": "code",
      "metadata": {
        "id": "I-kmVDXllPRx"
      },
      "source": [
        ""
      ],
      "execution_count": null,
      "outputs": []
    },
    {
      "cell_type": "markdown",
      "metadata": {
        "id": "5QuN3x4LlPy2"
      },
      "source": [
        "###**Propiedad 3:** Si $A$ es triangular superior (o inferior), entonces $|A|$ es igual al producto de las entradas de la diagonal principal."
      ]
    },
    {
      "cell_type": "code",
      "metadata": {
        "id": "7YlEpI2LlQ2C",
        "colab": {
          "base_uri": "https://localhost:8080/",
          "height": 78
        },
        "outputId": "e114bbde-e994-447e-e667-3510e3f64b5c"
      },
      "source": [
        "A = Matrix([[a,6,4],[0,b,2],[0,0,c]])\n",
        "A"
      ],
      "execution_count": null,
      "outputs": [
        {
          "output_type": "execute_result",
          "data": {
            "text/latex": "$\\displaystyle \\left[\\begin{matrix}a & 6 & 4\\\\0 & b & 2\\\\0 & 0 & c\\end{matrix}\\right]$",
            "text/plain": [
              "⎡a  6  4⎤\n",
              "⎢       ⎥\n",
              "⎢0  b  2⎥\n",
              "⎢       ⎥\n",
              "⎣0  0  c⎦"
            ]
          },
          "metadata": {
            "tags": []
          },
          "execution_count": 41
        }
      ]
    },
    {
      "cell_type": "code",
      "metadata": {
        "colab": {
          "base_uri": "https://localhost:8080/",
          "height": 38
        },
        "id": "DtjgfO6T2iCu",
        "outputId": "e946bd89-c3a3-4db7-b879-48aa703f843d"
      },
      "source": [
        "det(A)"
      ],
      "execution_count": null,
      "outputs": [
        {
          "output_type": "execute_result",
          "data": {
            "image/png": "[encoded data removed]",
            "text/latex": "$\\displaystyle a b c$",
            "text/plain": [
              "a⋅b⋅c"
            ]
          },
          "metadata": {
            "tags": []
          },
          "execution_count": 42
        }
      ]
    },
    {
      "cell_type": "markdown",
      "metadata": {
        "id": "9y_FfMoGmHeP"
      },
      "source": [
        "###**Propiedad 4:** Si $B$ es la matriz que se obtiene al intercambiar dos renglones (o columnas) de $A$, entonces $|B|=-|A|$, o en forma equivalente, $|A|=-|B|$.\n",
        "\n",
        "|  Operación elemental        | Código |\n",
        "|:--------------------------------------:|:--------------:|\n",
        "| Interrarcambiar la fila<br> $F_i$ con $F_j$ | **` A.row_swap(i, j)`**   |\n",
        "| Interrarcambiar la columna<br> $C_i$ con $C_j$ | **` A.col_swap(i, j)`**   |"
      ]
    },
    {
      "cell_type": "code",
      "metadata": {
        "id": "DoYF4prHRr7-",
        "colab": {
          "base_uri": "https://localhost:8080/",
          "height": 99
        },
        "outputId": "8e427e15-4acb-4fc4-8f6d-22e57b0db2bc"
      },
      "source": [
        "A = randMatrix(4,min=-5, max=5)\n",
        "A"
      ],
      "execution_count": null,
      "outputs": [
        {
          "output_type": "execute_result",
          "data": {
            "text/latex": "$\\displaystyle \\left[\\begin{matrix}2 & -5 & -2 & 2\\\\-1 & 0 & 5 & 1\\\\3 & -3 & -5 & -4\\\\3 & 0 & -1 & 3\\end{matrix}\\right]$",
            "text/plain": [
              "⎡2   -5  -2  2 ⎤\n",
              "⎢              ⎥\n",
              "⎢-1  0   5   1 ⎥\n",
              "⎢              ⎥\n",
              "⎢3   -3  -5  -4⎥\n",
              "⎢              ⎥\n",
              "⎣3   0   -1  3 ⎦"
            ]
          },
          "metadata": {
            "tags": []
          },
          "execution_count": 48
        }
      ]
    },
    {
      "cell_type": "code",
      "metadata": {
        "colab": {
          "base_uri": "https://localhost:8080/",
          "height": 36
        },
        "id": "fmZ5TKAG4i50",
        "outputId": "414c2c0f-892a-4c51-efc3-e68bfc9c053b"
      },
      "source": [
        "det_A = det(A)\n",
        "det_A "
      ],
      "execution_count": null,
      "outputs": [
        {
          "output_type": "execute_result",
          "data": {
            "image/png": "[encoded data removed]",
            "text/latex": "$\\displaystyle -394$",
            "text/plain": [
              "-394"
            ]
          },
          "metadata": {
            "tags": []
          },
          "execution_count": 49
        }
      ]
    },
    {
      "cell_type": "code",
      "metadata": {
        "colab": {
          "base_uri": "https://localhost:8080/",
          "height": 99
        },
        "id": "RBJNhBNS4UDA",
        "outputId": "101a5617-4faf-4fb9-881d-d43de933dfbe"
      },
      "source": [
        "A.row_swap(1, 3)\n",
        "B = A\n",
        "B"
      ],
      "execution_count": null,
      "outputs": [
        {
          "output_type": "execute_result",
          "data": {
            "text/latex": "$\\displaystyle \\left[\\begin{matrix}2 & -5 & -2 & 2\\\\3 & 0 & -1 & 3\\\\3 & -3 & -5 & -4\\\\-1 & 0 & 5 & 1\\end{matrix}\\right]$",
            "text/plain": [
              "⎡2   -5  -2  2 ⎤\n",
              "⎢              ⎥\n",
              "⎢3   0   -1  3 ⎥\n",
              "⎢              ⎥\n",
              "⎢3   -3  -5  -4⎥\n",
              "⎢              ⎥\n",
              "⎣-1  0   5   1 ⎦"
            ]
          },
          "metadata": {
            "tags": []
          },
          "execution_count": 50
        }
      ]
    },
    {
      "cell_type": "code",
      "metadata": {
        "colab": {
          "base_uri": "https://localhost:8080/",
          "height": 36
        },
        "id": "8mGMQrJm4z91",
        "outputId": "4886d5a3-d70f-4127-8c93-f58d259bd01e"
      },
      "source": [
        "det_B = det(B)\n",
        "det_B "
      ],
      "execution_count": null,
      "outputs": [
        {
          "output_type": "execute_result",
          "data": {
            "image/png": "[encoded data removed]",
            "text/latex": "$\\displaystyle 394$",
            "text/plain": [
              "394"
            ]
          },
          "metadata": {
            "tags": []
          },
          "execution_count": 52
        }
      ]
    },
    {
      "cell_type": "code",
      "metadata": {
        "colab": {
          "base_uri": "https://localhost:8080/"
        },
        "id": "w-c-iL_-46ev",
        "outputId": "176125e4-6661-48b4-91f5-ea0e1454199e"
      },
      "source": [
        "A = randMatrix(4,min=-5, max=5)\n",
        "det_A = det(A)\n",
        "A.row_swap(1, 3)\n",
        "B = A\n",
        "det_B = det(B)\n",
        "det_B == -1*det_A\n"
      ],
      "execution_count": null,
      "outputs": [
        {
          "output_type": "execute_result",
          "data": {
            "text/plain": [
              "True"
            ]
          },
          "metadata": {
            "tags": []
          },
          "execution_count": 53
        }
      ]
    },
    {
      "cell_type": "markdown",
      "metadata": {
        "id": "--D64KU0ltBG"
      },
      "source": [
        "###**Propiedad 5:** Si $B$ es la matriz que se obtiene sumando un múltiplo de un renglón (o columna) de $A$ a otro renglón (columna), entonces $det(B)=det(A)$.\n",
        "\n",
        "|  Operación elemental        | Código |\n",
        "|:--------------------------------------:|:--------------:|\n",
        "| Sumar $k$ veces la fila $F_i$ <br> a la fila $F_j$ | **`A[j ,:] = k*A[ i ,:] + A[j ,:]`**  |\n",
        "| Sumar $k$ veces la columna $C_i$ <br> a la columna $C_j$ | **`A[: ,j] = k*A[ : ,i] + A[: ,j]`**   |"
      ]
    },
    {
      "cell_type": "code",
      "metadata": {
        "id": "Co8iFH-FrH2G"
      },
      "source": [
        ""
      ],
      "execution_count": null,
      "outputs": []
    },
    {
      "cell_type": "markdown",
      "metadata": {
        "id": "wCG_G3GtmyCT"
      },
      "source": [
        "###**Propiedad 6 :** Si $B$ es la matriz que se obtiene multiplicando cada entrada de un renglón (o columna) de $A$ por el mismo número $k$, entonces $|B|=k|A|$. \n",
        "\n",
        "|  Operación elemental        | Código |\n",
        "|:--------------------------------------:|:--------------:|\n",
        "| Multiplicar la fila $F_i$ <br> por la constante $k$  | **`A[i ,:] = k*A[ i ,:]`** |\n",
        "| Multiplicar la columna $C_i$ <br> por la constante $k$  | **`A[: ,i] = k*A[ : ,i]`**    |"
      ]
    },
    {
      "cell_type": "code",
      "metadata": {
        "id": "usxnyoiQ9Wnz"
      },
      "source": [
        ""
      ],
      "execution_count": null,
      "outputs": []
    },
    {
      "cell_type": "markdown",
      "metadata": {
        "id": "n005SvejnEDg"
      },
      "source": [
        "###**Propiedad 7 :** \n",
        "###Sea ${\\displaystyle A\\in {\\mathcal {M}}_{n\\times n}(\\mathbb {R} )}$, y $k \\in \\mathbb {R}$ se cumple:\n",
        "\n",
        "###$$|kA|=k^n|A|$$\n",
        "\n",
        "###Esto es una consecuencia de la **propiedad 6**, ya que cada uno de los $n$ renglones de $kA$ tiene un factor común $k$."
      ]
    },
    {
      "cell_type": "code",
      "metadata": {
        "id": "dK_TRRJR9Y9t"
      },
      "source": [
        ""
      ],
      "execution_count": null,
      "outputs": []
    },
    {
      "cell_type": "markdown",
      "metadata": {
        "id": "sHB9IneroY5N"
      },
      "source": [
        "###**Propiedad 8:** \n",
        "###Sea ${\\displaystyle A,B\\in {\\mathcal {M}}_{n\\times n}(\\mathbb {R} )}$ se cumple:\n",
        "\n",
        "###$$|AB|= |A||B|$$."
      ]
    },
    {
      "cell_type": "code",
      "metadata": {
        "id": "NtY1-rerx2x7"
      },
      "source": [
        ""
      ],
      "execution_count": null,
      "outputs": []
    },
    {
      "cell_type": "markdown",
      "metadata": {
        "id": "5LNQjrSzx1UY"
      },
      "source": [
        "###**Propiedad 9:** \n",
        "###Sea ${\\displaystyle A\\in {\\mathcal {M}}_{n\\times n}(\\mathbb {R} )}$ una matriz invertible, se cumple:\n",
        "\n",
        "###$$|A^{-1}|= \\dfrac{1}{|A|}$$."
      ]
    },
    {
      "cell_type": "code",
      "metadata": {
        "id": "r7qCMzmeytW2"
      },
      "source": [
        ""
      ],
      "execution_count": null,
      "outputs": []
    },
    {
      "cell_type": "markdown",
      "metadata": {
        "id": "ibpca46ryqJ1"
      },
      "source": [
        "###**Propiedad 10:** \n",
        "###Sea ${\\displaystyle A\\in {\\mathcal {M}}_{n\\times n}(\\mathbb {R} )}$, se cumple:\n",
        "\n",
        "###$$|A^T|= |A|$$."
      ]
    },
    {
      "cell_type": "code",
      "metadata": {
        "id": "2B0uonmlyqKB"
      },
      "source": [
        ""
      ],
      "execution_count": null,
      "outputs": []
    },
    {
      "cell_type": "markdown",
      "metadata": {
        "id": "88NTknqPTLtq"
      },
      "source": [
        "# **MATRIZ DE COFACTORES**\n",
        "\n",
        "Sea ${\\displaystyle A\\in {\\mathcal {M}}_{n\\times n}(\\mathbb {R} )}$ , existe una matriz llamada ${\\displaystyle cof(A)\\in {\\mathcal {M}}_{n\\times n}(\\mathbb {R} )}$ tal que:\n",
        "\n",
        "<center> <h4> Si &nbsp; &nbsp; $A = \\left[  a_{ij} \\right]_{n \\times n}$  &nbsp; &nbsp; entonces &nbsp; &nbsp;$cof(A) = \\left[  A_{ij}  \\right]_{n \\times n}$ &nbsp; donde &nbsp; $A_{ij}$ es el cofactor de la entrada $a_{ij}$</h4>\n",
        "\n"
      ]
    },
    {
      "cell_type": "markdown",
      "metadata": {
        "id": "8GXIKE7JVcGv"
      },
      "source": [
        "### **Ejemplo: matriz de cofactores**\n",
        "\n",
        "\n",
        "\n",
        "Encuentra la matriz $cof(A)$  de la matriz :\n",
        "\n",
        "$$A=\\begin{bmatrix}\n",
        "5 & -3 & 6  \\\\\n",
        "5 & 9 & 12 \\\\\n",
        "9 & 3 & 5\\\\\n",
        "\\end{bmatrix}$$"
      ]
    },
    {
      "cell_type": "markdown",
      "metadata": {
        "id": "PdbaPlodXLtr"
      },
      "source": [
        "### **Forma 1:** "
      ]
    },
    {
      "cell_type": "code",
      "metadata": {
        "colab": {
          "base_uri": "https://localhost:8080/",
          "height": 78
        },
        "id": "FX-zlny1VcHR",
        "outputId": "1945f581-a60c-4784-e772-46095b506384"
      },
      "source": [
        "A = Matrix([[5, -3, 6], [5, 9, 12], [9, 3, 5]])\n",
        "A.cofactor_matrix()"
      ],
      "execution_count": null,
      "outputs": [
        {
          "output_type": "execute_result",
          "data": {
            "text/latex": "$\\displaystyle \\left[\\begin{matrix}9 & 83 & -66\\\\33 & -29 & -42\\\\-90 & -30 & 60\\end{matrix}\\right]$",
            "text/plain": [
              "⎡ 9   83   -66⎤\n",
              "⎢             ⎥\n",
              "⎢33   -29  -42⎥\n",
              "⎢             ⎥\n",
              "⎣-90  -30  60 ⎦"
            ]
          },
          "metadata": {
            "tags": []
          },
          "execution_count": 43
        }
      ]
    },
    {
      "cell_type": "markdown",
      "metadata": {
        "id": "VjXLu3kFXPcW"
      },
      "source": [
        "### **Forma 2:** "
      ]
    },
    {
      "cell_type": "code",
      "metadata": {
        "colab": {
          "base_uri": "https://localhost:8080/",
          "height": 78
        },
        "id": "1MFtqKD_TQ-H",
        "outputId": "9e29bd49-9aa7-4e29-fcd7-26fd9c091c79"
      },
      "source": [
        "A = Matrix([[5, -3, 6], [5, 9, 12], [9, 3, 5]])\n",
        "B = Matrix(3,3, lambda i,j: A.cofactor(i, j))\n",
        "B"
      ],
      "execution_count": null,
      "outputs": [
        {
          "output_type": "execute_result",
          "data": {
            "text/latex": "$\\displaystyle \\left[\\begin{matrix}9 & 83 & -66\\\\33 & -29 & -42\\\\-90 & -30 & 60\\end{matrix}\\right]$",
            "text/plain": [
              "⎡ 9   83   -66⎤\n",
              "⎢             ⎥\n",
              "⎢33   -29  -42⎥\n",
              "⎢             ⎥\n",
              "⎣-90  -30  60 ⎦"
            ]
          },
          "metadata": {
            "tags": []
          },
          "execution_count": 44
        }
      ]
    },
    {
      "cell_type": "markdown",
      "metadata": {
        "id": "RWz1KUEDzQ5L"
      },
      "source": [
        "# **MATRIZ DE ADJUNTOS O ADJUNTA**\n",
        "\n",
        "Sea ${\\displaystyle A\\in {\\mathcal {M}}_{n\\times n}(\\mathbb {R} )}$ , existe una matriz llamada ${\\displaystyle adj(A)\\in {\\mathcal {M}}_{n\\times n}(\\mathbb {R} )}$ tal que:\n",
        "\n",
        "\n",
        "$$adj(A)= [cof(A)]^T$$\n",
        "\n",
        "\n",
        "\n"
      ]
    },
    {
      "cell_type": "markdown",
      "metadata": {
        "id": "0TG-fsLMzQ5q"
      },
      "source": [
        "### **Ejemplo: matriz de adjuntos**\n",
        "\n",
        "\n",
        "\n",
        "Encuentra la matriz $adj(A)$  de la matriz :\n",
        "\n",
        "$$A=\\begin{bmatrix}\n",
        "5 & -3 & 6  \\\\\n",
        "5 & 9 & 12 \\\\\n",
        "9 & 3 & 5\\\\\n",
        "\\end{bmatrix}$$"
      ]
    },
    {
      "cell_type": "markdown",
      "metadata": {
        "id": "pyxXeWfZzQ5r"
      },
      "source": [
        "### **Forma 1:** *(usando la matriz de cofactores)*"
      ]
    },
    {
      "cell_type": "code",
      "metadata": {
        "colab": {
          "base_uri": "https://localhost:8080/",
          "height": 78
        },
        "id": "mAppZX5SzQ5s",
        "outputId": "0d280808-db08-46ef-acf1-663e1b90e973"
      },
      "source": [
        "A = Matrix([[5, -3, 6], [5, 9, 12], [9, 3, 5]])\n",
        "A.cofactor_matrix().T"
      ],
      "execution_count": null,
      "outputs": [
        {
          "output_type": "execute_result",
          "data": {
            "text/latex": "$\\displaystyle \\left[\\begin{matrix}9 & 33 & -90\\\\83 & -29 & -30\\\\-66 & -42 & 60\\end{matrix}\\right]$",
            "text/plain": [
              "⎡ 9   33   -90⎤\n",
              "⎢             ⎥\n",
              "⎢83   -29  -30⎥\n",
              "⎢             ⎥\n",
              "⎣-66  -42  60 ⎦"
            ]
          },
          "metadata": {
            "tags": []
          },
          "execution_count": 45
        }
      ]
    },
    {
      "cell_type": "markdown",
      "metadata": {
        "id": "MobnkzjuzQ5v"
      },
      "source": [
        "### **Forma 2:** *(definiendo una función)*"
      ]
    },
    {
      "cell_type": "code",
      "metadata": {
        "colab": {
          "base_uri": "https://localhost:8080/",
          "height": 78
        },
        "id": "f2C3EVJ7zQ5w",
        "outputId": "4ab6d4db-7b8c-4bdb-e67c-922c2d55f9bd"
      },
      "source": [
        "A = Matrix([[5, -3, 6], [5, 9, 12], [9, 3, 5]])\n",
        "B = Matrix(3,3, lambda i,j: A.cofactor(i, j))\n",
        "transpose(B)"
      ],
      "execution_count": null,
      "outputs": [
        {
          "output_type": "execute_result",
          "data": {
            "text/latex": "$\\displaystyle \\left[\\begin{matrix}9 & 33 & -90\\\\83 & -29 & -30\\\\-66 & -42 & 60\\end{matrix}\\right]$",
            "text/plain": [
              "⎡ 9   33   -90⎤\n",
              "⎢             ⎥\n",
              "⎢83   -29  -30⎥\n",
              "⎢             ⎥\n",
              "⎣-66  -42  60 ⎦"
            ]
          },
          "metadata": {
            "tags": []
          },
          "execution_count": 46
        }
      ]
    },
    {
      "cell_type": "markdown",
      "metadata": {
        "id": "v4gwIkz52ht4"
      },
      "source": [
        "### **Forma 3:** *(usando el método adjugate)* "
      ]
    },
    {
      "cell_type": "code",
      "metadata": {
        "colab": {
          "base_uri": "https://localhost:8080/",
          "height": 78
        },
        "id": "vWT_ox-j2huB",
        "outputId": "1cff747f-10e9-4558-8688-9ea3b70e8005"
      },
      "source": [
        "A = Matrix([[5, -3, 6], [5, 9, 12], [9, 3, 5]])\n",
        "A.adjugate()"
      ],
      "execution_count": null,
      "outputs": [
        {
          "output_type": "execute_result",
          "data": {
            "text/latex": "$\\displaystyle \\left[\\begin{matrix}9 & 33 & -90\\\\83 & -29 & -30\\\\-66 & -42 & 60\\end{matrix}\\right]$",
            "text/plain": [
              "⎡ 9   33   -90⎤\n",
              "⎢             ⎥\n",
              "⎢83   -29  -30⎥\n",
              "⎢             ⎥\n",
              "⎣-66  -42  60 ⎦"
            ]
          },
          "metadata": {
            "tags": []
          },
          "execution_count": 47
        }
      ]
    },
    {
      "cell_type": "markdown",
      "metadata": {
        "id": "4w0gLm_jT4Ck"
      },
      "source": [
        "#**Propiedades matriz adjunta**\n",
        "\n",
        "Sean ${\\displaystyle A,B\\in {\\mathcal {M}}_{n\\times n}(\\mathbb {R} )}$  y $k \\in \\mathbb {R}$ , se cumplen las siguientes propiedades:\n",
        "\n",
        "|            PROPIEDAD           |       EXPLICACIÓN                      |\n",
        "|:------------------------------:|:--------------------------------------:|\n",
        "| Adjunta de la matriz nula                 |$$adj(0)=0$$|\n",
        "| Adjunta de la matriz identidad                    |   $$adj(I)=I$$                      |\n",
        "| Adjunta  de $kA$                      |      $$adj(kA) =k^{n-1}adj(A)$$         | \n",
        "| Adjunta de $A^T$  |             $$adj(A^T)=\\left[adj(A)\\right]^T$$                           |\n",
        "| Adjunta de $AB$    |      $$adj(AB)=adj(B) \\ adj(A)$$ |\n",
        " | Adjunta de $A^n$    |     $$adj(A^n)=\\left[adj(A)\\right]^n $$ |\n",
        " | Adjunta de $A^{-1}$    |    $$adj(A^{-1})=\\left[adj(A)\\right]^{-1} $$|                    \n",
        "\n"
      ]
    },
    {
      "cell_type": "markdown",
      "metadata": {
        "id": "uUHfpcB-pQPx"
      },
      "source": [
        "<p><height=\"45px\" src=\"<a href=\"https://ibb.co/pZYMC0T\"><img src=\"https://i.ibb.co/ZL1WsdZ/poll.png\" align=\"left\" alt=\"\" width=\"4%\" height=\"5%\"></a><p> <H1><strong>&nbsp;Verificación de las propiedades de la matriz adjunta</strong>\n",
        "\n",
        "&nbsp;&nbsp;&nbsp;&nbsp;&nbsp;&nbsp;&nbsp;&nbsp;&nbsp;&nbsp;&nbsp;&nbsp;Verifica cada una de las propiedades de la matriz adjunta usando el método adjugate( ) de SymPy."
      ]
    },
    {
      "cell_type": "markdown",
      "metadata": {
        "id": "670jhc_0oJyx"
      },
      "source": [
        "### **Adjunta de la matriz nula** \n",
        "\n",
        "$$adj(0)=0$$\n"
      ]
    },
    {
      "cell_type": "code",
      "metadata": {
        "id": "6CidVeJdoJy-"
      },
      "source": [
        ""
      ],
      "execution_count": null,
      "outputs": []
    },
    {
      "cell_type": "markdown",
      "metadata": {
        "id": "Q8uf773M3Cpk"
      },
      "source": [
        "### **Adjunta de la matriz identidad** \n",
        "$$adj(I)=I$$"
      ]
    },
    {
      "cell_type": "code",
      "metadata": {
        "id": "JDLKwws0qeHT"
      },
      "source": [
        ""
      ],
      "execution_count": null,
      "outputs": []
    },
    {
      "cell_type": "markdown",
      "metadata": {
        "id": "6yayI3ghqevY"
      },
      "source": [
        "### **Adjunta  de $kA$** \n",
        "$$adj(kA) =k^{n-1}adj(A)$$"
      ]
    },
    {
      "cell_type": "code",
      "metadata": {
        "id": "UUxRivwVqmq-"
      },
      "source": [
        ""
      ],
      "execution_count": null,
      "outputs": []
    },
    {
      "cell_type": "markdown",
      "metadata": {
        "id": "5Zb929p4qnQH"
      },
      "source": [
        "### **Adjunta de $A^T$** \n",
        "$$adj(A^T)=\\left[adj(A)\\right]^T$$"
      ]
    },
    {
      "cell_type": "code",
      "metadata": {
        "id": "c651G7sVsKjw"
      },
      "source": [
        ""
      ],
      "execution_count": null,
      "outputs": []
    },
    {
      "cell_type": "markdown",
      "metadata": {
        "id": "UsEpn1xtrhHm"
      },
      "source": [
        "### **Adjunta de $AB$** \n",
        "$$adj(AB)=adj(B) \\ adj(A)$$"
      ]
    },
    {
      "cell_type": "code",
      "metadata": {
        "id": "iJ0ST9NCrh9-"
      },
      "source": [
        ""
      ],
      "execution_count": null,
      "outputs": []
    },
    {
      "cell_type": "markdown",
      "metadata": {
        "id": "U66dbWrsriiA"
      },
      "source": [
        "### **Adjunta de $A^n$** \n",
        " $$adj(A^n)=\\left[adj(A)\\right]^n $$"
      ]
    },
    {
      "cell_type": "code",
      "metadata": {
        "id": "fPr1GEfSsIvQ"
      },
      "source": [
        ""
      ],
      "execution_count": null,
      "outputs": []
    },
    {
      "cell_type": "markdown",
      "metadata": {
        "id": "jI7gIl06sNr9"
      },
      "source": [
        "### **Adjunta de $A^{-1}$** \n",
        " $$adj(A^{-1})=\\left[adj(A)\\right]^{-1} $$"
      ]
    },
    {
      "cell_type": "code",
      "metadata": {
        "colab": {
          "base_uri": "https://localhost:8080/",
          "height": 78
        },
        "id": "RPsa4Tl93BgZ",
        "outputId": "d067a0ca-70d2-4ea7-91a7-af46fc090e12"
      },
      "source": [
        "A = randMatrix(3,min=-5, max=5)\n",
        "A"
      ],
      "execution_count": null,
      "outputs": [
        {
          "output_type": "execute_result",
          "data": {
            "text/latex": "$\\displaystyle \\left[\\begin{matrix}-3 & -3 & -1\\\\-1 & 1 & 1\\\\3 & 5 & 5\\end{matrix}\\right]$",
            "text/plain": [
              "⎡-3  -3  -1⎤\n",
              "⎢          ⎥\n",
              "⎢-1  1   1 ⎥\n",
              "⎢          ⎥\n",
              "⎣3   5   5 ⎦"
            ]
          },
          "metadata": {
            "tags": []
          },
          "execution_count": 48
        }
      ]
    },
    {
      "cell_type": "code",
      "metadata": {
        "colab": {
          "base_uri": "https://localhost:8080/",
          "height": 78
        },
        "id": "P8Ts3FyI3uPC",
        "outputId": "6bcf9e09-0ab8-4802-ed13-accb70b9b6cf"
      },
      "source": [
        "(A**(-1)).adjugate()"
      ],
      "execution_count": null,
      "outputs": [
        {
          "output_type": "execute_result",
          "data": {
            "text/latex": "$\\displaystyle \\left[\\begin{matrix}\\frac{3}{16} & \\frac{3}{16} & \\frac{1}{16}\\\\\\frac{1}{16} & - \\frac{1}{16} & - \\frac{1}{16}\\\\- \\frac{3}{16} & - \\frac{5}{16} & - \\frac{5}{16}\\end{matrix}\\right]$",
            "text/plain": [
              "⎡3/16   3/16   1/16 ⎤\n",
              "⎢                   ⎥\n",
              "⎢1/16   -1/16  -1/16⎥\n",
              "⎢                   ⎥\n",
              "⎣-3/16  -5/16  -5/16⎦"
            ]
          },
          "metadata": {
            "tags": []
          },
          "execution_count": 49
        }
      ]
    },
    {
      "cell_type": "code",
      "metadata": {
        "colab": {
          "base_uri": "https://localhost:8080/",
          "height": 78
        },
        "id": "SAhdCpC64Cue",
        "outputId": "3a28bd8e-26c6-4d2f-88d1-dc67f056fa01"
      },
      "source": [
        "(A.adjugate())**(-1)"
      ],
      "execution_count": null,
      "outputs": [
        {
          "output_type": "execute_result",
          "data": {
            "text/latex": "$\\displaystyle \\left[\\begin{matrix}\\frac{3}{16} & \\frac{3}{16} & \\frac{1}{16}\\\\\\frac{1}{16} & - \\frac{1}{16} & - \\frac{1}{16}\\\\- \\frac{3}{16} & - \\frac{5}{16} & - \\frac{5}{16}\\end{matrix}\\right]$",
            "text/plain": [
              "⎡3/16   3/16   1/16 ⎤\n",
              "⎢                   ⎥\n",
              "⎢1/16   -1/16  -1/16⎥\n",
              "⎢                   ⎥\n",
              "⎣-3/16  -5/16  -5/16⎦"
            ]
          },
          "metadata": {
            "tags": []
          },
          "execution_count": 50
        }
      ]
    },
    {
      "cell_type": "markdown",
      "metadata": {
        "id": "GY1I1Kphsgcf"
      },
      "source": [
        "#**MATRIZ INVERSA USANDO DETERMINANTES**\n",
        "\n",
        "Sea ${\\displaystyle A\\in {\\mathcal {M}}_{n\\times n}(\\mathbb {R} )}$, una matriz invertible, se cumple:\n",
        "\n",
        "$$A^{-1} = \\dfrac{1}{|A|} \\ adj(A)$$"
      ]
    },
    {
      "cell_type": "markdown",
      "metadata": {
        "id": "1W95Jw9id6GY"
      },
      "source": [
        "## **Ejemplo: matriz inversa** --> *usando determinantes*\n",
        "\n",
        "Encuentra la matriz $A^{-1}$ si es posible de la matriz:\n",
        "\n",
        "\n",
        "$$A=\\begin{bmatrix}\n",
        "5 & -3 & 6  \\\\\n",
        "5 & 9 & 12 \\\\\n",
        "9 & 3 & 5\\\\\n",
        "\\end{bmatrix}$$"
      ]
    },
    {
      "cell_type": "code",
      "metadata": {
        "id": "mjxvIK5wsnC8",
        "colab": {
          "base_uri": "https://localhost:8080/",
          "height": 78
        },
        "outputId": "fc0c07ba-64ff-4059-a55d-900b92dffa5c"
      },
      "source": [
        "A = Matrix([[5,-3,6],[5,9,12],[9,3,5]])\n",
        "inv_A = (1/det(A))*A.adjugate()\n",
        "inv_A"
      ],
      "execution_count": null,
      "outputs": [
        {
          "output_type": "execute_result",
          "data": {
            "text/latex": "$\\displaystyle \\left[\\begin{matrix}- \\frac{3}{200} & - \\frac{11}{200} & \\frac{3}{20}\\\\- \\frac{83}{600} & \\frac{29}{600} & \\frac{1}{20}\\\\\\frac{11}{100} & \\frac{7}{100} & - \\frac{1}{10}\\end{matrix}\\right]$",
            "text/plain": [
              "⎡        -11         ⎤\n",
              "⎢-3/200  ────   3/20 ⎥\n",
              "⎢        200         ⎥\n",
              "⎢                    ⎥\n",
              "⎢ -83      29        ⎥\n",
              "⎢ ────    ───   1/20 ⎥\n",
              "⎢ 600     600        ⎥\n",
              "⎢                    ⎥\n",
              "⎢  11                ⎥\n",
              "⎢ ───    7/100  -1/10⎥\n",
              "⎣ 100                ⎦"
            ]
          },
          "metadata": {
            "tags": []
          },
          "execution_count": 15
        }
      ]
    },
    {
      "cell_type": "markdown",
      "metadata": {
        "id": "Kwz-5QwIsj6F"
      },
      "source": [
        "## **verificación**"
      ]
    },
    {
      "cell_type": "code",
      "metadata": {
        "colab": {
          "base_uri": "https://localhost:8080/",
          "height": 78
        },
        "id": "igimf4U7rXVj",
        "outputId": "11ab5b26-7e51-4d4e-d1ff-3a89735fc7f7"
      },
      "source": [
        "A = Matrix([[5,-3,6],[5,9,12],[9,3,5]])\n",
        "A**(-1)"
      ],
      "execution_count": null,
      "outputs": [
        {
          "output_type": "execute_result",
          "data": {
            "text/latex": "$\\displaystyle \\left[\\begin{matrix}- \\frac{3}{200} & - \\frac{11}{200} & \\frac{3}{20}\\\\- \\frac{83}{600} & \\frac{29}{600} & \\frac{1}{20}\\\\\\frac{11}{100} & \\frac{7}{100} & - \\frac{1}{10}\\end{matrix}\\right]$",
            "text/plain": [
              "⎡        -11         ⎤\n",
              "⎢-3/200  ────   3/20 ⎥\n",
              "⎢        200         ⎥\n",
              "⎢                    ⎥\n",
              "⎢ -83      29        ⎥\n",
              "⎢ ────    ───   1/20 ⎥\n",
              "⎢ 600     600        ⎥\n",
              "⎢                    ⎥\n",
              "⎢  11                ⎥\n",
              "⎢ ───    7/100  -1/10⎥\n",
              "⎣ 100                ⎦"
            ]
          },
          "metadata": {
            "tags": []
          },
          "execution_count": 16
        }
      ]
    },
    {
      "cell_type": "markdown",
      "metadata": {
        "id": "a80zQv0bWnEE"
      },
      "source": [
        "#**REGLA DE CRAMER PARA RESOLVER SISTEMAS DE ECUACIONES**\n",
        "\n",
        "Sea un sistema de $n$ ecuaciones lineales con $n$ incógnitas dado por:\n",
        "\n",
        "$$\\left\\{\n",
        "\\begin{array}{rcl}\n",
        "     a_{11}x_{11}+a_{22}x_{22}+\\cdots + a_{1n}x_{1n} & = & c_{1}\\\\\n",
        "     a_{21}x_{21}+a_{22}x_{22}+\\cdots + a_{2n}x_{2n} & = & c_{2}\\\\\n",
        "     \\hspace{0.5cm} \\vdots\\hspace{0.5cm}+\\hspace{0.6cm}\\vdots\\hspace{0.6cm}+ \\hspace{1.5cm}+ \\hspace{0.6cm}\\vdots \\hspace{0.6cm} & = & \\hspace{0.3cm} \\vdots\\\\\n",
        "a_{n1}x_{n1}+a_{n2}x_{n2}+\\cdots + a_{nn}x_{nn} & = & c_{n}\n",
        "\\end{array}\n",
        "\\right.$$\n",
        "\n",
        "\n",
        "\n",
        "El sistema se puede expresar de forma matricial como $AX=B$, donde $A$ es la matriz de coeficientes, $X$ es la matriz de variables y $B$ una matriz columna de constantes.\n",
        "\n",
        "Si el determinante de la matriz de coeficientes $A$, notado como $\\Delta$ es diferente de cero, entonces el sistema tiene una única solución. Esta solución está dada por:\n",
        "\n",
        "$$x_1 = \\dfrac{\\Delta_1}{\\Delta}, x_2 = \\dfrac{\\Delta_2}{\\Delta}, \\cdots, x_{n-1} = \\dfrac{\\Delta_{n-1}}{\\Delta},x_{n} = \\dfrac{\\Delta_{n}}{\\Delta}  $$\n",
        "\n",
        "donde  $\\Delta_{i}$ el numerador de $x_{i}$ , es el determinante de la matriz obtenida al\n",
        "reemplazar la **k-ésima** columna de $A$ por la matriz columna $B$."
      ]
    },
    {
      "cell_type": "markdown",
      "metadata": {
        "id": "3gN7grGSlKOy"
      },
      "source": [
        "## **Ejemplo: resolución de sistemas de ecuaciones usando regla de cramer** \n",
        "Resuelva el  siguiente sistema utilizando la matriz inversa\n",
        "\n",
        "$$\\left\\{\n",
        "\\begin{array}{rcl}\n",
        "     2x+ 4y+6z  & = & 18\n",
        "  \\\\ 4x+ 5y+6z & = & 24\n",
        "  \\\\ 3x+y-2z & = & 4\n",
        "\\end{array}\n",
        "\\right.$$\n",
        "\n",
        "que se puede reescribir  como $AX = B$  donde :\n",
        "\n",
        "$$A=\\begin{bmatrix}\n",
        "2  & 4 & 6\\\\\n",
        "4  & 5 & 6\\\\\n",
        "3  & 1 & -2\\\\\n",
        "\\end{bmatrix}\n",
        "\\hspace{1cm}\n",
        "B=\\begin{bmatrix}\n",
        "18  \\\\\n",
        "24  \\\\\n",
        "4 \\\\\n",
        "\\end{bmatrix}\n",
        "\\hspace{1cm}\n",
        "X=\\begin{bmatrix}\n",
        "x  \\\\\n",
        "y  \\\\\n",
        "z \\\\\n",
        "\\end{bmatrix}$$"
      ]
    },
    {
      "cell_type": "code",
      "metadata": {
        "colab": {
          "base_uri": "https://localhost:8080/",
          "height": 36
        },
        "id": "l7BsMxajWje5",
        "outputId": "9d28ac79-6e3e-400f-c554-6593be9eaa5a"
      },
      "source": [
        "A = Matrix([[2,4,6],[4,5,6],[3,1,-2]])\n",
        "B = Matrix([18,24,4])\n",
        "\n",
        "# construimos una función para sustituir una columna por otra en una matriz \n",
        "\n",
        "def subs_col(M,C,p):\n",
        "    '''Función que remplaza la columna de una matriz (argumento M) por una matriz columna (argumento C)\n",
        "    en una posición (argumento P )'''\n",
        "    mat = M[:,:]\n",
        "    mat.col_del(p)\n",
        "    mat = mat.col_insert(p,C)\n",
        "    return mat\n",
        "\n",
        "delta = det(A)\n",
        "\n",
        "delta_1 = det(subs_col(A,B,0))\n",
        "delta_2 = det(subs_col(A,B,1))\n",
        "delta_3 = det(subs_col(A,B,2))\n",
        "\n",
        "x = delta_1/delta\n",
        "y = delta_2/delta\n",
        "z = delta_3/delta\n",
        "\n",
        "x,y,z\n"
      ],
      "execution_count": null,
      "outputs": [
        {
          "output_type": "execute_result",
          "data": {
            "image/png": "[encoded data removed]",
            "text/latex": "$\\displaystyle \\left( 4, \\  -2, \\  3\\right)$",
            "text/plain": [
              "(4, -2, 3)"
            ]
          },
          "metadata": {
            "tags": []
          },
          "execution_count": 35
        }
      ]
    },
    {
      "cell_type": "markdown",
      "metadata": {
        "id": "5wVFPs217CkP"
      },
      "source": [
        "## **verificación** *usando la función solve*"
      ]
    },
    {
      "cell_type": "code",
      "metadata": {
        "colab": {
          "base_uri": "https://localhost:8080/",
          "height": 38
        },
        "id": "QBoDnmmw7Ckc",
        "outputId": "7e109d17-228e-4753-aad9-f4f1764a6812"
      },
      "source": [
        "Eq1 = Eq(2*x + 4*y + 6*z,18)\n",
        "Eq2 = Eq(4*x + 5*y +6*z,24)\n",
        "Eq3 = Eq( 3*x + y - 2*z,4)\n",
        "solve( [Eq1,Eq2,Eq3], [x, y, z])"
      ],
      "execution_count": null,
      "outputs": [
        {
          "output_type": "execute_result",
          "data": {
            "image/png": "[encoded data removed]",
            "text/latex": "$\\displaystyle \\left\\{ x : 4, \\  y : -2, \\  z : 3\\right\\}$",
            "text/plain": [
              "{x: 4, y: -2, z: 3}"
            ]
          },
          "metadata": {
            "tags": []
          },
          "execution_count": 51
        }
      ]
    },
    {
      "cell_type": "markdown",
      "metadata": {
        "id": "HNEN60a49xRn"
      },
      "source": [
        "<p><height=\"45px\" src=\"<a href=\"https://ibb.co/pZYMC0T\"><img src=\"https://i.ibb.co/ZL1WsdZ/poll.png\" align=\"left\" alt=\"\" width=\"4%\" height=\"5%\"></a><p> <H1><strong>&nbsp;Actividad de práctica</strong>\n",
        "\n",
        "Escribe un código para hallar la solución del siguiente sistema de ecuaciones de tamaño 5 x 5, usando la Regla de Cramer, verifica tu resultado usando la función solve( ).\n",
        "\n",
        "$$\\left\\{\n",
        "\\begin{array}{rcccl}\n",
        "2x_1-x_2+4x_3+x_4-x_5  & = & 7\n",
        "\\\\ -x_1+3x_2-2x_3-x_4+2x_5  & = & 1\n",
        "\\\\ 5x_1+x_2+3x_3-4x_4+x_5  & = & 33\n",
        "\\\\ 3x_1-2x_2-2x_3-2x_4+3x_5  & = & 24\n",
        "\\\\ -4x_1-x_2-5x_3+3x_4-4x_5  & = & -49\n",
        "\\end{array}\n",
        "\\right.$$"
      ]
    },
    {
      "cell_type": "code",
      "metadata": {
        "id": "8UxfYPUHSy5a"
      },
      "source": [
        ""
      ],
      "execution_count": null,
      "outputs": []
    },
    {
      "cell_type": "markdown",
      "metadata": {
        "id": "tREdOWROiEUB"
      },
      "source": [
        "#**APLICACIONES DE LOS DETERMINANTES**\n",
        "\n",
        "#**Area del triángulo**\n",
        "\n",
        "El área de un triángulo cuyos vértices en el plano son: $A=(x_1,y_1)$, $B=(x_2,y_2)$ y $C = (x_3,y_3)$ está dada por:</p>.\n",
        "\n",
        "$$\\textrm{Area}=\\pm\\dfrac{1}{2}\\left|\n",
        "         \\begin{array}{ccc}\n",
        "           x_1 & y_1 & 1 \\\\\n",
        "           x_2 & y_2 & 1 \\\\\n",
        "           x_3 & y_3 & 1 \\\\\n",
        "         \\end{array}\n",
        "       \\right|\n",
        "$$\n",
        "\n",
        "</p>.\n",
        "\n",
        "<center><img src=\"https://github.com/josorio398/ALGEBRA-LINEAL-CON-PYTHON/blob/master/im%C3%A1genes%20repositorio/triangulo1.png?raw=true\"  height=\"300\" /> </p>.\n",
        "\n",
        "\n",
        "\n",
        "\n",
        "\n"
      ]
    },
    {
      "cell_type": "markdown",
      "metadata": {
        "id": "4FRCkoHT9Zuw"
      },
      "source": [
        "##**Ejercicio de practica :** \n",
        "Completa el código para calcular el area del triángulo cuyos vértices en el plano son: $A = (3,-1)$, $ B = (1,5)$ y $C = (2,1)$."
      ]
    },
    {
      "cell_type": "code",
      "metadata": {
        "id": "wrBoeXgXnD-y"
      },
      "source": [
        "A = (4,5)\n",
        "B = (-3,2)\n",
        "C = (-1,-3)\n",
        "\n",
        "M = Matrix([[A[0],A[1],1],[B[0],B[1],1],[C[0],C[1],1]])\n"
      ],
      "execution_count": null,
      "outputs": []
    },
    {
      "cell_type": "markdown",
      "metadata": {
        "id": "Xm8BcFyam685"
      },
      "source": [
        "# **Volumen de un tetraedro**\n",
        "\n",
        "El Volumen de un tetraedro cuyos vértices son $A = (x_1,y_1,z_1)$, $B =(x_2,y_2,z_2)$, $C = (x_3,y_3,z_3)$ y $D =(x_4,y_4,z_4)$ está dado por: </p>.\n",
        "\n",
        "\n",
        "\n",
        "$$\\textrm{Volumen}=\\pm\\dfrac{1}{6}\\left|\n",
        "         \\begin{array}{cccc}\n",
        "           x_1 & y_1 & z_1 & 1\\\\\n",
        "           x_2 & y_2 & z_2 & 1\\\\\n",
        "           x_3 & y_3 & z_3 & 1\\\\\n",
        "           x_4 & y_4 & z_4 & 1\\\\\n",
        "         \\end{array}\n",
        "       \\right|\n",
        "$$\n",
        "\n",
        "</p>.\n",
        "\n",
        "<center><img src=\"https://github.com/josorio398/ALGEBRA-LINEAL-CON-PYTHON/blob/master/im%C3%A1genes%20repositorio/tetraedro.PNG?raw=true\"  height=\"300\" /> </p>.\n",
        "\n",
        "\n",
        "\n",
        "\n"
      ]
    },
    {
      "cell_type": "markdown",
      "metadata": {
        "id": "6OZvK6eU-p_f"
      },
      "source": [
        "##**Ejercicio de practica:**\n",
        "\n",
        "Escribe un código para calcular el volumen de un tetraedro cuyos vértices en el espacio son: $A =(3,-1,2)$, $B = (1,-4,4)$, $C = (2,-1,1)$ y $D =(5,1,-6)$."
      ]
    },
    {
      "cell_type": "code",
      "metadata": {
        "id": "EdjxHha6-o16"
      },
      "source": [
        ""
      ],
      "execution_count": null,
      "outputs": []
    },
    {
      "cell_type": "markdown",
      "metadata": {
        "id": "NbLHs4R3nFCu"
      },
      "source": [
        "#**Ecuación de la recta que pasa por dos puntos**\n",
        "La ecuación de la recta que pasa por los puntos $(x_1,y_1)$ y $(x_2,y_2)$ está dada por: </p>.\n",
        "\n",
        "\n",
        "\n",
        "$$\\left|\n",
        "         \\begin{array}{ccc}\n",
        "           x & y & 1 \\\\\n",
        "           x_1 & y_1 & 1 \\\\\n",
        "           x_2 & y_2 & 1 \\\\\n",
        "         \\end{array}\n",
        "       \\right|=0\n",
        "$$\n",
        "\n",
        "</p>.\n",
        "\n",
        "<center><img src=\"https://github.com/josorio398/ALGEBRA-LINEAL-CON-PYTHON/blob/master/im%C3%A1genes%20repositorio/recta.png?raw=true\"  height=\"300\" /> </p>.\n",
        "\n"
      ]
    },
    {
      "cell_type": "markdown",
      "metadata": {
        "id": "Fal_dKFTEiI5"
      },
      "source": [
        "##**Ejercicio de practica:**\n",
        "\n",
        "Completa el código para  encontrar la ecuación de la recta que pasa por los puntos $A = (3,5)$ y $B = (-2,4)$"
      ]
    },
    {
      "cell_type": "code",
      "metadata": {
        "id": "OdjlFlYEm5s0"
      },
      "source": [
        "x,y = symbols(\"x y\")\n",
        "\n",
        "A =  ( 3, 5)\n",
        "B =  (-2, 4)\n"
      ],
      "execution_count": null,
      "outputs": []
    },
    {
      "cell_type": "markdown",
      "metadata": {
        "id": "EJRXPpIDQVKY"
      },
      "source": [
        "#**Programa para resolver un problema de cadenas de Markov**"
      ]
    },
    {
      "cell_type": "code",
      "metadata": {
        "colab": {
          "base_uri": "https://localhost:8080/",
          "height": 507
        },
        "id": "Aowi6y6h-I-n",
        "outputId": "8a486603-874d-47a9-d251-fbbfac31495f"
      },
      "source": [
        "from sympy import *\n",
        "\n",
        "m = int(input (\"Ingrese el número de estados de la cadena \"))\n",
        "\n",
        "print(\"\\n\")\n",
        "print(\"Ingrese las entradas de la matriz de probabilidad P \\n\")\n",
        "\n",
        "LM = []\n",
        "for j in range(m):\n",
        "    Fila = []\n",
        "    for i in range(m):\n",
        "        F= float(input(\"Ingrese probabilidad p_\" + str(j+1) + str(i+1) + \" \" ))\n",
        "        Fila.append(F)\n",
        "    LM.append(Fila)\n",
        "\n",
        "P = Matrix(LM)\n",
        "\n",
        "print(\"\\n\")\n",
        "print(\"Ingrese las entradas del vector de distribución inicial \\n\")\n",
        "\n",
        "v_0 =[]\n",
        "for k in range(m):\n",
        "    entrada= float(input(\"Ingrese la entrada v_\" + str(1) + str(k+1) + \" \" ))\n",
        "    v_0.append(entrada)\n",
        "\n",
        "V = Matrix(1,m,v_0)\n",
        "\n",
        "print(\"\\n\")\n",
        "n = int(input (\"Ingrese el número de pasos que desea calcular \"))\n",
        "\n",
        "\n",
        "print(\"\\n\")\n",
        "print(\"El vector de distribución despues de \"+ str(n) + \" pasos es: \\n\")\n",
        "\n",
        "V_f = V * P**n \n",
        "V_f"
      ],
      "execution_count": null,
      "outputs": [
        {
          "output_type": "stream",
          "text": [
            "Ingrese el número de estados de la cadena 3\n",
            "\n",
            "\n",
            "Ingrese las entradas de la matriz de probabilidad P \n",
            "\n",
            "Ingrese probabilidad p_11 0.2\n",
            "Ingrese probabilidad p_12 0.3\n",
            "Ingrese probabilidad p_13 0.4\n",
            "Ingrese probabilidad p_21 0.5\n",
            "Ingrese probabilidad p_22 06\n",
            "Ingrese probabilidad p_23 0.7\n",
            "Ingrese probabilidad p_31 0.8\n",
            "Ingrese probabilidad p_32 0.9\n",
            "Ingrese probabilidad p_33 0.1\n",
            "\n",
            "\n",
            "Ingrese las entradas del vector de distribución inicial \n",
            "\n",
            "Ingrese la entrada v_11 100\n",
            "Ingrese la entrada v_12 300\n",
            "Ingrese la entrada v_13 200\n",
            "\n",
            "\n",
            "Ingrese el número de pasos que desea calcular 2\n",
            "\n",
            "\n",
            "El vector de distribución despues de 2 pasos es: \n",
            "\n"
          ],
          "name": "stdout"
        },
        {
          "output_type": "execute_result",
          "data": {
            "text/latex": "$\\displaystyle \\left[\\begin{matrix}1287.0 & 12402.0 & 1566.0\\end{matrix}\\right]$",
            "text/plain": [
              "[1287.0  12402.0  1566.0]"
            ]
          },
          "metadata": {
            "tags": []
          },
          "execution_count": 8
        }
      ]
    }
  ]
}