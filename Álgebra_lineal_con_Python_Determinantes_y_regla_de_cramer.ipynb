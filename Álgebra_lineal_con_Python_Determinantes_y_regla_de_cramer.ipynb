{
  "nbformat": 4,
  "nbformat_minor": 0,
  "metadata": {
    "colab": {
      "name": "Álgebra lineal con Python- Determinantes y regla de cramer.ipynb",
      "provenance": [],
      "collapsed_sections": [],
      "include_colab_link": true
    },
    "kernelspec": {
      "name": "python3",
      "display_name": "Python 3"
    }
  },
  "cells": [
    {
      "cell_type": "markdown",
      "metadata": {
        "id": "view-in-github",
        "colab_type": "text"
      },
      "source": [
        "<a href=\"https://colab.research.google.com/github/josorio398/ALGEBRA-LINEAL-CON-PYTHON/blob/master/%C3%81lgebra_lineal_con_Python_Determinantes_y_regla_de_cramer.ipynb\" target=\"_parent\"><img src=\"https://colab.research.google.com/assets/colab-badge.svg\" alt=\"Open In Colab\"/></a>"
      ]
    },
    {
      "cell_type": "markdown",
      "metadata": {
        "id": "RVxHpsbcExUD"
      },
      "source": [
        "<p><img alt=\"logo.fua\" height=\"100px\" src=\"https://www.uamerica.edu.co/wp-content/images/escudo.png\" align=\"left\" hspace=\"10px\" vspace=\"0px\"></p>\n",
        "\n",
        "<p><img alt=\"logo.fua\" height=\"26px\" src=\"https://mirrors.creativecommons.org/presskit/buttons/88x31/svg/by-nd.svg\" align=\"right\" hspace=\"0px\" vspace=\"11px\"></p>\n",
        "\n",
        "\n",
        "# <center> <font size=\"6\">**ÁLGEBRA LINEAL CON PYTHON** <center>*Jhonny Osorio Gallego &nbsp; &nbsp; &nbsp;<p>*</font> "
      ]
    },
    {
      "cell_type": "markdown",
      "metadata": {
        "id": "pELON3yz_46g"
      },
      "source": [
        "#**DETERMINANTES Y REGLA DE CRAMER**\n",
        "\n"
      ]
    },
    {
      "cell_type": "markdown",
      "metadata": {
        "id": "U515Q-sM2m9k"
      },
      "source": [
        "##**LIBRERÍA SIMBÓLICA SYMPY**\n",
        "**SymPy** es una biblioteca de Python para matemáticas simbólicas. Su objetivo es convertirse en un sistema de álgebra computacional (CAS) con todas las funciones, manteniendo el código lo más simple posible para que sea comprensible y fácilmente extensible. SymPy está escrito completamente en Python.[sympy.org](https://www.sympy.org/en/index.html)"
      ]
    },
    {
      "cell_type": "code",
      "metadata": {
        "id": "4wHJ9dZ3405h"
      },
      "source": [
        "from sympy import *\n",
        "init_printing() \n",
        "x,y,z,w,a,b = symbols(\"x y z w a b \")\n",
        "A,B,C = symbols(\"A B C \")"
      ],
      "execution_count": 5,
      "outputs": []
    },
    {
      "cell_type": "markdown",
      "metadata": {
        "id": "7W2a1nKcMwME"
      },
      "source": [
        "#**DEFINICIÓN DE UNA MATRIZ EN SYMPY**\n",
        "\n",
        "Define la siguente matriz en el módulo **SymPy**:\n",
        "\n",
        "$$A=\\begin{bmatrix}\n",
        "5 & 4 & 6 & 7 \\\\\n",
        "3 & 5 & 8 & 9 \\\\\n",
        "1 & 5 & 1 & 3 \\\\\n",
        "\\end{bmatrix}$$"
      ]
    },
    {
      "cell_type": "markdown",
      "metadata": {
        "id": "DJ9HtXdzOPAT"
      },
      "source": [
        "### **Forma 1:** "
      ]
    },
    {
      "cell_type": "code",
      "metadata": {
        "colab": {
          "base_uri": "https://localhost:8080/",
          "height": 78
        },
        "id": "FEniaiZiOON8",
        "outputId": "c1f395ee-8976-4227-d3d2-7891c24c96fd"
      },
      "source": [
        "A = Matrix([[5,4,6,7],[3,5,8,9],[1,5,1,3]])\n",
        "A"
      ],
      "execution_count": null,
      "outputs": [
        {
          "output_type": "execute_result",
          "data": {
            "text/latex": "$\\displaystyle \\left[\\begin{matrix}5 & 4 & 6 & 7\\\\3 & 5 & 8 & 9\\\\1 & 5 & 1 & 3\\end{matrix}\\right]$",
            "text/plain": [
              "⎡5  4  6  7⎤\n",
              "⎢          ⎥\n",
              "⎢3  5  8  9⎥\n",
              "⎢          ⎥\n",
              "⎣1  5  1  3⎦"
            ]
          },
          "metadata": {
            "tags": []
          },
          "execution_count": 16
        }
      ]
    },
    {
      "cell_type": "markdown",
      "metadata": {
        "id": "HDepGi8sOku4"
      },
      "source": [
        "### **Forma 2:** "
      ]
    },
    {
      "cell_type": "code",
      "metadata": {
        "colab": {
          "base_uri": "https://localhost:8080/",
          "height": 78
        },
        "id": "hDHRrXx1Mvn1",
        "outputId": "bc1fb255-e8e7-4088-a1bd-7976b96fd62c"
      },
      "source": [
        "A = Matrix(3,4, [5,4,6,7,3,5,8,9,1,5,1,3])\n",
        "A"
      ],
      "execution_count": null,
      "outputs": [
        {
          "output_type": "execute_result",
          "data": {
            "text/latex": "$\\displaystyle \\left[\\begin{matrix}5 & 4 & 6 & 7\\\\3 & 5 & 8 & 9\\\\1 & 5 & 1 & 3\\end{matrix}\\right]$",
            "text/plain": [
              "⎡5  4  6  7⎤\n",
              "⎢          ⎥\n",
              "⎢3  5  8  9⎥\n",
              "⎢          ⎥\n",
              "⎣1  5  1  3⎦"
            ]
          },
          "metadata": {
            "tags": []
          },
          "execution_count": 17
        }
      ]
    },
    {
      "cell_type": "markdown",
      "metadata": {
        "id": "c4eZEIOn96k8"
      },
      "source": [
        "#**DETERMINANTES**\n",
        "\n",
        "Si $A$ es una matriz **cuadrada**, entonces la función determinante asocia a $A$ exactamente un número real llamado determinante de $A$. El determinante de $A$ se nota cómo $det(A)$ o $|A|$, podemos pensar en la función\n",
        "determinante como una correspondencia:\n",
        "\n",
        "\\begin{align}\n",
        "\\text{matriz cuadrada} \\hspace{0.5cm} &\\longrightarrow \\hspace{1cm}\\text{numero real}\\\\\n",
        "A \\hspace{2cm} &\\longrightarrow \\hspace{1cm}  det(A)=|A|\n",
        "\\end{align}"
      ]
    },
    {
      "cell_type": "markdown",
      "metadata": {
        "id": "c9eRCNhzG2oh"
      },
      "source": [
        "#**Determinante de una matriz cuadrada de orden 1**\n",
        "\n",
        "\n",
        "Si  $A =  \\begin{bmatrix}a_{11}\\end{bmatrix}$ es una **matriz cuadrada de orden 1** &nbsp; entonces &nbsp; $det(A) = a_{11} $\n",
        "\n"
      ]
    },
    {
      "cell_type": "markdown",
      "metadata": {
        "id": "PRprXS2Rgffg"
      },
      "source": [
        "\n",
        "### **Ejemplo 1: determinate matriz de orden 1**\n",
        "Cálcula el determinante de $A$ siendo:\n",
        "\n",
        "\n",
        "$$A=\\begin{bmatrix}\n",
        "5 \n",
        "\\end{bmatrix}$$\n",
        "\n",
        "###**Forma 1**"
      ]
    },
    {
      "cell_type": "code",
      "metadata": {
        "colab": {
          "base_uri": "https://localhost:8080/",
          "height": 38
        },
        "id": "FOCtqLMbSshR",
        "outputId": "d968ef3b-bf89-4bc6-9247-7aa2fc8ada65"
      },
      "source": [
        "A = Matrix([[a]])\n",
        "det(A)"
      ],
      "execution_count": null,
      "outputs": [
        {
          "output_type": "execute_result",
          "data": {
            "image/png": "[encoded data removed]",
            "text/latex": "$\\displaystyle a$",
            "text/plain": [
              "a"
            ]
          },
          "metadata": {
            "tags": []
          },
          "execution_count": 18
        }
      ]
    },
    {
      "cell_type": "markdown",
      "metadata": {
        "id": "KUW7dMUxTz0l"
      },
      "source": [
        "###**Forma 2**"
      ]
    },
    {
      "cell_type": "code",
      "metadata": {
        "colab": {
          "base_uri": "https://localhost:8080/",
          "height": 36
        },
        "id": "aLa3SHhYTDp3",
        "outputId": "58fd4987-63b3-4234-93a6-135f5e8deee5"
      },
      "source": [
        "A = Matrix([[5]])\n",
        "A.det()"
      ],
      "execution_count": null,
      "outputs": [
        {
          "output_type": "execute_result",
          "data": {
            "image/png": "[encoded data removed]",
            "text/latex": "$\\displaystyle 5$",
            "text/plain": [
              "5"
            ]
          },
          "metadata": {
            "tags": []
          },
          "execution_count": 19
        }
      ]
    },
    {
      "cell_type": "markdown",
      "metadata": {
        "id": "W3wmF4yagzSS"
      },
      "source": [
        "#**Determinante de una matriz cuadrada de orden 2**\n",
        "\n",
        "\n",
        "Si  $A=\\begin{bmatrix}\n",
        "a_{11} & a_{12}  \\\\\n",
        "a_{21} & a_{22} \\\\\n",
        "\\end{bmatrix}$ es una **matriz cuadrada de orden 2** &nbsp; entonces &nbsp; $det(A) = a_{11}a_{22}-a_{12}a_{21} $\n",
        "\n"
      ]
    },
    {
      "cell_type": "markdown",
      "metadata": {
        "id": "lbL6wWKngzST"
      },
      "source": [
        "### **Ejemplo 1: determinate de una  matriz cuadrada de orden 2**\n",
        "cálcula el determinante de $A$ siendo:\n",
        "\n",
        "\n",
        "$$A=\\begin{bmatrix}\n",
        "a & b  \\\\\n",
        "c & d \\\\\n",
        "\\end{bmatrix}$$\n"
      ]
    },
    {
      "cell_type": "code",
      "metadata": {
        "colab": {
          "base_uri": "https://localhost:8080/",
          "height": 38
        },
        "id": "gI4EpekugzSU",
        "outputId": "0a3aee5b-ef83-412e-d1e1-4fd895679c38"
      },
      "source": [
        "a,b,c,d = symbols(\"a b c d \")\n",
        "A = Matrix([[a, b], [c,d]])\n",
        "det(A)"
      ],
      "execution_count": null,
      "outputs": [
        {
          "output_type": "execute_result",
          "data": {
            "image/png": "[encoded data removed]",
            "text/latex": "$\\displaystyle a d - b c$",
            "text/plain": [
              "a⋅d - b⋅c"
            ]
          },
          "metadata": {
            "tags": []
          },
          "execution_count": 22
        }
      ]
    },
    {
      "cell_type": "markdown",
      "metadata": {
        "id": "1UUNiPFVgzSW"
      },
      "source": [
        "### **Ejemplo 2:**\n",
        "cálcula el determinante de $A$ siendo:\n",
        "$$A=\\begin{bmatrix}\n",
        "-5 & 7  \\\\\n",
        "-2 & 6 \\\\\n",
        "\\end{bmatrix}$$\n"
      ]
    },
    {
      "cell_type": "code",
      "metadata": {
        "colab": {
          "base_uri": "https://localhost:8080/",
          "height": 36
        },
        "id": "roFkQRFogzSW",
        "outputId": "cd459592-e669-4271-f444-28120accda80"
      },
      "source": [
        "A = Matrix([[-5, 7], [-2,6]])\n",
        "A.det()"
      ],
      "execution_count": null,
      "outputs": [
        {
          "output_type": "execute_result",
          "data": {
            "image/png": "[encoded data removed]",
            "text/latex": "$\\displaystyle -16$",
            "text/plain": [
              "-16"
            ]
          },
          "metadata": {
            "tags": []
          },
          "execution_count": 23
        }
      ]
    },
    {
      "cell_type": "markdown",
      "metadata": {
        "id": "aBkilJO8lhxN"
      },
      "source": [
        "#**Determinante de una matriz cuadrada de orden 3**\n",
        "\n",
        "## **Regla de sarrus**\n",
        "La regla de Sarrus es un método mnemotécnico para calcular el determinante de una **matriz cuadrada de orden 3**. Su nombre se debe al matemático francés Pierre Frédéric Sarrus.\n",
        "\n",
        "\n",
        "Si  $A=\\begin{bmatrix}\n",
        "a_{11} & a_{12} & a_{12}  \\\\\n",
        "a_{21} & a_{22} & a_{12} \\\\\n",
        "a_{21} & a_{22} & a_{12}\\\\\n",
        "\\end{bmatrix}$ es una **matriz cuadrada de orden 3** podemos afirmar que:\n",
        "\n",
        "&nbsp; $$det(A) = (a_{11}a_{22}a_{33}+a_{12}a_{23}a_{31}+a_{13}a_{21}a_{32})- (a_{13}a_{22}a_{31}+a_{11}a_{23}a_{32}+a_{12}a_{21}a_{33}) $$\n",
        "\n",
        "&nbsp;\n",
        "\n",
        "\n",
        "<center><h5><strong>Construcción nemotecnica de la regla de sarrus</strong></center>\n",
        "\n",
        "\n",
        "<center><img src=\"https://github.com/josorio398/ALGEBRA-LINEAL-CON-PYTHON/blob/b421a8f2eec8a92bb1811cb9abdcf7b5048dd600/Sarrus_rule.png?raw=False\"  height=\"200\" />\n"
      ]
    },
    {
      "cell_type": "markdown",
      "metadata": {
        "id": "m2ny_bht7NhX"
      },
      "source": [
        "### **Ejemplo 1: determinate de una matriz cuadrada de orden 3**\n",
        "Cálcula el determinante de $A$ siendo:\n",
        "\n",
        "\n",
        "$$A=\\begin{bmatrix}\n",
        "a_{11} & a_{12} & a_{12}  \\\\\n",
        "a_{21} & a_{22} & a_{12} \\\\\n",
        "a_{21} & a_{22} & a_{12}\\\\\n",
        "\\end{bmatrix}$$\n"
      ]
    },
    {
      "cell_type": "code",
      "metadata": {
        "colab": {
          "base_uri": "https://localhost:8080/",
          "height": 38
        },
        "id": "aLm8ysSP5-xa",
        "outputId": "c8339f84-10d3-4238-d9e4-7973ff6c78e8"
      },
      "source": [
        "a11, a12, a13, a21, a22, a23, a31, a32, a33, = symbols(\"a11 a12 a13 a21 a22 a23 a31 a32 a33\")\n",
        "A = Matrix([[a11, a12, a13], [a21,a22,a23],[a31, a32, a33]])\n",
        "det(A)"
      ],
      "execution_count": null,
      "outputs": [
        {
          "output_type": "execute_result",
          "data": {
            "image/png": "[encoded data removed]",
            "text/latex": "$\\displaystyle a_{11} a_{22} a_{33} - a_{11} a_{23} a_{32} - a_{12} a_{21} a_{33} + a_{12} a_{23} a_{31} + a_{13} a_{21} a_{32} - a_{13} a_{22} a_{31}$",
            "text/plain": [
              "a₁₁⋅a₂₂⋅a₃₃ - a₁₁⋅a₂₃⋅a₃₂ - a₁₂⋅a₂₁⋅a₃₃ + a₁₂⋅a₂₃⋅a₃₁ + a₁₃⋅a₂₁⋅a₃₂ - a₁₃⋅a₂₂⋅\n",
              "a₃₁"
            ]
          },
          "metadata": {
            "tags": []
          },
          "execution_count": 29
        }
      ]
    },
    {
      "cell_type": "markdown",
      "metadata": {
        "id": "Nx7S3xuT7r_V"
      },
      "source": [
        "### **Ejemplo 2:**\n",
        "cálcula el determinante de $A$ siendo:\n",
        "\n",
        "$$A=\\begin{bmatrix}\n",
        "5 & -3 & 6  \\\\\n",
        "5 & 9 & 12 \\\\\n",
        "9 & 3 & 5\\\\\n",
        "\\end{bmatrix}$$\n"
      ]
    },
    {
      "cell_type": "code",
      "metadata": {
        "colab": {
          "base_uri": "https://localhost:8080/",
          "height": 36
        },
        "id": "kZLPSUTs7r_X",
        "outputId": "cbe2c067-c3d1-481d-86e4-f1794b6413d2"
      },
      "source": [
        "A = Matrix([[-5,-3, 6], [5,9,12],[9,3,5]])\n",
        "A.det()"
      ],
      "execution_count": null,
      "outputs": [
        {
          "output_type": "execute_result",
          "data": {
            "image/png": "[encoded data removed]",
            "text/latex": "$\\displaystyle -690$",
            "text/plain": [
              "-690"
            ]
          },
          "metadata": {
            "tags": []
          },
          "execution_count": 30
        }
      ]
    },
    {
      "cell_type": "markdown",
      "metadata": {
        "id": "F7N0Pu3y9GgZ"
      },
      "source": [
        "#**Determinante de una matriz cuadrada de orden $n$**\n",
        "\n",
        "Para encontrar el determinante de cualquier matriz cuadrada $A$ de orden $n$ $(n>2)$, seleccione cualquier renglón (o columna) de A y multiplique cada entrada en el renglón (columna) por su cofactor. La suma de estos productos será el determinante de $A$, llamado determinante de orden $n$.\n",
        "\n",
        "Sea $A$ es una matriz cuadrada de tamaño $n\\times n$\n",
        "\n",
        "si seleccionamos una fila $i$:\n",
        "\n",
        "$$|A|= det(A) = a_{i1}A_{n1}+a_{i2}A_{n2}+ \\cdots+ a_{in}A_{in} = \\displaystyle \\sum_{k=1}^{n}a_{ik}A_{ik} = \\displaystyle \\sum_{k=1}^{n}a_{ik}(-1)^{i+k}M_{ik}  $$\n",
        "\n",
        "si seleccionamos una columna $i$:\n",
        "\n",
        "$$|A|= det(A) = a_{1i}A_{1i}+a_{2i}A_{2i}+ \\cdots+ a_{ni}A_{ni} = \\displaystyle \\sum_{k=1}^{n}a_{ki}A_{ki} = \\displaystyle \\sum_{k=1}^{n}a_{ki}(-1)^{k+i}M_{ki}  $$\n",
        "\n",
        "donde $A_{ki}$ o $A_{ik}$ es el llamado **cofactor** y  $M_{ki}$ o $M_{ik}$ es llamano **menor** de la matriz.\n",
        "\n",
        "\n",
        "El **menor** *$M_{ki}$*  de una matriz $A$ es el determinante de la **submatriz** obtenida al eliminar la fila $k$ y la columna $i$ de la matriz $A$.\n"
      ]
    },
    {
      "cell_type": "markdown",
      "metadata": {
        "id": "jHlX43OhWKoE"
      },
      "source": [
        "## **Cálculo de menores**\n",
        "Cálcula el menor $M_{12}$ de $A$ siendo:\n",
        "\n",
        "$$A=\\begin{bmatrix}\n",
        "5 & -3 & 6  \\\\\n",
        "5 & 9 & 12 \\\\\n",
        "9 & 3 & 5\\\\\n",
        "\\end{bmatrix}$$\n",
        "### **Forma 1:** *usando la función* **minor( )**"
      ]
    },
    {
      "cell_type": "code",
      "metadata": {
        "id": "w-rrh7vMCSA5"
      },
      "source": [
        "A = Matrix([[5, -3, 6], [5, 9, 12], [9, 3, 5]])\n",
        "A.minor(0,1)"
      ],
      "execution_count": null,
      "outputs": []
    },
    {
      "cell_type": "markdown",
      "metadata": {
        "id": "FYNYrFiBXhTH"
      },
      "source": [
        "### **Forma 2:** *encontrando el determinate de la submatriz*"
      ]
    },
    {
      "cell_type": "code",
      "metadata": {
        "colab": {
          "base_uri": "https://localhost:8080/",
          "height": 36
        },
        "id": "U4Z7fGJrDH3v",
        "outputId": "2614f451-1485-4ef2-efd5-6cfa514c7760"
      },
      "source": [
        "A = Matrix([[5, -3, 6], [5, 9, 12], [9, 3, 5]])\n",
        "A.row_del(0)\n",
        "A.col_del(1)\n",
        "A.det()"
      ],
      "execution_count": null,
      "outputs": [
        {
          "output_type": "execute_result",
          "data": {
            "image/png": "[encoded data removed]",
            "text/latex": "$\\displaystyle -83$",
            "text/plain": [
              "-83"
            ]
          },
          "metadata": {
            "tags": []
          },
          "execution_count": 17
        }
      ]
    },
    {
      "cell_type": "markdown",
      "metadata": {
        "id": "0W5op-VXYnHM"
      },
      "source": [
        "## **Cálculo de cofactores** \n",
        "Cálcula el cofactor $A_{12}$ de $A$ siendo:\n",
        "\n",
        "$$A=\\begin{bmatrix}\n",
        "5 & -3 & 6  \\\\\n",
        "5 & 9 & 12 \\\\\n",
        "9 & 3 & 5\\\\\n",
        "\\end{bmatrix}$$\n",
        "### **Forma 1** *usando la función* **cofactor( )**"
      ]
    },
    {
      "cell_type": "code",
      "metadata": {
        "colab": {
          "base_uri": "https://localhost:8080/",
          "height": 36
        },
        "id": "bTbSuKlSYnHQ",
        "outputId": "a7630fe2-cffa-45a1-9d5a-0e4ae709478e"
      },
      "source": [
        "A = Matrix([[5, -3, 6], [5, 9, 12], [9, 3, 5]])\n",
        "A.cofactor(0,1)"
      ],
      "execution_count": null,
      "outputs": [
        {
          "output_type": "execute_result",
          "data": {
            "image/png": "[encoded data removed]",
            "text/latex": "$\\displaystyle 83$",
            "text/plain": [
              "83"
            ]
          },
          "metadata": {
            "tags": []
          },
          "execution_count": 18
        }
      ]
    },
    {
      "cell_type": "markdown",
      "metadata": {
        "id": "L8FStbT7YnHR"
      },
      "source": [
        "### **Forma 2** *usando la función* **minor( )**"
      ]
    },
    {
      "cell_type": "code",
      "metadata": {
        "colab": {
          "base_uri": "https://localhost:8080/",
          "height": 36
        },
        "id": "n6RafJaEYnHS",
        "outputId": "f1297b9a-c2ee-4065-dbfe-0b3d760cfbf0"
      },
      "source": [
        "A = Matrix([[5, -3, 6], [5, 9, 12], [9, 3, 5]])\n",
        "(-1)**(0+1)*A.minor(0,1)"
      ],
      "execution_count": null,
      "outputs": [
        {
          "output_type": "execute_result",
          "data": {
            "image/png": "[encoded data removed]",
            "text/latex": "$\\displaystyle 83$",
            "text/plain": [
              "83"
            ]
          },
          "metadata": {
            "tags": []
          },
          "execution_count": 19
        }
      ]
    },
    {
      "cell_type": "markdown",
      "metadata": {
        "id": "aBr7Sc4vhBcF"
      },
      "source": [
        "### **Forma 3:** *encontrando el determinate de la submatriz*"
      ]
    },
    {
      "cell_type": "code",
      "metadata": {
        "colab": {
          "base_uri": "https://localhost:8080/",
          "height": 36
        },
        "id": "Mh9ojk6BhBcU",
        "outputId": "fc363ee6-2e9c-4b85-f65b-c335d401424f"
      },
      "source": [
        "M = Matrix([[5, -3, 6], [5, 9, 12], [9, 3, 5]])\n",
        "F = 0   # fila\n",
        "C = 1   # columna\n",
        "M.row_del(F)\n",
        "M.col_del(C)\n",
        "(-1)**(F+C)*det(M)"
      ],
      "execution_count": null,
      "outputs": [
        {
          "output_type": "execute_result",
          "data": {
            "image/png": "[encoded data removed]",
            "text/latex": "$\\displaystyle 83$",
            "text/plain": [
              "83"
            ]
          },
          "metadata": {
            "tags": []
          },
          "execution_count": 21
        }
      ]
    },
    {
      "cell_type": "markdown",
      "metadata": {
        "id": "0rvHsukWpneA"
      },
      "source": [
        "# **Cálculo de determinantes paso a paso**\n",
        "cálcula el determinante de $A$ paso a  paso:\n",
        "\n",
        "$$A=\\begin{bmatrix}\n",
        "5 & -3 & 6  \\\\\n",
        "5 & 9 & 12 \\\\\n",
        "9 & 3 & 5\\\\\n",
        "\\end{bmatrix}$$\n",
        "\n",
        "### **Forma 1** *usando la función* **minor( )**"
      ]
    },
    {
      "cell_type": "code",
      "metadata": {
        "colab": {
          "base_uri": "https://localhost:8080/",
          "height": 36
        },
        "id": "gNLN6TEXCWsa",
        "outputId": "b80da96c-3b1c-4d89-cec2-4f7ebee9fef1"
      },
      "source": [
        "A = Matrix([[5, -3, 6], [5, 9, 12], [9, 3, 5]])\n",
        "\n",
        "(-1)**(0+0)*A[0,0]*A.minor(0, 0)+(-1)**(0+1)*A[0,1]*A.minor(0, 1)+(-1)**(0+2)*A[0,2]*A.minor(0, 2)"
      ],
      "execution_count": null,
      "outputs": [
        {
          "output_type": "execute_result",
          "data": {
            "image/png": "[encoded data removed]",
            "text/latex": "$\\displaystyle -600$",
            "text/plain": [
              "-600"
            ]
          },
          "metadata": {
            "tags": []
          },
          "execution_count": 23
        }
      ]
    },
    {
      "cell_type": "markdown",
      "metadata": {
        "id": "j3waxR9Disb4"
      },
      "source": [
        "\n",
        "### **Forma 1** *usando la función* **cofactor( )**"
      ]
    },
    {
      "cell_type": "code",
      "metadata": {
        "colab": {
          "base_uri": "https://localhost:8080/",
          "height": 36
        },
        "id": "VcYkACABiuox",
        "outputId": "013f0bd6-2d5b-437f-fcd2-f572066a6f67"
      },
      "source": [
        "A = Matrix([[5, -3, 6], [5, 9, 12], [9, 3, 5]])\n",
        "\n",
        "A[0,0]*A.cofactor(0, 0)+A[0,1]*A.cofactor(0, 1)+A[0,2]*A.cofactor(0, 2)"
      ],
      "execution_count": null,
      "outputs": [
        {
          "output_type": "execute_result",
          "data": {
            "image/png": "[encoded data removed]",
            "text/latex": "$\\displaystyle -600$",
            "text/plain": [
              "-600"
            ]
          },
          "metadata": {
            "tags": []
          },
          "execution_count": 25
        }
      ]
    },
    {
      "cell_type": "markdown",
      "metadata": {
        "id": "C2CrjPiTY3_V"
      },
      "source": [
        "## **Proyecto:** *Escribe un código para hallar el determinante de una matriz de cualquier tamaño sin usar la función o método det( ) de SymPy.*"
      ]
    },
    {
      "cell_type": "code",
      "metadata": {
        "id": "dhozC2VgZUkQ"
      },
      "source": [
        ""
      ],
      "execution_count": null,
      "outputs": []
    },
    {
      "cell_type": "markdown",
      "metadata": {
        "id": "ya5Tl9M-kB9B"
      },
      "source": [
        "#**PROPIEDADES DETERMINANTES**\n",
        "\n",
        "### Sea ${\\displaystyle A,B\\in {\\mathcal {M}}_{n\\times n}(\\mathbb {R} )}$, y $k \\in \\mathbb {R}$, se cumplen las siguientes propiedades del determinante:"
      ]
    },
    {
      "cell_type": "markdown",
      "metadata": {
        "id": "Bgmti9Oxkt9M"
      },
      "source": [
        "###**Propiedad 1:** Si cada una de las entradas de un renglón (o columna) de $A$ es $0$, entonces $|A| = 0$."
      ]
    },
    {
      "cell_type": "code",
      "metadata": {
        "id": "3tNxOkOqkBRA"
      },
      "source": [
        ""
      ],
      "execution_count": null,
      "outputs": []
    },
    {
      "cell_type": "markdown",
      "metadata": {
        "id": "0P_qpCxTlOVp"
      },
      "source": [
        "###**Propiedad 2:** Si dos renglones (o columnas) de $A$ son idénticos, $|A| = 0$."
      ]
    },
    {
      "cell_type": "code",
      "metadata": {
        "id": "I-kmVDXllPRx"
      },
      "source": [
        ""
      ],
      "execution_count": null,
      "outputs": []
    },
    {
      "cell_type": "markdown",
      "metadata": {
        "id": "5QuN3x4LlPy2"
      },
      "source": [
        "###**Propiedad 3:** Si $A$ es triangular superior (o inferior), entonces $|A|$ es igual al producto de las entradas de la diagonal principal."
      ]
    },
    {
      "cell_type": "code",
      "metadata": {
        "id": "7YlEpI2LlQ2C"
      },
      "source": [
        ""
      ],
      "execution_count": null,
      "outputs": []
    },
    {
      "cell_type": "markdown",
      "metadata": {
        "id": "9y_FfMoGmHeP"
      },
      "source": [
        "###**Propiedad 5:** Si $B$ es la matriz que se obtiene al intercambiar dos renglones (o columnas) de $A$, entonces $|B|=-|A|$, o en forma equivalente, $|A|=-|B|$.\n",
        "\n",
        "|  Operación elemental        | Código |\n",
        ":--------------------------------------:|:--------------:|\n",
        "| Interrarcambiar la fila<br> $F_i$ con $F_j$ | **` A.row_swap(i, j)`**   |\n",
        "| Interrarcambiar la columna<br> $C_i$ con $C_j$ | **` A.col_swap(i, j)`**   |"
      ]
    },
    {
      "cell_type": "code",
      "metadata": {
        "id": "IVY4tBinsHHH"
      },
      "source": [
        ""
      ],
      "execution_count": null,
      "outputs": []
    },
    {
      "cell_type": "markdown",
      "metadata": {
        "id": "--D64KU0ltBG"
      },
      "source": [
        "###**Propiedad 4:** Si $B$ es la matriz que se obtiene sumando un múltiplo de un renglón (o columna) de $A$ a otro renglón (columna), entonces $B=A$.\n",
        "\n",
        "|  Operación elemental        | Código |\n",
        ":--------------------------------------:|:--------------:|\n",
        "| Sumar $k$ veces la fila $F_i$ <br> a la fila $F_j$ | **`A[j ,:] = k*A[ i ,:] + A[j ,:]`**  |\n",
        "| Sumar $k$ veces la columna $C_i$ <br> a la columna $C_j$ | **`A[: ,j] = k*A[ : ,i] + A[: ,j]`**   |"
      ]
    },
    {
      "cell_type": "code",
      "metadata": {
        "id": "Co8iFH-FrH2G"
      },
      "source": [
        ""
      ],
      "execution_count": null,
      "outputs": []
    },
    {
      "cell_type": "markdown",
      "metadata": {
        "id": "wCG_G3GtmyCT"
      },
      "source": [
        "###**Propiedad 6 :** Si $B$ es la matriz que se obtiene multiplicando cada entrada de un renglón (o columna) de $A$ por el mismo número $k$, entonces $|B|=k|A|$. \n",
        "\n",
        "|  Operación elemental        | Código |\n",
        ":--------------------------------------:|:--------------:|\n",
        "| Multiplicar la fila $F_i$ <br> por la constante $k$  | **`A[i ,:] = k*A[ i ,:]`** |\n",
        "| Multiplicar la columna $C_i$ <br> por la constante $k$  | **`A[: ,i] = k*A[ : ,i]`**    |"
      ]
    },
    {
      "cell_type": "code",
      "metadata": {
        "id": "amn07266m2G_"
      },
      "source": [
        ""
      ],
      "execution_count": null,
      "outputs": []
    },
    {
      "cell_type": "markdown",
      "metadata": {
        "id": "n005SvejnEDg"
      },
      "source": [
        "###**Propiedad 7 :** \n",
        "###Sea ${\\displaystyle A\\in {\\mathcal {M}}_{n\\times n}(\\mathbb {R} )}$, y $k \\in \\mathbb {R}$ se cumple:\n",
        "\n",
        "###$$|kA|=k^n|A|$$\n",
        "\n",
        "###Esto es una consecuencia de la **propiedad 6**, ya que cada uno de los $n$ renglones de $kA$ tiene un factor común $k$."
      ]
    },
    {
      "cell_type": "code",
      "metadata": {
        "id": "_rolXPclntFZ"
      },
      "source": [
        ""
      ],
      "execution_count": null,
      "outputs": []
    },
    {
      "cell_type": "markdown",
      "metadata": {
        "id": "sHB9IneroY5N"
      },
      "source": [
        "###**Propiedad 8:** \n",
        "###Sea ${\\displaystyle A,B\\in {\\mathcal {M}}_{n\\times n}(\\mathbb {R} )}$ se cumple:\n",
        "\n",
        "###$$|AB|= |A||B|$$."
      ]
    },
    {
      "cell_type": "code",
      "metadata": {
        "id": "NtY1-rerx2x7"
      },
      "source": [
        ""
      ],
      "execution_count": null,
      "outputs": []
    },
    {
      "cell_type": "markdown",
      "metadata": {
        "id": "5LNQjrSzx1UY"
      },
      "source": [
        "###**Propiedad 9:** \n",
        "###Sea ${\\displaystyle A\\in {\\mathcal {M}}_{n\\times n}(\\mathbb {R} )}$ una matriz invertible, se cumple:\n",
        "\n",
        "###$$|A^1|= \\dfrac{1}{|A|}$$."
      ]
    },
    {
      "cell_type": "code",
      "metadata": {
        "id": "r7qCMzmeytW2"
      },
      "source": [
        ""
      ],
      "execution_count": null,
      "outputs": []
    },
    {
      "cell_type": "markdown",
      "metadata": {
        "id": "ibpca46ryqJ1"
      },
      "source": [
        "###**Propiedad 10:** \n",
        "###Sea ${\\displaystyle A\\in {\\mathcal {M}}_{n\\times n}(\\mathbb {R} )}$, se cumple:\n",
        "\n",
        "###$$|A^T|= |A|$$."
      ]
    },
    {
      "cell_type": "code",
      "metadata": {
        "id": "2B0uonmlyqKB"
      },
      "source": [
        ""
      ],
      "execution_count": null,
      "outputs": []
    },
    {
      "cell_type": "markdown",
      "metadata": {
        "id": "88NTknqPTLtq"
      },
      "source": [
        "# **MATRIZ DE COFACTORES**\n",
        "\n",
        "Sea ${\\displaystyle A\\in {\\mathcal {M}}_{n\\times n}(\\mathbb {R} )}$ , existe una matriz llamada ${\\displaystyle cof(A)\\in {\\mathcal {M}}_{n\\times n}(\\mathbb {R} )}$ tal que:\n",
        "\n",
        "<center> <h4> Si &nbsp; &nbsp; $A = \\left[  a_{ij} \\right]_{n \\times n}$  &nbsp; &nbsp; entonces &nbsp; &nbsp;$cof(A) = \\left[  A_{ij}  \\right]_{n \\times n}$ &nbsp; donde &nbsp; $A_{ij}$ es el cofactor de la entrada $a_{ij}$</h4>\n",
        "\n"
      ]
    },
    {
      "cell_type": "markdown",
      "metadata": {
        "id": "8GXIKE7JVcGv"
      },
      "source": [
        "### **Ejemplo: matriz de cofactores**\n",
        "\n",
        "\n",
        "\n",
        "Encuentra la matriz $cof(A)$  de la matriz :\n",
        "\n",
        "$$A=\\begin{bmatrix}\n",
        "5 & -3 & 6  \\\\\n",
        "5 & 9 & 12 \\\\\n",
        "9 & 3 & 5\\\\\n",
        "\\end{bmatrix}$$"
      ]
    },
    {
      "cell_type": "markdown",
      "metadata": {
        "id": "PdbaPlodXLtr"
      },
      "source": [
        "### **Forma 1:** "
      ]
    },
    {
      "cell_type": "code",
      "metadata": {
        "colab": {
          "base_uri": "https://localhost:8080/",
          "height": 78
        },
        "id": "FX-zlny1VcHR",
        "outputId": "3630a756-eb35-4848-a129-a6a665f678b0"
      },
      "source": [
        "A = Matrix([[5, -3, 6], [5, 9, 12], [9, 3, 5]])\n",
        "A.cofactor_matrix()"
      ],
      "execution_count": null,
      "outputs": [
        {
          "output_type": "execute_result",
          "data": {
            "text/latex": "$\\displaystyle \\left[\\begin{matrix}9 & 83 & -66\\\\33 & -29 & -42\\\\-90 & -30 & 60\\end{matrix}\\right]$",
            "text/plain": [
              "⎡ 9   83   -66⎤\n",
              "⎢             ⎥\n",
              "⎢33   -29  -42⎥\n",
              "⎢             ⎥\n",
              "⎣-90  -30  60 ⎦"
            ]
          },
          "metadata": {
            "tags": []
          },
          "execution_count": 83
        }
      ]
    },
    {
      "cell_type": "markdown",
      "metadata": {
        "id": "VjXLu3kFXPcW"
      },
      "source": [
        "### **Forma 2:** "
      ]
    },
    {
      "cell_type": "code",
      "metadata": {
        "colab": {
          "base_uri": "https://localhost:8080/",
          "height": 78
        },
        "id": "1MFtqKD_TQ-H",
        "outputId": "88b3b5e5-964d-4c72-bb35-35e8a08004c4"
      },
      "source": [
        "A = Matrix([[5, -3, 6], [5, 9, 12], [9, 3, 5]])\n",
        "B = Matrix(3,3, lambda i,j: A.cofactor(i, j))\n",
        "B"
      ],
      "execution_count": null,
      "outputs": [
        {
          "output_type": "execute_result",
          "data": {
            "text/latex": "$\\displaystyle \\left[\\begin{matrix}9 & 83 & -66\\\\33 & -29 & -42\\\\-90 & -30 & 60\\end{matrix}\\right]$",
            "text/plain": [
              "⎡ 9   83   -66⎤\n",
              "⎢             ⎥\n",
              "⎢33   -29  -42⎥\n",
              "⎢             ⎥\n",
              "⎣-90  -30  60 ⎦"
            ]
          },
          "metadata": {
            "tags": []
          },
          "execution_count": 84
        }
      ]
    },
    {
      "cell_type": "markdown",
      "metadata": {
        "id": "RWz1KUEDzQ5L"
      },
      "source": [
        "# **MATRIZ DE ADJUNTOS**\n",
        "\n",
        "Sea ${\\displaystyle A\\in {\\mathcal {M}}_{n\\times n}(\\mathbb {R} )}$ , existe una matriz llamada ${\\displaystyle adj(A)\\in {\\mathcal {M}}_{n\\times n}(\\mathbb {R} )}$ tal que:\n",
        "\n",
        "\n",
        "$$adj(A)= [cof(A)]^T$$\n",
        "\n",
        "\n",
        "\n"
      ]
    },
    {
      "cell_type": "markdown",
      "metadata": {
        "id": "0TG-fsLMzQ5q"
      },
      "source": [
        "### **Ejemplo: matriz de adjuntos**\n",
        "\n",
        "\n",
        "\n",
        "Encuentra la matriz $adj(A)$  de la matriz :\n",
        "\n",
        "$$A=\\begin{bmatrix}\n",
        "5 & -3 & 6  \\\\\n",
        "5 & 9 & 12 \\\\\n",
        "9 & 3 & 5\\\\\n",
        "\\end{bmatrix}$$"
      ]
    },
    {
      "cell_type": "markdown",
      "metadata": {
        "id": "pyxXeWfZzQ5r"
      },
      "source": [
        "### **Forma 1:** *(usando la matriz de cofactores)*"
      ]
    },
    {
      "cell_type": "code",
      "metadata": {
        "colab": {
          "base_uri": "https://localhost:8080/",
          "height": 78
        },
        "id": "mAppZX5SzQ5s",
        "outputId": "87f048b3-b204-469b-d92d-6ff1c4945538"
      },
      "source": [
        "A = Matrix([[5, -3, 6], [5, 9, 12], [9, 3, 5]])\n",
        "A.cofactor_matrix().T"
      ],
      "execution_count": null,
      "outputs": [
        {
          "output_type": "execute_result",
          "data": {
            "text/latex": "$\\displaystyle \\left[\\begin{matrix}9 & 33 & -90\\\\83 & -29 & -30\\\\-66 & -42 & 60\\end{matrix}\\right]$",
            "text/plain": [
              "⎡ 9   33   -90⎤\n",
              "⎢             ⎥\n",
              "⎢83   -29  -30⎥\n",
              "⎢             ⎥\n",
              "⎣-66  -42  60 ⎦"
            ]
          },
          "metadata": {
            "tags": []
          },
          "execution_count": 3
        }
      ]
    },
    {
      "cell_type": "markdown",
      "metadata": {
        "id": "MobnkzjuzQ5v"
      },
      "source": [
        "### **Forma 2:** *(definiendo una función)*"
      ]
    },
    {
      "cell_type": "code",
      "metadata": {
        "colab": {
          "base_uri": "https://localhost:8080/",
          "height": 78
        },
        "id": "f2C3EVJ7zQ5w",
        "outputId": "1b92c09c-b41c-4079-ea3e-1ea54f9d2f01"
      },
      "source": [
        "A = Matrix([[5, -3, 6], [5, 9, 12], [9, 3, 5]])\n",
        "B = Matrix(3,3, lambda i,j: A.cofactor(i, j))\n",
        "transpose(B)"
      ],
      "execution_count": null,
      "outputs": [
        {
          "output_type": "execute_result",
          "data": {
            "text/latex": "$\\displaystyle \\left[\\begin{matrix}9 & 33 & -90\\\\83 & -29 & -30\\\\-66 & -42 & 60\\end{matrix}\\right]$",
            "text/plain": [
              "⎡ 9   33   -90⎤\n",
              "⎢             ⎥\n",
              "⎢83   -29  -30⎥\n",
              "⎢             ⎥\n",
              "⎣-66  -42  60 ⎦"
            ]
          },
          "metadata": {
            "tags": []
          },
          "execution_count": 4
        }
      ]
    },
    {
      "cell_type": "markdown",
      "metadata": {
        "id": "v4gwIkz52ht4"
      },
      "source": [
        "### **Forma 3:** *(usando el método adjugate)* "
      ]
    },
    {
      "cell_type": "code",
      "metadata": {
        "colab": {
          "base_uri": "https://localhost:8080/",
          "height": 78
        },
        "id": "vWT_ox-j2huB",
        "outputId": "449bd874-4d1b-4503-843c-3e42236bf6fc"
      },
      "source": [
        "A = Matrix([[5, -3, 6], [5, 9, 12], [9, 3, 5]])\n",
        "A.adjugate()"
      ],
      "execution_count": null,
      "outputs": [
        {
          "output_type": "execute_result",
          "data": {
            "text/latex": "$\\displaystyle \\left[\\begin{matrix}9 & 33 & -90\\\\83 & -29 & -30\\\\-66 & -42 & 60\\end{matrix}\\right]$",
            "text/plain": [
              "⎡ 9   33   -90⎤\n",
              "⎢             ⎥\n",
              "⎢83   -29  -30⎥\n",
              "⎢             ⎥\n",
              "⎣-66  -42  60 ⎦"
            ]
          },
          "metadata": {
            "tags": []
          },
          "execution_count": 6
        }
      ]
    },
    {
      "cell_type": "markdown",
      "metadata": {
        "id": "TPv-tGiL5yI4"
      },
      "source": [
        ""
      ]
    },
    {
      "cell_type": "markdown",
      "metadata": {
        "id": "4w0gLm_jT4Ck"
      },
      "source": [
        "#**Propiedades matriz adjunta**\n",
        "\n",
        "Sean ${\\displaystyle A,B\\in {\\mathcal {M}}_{n\\times n}(\\mathbb {R} )}$  y $k \\in \\mathbb {R}$ , se cumplen las siguientes propiedades:\n",
        "\n",
        "|            PROPIEDAD           |       EXPLICACIÓN                      |\n",
        "|:------------------------------:|:--------------------------------------:|\n",
        "| Adjunta de la matriz nula                 |$$adj(0)=0$$|\n",
        "| Adjunta de la matriz identidad                    |   $$adj(I)=I$$                      |\n",
        "| Adjunta  de $kA$                      |      $$adj(kA)$$         | \n",
        "| Adjunta de $A^T$  |             $$adj(A^T)=\\left[adj(A)\\right]^T$$                           |\n",
        "| Adjunta de $AB$    |      $$adj(AB)=adj(B) \\ adj(A)$$ |\n",
        " | Adjunta de $A^n$    |     $$adj(A^n)=\\left[adj(A)\\right]^n $$ |\n",
        " | Adjunta de $A^{-1}$    |    $$adj(A^{-1})=\\left[adj(A)\\right]^{-1} $$|                    \n",
        "\n"
      ]
    },
    {
      "cell_type": "markdown",
      "metadata": {
        "id": "GY1I1Kphsgcf"
      },
      "source": [
        "#**MATRIZ INVERSA USANDO DETERMINANTES**\n",
        "\n",
        "Sea ${\\displaystyle A\\in {\\mathcal {M}}_{n\\times n}(\\mathbb {R} )}$, una matriz invertible, se cumple:\n",
        "\n",
        "$$A^{-1} = \\dfrac{1}{|A|} \\ adj(A)$$"
      ]
    },
    {
      "cell_type": "markdown",
      "metadata": {
        "id": "1W95Jw9id6GY"
      },
      "source": [
        "## **Ejemplo: matriz inversa** --> *usando determinantes*\n",
        "\n",
        "Encuentra la matriz $A^{-1}$ si es posible de la matriz:\n",
        "\n",
        "\n",
        "$$A=\\begin{bmatrix}\n",
        "5 & 4 & -5 \\\\\n",
        "3 & 6 & -7 \\\\\n",
        "1 & 0 & -3  \\\\\n",
        "\\end{bmatrix}\n",
        "$$"
      ]
    },
    {
      "cell_type": "code",
      "metadata": {
        "id": "mjxvIK5wsnC8",
        "colab": {
          "base_uri": "https://localhost:8080/",
          "height": 78
        },
        "outputId": "4b47fd6b-46e4-48e4-8e60-09a61cde7a03"
      },
      "source": [
        "A = Matrix([[5,4,-5],[3,6,-7],[1,0,-3]])\n",
        "inv_A = (1/det(A))*A.adjugate()\n",
        "inv_A"
      ],
      "execution_count": 9,
      "outputs": [
        {
          "output_type": "execute_result",
          "data": {
            "text/latex": "$\\displaystyle \\left[\\begin{matrix}\\frac{9}{26} & - \\frac{3}{13} & - \\frac{1}{26}\\\\- \\frac{1}{26} & \\frac{5}{26} & - \\frac{5}{13}\\\\\\frac{3}{26} & - \\frac{1}{13} & - \\frac{9}{26}\\end{matrix}\\right]$",
            "text/plain": [
              "⎡9/26   -3/13  -1/26⎤\n",
              "⎢                   ⎥\n",
              "⎢-1/26  5/26   -5/13⎥\n",
              "⎢                   ⎥\n",
              "⎣3/26   -1/13  -9/26⎦"
            ]
          },
          "metadata": {
            "tags": []
          },
          "execution_count": 9
        }
      ]
    },
    {
      "cell_type": "markdown",
      "metadata": {
        "id": "Kwz-5QwIsj6F"
      },
      "source": [
        "## **verificación**"
      ]
    },
    {
      "cell_type": "code",
      "metadata": {
        "colab": {
          "base_uri": "https://localhost:8080/",
          "height": 78
        },
        "id": "igimf4U7rXVj",
        "outputId": "c9b489d8-57ef-4a6c-e4ff-512a050b5d2e"
      },
      "source": [
        "A = Matrix([[5,4,-5],[3,6,-7],[1,0,-3]])\n",
        "A**(-1)"
      ],
      "execution_count": 10,
      "outputs": [
        {
          "output_type": "execute_result",
          "data": {
            "text/latex": "$\\displaystyle \\left[\\begin{matrix}\\frac{9}{26} & - \\frac{3}{13} & - \\frac{1}{26}\\\\- \\frac{1}{26} & \\frac{5}{26} & - \\frac{5}{13}\\\\\\frac{3}{26} & - \\frac{1}{13} & - \\frac{9}{26}\\end{matrix}\\right]$",
            "text/plain": [
              "⎡9/26   -3/13  -1/26⎤\n",
              "⎢                   ⎥\n",
              "⎢-1/26  5/26   -5/13⎥\n",
              "⎢                   ⎥\n",
              "⎣3/26   -1/13  -9/26⎦"
            ]
          },
          "metadata": {
            "tags": []
          },
          "execution_count": 10
        }
      ]
    },
    {
      "cell_type": "markdown",
      "metadata": {
        "id": "a80zQv0bWnEE"
      },
      "source": [
        "#**REGLA DE CRAMER PARA RESOLVER SISTEMAS DE ECUACIONES**\n",
        "\n",
        "Sea un sistema de $n$ ecuaciones lineales con $n$ incógnitas dado por:\n",
        "\n",
        "$$\\left\\{\n",
        "\\begin{array}{rcl}\n",
        "     a_{11}x_{11}+a_{22}x_{22}+\\cdots + a_{1n}x_{1n} & = & c_{1}\\\\\n",
        "     a_{21}x_{21}+a_{22}x_{22}+\\cdots + a_{2n}x_{2n} & = & c_{2}\\\\\n",
        "     \\hspace{0.5cm} \\vdots\\hspace{0.5cm}+\\hspace{0.6cm}\\vdots\\hspace{0.6cm}+ \\hspace{1.5cm}+ \\hspace{0.6cm}\\vdots \\hspace{0.6cm} & = & \\hspace{0.3cm} \\vdots\\\\\n",
        "a_{n1}x_{n1}+a_{n2}x_{n2}+\\cdots + a_{nn}x_{nn} & = & c_{n}\n",
        "\\end{array}\n",
        "\\right.$$\n",
        "\n",
        "\n",
        "\n",
        "El sistema se puede expresar de forma matricial como $AX=B$, donde $A$ es la matriz de coeficientes, $X$ es la matriz de variables y $B$ una matriz columna de constantes.\n",
        "\n",
        "Si el determinante de la matriz de coeficientes $A$, notado como $\\Delta$ es diferente de cero, entonces el sistema tiene una única solución. Esta solución está dada por:\n",
        "\n",
        "$$x_1 = \\dfrac{\\Delta_1}{\\Delta}, x_2 = \\dfrac{\\Delta_2}{\\Delta}, \\cdots, x_{n-1} = \\dfrac{\\Delta_{n-1}}{\\Delta},x_{n} = \\dfrac{\\Delta_{n}}{\\Delta}  $$\n",
        "\n",
        "donde  $\\Delta_{i}$ el numerador de $x_{i}$ , es el determinante de la matriz obtenida al\n",
        "reemplazar la **k-ésima** columna de $A$ por la matriz columna $B$."
      ]
    },
    {
      "cell_type": "markdown",
      "metadata": {
        "id": "3gN7grGSlKOy"
      },
      "source": [
        "## **Ejemplo: resolución de sistemas de ecuaciones usando regla de cramer** \n",
        "Resuelva el  siguiente sistema utilizando la matriz inversa\n",
        "\n",
        "$$\\left\\{\n",
        "\\begin{array}{rcl}\n",
        "     2x+ 4y+6z  & = & 18\n",
        "  \\\\ 4x+ 5y+6z & = & 24\n",
        "  \\\\ 3x+y-2z & = & 4\n",
        "\\end{array}\n",
        "\\right.$$\n",
        "\n",
        "que se puede reescribir  como $AX = B$  donde :\n",
        "\n",
        "$$A=\\begin{bmatrix}\n",
        "2  & 4 & 6\\\\\n",
        "4  & 5 & 6\\\\\n",
        "3  & 1 & -2\\\\\n",
        "\\end{bmatrix}\n",
        "\\hspace{1cm}\n",
        "B=\\begin{bmatrix}\n",
        "18  \\\\\n",
        "24  \\\\\n",
        "4 \\\\\n",
        "\\end{bmatrix}\n",
        "\\hspace{1cm}\n",
        "X=\\begin{bmatrix}\n",
        "x  \\\\\n",
        "y  \\\\\n",
        "z \\\\\n",
        "\\end{bmatrix}$$"
      ]
    },
    {
      "cell_type": "code",
      "metadata": {
        "colab": {
          "base_uri": "https://localhost:8080/",
          "height": 37
        },
        "id": "l7BsMxajWje5",
        "outputId": "a66cdde6-9822-4195-e8dd-88482ee3d761"
      },
      "source": [
        "A = Matrix([[2,4,6],[4,5,6],[3,1,-2]])\n",
        "B = Matrix(3,1,[18,24,4])\n",
        "\n",
        "# construimos una función para substituir una columna por otra en una matriz \n",
        "def subs_col(M,C,p):\n",
        "    ''''Función que remplaza la columna de una matriz por otra\n",
        "    en una posición dada'''\n",
        "    mat = M[:,:]\n",
        "    mat.col_del(p)\n",
        "    mat = mat.col_insert(p,B)\n",
        "    return mat\n",
        "\n",
        "delta = det(A)\n",
        "delta_1 = det(subs_col(A,C,0))\n",
        "delta_2 = det(subs_col(A,C,1))\n",
        "delta_3 = det(subs_col(A,C,2))\n",
        "\n",
        "x = delta_1/delta\n",
        "y = delta_2/delta\n",
        "z = delta_3/delta\n",
        "\n",
        "x,y,z\n"
      ],
      "execution_count": 18,
      "outputs": [
        {
          "output_type": "execute_result",
          "data": {
            "image/png": "[encoded data removed]",
            "text/latex": "$\\displaystyle \\left( 4, \\  -2, \\  3\\right)$",
            "text/plain": [
              "(4, -2, 3)"
            ]
          },
          "metadata": {
            "tags": []
          },
          "execution_count": 18
        }
      ]
    }
  ]
}