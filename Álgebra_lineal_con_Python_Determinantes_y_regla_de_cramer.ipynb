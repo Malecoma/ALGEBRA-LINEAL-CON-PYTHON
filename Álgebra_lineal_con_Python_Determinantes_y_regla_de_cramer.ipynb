{
  "nbformat": 4,
  "nbformat_minor": 0,
  "metadata": {
    "colab": {
      "name": "Álgebra lineal con Python- Determinantes y regla de cramer.ipynb",
      "provenance": [],
      "collapsed_sections": [],
      "include_colab_link": true
    },
    "kernelspec": {
      "name": "python3",
      "display_name": "Python 3"
    }
  },
  "cells": [
    {
      "cell_type": "markdown",
      "metadata": {
        "id": "view-in-github",
        "colab_type": "text"
      },
      "source": [
        "<a href=\"https://colab.research.google.com/github/josorio398/ALGEBRA-LINEAL-CON-PYTHON/blob/master/%C3%81lgebra_lineal_con_Python_Determinantes_y_regla_de_cramer.ipynb\" target=\"_parent\"><img src=\"https://colab.research.google.com/assets/colab-badge.svg\" alt=\"Open In Colab\"/></a>"
      ]
    },
    {
      "cell_type": "markdown",
      "metadata": {
        "id": "RVxHpsbcExUD"
      },
      "source": [
        "<p><img alt=\"logo.fua\" height=\"100px\" src=\"https://www.uamerica.edu.co/wp-content/images/escudo.png\" align=\"left\" hspace=\"10px\" vspace=\"0px\"></p>\n",
        "\n",
        "<p><img alt=\"logo.fua\" height=\"26px\" src=\"https://mirrors.creativecommons.org/presskit/buttons/88x31/svg/by-nd.svg\" align=\"right\" hspace=\"0px\" vspace=\"11px\"></p>\n",
        "\n",
        "\n",
        "# <center> <font size=\"6\">**ÁLGEBRA LINEAL CON PYTHON** <center>*Jhonny Osorio Gallego &nbsp; &nbsp; &nbsp;<p>*</font> "
      ]
    },
    {
      "cell_type": "markdown",
      "metadata": {
        "id": "pELON3yz_46g"
      },
      "source": [
        "#**DETERMINANTES Y REGLA DE CRAMER**\n",
        "\n"
      ]
    },
    {
      "cell_type": "markdown",
      "metadata": {
        "id": "U515Q-sM2m9k"
      },
      "source": [
        "##**LIBRERÍA SIMBÓLICA SYMPY**\n",
        "**SymPy** es una biblioteca de Python para matemáticas simbólicas. Su objetivo es convertirse en un sistema de álgebra computacional (CAS) con todas las funciones, manteniendo el código lo más simple posible para que sea comprensible y fácilmente extensible. SymPy está escrito completamente en Python.[sympy.org](https://www.sympy.org/en/index.html)"
      ]
    },
    {
      "cell_type": "code",
      "metadata": {
        "id": "4wHJ9dZ3405h"
      },
      "source": [
        "from sympy import *\n",
        "init_printing() \n",
        "x,y,z,w,a,b = symbols(\"x y z w a b \")\n",
        "A,B,C = symbols(\"A B C \")"
      ],
      "execution_count": null,
      "outputs": []
    },
    {
      "cell_type": "markdown",
      "metadata": {
        "id": "7W2a1nKcMwME"
      },
      "source": [
        "#**DEFINICIÓN DE UNA MATRIZ EN SYMPY**\n",
        "\n",
        "Define la siguente matriz en el módulo **SymPy**:\n",
        "\n",
        "$$A=\\begin{bmatrix}\n",
        "5 & 4 & 6 & 7 \\\\\n",
        "3 & 5 & 8 & 9 \\\\\n",
        "1 & 5 & 1 & 3 \\\\\n",
        "\\end{bmatrix}$$"
      ]
    },
    {
      "cell_type": "markdown",
      "metadata": {
        "id": "DJ9HtXdzOPAT"
      },
      "source": [
        "### **Forma 1:** "
      ]
    },
    {
      "cell_type": "code",
      "metadata": {
        "colab": {
          "base_uri": "https://localhost:8080/",
          "height": 78
        },
        "id": "FEniaiZiOON8",
        "outputId": "c1f395ee-8976-4227-d3d2-7891c24c96fd"
      },
      "source": [
        "A = Matrix([[5,4,6,7],[3,5,8,9],[1,5,1,3]])\n",
        "A"
      ],
      "execution_count": null,
      "outputs": [
        {
          "output_type": "execute_result",
          "data": {
            "text/latex": "$\\displaystyle \\left[\\begin{matrix}5 & 4 & 6 & 7\\\\3 & 5 & 8 & 9\\\\1 & 5 & 1 & 3\\end{matrix}\\right]$",
            "text/plain": [
              "⎡5  4  6  7⎤\n",
              "⎢          ⎥\n",
              "⎢3  5  8  9⎥\n",
              "⎢          ⎥\n",
              "⎣1  5  1  3⎦"
            ]
          },
          "metadata": {
            "tags": []
          },
          "execution_count": 16
        }
      ]
    },
    {
      "cell_type": "markdown",
      "metadata": {
        "id": "HDepGi8sOku4"
      },
      "source": [
        "### **Forma 2:** "
      ]
    },
    {
      "cell_type": "code",
      "metadata": {
        "colab": {
          "base_uri": "https://localhost:8080/",
          "height": 78
        },
        "id": "hDHRrXx1Mvn1",
        "outputId": "bc1fb255-e8e7-4088-a1bd-7976b96fd62c"
      },
      "source": [
        "A = Matrix(3,4, [5,4,6,7,3,5,8,9,1,5,1,3])\n",
        "A"
      ],
      "execution_count": null,
      "outputs": [
        {
          "output_type": "execute_result",
          "data": {
            "text/latex": "$\\displaystyle \\left[\\begin{matrix}5 & 4 & 6 & 7\\\\3 & 5 & 8 & 9\\\\1 & 5 & 1 & 3\\end{matrix}\\right]$",
            "text/plain": [
              "⎡5  4  6  7⎤\n",
              "⎢          ⎥\n",
              "⎢3  5  8  9⎥\n",
              "⎢          ⎥\n",
              "⎣1  5  1  3⎦"
            ]
          },
          "metadata": {
            "tags": []
          },
          "execution_count": 17
        }
      ]
    },
    {
      "cell_type": "markdown",
      "metadata": {
        "id": "c4eZEIOn96k8"
      },
      "source": [
        "#**DETERMINANTES**\n",
        "\n",
        "Si $A$ es una matriz **cuadrada**, entonces la función determinante asocia a $A$ exactamente un número real llamado determinante de $A$. El determinante de $A$ se nota cómo $det(A)$ o $|A|$, podemos pensar en la función\n",
        "determinante como una correspondencia:\n",
        "\n",
        "\\begin{align}\n",
        "\\text{matriz cuadrada} \\hspace{0.5cm} &\\longrightarrow \\hspace{1cm}\\text{numero real}\\\\\n",
        "A \\hspace{2cm} &\\longrightarrow \\hspace{1cm}  det(A)=|A|\n",
        "\\end{align}"
      ]
    },
    {
      "cell_type": "markdown",
      "metadata": {
        "id": "c9eRCNhzG2oh"
      },
      "source": [
        "#**Determinante de una matriz cuadrada de orden 1**\n",
        "\n",
        "\n",
        "Si  $A =  \\begin{bmatrix}a_{11}\\end{bmatrix}$ es una **matriz cuadrada de orden 1** &nbsp; entonces &nbsp; $det(A) = a_{11} $\n",
        "\n"
      ]
    },
    {
      "cell_type": "markdown",
      "metadata": {
        "id": "PRprXS2Rgffg"
      },
      "source": [
        "\n",
        "### **Ejemplo 1: determinate matriz de orden 1**\n",
        "Cálcula el determinante de $A$ siendo:\n",
        "\n",
        "\n",
        "$$A=\\begin{bmatrix}\n",
        "5 \n",
        "\\end{bmatrix}$$\n",
        "\n",
        "###**Forma 1**"
      ]
    },
    {
      "cell_type": "code",
      "metadata": {
        "colab": {
          "base_uri": "https://localhost:8080/",
          "height": 38
        },
        "id": "FOCtqLMbSshR",
        "outputId": "d968ef3b-bf89-4bc6-9247-7aa2fc8ada65"
      },
      "source": [
        "A = Matrix([[a]])\n",
        "det(A)"
      ],
      "execution_count": null,
      "outputs": [
        {
          "output_type": "execute_result",
          "data": {
            "image/png": "[encoded data removed]",
            "text/latex": "$\\displaystyle a$",
            "text/plain": [
              "a"
            ]
          },
          "metadata": {
            "tags": []
          },
          "execution_count": 18
        }
      ]
    },
    {
      "cell_type": "markdown",
      "metadata": {
        "id": "KUW7dMUxTz0l"
      },
      "source": [
        "###**Forma 2**"
      ]
    },
    {
      "cell_type": "code",
      "metadata": {
        "colab": {
          "base_uri": "https://localhost:8080/",
          "height": 36
        },
        "id": "aLa3SHhYTDp3",
        "outputId": "58fd4987-63b3-4234-93a6-135f5e8deee5"
      },
      "source": [
        "A = Matrix([[5]])\n",
        "A.det()"
      ],
      "execution_count": null,
      "outputs": [
        {
          "output_type": "execute_result",
          "data": {
            "image/png": "[encoded data removed]",
            "text/latex": "$\\displaystyle 5$",
            "text/plain": [
              "5"
            ]
          },
          "metadata": {
            "tags": []
          },
          "execution_count": 19
        }
      ]
    },
    {
      "cell_type": "markdown",
      "metadata": {
        "id": "W3wmF4yagzSS"
      },
      "source": [
        "#**Determinante de una matriz cuadrada de orden 2**\n",
        "\n",
        "\n",
        "Si  $A=\\begin{bmatrix}\n",
        "a_{11} & a_{12}  \\\\\n",
        "a_{21} & a_{22} \\\\\n",
        "\\end{bmatrix}$ es una **matriz cuadrada de orden 2** &nbsp; entonces &nbsp; $det(A) = a_{11}a_{22}-a_{12}a_{21} $\n",
        "\n"
      ]
    },
    {
      "cell_type": "markdown",
      "metadata": {
        "id": "lbL6wWKngzST"
      },
      "source": [
        "### **Ejemplo 1: determinate de una  matriz cuadrada de orden 2**\n",
        "cálcula el determinante de $A$ siendo:\n",
        "\n",
        "\n",
        "$$A=\\begin{bmatrix}\n",
        "a & b  \\\\\n",
        "c & d \\\\\n",
        "\\end{bmatrix}$$\n"
      ]
    },
    {
      "cell_type": "code",
      "metadata": {
        "colab": {
          "base_uri": "https://localhost:8080/",
          "height": 38
        },
        "id": "gI4EpekugzSU",
        "outputId": "0a3aee5b-ef83-412e-d1e1-4fd895679c38"
      },
      "source": [
        "a,b,c,d = symbols(\"a b c d \")\n",
        "A = Matrix([[a, b], [c,d]])\n",
        "det(A)"
      ],
      "execution_count": null,
      "outputs": [
        {
          "output_type": "execute_result",
          "data": {
            "image/png": "[encoded data removed]",
            "text/latex": "$\\displaystyle a d - b c$",
            "text/plain": [
              "a⋅d - b⋅c"
            ]
          },
          "metadata": {
            "tags": []
          },
          "execution_count": 22
        }
      ]
    },
    {
      "cell_type": "markdown",
      "metadata": {
        "id": "1UUNiPFVgzSW"
      },
      "source": [
        "### **Ejemplo 2:**\n",
        "cálcula el determinante de $A$ siendo:\n",
        "$$A=\\begin{bmatrix}\n",
        "-5 & 7  \\\\\n",
        "-2 & 6 \\\\\n",
        "\\end{bmatrix}$$\n"
      ]
    },
    {
      "cell_type": "code",
      "metadata": {
        "colab": {
          "base_uri": "https://localhost:8080/",
          "height": 36
        },
        "id": "roFkQRFogzSW",
        "outputId": "cd459592-e669-4271-f444-28120accda80"
      },
      "source": [
        "A = Matrix([[-5, 7], [-2,6]])\n",
        "A.det()"
      ],
      "execution_count": null,
      "outputs": [
        {
          "output_type": "execute_result",
          "data": {
            "image/png": "[encoded data removed]",
            "text/latex": "$\\displaystyle -16$",
            "text/plain": [
              "-16"
            ]
          },
          "metadata": {
            "tags": []
          },
          "execution_count": 23
        }
      ]
    },
    {
      "cell_type": "markdown",
      "metadata": {
        "id": "aBkilJO8lhxN"
      },
      "source": [
        "#**Determinante de una matriz cuadrada de orden 3**\n",
        "\n",
        "## **Regla de sarrus**\n",
        "La regla de Sarrus es un método mnemotécnico para calcular el determinante de una **matriz cuadrada de orden 3**. Su nombre se debe al matemático francés Pierre Frédéric Sarrus.\n",
        "\n",
        "\n",
        "Si  $A=\\begin{bmatrix}\n",
        "a_{11} & a_{12} & a_{12}  \\\\\n",
        "a_{21} & a_{22} & a_{12} \\\\\n",
        "a_{21} & a_{22} & a_{12}\\\\\n",
        "\\end{bmatrix}$ es una **matriz cuadrada de orden 3** podemos afirmar que:\n",
        "\n",
        "&nbsp; $$det(A) = (a_{11}a_{22}a_{33}+a_{12}a_{23}a_{31}+a_{13}a_{21}a_{32})- (a_{13}a_{22}a_{31}+a_{11}a_{23}a_{32}+a_{12}a_{21}a_{33}) $$\n",
        "\n",
        "&nbsp;\n",
        "\n",
        "\n",
        "<center><h5><strong>Construcci&oacute;n&nbsp;nemotecnica&nbsp;para&nbsp;calcular&nbsp;el&nbsp;determinante</strong></center>\n",
        "\n",
        "\n",
        "<center><img src=\"https://github.com/josorio398/ALGEBRA-LINEAL-CON-PYTHON/blob/b421a8f2eec8a92bb1811cb9abdcf7b5048dd600/Sarrus_rule.png?raw=False\"  height=\"200\" />\n"
      ]
    },
    {
      "cell_type": "markdown",
      "metadata": {
        "id": "m2ny_bht7NhX"
      },
      "source": [
        "### **Ejemplo 1: determinate de una matriz cuadrada de orden 3**\n",
        "Cálcula el determinante de $A$ siendo:\n",
        "\n",
        "\n",
        "$$A=\\begin{bmatrix}\n",
        "a_{11} & a_{12} & a_{12}  \\\\\n",
        "a_{21} & a_{22} & a_{12} \\\\\n",
        "a_{21} & a_{22} & a_{12}\\\\\n",
        "\\end{bmatrix}$$\n"
      ]
    },
    {
      "cell_type": "code",
      "metadata": {
        "colab": {
          "base_uri": "https://localhost:8080/",
          "height": 38
        },
        "id": "aLm8ysSP5-xa",
        "outputId": "c8339f84-10d3-4238-d9e4-7973ff6c78e8"
      },
      "source": [
        "a11, a12, a13, a21, a22, a23, a31, a32, a33, = symbols(\"a11 a12 a13 a21 a22 a23 a31 a32 a33\")\n",
        "A = Matrix([[a11, a12, a13], [a21,a22,a23],[a31, a32, a33]])\n",
        "det(A)"
      ],
      "execution_count": null,
      "outputs": [
        {
          "output_type": "execute_result",
          "data": {
            "image/png": "[encoded data removed]",
            "text/latex": "$\\displaystyle a_{11} a_{22} a_{33} - a_{11} a_{23} a_{32} - a_{12} a_{21} a_{33} + a_{12} a_{23} a_{31} + a_{13} a_{21} a_{32} - a_{13} a_{22} a_{31}$",
            "text/plain": [
              "a₁₁⋅a₂₂⋅a₃₃ - a₁₁⋅a₂₃⋅a₃₂ - a₁₂⋅a₂₁⋅a₃₃ + a₁₂⋅a₂₃⋅a₃₁ + a₁₃⋅a₂₁⋅a₃₂ - a₁₃⋅a₂₂⋅\n",
              "a₃₁"
            ]
          },
          "metadata": {
            "tags": []
          },
          "execution_count": 29
        }
      ]
    },
    {
      "cell_type": "markdown",
      "metadata": {
        "id": "Nx7S3xuT7r_V"
      },
      "source": [
        "### **Ejemplo 2:**\n",
        "cálcula el determinante de $A$ siendo:\n",
        "\n",
        "$$A=\\begin{bmatrix}\n",
        "5 & -3 & 6  \\\\\n",
        "5 & 9 & 12 \\\\\n",
        "9 & 3 & 5\\\\\n",
        "\\end{bmatrix}$$\n"
      ]
    },
    {
      "cell_type": "code",
      "metadata": {
        "colab": {
          "base_uri": "https://localhost:8080/",
          "height": 36
        },
        "id": "kZLPSUTs7r_X",
        "outputId": "cbe2c067-c3d1-481d-86e4-f1794b6413d2"
      },
      "source": [
        "A = Matrix([[-5,-3, 6], [5,9,12],[9,3,5]])\n",
        "A.det()"
      ],
      "execution_count": null,
      "outputs": [
        {
          "output_type": "execute_result",
          "data": {
            "image/png": "[encoded data removed]",
            "text/latex": "$\\displaystyle -690$",
            "text/plain": [
              "-690"
            ]
          },
          "metadata": {
            "tags": []
          },
          "execution_count": 30
        }
      ]
    },
    {
      "cell_type": "markdown",
      "metadata": {
        "id": "F7N0Pu3y9GgZ"
      },
      "source": [
        "#**Determinante de una matriz cuadrada de orden $n$**\n",
        "\n",
        "Para encontrar el determinante de cualquier matriz cuadrada $A$ de orden $n$ $(n>2)$, seleccione cualquier renglón (o columna) de A y multiplique cada entrada en el renglón (columna) por su cofactor. La suma de estos productos será el determinante de $A$, llamado determinante de orden $n$."
      ]
    },
    {
      "cell_type": "code",
      "metadata": {
        "colab": {
          "base_uri": "https://localhost:8080/",
          "height": 78
        },
        "id": "w-rrh7vMCSA5",
        "outputId": "1aae5e33-3c73-4e11-8c2d-a1405408c3a1"
      },
      "source": [
        "M = Matrix([[1, 2, 3], [4, 5, 6], [7, 8, 9]])\n",
        "M "
      ],
      "execution_count": null,
      "outputs": [
        {
          "output_type": "execute_result",
          "data": {
            "text/latex": "$\\displaystyle \\left[\\begin{matrix}1 & 2 & 3\\\\4 & 5 & 6\\\\7 & 8 & 9\\end{matrix}\\right]$",
            "text/plain": [
              "⎡1  2  3⎤\n",
              "⎢       ⎥\n",
              "⎢4  5  6⎥\n",
              "⎢       ⎥\n",
              "⎣7  8  9⎦"
            ]
          },
          "metadata": {
            "tags": []
          },
          "execution_count": 36
        }
      ]
    },
    {
      "cell_type": "code",
      "metadata": {
        "colab": {
          "base_uri": "https://localhost:8080/",
          "height": 36
        },
        "id": "gNLN6TEXCWsa",
        "outputId": "4d82b25c-0e32-43ab-9bba-6b82ffa36d4c"
      },
      "source": [
        "(-1)**(0+0)*M[0,0]*M.minor(0, 0)+(-1)**(0+1)*M[0,1]*M.minor(0, 1)+(-1)**(0+2)*M[0,2]*M.minor(0, 2)"
      ],
      "execution_count": null,
      "outputs": [
        {
          "output_type": "execute_result",
          "data": {
            "image/png": "[encoded data removed]",
            "text/latex": "$\\displaystyle 0$",
            "text/plain": [
              "0"
            ]
          },
          "metadata": {
            "tags": []
          },
          "execution_count": 42
        }
      ]
    },
    {
      "cell_type": "code",
      "metadata": {
        "colab": {
          "base_uri": "https://localhost:8080/",
          "height": 36
        },
        "id": "U4Z7fGJrDH3v",
        "outputId": "5b4803f2-cc93-4451-8b17-f8ec6ef7b299"
      },
      "source": [
        "M.det()"
      ],
      "execution_count": null,
      "outputs": [
        {
          "output_type": "execute_result",
          "data": {
            "image/png": "[encoded data removed]",
            "text/latex": "$\\displaystyle 0$",
            "text/plain": [
              "0"
            ]
          },
          "metadata": {
            "tags": []
          },
          "execution_count": 40
        }
      ]
    },
    {
      "cell_type": "markdown",
      "metadata": {
        "id": "1BmV26M0CQcW"
      },
      "source": [
        ""
      ]
    }
  ]
}