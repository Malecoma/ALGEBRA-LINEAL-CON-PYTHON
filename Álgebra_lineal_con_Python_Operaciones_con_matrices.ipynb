{
  "nbformat": 4,
  "nbformat_minor": 0,
  "metadata": {
    "colab": {
      "name": "Álgebra lineal con Python- Operaciones con matrices.ipynb",
      "provenance": [],
      "collapsed_sections": [],
      "include_colab_link": true
    },
    "kernelspec": {
      "name": "python3",
      "display_name": "Python 3"
    }
  },
  "cells": [
    {
      "cell_type": "markdown",
      "metadata": {
        "id": "view-in-github",
        "colab_type": "text"
      },
      "source": [
        "<a href=\"https://colab.research.google.com/github/josorio398/ALGEBRA-LINEAL-CON-PYTHON/blob/master/%C3%81lgebra_lineal_con_Python_Operaciones_con_matrices.ipynb\" target=\"_parent\"><img src=\"https://colab.research.google.com/assets/colab-badge.svg\" alt=\"Open In Colab\"/></a>"
      ]
    },
    {
      "cell_type": "markdown",
      "metadata": {
        "id": "RVxHpsbcExUD"
      },
      "source": [
        "<p><img alt=\"logo.fua\" height=\"100px\" src=\"https://www.uamerica.edu.co/wp-content/images/escudo.png\" align=\"left\" hspace=\"10px\" vspace=\"0px\"></p>\n",
        "\n",
        "<p><img alt=\"logo.fua\" height=\"26px\" src=\"https://mirrors.creativecommons.org/presskit/buttons/88x31/svg/by-nd.svg\" align=\"right\" hspace=\"0px\" vspace=\"11px\"></p>\n",
        "\n",
        "\n",
        "# <center> <font size=\"6\">**ÁLGEBRA LINEAL CON PYTHON** <center>*Jhonny Osorio Gallego &nbsp; &nbsp; &nbsp;<p>*</font> "
      ]
    },
    {
      "cell_type": "markdown",
      "metadata": {
        "id": "pELON3yz_46g"
      },
      "source": [
        "#**ÁLGEBRA MATRICIAL**\n",
        "\n",
        "\n",
        "\n"
      ]
    },
    {
      "cell_type": "markdown",
      "metadata": {
        "id": "U515Q-sM2m9k"
      },
      "source": [
        "##**LIBRERÍA SIMBÓLICA SYMPY**\n",
        "**SymPy** es una biblioteca de Python para matemáticas simbólicas. Su objetivo es convertirse en un sistema de álgebra computacional (CAS) con todas las funciones, manteniendo el código lo más simple posible para que sea comprensible y fácilmente extensible. SymPy está escrito completamente en Python.[sympy.org](https://www.sympy.org/en/index.html)"
      ]
    },
    {
      "cell_type": "code",
      "metadata": {
        "id": "4wHJ9dZ3405h"
      },
      "source": [
        "from sympy import *\n",
        "init_printing() \n",
        "x,y,z,w,a,b = symbols(\"x y z w a b \")\n",
        "A,B,C = symbols(\"A B C \")"
      ],
      "execution_count": 5,
      "outputs": []
    },
    {
      "cell_type": "markdown",
      "metadata": {
        "id": "7W2a1nKcMwME"
      },
      "source": [
        "#**DEFINICIÓN DE MATRICES EN PYTHON**\n",
        "\n",
        "Define la siguente matriz en el módulo **SymPy**:\n",
        "\n",
        "$$A=\\begin{bmatrix}\n",
        "5 & 4 & 6 & 7 \\\\\n",
        "3 & 5 & 8 & 9 \\\\\n",
        "1 & 5 & 1 & 3 \\\\\n",
        "\\end{bmatrix}$$"
      ]
    },
    {
      "cell_type": "markdown",
      "metadata": {
        "id": "DJ9HtXdzOPAT"
      },
      "source": [
        "### **Forma 1:** "
      ]
    },
    {
      "cell_type": "code",
      "metadata": {
        "colab": {
          "base_uri": "https://localhost:8080/",
          "height": 78
        },
        "id": "FEniaiZiOON8",
        "outputId": "6e94418a-4e9e-48a0-8e95-42c4caa83356"
      },
      "source": [
        "A = Matrix([[5,4,6,7],[3,5,8,9],[1,5,1,3]])\n",
        "A"
      ],
      "execution_count": null,
      "outputs": [
        {
          "output_type": "execute_result",
          "data": {
            "text/latex": "$\\displaystyle \\left[\\begin{matrix}5 & 4 & 6 & 7\\\\3 & 5 & 8 & 9\\\\1 & 5 & 1 & 3\\end{matrix}\\right]$",
            "text/plain": [
              "⎡5  4  6  7⎤\n",
              "⎢          ⎥\n",
              "⎢3  5  8  9⎥\n",
              "⎢          ⎥\n",
              "⎣1  5  1  3⎦"
            ]
          },
          "metadata": {
            "tags": []
          },
          "execution_count": 2
        }
      ]
    },
    {
      "cell_type": "markdown",
      "metadata": {
        "id": "HDepGi8sOku4"
      },
      "source": [
        "### **Forma 2:** "
      ]
    },
    {
      "cell_type": "code",
      "metadata": {
        "colab": {
          "base_uri": "https://localhost:8080/",
          "height": 78
        },
        "id": "hDHRrXx1Mvn1",
        "outputId": "74ab41d6-7857-4375-c160-1c67ebfd9fed"
      },
      "source": [
        "A = Matrix(3,4, [5,4,6,7,3,5,8,9,1,5,1,3])\n",
        "A"
      ],
      "execution_count": null,
      "outputs": [
        {
          "output_type": "execute_result",
          "data": {
            "text/latex": "$\\displaystyle \\left[\\begin{matrix}5 & 4 & 6 & 7\\\\3 & 5 & 8 & 9\\\\1 & 5 & 1 & 3\\end{matrix}\\right]$",
            "text/plain": [
              "⎡5  4  6  7⎤\n",
              "⎢          ⎥\n",
              "⎢3  5  8  9⎥\n",
              "⎢          ⎥\n",
              "⎣1  5  1  3⎦"
            ]
          },
          "metadata": {
            "tags": []
          },
          "execution_count": 20
        }
      ]
    },
    {
      "cell_type": "markdown",
      "metadata": {
        "id": "jHlzvvH5PEKE"
      },
      "source": [
        "# **TIPOS DE MATRICES**\n",
        "\n",
        "##**Matriz rectangular:** es una matriz que tiene distinto número de filas que de columnas.\n",
        "\n",
        "### **Forma 1:** "
      ]
    },
    {
      "cell_type": "code",
      "metadata": {
        "colab": {
          "base_uri": "https://localhost:8080/",
          "height": 99
        },
        "id": "5flhY39fPphg",
        "outputId": "aff8b65f-f1b6-4747-8ed4-b7be82b0fe85"
      },
      "source": [
        "A = Matrix([[3,4,5],[5,6,7],[3,4,5], [2,3,4]])\n",
        "A"
      ],
      "execution_count": null,
      "outputs": [
        {
          "output_type": "execute_result",
          "data": {
            "text/latex": "$\\displaystyle \\left[\\begin{matrix}3 & 4 & 5\\\\5 & 6 & 7\\\\3 & 4 & 5\\\\2 & 3 & 4\\end{matrix}\\right]$",
            "text/plain": [
              "⎡3  4  5⎤\n",
              "⎢       ⎥\n",
              "⎢5  6  7⎥\n",
              "⎢       ⎥\n",
              "⎢3  4  5⎥\n",
              "⎢       ⎥\n",
              "⎣2  3  4⎦"
            ]
          },
          "metadata": {
            "tags": []
          },
          "execution_count": 3
        }
      ]
    },
    {
      "cell_type": "markdown",
      "metadata": {
        "id": "O_Bgdtu1QFUA"
      },
      "source": [
        "### **Forma 2:**  *rectangular aleatoria*\n",
        "\n",
        "\n"
      ]
    },
    {
      "cell_type": "code",
      "metadata": {
        "colab": {
          "base_uri": "https://localhost:8080/",
          "height": 78
        },
        "id": "oVYFvhogiC2e",
        "outputId": "8da1e464-c32b-42e2-9490-04bf5e729ec9"
      },
      "source": [
        "A = randMatrix(3,6,min=-5, max=5)\n",
        "A"
      ],
      "execution_count": null,
      "outputs": [
        {
          "output_type": "execute_result",
          "data": {
            "text/latex": "$\\displaystyle \\left[\\begin{matrix}2 & 5 & 2 & -2 & 4 & 3\\\\-1 & 5 & -2 & -5 & 3 & 0\\\\4 & -2 & 1 & 1 & -1 & 5\\end{matrix}\\right]$",
            "text/plain": [
              "⎡2   5   2   -2  4   3⎤\n",
              "⎢                     ⎥\n",
              "⎢-1  5   -2  -5  3   0⎥\n",
              "⎢                     ⎥\n",
              "⎣4   -2  1   1   -1  5⎦"
            ]
          },
          "metadata": {
            "tags": []
          },
          "execution_count": 7
        }
      ]
    },
    {
      "cell_type": "markdown",
      "metadata": {
        "id": "hEWlUHz1QL1R"
      },
      "source": [
        "\n",
        "## **Matriz cuadrada:** es una matriz que tiene igual número de filas que de columnas.\n",
        "\n",
        "### **Forma 1:** "
      ]
    },
    {
      "cell_type": "code",
      "metadata": {
        "colab": {
          "base_uri": "https://localhost:8080/",
          "height": 78
        },
        "id": "ell15niJQjP5",
        "outputId": "4c29029a-5520-47de-cca9-287f0779d44c"
      },
      "source": [
        "A = Matrix([[3,4,4],[5,6,7],[3,4,5]])\n",
        "A"
      ],
      "execution_count": null,
      "outputs": [
        {
          "output_type": "execute_result",
          "data": {
            "text/latex": "$\\displaystyle \\left[\\begin{matrix}3 & 4 & 4\\\\5 & 6 & 7\\\\3 & 4 & 5\\end{matrix}\\right]$",
            "text/plain": [
              "⎡3  4  4⎤\n",
              "⎢       ⎥\n",
              "⎢5  6  7⎥\n",
              "⎢       ⎥\n",
              "⎣3  4  5⎦"
            ]
          },
          "metadata": {
            "tags": []
          },
          "execution_count": 8
        }
      ]
    },
    {
      "cell_type": "markdown",
      "metadata": {
        "id": "H4gj24YQR6vQ"
      },
      "source": [
        "### **Forma 2:**  *cuadrada aleatoria*"
      ]
    },
    {
      "cell_type": "code",
      "metadata": {
        "colab": {
          "base_uri": "https://localhost:8080/",
          "height": 99
        },
        "id": "oy2ZHLaxi9Vf",
        "outputId": "567a8a29-c662-449b-ae17-8eb995896931"
      },
      "source": [
        "A = randMatrix(4, min=-10, max=10)\n",
        "A"
      ],
      "execution_count": null,
      "outputs": [
        {
          "output_type": "execute_result",
          "data": {
            "text/latex": "$\\displaystyle \\left[\\begin{matrix}2 & -5 & 3 & -5\\\\8 & -8 & 2 & 5\\\\6 & 10 & 1 & -7\\\\5 & 9 & 8 & 1\\end{matrix}\\right]$",
            "text/plain": [
              "⎡2  -5  3  -5⎤\n",
              "⎢            ⎥\n",
              "⎢8  -8  2  5 ⎥\n",
              "⎢            ⎥\n",
              "⎢6  10  1  -7⎥\n",
              "⎢            ⎥\n",
              "⎣5  9   8  1 ⎦"
            ]
          },
          "metadata": {
            "tags": []
          },
          "execution_count": 10
        }
      ]
    },
    {
      "cell_type": "markdown",
      "metadata": {
        "id": "ZObd6LcWQL_3"
      },
      "source": [
        "## **Matriz nula:** es una matriz con todos sus entradas iguales a cero."
      ]
    },
    {
      "cell_type": "code",
      "metadata": {
        "colab": {
          "base_uri": "https://localhost:8080/",
          "height": 78
        },
        "id": "jEMD1iPtU05y",
        "outputId": "3f159a34-f602-434b-85e6-ae7640eacd48"
      },
      "source": [
        "A = zeros(3,4)\n",
        "A"
      ],
      "execution_count": null,
      "outputs": [
        {
          "output_type": "execute_result",
          "data": {
            "text/latex": "$\\displaystyle \\left[\\begin{matrix}0 & 0 & 0 & 0\\\\0 & 0 & 0 & 0\\\\0 & 0 & 0 & 0\\end{matrix}\\right]$",
            "text/plain": [
              "⎡0  0  0  0⎤\n",
              "⎢          ⎥\n",
              "⎢0  0  0  0⎥\n",
              "⎢          ⎥\n",
              "⎣0  0  0  0⎦"
            ]
          },
          "metadata": {
            "tags": []
          },
          "execution_count": 11
        }
      ]
    },
    {
      "cell_type": "code",
      "metadata": {
        "colab": {
          "base_uri": "https://localhost:8080/",
          "height": 99
        },
        "id": "pWFkZ6QDT-xJ",
        "outputId": "e2cc15f1-7823-4273-8f32-e0854b73f5ec"
      },
      "source": [
        "A = zeros(4)\n",
        "A"
      ],
      "execution_count": null,
      "outputs": [
        {
          "output_type": "execute_result",
          "data": {
            "text/latex": "$\\displaystyle \\left[\\begin{matrix}0 & 0 & 0 & 0\\\\0 & 0 & 0 & 0\\\\0 & 0 & 0 & 0\\\\0 & 0 & 0 & 0\\end{matrix}\\right]$",
            "text/plain": [
              "⎡0  0  0  0⎤\n",
              "⎢          ⎥\n",
              "⎢0  0  0  0⎥\n",
              "⎢          ⎥\n",
              "⎢0  0  0  0⎥\n",
              "⎢          ⎥\n",
              "⎣0  0  0  0⎦"
            ]
          },
          "metadata": {
            "tags": []
          },
          "execution_count": 13
        }
      ]
    },
    {
      "cell_type": "markdown",
      "metadata": {
        "id": "pL77o-QrVAgO"
      },
      "source": [
        "## **Matriz identidad:** es una matriz que cumple la propiedad de ser el elemento neutro del producto de matrices, es cuadrada , su diagonal principal tiene entrada uno y las demas entradas cero."
      ]
    },
    {
      "cell_type": "code",
      "metadata": {
        "colab": {
          "base_uri": "https://localhost:8080/",
          "height": 99
        },
        "id": "ZUKA6df8VpQ1",
        "outputId": "f0dd134a-068c-4ce9-e303-f62a3f3b9c49"
      },
      "source": [
        "A= eye(4)\n",
        "A"
      ],
      "execution_count": null,
      "outputs": [
        {
          "output_type": "execute_result",
          "data": {
            "text/latex": "$\\displaystyle \\left[\\begin{matrix}1 & 0 & 0 & 0\\\\0 & 1 & 0 & 0\\\\0 & 0 & 1 & 0\\\\0 & 0 & 0 & 1\\end{matrix}\\right]$",
            "text/plain": [
              "⎡1  0  0  0⎤\n",
              "⎢          ⎥\n",
              "⎢0  1  0  0⎥\n",
              "⎢          ⎥\n",
              "⎢0  0  1  0⎥\n",
              "⎢          ⎥\n",
              "⎣0  0  0  1⎦"
            ]
          },
          "metadata": {
            "tags": []
          },
          "execution_count": 15
        }
      ]
    },
    {
      "cell_type": "markdown",
      "metadata": {
        "id": "SrcTMCw0WDQv"
      },
      "source": [
        "##**Matriz de unos:** es una matriz cuyas entradas son todas unos.\n",
        "\n",
        "\n",
        "\n"
      ]
    },
    {
      "cell_type": "code",
      "metadata": {
        "colab": {
          "base_uri": "https://localhost:8080/",
          "height": 78
        },
        "id": "2u6A0apCYg6D",
        "outputId": "42e3044b-975b-4531-9162-9cd0d08629c3"
      },
      "source": [
        "A = ones(3,4)\n",
        "A"
      ],
      "execution_count": null,
      "outputs": [
        {
          "output_type": "execute_result",
          "data": {
            "text/latex": "$\\displaystyle \\left[\\begin{matrix}1 & 1 & 1 & 1\\\\1 & 1 & 1 & 1\\\\1 & 1 & 1 & 1\\end{matrix}\\right]$",
            "text/plain": [
              "⎡1  1  1  1⎤\n",
              "⎢          ⎥\n",
              "⎢1  1  1  1⎥\n",
              "⎢          ⎥\n",
              "⎣1  1  1  1⎦"
            ]
          },
          "metadata": {
            "tags": []
          },
          "execution_count": 16
        }
      ]
    },
    {
      "cell_type": "code",
      "metadata": {
        "colab": {
          "base_uri": "https://localhost:8080/",
          "height": 78
        },
        "id": "zVO4Lfnkkm_P",
        "outputId": "b1547bdb-714d-44ec-aef6-5f2565a1ddce"
      },
      "source": [
        "A  = ones(3)\n",
        "A"
      ],
      "execution_count": null,
      "outputs": [
        {
          "output_type": "execute_result",
          "data": {
            "text/latex": "$\\displaystyle \\left[\\begin{matrix}1 & 1 & 1\\\\1 & 1 & 1\\\\1 & 1 & 1\\end{matrix}\\right]$",
            "text/plain": [
              "⎡1  1  1⎤\n",
              "⎢       ⎥\n",
              "⎢1  1  1⎥\n",
              "⎢       ⎥\n",
              "⎣1  1  1⎦"
            ]
          },
          "metadata": {
            "tags": []
          },
          "execution_count": 13
        }
      ]
    },
    {
      "cell_type": "markdown",
      "metadata": {
        "id": "jDuSix7DQiFw"
      },
      "source": [
        "## **Matriz triangular superior:** es una matriz cuadrada cuyas entradas por debajo de la diagonal principal son cero."
      ]
    },
    {
      "cell_type": "code",
      "metadata": {
        "colab": {
          "base_uri": "https://localhost:8080/",
          "height": 78
        },
        "id": "YItCbgJEQe2g",
        "outputId": "8cd8b3ed-b692-4fe8-95cf-39ded6cc7d14"
      },
      "source": [
        "A = Matrix([[3,1,4],[0,6,7],[0,0,5]])\n",
        "A"
      ],
      "execution_count": null,
      "outputs": [
        {
          "output_type": "execute_result",
          "data": {
            "text/latex": "$\\displaystyle \\left[\\begin{matrix}3 & 1 & 4\\\\0 & 6 & 7\\\\0 & 0 & 5\\end{matrix}\\right]$",
            "text/plain": [
              "⎡3  1  4⎤\n",
              "⎢       ⎥\n",
              "⎢0  6  7⎥\n",
              "⎢       ⎥\n",
              "⎣0  0  5⎦"
            ]
          },
          "metadata": {
            "tags": []
          },
          "execution_count": 14
        }
      ]
    },
    {
      "cell_type": "markdown",
      "metadata": {
        "id": "Tz2alzRMTLmF"
      },
      "source": [
        "## **Matriz triangular inferior:** es una matriz cuadrada cuyas entradas por encima de la diagonal principal son cero."
      ]
    },
    {
      "cell_type": "code",
      "metadata": {
        "colab": {
          "base_uri": "https://localhost:8080/",
          "height": 99
        },
        "id": "swzpOMieTX6N",
        "outputId": "e0a75ab2-2c46-4680-bc45-e8fb2d0fd47e"
      },
      "source": [
        "A = Matrix([[3,0,0,0],[5,6,0,0],[1,2,5,0], [7,-4,1,6]])\n",
        "A"
      ],
      "execution_count": null,
      "outputs": [
        {
          "output_type": "execute_result",
          "data": {
            "text/latex": "$\\displaystyle \\left[\\begin{matrix}3 & 0 & 0 & 0\\\\5 & 6 & 0 & 0\\\\1 & 2 & 5 & 0\\\\7 & -4 & 1 & 6\\end{matrix}\\right]$",
            "text/plain": [
              "⎡3  0   0  0⎤\n",
              "⎢           ⎥\n",
              "⎢5  6   0  0⎥\n",
              "⎢           ⎥\n",
              "⎢1  2   5  0⎥\n",
              "⎢           ⎥\n",
              "⎣7  -4  1  6⎦"
            ]
          },
          "metadata": {
            "tags": []
          },
          "execution_count": 15
        }
      ]
    },
    {
      "cell_type": "markdown",
      "metadata": {
        "id": "VXgUbUfjaagO"
      },
      "source": [
        "## **Matriz diagonal:** es una matriz cuadrada cuyas entradas son todas nulas excepto las de la diagonal principal.\n",
        "\n",
        "### **Forma 1:**\n"
      ]
    },
    {
      "cell_type": "code",
      "metadata": {
        "colab": {
          "base_uri": "https://localhost:8080/",
          "height": 99
        },
        "id": "zOvas8_PbdDo",
        "outputId": "c10a9229-77a2-4cd3-a0a1-b792cdcce397"
      },
      "source": [
        "A = Matrix([[3,0,0,0],[0,6,0,0],[0,0,5,0], [0,0,0,4]])\n",
        "A"
      ],
      "execution_count": null,
      "outputs": [
        {
          "output_type": "execute_result",
          "data": {
            "text/latex": "$\\displaystyle \\left[\\begin{matrix}3 & 0 & 0 & 0\\\\0 & 6 & 0 & 0\\\\0 & 0 & 5 & 0\\\\0 & 0 & 0 & 4\\end{matrix}\\right]$",
            "text/plain": [
              "⎡3  0  0  0⎤\n",
              "⎢          ⎥\n",
              "⎢0  6  0  0⎥\n",
              "⎢          ⎥\n",
              "⎢0  0  5  0⎥\n",
              "⎢          ⎥\n",
              "⎣0  0  0  4⎦"
            ]
          },
          "metadata": {
            "tags": []
          },
          "execution_count": 10
        }
      ]
    },
    {
      "cell_type": "markdown",
      "metadata": {
        "id": "hHRLavtkULhg"
      },
      "source": [
        "### **Forma 2:** "
      ]
    },
    {
      "cell_type": "code",
      "metadata": {
        "colab": {
          "base_uri": "https://localhost:8080/",
          "height": 99
        },
        "id": "9VsmokOiUOpX",
        "outputId": "21a41b12-1ae3-4ea2-e8a6-b39e965e444d"
      },
      "source": [
        "A = diag(3,6,5,4)\n",
        "A"
      ],
      "execution_count": null,
      "outputs": [
        {
          "output_type": "execute_result",
          "data": {
            "text/latex": "$\\displaystyle \\left[\\begin{matrix}3 & 0 & 0 & 0\\\\0 & 6 & 0 & 0\\\\0 & 0 & 5 & 0\\\\0 & 0 & 0 & 4\\end{matrix}\\right]$",
            "text/plain": [
              "⎡3  0  0  0⎤\n",
              "⎢          ⎥\n",
              "⎢0  6  0  0⎥\n",
              "⎢          ⎥\n",
              "⎢0  0  5  0⎥\n",
              "⎢          ⎥\n",
              "⎣0  0  0  4⎦"
            ]
          },
          "metadata": {
            "tags": []
          },
          "execution_count": 17
        }
      ]
    },
    {
      "cell_type": "markdown",
      "metadata": {
        "id": "OuBwOeWVWtPN"
      },
      "source": [
        "# **FUNCIONES Y MÉTODOS SOBRE MATRICES**\n",
        "\n"
      ]
    },
    {
      "cell_type": "markdown",
      "metadata": {
        "id": "szI1VZnPXl-G"
      },
      "source": [
        "## **Tamaño de una matriz**\n",
        "\n",
        "Determina el **tamaño** de la matriz $A$  donde:\n",
        "\n",
        "$$A=\\begin{bmatrix}\n",
        "5 & 4 & 6 & 7 \\\\\n",
        "1 & 5 & 8 & 9 \\\\\n",
        "1 & 5 & 1 & 3 \\\\\n",
        "\\end{bmatrix}$$\n",
        "\n"
      ]
    },
    {
      "cell_type": "code",
      "metadata": {
        "colab": {
          "base_uri": "https://localhost:8080/",
          "height": 37
        },
        "id": "dhGuUrczX1H8",
        "outputId": "30e463ee-3d3f-486f-88db-714b695d3a0a"
      },
      "source": [
        "A = Matrix([[5,4,6,7],[1,5,8,9],[1,5,1,3]])\n",
        "A.shape"
      ],
      "execution_count": null,
      "outputs": [
        {
          "output_type": "execute_result",
          "data": {
            "image/png": "[encoded data removed]",
            "text/latex": "$\\displaystyle \\left( 3, \\  4\\right)$",
            "text/plain": [
              "(3, 4)"
            ]
          },
          "metadata": {
            "tags": []
          },
          "execution_count": 15
        }
      ]
    },
    {
      "cell_type": "markdown",
      "metadata": {
        "id": "dpLV94aZX11g"
      },
      "source": [
        "## **Indexación de una entrada de la matriz**\n",
        "Extrae la entrada que se encuentra en la **fila 2** y **columna 4** de la matriz $A$  :\n",
        "\n",
        "$$A=\\begin{bmatrix}\n",
        "5 & 4 & 6 & 7 \\\\\n",
        "1 & 5 & 8 & 9 \\\\\n",
        "1 & 5 & 1 & 3 \\\\\n",
        "\\end{bmatrix}$$\n",
        "\n",
        "### **Forma 1:** "
      ]
    },
    {
      "cell_type": "code",
      "metadata": {
        "colab": {
          "base_uri": "https://localhost:8080/",
          "height": 37
        },
        "id": "45jL-T-7X4dw",
        "outputId": "16edb362-0469-48d9-b2e1-54167c66dc22"
      },
      "source": [
        "A = Matrix([[5,4,6,7],[1,5,8,9],[1,5,1,3]])\n",
        "A[1,3]"
      ],
      "execution_count": null,
      "outputs": [
        {
          "output_type": "execute_result",
          "data": {
            "image/png": "[encoded data removed]",
            "text/latex": "$\\displaystyle 9$",
            "text/plain": [
              "9"
            ]
          },
          "metadata": {
            "tags": []
          },
          "execution_count": 16
        }
      ]
    },
    {
      "cell_type": "markdown",
      "metadata": {
        "id": "m55rzn-L7Aj8"
      },
      "source": [
        "### **Forma 2:** "
      ]
    },
    {
      "cell_type": "code",
      "metadata": {
        "colab": {
          "base_uri": "https://localhost:8080/",
          "height": 37
        },
        "id": "ruGKm5Ut3vep",
        "outputId": "38eafddd-f01c-465b-ec4f-16c83b87684b"
      },
      "source": [
        "A = Matrix([[5,4,6,7],[1,5,8,9],[1,5,1,3]])\n",
        "A[7]"
      ],
      "execution_count": null,
      "outputs": [
        {
          "output_type": "execute_result",
          "data": {
            "image/png": "[encoded data removed]",
            "text/latex": "$\\displaystyle 9$",
            "text/plain": [
              "9"
            ]
          },
          "metadata": {
            "tags": []
          },
          "execution_count": 25
        }
      ]
    },
    {
      "cell_type": "markdown",
      "metadata": {
        "id": "_nvHV7_IVcR4"
      },
      "source": [
        "### **Forma 3:** "
      ]
    },
    {
      "cell_type": "code",
      "metadata": {
        "colab": {
          "base_uri": "https://localhost:8080/",
          "height": 37
        },
        "id": "MWEgg3koVcSX",
        "outputId": "2c2d5365-059b-4417-bdca-288b413d3966"
      },
      "source": [
        "A = Matrix([[5,4,6,7],[1,5,8,9],[1,5,1,3]])\n",
        "A[-5]"
      ],
      "execution_count": null,
      "outputs": [
        {
          "output_type": "execute_result",
          "data": {
            "image/png": "[encoded data removed]",
            "text/latex": "$\\displaystyle 9$",
            "text/plain": [
              "9"
            ]
          },
          "metadata": {
            "tags": []
          },
          "execution_count": 27
        }
      ]
    },
    {
      "cell_type": "markdown",
      "metadata": {
        "id": "nE7H3W8zYGSF"
      },
      "source": [
        "## **Indexación de una columna de la matriz**\n",
        "Extrae la **columna 2** de la matriz $A$  donde:\n",
        "\n",
        "$$A=\\begin{bmatrix}\n",
        "5 & 4 & 6 & 7 \\\\\n",
        "1 & 5 & 8 & 9 \\\\\n",
        "1 & 5 & 1 & 3 \\\\\n",
        "\\end{bmatrix}$$"
      ]
    },
    {
      "cell_type": "code",
      "metadata": {
        "colab": {
          "base_uri": "https://localhost:8080/",
          "height": 78
        },
        "id": "lu8Co_y8YNVk",
        "outputId": "7be37afe-0389-426c-a43a-1000c15dcc12"
      },
      "source": [
        "A = Matrix([[5,4,6,7],[1,5,8,9],[1,5,1,3]])\n",
        "A.col(1)"
      ],
      "execution_count": null,
      "outputs": [
        {
          "output_type": "execute_result",
          "data": {
            "text/latex": "$\\displaystyle \\left[\\begin{matrix}4\\\\5\\\\5\\end{matrix}\\right]$",
            "text/plain": [
              "⎡4⎤\n",
              "⎢ ⎥\n",
              "⎢5⎥\n",
              "⎢ ⎥\n",
              "⎣5⎦"
            ]
          },
          "metadata": {
            "tags": []
          },
          "execution_count": 30
        }
      ]
    },
    {
      "cell_type": "markdown",
      "metadata": {
        "id": "EHk2OZ_gYOJG"
      },
      "source": [
        "## **Indexación de una fila de la matriz**\n",
        "\n",
        "Extrae la **fila 3** de la matriz $A$  donde:\n",
        "\n",
        "$$A=\\begin{bmatrix}\n",
        "5 & 4 & 6 & 7 \\\\\n",
        "1 & 5 & 8 & 9 \\\\\n",
        "1 & 5 & 1 & 3 \\\\\n",
        "\\end{bmatrix}$$"
      ]
    },
    {
      "cell_type": "code",
      "metadata": {
        "colab": {
          "base_uri": "https://localhost:8080/",
          "height": 38
        },
        "id": "C7jbDEl8Yfsb",
        "outputId": "654e67f4-92f7-4891-e58d-a981069475de"
      },
      "source": [
        "A = Matrix([[5,4,6,7],[1,5,8,9],[1,5,1,3]])\n",
        "A.row(2) "
      ],
      "execution_count": null,
      "outputs": [
        {
          "output_type": "execute_result",
          "data": {
            "text/latex": "$\\displaystyle \\left[\\begin{matrix}1 & 5 & 1 & 3\\end{matrix}\\right]$",
            "text/plain": [
              "[1  5  1  3]"
            ]
          },
          "metadata": {
            "tags": []
          },
          "execution_count": 31
        }
      ]
    },
    {
      "cell_type": "markdown",
      "metadata": {
        "id": "x3hrYLqJYhx2"
      },
      "source": [
        "## **Eliminación de una columna de la matriz**\n",
        "Elimina la **columna 1** de la matriz $A$  donde:\n",
        "\n",
        "$$A=\\begin{bmatrix}\n",
        "5 & 4 & 6 & 7 \\\\\n",
        "1 & 5 & 8 & 9 \\\\\n",
        "1 & 5 & 1 & 3 \\\\\n",
        "\\end{bmatrix}$$"
      ]
    },
    {
      "cell_type": "code",
      "metadata": {
        "colab": {
          "base_uri": "https://localhost:8080/",
          "height": 78
        },
        "id": "GROzW2L7Ygu5",
        "outputId": "f289d998-1107-41a7-bc95-3f10518ac4a1"
      },
      "source": [
        "A = Matrix([[5,4,6,7],[1,5,8,9],[1,5,1,3]])\n",
        "A.col_del(0)\n",
        "A"
      ],
      "execution_count": null,
      "outputs": [
        {
          "output_type": "execute_result",
          "data": {
            "text/latex": "$\\displaystyle \\left[\\begin{matrix}4 & 6 & 7\\\\5 & 8 & 9\\\\5 & 1 & 3\\end{matrix}\\right]$",
            "text/plain": [
              "⎡4  6  7⎤\n",
              "⎢       ⎥\n",
              "⎢5  8  9⎥\n",
              "⎢       ⎥\n",
              "⎣5  1  3⎦"
            ]
          },
          "metadata": {
            "tags": []
          },
          "execution_count": 32
        }
      ]
    },
    {
      "cell_type": "markdown",
      "metadata": {
        "id": "bxQzacJMYtve"
      },
      "source": [
        "## **Eliminación de una fila de la matriz**\n",
        "\n",
        "Elimina la **fila 3** de la matriz $A$  donde:\n",
        "\n",
        "$$A=\\begin{bmatrix}\n",
        "5 & 4 & 6 & 7 \\\\\n",
        "1 & 5 & 8 & 9 \\\\\n",
        "1 & 5 & 1 & 3 \\\\\n",
        "\\end{bmatrix}$$"
      ]
    },
    {
      "cell_type": "code",
      "metadata": {
        "colab": {
          "base_uri": "https://localhost:8080/",
          "height": 57
        },
        "id": "hAYCv8VcZyR3",
        "outputId": "4d4d76cf-cac8-4ddd-dd7d-9b34bc7a8cf7"
      },
      "source": [
        "A = Matrix([[5,4,6,7],[1,5,8,9],[1,5,1,3]])\n",
        "A.row_del(2)\n",
        "A"
      ],
      "execution_count": null,
      "outputs": [
        {
          "output_type": "execute_result",
          "data": {
            "text/latex": "$\\displaystyle \\left[\\begin{matrix}5 & 4 & 6 & 7\\\\1 & 5 & 8 & 9\\end{matrix}\\right]$",
            "text/plain": [
              "⎡5  4  6  7⎤\n",
              "⎢          ⎥\n",
              "⎣1  5  8  9⎦"
            ]
          },
          "metadata": {
            "tags": []
          },
          "execution_count": 37
        }
      ]
    },
    {
      "cell_type": "markdown",
      "metadata": {
        "id": "wt6j2YgsZ0FN"
      },
      "source": [
        "## **Inserción de una columna a una matriz**\n",
        "\n",
        "Inserte la matriz columna $C$ como la **columna 2** de la matriz $A$, siendo:\n",
        "\n",
        "$$C=\\begin{bmatrix}\n",
        "1   \\\\\n",
        "2   \\\\\n",
        "3  \\\\\n",
        "\\end{bmatrix}\n",
        "\\hspace{5mm}\n",
        "\\text{y}\n",
        "\\hspace{5mm}\n",
        "A=\\begin{bmatrix}\n",
        "5 & 4 & 6 & 7 \\\\\n",
        "1 & 5 & 8 & 9 \\\\\n",
        "1 & 5 & 1 & 3 \\\\\n",
        "\\end{bmatrix}$$ "
      ]
    },
    {
      "cell_type": "code",
      "metadata": {
        "colab": {
          "base_uri": "https://localhost:8080/",
          "height": 78
        },
        "id": "SmgB7JIpdqrX",
        "outputId": "1f3398a5-02ef-48f3-a5af-315a32819b25"
      },
      "source": [
        "A = Matrix([[5,4,6,7],[1,5,8,9],[1,5,1,3]])\n",
        "C = Matrix(3,1,[1,2,3])\n",
        "D = A.col_insert(1,C)\n",
        "D\n"
      ],
      "execution_count": null,
      "outputs": [
        {
          "output_type": "execute_result",
          "data": {
            "text/latex": "$\\displaystyle \\left[\\begin{matrix}5 & 1 & 4 & 6 & 7\\\\1 & 2 & 5 & 8 & 9\\\\1 & 3 & 5 & 1 & 3\\end{matrix}\\right]$",
            "text/plain": [
              "⎡5  1  4  6  7⎤\n",
              "⎢             ⎥\n",
              "⎢1  2  5  8  9⎥\n",
              "⎢             ⎥\n",
              "⎣1  3  5  1  3⎦"
            ]
          },
          "metadata": {
            "tags": []
          },
          "execution_count": 42
        }
      ]
    },
    {
      "cell_type": "markdown",
      "metadata": {
        "id": "Iu7ce-Lndgi6"
      },
      "source": [
        "## **Inserción de una fila a una matriz**\n",
        "\n",
        "\n",
        "Inserte la matriz fila $F$ como  la **fila 3** de la matriz $A$, siendo:\n",
        "\n",
        "$$F=\\begin{bmatrix}\n",
        "1 & 2 & 3 & 4 \\\\\n",
        "\\end{bmatrix}\n",
        "\\hspace{5mm}\n",
        "\\text{y}\n",
        "\\hspace{5mm}\n",
        "A=\\begin{bmatrix}\n",
        "5 & 4 & 6 & 7 \\\\\n",
        "1 & 5 & 8 & 9 \\\\\n",
        "1 & 5 & 1 & 3 \\\\\n",
        "\\end{bmatrix}$$ "
      ]
    },
    {
      "cell_type": "code",
      "metadata": {
        "colab": {
          "base_uri": "https://localhost:8080/",
          "height": 98
        },
        "id": "KhZtorzJYs22",
        "outputId": "e1f98ca5-38e6-40ca-a7da-2384b6b0b3ae"
      },
      "source": [
        "A = Matrix([[5,4,6,7],[1,5,8,9],[1,5,1,3]])\n",
        "F = Matrix([[1,2,3,4]])\n",
        "D = A.row_insert(2, F)\n",
        "D"
      ],
      "execution_count": null,
      "outputs": [
        {
          "output_type": "execute_result",
          "data": {
            "text/latex": "$\\displaystyle \\left[\\begin{matrix}5 & 4 & 6 & 7\\\\1 & 5 & 8 & 9\\\\1 & 2 & 3 & 4\\\\1 & 5 & 1 & 3\\end{matrix}\\right]$",
            "text/plain": [
              "⎡5  4  6  7⎤\n",
              "⎢          ⎥\n",
              "⎢1  5  8  9⎥\n",
              "⎢          ⎥\n",
              "⎢1  2  3  4⎥\n",
              "⎢          ⎥\n",
              "⎣1  5  1  3⎦"
            ]
          },
          "metadata": {
            "tags": []
          },
          "execution_count": 44
        }
      ]
    },
    {
      "cell_type": "markdown",
      "metadata": {
        "id": "AufX04OnZ60f"
      },
      "source": [
        "## **Extracción de una submatriz**\n",
        "\n",
        "Extrae la submatriz $B$  de la matriz $A$, siendo:\n",
        "\n",
        "$$B=\\begin{bmatrix}\n",
        "4 & 6 \\\\\n",
        "5 & 8 \\\\\n",
        "\\end{bmatrix}\n",
        "\\hspace{5mm}\n",
        "\\text{y}\n",
        "\\hspace{5mm}\n",
        "A=\\begin{bmatrix}\n",
        "5 & 4 & 6 & 7 \\\\\n",
        "1 & 5 & 8 & 9 \\\\\n",
        "1 & 5 & 1 & 3 \\\\\n",
        "\\end{bmatrix}$$ "
      ]
    },
    {
      "cell_type": "code",
      "metadata": {
        "colab": {
          "base_uri": "https://localhost:8080/",
          "height": 57
        },
        "id": "6vuBw0pPaGuR",
        "outputId": "06831d5f-23ce-4b98-dc00-7f0fce121382"
      },
      "source": [
        "A = Matrix([[5,4,6,7],[1,5,8,9],[1,5,1,3]])\n",
        "A[:2,1:3]"
      ],
      "execution_count": null,
      "outputs": [
        {
          "output_type": "execute_result",
          "data": {
            "text/latex": "$\\displaystyle \\left[\\begin{matrix}4 & 6\\\\5 & 8\\end{matrix}\\right]$",
            "text/plain": [
              "⎡4  6⎤\n",
              "⎢    ⎥\n",
              "⎣5  8⎦"
            ]
          },
          "metadata": {
            "tags": []
          },
          "execution_count": 66
        }
      ]
    },
    {
      "cell_type": "markdown",
      "metadata": {
        "id": "l3BJWndAaHER"
      },
      "source": [
        "## **Union de matrices horizontalmente**\n",
        "\n",
        "Une horizontamente la matriz $A$ y la matriz $B$, siendo:\n",
        "\n",
        "$$A=\\begin{bmatrix}\n",
        "4 & 6 \\\\\n",
        "5 & 8 \\\\\n",
        "5 & 9 \\\\\n",
        "\\end{bmatrix}\n",
        "\\hspace{5mm}\n",
        "\\text{y}\n",
        "\\hspace{5mm}\n",
        "B=\\begin{bmatrix}\n",
        "5 & 4 & 6 & 7 \\\\\n",
        "1 & 5 & 8 & 9 \\\\\n",
        "1 & 5 & 1 & 3 \\\\\n",
        "\\end{bmatrix}$$ \n",
        "\n",
        "\n",
        "### **Forma 1:** "
      ]
    },
    {
      "cell_type": "code",
      "metadata": {
        "colab": {
          "base_uri": "https://localhost:8080/",
          "height": 78
        },
        "id": "6p9eKdBfacQz",
        "outputId": "25f76f47-c4e3-4136-d6b9-d259624748f2"
      },
      "source": [
        "A = Matrix([[4,6],[5,8],[5,9]])\n",
        "B = Matrix([[5,4,6,7],[1,5,8,9],[1,5,1,3]])\n",
        "A.row_join(B)\n"
      ],
      "execution_count": null,
      "outputs": [
        {
          "output_type": "execute_result",
          "data": {
            "text/latex": "$\\displaystyle \\left[\\begin{matrix}4 & 6 & 5 & 4 & 6 & 7\\\\5 & 8 & 1 & 5 & 8 & 9\\\\5 & 9 & 1 & 5 & 1 & 3\\end{matrix}\\right]$",
            "text/plain": [
              "⎡4  6  5  4  6  7⎤\n",
              "⎢                ⎥\n",
              "⎢5  8  1  5  8  9⎥\n",
              "⎢                ⎥\n",
              "⎣5  9  1  5  1  3⎦"
            ]
          },
          "metadata": {
            "tags": []
          },
          "execution_count": 69
        }
      ]
    },
    {
      "cell_type": "markdown",
      "metadata": {
        "id": "x-wOvFojHXj-"
      },
      "source": [
        "\n",
        "### **Forma 2:** "
      ]
    },
    {
      "cell_type": "code",
      "metadata": {
        "colab": {
          "base_uri": "https://localhost:8080/",
          "height": 78
        },
        "id": "Wr5EDfIml1RN",
        "outputId": "e4b79506-a4f9-4cda-9d7f-b148c2e3ec10"
      },
      "source": [
        "A = Matrix([[4,6],[5,8],[5,9]])\n",
        "B = Matrix([[5,4,6,7],[1,5,8,9],[1,5,1,3]])\n",
        "C = Matrix.hstack(A, B)\n",
        "C"
      ],
      "execution_count": null,
      "outputs": [
        {
          "output_type": "execute_result",
          "data": {
            "text/latex": "$\\displaystyle \\left[\\begin{matrix}4 & 6 & 5 & 4 & 6 & 7\\\\5 & 8 & 1 & 5 & 8 & 9\\\\5 & 9 & 1 & 5 & 1 & 3\\end{matrix}\\right]$",
            "text/plain": [
              "⎡4  6  5  4  6  7⎤\n",
              "⎢                ⎥\n",
              "⎢5  8  1  5  8  9⎥\n",
              "⎢                ⎥\n",
              "⎣5  9  1  5  1  3⎦"
            ]
          },
          "metadata": {
            "tags": []
          },
          "execution_count": 71
        }
      ]
    },
    {
      "cell_type": "markdown",
      "metadata": {
        "id": "UPbGt5DKmSks"
      },
      "source": [
        "## **Union de matrices verticalmente**\n",
        "\n",
        "Une horizontamente la matriz $A$ y la matriz $B$, siendo:\n",
        "\n",
        "$$A=\\begin{bmatrix}\n",
        "1 & 2 & 3 & 4\\\\\n",
        "5 & 1 & 9 & 3 \\\\\n",
        "\\end{bmatrix}\n",
        "\\hspace{5mm}\n",
        "\\text{y}\n",
        "\\hspace{5mm}\n",
        "B=\\begin{bmatrix}\n",
        "5 & 4 & 6 & 7 \\\\\n",
        "1 & 5 & 8 & 9 \\\\\n",
        "1 & 5 & 1 & 3 \\\\\n",
        "\\end{bmatrix}$$ \n",
        "\n",
        "\n",
        "### **Forma 1:** "
      ]
    },
    {
      "cell_type": "code",
      "metadata": {
        "colab": {
          "base_uri": "https://localhost:8080/",
          "height": 119
        },
        "id": "9V3ERCyOlYVs",
        "outputId": "fae0dd72-a060-42d3-b7c5-4e3906b87928"
      },
      "source": [
        "A = Matrix([[1,2,3,4],[5,1,9,3]])\n",
        "B = Matrix([[5,4,6,7],[1,5,8,9],[1,5,1,3]])\n",
        "A.col_join(B)"
      ],
      "execution_count": null,
      "outputs": [
        {
          "output_type": "execute_result",
          "data": {
            "text/latex": "$\\displaystyle \\left[\\begin{matrix}1 & 2 & 3 & 4\\\\5 & 1 & 9 & 3\\\\5 & 4 & 6 & 7\\\\1 & 5 & 8 & 9\\\\1 & 5 & 1 & 3\\end{matrix}\\right]$",
            "text/plain": [
              "⎡1  2  3  4⎤\n",
              "⎢          ⎥\n",
              "⎢5  1  9  3⎥\n",
              "⎢          ⎥\n",
              "⎢5  4  6  7⎥\n",
              "⎢          ⎥\n",
              "⎢1  5  8  9⎥\n",
              "⎢          ⎥\n",
              "⎣1  5  1  3⎦"
            ]
          },
          "metadata": {
            "tags": []
          },
          "execution_count": 72
        }
      ]
    },
    {
      "cell_type": "markdown",
      "metadata": {
        "id": "0uTSQTPjIFrY"
      },
      "source": [
        "### **Forma 2:** "
      ]
    },
    {
      "cell_type": "code",
      "metadata": {
        "colab": {
          "base_uri": "https://localhost:8080/",
          "height": 57
        },
        "id": "LJI5U2AxmGPl",
        "outputId": "fde3c802-21d6-4818-8eee-e021b5aadd4f"
      },
      "source": [
        "A = Matrix([[1,2,3,4],[5,1,9,3]])\n",
        "B = Matrix([[5,4,6,7],[1,5,8,9],[1,5,1,3]])\n",
        "Matrix.vstack(A, B)\n",
        "\n"
      ],
      "execution_count": null,
      "outputs": [
        {
          "output_type": "execute_result",
          "data": {
            "text/latex": "$\\displaystyle \\left[\\begin{matrix}1 & 2 & 3 & 4\\\\5 & 1 & 9 & 3\\end{matrix}\\right]$",
            "text/plain": [
              "⎡1  2  3  4⎤\n",
              "⎢          ⎥\n",
              "⎣5  1  9  3⎦"
            ]
          },
          "metadata": {
            "tags": []
          },
          "execution_count": 76
        }
      ]
    },
    {
      "cell_type": "markdown",
      "metadata": {
        "id": "gpLaY9JmZXqQ"
      },
      "source": [
        "# **OPERACIONES CON MATRICES**\n",
        "\n",
        "# **Adición de matrices**\n",
        "\n",
        "Sean ${\\displaystyle A,B\\in {\\mathcal {M}}_{n\\times m}(\\mathbb {R} )}$ si:\n",
        "\n",
        "<center> <h4> $A = \\left[  a_{ij} \\right]_{n \\times m}$  y $B = \\left[  b_{ij} \\right]_{n \\times m}$ &nbsp; &nbsp; entonces &nbsp; &nbsp;$A+B = \\left[  a_{ij} +b_{ij} \\right]_{n \\times m} $</h4>\n"
      ]
    },
    {
      "cell_type": "markdown",
      "metadata": {
        "id": "jWI1TjL7mwy6"
      },
      "source": [
        "### **Ejemplo: adición de matrices**\n",
        "Encuentra la matriz $A + B $  donde :\n",
        "\n",
        "$$A=\\begin{bmatrix}\n",
        "5 & 4 & -5 \\\\\n",
        "3 & 6 & -7 \\\\\n",
        "1 & 0 & -3  \\\\\n",
        "\\end{bmatrix}\n",
        "\\hspace{1cm}\n",
        "B=\\begin{bmatrix}\n",
        "2 & -4 & 0 \\\\\n",
        "0 & -6 & 7 \\\\\n",
        "1 & -4 & 3 \\\\\n",
        "\\end{bmatrix}$$"
      ]
    },
    {
      "cell_type": "code",
      "metadata": {
        "id": "_lvMxcxc7n6Y",
        "colab": {
          "base_uri": "https://localhost:8080/",
          "height": 78
        },
        "outputId": "d94bc3ed-958d-4a54-f25c-a244c29ccb3a"
      },
      "source": [
        "A = Matrix([[5,4,-5],[3,6,-7],[1,0,-3]])\n",
        "B = Matrix([[2,-4,0],[0,-6,7],[1,-4,3]])\n",
        "A + B"
      ],
      "execution_count": null,
      "outputs": [
        {
          "output_type": "execute_result",
          "data": {
            "text/latex": "$\\displaystyle \\left[\\begin{matrix}7 & 0 & -5\\\\3 & 0 & 0\\\\2 & -4 & 0\\end{matrix}\\right]$",
            "text/plain": [
              "⎡7  0   -5⎤\n",
              "⎢         ⎥\n",
              "⎢3  0   0 ⎥\n",
              "⎢         ⎥\n",
              "⎣2  -4  0 ⎦"
            ]
          },
          "metadata": {
            "tags": []
          },
          "execution_count": 40
        }
      ]
    },
    {
      "cell_type": "markdown",
      "metadata": {
        "id": "9nQBZDNwyjgE"
      },
      "source": [
        "# **Propiedades adición de matrices**\n",
        "\n",
        "Sean ${\\displaystyle A,B,C\\in {\\mathcal {M}}_{n\\times m}(\\mathbb {R} )}$,  se cumplen las siguientes propiedades:\n",
        "\n",
        "|            PROPIEDAD           |       EXPLICACIÓN                      |\n",
        "|:------------------------------:|:--------------------------------------:|\n",
        "| Clausurativa                   |$$A + B \\in \\mathcal{M}_{n\\times m}(\\mathbb{R})$$|\n",
        "| Conmutativa                     |   $$A + B = B + A$$                      |\n",
        "| Asociativa                      |      $$(A +B) + C = A + ( B+C)$$         | \n",
        "| Existencia de elemento neutro   |             $$A + 0 = A$$                           |\n",
        "| Existencia de inverso aditivo  |     $$A + (-A) = 0 $$                                  |"
      ]
    },
    {
      "cell_type": "markdown",
      "metadata": {
        "id": "LTiEZ_x_L5Eb"
      },
      "source": [
        "##**Verificación de las propiedades de la adición de matrices**"
      ]
    },
    {
      "cell_type": "markdown",
      "metadata": {
        "id": "6a3_8QRuJS3c"
      },
      "source": [
        "### **Propiedad conmutativa** \n",
        "\n",
        "<h4>$$A + B = B + A$$  "
      ]
    },
    {
      "cell_type": "code",
      "metadata": {
        "id": "lF6swOUUILva"
      },
      "source": [
        ""
      ],
      "execution_count": null,
      "outputs": []
    },
    {
      "cell_type": "markdown",
      "metadata": {
        "id": "Va3GHC3iJczc"
      },
      "source": [
        "### **propiedad asociativa**\n",
        "\n",
        "<h4>$$(A +B) + C = A + ( B+C)$$   "
      ]
    },
    {
      "cell_type": "code",
      "metadata": {
        "id": "efpQ5V6IIQBn"
      },
      "source": [
        ""
      ],
      "execution_count": null,
      "outputs": []
    },
    {
      "cell_type": "markdown",
      "metadata": {
        "id": "fxCJR33HJyld"
      },
      "source": [
        "### **Existencia de elemento neutro**   \n",
        "<h4>$$A + 0 = A$$                 "
      ]
    },
    {
      "cell_type": "code",
      "metadata": {
        "id": "p4NDyW9sIYGK"
      },
      "source": [
        ""
      ],
      "execution_count": null,
      "outputs": []
    },
    {
      "cell_type": "markdown",
      "metadata": {
        "id": "qE1YD6NfJ_fM"
      },
      "source": [
        "### **Existencia de inverso aditivo** \n",
        "<h4>$$A + (-A) = 0 $$ "
      ]
    },
    {
      "cell_type": "code",
      "metadata": {
        "id": "VVZovai-IoGW"
      },
      "source": [
        ""
      ],
      "execution_count": null,
      "outputs": []
    },
    {
      "cell_type": "markdown",
      "metadata": {
        "id": "WUUeyfbhqyAC"
      },
      "source": [
        "# **Multiplicación de matrices**\n",
        "\n",
        "Sea ${\\displaystyle A\\in {\\mathcal {M}}_{n\\times m}(\\mathbb {R} )}$ y  ${\\displaystyle B\\in {\\mathcal {M}}_{m\\times p}(\\mathbb {R} )}$ :\n",
        "\n",
        "<center> <h4> $A = \\left[  a_{ij} \\right]_{n \\times m}$  y $B = \\left[  b_{ij} \\right]_{m \\times p}$ &nbsp; &nbsp; entonces &nbsp; &nbsp; $AB = \\left[  c_{ij} \\right]_{n \\times p} $ &nbsp; &nbsp; donde &nbsp; &nbsp; $\\displaystyle   c_{ij} = \\sum_{r=1}^{n}a_{ir}b_{rj}$</h4> \n"
      ]
    },
    {
      "cell_type": "markdown",
      "metadata": {
        "id": "naEMpZh_2Wyt"
      },
      "source": [
        "## **Ejemplo: multiplicación de matrices**\n",
        "\n",
        "Encuentra la matriz $A \\cdot B $  donde :\n",
        "\n",
        "$$A=\\begin{bmatrix}\n",
        "2  & -5 \\\\\n",
        "4  & -7 \\\\\n",
        "1  & -3  \\\\\n",
        "\\end{bmatrix}\n",
        "\\hspace{1cm}\n",
        "B=\\begin{bmatrix}\n",
        "-2 & -4 \\\\\n",
        "-5 & -6 \\\\\n",
        "\\end{bmatrix}\n",
        "$$"
      ]
    },
    {
      "cell_type": "markdown",
      "metadata": {
        "id": "_O2deAEFfIhy"
      },
      "source": [
        "### **Forma 1:** "
      ]
    },
    {
      "cell_type": "code",
      "metadata": {
        "id": "XSxKgwUmZaMo",
        "colab": {
          "base_uri": "https://localhost:8080/",
          "height": 78
        },
        "outputId": "fe96241a-b116-4fb2-efdc-4d826dd5f459"
      },
      "source": [
        "A = Matrix([[2,-5],[4,-7],[1,-3]])\n",
        "B = Matrix([[-2,-4],[-5,-6]])\n",
        "A * B"
      ],
      "execution_count": null,
      "outputs": [
        {
          "output_type": "execute_result",
          "data": {
            "text/latex": "$\\displaystyle \\left[\\begin{matrix}21 & 22\\\\27 & 26\\\\13 & 14\\end{matrix}\\right]$",
            "text/plain": [
              "⎡21  22⎤\n",
              "⎢      ⎥\n",
              "⎢27  26⎥\n",
              "⎢      ⎥\n",
              "⎣13  14⎦"
            ]
          },
          "metadata": {
            "tags": []
          },
          "execution_count": 3
        }
      ]
    },
    {
      "cell_type": "markdown",
      "metadata": {
        "id": "xYuk_C0TfKwk"
      },
      "source": [
        "### **Forma 2:** "
      ]
    },
    {
      "cell_type": "code",
      "metadata": {
        "colab": {
          "base_uri": "https://localhost:8080/",
          "height": 78
        },
        "id": "3HSjon43e1V0",
        "outputId": "331efe5e-388e-4fb2-a4fa-155291c971cf"
      },
      "source": [
        "A = Matrix([[2,-5],[4,-7],[1,-3]])\n",
        "B = Matrix([[-2,-4],[-5,-6]])\n",
        "AB = A.multiply(B)\n",
        "AB"
      ],
      "execution_count": null,
      "outputs": [
        {
          "output_type": "execute_result",
          "data": {
            "text/latex": "$\\displaystyle \\left[\\begin{matrix}21 & 22\\\\27 & 26\\\\13 & 14\\end{matrix}\\right]$",
            "text/plain": [
              "⎡21  22⎤\n",
              "⎢      ⎥\n",
              "⎢27  26⎥\n",
              "⎢      ⎥\n",
              "⎣13  14⎦"
            ]
          },
          "metadata": {
            "tags": []
          },
          "execution_count": 97
        }
      ]
    },
    {
      "cell_type": "markdown",
      "metadata": {
        "id": "4w0gLm_jT4Ck"
      },
      "source": [
        "#**Propiedades multiplicación de matrices**\n",
        "\n",
        "Sean ${\\displaystyle A,B,C\\in {\\mathcal {M}}_{n\\times m}(\\mathbb {R} )}$,  se cumplen las siguientes propiedades:\n",
        "\n",
        "|            PROPIEDAD           |       EXPLICACIÓN                      |\n",
        "|:------------------------------:|:--------------------------------------:|\n",
        "| Clausurativa                   |$$A B \\in \\mathcal{M}_{n\\times m}(\\mathbb{R})$$|\n",
        "| No conmutativa                     |   $$A  B \\neq B A$$                      |\n",
        "| Asociativa                      |      $$(AB)  C = A ( B C)$$         | \n",
        "| Existencia de elemento neutro si ${\\displaystyle A\\in {\\mathcal {M}}_{n\\times n}(\\mathbb {R} )}$   |             $$A  I_{n} = I_{n}  A = A$$                           |\n",
        "| Existencia de inverso multiplicativo si ${\\displaystyle A\\in {\\mathcal {M}}_{n\\times n}(\\mathbb {R} )}$    |     $$A \n",
        " A^{-1} =A^{-1}A =I_{n}$$ \n",
        "                                 |\n",
        "| Propiedad distributiva por derecha    |     $$ (B +C )A  = BA + CA\n",
        " $$ \n",
        "                                 |\n",
        "| Propiedad distributiva por izquierda    |     $$A(B +C ) = AB +AC\n",
        " $$ \n",
        "                                 |\n"
      ]
    },
    {
      "cell_type": "markdown",
      "metadata": {
        "id": "atoIr9QgNt7X"
      },
      "source": [
        "##**Verificación de las propiedades de la multiplicación de matrices**"
      ]
    },
    {
      "cell_type": "markdown",
      "metadata": {
        "id": "JT7cuI3sNt71"
      },
      "source": [
        "### **Propiedad conmutativa**\n",
        "\n",
        "$$A  B = B A$$"
      ]
    },
    {
      "cell_type": "code",
      "metadata": {
        "id": "QqMBJEZq6VGy"
      },
      "source": [
        ""
      ],
      "execution_count": null,
      "outputs": []
    },
    {
      "cell_type": "markdown",
      "metadata": {
        "id": "DPag3xU7Nt74"
      },
      "source": [
        "### **propiedad asociativa**\n",
        "$$(AB)  C = A ( B C)$$ "
      ]
    },
    {
      "cell_type": "code",
      "metadata": {
        "id": "6xIU8gQP6UQ4"
      },
      "source": [
        ""
      ],
      "execution_count": null,
      "outputs": []
    },
    {
      "cell_type": "markdown",
      "metadata": {
        "id": "uOXfgPtNNt75"
      },
      "source": [
        "###**Existencia de elemento neutro**\n",
        "\n",
        "$$A \\Box = \\Box  A = A$$ \n",
        "\n"
      ]
    },
    {
      "cell_type": "code",
      "metadata": {
        "id": "GP6BEgk06Ycf"
      },
      "source": [
        ""
      ],
      "execution_count": null,
      "outputs": []
    },
    {
      "cell_type": "markdown",
      "metadata": {
        "id": "2IgSjjqPNt77"
      },
      "source": [
        "### **Existencia de inverso multiplicativo**\n",
        "\n",
        "$$A \\Box = \\Box A =I_{n}$$ "
      ]
    },
    {
      "cell_type": "code",
      "metadata": {
        "id": "6b8gfHRh6Qb4"
      },
      "source": [
        ""
      ],
      "execution_count": null,
      "outputs": []
    },
    {
      "cell_type": "markdown",
      "metadata": {
        "id": "TRodi4X7OMlJ"
      },
      "source": [
        "### **Propiedad distributiva a derecha**  \n",
        " $$ (B +C )A  = BA + CA$$ "
      ]
    },
    {
      "cell_type": "code",
      "metadata": {
        "id": "HuFOXdtUmfzw"
      },
      "source": [
        ""
      ],
      "execution_count": null,
      "outputs": []
    },
    {
      "cell_type": "markdown",
      "metadata": {
        "id": "Z3oxyW9BOMlL"
      },
      "source": [
        "### **Propiedad distributiva a izquierda**\n",
        "\n",
        "$$A(B +C ) = AB +AC\n",
        " $$ "
      ]
    },
    {
      "cell_type": "code",
      "metadata": {
        "id": "n2Ob1bzAOMlM"
      },
      "source": [
        ""
      ],
      "execution_count": null,
      "outputs": []
    },
    {
      "cell_type": "markdown",
      "metadata": {
        "id": "pwxeVzYuxStB"
      },
      "source": [
        "#**Multiplicación de una matriz por un escalar**\n",
        "\n",
        "\n",
        "Sean ${\\displaystyle A\\in {\\mathcal {M}}_{n\\times m}(\\mathbb {R} )}$ y $k \\in \\mathbb{R}$  si:\n",
        "\n",
        "<center> <h4> $A = \\left[  a_{ij} \\right]_{n \\times m}$  &nbsp; &nbsp; entonces &nbsp; &nbsp; $kA = \\left[  k \\ a_{ij} \\right]_{n \\times m} $</h4>"
      ]
    },
    {
      "cell_type": "markdown",
      "metadata": {
        "id": "hY855pW0I32Q"
      },
      "source": [
        "### **Ejemplo: multiplicación de una matriz por un escalar**\n",
        "\n",
        "\n",
        "\n",
        "Encuentra la matriz $3A $  donde :\n",
        "\n",
        "$$A=\\begin{bmatrix}\n",
        "5 & 4 & -5 \\\\\n",
        "3 & 6 & -7 \\\\\n",
        "1 & 0 & -3  \\\\\n",
        "\\end{bmatrix}\n",
        "$$"
      ]
    },
    {
      "cell_type": "code",
      "metadata": {
        "colab": {
          "base_uri": "https://localhost:8080/",
          "height": 78
        },
        "id": "5Htd5whzI21x",
        "outputId": "6de7cc42-3791-4690-8c1c-f8d173bf36a0"
      },
      "source": [
        "A = Matrix([[5,4,-5],[3,6,-7],[1,0,-3]])\n",
        "3*A"
      ],
      "execution_count": null,
      "outputs": [
        {
          "output_type": "execute_result",
          "data": {
            "text/latex": "$\\displaystyle \\left[\\begin{matrix}15 & 12 & -15\\\\9 & 18 & -21\\\\3 & 0 & -9\\end{matrix}\\right]$",
            "text/plain": [
              "⎡15  12  -15⎤\n",
              "⎢           ⎥\n",
              "⎢9   18  -21⎥\n",
              "⎢           ⎥\n",
              "⎣3   0   -9 ⎦"
            ]
          },
          "metadata": {
            "tags": []
          },
          "execution_count": 31
        }
      ]
    },
    {
      "cell_type": "markdown",
      "metadata": {
        "id": "nfOoBaIhVkeK"
      },
      "source": [
        "#**Propiedades de la multiplicación por un escalar**\n",
        "Sean ${\\displaystyle A,B\\in {\\mathcal {M}}_{n\\times m}(\\mathbb {R} )}$ y $ k,l \\in \\mathbb {R}$,  se cumplen las siguientes propiedades:\n",
        "\n",
        "|            PROPIEDAD           |       EXPLICACIÓN                      |\n",
        "|:------------------------------:|:--------------------------------------:|\n",
        "| Clausurativa                   |$$kA \\in \\mathcal{M}_{n\\times m}(\\mathbb{R})$$|\n",
        "| Conmutativa                   |$$kA = Ak$$|\n",
        "| Asociativa                   |$$(kl)A = k (lA)$$|\n",
        "| Existencia de elemento neutro   |     $$1A \n",
        " = A$$                                  || Producto por el  elemento neutro de la adición en $\\mathbb {R}$  |     $$0A \n",
        " = 0$$                                  |\n",
        "| Distributiva respecto a la suma de matrices                     |   $$k (A+ B) = kA +kB$$                      |\n",
        "| Distributiva respecto de la suma en $\\mathbb {R}$                   |      $$(k+l)A = kA + lA$$         |\n",
        "| Producto por el  elemento neutro de la adición en $\\mathbb {R}$  |     $$0A \n",
        " = 0$$                                  |\n"
      ]
    },
    {
      "cell_type": "markdown",
      "metadata": {
        "id": "15Z3mxjeO3As"
      },
      "source": [
        "##**Verificación de las propiedades de la multiplicación por un escalar**"
      ]
    },
    {
      "cell_type": "markdown",
      "metadata": {
        "id": "UKu-wEn1O3A3"
      },
      "source": [
        "### **Propiedad conmutativa**\n",
        "\n",
        "$$ kA = Ak$$"
      ]
    },
    {
      "cell_type": "code",
      "metadata": {
        "id": "v5-q7BXXO3A4"
      },
      "source": [
        ""
      ],
      "execution_count": null,
      "outputs": []
    },
    {
      "cell_type": "markdown",
      "metadata": {
        "id": "_DcQ7zmIe8Uf"
      },
      "source": [
        "### **Propiedad asociativa**\n",
        "\n",
        "$$(kl)A = k (lA)$$"
      ]
    },
    {
      "cell_type": "code",
      "metadata": {
        "id": "fCYKwa8pe8U7"
      },
      "source": [
        ""
      ],
      "execution_count": null,
      "outputs": []
    },
    {
      "cell_type": "markdown",
      "metadata": {
        "id": "9WnPOaFwO3A5"
      },
      "source": [
        "### **Existencia de elemento neutro** \n",
        "\n",
        " $$1A \n",
        " = A$$"
      ]
    },
    {
      "cell_type": "code",
      "metadata": {
        "id": "oBUE_yDUO3A6"
      },
      "source": [
        ""
      ],
      "execution_count": null,
      "outputs": []
    },
    {
      "cell_type": "markdown",
      "metadata": {
        "id": "IcrFE55EO3A7"
      },
      "source": [
        "### **Propiedad distributiva respecto a la suma de matrices**\n",
        "\n",
        " $$k (A+ B) = kA +kB$$"
      ]
    },
    {
      "cell_type": "code",
      "metadata": {
        "id": "viONbkyWO3A8"
      },
      "source": [
        ""
      ],
      "execution_count": null,
      "outputs": []
    },
    {
      "cell_type": "markdown",
      "metadata": {
        "id": "DVa4xyaOO3A9"
      },
      "source": [
        "### **Propiedad distributiva respecto de la suma en $\\mathbb {R}$** \n",
        "\n",
        "$$(k+l)A = kA + lA$$     "
      ]
    },
    {
      "cell_type": "code",
      "metadata": {
        "id": "JWOKnqr2fXg1"
      },
      "source": [
        ""
      ],
      "execution_count": null,
      "outputs": []
    },
    {
      "cell_type": "markdown",
      "metadata": {
        "id": "2ea0CGKYP94b"
      },
      "source": [
        "###**Producto por el  elemento neutro de la adición en $\\mathbb {R}$**\n",
        " $$0A \n",
        " = 0$$    "
      ]
    },
    {
      "cell_type": "code",
      "metadata": {
        "id": "uOHhz8czP9GK"
      },
      "source": [
        ""
      ],
      "execution_count": null,
      "outputs": []
    },
    {
      "cell_type": "markdown",
      "metadata": {
        "id": "KrMd73gy2cbH"
      },
      "source": [
        "#**Potenciación de matrices**\n",
        "Sean ${\\displaystyle A\\in {\\mathcal {M}}_{n\\times n}(\\mathbb {R} )}$ se define:\n",
        "\n",
        "$$A^n =   \\underbrace{A A A A ...}_{n \\ veces}$$\n",
        "\n",
        "### **Ejemplo: potencia de una matriz**\n",
        "\n",
        "\n",
        "\n",
        "Encuentra la matriz $A^{10} $  donde :\n",
        "\n",
        "$$A=\\begin{bmatrix}\n",
        "5 & 4 & -5 \\\\\n",
        "3 & 6 & -7 \\\\\n",
        "1 & 0 & -3  \\\\\n",
        "\\end{bmatrix}\n",
        "$$"
      ]
    },
    {
      "cell_type": "code",
      "metadata": {
        "colab": {
          "base_uri": "https://localhost:8080/",
          "height": 78
        },
        "id": "4R9X2z4u4tpp",
        "outputId": "afced33f-1b9b-4c39-e1d7-19ae39bff9c7"
      },
      "source": [
        "A = Matrix([[5,4,-5],[3,6,-7],[1,0,-3]])\n",
        "A**10"
      ],
      "execution_count": null,
      "outputs": [
        {
          "output_type": "execute_result",
          "data": {
            "text/latex": "$\\displaystyle \\left[\\begin{matrix}759222016 & 1236847168 & -1087175648\\\\738683424 & 1203399488 & -1057763968\\\\66273568 & 107972544 & -94884160\\end{matrix}\\right]$",
            "text/plain": [
              "⎡759222016  1236847168  -1087175648⎤\n",
              "⎢                                  ⎥\n",
              "⎢738683424  1203399488  -1057763968⎥\n",
              "⎢                                  ⎥\n",
              "⎣66273568   107972544    -94884160 ⎦"
            ]
          },
          "metadata": {
            "tags": []
          },
          "execution_count": 4
        }
      ]
    },
    {
      "cell_type": "markdown",
      "metadata": {
        "id": "ZEARI5TZzTQs"
      },
      "source": [
        "# **INVERSA DE UNA MATRIZ**\n",
        "\n",
        "Sea ${\\displaystyle A\\in {\\mathcal {M}}_{n\\times n}(\\mathbb {R} )}$, una matriz cuadrada,  si existe una matriz ${\\displaystyle B\\in {\\mathcal {M}}_{n\\times n}(\\mathbb {R} )}$ tal que :\n",
        "\n",
        "<center> <h4> Si &nbsp; &nbsp; $AB = BA = I_{n}$  &nbsp; &nbsp; entonces &nbsp; &nbsp; $B = A^{-1} $</h4> </center>\n",
        "\n",
        "\n",
        "$B$ es la matriz inversa de  $A$ y la matriz $A$ es **invertible** o **no singular**."
      ]
    },
    {
      "cell_type": "markdown",
      "metadata": {
        "id": "oyshXoeyzguF"
      },
      "source": [
        "## **Ejemplo 1: matriz inversa** --> *verificación rápida*\n",
        "\n",
        "Encuentra la matriz $A^{-1}$ si es posible, de la matriz:\n",
        "\n",
        "\n",
        "$$A=\\begin{bmatrix}\n",
        "5 & 4 & -5 \\\\\n",
        "3 & 6 & -7 \\\\\n",
        "1 & 0 & -3  \\\\\n",
        "\\end{bmatrix}\n",
        "$$"
      ]
    },
    {
      "cell_type": "markdown",
      "metadata": {
        "id": "aAT5-0C49wqd"
      },
      "source": [
        "### **Forma 1:** "
      ]
    },
    {
      "cell_type": "code",
      "metadata": {
        "colab": {
          "base_uri": "https://localhost:8080/",
          "height": 78
        },
        "id": "7lz3zF1d9ZXd",
        "outputId": "8472f552-cd15-4fa0-db50-e24842cba438"
      },
      "source": [
        "A = Matrix([[5,4,-5],[3,6,-7],[1,0,-3]])\n",
        "A.inv()"
      ],
      "execution_count": null,
      "outputs": [
        {
          "output_type": "execute_result",
          "data": {
            "text/latex": "$\\displaystyle \\left[\\begin{matrix}\\frac{9}{26} & - \\frac{3}{13} & - \\frac{1}{26}\\\\- \\frac{1}{26} & \\frac{5}{26} & - \\frac{5}{13}\\\\\\frac{3}{26} & - \\frac{1}{13} & - \\frac{9}{26}\\end{matrix}\\right]$",
            "text/plain": [
              "⎡9/26   -3/13  -1/26⎤\n",
              "⎢                   ⎥\n",
              "⎢-1/26  5/26   -5/13⎥\n",
              "⎢                   ⎥\n",
              "⎣3/26   -1/13  -9/26⎦"
            ]
          },
          "metadata": {
            "tags": []
          },
          "execution_count": 49
        }
      ]
    },
    {
      "cell_type": "markdown",
      "metadata": {
        "id": "Xj-gcSP194jT"
      },
      "source": [
        "### **Forma 2:** "
      ]
    },
    {
      "cell_type": "code",
      "metadata": {
        "colab": {
          "base_uri": "https://localhost:8080/",
          "height": 78
        },
        "id": "WOs-Xdel9k0y",
        "outputId": "2d321f63-9f07-44d1-9471-d9b18aad4de3"
      },
      "source": [
        "A = Matrix([[5,4,-5],[3,6,-7],[1,0,-3]])\n",
        "A**(-1)"
      ],
      "execution_count": null,
      "outputs": [
        {
          "output_type": "execute_result",
          "data": {
            "text/latex": "$\\displaystyle \\left[\\begin{matrix}\\frac{9}{26} & - \\frac{3}{13} & - \\frac{1}{26}\\\\- \\frac{1}{26} & \\frac{5}{26} & - \\frac{5}{13}\\\\\\frac{3}{26} & - \\frac{1}{13} & - \\frac{9}{26}\\end{matrix}\\right]$",
            "text/plain": [
              "⎡9/26   -3/13  -1/26⎤\n",
              "⎢                   ⎥\n",
              "⎢-1/26  5/26   -5/13⎥\n",
              "⎢                   ⎥\n",
              "⎣3/26   -1/13  -9/26⎦"
            ]
          },
          "metadata": {
            "tags": []
          },
          "execution_count": 50
        }
      ]
    },
    {
      "cell_type": "markdown",
      "metadata": {
        "id": "FMsu3kej_aPD"
      },
      "source": [
        "## **Ejemplo 2: matriz singular**\n",
        "\n",
        "Encuentra la matriz $A^{-1}$ si es posible, de la matriz:\n",
        "\n",
        "\n",
        "$$A=\\begin{bmatrix}\n",
        "1 & 2 & 3 \\\\\n",
        "2 & 4 & 6 \\\\\n",
        "1 & 0 & 3  \\\\\n",
        "\\end{bmatrix}\n",
        "$$"
      ]
    },
    {
      "cell_type": "code",
      "metadata": {
        "id": "feyfbaTY_aPj"
      },
      "source": [
        "A = Matrix([[1,2,3],[2,4,6],[1,0,3]])\n",
        "A**(-1)"
      ],
      "execution_count": null,
      "outputs": []
    },
    {
      "cell_type": "markdown",
      "metadata": {
        "id": "QLr_Hp5CK_BI"
      },
      "source": [
        "#**MATRIZ INVERSA USANDO EL MÉTODO  DE ELIMINACIÓN DE GAUSS-JORDAN**\n",
        "\n",
        "# **Operaciones elemantales sobre matrices**"
      ]
    },
    {
      "cell_type": "markdown",
      "metadata": {
        "id": "a8DSGsswon8y"
      },
      "source": [
        "|             Notación utilizada                  |         Operación sobre fila         | Código |\n",
        "|:-------------------------------:|:--------------------------------------:|:--------------:|\n",
        "|     $F_i \\longleftrightarrow F_j $  | Interrarcambiar la fila<br> $F_i$ con $F_j$ | **` M.row_swap(i, j)`**   |\n",
        "|            $k F_i \\rightarrow F_i  $           |  Multiplicar la fila $F_i$ <br> por la constante $k$ |     **`M[i ,:] = k*M[ i ,:]`**   |\n",
        "| $kF_i + F_j \\rightarrow F_j  $|  Sumar $k$ veces la fila $F_i$ <br> a la fila $F_j$ |    **`M[j ,:] = k*M[ i ,:] + M[j ,:]`**    |"
      ]
    },
    {
      "cell_type": "markdown",
      "metadata": {
        "id": "1W95Jw9id6GY"
      },
      "source": [
        "## **Ejemplo: matriz inversa** --> *paso a paso*\n",
        "\n",
        "Encuentra la matriz $A^{-1}$ si es posible, de la matriz:\n",
        "\n",
        "\n",
        "$$A=\\begin{bmatrix}\n",
        "5 & 4 & -5 \\\\\n",
        "3 & 6 & -7 \\\\\n",
        "1 & 0 & -3  \\\\\n",
        "\\end{bmatrix}\n",
        "$$"
      ]
    },
    {
      "cell_type": "markdown",
      "metadata": {
        "id": "WZnFIDYwfD7f"
      },
      "source": [
        "### **Construimos la matriz $\\left[  \\hspace{1mm} A \\hspace{2mm}|\\hspace{2mm} I \\hspace{1mm} \\right]$**"
      ]
    },
    {
      "cell_type": "code",
      "metadata": {
        "id": "23lj55K4cgM2",
        "colab": {
          "base_uri": "https://localhost:8080/",
          "height": 78
        },
        "outputId": "e2b8fefb-cfa4-4ceb-e137-974b4d3bac77"
      },
      "source": [
        "A = Matrix([[5,4,-5],[3,6,-7],[1,0,-3]])\n",
        "I = eye(3)\n",
        "AI = Matrix.hstack(A, I)\n",
        "AI"
      ],
      "execution_count": null,
      "outputs": [
        {
          "output_type": "execute_result",
          "data": {
            "text/latex": "$\\displaystyle \\left[\\begin{matrix}5 & 4 & -5 & 1 & 0 & 0\\\\3 & 6 & -7 & 0 & 1 & 0\\\\1 & 0 & -3 & 0 & 0 & 1\\end{matrix}\\right]$",
            "text/plain": [
              "⎡5  4  -5  1  0  0⎤\n",
              "⎢                 ⎥\n",
              "⎢3  6  -7  0  1  0⎥\n",
              "⎢                 ⎥\n",
              "⎣1  0  -3  0  0  1⎦"
            ]
          },
          "metadata": {
            "tags": []
          },
          "execution_count": 51
        }
      ]
    },
    {
      "cell_type": "markdown",
      "metadata": {
        "id": "TmsIOhu3gGM3"
      },
      "source": [
        "### **Intercambiamos la fila 1 con la fila 2:**&nbsp;&nbsp;&nbsp;&nbsp;($ F_1 \\longleftrightarrow F_2  $ )"
      ]
    },
    {
      "cell_type": "code",
      "metadata": {
        "colab": {
          "base_uri": "https://localhost:8080/",
          "height": 78
        },
        "id": "H7-mVM-xGt6d",
        "outputId": "c06f3a75-53e7-4af6-dd2f-8647521b7144"
      },
      "source": [
        "AI.row_swap(0,2)\n",
        "AI"
      ],
      "execution_count": null,
      "outputs": [
        {
          "output_type": "execute_result",
          "data": {
            "text/latex": "$\\displaystyle \\left[\\begin{matrix}1 & 0 & -3 & 0 & 0 & 1\\\\3 & 6 & -7 & 0 & 1 & 0\\\\5 & 4 & -5 & 1 & 0 & 0\\end{matrix}\\right]$",
            "text/plain": [
              "⎡1  0  -3  0  0  1⎤\n",
              "⎢                 ⎥\n",
              "⎢3  6  -7  0  1  0⎥\n",
              "⎢                 ⎥\n",
              "⎣5  4  -5  1  0  0⎦"
            ]
          },
          "metadata": {
            "tags": []
          },
          "execution_count": 52
        }
      ]
    },
    {
      "cell_type": "markdown",
      "metadata": {
        "id": "F5CRDkg9guhP"
      },
      "source": [
        "### **Multiplicamos por $-3$ &nbsp; la fila&nbsp; $1$ &nbsp; y se la sumamos a la fila&nbsp; $2$:**&nbsp;&nbsp;&nbsp;&nbsp;($-3F_1 + F_2 \\rightarrow F_2 $ )\n",
        "\n",
        "### **Multiplicamos por $-5$ &nbsp; la fila&nbsp; $1$ &nbsp; y se la sumamos a la fila&nbsp; $3$:**&nbsp;&nbsp;&nbsp;&nbsp;($-5F_1 + F_3 \\rightarrow F_3 $ )"
      ]
    },
    {
      "cell_type": "code",
      "metadata": {
        "colab": {
          "base_uri": "https://localhost:8080/",
          "height": 78
        },
        "id": "_9ES6Y0rH96i",
        "outputId": "a58a1871-2841-44c7-c63a-80ee826db0a2"
      },
      "source": [
        "AI[1,:] = -3*AI[0,:]+AI[1,:]\n",
        "AI[2,:] = -5*AI[0,:] +AI[2,:]\n",
        "AI"
      ],
      "execution_count": null,
      "outputs": [
        {
          "output_type": "execute_result",
          "data": {
            "text/latex": "$\\displaystyle \\left[\\begin{matrix}1 & 0 & -3 & 0 & 0 & 1\\\\0 & 6 & 2 & 0 & 1 & -3\\\\0 & 4 & 10 & 1 & 0 & -5\\end{matrix}\\right]$",
            "text/plain": [
              "⎡1  0  -3  0  0  1 ⎤\n",
              "⎢                  ⎥\n",
              "⎢0  6  2   0  1  -3⎥\n",
              "⎢                  ⎥\n",
              "⎣0  4  10  1  0  -5⎦"
            ]
          },
          "metadata": {
            "tags": []
          },
          "execution_count": 53
        }
      ]
    },
    {
      "cell_type": "markdown",
      "metadata": {
        "id": "cnpFK3R3hQQz"
      },
      "source": [
        "### **Multiplicamos por $\\frac{1}{6}$ la fila 2:**&nbsp;&nbsp;&nbsp;&nbsp;($\\frac{1}{6} F_1 \\rightarrow F_2  $ )"
      ]
    },
    {
      "cell_type": "code",
      "metadata": {
        "colab": {
          "base_uri": "https://localhost:8080/",
          "height": 78
        },
        "id": "KG04zuCpIffS",
        "outputId": "77ef69ef-5675-4454-d302-6abaef9d8067"
      },
      "source": [
        "AI[1,:] = S(\"1/6\")*AI[1,:]\n",
        "AI"
      ],
      "execution_count": null,
      "outputs": [
        {
          "output_type": "execute_result",
          "data": {
            "text/latex": "$\\displaystyle \\left[\\begin{matrix}1 & 0 & -3 & 0 & 0 & 1\\\\0 & 1 & \\frac{1}{3} & 0 & \\frac{1}{6} & - \\frac{1}{2}\\\\0 & 4 & 10 & 1 & 0 & -5\\end{matrix}\\right]$",
            "text/plain": [
              "⎡1  0  -3   0   0    1  ⎤\n",
              "⎢                       ⎥\n",
              "⎢0  1  1/3  0  1/6  -1/2⎥\n",
              "⎢                       ⎥\n",
              "⎣0  4  10   1   0    -5 ⎦"
            ]
          },
          "metadata": {
            "tags": []
          },
          "execution_count": 54
        }
      ]
    },
    {
      "cell_type": "markdown",
      "metadata": {
        "id": "WOsdJfLnhfto"
      },
      "source": [
        "### **Multiplicamos por $-4$ &nbsp; la fila&nbsp; $2$ &nbsp; y se la sumamos a la fila&nbsp; $3$:**&nbsp;&nbsp;&nbsp;&nbsp;($-4F_2 + F_3 \\rightarrow F_3 $ )"
      ]
    },
    {
      "cell_type": "code",
      "metadata": {
        "colab": {
          "base_uri": "https://localhost:8080/",
          "height": 78
        },
        "id": "QPUxrXIJIvqa",
        "outputId": "cb9900ce-5dc4-4d40-c724-796f63f4cd30"
      },
      "source": [
        "AI[2,:] = -4*AI[1,:] +AI[2,:]\n",
        "AI"
      ],
      "execution_count": null,
      "outputs": [
        {
          "output_type": "execute_result",
          "data": {
            "text/latex": "$\\displaystyle \\left[\\begin{matrix}1 & 0 & -3 & 0 & 0 & 1\\\\0 & 1 & \\frac{1}{3} & 0 & \\frac{1}{6} & - \\frac{1}{2}\\\\0 & 0 & \\frac{26}{3} & 1 & - \\frac{2}{3} & -3\\end{matrix}\\right]$",
            "text/plain": [
              "⎡1  0   -3   0   0     1  ⎤\n",
              "⎢                         ⎥\n",
              "⎢0  1  1/3   0  1/6   -1/2⎥\n",
              "⎢                         ⎥\n",
              "⎣0  0  26/3  1  -2/3   -3 ⎦"
            ]
          },
          "metadata": {
            "tags": []
          },
          "execution_count": 55
        }
      ]
    },
    {
      "cell_type": "markdown",
      "metadata": {
        "id": "ZjMqByJyiomd"
      },
      "source": [
        "### **Multiplicamos por $\\frac{3}{26}$ &nbsp; la fila&nbsp; $3$:**&nbsp;&nbsp;&nbsp;&nbsp;($ \\frac{3}{26}F_3 \\rightarrow F_3 $ )"
      ]
    },
    {
      "cell_type": "code",
      "metadata": {
        "colab": {
          "base_uri": "https://localhost:8080/",
          "height": 78
        },
        "id": "8MGfjUHaI5hZ",
        "outputId": "0768cf35-e518-44d5-8174-99053be5156e"
      },
      "source": [
        "AI[2,:] = S(\"3/26\")*AI[2,:]\n",
        "AI"
      ],
      "execution_count": null,
      "outputs": [
        {
          "output_type": "execute_result",
          "data": {
            "text/latex": "$\\displaystyle \\left[\\begin{matrix}1 & 0 & -3 & 0 & 0 & 1\\\\0 & 1 & \\frac{1}{3} & 0 & \\frac{1}{6} & - \\frac{1}{2}\\\\0 & 0 & 1 & \\frac{3}{26} & - \\frac{1}{13} & - \\frac{9}{26}\\end{matrix}\\right]$",
            "text/plain": [
              "⎡1  0  -3    0      0      1  ⎤\n",
              "⎢                             ⎥\n",
              "⎢0  1  1/3   0     1/6   -1/2 ⎥\n",
              "⎢                             ⎥\n",
              "⎣0  0   1   3/26  -1/13  -9/26⎦"
            ]
          },
          "metadata": {
            "tags": []
          },
          "execution_count": 56
        }
      ]
    },
    {
      "cell_type": "markdown",
      "metadata": {
        "id": "OTIzDqPVjOB7"
      },
      "source": [
        "### **Multiplicamos por $3$ &nbsp; la fila&nbsp; $3$ &nbsp; y se la sumamos a la fila&nbsp; $1$:**&nbsp;&nbsp;&nbsp;&nbsp;($3F_3 + F_1 \\rightarrow F_1 $ )\n",
        "\n",
        "### **Multiplicamos por $-\\frac{1}{3}$ &nbsp; la fila&nbsp; $3$ &nbsp; y se la sumamos a la fila&nbsp; $2$:**&nbsp;&nbsp;&nbsp;&nbsp;($-\\frac{1}{3}F_3 + F_2 \\rightarrow F_2 $ )"
      ]
    },
    {
      "cell_type": "code",
      "metadata": {
        "colab": {
          "base_uri": "https://localhost:8080/",
          "height": 78
        },
        "id": "9vozoPB1KiTR",
        "outputId": "60d3de78-07e6-4539-a6b2-771b57d58e6d"
      },
      "source": [
        "AI[0,:] = 3*AI[2,:]+AI[0,:]\n",
        "AI[1,:] = S(\"-1/3\")*AI[2,:] +AI[1,:]\n",
        "AI"
      ],
      "execution_count": null,
      "outputs": [
        {
          "output_type": "execute_result",
          "data": {
            "text/latex": "$\\displaystyle \\left[\\begin{matrix}1 & 0 & 0 & \\frac{9}{26} & - \\frac{3}{13} & - \\frac{1}{26}\\\\0 & 1 & 0 & - \\frac{1}{26} & \\frac{5}{26} & - \\frac{5}{13}\\\\0 & 0 & 1 & \\frac{3}{26} & - \\frac{1}{13} & - \\frac{9}{26}\\end{matrix}\\right]$",
            "text/plain": [
              "⎡1  0  0  9/26   -3/13  -1/26⎤\n",
              "⎢                            ⎥\n",
              "⎢0  1  0  -1/26  5/26   -5/13⎥\n",
              "⎢                            ⎥\n",
              "⎣0  0  1  3/26   -1/13  -9/26⎦"
            ]
          },
          "metadata": {
            "tags": []
          },
          "execution_count": 57
        }
      ]
    },
    {
      "cell_type": "markdown",
      "metadata": {
        "id": "49otieSyj1S0"
      },
      "source": [
        "### **Obtenemos la matriz $\\left[  \\hspace{1mm} I \\hspace{2mm}|\\hspace{2mm} A^{-1} \\hspace{1mm} \\right]$**"
      ]
    },
    {
      "cell_type": "code",
      "metadata": {
        "colab": {
          "base_uri": "https://localhost:8080/",
          "height": 78
        },
        "id": "vzFazsQkj0Hx",
        "outputId": "0ead4e73-ce16-4a1f-ee42-669a80329131"
      },
      "source": [
        "AI"
      ],
      "execution_count": null,
      "outputs": [
        {
          "output_type": "execute_result",
          "data": {
            "text/latex": "$\\displaystyle \\left[\\begin{matrix}1 & 0 & 0 & \\frac{9}{26} & - \\frac{3}{13} & - \\frac{1}{26}\\\\0 & 1 & 0 & - \\frac{1}{26} & \\frac{5}{26} & - \\frac{5}{13}\\\\0 & 0 & 1 & \\frac{3}{26} & - \\frac{1}{13} & - \\frac{9}{26}\\end{matrix}\\right]$",
            "text/plain": [
              "⎡1  0  0  9/26   -3/13  -1/26⎤\n",
              "⎢                            ⎥\n",
              "⎢0  1  0  -1/26  5/26   -5/13⎥\n",
              "⎢                            ⎥\n",
              "⎣0  0  1  3/26   -1/13  -9/26⎦"
            ]
          },
          "metadata": {
            "tags": []
          },
          "execution_count": 58
        }
      ]
    },
    {
      "cell_type": "markdown",
      "metadata": {
        "id": "U0ucpqYWkpM_"
      },
      "source": [
        "### **La matriz inversa $ A^{-1}$ es:**"
      ]
    },
    {
      "cell_type": "code",
      "metadata": {
        "colab": {
          "base_uri": "https://localhost:8080/",
          "height": 78
        },
        "id": "AUxsjAm_kqJ6",
        "outputId": "8699ab53-12c2-4392-928a-29dc46ce0f70"
      },
      "source": [
        "A_inv = AI[:, 3:]\n",
        "A_inv"
      ],
      "execution_count": null,
      "outputs": [
        {
          "output_type": "execute_result",
          "data": {
            "text/latex": "$\\displaystyle \\left[\\begin{matrix}\\frac{9}{26} & - \\frac{3}{13} & - \\frac{1}{26}\\\\- \\frac{1}{26} & \\frac{5}{26} & - \\frac{5}{13}\\\\\\frac{3}{26} & - \\frac{1}{13} & - \\frac{9}{26}\\end{matrix}\\right]$",
            "text/plain": [
              "⎡9/26   -3/13  -1/26⎤\n",
              "⎢                   ⎥\n",
              "⎢-1/26  5/26   -5/13⎥\n",
              "⎢                   ⎥\n",
              "⎣3/26   -1/13  -9/26⎦"
            ]
          },
          "metadata": {
            "tags": []
          },
          "execution_count": 62
        }
      ]
    },
    {
      "cell_type": "markdown",
      "metadata": {
        "id": "K2aTbUZaLVrf"
      },
      "source": [
        "#**Propiedades matriz inversa**\n",
        "Sea ${\\displaystyle A,B\\in {\\mathcal {M}}_{n\\times n}(\\mathbb {R} )}$ matrices invertibles y $ k\\in \\mathbb {R}$,  se cumplen las siguientes propiedades:\n",
        "\n",
        "|            PROPIEDAD           |       EXPLICACIÓN                      |\n",
        "|:------------------------------:|:--------------------------------------:|\n",
        "| Unicidad                  |$$A^{-1} \\in \\mathcal{M}_{n\\times n}(\\mathbb{R}) \\text{  y es unica}$$ |\n",
        "| Inversa del producto                   |$$(AB)^{-1} = B^{-1}A^{-1}$$|\n",
        "| Involutiva   |     $$(A^{-1})^{-1}\n",
        " = A$$                                  |\n",
        "| Inversa de un escalar por una matriz  |     $$(kA)^{-1}\n",
        " = \\dfrac{1}{k}A^{-1}$$                                  |\n",
        "\n"
      ]
    },
    {
      "cell_type": "markdown",
      "metadata": {
        "id": "qayPFJW5Q1tL"
      },
      "source": [
        "##**Verificación de las propiedades de la matriz inversa**"
      ]
    },
    {
      "cell_type": "markdown",
      "metadata": {
        "id": "qkufN_7ZQ1tT"
      },
      "source": [
        "### **Inversa del producto**\n",
        "\n",
        "$$(AB)^{-1} = B^{-1}A^{-1}$$"
      ]
    },
    {
      "cell_type": "code",
      "metadata": {
        "id": "ZuXBpBeVQ1tV"
      },
      "source": [
        ""
      ],
      "execution_count": null,
      "outputs": []
    },
    {
      "cell_type": "markdown",
      "metadata": {
        "id": "KPVJxSWvQ1tW"
      },
      "source": [
        "### **Propiedad involutiva**  \n",
        "$$(A^{-1})^{-1}$$"
      ]
    },
    {
      "cell_type": "code",
      "metadata": {
        "id": "HfgECaPfQ1tX"
      },
      "source": [
        ""
      ],
      "execution_count": null,
      "outputs": []
    },
    {
      "cell_type": "markdown",
      "metadata": {
        "id": "Ef7X2of8Q1tY"
      },
      "source": [
        "### **Inversa de un escalar por una matriz**\n",
        "\n",
        " $$(kA)^{-1}\n",
        " = \\dfrac{1}{k}A^{-1}$$                      "
      ]
    },
    {
      "cell_type": "code",
      "metadata": {
        "id": "l6-TFLP5Q1tZ"
      },
      "source": [
        ""
      ],
      "execution_count": null,
      "outputs": []
    },
    {
      "cell_type": "markdown",
      "metadata": {
        "id": "zWu8-GMVMqRQ"
      },
      "source": [
        "#**Inversa de una matriz 2 x 2**\n",
        "\n",
        "Sea ${\\displaystyle A\\in {\\mathcal {M}}_{2\\times 2}(\\mathbb {R} )}$: \n",
        "\n",
        "\n",
        "<center> <h4> Si &nbsp; &nbsp;  \n",
        "$A=\\begin{bmatrix}\n",
        "a & b  \\\\\n",
        "c & d  \\\\\n",
        "\\end{bmatrix}$ &nbsp; &nbsp; entonces &nbsp; &nbsp; \n",
        "$A^{-1}= \\dfrac{1}{ad-bc}\\begin{bmatrix}\n",
        "d & -b  \\\\\n",
        "-c & a  \\\\\n",
        "\\end{bmatrix}$ \n",
        "</h4> </center>\n",
        "\n",
        "\n",
        "donde $ad-bc \\neq 0 $ si $A$ es **invertible**.\n",
        "\n"
      ]
    },
    {
      "cell_type": "markdown",
      "metadata": {
        "id": "5nvtNqQTRYn3"
      },
      "source": [
        "### **Ejemplo 1:** "
      ]
    },
    {
      "cell_type": "code",
      "metadata": {
        "colab": {
          "base_uri": "https://localhost:8080/",
          "height": 60
        },
        "id": "aOnEvDgeLZb_",
        "outputId": "a2157932-ce79-4262-cc92-0f159650d62d"
      },
      "source": [
        "a,b,c,d = symbols(\"a b c d \")\n",
        "A = Matrix([[a,b],[c,d]])\n",
        "A**(-1)"
      ],
      "execution_count": null,
      "outputs": [
        {
          "output_type": "execute_result",
          "data": {
            "text/latex": "$\\displaystyle \\left[\\begin{matrix}\\frac{d}{a d - b c} & - \\frac{b}{a d - b c}\\\\- \\frac{c}{a d - b c} & \\frac{a}{a d - b c}\\end{matrix}\\right]$",
            "text/plain": [
              "⎡    d         -b    ⎤\n",
              "⎢─────────  ─────────⎥\n",
              "⎢a⋅d - b⋅c  a⋅d - b⋅c⎥\n",
              "⎢                    ⎥\n",
              "⎢   -c          a    ⎥\n",
              "⎢─────────  ─────────⎥\n",
              "⎣a⋅d - b⋅c  a⋅d - b⋅c⎦"
            ]
          },
          "metadata": {
            "tags": []
          },
          "execution_count": 35
        }
      ]
    },
    {
      "cell_type": "markdown",
      "metadata": {
        "id": "_nR-MyhNRxp9"
      },
      "source": [
        "### **Ejemplo 2:** "
      ]
    },
    {
      "cell_type": "code",
      "metadata": {
        "colab": {
          "base_uri": "https://localhost:8080/",
          "height": 58
        },
        "id": "hK0x8j46RzH8",
        "outputId": "2d61fc11-3fdb-46c8-f5a0-02a6f46bac62"
      },
      "source": [
        "A = Matrix([[1,2],[3,4]])\n",
        "A**(-1)"
      ],
      "execution_count": null,
      "outputs": [
        {
          "output_type": "execute_result",
          "data": {
            "text/latex": "$\\displaystyle \\left[\\begin{matrix}-2 & 1\\\\\\frac{3}{2} & - \\frac{1}{2}\\end{matrix}\\right]$",
            "text/plain": [
              "⎡-2    1  ⎤\n",
              "⎢         ⎥\n",
              "⎣3/2  -1/2⎦"
            ]
          },
          "metadata": {
            "tags": []
          },
          "execution_count": 36
        }
      ]
    },
    {
      "cell_type": "markdown",
      "metadata": {
        "id": "88NTknqPTLtq"
      },
      "source": [
        "# **MATRIZ TRASPUESTA**\n",
        "\n",
        "Sea ${\\displaystyle A\\in {\\mathcal {M}}_{n\\times m}(\\mathbb {R} )}$, una matriz cuadrada,  existe una matriz llamada ${\\displaystyle A^{T}\\in {\\mathcal {M}}_{m\\times n}(\\mathbb {R} )}$ tal que:\n",
        "\n",
        "<center> <h4> Si &nbsp; &nbsp; $A = \\left[  a_{ij} \\right]_{n \\times m}$  &nbsp; &nbsp; entonces &nbsp; &nbsp;$A^{T} = \\left[  a_{ji}  \\right]_{m \\times n} $</h4>\n",
        "\n"
      ]
    },
    {
      "cell_type": "markdown",
      "metadata": {
        "id": "8GXIKE7JVcGv"
      },
      "source": [
        "### **Ejemplo: matriz traspuesta**\n",
        "\n",
        "\n",
        "\n",
        "Encuentra la matriz $A^{T} $  de la matriz :\n",
        "\n",
        "$$A=\\begin{bmatrix}\n",
        "5 & 4  \\\\\n",
        "3 & 6  \\\\\n",
        "1 & 0  \\\\\n",
        "\\end{bmatrix}\n",
        "$$"
      ]
    },
    {
      "cell_type": "markdown",
      "metadata": {
        "id": "PdbaPlodXLtr"
      },
      "source": [
        "### **Forma 1:** "
      ]
    },
    {
      "cell_type": "code",
      "metadata": {
        "colab": {
          "base_uri": "https://localhost:8080/",
          "height": 58
        },
        "id": "FX-zlny1VcHR",
        "outputId": "0c0438bd-5a1f-4267-d8df-fce85d706c5a"
      },
      "source": [
        "A = Matrix([[5,4],[3,6],[1,0]])\n",
        "A.T"
      ],
      "execution_count": null,
      "outputs": [
        {
          "output_type": "execute_result",
          "data": {
            "text/latex": "$\\displaystyle \\left[\\begin{matrix}5 & 3 & 1\\\\4 & 6 & 0\\end{matrix}\\right]$",
            "text/plain": [
              "⎡5  3  1⎤\n",
              "⎢       ⎥\n",
              "⎣4  6  0⎦"
            ]
          },
          "metadata": {
            "tags": []
          },
          "execution_count": 39
        }
      ]
    },
    {
      "cell_type": "markdown",
      "metadata": {
        "id": "VjXLu3kFXPcW"
      },
      "source": [
        "### **Forma 2:** "
      ]
    },
    {
      "cell_type": "code",
      "metadata": {
        "colab": {
          "base_uri": "https://localhost:8080/",
          "height": 58
        },
        "id": "1MFtqKD_TQ-H",
        "outputId": "35d4c893-5785-4778-ae76-1bfdf5e4519d"
      },
      "source": [
        "A = Matrix([[5,4],[3,6],[1,0]])\n",
        "transpose(A)"
      ],
      "execution_count": null,
      "outputs": [
        {
          "output_type": "execute_result",
          "data": {
            "text/latex": "$\\displaystyle \\left[\\begin{matrix}5 & 3 & 1\\\\4 & 6 & 0\\end{matrix}\\right]$",
            "text/plain": [
              "⎡5  3  1⎤\n",
              "⎢       ⎥\n",
              "⎣4  6  0⎦"
            ]
          },
          "metadata": {
            "tags": []
          },
          "execution_count": 42
        }
      ]
    },
    {
      "cell_type": "markdown",
      "metadata": {
        "id": "enHXYmPrXjnG"
      },
      "source": [
        "### **Forma 3:** "
      ]
    },
    {
      "cell_type": "code",
      "metadata": {
        "colab": {
          "base_uri": "https://localhost:8080/",
          "height": 58
        },
        "id": "0YnEzJ7zXjng",
        "outputId": "d82b3c6c-5e01-4285-9b46-b5aa085ef086"
      },
      "source": [
        "A = Matrix([[5,4],[3,6],[1,0]])\n",
        "Transpose(A).doit()"
      ],
      "execution_count": null,
      "outputs": [
        {
          "output_type": "execute_result",
          "data": {
            "text/latex": "$\\displaystyle \\left[\\begin{matrix}5 & 3 & 1\\\\4 & 6 & 0\\end{matrix}\\right]$",
            "text/plain": [
              "⎡5  3  1⎤\n",
              "⎢       ⎥\n",
              "⎣4  6  0⎦"
            ]
          },
          "metadata": {
            "tags": []
          },
          "execution_count": 43
        }
      ]
    },
    {
      "cell_type": "markdown",
      "metadata": {
        "id": "xPX5d_5OYVgM"
      },
      "source": [
        "# **Propiedades matriz traspuesta**\n",
        "Sea ${\\displaystyle A,B\\in {\\mathcal {M}}_{n\\times n}(\\mathbb {R} )}$ matrices invertibles y $ k\\in \\mathbb {R}$,  se cumplen las siguientes propiedades:\n",
        "\n",
        "|            PROPIEDAD           |       EXPLICACIÓN                      |\n",
        "|:------------------------------:|:--------------------------------------:|\n",
        "| Involutiva                 |$$(A^{T})^{T} = A$$ |\n",
        "| Distributiva                   |$$(A+B)^{T} = A^{T} + B^{T}$$|\n",
        "| Traspuesta del producto  |    $$(AB)^{T} = B^{T} A^{T}$$                                  |\n",
        "| Traspuesta de un escalar por una matriz  |     $$(kA)^{T}\n",
        " = {k}A^{T}$$                                  |\n",
        "\n"
      ]
    },
    {
      "cell_type": "markdown",
      "metadata": {
        "id": "Hpo9iirwRn6y"
      },
      "source": [
        "##**Verificación de las propiedades de la trasposición de matrices**"
      ]
    },
    {
      "cell_type": "markdown",
      "metadata": {
        "id": "L0HoTI8ZRn69"
      },
      "source": [
        "### **Propiedad involutiva** \n",
        "\n",
        "$$(A^{T})^{T} = A$$"
      ]
    },
    {
      "cell_type": "code",
      "metadata": {
        "id": "k9mXPurbRn67"
      },
      "source": [
        ""
      ],
      "execution_count": null,
      "outputs": []
    },
    {
      "cell_type": "markdown",
      "metadata": {
        "id": "ByPBOdpfRn66"
      },
      "source": [
        "### **Propiedad distributiva**\n",
        "\n",
        "$$(A+B)^{T} = A^{T} + B^{T}$$"
      ]
    },
    {
      "cell_type": "code",
      "metadata": {
        "id": "MQ6Ofwr3Rn6-"
      },
      "source": [
        ""
      ],
      "execution_count": null,
      "outputs": []
    },
    {
      "cell_type": "markdown",
      "metadata": {
        "id": "tcNmRC5JRn6_"
      },
      "source": [
        "### **Traspuesta del producto**\n",
        "\n",
        " $$(AB)^{T} = B^{T} A^{T}$$       "
      ]
    },
    {
      "cell_type": "code",
      "metadata": {
        "id": "mqC5H1uLRn6_"
      },
      "source": [
        ""
      ],
      "execution_count": null,
      "outputs": []
    },
    {
      "cell_type": "markdown",
      "metadata": {
        "id": "vr8BMb71SCaT"
      },
      "source": [
        "### **Traspuesta de un escalar por una matriz**\n",
        "\n",
        " $$(kA)^{T}\n",
        " = {k}A^{T}$$  "
      ]
    },
    {
      "cell_type": "code",
      "metadata": {
        "id": "dr8fiAw1SCaU"
      },
      "source": [
        ""
      ],
      "execution_count": null,
      "outputs": []
    },
    {
      "cell_type": "markdown",
      "metadata": {
        "id": "ZZ_Cd90jdowj"
      },
      "source": [
        "#**Definición de matriz simétrica**\n",
        "\n",
        "Sea ${\\displaystyle A,\\in {\\mathcal {M}}_{n\\times n}(\\mathbb {R} )}$ :\n",
        "\n",
        "<center> <h4> Si &nbsp; &nbsp; $A^{T} = A$ &nbsp; o &nbsp;  $A^{T}-A=0$ &nbsp; &nbsp; entonces &nbsp; &nbsp; $A$ es una matriz simétrica</h4>\n",
        "\n"
      ]
    },
    {
      "cell_type": "markdown",
      "metadata": {
        "id": "6zHfzCT_jj6W"
      },
      "source": [
        "### **Ejemplo: matriz simétrica**\n",
        "\n",
        "Pruebe si la matriz $A$ es simétrica :\n",
        "\n",
        "$$A=\\begin{bmatrix}\n",
        "-8 & 1 & 3 \\\\\n",
        "1 & 7 & 4 \\\\\n",
        "3 & 4 & 9  \\\\\n",
        "\\end{bmatrix}$$\n"
      ]
    },
    {
      "cell_type": "code",
      "metadata": {
        "colab": {
          "base_uri": "https://localhost:8080/",
          "height": 78
        },
        "id": "nrLym4bUds0O",
        "outputId": "ae334b98-44dc-48da-d3b6-6ceed3da822f"
      },
      "source": [
        "A = Matrix([[-8,1,3],[1,7,4],[3,4,9]])\n",
        "A.T - A"
      ],
      "execution_count": null,
      "outputs": [
        {
          "output_type": "execute_result",
          "data": {
            "text/latex": "$\\displaystyle \\left[\\begin{matrix}0 & 0 & 0\\\\0 & 0 & 0\\\\0 & 0 & 0\\end{matrix}\\right]$",
            "text/plain": [
              "⎡0  0  0⎤\n",
              "⎢       ⎥\n",
              "⎢0  0  0⎥\n",
              "⎢       ⎥\n",
              "⎣0  0  0⎦"
            ]
          },
          "metadata": {
            "tags": []
          },
          "execution_count": 47
        }
      ]
    },
    {
      "cell_type": "markdown",
      "metadata": {
        "id": "3pX8Ntn-lAR5"
      },
      "source": [
        "#**Definición de matriz antisimétrica**\n",
        "\n",
        "Sea ${\\displaystyle A,\\in {\\mathcal {M}}_{n\\times n}(\\mathbb {R} )}$ :\n",
        "\n",
        "<center> <h4> Si &nbsp; &nbsp; $A^{T}= -A$ &nbsp; o &nbsp;  $A^{T}+A=0$ &nbsp; &nbsp; entonces &nbsp; &nbsp; $A$ es una matriz antisimétrica</h4>\n",
        "\n"
      ]
    },
    {
      "cell_type": "markdown",
      "metadata": {
        "id": "Rm9WiZ88lAST"
      },
      "source": [
        "### **Ejemplo: matriz antisimétrica**\n",
        "\n",
        "Pruebe si la matriz $A$ es antisimétrica :\n",
        "\n",
        "$$A=\\begin{bmatrix}\n",
        "-8 & 1 & 3 \\\\\n",
        "1 & 7 & 4 \\\\\n",
        "3 & 4 & 9  \\\\\n",
        "\\end{bmatrix}$$\n"
      ]
    },
    {
      "cell_type": "code",
      "metadata": {
        "colab": {
          "base_uri": "https://localhost:8080/",
          "height": 78
        },
        "id": "YPENPuAZlASV",
        "outputId": "d8b723f9-c8f1-4c21-e566-2428dc04a7e2"
      },
      "source": [
        "A = Matrix([[0,-2,4],[2,0,2],[-4,-2,0]])\n",
        "A.T + A"
      ],
      "execution_count": null,
      "outputs": [
        {
          "output_type": "execute_result",
          "data": {
            "text/latex": "$\\displaystyle \\left[\\begin{matrix}0 & 0 & 0\\\\0 & 0 & 0\\\\0 & 0 & 0\\end{matrix}\\right]$",
            "text/plain": [
              "⎡0  0  0⎤\n",
              "⎢       ⎥\n",
              "⎢0  0  0⎥\n",
              "⎢       ⎥\n",
              "⎣0  0  0⎦"
            ]
          },
          "metadata": {
            "tags": []
          },
          "execution_count": 49
        }
      ]
    },
    {
      "cell_type": "markdown",
      "metadata": {
        "id": "4gIgU4Q1d5uA"
      },
      "source": [
        "# **ECUACIONES MATRICIALES**"
      ]
    },
    {
      "cell_type": "markdown",
      "metadata": {
        "id": "RVUq5v8hF9RH"
      },
      "source": [
        "Dadas las matrices:\n",
        "\n",
        "$$A=\\begin{bmatrix}\n",
        "2  & -5 & 3\\\\\n",
        "4  & -7 & 4\\\\\n",
        "1  & -3 & -5\\\\\n",
        "\\end{bmatrix}\n",
        "\\hspace{1cm}\n",
        "B=\\begin{bmatrix}\n",
        "2  & -5 & 3\\\\\n",
        "4  & -7 & 4\\\\\n",
        "1  & -3 & -5\\\\\n",
        "\\end{bmatrix}\n",
        "\\hspace{1cm}\n",
        "C=\\begin{bmatrix}\n",
        "4  & -5 & 3\\\\\n",
        "3 & -7 & 7\\\\\n",
        "1  & 2 & -5\\\\\n",
        "\\end{bmatrix}\n",
        "$$\n",
        "\n",
        "Encuentra la matriz $X$ que resuelve la ecuación:\n",
        "\n",
        "$$AX + B = C$$\n",
        "\n"
      ]
    },
    {
      "cell_type": "code",
      "metadata": {
        "colab": {
          "base_uri": "https://localhost:8080/",
          "height": 78
        },
        "id": "UuT4NiDXIe-D",
        "outputId": "8b44a2b2-bcad-4501-9f6d-7aa14ca9bf7b"
      },
      "source": [
        "A = Matrix([[2,-5,3],[4,-7,4],[1,-3,-5]])\n",
        "B = Matrix([[2,-5,3],[4,-7,4],[1,-3,-5]])\n",
        "C = Matrix([[4,-5,3],[3,-7,7],[1,2,-5]])\n",
        "\n",
        "X = A**(-1)*(C-B)\n",
        "X\n"
      ],
      "execution_count": null,
      "outputs": [
        {
          "output_type": "execute_result",
          "data": {
            "text/latex": "$\\displaystyle \\left[\\begin{matrix}- \\frac{128}{41} & - \\frac{5}{41} & \\frac{102}{41}\\\\- \\frac{61}{41} & - \\frac{20}{41} & \\frac{39}{41}\\\\\\frac{11}{41} & - \\frac{30}{41} & - \\frac{3}{41}\\end{matrix}\\right]$",
            "text/plain": [
              "⎡-128           102 ⎤\n",
              "⎢─────  -5/41   ─── ⎥\n",
              "⎢  41            41 ⎥\n",
              "⎢                   ⎥\n",
              "⎢-61    -20     39  ⎥\n",
              "⎢────   ────    ──  ⎥\n",
              "⎢ 41     41     41  ⎥\n",
              "⎢                   ⎥\n",
              "⎢ 11    -30         ⎥\n",
              "⎢ ──    ────   -3/41⎥\n",
              "⎣ 41     41         ⎦"
            ]
          },
          "metadata": {
            "tags": []
          },
          "execution_count": 22
        }
      ]
    },
    {
      "cell_type": "markdown",
      "metadata": {
        "id": "OdQeYNbEaz6I"
      },
      "source": [
        "# **RESOLUCIÓN DE SISTEMAS DE ECUACIONES USANDO LA MATRIZ INVERSA**\n",
        "Resuelva el  siguiente sistema utilizando la matriz inversa\n",
        "\n",
        "$$\\left\\{\n",
        "\\begin{array}{rcl}\n",
        "     2x+ 4y+6z  & = & 18\n",
        "  \\\\ 4x+ 5y+6z & = & 24\n",
        "  \\\\ 3x+y-2z & = & 4\n",
        "\\end{array}\n",
        "\\right.$$\n",
        "\n",
        "que se puede reescribir  como $AX = B$  donde :\n",
        "\n",
        "$$A=\\begin{bmatrix}\n",
        "2  & 4 & 6\\\\\n",
        "4  & 5 & 6\\\\\n",
        "3  & 1 & -2\\\\\n",
        "\\end{bmatrix}\n",
        "\\hspace{1cm}\n",
        "B=\\begin{bmatrix}\n",
        "18  \\\\\n",
        "24  \\\\\n",
        "4 \\\\\n",
        "\\end{bmatrix}\n",
        "\\hspace{1cm}\n",
        "X=\\begin{bmatrix}\n",
        "x  \\\\\n",
        "y  \\\\\n",
        "z \\\\\n",
        "\\end{bmatrix}$$"
      ]
    },
    {
      "cell_type": "code",
      "metadata": {
        "colab": {
          "base_uri": "https://localhost:8080/",
          "height": 78
        },
        "id": "G2U2as3QfKYN",
        "outputId": "2adf78cf-033a-40d6-ce35-eddf055944de"
      },
      "source": [
        "A = Matrix([[2,4,6],[4,5,6],[3,1,-2]])\n",
        "B = Matrix(3,1,[18,24,4])\n",
        "X = A**(-1)*B \n",
        "X"
      ],
      "execution_count": null,
      "outputs": [
        {
          "output_type": "execute_result",
          "data": {
            "text/latex": "$\\displaystyle \\left[\\begin{matrix}4\\\\-2\\\\3\\end{matrix}\\right]$",
            "text/plain": [
              "⎡4 ⎤\n",
              "⎢  ⎥\n",
              "⎢-2⎥\n",
              "⎢  ⎥\n",
              "⎣3 ⎦"
            ]
          },
          "metadata": {
            "tags": []
          },
          "execution_count": 28
        }
      ]
    },
    {
      "cell_type": "markdown",
      "metadata": {
        "id": "Kwz-5QwIsj6F"
      },
      "source": [
        "## **verificación con la función solve**"
      ]
    },
    {
      "cell_type": "code",
      "metadata": {
        "colab": {
          "base_uri": "https://localhost:8080/",
          "height": 38
        },
        "id": "igimf4U7rXVj",
        "outputId": "e331a7e2-64dd-4616-e9e8-c4040ef1b452"
      },
      "source": [
        "solve( [ 2*x + 4*y + 6*z -18, 4*x + 5*y +6*z -24, 3*x + y - 2*z - 4], [x, y, z])"
      ],
      "execution_count": null,
      "outputs": [
        {
          "output_type": "execute_result",
          "data": {
            "image/png": "[encoded data removed]",
            "text/latex": "$\\displaystyle \\left\\{ x : 4, \\  y : -2, \\  z : 3\\right\\}$",
            "text/plain": [
              "{x: 4, y: -2, z: 3}"
            ]
          },
          "metadata": {
            "tags": []
          },
          "execution_count": 29
        }
      ]
    },
    {
      "cell_type": "markdown",
      "metadata": {
        "id": "4BW-ChHG6M2j"
      },
      "source": [
        "#**MÉTODO DE MÍNIMOS CUADRADOS**\n",
        "\n",
        "Dados los datos que se encuentran en la siguiente tabla:\n",
        "\n",
        "| $\\large{x}$ |  $x_{1}$  | $x_{2}$   | $\\cdots$   |$x_{n-1}$   | $x_{n}$   |\n",
        "|:-:|:-:|:-:|:-:|:-:|:-:|\n",
        "| $\\large{y}$ |  $y_{1}$  |  $y_{2}$  | $\\cdots$   | $y_{n-1}$  | $y_{n}$  |\n",
        "\n",
        "El procedimiento para encontrar los valores de $m$ y $b$ para determinar la ecuación de recta $y = mx+b$ que mejor se ajusta a los datos presentados en la tabla recibe el nombre de *aproximación por mínimos cuadrados*.\n",
        "\n",
        "\n",
        "\n",
        "<center> <img src=\"https://i.ibb.co/tpSzbMv/imafinal.png\" alt=\"imafinal\" border=\"0\" width =\"450\">\n",
        " </center>\n",
        "\n",
        "\n",
        "Definimos inicialmente las matrices $y$ , $A$ y $U$ de la siguiente manera:\n",
        "\n",
        "$$y=\\begin{bmatrix}\n",
        "y_{1}  \\\\\n",
        "y_{2} \\\\\n",
        "\\vdots  \\\\\n",
        "y_{n}  \\\\\n",
        "y_{n-1} \\\\\n",
        "\\end{bmatrix}\n",
        "\\hspace{1cm}\n",
        "A=\\begin{bmatrix}\n",
        "1&x_{1}  \\\\\n",
        "1&x_{2} \\\\\n",
        "\\vdots  \\\\\n",
        "1&x_{n}  \\\\\n",
        "1&x_{n-1} \\\\\n",
        "\\end{bmatrix}\n",
        "\\hspace{1cm}\n",
        "U=\\begin{bmatrix}\n",
        "b  \\\\\n",
        "m \\\\\n",
        "\\end{bmatrix}\n",
        "$$\n",
        "\n",
        "Para determinar las entradas de la matriz $U$ que permitiran encontar la ecuación de la recta $y = mx +b$ de mejor ajuste, debemos usar la siguiente fórmula matricial:\n",
        "$$U=(A^{T}A)^{-1}A^Ty$$"
      ]
    },
    {
      "cell_type": "markdown",
      "metadata": {
        "id": "mPv65dfdOVUj"
      },
      "source": [
        "### **Ejemplo: aproximación usando el método de mínimos cuadrados**\n",
        "\n",
        "Encuentra la recta de mejor ajuste para los datos  que se presentan en la siguiente tabla:\n",
        "\n",
        "| $\\large{x}$ |  $21$  | $29$   | $34$   |$42$   | $50$   | \n",
        "|:-:|:-:|:-:|:-:|:-:|:-:|\n",
        "| $\\large{y}$ |  $59$  |  $60$ | $61$   | $62$  |$63$  |\n"
      ]
    },
    {
      "cell_type": "code",
      "metadata": {
        "colab": {
          "base_uri": "https://localhost:8080/",
          "height": 58
        },
        "id": "0Co2OJTSOVUk",
        "outputId": "03fbeaec-3b38-4236-a326-ac6c0e0a28e1"
      },
      "source": [
        "# Ingresamos como listas las componentes x y y del los puntos\n",
        "X = [21,29,34,42,50]\n",
        "Y = [59,60,61,62,63]\n",
        "\n",
        "# contamos el número de puntos\n",
        "n = len(X)\n",
        "\n",
        "#Contruimos las matrices\n",
        "A = ones(n,1).row_join(Matrix(n,1,X))\n",
        "y = Matrix(n,1,Y)\n",
        "\n",
        "# Hallamos la matriz U\n",
        "U = (A.T*A)**(-1)*A.T*y\n",
        "U"
      ],
      "execution_count": 50,
      "outputs": [
        {
          "output_type": "execute_result",
          "data": {
            "text/latex": "$\\displaystyle \\left[\\begin{matrix}\\frac{71039}{1267}\\\\\\frac{355}{2534}\\end{matrix}\\right]$",
            "text/plain": [
              "⎡71039⎤\n",
              "⎢─────⎥\n",
              "⎢ 1267⎥\n",
              "⎢     ⎥\n",
              "⎢355  ⎥\n",
              "⎢──── ⎥\n",
              "⎣2534 ⎦"
            ]
          },
          "metadata": {
            "tags": []
          },
          "execution_count": 50
        }
      ]
    },
    {
      "cell_type": "code",
      "metadata": {
        "colab": {
          "base_uri": "https://localhost:8080/",
          "height": 295
        },
        "id": "ODbjsqw46YDf",
        "outputId": "b4e5b4aa-e924-4a23-d843-96e7a4db86de"
      },
      "source": [
        "import matplotlib\n",
        "import matplotlib.pyplot as plt\n",
        "import numpy as np\n",
        "\n",
        "#Extraemos los parámetros b y m de la matriz U\n",
        "b = U[0]\n",
        "m = U[1]\n",
        "\n",
        "#Se realiza la grafica de la recta de ajuste.\n",
        "x = np.arange(min(X),max(X),0.1)\n",
        "plt.plot(x, m*x+b, label='Recta de ajuste')\n",
        "\n",
        "#Se realiza el diagrama de dispersión de los puntos\n",
        "plt.scatter(X,Y, label='Datos')\n",
        "\n",
        "# Se nombran los ejes y asigna el titulo del grafico\n",
        "plt.xlabel(\"x\")\n",
        "plt.ylabel(\"y\")\n",
        "plt.title(\"Diagrama de dispersión\")\n",
        "plt.legend()\n",
        "\n",
        "# Muestra el gráfico\n",
        "plt.show()\n"
      ],
      "execution_count": 52,
      "outputs": [
        {
          "output_type": "display_data",
          "data": {
            "image/png": "[encoded data removed]",
            "text/plain": [
              "<Figure size 432x288 with 1 Axes>"
            ]
          },
          "metadata": {
            "tags": [],
            "needs_background": "light"
          }
        }
      ]
    }
  ]
}