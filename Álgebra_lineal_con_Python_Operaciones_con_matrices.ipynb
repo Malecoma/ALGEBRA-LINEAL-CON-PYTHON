{
  "nbformat": 4,
  "nbformat_minor": 0,
  "metadata": {
    "colab": {
      "name": "Álgebra lineal con Python- Operaciones con matrices.ipynb",
      "provenance": [],
      "collapsed_sections": [],
      "include_colab_link": true
    },
    "kernelspec": {
      "name": "python3",
      "display_name": "Python 3"
    }
  },
  "cells": [
    {
      "cell_type": "markdown",
      "metadata": {
        "id": "view-in-github",
        "colab_type": "text"
      },
      "source": [
        "<a href=\"https://colab.research.google.com/github/josorio398/ALGEBRA-LINEAL-CON-PYTHON/blob/master/%C3%81lgebra_lineal_con_Python_Operaciones_con_matrices.ipynb\" target=\"_parent\"><img src=\"https://colab.research.google.com/assets/colab-badge.svg\" alt=\"Open In Colab\"/></a>"
      ]
    },
    {
      "cell_type": "markdown",
      "metadata": {
        "id": "RVxHpsbcExUD"
      },
      "source": [
        "<p><img alt=\"logo.fua\" height=\"100px\" src=\"https://www.uamerica.edu.co/wp-content/images/escudo.png\" align=\"left\" hspace=\"10px\" vspace=\"0px\"></p>\n",
        "\n",
        "<p><img alt=\"logo.fua\" height=\"26px\" src=\"https://mirrors.creativecommons.org/presskit/buttons/88x31/svg/by-nd.svg\" align=\"right\" hspace=\"0px\" vspace=\"11px\"></p>\n",
        "\n",
        "\n",
        "# <center> <font size=\"6\">**ÁLGEBRA LINEAL CON PYTHON** <center>*Jhonny Osorio Gallego* &nbsp; &nbsp; &nbsp;<p></font> "
      ]
    },
    {
      "cell_type": "markdown",
      "metadata": {
        "id": "pELON3yz_46g"
      },
      "source": [
        "#**ÁLGEBRA MATRICIAL**\n",
        "\n",
        "\n",
        "\n"
      ]
    },
    {
      "cell_type": "markdown",
      "metadata": {
        "id": "U515Q-sM2m9k"
      },
      "source": [
        "##**LIBRERÍA SIMBÓLICA SYMPY**\n",
        "**SymPy** es una biblioteca de Python para matemáticas simbólicas. Su objetivo es convertirse en un sistema de álgebra computacional (CAS) con todas las funciones, manteniendo el código lo más simple posible para que sea comprensible y fácilmente extensible. SymPy está escrito completamente en Python.[sympy.org](https://www.sympy.org/en/index.html)"
      ]
    },
    {
      "cell_type": "code",
      "metadata": {
        "id": "4wHJ9dZ3405h"
      },
      "source": [
        "from sympy import *\n",
        "init_printing() \n",
        "x,y,z,w,a,b = symbols(\"x y z w a b \")\n",
        "A,B,C = symbols(\"A B C \")"
      ],
      "execution_count": 1,
      "outputs": []
    },
    {
      "cell_type": "markdown",
      "metadata": {
        "id": "7W2a1nKcMwME"
      },
      "source": [
        "#**DEFINICIÓN DE MATRICES EN PYTHON**\n",
        "\n",
        "Define la siguente matriz en el módulo **SymPy**:\n",
        "\n",
        "$$A=\\begin{bmatrix}\n",
        "5 & 4 & 6 & 7 \\\\\n",
        "3 & 5 & 8 & 9 \\\\\n",
        "1 & 5 & 1 & 3 \\\\\n",
        "\\end{bmatrix}$$"
      ]
    },
    {
      "cell_type": "markdown",
      "metadata": {
        "id": "DJ9HtXdzOPAT"
      },
      "source": [
        "### **Forma 1:** "
      ]
    },
    {
      "cell_type": "code",
      "metadata": {
        "colab": {
          "base_uri": "https://localhost:8080/",
          "height": 78
        },
        "id": "FEniaiZiOON8",
        "outputId": "d821a4f9-6319-48a8-8608-2ccb5ec7aa48"
      },
      "source": [
        "A = Matrix([[5,4,6,7],[3,5,8,9],[1,5,1,3]])\n",
        "A"
      ],
      "execution_count": null,
      "outputs": [
        {
          "output_type": "execute_result",
          "data": {
            "text/latex": "$\\displaystyle \\left[\\begin{matrix}5 & 4 & 6 & 7\\\\3 & 5 & 8 & 9\\\\1 & 5 & 1 & 3\\end{matrix}\\right]$",
            "text/plain": [
              "⎡5  4  6  7⎤\n",
              "⎢          ⎥\n",
              "⎢3  5  8  9⎥\n",
              "⎢          ⎥\n",
              "⎣1  5  1  3⎦"
            ]
          },
          "metadata": {
            "tags": []
          },
          "execution_count": 2
        }
      ]
    },
    {
      "cell_type": "markdown",
      "metadata": {
        "id": "HDepGi8sOku4"
      },
      "source": [
        "### **Forma 2:** "
      ]
    },
    {
      "cell_type": "code",
      "metadata": {
        "colab": {
          "base_uri": "https://localhost:8080/",
          "height": 78
        },
        "id": "hDHRrXx1Mvn1",
        "outputId": "9baa2b33-42a0-4134-b011-2a9a395042ad"
      },
      "source": [
        "A = Matrix(3,4, [5,4,6,7,3,5,8,9,1,5,1,3])\n",
        "A"
      ],
      "execution_count": null,
      "outputs": [
        {
          "output_type": "execute_result",
          "data": {
            "text/latex": "$\\displaystyle \\left[\\begin{matrix}5 & 4 & 6 & 7\\\\3 & 5 & 8 & 9\\\\1 & 5 & 1 & 3\\end{matrix}\\right]$",
            "text/plain": [
              "⎡5  4  6  7⎤\n",
              "⎢          ⎥\n",
              "⎢3  5  8  9⎥\n",
              "⎢          ⎥\n",
              "⎣1  5  1  3⎦"
            ]
          },
          "metadata": {
            "tags": []
          },
          "execution_count": 3
        }
      ]
    },
    {
      "cell_type": "markdown",
      "metadata": {
        "id": "jHlzvvH5PEKE"
      },
      "source": [
        "# **TIPOS DE MATRICES**\n",
        "\n",
        "##**Matriz rectangular:** es una matriz que tiene distinto número de filas que de columnas.\n",
        "\n",
        "### **Forma 1:** "
      ]
    },
    {
      "cell_type": "code",
      "metadata": {
        "colab": {
          "base_uri": "https://localhost:8080/",
          "height": 98
        },
        "id": "5flhY39fPphg",
        "outputId": "cc108990-1717-4316-fe89-847bc46304fd"
      },
      "source": [
        "A = Matrix([[3,4,5],[5,6,7],[3,4,5], [2,3,4]])\n",
        "A"
      ],
      "execution_count": null,
      "outputs": [
        {
          "output_type": "execute_result",
          "data": {
            "text/latex": "$\\displaystyle \\left[\\begin{matrix}3 & 4 & 5\\\\5 & 6 & 7\\\\3 & 4 & 5\\\\2 & 3 & 4\\end{matrix}\\right]$",
            "text/plain": [
              "⎡3  4  5⎤\n",
              "⎢       ⎥\n",
              "⎢5  6  7⎥\n",
              "⎢       ⎥\n",
              "⎢3  4  5⎥\n",
              "⎢       ⎥\n",
              "⎣2  3  4⎦"
            ]
          },
          "metadata": {
            "tags": []
          },
          "execution_count": 4
        }
      ]
    },
    {
      "cell_type": "markdown",
      "metadata": {
        "id": "O_Bgdtu1QFUA"
      },
      "source": [
        "### **Forma 2:**  *rectangular aleatoria*\n",
        "\n",
        "\n"
      ]
    },
    {
      "cell_type": "code",
      "metadata": {
        "colab": {
          "base_uri": "https://localhost:8080/",
          "height": 78
        },
        "id": "oVYFvhogiC2e",
        "outputId": "3d76a3cb-97b4-49f9-b1b7-c0a36aba3548"
      },
      "source": [
        "A = randMatrix(3,6,min=-5, max=5)\n",
        "A"
      ],
      "execution_count": null,
      "outputs": [
        {
          "output_type": "execute_result",
          "data": {
            "text/latex": "$\\displaystyle \\left[\\begin{matrix}2 & 2 & 5 & -1 & -4 & -2\\\\-1 & 4 & -1 & 2 & -2 & -3\\\\-2 & -2 & -3 & -1 & -1 & 4\\end{matrix}\\right]$",
            "text/plain": [
              "⎡2   2   5   -1  -4  -2⎤\n",
              "⎢                      ⎥\n",
              "⎢-1  4   -1  2   -2  -3⎥\n",
              "⎢                      ⎥\n",
              "⎣-2  -2  -3  -1  -1  4 ⎦"
            ]
          },
          "metadata": {
            "tags": []
          },
          "execution_count": 5
        }
      ]
    },
    {
      "cell_type": "markdown",
      "metadata": {
        "id": "hEWlUHz1QL1R"
      },
      "source": [
        "\n",
        "## **Matriz cuadrada:** es una matriz que tiene igual número de filas que de columnas.\n",
        "\n",
        "### **Forma 1:** "
      ]
    },
    {
      "cell_type": "code",
      "metadata": {
        "colab": {
          "base_uri": "https://localhost:8080/",
          "height": 78
        },
        "id": "ell15niJQjP5",
        "outputId": "114d9346-c402-48fd-e975-23cc5689fb77"
      },
      "source": [
        "A = Matrix([[3,4,4],[5,6,7],[3,4,5]])\n",
        "A"
      ],
      "execution_count": null,
      "outputs": [
        {
          "output_type": "execute_result",
          "data": {
            "text/latex": "$\\displaystyle \\left[\\begin{matrix}3 & 4 & 4\\\\5 & 6 & 7\\\\3 & 4 & 5\\end{matrix}\\right]$",
            "text/plain": [
              "⎡3  4  4⎤\n",
              "⎢       ⎥\n",
              "⎢5  6  7⎥\n",
              "⎢       ⎥\n",
              "⎣3  4  5⎦"
            ]
          },
          "metadata": {
            "tags": []
          },
          "execution_count": 6
        }
      ]
    },
    {
      "cell_type": "markdown",
      "metadata": {
        "id": "H4gj24YQR6vQ"
      },
      "source": [
        "### **Forma 2:**  *cuadrada aleatoria*"
      ]
    },
    {
      "cell_type": "code",
      "metadata": {
        "colab": {
          "base_uri": "https://localhost:8080/",
          "height": 98
        },
        "id": "oy2ZHLaxi9Vf",
        "outputId": "e7dc744c-4056-4bb3-a53b-29b49a96c79d"
      },
      "source": [
        "A = randMatrix(4, min=-10, max=10)\n",
        "A"
      ],
      "execution_count": null,
      "outputs": [
        {
          "output_type": "execute_result",
          "data": {
            "text/latex": "$\\displaystyle \\left[\\begin{matrix}3 & -1 & -7 & -1\\\\2 & -7 & -5 & -7\\\\-7 & -2 & 5 & -4\\\\0 & -3 & 2 & -5\\end{matrix}\\right]$",
            "text/plain": [
              "⎡3   -1  -7  -1⎤\n",
              "⎢              ⎥\n",
              "⎢2   -7  -5  -7⎥\n",
              "⎢              ⎥\n",
              "⎢-7  -2  5   -4⎥\n",
              "⎢              ⎥\n",
              "⎣0   -3  2   -5⎦"
            ]
          },
          "metadata": {
            "tags": []
          },
          "execution_count": 7
        }
      ]
    },
    {
      "cell_type": "markdown",
      "metadata": {
        "id": "ZObd6LcWQL_3"
      },
      "source": [
        "## **Matriz nula:** es una matriz con todos sus entradas iguales a cero."
      ]
    },
    {
      "cell_type": "code",
      "metadata": {
        "colab": {
          "base_uri": "https://localhost:8080/",
          "height": 78
        },
        "id": "jEMD1iPtU05y",
        "outputId": "9bb77a1b-4274-4c1c-e068-f0f3e6d7dff2"
      },
      "source": [
        "A = zeros(3,4)\n",
        "A"
      ],
      "execution_count": null,
      "outputs": [
        {
          "output_type": "execute_result",
          "data": {
            "text/latex": "$\\displaystyle \\left[\\begin{matrix}0 & 0 & 0 & 0\\\\0 & 0 & 0 & 0\\\\0 & 0 & 0 & 0\\end{matrix}\\right]$",
            "text/plain": [
              "⎡0  0  0  0⎤\n",
              "⎢          ⎥\n",
              "⎢0  0  0  0⎥\n",
              "⎢          ⎥\n",
              "⎣0  0  0  0⎦"
            ]
          },
          "metadata": {
            "tags": []
          },
          "execution_count": 8
        }
      ]
    },
    {
      "cell_type": "code",
      "metadata": {
        "colab": {
          "base_uri": "https://localhost:8080/",
          "height": 98
        },
        "id": "pWFkZ6QDT-xJ",
        "outputId": "fb70543d-8ab3-45d4-9158-25e6ed3a2ac4"
      },
      "source": [
        "A = zeros(4)\n",
        "A"
      ],
      "execution_count": null,
      "outputs": [
        {
          "output_type": "execute_result",
          "data": {
            "text/latex": "$\\displaystyle \\left[\\begin{matrix}0 & 0 & 0 & 0\\\\0 & 0 & 0 & 0\\\\0 & 0 & 0 & 0\\\\0 & 0 & 0 & 0\\end{matrix}\\right]$",
            "text/plain": [
              "⎡0  0  0  0⎤\n",
              "⎢          ⎥\n",
              "⎢0  0  0  0⎥\n",
              "⎢          ⎥\n",
              "⎢0  0  0  0⎥\n",
              "⎢          ⎥\n",
              "⎣0  0  0  0⎦"
            ]
          },
          "metadata": {
            "tags": []
          },
          "execution_count": 9
        }
      ]
    },
    {
      "cell_type": "markdown",
      "metadata": {
        "id": "pL77o-QrVAgO"
      },
      "source": [
        "## **Matriz identidad:** es una matriz que cumple la propiedad de ser el elemento neutro del producto de matrices, es cuadrada , su diagonal principal tiene entrada uno y las demas entradas cero."
      ]
    },
    {
      "cell_type": "code",
      "metadata": {
        "colab": {
          "base_uri": "https://localhost:8080/",
          "height": 98
        },
        "id": "ZUKA6df8VpQ1",
        "outputId": "039c6eaa-acc6-4b59-8ca8-70d70ab553e3"
      },
      "source": [
        "A= eye(4)\n",
        "A"
      ],
      "execution_count": null,
      "outputs": [
        {
          "output_type": "execute_result",
          "data": {
            "text/latex": "$\\displaystyle \\left[\\begin{matrix}1 & 0 & 0 & 0\\\\0 & 1 & 0 & 0\\\\0 & 0 & 1 & 0\\\\0 & 0 & 0 & 1\\end{matrix}\\right]$",
            "text/plain": [
              "⎡1  0  0  0⎤\n",
              "⎢          ⎥\n",
              "⎢0  1  0  0⎥\n",
              "⎢          ⎥\n",
              "⎢0  0  1  0⎥\n",
              "⎢          ⎥\n",
              "⎣0  0  0  1⎦"
            ]
          },
          "metadata": {
            "tags": []
          },
          "execution_count": 10
        }
      ]
    },
    {
      "cell_type": "markdown",
      "metadata": {
        "id": "SrcTMCw0WDQv"
      },
      "source": [
        "##**Matriz de unos:** es una matriz cuyas entradas son todas unos.\n",
        "\n",
        "\n",
        "\n"
      ]
    },
    {
      "cell_type": "code",
      "metadata": {
        "colab": {
          "base_uri": "https://localhost:8080/",
          "height": 78
        },
        "id": "2u6A0apCYg6D",
        "outputId": "c319f568-6aae-4db5-f4e7-c207c771bd89"
      },
      "source": [
        "A = ones(3,4)\n",
        "A"
      ],
      "execution_count": null,
      "outputs": [
        {
          "output_type": "execute_result",
          "data": {
            "text/latex": "$\\displaystyle \\left[\\begin{matrix}1 & 1 & 1 & 1\\\\1 & 1 & 1 & 1\\\\1 & 1 & 1 & 1\\end{matrix}\\right]$",
            "text/plain": [
              "⎡1  1  1  1⎤\n",
              "⎢          ⎥\n",
              "⎢1  1  1  1⎥\n",
              "⎢          ⎥\n",
              "⎣1  1  1  1⎦"
            ]
          },
          "metadata": {
            "tags": []
          },
          "execution_count": 11
        }
      ]
    },
    {
      "cell_type": "code",
      "metadata": {
        "colab": {
          "base_uri": "https://localhost:8080/",
          "height": 78
        },
        "id": "zVO4Lfnkkm_P",
        "outputId": "8f32aa89-f6f8-4f27-85ff-af2051cdb6a5"
      },
      "source": [
        "A  = ones(3)\n",
        "A"
      ],
      "execution_count": null,
      "outputs": [
        {
          "output_type": "execute_result",
          "data": {
            "text/latex": "$\\displaystyle \\left[\\begin{matrix}1 & 1 & 1\\\\1 & 1 & 1\\\\1 & 1 & 1\\end{matrix}\\right]$",
            "text/plain": [
              "⎡1  1  1⎤\n",
              "⎢       ⎥\n",
              "⎢1  1  1⎥\n",
              "⎢       ⎥\n",
              "⎣1  1  1⎦"
            ]
          },
          "metadata": {
            "tags": []
          },
          "execution_count": 12
        }
      ]
    },
    {
      "cell_type": "markdown",
      "metadata": {
        "id": "jDuSix7DQiFw"
      },
      "source": [
        "## **Matriz triangular superior:** es una matriz cuadrada cuyas entradas por debajo de la diagonal principal son cero."
      ]
    },
    {
      "cell_type": "code",
      "metadata": {
        "colab": {
          "base_uri": "https://localhost:8080/",
          "height": 78
        },
        "id": "YItCbgJEQe2g",
        "outputId": "129e9784-4e49-4355-bcc9-1a78a63a388a"
      },
      "source": [
        "A = Matrix([[3,1,4],[0,6,7],[0,0,5]])\n",
        "A"
      ],
      "execution_count": null,
      "outputs": [
        {
          "output_type": "execute_result",
          "data": {
            "text/latex": "$\\displaystyle \\left[\\begin{matrix}3 & 1 & 4\\\\0 & 6 & 7\\\\0 & 0 & 5\\end{matrix}\\right]$",
            "text/plain": [
              "⎡3  1  4⎤\n",
              "⎢       ⎥\n",
              "⎢0  6  7⎥\n",
              "⎢       ⎥\n",
              "⎣0  0  5⎦"
            ]
          },
          "metadata": {
            "tags": []
          },
          "execution_count": 13
        }
      ]
    },
    {
      "cell_type": "markdown",
      "metadata": {
        "id": "Tz2alzRMTLmF"
      },
      "source": [
        "## **Matriz triangular inferior:** es una matriz cuadrada cuyas entradas por encima de la diagonal principal son cero."
      ]
    },
    {
      "cell_type": "code",
      "metadata": {
        "colab": {
          "base_uri": "https://localhost:8080/",
          "height": 98
        },
        "id": "swzpOMieTX6N",
        "outputId": "163815f9-8f0d-4041-b2ab-e342e9f811ae"
      },
      "source": [
        "A = Matrix([[3,0,0,0],[5,6,0,0],[1,2,5,0], [7,-4,1,6]])\n",
        "A"
      ],
      "execution_count": null,
      "outputs": [
        {
          "output_type": "execute_result",
          "data": {
            "text/latex": "$\\displaystyle \\left[\\begin{matrix}3 & 0 & 0 & 0\\\\5 & 6 & 0 & 0\\\\1 & 2 & 5 & 0\\\\7 & -4 & 1 & 6\\end{matrix}\\right]$",
            "text/plain": [
              "⎡3  0   0  0⎤\n",
              "⎢           ⎥\n",
              "⎢5  6   0  0⎥\n",
              "⎢           ⎥\n",
              "⎢1  2   5  0⎥\n",
              "⎢           ⎥\n",
              "⎣7  -4  1  6⎦"
            ]
          },
          "metadata": {
            "tags": []
          },
          "execution_count": 14
        }
      ]
    },
    {
      "cell_type": "markdown",
      "metadata": {
        "id": "VXgUbUfjaagO"
      },
      "source": [
        "## **Matriz diagonal:** es una matriz cuadrada cuyas entradas son todas nulas excepto las de la diagonal principal.\n",
        "\n",
        "### **Forma 1:**\n"
      ]
    },
    {
      "cell_type": "code",
      "metadata": {
        "colab": {
          "base_uri": "https://localhost:8080/",
          "height": 98
        },
        "id": "zOvas8_PbdDo",
        "outputId": "dae73b7d-29a9-45c5-e854-0ad36268354a"
      },
      "source": [
        "A = Matrix([[3,0,0,0],[0,6,0,0],[0,0,5,0], [0,0,0,4]])\n",
        "A"
      ],
      "execution_count": null,
      "outputs": [
        {
          "output_type": "execute_result",
          "data": {
            "text/latex": "$\\displaystyle \\left[\\begin{matrix}3 & 0 & 0 & 0\\\\0 & 6 & 0 & 0\\\\0 & 0 & 5 & 0\\\\0 & 0 & 0 & 4\\end{matrix}\\right]$",
            "text/plain": [
              "⎡3  0  0  0⎤\n",
              "⎢          ⎥\n",
              "⎢0  6  0  0⎥\n",
              "⎢          ⎥\n",
              "⎢0  0  5  0⎥\n",
              "⎢          ⎥\n",
              "⎣0  0  0  4⎦"
            ]
          },
          "metadata": {
            "tags": []
          },
          "execution_count": 15
        }
      ]
    },
    {
      "cell_type": "markdown",
      "metadata": {
        "id": "hHRLavtkULhg"
      },
      "source": [
        "### **Forma 2:** "
      ]
    },
    {
      "cell_type": "code",
      "metadata": {
        "colab": {
          "base_uri": "https://localhost:8080/",
          "height": 98
        },
        "id": "9VsmokOiUOpX",
        "outputId": "b660964e-6e12-4ee9-b04e-058323f70b1a"
      },
      "source": [
        "A = diag(3,6,5,4)\n",
        "A"
      ],
      "execution_count": null,
      "outputs": [
        {
          "output_type": "execute_result",
          "data": {
            "text/latex": "$\\displaystyle \\left[\\begin{matrix}3 & 0 & 0 & 0\\\\0 & 6 & 0 & 0\\\\0 & 0 & 5 & 0\\\\0 & 0 & 0 & 4\\end{matrix}\\right]$",
            "text/plain": [
              "⎡3  0  0  0⎤\n",
              "⎢          ⎥\n",
              "⎢0  6  0  0⎥\n",
              "⎢          ⎥\n",
              "⎢0  0  5  0⎥\n",
              "⎢          ⎥\n",
              "⎣0  0  0  4⎦"
            ]
          },
          "metadata": {
            "tags": []
          },
          "execution_count": 16
        }
      ]
    },
    {
      "cell_type": "markdown",
      "metadata": {
        "id": "OuBwOeWVWtPN"
      },
      "source": [
        "# **FUNCIONES Y MÉTODOS SOBRE MATRICES**\n",
        "\n"
      ]
    },
    {
      "cell_type": "markdown",
      "metadata": {
        "id": "szI1VZnPXl-G"
      },
      "source": [
        "## **Tamaño de una matriz**\n",
        "\n",
        "Determina el **tamaño** de la matriz $A$  donde:\n",
        "\n",
        "$$A=\\begin{bmatrix}\n",
        "5 & 4 & 6 & 7 \\\\\n",
        "1 & 5 & 8 & 9 \\\\\n",
        "1 & 5 & 1 & 3 \\\\\n",
        "\\end{bmatrix}$$\n",
        "\n"
      ]
    },
    {
      "cell_type": "code",
      "metadata": {
        "colab": {
          "base_uri": "https://localhost:8080/",
          "height": 37
        },
        "id": "dhGuUrczX1H8",
        "outputId": "de154f1b-7898-411c-9ae0-eddc03676eab"
      },
      "source": [
        "A = Matrix([[5,4,6,7],[1,5,8,9],[1,5,1,3]])\n",
        "A.shape"
      ],
      "execution_count": null,
      "outputs": [
        {
          "output_type": "execute_result",
          "data": {
            "image/png": "[encoded data removed]",
            "text/latex": "$\\displaystyle \\left( 3, \\  4\\right)$",
            "text/plain": [
              "(3, 4)"
            ]
          },
          "metadata": {
            "tags": []
          },
          "execution_count": 17
        }
      ]
    },
    {
      "cell_type": "markdown",
      "metadata": {
        "id": "dpLV94aZX11g"
      },
      "source": [
        "## **Indexación de una entrada de la matriz**\n",
        "Extrae la entrada que se encuentra en la **fila 2** y **columna 4** de la matriz $A$  :\n",
        "\n",
        "$$A=\\begin{bmatrix}\n",
        "5 & 4 & 6 & 7 \\\\\n",
        "1 & 5 & 8 & 9 \\\\\n",
        "1 & 5 & 1 & 3 \\\\\n",
        "\\end{bmatrix}$$\n",
        "\n",
        "### **Forma 1:** "
      ]
    },
    {
      "cell_type": "code",
      "metadata": {
        "colab": {
          "base_uri": "https://localhost:8080/",
          "height": 37
        },
        "id": "45jL-T-7X4dw",
        "outputId": "57707d55-88f5-4101-e691-f06dbb680a1f"
      },
      "source": [
        "A = Matrix([[5,4,6,7],[1,5,8,9],[1,5,1,3]])\n",
        "A[1,3]"
      ],
      "execution_count": null,
      "outputs": [
        {
          "output_type": "execute_result",
          "data": {
            "image/png": "[encoded data removed]",
            "text/latex": "$\\displaystyle 9$",
            "text/plain": [
              "9"
            ]
          },
          "metadata": {
            "tags": []
          },
          "execution_count": 18
        }
      ]
    },
    {
      "cell_type": "markdown",
      "metadata": {
        "id": "m55rzn-L7Aj8"
      },
      "source": [
        "### **Forma 2:** "
      ]
    },
    {
      "cell_type": "code",
      "metadata": {
        "colab": {
          "base_uri": "https://localhost:8080/",
          "height": 37
        },
        "id": "ruGKm5Ut3vep",
        "outputId": "91672657-dec2-42e1-d93b-7be3556acf88"
      },
      "source": [
        "A = Matrix([[5,4,6,7],[1,5,8,9],[1,5,1,3]])\n",
        "A[7]"
      ],
      "execution_count": null,
      "outputs": [
        {
          "output_type": "execute_result",
          "data": {
            "image/png": "[encoded data removed]",
            "text/latex": "$\\displaystyle 9$",
            "text/plain": [
              "9"
            ]
          },
          "metadata": {
            "tags": []
          },
          "execution_count": 19
        }
      ]
    },
    {
      "cell_type": "markdown",
      "metadata": {
        "id": "_nvHV7_IVcR4"
      },
      "source": [
        "### **Forma 3:** "
      ]
    },
    {
      "cell_type": "code",
      "metadata": {
        "colab": {
          "base_uri": "https://localhost:8080/",
          "height": 37
        },
        "id": "MWEgg3koVcSX",
        "outputId": "efe5766a-9ec1-45b4-8e8d-ad95e88a1c53"
      },
      "source": [
        "A = Matrix([[5,4,6,7],[1,5,8,9],[1,5,1,3]])\n",
        "A[-5]"
      ],
      "execution_count": null,
      "outputs": [
        {
          "output_type": "execute_result",
          "data": {
            "image/png": "[encoded data removed]",
            "text/latex": "$\\displaystyle 9$",
            "text/plain": [
              "9"
            ]
          },
          "metadata": {
            "tags": []
          },
          "execution_count": 20
        }
      ]
    },
    {
      "cell_type": "markdown",
      "metadata": {
        "id": "nE7H3W8zYGSF"
      },
      "source": [
        "## **Indexación de una columna de la matriz**\n",
        "Extrae la **columna 2** de la matriz $A$  donde:\n",
        "\n",
        "$$A=\\begin{bmatrix}\n",
        "5 & 4 & 6 & 7 \\\\\n",
        "1 & 5 & 8 & 9 \\\\\n",
        "1 & 5 & 1 & 3 \\\\\n",
        "\\end{bmatrix}$$"
      ]
    },
    {
      "cell_type": "code",
      "metadata": {
        "colab": {
          "base_uri": "https://localhost:8080/",
          "height": 78
        },
        "id": "lu8Co_y8YNVk",
        "outputId": "c7a619e5-5e37-47b0-eacc-fc8507740bdf"
      },
      "source": [
        "A = Matrix([[5,4,6,7],[1,5,8,9],[1,5,1,3]])\n",
        "A.col(1)"
      ],
      "execution_count": null,
      "outputs": [
        {
          "output_type": "execute_result",
          "data": {
            "text/latex": "$\\displaystyle \\left[\\begin{matrix}4\\\\5\\\\5\\end{matrix}\\right]$",
            "text/plain": [
              "⎡4⎤\n",
              "⎢ ⎥\n",
              "⎢5⎥\n",
              "⎢ ⎥\n",
              "⎣5⎦"
            ]
          },
          "metadata": {
            "tags": []
          },
          "execution_count": 21
        }
      ]
    },
    {
      "cell_type": "markdown",
      "metadata": {
        "id": "EHk2OZ_gYOJG"
      },
      "source": [
        "## **Indexación de una fila de la matriz**\n",
        "\n",
        "Extrae la **fila 3** de la matriz $A$  donde:\n",
        "\n",
        "$$A=\\begin{bmatrix}\n",
        "5 & 4 & 6 & 7 \\\\\n",
        "1 & 5 & 8 & 9 \\\\\n",
        "1 & 5 & 1 & 3 \\\\\n",
        "\\end{bmatrix}$$"
      ]
    },
    {
      "cell_type": "code",
      "metadata": {
        "colab": {
          "base_uri": "https://localhost:8080/",
          "height": 38
        },
        "id": "C7jbDEl8Yfsb",
        "outputId": "165cdf75-0f38-4da4-ff7d-061991a76227"
      },
      "source": [
        "A = Matrix([[5,4,6,7],[1,5,8,9],[1,5,1,3]])\n",
        "A.row(2) "
      ],
      "execution_count": null,
      "outputs": [
        {
          "output_type": "execute_result",
          "data": {
            "text/latex": "$\\displaystyle \\left[\\begin{matrix}1 & 5 & 1 & 3\\end{matrix}\\right]$",
            "text/plain": [
              "[1  5  1  3]"
            ]
          },
          "metadata": {
            "tags": []
          },
          "execution_count": 22
        }
      ]
    },
    {
      "cell_type": "markdown",
      "metadata": {
        "id": "x3hrYLqJYhx2"
      },
      "source": [
        "## **Eliminación de una columna de la matriz**\n",
        "Elimina la **columna 1** de la matriz $A$  donde:\n",
        "\n",
        "$$A=\\begin{bmatrix}\n",
        "5 & 4 & 6 & 7 \\\\\n",
        "1 & 5 & 8 & 9 \\\\\n",
        "1 & 5 & 1 & 3 \\\\\n",
        "\\end{bmatrix}$$"
      ]
    },
    {
      "cell_type": "code",
      "metadata": {
        "colab": {
          "base_uri": "https://localhost:8080/",
          "height": 78
        },
        "id": "GROzW2L7Ygu5",
        "outputId": "909a9548-b50d-4a3f-cf16-db6dc4e7f88a"
      },
      "source": [
        "A = Matrix([[5,4,6,7],[1,5,8,9],[1,5,1,3]])\n",
        "A.col_del(0)\n",
        "A"
      ],
      "execution_count": null,
      "outputs": [
        {
          "output_type": "execute_result",
          "data": {
            "text/latex": "$\\displaystyle \\left[\\begin{matrix}4 & 6 & 7\\\\5 & 8 & 9\\\\5 & 1 & 3\\end{matrix}\\right]$",
            "text/plain": [
              "⎡4  6  7⎤\n",
              "⎢       ⎥\n",
              "⎢5  8  9⎥\n",
              "⎢       ⎥\n",
              "⎣5  1  3⎦"
            ]
          },
          "metadata": {
            "tags": []
          },
          "execution_count": 23
        }
      ]
    },
    {
      "cell_type": "markdown",
      "metadata": {
        "id": "bxQzacJMYtve"
      },
      "source": [
        "## **Eliminación de una fila de la matriz**\n",
        "\n",
        "Elimina la **fila 3** de la matriz $A$  donde:\n",
        "\n",
        "$$A=\\begin{bmatrix}\n",
        "5 & 4 & 6 & 7 \\\\\n",
        "1 & 5 & 8 & 9 \\\\\n",
        "1 & 5 & 1 & 3 \\\\\n",
        "\\end{bmatrix}$$"
      ]
    },
    {
      "cell_type": "code",
      "metadata": {
        "colab": {
          "base_uri": "https://localhost:8080/",
          "height": 57
        },
        "id": "hAYCv8VcZyR3",
        "outputId": "85daa780-d088-4e97-8349-2a491a305678"
      },
      "source": [
        "A = Matrix([[5,4,6,7],[1,5,8,9],[1,5,1,3]])\n",
        "A.row_del(2)\n",
        "A"
      ],
      "execution_count": null,
      "outputs": [
        {
          "output_type": "execute_result",
          "data": {
            "text/latex": "$\\displaystyle \\left[\\begin{matrix}5 & 4 & 6 & 7\\\\1 & 5 & 8 & 9\\end{matrix}\\right]$",
            "text/plain": [
              "⎡5  4  6  7⎤\n",
              "⎢          ⎥\n",
              "⎣1  5  8  9⎦"
            ]
          },
          "metadata": {
            "tags": []
          },
          "execution_count": 24
        }
      ]
    },
    {
      "cell_type": "markdown",
      "metadata": {
        "id": "wt6j2YgsZ0FN"
      },
      "source": [
        "## **Inserción de una columna a una matriz**\n",
        "\n",
        "Inserte la matriz columna $C$ como la **columna 2** de la matriz $A$, siendo:\n",
        "\n",
        "$$C=\\begin{bmatrix}\n",
        "1   \\\\\n",
        "2   \\\\\n",
        "3  \\\\\n",
        "\\end{bmatrix}\n",
        "\\hspace{5mm}\n",
        "\\text{y}\n",
        "\\hspace{5mm}\n",
        "A=\\begin{bmatrix}\n",
        "5 & 4 & 6 & 7 \\\\\n",
        "1 & 5 & 8 & 9 \\\\\n",
        "1 & 5 & 1 & 3 \\\\\n",
        "\\end{bmatrix}$$ "
      ]
    },
    {
      "cell_type": "code",
      "metadata": {
        "colab": {
          "base_uri": "https://localhost:8080/",
          "height": 78
        },
        "id": "SmgB7JIpdqrX",
        "outputId": "04453944-0f28-467f-80df-2c5eb8f07c41"
      },
      "source": [
        "A = Matrix([[5,4,6,7],[1,5,8,9],[1,5,1,3]])\n",
        "C = Matrix(3,1,[1,2,3])\n",
        "D = A.col_insert(1,C)\n",
        "D\n"
      ],
      "execution_count": null,
      "outputs": [
        {
          "output_type": "execute_result",
          "data": {
            "text/latex": "$\\displaystyle \\left[\\begin{matrix}5 & 1 & 4 & 6 & 7\\\\1 & 2 & 5 & 8 & 9\\\\1 & 3 & 5 & 1 & 3\\end{matrix}\\right]$",
            "text/plain": [
              "⎡5  1  4  6  7⎤\n",
              "⎢             ⎥\n",
              "⎢1  2  5  8  9⎥\n",
              "⎢             ⎥\n",
              "⎣1  3  5  1  3⎦"
            ]
          },
          "metadata": {
            "tags": []
          },
          "execution_count": 25
        }
      ]
    },
    {
      "cell_type": "markdown",
      "metadata": {
        "id": "Iu7ce-Lndgi6"
      },
      "source": [
        "## **Inserción de una fila a una matriz**\n",
        "\n",
        "\n",
        "Inserte la matriz fila $F$ como  la **fila 3** de la matriz $A$, siendo:\n",
        "\n",
        "$$F=\\begin{bmatrix}\n",
        "1 & 2 & 3 & 4 \\\\\n",
        "\\end{bmatrix}\n",
        "\\hspace{5mm}\n",
        "\\text{y}\n",
        "\\hspace{5mm}\n",
        "A=\\begin{bmatrix}\n",
        "5 & 4 & 6 & 7 \\\\\n",
        "1 & 5 & 8 & 9 \\\\\n",
        "1 & 5 & 1 & 3 \\\\\n",
        "\\end{bmatrix}$$ "
      ]
    },
    {
      "cell_type": "code",
      "metadata": {
        "colab": {
          "base_uri": "https://localhost:8080/",
          "height": 98
        },
        "id": "KhZtorzJYs22",
        "outputId": "536fbcc4-6172-4a3f-f37e-7dd32b934420"
      },
      "source": [
        "A = Matrix([[5,4,6,7],[1,5,8,9],[1,5,1,3]])\n",
        "F = Matrix([[1,2,3,4]])\n",
        "D = A.row_insert(2, F)\n",
        "D"
      ],
      "execution_count": null,
      "outputs": [
        {
          "output_type": "execute_result",
          "data": {
            "text/latex": "$\\displaystyle \\left[\\begin{matrix}5 & 4 & 6 & 7\\\\1 & 5 & 8 & 9\\\\1 & 2 & 3 & 4\\\\1 & 5 & 1 & 3\\end{matrix}\\right]$",
            "text/plain": [
              "⎡5  4  6  7⎤\n",
              "⎢          ⎥\n",
              "⎢1  5  8  9⎥\n",
              "⎢          ⎥\n",
              "⎢1  2  3  4⎥\n",
              "⎢          ⎥\n",
              "⎣1  5  1  3⎦"
            ]
          },
          "metadata": {
            "tags": []
          },
          "execution_count": 26
        }
      ]
    },
    {
      "cell_type": "markdown",
      "metadata": {
        "id": "AufX04OnZ60f"
      },
      "source": [
        "## **Extracción de una submatriz**\n",
        "\n",
        "Extrae la submatriz $B$  de la matriz $A$, siendo:\n",
        "\n",
        "$$B=\\begin{bmatrix}\n",
        "4 & 6 \\\\\n",
        "5 & 8 \\\\\n",
        "\\end{bmatrix}\n",
        "\\hspace{5mm}\n",
        "\\text{y}\n",
        "\\hspace{5mm}\n",
        "A=\\begin{bmatrix}\n",
        "5 & 4 & 6 & 7 \\\\\n",
        "1 & 5 & 8 & 9 \\\\\n",
        "1 & 5 & 1 & 3 \\\\\n",
        "\\end{bmatrix}$$ "
      ]
    },
    {
      "cell_type": "code",
      "metadata": {
        "colab": {
          "base_uri": "https://localhost:8080/",
          "height": 57
        },
        "id": "6vuBw0pPaGuR",
        "outputId": "c5d823e5-cbba-4fc5-fd31-371d110f167d"
      },
      "source": [
        "A = Matrix([[5,4,6,7],[1,5,8,9],[1,5,1,3]])\n",
        "A[:2,1:3]"
      ],
      "execution_count": null,
      "outputs": [
        {
          "output_type": "execute_result",
          "data": {
            "text/latex": "$\\displaystyle \\left[\\begin{matrix}4 & 6\\\\5 & 8\\end{matrix}\\right]$",
            "text/plain": [
              "⎡4  6⎤\n",
              "⎢    ⎥\n",
              "⎣5  8⎦"
            ]
          },
          "metadata": {
            "tags": []
          },
          "execution_count": 27
        }
      ]
    },
    {
      "cell_type": "markdown",
      "metadata": {
        "id": "l3BJWndAaHER"
      },
      "source": [
        "## **Union de matrices horizontalmente**\n",
        "\n",
        "Une horizontamente la matriz $A$ y la matriz $B$, siendo:\n",
        "\n",
        "$$A=\\begin{bmatrix}\n",
        "4 & 6 \\\\\n",
        "5 & 8 \\\\\n",
        "5 & 9 \\\\\n",
        "\\end{bmatrix}\n",
        "\\hspace{5mm}\n",
        "\\text{y}\n",
        "\\hspace{5mm}\n",
        "B=\\begin{bmatrix}\n",
        "5 & 4 & 6 & 7 \\\\\n",
        "1 & 5 & 8 & 9 \\\\\n",
        "1 & 5 & 1 & 3 \\\\\n",
        "\\end{bmatrix}$$ \n",
        "\n",
        "\n",
        "### **Forma 1:** "
      ]
    },
    {
      "cell_type": "code",
      "metadata": {
        "colab": {
          "base_uri": "https://localhost:8080/",
          "height": 78
        },
        "id": "6p9eKdBfacQz",
        "outputId": "9036b47c-14bd-4358-8daa-db43b6e41107"
      },
      "source": [
        "A = Matrix([[4,6],[5,8],[5,9]])\n",
        "B = Matrix([[5,4,6,7],[1,5,8,9],[1,5,1,3]])\n",
        "A.row_join(B)\n"
      ],
      "execution_count": null,
      "outputs": [
        {
          "output_type": "execute_result",
          "data": {
            "text/latex": "$\\displaystyle \\left[\\begin{matrix}4 & 6 & 5 & 4 & 6 & 7\\\\5 & 8 & 1 & 5 & 8 & 9\\\\5 & 9 & 1 & 5 & 1 & 3\\end{matrix}\\right]$",
            "text/plain": [
              "⎡4  6  5  4  6  7⎤\n",
              "⎢                ⎥\n",
              "⎢5  8  1  5  8  9⎥\n",
              "⎢                ⎥\n",
              "⎣5  9  1  5  1  3⎦"
            ]
          },
          "metadata": {
            "tags": []
          },
          "execution_count": 28
        }
      ]
    },
    {
      "cell_type": "markdown",
      "metadata": {
        "id": "x-wOvFojHXj-"
      },
      "source": [
        "\n",
        "### **Forma 2:** "
      ]
    },
    {
      "cell_type": "code",
      "metadata": {
        "colab": {
          "base_uri": "https://localhost:8080/",
          "height": 78
        },
        "id": "Wr5EDfIml1RN",
        "outputId": "e2a3244b-9183-459e-f43c-284b1cc067b3"
      },
      "source": [
        "A = Matrix([[4,6],[5,8],[5,9]])\n",
        "B = Matrix([[5,4,6,7],[1,5,8,9],[1,5,1,3]])\n",
        "C = Matrix.hstack(A, B)\n",
        "C"
      ],
      "execution_count": null,
      "outputs": [
        {
          "output_type": "execute_result",
          "data": {
            "text/latex": "$\\displaystyle \\left[\\begin{matrix}4 & 6 & 5 & 4 & 6 & 7\\\\5 & 8 & 1 & 5 & 8 & 9\\\\5 & 9 & 1 & 5 & 1 & 3\\end{matrix}\\right]$",
            "text/plain": [
              "⎡4  6  5  4  6  7⎤\n",
              "⎢                ⎥\n",
              "⎢5  8  1  5  8  9⎥\n",
              "⎢                ⎥\n",
              "⎣5  9  1  5  1  3⎦"
            ]
          },
          "metadata": {
            "tags": []
          },
          "execution_count": 29
        }
      ]
    },
    {
      "cell_type": "markdown",
      "metadata": {
        "id": "UPbGt5DKmSks"
      },
      "source": [
        "## **Union de matrices verticalmente**\n",
        "\n",
        "Une horizontamente la matriz $A$ y la matriz $B$, siendo:\n",
        "\n",
        "$$A=\\begin{bmatrix}\n",
        "1 & 2 & 3 & 4\\\\\n",
        "5 & 1 & 9 & 3 \\\\\n",
        "\\end{bmatrix}\n",
        "\\hspace{5mm}\n",
        "\\text{y}\n",
        "\\hspace{5mm}\n",
        "B=\\begin{bmatrix}\n",
        "5 & 4 & 6 & 7 \\\\\n",
        "1 & 5 & 8 & 9 \\\\\n",
        "1 & 5 & 1 & 3 \\\\\n",
        "\\end{bmatrix}$$ \n",
        "\n",
        "\n",
        "### **Forma 1:** "
      ]
    },
    {
      "cell_type": "code",
      "metadata": {
        "colab": {
          "base_uri": "https://localhost:8080/",
          "height": 119
        },
        "id": "9V3ERCyOlYVs",
        "outputId": "f8415ced-b7e2-4c1a-c965-d57014edd629"
      },
      "source": [
        "A = Matrix([[1,2,3,4],[5,1,9,3]])\n",
        "B = Matrix([[5,4,6,7],[1,5,8,9],[1,5,1,3]])\n",
        "A.col_join(B)"
      ],
      "execution_count": null,
      "outputs": [
        {
          "output_type": "execute_result",
          "data": {
            "text/latex": "$\\displaystyle \\left[\\begin{matrix}1 & 2 & 3 & 4\\\\5 & 1 & 9 & 3\\\\5 & 4 & 6 & 7\\\\1 & 5 & 8 & 9\\\\1 & 5 & 1 & 3\\end{matrix}\\right]$",
            "text/plain": [
              "⎡1  2  3  4⎤\n",
              "⎢          ⎥\n",
              "⎢5  1  9  3⎥\n",
              "⎢          ⎥\n",
              "⎢5  4  6  7⎥\n",
              "⎢          ⎥\n",
              "⎢1  5  8  9⎥\n",
              "⎢          ⎥\n",
              "⎣1  5  1  3⎦"
            ]
          },
          "metadata": {
            "tags": []
          },
          "execution_count": 30
        }
      ]
    },
    {
      "cell_type": "markdown",
      "metadata": {
        "id": "0uTSQTPjIFrY"
      },
      "source": [
        "### **Forma 2:** "
      ]
    },
    {
      "cell_type": "code",
      "metadata": {
        "colab": {
          "base_uri": "https://localhost:8080/",
          "height": 119
        },
        "id": "LJI5U2AxmGPl",
        "outputId": "d2efba85-1a05-4016-885d-910ed92fa033"
      },
      "source": [
        "A = Matrix([[1,2,3,4],[5,1,9,3]])\n",
        "B = Matrix([[5,4,6,7],[1,5,8,9],[1,5,1,3]])\n",
        "Matrix.vstack(A, B)\n",
        "\n"
      ],
      "execution_count": null,
      "outputs": [
        {
          "output_type": "execute_result",
          "data": {
            "text/latex": "$\\displaystyle \\left[\\begin{matrix}1 & 2 & 3 & 4\\\\5 & 1 & 9 & 3\\\\5 & 4 & 6 & 7\\\\1 & 5 & 8 & 9\\\\1 & 5 & 1 & 3\\end{matrix}\\right]$",
            "text/plain": [
              "⎡1  2  3  4⎤\n",
              "⎢          ⎥\n",
              "⎢5  1  9  3⎥\n",
              "⎢          ⎥\n",
              "⎢5  4  6  7⎥\n",
              "⎢          ⎥\n",
              "⎢1  5  8  9⎥\n",
              "⎢          ⎥\n",
              "⎣1  5  1  3⎦"
            ]
          },
          "metadata": {
            "tags": []
          },
          "execution_count": 31
        }
      ]
    },
    {
      "cell_type": "markdown",
      "metadata": {
        "id": "gpLaY9JmZXqQ"
      },
      "source": [
        "# **OPERACIONES CON MATRICES**\n",
        "\n",
        "# **Adición de matrices**\n",
        "\n",
        "Sean ${\\displaystyle A,B\\in {\\mathcal {M}}_{n\\times m}(\\mathbb {R} )}$ si:\n",
        "\n",
        "<center> <h4> $A = \\left[  a_{ij} \\right]_{n \\times m}$  y $B = \\left[  b_{ij} \\right]_{n \\times m}$ &nbsp; &nbsp; entonces &nbsp; &nbsp;$A+B = \\left[  a_{ij} +b_{ij} \\right]_{n \\times m} $</h4>\n"
      ]
    },
    {
      "cell_type": "markdown",
      "metadata": {
        "id": "jWI1TjL7mwy6"
      },
      "source": [
        "### **Ejemplo: adición de matrices**\n",
        "Encuentra la matriz $A + B $  donde :\n",
        "\n",
        "$$A=\\begin{bmatrix}\n",
        "5 & 4 & -5 \\\\\n",
        "3 & 6 & -7 \\\\\n",
        "1 & 0 & -3  \\\\\n",
        "\\end{bmatrix}\n",
        "\\hspace{1cm}\n",
        "B=\\begin{bmatrix}\n",
        "2 & -4 & 0 \\\\\n",
        "0 & -6 & 7 \\\\\n",
        "1 & -4 & 3 \\\\\n",
        "\\end{bmatrix}$$"
      ]
    },
    {
      "cell_type": "code",
      "metadata": {
        "id": "_lvMxcxc7n6Y",
        "colab": {
          "base_uri": "https://localhost:8080/",
          "height": 78
        },
        "outputId": "1f25d4b4-6fa3-42f9-f2d7-7b21b978b3bc"
      },
      "source": [
        "A = Matrix([[5,4,-5],[3,6,-7],[1,0,-3]])\n",
        "B = Matrix([[2,-4,0],[0,-6,7],[1,-4,3]])\n",
        "A + B"
      ],
      "execution_count": null,
      "outputs": [
        {
          "output_type": "execute_result",
          "data": {
            "text/latex": "$\\displaystyle \\left[\\begin{matrix}7 & 0 & -5\\\\3 & 0 & 0\\\\2 & -4 & 0\\end{matrix}\\right]$",
            "text/plain": [
              "⎡7  0   -5⎤\n",
              "⎢         ⎥\n",
              "⎢3  0   0 ⎥\n",
              "⎢         ⎥\n",
              "⎣2  -4  0 ⎦"
            ]
          },
          "metadata": {
            "tags": []
          },
          "execution_count": 32
        }
      ]
    },
    {
      "cell_type": "markdown",
      "metadata": {
        "id": "9nQBZDNwyjgE"
      },
      "source": [
        "# **Propiedades adición de matrices**\n",
        "\n",
        "Sean ${\\displaystyle A,B,C\\in {\\mathcal {M}}_{n\\times m}(\\mathbb {R} )}$,  se cumplen las siguientes propiedades:\n",
        "\n",
        "|            PROPIEDAD           |       EXPLICACIÓN                      |\n",
        "|:------------------------------:|:--------------------------------------:|\n",
        "| Clausurativa                   |$$A + B \\in \\mathcal{M}_{n\\times m}(\\mathbb{R})$$|\n",
        "| Conmutativa                     |   $$A + B = B + A$$                      |\n",
        "| Asociativa                      |      $$(A +B) + C = A + ( B+C)$$         | \n",
        "| Existencia de elemento neutro   |             $$A + 0 = A$$                           |\n",
        "| Existencia de inverso aditivo  |     $$A + (-A) = 0 $$                                  |"
      ]
    },
    {
      "cell_type": "markdown",
      "metadata": {
        "id": "LTiEZ_x_L5Eb"
      },
      "source": [
        "##**Verificación de las propiedades de la adición de matrices**"
      ]
    },
    {
      "cell_type": "markdown",
      "metadata": {
        "id": "6a3_8QRuJS3c"
      },
      "source": [
        "### **Propiedad conmutativa** \n",
        "\n",
        "<h4>$$A + B = B + A$$  "
      ]
    },
    {
      "cell_type": "code",
      "metadata": {
        "id": "lF6swOUUILva"
      },
      "source": [
        ""
      ],
      "execution_count": null,
      "outputs": []
    },
    {
      "cell_type": "markdown",
      "metadata": {
        "id": "Va3GHC3iJczc"
      },
      "source": [
        "### **propiedad asociativa**\n",
        "\n",
        "<h4>$$(A +B) + C = A + ( B+C)$$   "
      ]
    },
    {
      "cell_type": "code",
      "metadata": {
        "id": "efpQ5V6IIQBn"
      },
      "source": [
        ""
      ],
      "execution_count": null,
      "outputs": []
    },
    {
      "cell_type": "markdown",
      "metadata": {
        "id": "fxCJR33HJyld"
      },
      "source": [
        "### **Existencia de elemento neutro**   \n",
        "<h4>$$A + 0 = A$$                 "
      ]
    },
    {
      "cell_type": "code",
      "metadata": {
        "id": "p4NDyW9sIYGK"
      },
      "source": [
        ""
      ],
      "execution_count": null,
      "outputs": []
    },
    {
      "cell_type": "markdown",
      "metadata": {
        "id": "qE1YD6NfJ_fM"
      },
      "source": [
        "### **Existencia de inverso aditivo** \n",
        "<h4>$$A + (-A) = 0 $$ "
      ]
    },
    {
      "cell_type": "code",
      "metadata": {
        "id": "VVZovai-IoGW"
      },
      "source": [
        ""
      ],
      "execution_count": null,
      "outputs": []
    },
    {
      "cell_type": "markdown",
      "metadata": {
        "id": "WUUeyfbhqyAC"
      },
      "source": [
        "# **Multiplicación de matrices**\n",
        "\n",
        "Sea ${\\displaystyle A\\in {\\mathcal {M}}_{n\\times m}(\\mathbb {R} )}$ y  ${\\displaystyle B\\in {\\mathcal {M}}_{m\\times p}(\\mathbb {R} )}$ :\n",
        "\n",
        "<center> <h4> $A = \\left[  a_{ij} \\right]_{n \\times m}$  y $B = \\left[  b_{ij} \\right]_{m \\times p}$ &nbsp; &nbsp; entonces &nbsp; &nbsp; $AB = \\left[  c_{ij} \\right]_{n \\times p} $ &nbsp; &nbsp; donde &nbsp; &nbsp; $\\displaystyle   c_{ij} = \\sum_{r=1}^{n}a_{ir}b_{rj}$</h4> \n"
      ]
    },
    {
      "cell_type": "markdown",
      "metadata": {
        "id": "naEMpZh_2Wyt"
      },
      "source": [
        "## **Ejemplo: multiplicación de matrices**\n",
        "\n",
        "Encuentra la matriz $A \\cdot B $  donde :\n",
        "\n",
        "$$A=\\begin{bmatrix}\n",
        "2  & -5 \\\\\n",
        "4  & -7 \\\\\n",
        "1  & -3  \\\\\n",
        "\\end{bmatrix}\n",
        "\\hspace{1cm}\n",
        "B=\\begin{bmatrix}\n",
        "-2 & -4 \\\\\n",
        "-5 & -6 \\\\\n",
        "\\end{bmatrix}\n",
        "$$"
      ]
    },
    {
      "cell_type": "markdown",
      "metadata": {
        "id": "_O2deAEFfIhy"
      },
      "source": [
        "### **Forma 1:** "
      ]
    },
    {
      "cell_type": "code",
      "metadata": {
        "id": "XSxKgwUmZaMo",
        "colab": {
          "base_uri": "https://localhost:8080/",
          "height": 78
        },
        "outputId": "ea4ef1be-8dc1-4ebd-aede-8c3d0253376a"
      },
      "source": [
        "A = Matrix([[2,-5],[4,-7],[1,-3]])\n",
        "B = Matrix([[-2,-4],[-5,-6]])\n",
        "A * B"
      ],
      "execution_count": null,
      "outputs": [
        {
          "output_type": "execute_result",
          "data": {
            "text/latex": "$\\displaystyle \\left[\\begin{matrix}21 & 22\\\\27 & 26\\\\13 & 14\\end{matrix}\\right]$",
            "text/plain": [
              "⎡21  22⎤\n",
              "⎢      ⎥\n",
              "⎢27  26⎥\n",
              "⎢      ⎥\n",
              "⎣13  14⎦"
            ]
          },
          "metadata": {
            "tags": []
          },
          "execution_count": 33
        }
      ]
    },
    {
      "cell_type": "markdown",
      "metadata": {
        "id": "xYuk_C0TfKwk"
      },
      "source": [
        "### **Forma 2:** "
      ]
    },
    {
      "cell_type": "code",
      "metadata": {
        "colab": {
          "base_uri": "https://localhost:8080/",
          "height": 78
        },
        "id": "3HSjon43e1V0",
        "outputId": "95b226cd-5974-4f6e-c22f-fb8cdfec5b41"
      },
      "source": [
        "A = Matrix([[2,-5],[4,-7],[1,-3]])\n",
        "B = Matrix([[-2,-4],[-5,-6]])\n",
        "AB = A.multiply(B)\n",
        "AB"
      ],
      "execution_count": null,
      "outputs": [
        {
          "output_type": "execute_result",
          "data": {
            "text/latex": "$\\displaystyle \\left[\\begin{matrix}21 & 22\\\\27 & 26\\\\13 & 14\\end{matrix}\\right]$",
            "text/plain": [
              "⎡21  22⎤\n",
              "⎢      ⎥\n",
              "⎢27  26⎥\n",
              "⎢      ⎥\n",
              "⎣13  14⎦"
            ]
          },
          "metadata": {
            "tags": []
          },
          "execution_count": 34
        }
      ]
    },
    {
      "cell_type": "markdown",
      "metadata": {
        "id": "4w0gLm_jT4Ck"
      },
      "source": [
        "#**Propiedades multiplicación de matrices**\n",
        "\n",
        "Sea ${\\displaystyle A\\in {\\mathcal {M}}_{n\\times m}(\\mathbb {R} )}$,  se cumplen las siguientes propiedades:\n",
        "\n",
        "|            PROPIEDAD           |       EXPLICACIÓN                      |\n",
        "|:------------------------------:|:--------------------------------------:|\n",
        "| Clausurativa                   |$$A B \\in \\mathcal{M}_{n\\times m}(\\mathbb{R})$$|\n",
        "| No conmutativa                     |   $$A  B \\neq B A$$                      |\n",
        "| Asociativa                      |      $$(AB)  C = A ( B C)$$         | \n",
        "| Existencia de elemento neutro si ${\\displaystyle A\\in {\\mathcal {M}}_{n\\times n}(\\mathbb {R} )}$   | $$A  I_{n} = I_{n}  A = A$$|\n",
        "| Existencia de inverso multiplicativo si ${\\displaystyle A\\in {\\mathcal {M}}_{n\\times n}(\\mathbb {R} )}$    | $$A A^{-1} =A^{-1}A =I_{n}$$ |\n",
        "| Propiedad distributiva por derecha    | $$ (B +C )A  = BA + CA$$ |\n",
        "| Propiedad distributiva por izquierda    | $$A(B +C ) = AB +AC$$ |\n"
      ]
    },
    {
      "cell_type": "markdown",
      "metadata": {
        "id": "atoIr9QgNt7X"
      },
      "source": [
        "##**Verificación de las propiedades de la multiplicación de matrices**"
      ]
    },
    {
      "cell_type": "markdown",
      "metadata": {
        "id": "JT7cuI3sNt71"
      },
      "source": [
        "### **Propiedad conmutativa**\n",
        "\n",
        "$$A  B = B A$$"
      ]
    },
    {
      "cell_type": "code",
      "metadata": {
        "id": "QqMBJEZq6VGy"
      },
      "source": [
        ""
      ],
      "execution_count": null,
      "outputs": []
    },
    {
      "cell_type": "markdown",
      "metadata": {
        "id": "DPag3xU7Nt74"
      },
      "source": [
        "### **propiedad asociativa**\n",
        "$$(AB)  C = A ( B C)$$ "
      ]
    },
    {
      "cell_type": "code",
      "metadata": {
        "id": "6xIU8gQP6UQ4"
      },
      "source": [
        ""
      ],
      "execution_count": null,
      "outputs": []
    },
    {
      "cell_type": "markdown",
      "metadata": {
        "id": "uOXfgPtNNt75"
      },
      "source": [
        "###**Existencia de elemento neutro**\n",
        "\n",
        "$$A \\Box = \\Box  A = A$$ \n",
        "\n"
      ]
    },
    {
      "cell_type": "code",
      "metadata": {
        "id": "GP6BEgk06Ycf"
      },
      "source": [
        ""
      ],
      "execution_count": null,
      "outputs": []
    },
    {
      "cell_type": "markdown",
      "metadata": {
        "id": "2IgSjjqPNt77"
      },
      "source": [
        "### **Existencia de inverso multiplicativo**\n",
        "\n",
        "$$A \\Box = \\Box A =I_{n}$$ "
      ]
    },
    {
      "cell_type": "code",
      "metadata": {
        "id": "UfVOcSZ7szvc"
      },
      "source": [
        ""
      ],
      "execution_count": null,
      "outputs": []
    },
    {
      "cell_type": "markdown",
      "metadata": {
        "id": "TRodi4X7OMlJ"
      },
      "source": [
        "### **Propiedad distributiva a derecha**  \n",
        " $$ (B +C )A  = BA + CA$$ "
      ]
    },
    {
      "cell_type": "code",
      "metadata": {
        "id": "KUG1qvpO_QjD"
      },
      "source": [
        ""
      ],
      "execution_count": null,
      "outputs": []
    },
    {
      "cell_type": "markdown",
      "metadata": {
        "id": "Z3oxyW9BOMlL"
      },
      "source": [
        "### **Propiedad distributiva a izquierda**\n",
        "\n",
        "$$A(B +C ) = AB +AC\n",
        " $$ "
      ]
    },
    {
      "cell_type": "code",
      "metadata": {
        "id": "BCc8hOqK_V1n"
      },
      "source": [
        ""
      ],
      "execution_count": null,
      "outputs": []
    },
    {
      "cell_type": "markdown",
      "metadata": {
        "id": "pwxeVzYuxStB"
      },
      "source": [
        "#**Multiplicación de una matriz por un escalar**\n",
        "\n",
        "\n",
        "Sean ${\\displaystyle A\\in {\\mathcal {M}}_{n\\times m}(\\mathbb {R} )}$ y $k \\in \\mathbb{R}$  si:\n",
        "\n",
        "<center> <h4> $A = \\left[  a_{ij} \\right]_{n \\times m}$  &nbsp; &nbsp; entonces &nbsp; &nbsp; $kA = \\left[  k \\ a_{ij} \\right]_{n \\times m} $</h4>"
      ]
    },
    {
      "cell_type": "markdown",
      "metadata": {
        "id": "hY855pW0I32Q"
      },
      "source": [
        "### **Ejemplo: multiplicación de una matriz por un escalar**\n",
        "\n",
        "\n",
        "\n",
        "Encuentra la matriz $3A $  donde :\n",
        "\n",
        "$$A=\\begin{bmatrix}\n",
        "5 & 4 & -5 \\\\\n",
        "3 & 6 & -7 \\\\\n",
        "1 & 0 & -3  \\\\\n",
        "\\end{bmatrix}\n",
        "$$"
      ]
    },
    {
      "cell_type": "code",
      "metadata": {
        "colab": {
          "base_uri": "https://localhost:8080/",
          "height": 78
        },
        "id": "5Htd5whzI21x",
        "outputId": "2944c500-bb1c-4e81-f285-2084d1eb3229"
      },
      "source": [
        "A = Matrix([[5,4,-5],[3,6,-7],[1,0,-3]])\n",
        "3*A"
      ],
      "execution_count": null,
      "outputs": [
        {
          "output_type": "execute_result",
          "data": {
            "text/latex": "$\\displaystyle \\left[\\begin{matrix}15 & 12 & -15\\\\9 & 18 & -21\\\\3 & 0 & -9\\end{matrix}\\right]$",
            "text/plain": [
              "⎡15  12  -15⎤\n",
              "⎢           ⎥\n",
              "⎢9   18  -21⎥\n",
              "⎢           ⎥\n",
              "⎣3   0   -9 ⎦"
            ]
          },
          "metadata": {
            "tags": []
          },
          "execution_count": 35
        }
      ]
    },
    {
      "cell_type": "markdown",
      "metadata": {
        "id": "nfOoBaIhVkeK"
      },
      "source": [
        "#**Propiedades de la multiplicación por un escalar**\n",
        "\n",
        "---\n",
        "\n",
        "\n",
        "Sean ${\\displaystyle A,B\\in {\\mathcal {M}}_{n\\times m}(\\mathbb {R} )}$ y $ k,l \\in \\mathbb {R}$,  se cumplen las siguientes propiedades:\n",
        "\n",
        "|            PROPIEDAD           |       EXPLICACIÓN                      |\n",
        "|:------------------------------:|:--------------------------------------:|\n",
        "| Clausurativa                   |$$kA \\in \\mathcal{M}_{n\\times m}(\\mathbb{R})$$|\n",
        "| Conmutativa                   |$$kA = Ak$$|\n",
        "| Asociativa                   |$$(kl)A = k (lA)$$|\n",
        "| Existencia de elemento neutro | $$1A = A$$ |\n",
        "| Producto por el  elemento neutro de la adición en $\\mathbb {R}$| $$0A = 0$$  |\n",
        "| Distributiva respecto a la suma de matrices |$$k (A+ B)  +kB$$ |\n",
        "| Distributiva respecto de la suma en $\\mathbb {R}$|$$(k+l)A = kA +lA$$  |\n",
        "| Producto por el  elemento neutro de la adición en $\\mathbb {R}$|$$0A = 0$$ |\n"
      ]
    },
    {
      "cell_type": "markdown",
      "metadata": {
        "id": "15Z3mxjeO3As"
      },
      "source": [
        "##**Verificación de las propiedades de la multiplicación por un escalar**"
      ]
    },
    {
      "cell_type": "markdown",
      "metadata": {
        "id": "UKu-wEn1O3A3"
      },
      "source": [
        "### **Propiedad conmutativa**\n",
        "\n",
        "$$ kA = Ak$$"
      ]
    },
    {
      "cell_type": "code",
      "metadata": {
        "id": "v5-q7BXXO3A4"
      },
      "source": [
        ""
      ],
      "execution_count": null,
      "outputs": []
    },
    {
      "cell_type": "markdown",
      "metadata": {
        "id": "_DcQ7zmIe8Uf"
      },
      "source": [
        "### **Propiedad asociativa**\n",
        "\n",
        "$$(kl)A = k (lA)$$"
      ]
    },
    {
      "cell_type": "code",
      "metadata": {
        "id": "fCYKwa8pe8U7"
      },
      "source": [
        ""
      ],
      "execution_count": null,
      "outputs": []
    },
    {
      "cell_type": "markdown",
      "metadata": {
        "id": "9WnPOaFwO3A5"
      },
      "source": [
        "### **Existencia de elemento neutro** \n",
        "\n",
        " $$1A \n",
        " = A$$"
      ]
    },
    {
      "cell_type": "code",
      "metadata": {
        "id": "oBUE_yDUO3A6"
      },
      "source": [
        ""
      ],
      "execution_count": null,
      "outputs": []
    },
    {
      "cell_type": "markdown",
      "metadata": {
        "id": "IcrFE55EO3A7"
      },
      "source": [
        "### **Propiedad distributiva respecto a la suma de matrices**\n",
        "\n",
        " $$k (A+ B) = kA +kB$$"
      ]
    },
    {
      "cell_type": "code",
      "metadata": {
        "id": "viONbkyWO3A8"
      },
      "source": [
        ""
      ],
      "execution_count": null,
      "outputs": []
    },
    {
      "cell_type": "markdown",
      "metadata": {
        "id": "DVa4xyaOO3A9"
      },
      "source": [
        "### **Propiedad distributiva respecto de la suma en $\\mathbb {R}$** \n",
        "\n",
        "$$(k+l)A = kA + lA$$     "
      ]
    },
    {
      "cell_type": "code",
      "metadata": {
        "id": "C59rGYF7_FzK"
      },
      "source": [
        ""
      ],
      "execution_count": null,
      "outputs": []
    },
    {
      "cell_type": "markdown",
      "metadata": {
        "id": "2ea0CGKYP94b"
      },
      "source": [
        "###**Producto por el  elemento neutro de la adición en $\\mathbb {R}$**\n",
        " $$0A \n",
        " = 0$$    "
      ]
    },
    {
      "cell_type": "code",
      "metadata": {
        "id": "uOHhz8czP9GK"
      },
      "source": [
        ""
      ],
      "execution_count": null,
      "outputs": []
    },
    {
      "cell_type": "markdown",
      "metadata": {
        "id": "KrMd73gy2cbH"
      },
      "source": [
        "#**Potenciación de matrices**\n",
        "Sean ${\\displaystyle A\\in {\\mathcal {M}}_{n\\times n}(\\mathbb {R} )}$ se define:\n",
        "\n",
        "$$A^n =   \\underbrace{A A A A ...}_{n \\ veces}$$\n",
        "\n",
        "### **Ejemplo: potencia de una matriz**\n",
        "\n",
        "\n",
        "\n",
        "Encuentra la matriz $A^{3} $  donde :\n",
        "\n",
        "$$A=\\begin{bmatrix}\n",
        "5 & 4 & -5 \\\\\n",
        "3 & 6 & -7 \\\\\n",
        "1 & 0 & -3  \\\\\n",
        "\\end{bmatrix}\n",
        "$$"
      ]
    },
    {
      "cell_type": "code",
      "metadata": {
        "colab": {
          "base_uri": "https://localhost:8080/",
          "height": 78
        },
        "id": "4R9X2z4u4tpp",
        "outputId": "b46d67a5-a6f0-4a9c-b5c0-0031d7d19b0c"
      },
      "source": [
        "A = Matrix([[5,4,-5],[3,6,-7],[1,0,-3]])\n",
        "A**3"
      ],
      "execution_count": null,
      "outputs": [
        {
          "output_type": "execute_result",
          "data": {
            "text/latex": "$\\displaystyle \\left[\\begin{matrix}254 & 392 & -354\\\\238 & 392 & -358\\\\26 & 32 & -50\\end{matrix}\\right]$",
            "text/plain": [
              "⎡254  392  -354⎤\n",
              "⎢              ⎥\n",
              "⎢238  392  -358⎥\n",
              "⎢              ⎥\n",
              "⎣26   32   -50 ⎦"
            ]
          },
          "metadata": {
            "tags": []
          },
          "execution_count": 36
        }
      ]
    },
    {
      "cell_type": "markdown",
      "metadata": {
        "id": "88NTknqPTLtq"
      },
      "source": [
        "# **MATRIZ TRASPUESTA**\n",
        "\n",
        "Sea ${\\displaystyle A\\in {\\mathcal {M}}_{n\\times m}(\\mathbb {R} )}$, existe una matriz llamada ${\\displaystyle A^{T}\\in {\\mathcal {M}}_{m\\times n}(\\mathbb {R} )}$ tal que:\n",
        "\n",
        "<center> <h4> Si &nbsp; &nbsp; $A = \\left[  a_{ij} \\right]_{n \\times m}$  &nbsp; &nbsp; entonces &nbsp; &nbsp;$A^{T} = \\left[  a_{ji}  \\right]_{m \\times n} $</h4>\n",
        "\n"
      ]
    },
    {
      "cell_type": "markdown",
      "metadata": {
        "id": "8GXIKE7JVcGv"
      },
      "source": [
        "### **Ejemplo: matriz traspuesta**\n",
        "\n",
        "\n",
        "\n",
        "Encuentra la matriz $A^{T} $  de la matriz :\n",
        "\n",
        "$$A=\\begin{bmatrix}\n",
        "5 & 4  \\\\\n",
        "3 & 6  \\\\\n",
        "1 & 0  \\\\\n",
        "\\end{bmatrix}\n",
        "$$"
      ]
    },
    {
      "cell_type": "markdown",
      "metadata": {
        "id": "PdbaPlodXLtr"
      },
      "source": [
        "### **Forma 1:** "
      ]
    },
    {
      "cell_type": "code",
      "metadata": {
        "colab": {
          "base_uri": "https://localhost:8080/",
          "height": 57
        },
        "id": "FX-zlny1VcHR",
        "outputId": "65a0512e-46d4-4895-a2e5-bb9c14ed0fdc"
      },
      "source": [
        "A = Matrix([[5,4],[3,6],[1,0]])\n",
        "A.T"
      ],
      "execution_count": null,
      "outputs": [
        {
          "output_type": "execute_result",
          "data": {
            "text/latex": "$\\displaystyle \\left[\\begin{matrix}5 & 3 & 1\\\\4 & 6 & 0\\end{matrix}\\right]$",
            "text/plain": [
              "⎡5  3  1⎤\n",
              "⎢       ⎥\n",
              "⎣4  6  0⎦"
            ]
          },
          "metadata": {
            "tags": []
          },
          "execution_count": 37
        }
      ]
    },
    {
      "cell_type": "markdown",
      "metadata": {
        "id": "VjXLu3kFXPcW"
      },
      "source": [
        "### **Forma 2:** "
      ]
    },
    {
      "cell_type": "code",
      "metadata": {
        "colab": {
          "base_uri": "https://localhost:8080/",
          "height": 57
        },
        "id": "1MFtqKD_TQ-H",
        "outputId": "7188500f-67de-4a64-a903-195a01b6480d"
      },
      "source": [
        "A = Matrix([[5,4],[3,6],[1,0]])\n",
        "transpose(A)"
      ],
      "execution_count": null,
      "outputs": [
        {
          "output_type": "execute_result",
          "data": {
            "text/latex": "$\\displaystyle \\left[\\begin{matrix}5 & 3 & 1\\\\4 & 6 & 0\\end{matrix}\\right]$",
            "text/plain": [
              "⎡5  3  1⎤\n",
              "⎢       ⎥\n",
              "⎣4  6  0⎦"
            ]
          },
          "metadata": {
            "tags": []
          },
          "execution_count": 38
        }
      ]
    },
    {
      "cell_type": "markdown",
      "metadata": {
        "id": "enHXYmPrXjnG"
      },
      "source": [
        "### **Forma 3:** "
      ]
    },
    {
      "cell_type": "code",
      "metadata": {
        "colab": {
          "base_uri": "https://localhost:8080/",
          "height": 57
        },
        "id": "0YnEzJ7zXjng",
        "outputId": "f1c95e90-acbf-4180-80ce-58679d8b97ec"
      },
      "source": [
        "A = Matrix([[5,4],[3,6],[1,0]])\n",
        "Transpose(A).doit()"
      ],
      "execution_count": null,
      "outputs": [
        {
          "output_type": "execute_result",
          "data": {
            "text/latex": "$\\displaystyle \\left[\\begin{matrix}5 & 3 & 1\\\\4 & 6 & 0\\end{matrix}\\right]$",
            "text/plain": [
              "⎡5  3  1⎤\n",
              "⎢       ⎥\n",
              "⎣4  6  0⎦"
            ]
          },
          "metadata": {
            "tags": []
          },
          "execution_count": 39
        }
      ]
    },
    {
      "cell_type": "markdown",
      "metadata": {
        "id": "xPX5d_5OYVgM"
      },
      "source": [
        "# **Propiedades matriz traspuesta**\n",
        "Sea ${\\displaystyle A,B\\in {\\mathcal {M}}_{n\\times m}(\\mathbb {R} )}$  y $ k\\in \\mathbb {R}$,  se cumplen las siguientes propiedades:\n",
        "\n",
        "|            PROPIEDAD           |       EXPLICACIÓN                      |\n",
        "|:------------------------------:|:--------------------------------------:|\n",
        "| Involutiva                 |$$(A^{T})^{T} = A$$ |\n",
        "| Distributiva                   |$$(A+B)^{T} = A^{T} + B^{T}$$|\n",
        "| Traspuesta del producto  |    $$(AB)^{T} = B^{T} A^{T}$$                                  |\n",
        "| Traspuesta de un escalar por una matriz  |     $$(kA)^{T}= {k}A^{T}$$                   |\n",
        "| Traspuesta de la inversa |     $$(A^{-1})^{T} = (A^{T})^{-1} $$  |\n",
        "\n",
        "\n"
      ]
    },
    {
      "cell_type": "markdown",
      "metadata": {
        "id": "Hpo9iirwRn6y"
      },
      "source": [
        "##**Verificación de las propiedades de la trasposición de matrices**"
      ]
    },
    {
      "cell_type": "markdown",
      "metadata": {
        "id": "L0HoTI8ZRn69"
      },
      "source": [
        "### **Propiedad involutiva** \n",
        "\n",
        "$$(A^{T})^{T} = A$$"
      ]
    },
    {
      "cell_type": "code",
      "metadata": {
        "id": "k9mXPurbRn67"
      },
      "source": [
        ""
      ],
      "execution_count": null,
      "outputs": []
    },
    {
      "cell_type": "markdown",
      "metadata": {
        "id": "ByPBOdpfRn66"
      },
      "source": [
        "### **Propiedad distributiva**\n",
        "\n",
        "$$(A+B)^{T} = A^{T} + B^{T}$$"
      ]
    },
    {
      "cell_type": "code",
      "metadata": {
        "id": "MQ6Ofwr3Rn6-"
      },
      "source": [
        ""
      ],
      "execution_count": null,
      "outputs": []
    },
    {
      "cell_type": "markdown",
      "metadata": {
        "id": "tcNmRC5JRn6_"
      },
      "source": [
        "### **Traspuesta del producto**\n",
        "\n",
        " $$(AB)^{T} = B^{T} A^{T}$$       "
      ]
    },
    {
      "cell_type": "code",
      "metadata": {
        "id": "mqC5H1uLRn6_",
        "colab": {
          "base_uri": "https://localhost:8080/",
          "height": 78
        },
        "outputId": "7a97106e-f097-45c8-eea3-155793efbd43"
      },
      "source": [
        "A = randMatrix (3,2,min=-5, max=5)\n",
        "A"
      ],
      "execution_count": null,
      "outputs": [
        {
          "output_type": "execute_result",
          "data": {
            "text/latex": "$\\displaystyle \\left[\\begin{matrix}1 & -3\\\\1 & -5\\\\-3 & 1\\end{matrix}\\right]$",
            "text/plain": [
              "⎡1   -3⎤\n",
              "⎢      ⎥\n",
              "⎢1   -5⎥\n",
              "⎢      ⎥\n",
              "⎣-3  1 ⎦"
            ]
          },
          "metadata": {
            "tags": []
          },
          "execution_count": 40
        }
      ]
    },
    {
      "cell_type": "code",
      "metadata": {
        "colab": {
          "base_uri": "https://localhost:8080/",
          "height": 57
        },
        "id": "91kyzefnZY5X",
        "outputId": "8e10cfd1-d0e6-460a-d825-5e968be89482"
      },
      "source": [
        "B = randMatrix (2,4,min=-5, max=5)\n",
        "B"
      ],
      "execution_count": null,
      "outputs": [
        {
          "output_type": "execute_result",
          "data": {
            "text/latex": "$\\displaystyle \\left[\\begin{matrix}-2 & 3 & 0 & 3\\\\4 & 2 & -1 & 4\\end{matrix}\\right]$",
            "text/plain": [
              "⎡-2  3  0   3⎤\n",
              "⎢            ⎥\n",
              "⎣4   2  -1  4⎦"
            ]
          },
          "metadata": {
            "tags": []
          },
          "execution_count": 41
        }
      ]
    },
    {
      "cell_type": "code",
      "metadata": {
        "colab": {
          "base_uri": "https://localhost:8080/",
          "height": 98
        },
        "id": "O9P2Lj4VZlY7",
        "outputId": "6c87def2-f991-401e-c85f-ad991ee339e7"
      },
      "source": [
        "(A*B).T"
      ],
      "execution_count": null,
      "outputs": [
        {
          "output_type": "execute_result",
          "data": {
            "text/latex": "$\\displaystyle \\left[\\begin{matrix}-14 & -22 & 10\\\\-3 & -7 & -7\\\\3 & 5 & -1\\\\-9 & -17 & -5\\end{matrix}\\right]$",
            "text/plain": [
              "⎡-14  -22  10⎤\n",
              "⎢            ⎥\n",
              "⎢-3   -7   -7⎥\n",
              "⎢            ⎥\n",
              "⎢ 3    5   -1⎥\n",
              "⎢            ⎥\n",
              "⎣-9   -17  -5⎦"
            ]
          },
          "metadata": {
            "tags": []
          },
          "execution_count": 42
        }
      ]
    },
    {
      "cell_type": "code",
      "metadata": {
        "colab": {
          "base_uri": "https://localhost:8080/",
          "height": 98
        },
        "id": "H8fSuHPyZrQ8",
        "outputId": "d41ac42b-717a-44b7-c253-f74993ae8db5"
      },
      "source": [
        "(B.T)*(A.T)"
      ],
      "execution_count": null,
      "outputs": [
        {
          "output_type": "execute_result",
          "data": {
            "text/latex": "$\\displaystyle \\left[\\begin{matrix}-14 & -22 & 10\\\\-3 & -7 & -7\\\\3 & 5 & -1\\\\-9 & -17 & -5\\end{matrix}\\right]$",
            "text/plain": [
              "⎡-14  -22  10⎤\n",
              "⎢            ⎥\n",
              "⎢-3   -7   -7⎥\n",
              "⎢            ⎥\n",
              "⎢ 3    5   -1⎥\n",
              "⎢            ⎥\n",
              "⎣-9   -17  -5⎦"
            ]
          },
          "metadata": {
            "tags": []
          },
          "execution_count": 43
        }
      ]
    },
    {
      "cell_type": "code",
      "metadata": {
        "colab": {
          "base_uri": "https://localhost:8080/"
        },
        "id": "QR9OUBItaD27",
        "outputId": "6220949e-b6ae-401c-c0ec-1f3a47dcf65f"
      },
      "source": [
        "A = randMatrix (3,2,min=-5, max=5)\n",
        "B = randMatrix (2,10,min=-5, max=5)\n",
        "\n",
        "if (A*B).T == (B.T)*(A.T):\n",
        "    print(\"la propiedad se cumple\")\n",
        "else:\n",
        "    print(\"la propiedad no se cumple\")\n"
      ],
      "execution_count": null,
      "outputs": [
        {
          "output_type": "stream",
          "text": [
            "la propiedad se cumple\n"
          ],
          "name": "stdout"
        }
      ]
    },
    {
      "cell_type": "markdown",
      "metadata": {
        "id": "vr8BMb71SCaT"
      },
      "source": [
        "### **Traspuesta de un escalar por una matriz**\n",
        "\n",
        " $$(kA)^{T}\n",
        " = {k}A^{T}$$  "
      ]
    },
    {
      "cell_type": "code",
      "metadata": {
        "id": "dr8fiAw1SCaU"
      },
      "source": [
        ""
      ],
      "execution_count": null,
      "outputs": []
    },
    {
      "cell_type": "markdown",
      "metadata": {
        "id": "pB0NVNR1SjcS"
      },
      "source": [
        "### **Traspuesta de la inversa**\n",
        "\n",
        "$$(A^{-1})^{T}\n",
        " = (A^{T})^{-1}$$   "
      ]
    },
    {
      "cell_type": "code",
      "metadata": {
        "id": "LchtD-WOS1zd"
      },
      "source": [
        ""
      ],
      "execution_count": null,
      "outputs": []
    },
    {
      "cell_type": "markdown",
      "metadata": {
        "id": "ZZ_Cd90jdowj"
      },
      "source": [
        "#**Definición de matriz simétrica**\n",
        "\n",
        "Sea ${\\displaystyle A,\\in {\\mathcal {M}}_{n\\times n}(\\mathbb {R} )}$ :\n",
        "\n",
        "<center> <h4> Si &nbsp; &nbsp; $A^{T} = A$ &nbsp; o &nbsp;  $A^{T}-A=0$ &nbsp; &nbsp; entonces &nbsp; &nbsp; $A$ es una matriz simétrica</h4>\n",
        "\n"
      ]
    },
    {
      "cell_type": "markdown",
      "metadata": {
        "id": "6zHfzCT_jj6W"
      },
      "source": [
        "### **Ejemplo: matriz simétrica**\n",
        "\n",
        "Pruebe si la matriz $A$ es simétrica :\n",
        "\n",
        "$$A=\\begin{bmatrix}\n",
        "-8 & 1 & 3 \\\\\n",
        "1 & 7 & 4 \\\\\n",
        "3 & 4 & 9  \\\\\n",
        "\\end{bmatrix}$$\n"
      ]
    },
    {
      "cell_type": "markdown",
      "metadata": {
        "id": "e7JwoQF5db-E"
      },
      "source": [
        "### **Forma 1:**"
      ]
    },
    {
      "cell_type": "code",
      "metadata": {
        "colab": {
          "base_uri": "https://localhost:8080/",
          "height": 78
        },
        "id": "nrLym4bUds0O",
        "outputId": "ef1874d5-be08-4c75-aa87-be0d7f02551c"
      },
      "source": [
        "A = Matrix([[-8,1,3],[1,7,4],[3,4,9]])\n",
        "A.T - A"
      ],
      "execution_count": null,
      "outputs": [
        {
          "output_type": "execute_result",
          "data": {
            "text/latex": "$\\displaystyle \\left[\\begin{matrix}0 & 0 & 0\\\\0 & 0 & 0\\\\0 & 0 & 0\\end{matrix}\\right]$",
            "text/plain": [
              "⎡0  0  0⎤\n",
              "⎢       ⎥\n",
              "⎢0  0  0⎥\n",
              "⎢       ⎥\n",
              "⎣0  0  0⎦"
            ]
          },
          "metadata": {
            "tags": []
          },
          "execution_count": 45
        }
      ]
    },
    {
      "cell_type": "markdown",
      "metadata": {
        "id": "nzfS18AJdltB"
      },
      "source": [
        "### **Forma 2:**"
      ]
    },
    {
      "cell_type": "code",
      "metadata": {
        "colab": {
          "base_uri": "https://localhost:8080/"
        },
        "id": "4_mP4p8o9jof",
        "outputId": "edd8837c-6b16-4f68-d674-6c1b761082e4"
      },
      "source": [
        "A = Matrix([[-8,1,3],[1,7,4],[3,4,9]])\n",
        "\n",
        "if A.T == A:\n",
        "    print(\"Es simétrica\")\n",
        "else:\n",
        "    print(\"No es simétrica\")"
      ],
      "execution_count": null,
      "outputs": [
        {
          "output_type": "stream",
          "text": [
            "Es simétrica\n"
          ],
          "name": "stdout"
        }
      ]
    },
    {
      "cell_type": "markdown",
      "metadata": {
        "id": "3pX8Ntn-lAR5"
      },
      "source": [
        "#**Definición de matriz antisimétrica**\n",
        "\n",
        "Sea ${\\displaystyle A,\\in {\\mathcal {M}}_{n\\times n}(\\mathbb {R} )}$ :\n",
        "\n",
        "<center> <h4> Si &nbsp; &nbsp; $A^{T}= -A$ &nbsp; o &nbsp;  $A^{T}+A=0$ &nbsp; &nbsp; entonces &nbsp; &nbsp; $A$ es una matriz antisimétrica</h4>\n",
        "\n"
      ]
    },
    {
      "cell_type": "markdown",
      "metadata": {
        "id": "Rm9WiZ88lAST"
      },
      "source": [
        "### **Ejemplo: matriz antisimétrica**\n",
        "\n",
        "Pruebe si la matriz $A$ es antisimétrica :\n",
        "\n",
        "$$A=\\begin{bmatrix}\n",
        "0 & 1 & 3 \\\\\n",
        "-1 & 0 & -4 \\\\\n",
        "-3 & 4 & 0  \\\\\n",
        "\\end{bmatrix}$$\n"
      ]
    },
    {
      "cell_type": "markdown",
      "metadata": {
        "id": "9nFpXsW9gV_x"
      },
      "source": [
        "### **Forma 1:**"
      ]
    },
    {
      "cell_type": "code",
      "metadata": {
        "colab": {
          "base_uri": "https://localhost:8080/",
          "height": 78
        },
        "id": "YPENPuAZlASV",
        "outputId": "cd1d4a0c-a1e6-4950-ce17-13e9c4f19b9d"
      },
      "source": [
        "A = Matrix([[0,1,3],[-1,0,-4],[-3,4,0]])\n",
        "A.T + A"
      ],
      "execution_count": null,
      "outputs": [
        {
          "output_type": "execute_result",
          "data": {
            "text/latex": "$\\displaystyle \\left[\\begin{matrix}0 & 0 & 0\\\\0 & 0 & 0\\\\0 & 0 & 0\\end{matrix}\\right]$",
            "text/plain": [
              "⎡0  0  0⎤\n",
              "⎢       ⎥\n",
              "⎢0  0  0⎥\n",
              "⎢       ⎥\n",
              "⎣0  0  0⎦"
            ]
          },
          "metadata": {
            "tags": []
          },
          "execution_count": 47
        }
      ]
    },
    {
      "cell_type": "markdown",
      "metadata": {
        "id": "nomviQZvgYkj"
      },
      "source": [
        "### **Forma 2:**"
      ]
    },
    {
      "cell_type": "code",
      "metadata": {
        "colab": {
          "base_uri": "https://localhost:8080/"
        },
        "id": "jKi26ggSgElU",
        "outputId": "f75857ac-5fbf-4760-e715-db197c45690d"
      },
      "source": [
        "A.T == -A"
      ],
      "execution_count": null,
      "outputs": [
        {
          "output_type": "execute_result",
          "data": {
            "text/plain": [
              "True"
            ]
          },
          "metadata": {
            "tags": []
          },
          "execution_count": 48
        }
      ]
    },
    {
      "cell_type": "markdown",
      "metadata": {
        "id": "ZEARI5TZzTQs"
      },
      "source": [
        "# **INVERSA DE UNA MATRIZ**\n",
        "\n",
        "Sea ${\\displaystyle A\\in {\\mathcal {M}}_{n\\times n}(\\mathbb {R} )}$, una matriz cuadrada,  si existe una matriz ${\\displaystyle B\\in {\\mathcal {M}}_{n\\times n}(\\mathbb {R} )}$ tal que :\n",
        "\n",
        "<center> <h4> Si &nbsp; &nbsp; $AB = BA = I_{n}$  &nbsp; &nbsp; entonces &nbsp; &nbsp; $B = A^{-1} $</h4> </center>\n",
        "\n",
        "\n",
        "$B$ es la matriz inversa de  $A$ y la matriz $A$ es **invertible** o **no singular**."
      ]
    },
    {
      "cell_type": "markdown",
      "metadata": {
        "id": "oyshXoeyzguF"
      },
      "source": [
        "## **Ejemplo 1: matriz inversa** --> *verificación rápida*\n",
        "\n",
        "Encuentra la matriz $A^{-1}$ si es posible, de la matriz:\n",
        "\n",
        "\n",
        "$$A=\\begin{bmatrix}\n",
        "5 & 4 & -5 \\\\\n",
        "3 & 6 & -7 \\\\\n",
        "1 & 0 & -3  \\\\\n",
        "\\end{bmatrix}\n",
        "$$"
      ]
    },
    {
      "cell_type": "markdown",
      "metadata": {
        "id": "aAT5-0C49wqd"
      },
      "source": [
        "### **Forma 1:** "
      ]
    },
    {
      "cell_type": "code",
      "metadata": {
        "colab": {
          "base_uri": "https://localhost:8080/",
          "height": 78
        },
        "id": "7lz3zF1d9ZXd",
        "outputId": "a11e3c9e-7f36-4a87-c234-6860426f7135"
      },
      "source": [
        "A = Matrix([[5,4,-5],[3,6,-7],[1,0,-3]])\n",
        "B = A.inv()\n",
        "B"
      ],
      "execution_count": null,
      "outputs": [
        {
          "output_type": "execute_result",
          "data": {
            "text/latex": "$\\displaystyle \\left[\\begin{matrix}\\frac{9}{26} & - \\frac{3}{13} & - \\frac{1}{26}\\\\- \\frac{1}{26} & \\frac{5}{26} & - \\frac{5}{13}\\\\\\frac{3}{26} & - \\frac{1}{13} & - \\frac{9}{26}\\end{matrix}\\right]$",
            "text/plain": [
              "⎡9/26   -3/13  -1/26⎤\n",
              "⎢                   ⎥\n",
              "⎢-1/26  5/26   -5/13⎥\n",
              "⎢                   ⎥\n",
              "⎣3/26   -1/13  -9/26⎦"
            ]
          },
          "metadata": {
            "tags": []
          },
          "execution_count": 49
        }
      ]
    },
    {
      "cell_type": "code",
      "metadata": {
        "colab": {
          "base_uri": "https://localhost:8080/",
          "height": 78
        },
        "id": "HXgiV3CYfXhR",
        "outputId": "272641dc-9925-425d-d9f1-962e9ce9d8f6"
      },
      "source": [
        "A*B"
      ],
      "execution_count": null,
      "outputs": [
        {
          "output_type": "execute_result",
          "data": {
            "text/latex": "$\\displaystyle \\left[\\begin{matrix}1 & 0 & 0\\\\0 & 1 & 0\\\\0 & 0 & 1\\end{matrix}\\right]$",
            "text/plain": [
              "⎡1  0  0⎤\n",
              "⎢       ⎥\n",
              "⎢0  1  0⎥\n",
              "⎢       ⎥\n",
              "⎣0  0  1⎦"
            ]
          },
          "metadata": {
            "tags": []
          },
          "execution_count": 50
        }
      ]
    },
    {
      "cell_type": "code",
      "metadata": {
        "colab": {
          "base_uri": "https://localhost:8080/",
          "height": 78
        },
        "id": "3fFocPt9f7EL",
        "outputId": "813e4b57-d2da-4df8-81e3-23297e510b28"
      },
      "source": [
        "B*A"
      ],
      "execution_count": null,
      "outputs": [
        {
          "output_type": "execute_result",
          "data": {
            "text/latex": "$\\displaystyle \\left[\\begin{matrix}1 & 0 & 0\\\\0 & 1 & 0\\\\0 & 0 & 1\\end{matrix}\\right]$",
            "text/plain": [
              "⎡1  0  0⎤\n",
              "⎢       ⎥\n",
              "⎢0  1  0⎥\n",
              "⎢       ⎥\n",
              "⎣0  0  1⎦"
            ]
          },
          "metadata": {
            "tags": []
          },
          "execution_count": 51
        }
      ]
    },
    {
      "cell_type": "code",
      "metadata": {
        "colab": {
          "base_uri": "https://localhost:8080/"
        },
        "id": "ZXUxnTzegCj5",
        "outputId": "d7d49a8b-d8b6-43ef-b869-670db6944972"
      },
      "source": [
        "A*B == B*A"
      ],
      "execution_count": null,
      "outputs": [
        {
          "output_type": "execute_result",
          "data": {
            "text/plain": [
              "True"
            ]
          },
          "metadata": {
            "tags": []
          },
          "execution_count": 52
        }
      ]
    },
    {
      "cell_type": "markdown",
      "metadata": {
        "id": "Xj-gcSP194jT"
      },
      "source": [
        "### **Forma 2:** "
      ]
    },
    {
      "cell_type": "code",
      "metadata": {
        "colab": {
          "base_uri": "https://localhost:8080/",
          "height": 78
        },
        "id": "WOs-Xdel9k0y",
        "outputId": "f20b8368-f874-4579-b108-91a4995637db"
      },
      "source": [
        "A = Matrix([[5,4,-5],[3,6,-7],[1,0,-3]])\n",
        "A**(-1)"
      ],
      "execution_count": null,
      "outputs": [
        {
          "output_type": "execute_result",
          "data": {
            "text/latex": "$\\displaystyle \\left[\\begin{matrix}\\frac{9}{26} & - \\frac{3}{13} & - \\frac{1}{26}\\\\- \\frac{1}{26} & \\frac{5}{26} & - \\frac{5}{13}\\\\\\frac{3}{26} & - \\frac{1}{13} & - \\frac{9}{26}\\end{matrix}\\right]$",
            "text/plain": [
              "⎡9/26   -3/13  -1/26⎤\n",
              "⎢                   ⎥\n",
              "⎢-1/26  5/26   -5/13⎥\n",
              "⎢                   ⎥\n",
              "⎣3/26   -1/13  -9/26⎦"
            ]
          },
          "metadata": {
            "tags": []
          },
          "execution_count": 53
        }
      ]
    },
    {
      "cell_type": "markdown",
      "metadata": {
        "id": "FMsu3kej_aPD"
      },
      "source": [
        "## **Ejemplo 2: matriz singular**\n",
        "\n",
        "Encuentra la matriz $A^{-1}$ si es posible, de la matriz:\n",
        "\n",
        "\n",
        "$$A=\\begin{bmatrix}\n",
        "1 & 2 & 3 \\\\\n",
        "2 & 4 & 6 \\\\\n",
        "1 & 0 & 3  \\\\\n",
        "\\end{bmatrix}\n",
        "$$"
      ]
    },
    {
      "cell_type": "code",
      "metadata": {
        "id": "feyfbaTY_aPj",
        "colab": {
          "base_uri": "https://localhost:8080/",
          "height": 328
        },
        "outputId": "1b4dc2be-45fb-4bb0-c388-cba559e3b4df"
      },
      "source": [
        "A = Matrix([[1,2,3],[2,4,6],[1,0,3]])\n",
        "A**(-1)"
      ],
      "execution_count": null,
      "outputs": [
        {
          "output_type": "error",
          "ename": "NonInvertibleMatrixError",
          "evalue": "ignored",
          "traceback": [
            "\u001b[0;31m---------------------------------------------------------------------------\u001b[0m",
            "\u001b[0;31mNonInvertibleMatrixError\u001b[0m                  Traceback (most recent call last)",
            "\u001b[0;32m<ipython-input-54-99c51ca7cafa>\u001b[0m in \u001b[0;36m<module>\u001b[0;34m()\u001b[0m\n\u001b[1;32m      1\u001b[0m \u001b[0mA\u001b[0m \u001b[0;34m=\u001b[0m \u001b[0mMatrix\u001b[0m\u001b[0;34m(\u001b[0m\u001b[0;34m[\u001b[0m\u001b[0;34m[\u001b[0m\u001b[0;36m1\u001b[0m\u001b[0;34m,\u001b[0m\u001b[0;36m2\u001b[0m\u001b[0;34m,\u001b[0m\u001b[0;36m3\u001b[0m\u001b[0;34m]\u001b[0m\u001b[0;34m,\u001b[0m\u001b[0;34m[\u001b[0m\u001b[0;36m2\u001b[0m\u001b[0;34m,\u001b[0m\u001b[0;36m4\u001b[0m\u001b[0;34m,\u001b[0m\u001b[0;36m6\u001b[0m\u001b[0;34m]\u001b[0m\u001b[0;34m,\u001b[0m\u001b[0;34m[\u001b[0m\u001b[0;36m1\u001b[0m\u001b[0;34m,\u001b[0m\u001b[0;36m0\u001b[0m\u001b[0;34m,\u001b[0m\u001b[0;36m3\u001b[0m\u001b[0;34m]\u001b[0m\u001b[0;34m]\u001b[0m\u001b[0;34m)\u001b[0m\u001b[0;34m\u001b[0m\u001b[0;34m\u001b[0m\u001b[0m\n\u001b[0;32m----> 2\u001b[0;31m \u001b[0mA\u001b[0m\u001b[0;34m**\u001b[0m\u001b[0;34m(\u001b[0m\u001b[0;34m-\u001b[0m\u001b[0;36m1\u001b[0m\u001b[0;34m)\u001b[0m\u001b[0;34m\u001b[0m\u001b[0;34m\u001b[0m\u001b[0m\n\u001b[0m",
            "\u001b[0;32m/usr/local/lib/python3.7/dist-packages/sympy/core/decorators.py\u001b[0m in \u001b[0;36mbinary_op_wrapper\u001b[0;34m(self, other)\u001b[0m\n\u001b[1;32m    135\u001b[0m                     \u001b[0;32mif\u001b[0m \u001b[0mf\u001b[0m \u001b[0;32mis\u001b[0m \u001b[0;32mnot\u001b[0m \u001b[0;32mNone\u001b[0m\u001b[0;34m:\u001b[0m\u001b[0;34m\u001b[0m\u001b[0;34m\u001b[0m\u001b[0m\n\u001b[1;32m    136\u001b[0m                         \u001b[0;32mreturn\u001b[0m \u001b[0mf\u001b[0m\u001b[0;34m(\u001b[0m\u001b[0mself\u001b[0m\u001b[0;34m)\u001b[0m\u001b[0;34m\u001b[0m\u001b[0;34m\u001b[0m\u001b[0m\n\u001b[0;32m--> 137\u001b[0;31m             \u001b[0;32mreturn\u001b[0m \u001b[0mfunc\u001b[0m\u001b[0;34m(\u001b[0m\u001b[0mself\u001b[0m\u001b[0;34m,\u001b[0m \u001b[0mother\u001b[0m\u001b[0;34m)\u001b[0m\u001b[0;34m\u001b[0m\u001b[0;34m\u001b[0m\u001b[0m\n\u001b[0m\u001b[1;32m    138\u001b[0m         \u001b[0;32mreturn\u001b[0m \u001b[0mbinary_op_wrapper\u001b[0m\u001b[0;34m\u001b[0m\u001b[0;34m\u001b[0m\u001b[0m\n\u001b[1;32m    139\u001b[0m     \u001b[0;32mreturn\u001b[0m \u001b[0mpriority_decorator\u001b[0m\u001b[0;34m\u001b[0m\u001b[0;34m\u001b[0m\u001b[0m\n",
            "\u001b[0;32m/usr/local/lib/python3.7/dist-packages/sympy/matrices/common.py\u001b[0m in \u001b[0;36m__pow__\u001b[0;34m(self, exp)\u001b[0m\n\u001b[1;32m   2683\u001b[0m         \u001b[0;34m\"\"\"Return self**exp a scalar or symbol.\"\"\"\u001b[0m\u001b[0;34m\u001b[0m\u001b[0;34m\u001b[0m\u001b[0m\n\u001b[1;32m   2684\u001b[0m \u001b[0;34m\u001b[0m\u001b[0m\n\u001b[0;32m-> 2685\u001b[0;31m         \u001b[0;32mreturn\u001b[0m \u001b[0mself\u001b[0m\u001b[0;34m.\u001b[0m\u001b[0mpow\u001b[0m\u001b[0;34m(\u001b[0m\u001b[0mexp\u001b[0m\u001b[0;34m)\u001b[0m\u001b[0;34m\u001b[0m\u001b[0;34m\u001b[0m\u001b[0m\n\u001b[0m\u001b[1;32m   2686\u001b[0m \u001b[0;34m\u001b[0m\u001b[0m\n\u001b[1;32m   2687\u001b[0m \u001b[0;34m\u001b[0m\u001b[0m\n",
            "\u001b[0;32m/usr/local/lib/python3.7/dist-packages/sympy/matrices/common.py\u001b[0m in \u001b[0;36mpow\u001b[0;34m(self, exp, method)\u001b[0m\n\u001b[1;32m   2727\u001b[0m             \u001b[0;32mif\u001b[0m \u001b[0mexp\u001b[0m \u001b[0;34m<\u001b[0m \u001b[0;36m0\u001b[0m\u001b[0;34m:\u001b[0m\u001b[0;34m\u001b[0m\u001b[0;34m\u001b[0m\u001b[0m\n\u001b[1;32m   2728\u001b[0m                 \u001b[0mexp\u001b[0m \u001b[0;34m=\u001b[0m \u001b[0;34m-\u001b[0m\u001b[0mexp\u001b[0m\u001b[0;34m\u001b[0m\u001b[0;34m\u001b[0m\u001b[0m\n\u001b[0;32m-> 2729\u001b[0;31m                 \u001b[0ma\u001b[0m \u001b[0;34m=\u001b[0m \u001b[0ma\u001b[0m\u001b[0;34m.\u001b[0m\u001b[0minv\u001b[0m\u001b[0;34m(\u001b[0m\u001b[0;34m)\u001b[0m\u001b[0;34m\u001b[0m\u001b[0;34m\u001b[0m\u001b[0m\n\u001b[0m\u001b[1;32m   2730\u001b[0m         \u001b[0;31m# When certain conditions are met,\u001b[0m\u001b[0;34m\u001b[0m\u001b[0;34m\u001b[0m\u001b[0;34m\u001b[0m\u001b[0m\n\u001b[1;32m   2731\u001b[0m         \u001b[0;31m# Jordan block algorithm is faster than\u001b[0m\u001b[0;34m\u001b[0m\u001b[0;34m\u001b[0m\u001b[0;34m\u001b[0m\u001b[0m\n",
            "\u001b[0;32m/usr/local/lib/python3.7/dist-packages/sympy/matrices/matrices.py\u001b[0m in \u001b[0;36minv\u001b[0;34m(self, method, iszerofunc, try_block_diag)\u001b[0m\n\u001b[1;32m   2158\u001b[0m     \u001b[0;32mdef\u001b[0m \u001b[0minv\u001b[0m\u001b[0;34m(\u001b[0m\u001b[0mself\u001b[0m\u001b[0;34m,\u001b[0m \u001b[0mmethod\u001b[0m\u001b[0;34m=\u001b[0m\u001b[0;32mNone\u001b[0m\u001b[0;34m,\u001b[0m \u001b[0miszerofunc\u001b[0m\u001b[0;34m=\u001b[0m\u001b[0m_iszero\u001b[0m\u001b[0;34m,\u001b[0m \u001b[0mtry_block_diag\u001b[0m\u001b[0;34m=\u001b[0m\u001b[0;32mFalse\u001b[0m\u001b[0;34m)\u001b[0m\u001b[0;34m:\u001b[0m\u001b[0;34m\u001b[0m\u001b[0;34m\u001b[0m\u001b[0m\n\u001b[1;32m   2159\u001b[0m         return _inv(self, method=method, iszerofunc=iszerofunc,\n\u001b[0;32m-> 2160\u001b[0;31m                 try_block_diag=try_block_diag)\n\u001b[0m\u001b[1;32m   2161\u001b[0m \u001b[0;34m\u001b[0m\u001b[0m\n\u001b[1;32m   2162\u001b[0m     \u001b[0;32mdef\u001b[0m \u001b[0mconnected_components\u001b[0m\u001b[0;34m(\u001b[0m\u001b[0mself\u001b[0m\u001b[0;34m)\u001b[0m\u001b[0;34m:\u001b[0m\u001b[0;34m\u001b[0m\u001b[0;34m\u001b[0m\u001b[0m\n",
            "\u001b[0;32m/usr/local/lib/python3.7/dist-packages/sympy/matrices/inverse.py\u001b[0m in \u001b[0;36m_inv\u001b[0;34m(M, method, iszerofunc, try_block_diag)\u001b[0m\n\u001b[1;32m    457\u001b[0m \u001b[0;34m\u001b[0m\u001b[0m\n\u001b[1;32m    458\u001b[0m     \u001b[0;32mif\u001b[0m \u001b[0mmethod\u001b[0m \u001b[0;34m==\u001b[0m \u001b[0;34m\"GE\"\u001b[0m\u001b[0;34m:\u001b[0m\u001b[0;34m\u001b[0m\u001b[0;34m\u001b[0m\u001b[0m\n\u001b[0;32m--> 459\u001b[0;31m         \u001b[0mrv\u001b[0m \u001b[0;34m=\u001b[0m \u001b[0mM\u001b[0m\u001b[0;34m.\u001b[0m\u001b[0minverse_GE\u001b[0m\u001b[0;34m(\u001b[0m\u001b[0miszerofunc\u001b[0m\u001b[0;34m=\u001b[0m\u001b[0miszerofunc\u001b[0m\u001b[0;34m)\u001b[0m\u001b[0;34m\u001b[0m\u001b[0;34m\u001b[0m\u001b[0m\n\u001b[0m\u001b[1;32m    460\u001b[0m     \u001b[0;32melif\u001b[0m \u001b[0mmethod\u001b[0m \u001b[0;34m==\u001b[0m \u001b[0;34m\"LU\"\u001b[0m\u001b[0;34m:\u001b[0m\u001b[0;34m\u001b[0m\u001b[0;34m\u001b[0m\u001b[0m\n\u001b[1;32m    461\u001b[0m         \u001b[0mrv\u001b[0m \u001b[0;34m=\u001b[0m \u001b[0mM\u001b[0m\u001b[0;34m.\u001b[0m\u001b[0minverse_LU\u001b[0m\u001b[0;34m(\u001b[0m\u001b[0miszerofunc\u001b[0m\u001b[0;34m=\u001b[0m\u001b[0miszerofunc\u001b[0m\u001b[0;34m)\u001b[0m\u001b[0;34m\u001b[0m\u001b[0;34m\u001b[0m\u001b[0m\n",
            "\u001b[0;32m/usr/local/lib/python3.7/dist-packages/sympy/matrices/matrices.py\u001b[0m in \u001b[0;36minverse_GE\u001b[0;34m(self, iszerofunc)\u001b[0m\n\u001b[1;32m   2142\u001b[0m \u001b[0;34m\u001b[0m\u001b[0m\n\u001b[1;32m   2143\u001b[0m     \u001b[0;32mdef\u001b[0m \u001b[0minverse_GE\u001b[0m\u001b[0;34m(\u001b[0m\u001b[0mself\u001b[0m\u001b[0;34m,\u001b[0m \u001b[0miszerofunc\u001b[0m\u001b[0;34m=\u001b[0m\u001b[0m_iszero\u001b[0m\u001b[0;34m)\u001b[0m\u001b[0;34m:\u001b[0m\u001b[0;34m\u001b[0m\u001b[0;34m\u001b[0m\u001b[0m\n\u001b[0;32m-> 2144\u001b[0;31m         \u001b[0;32mreturn\u001b[0m \u001b[0m_inv_GE\u001b[0m\u001b[0;34m(\u001b[0m\u001b[0mself\u001b[0m\u001b[0;34m,\u001b[0m \u001b[0miszerofunc\u001b[0m\u001b[0;34m=\u001b[0m\u001b[0miszerofunc\u001b[0m\u001b[0;34m)\u001b[0m\u001b[0;34m\u001b[0m\u001b[0;34m\u001b[0m\u001b[0m\n\u001b[0m\u001b[1;32m   2145\u001b[0m \u001b[0;34m\u001b[0m\u001b[0m\n\u001b[1;32m   2146\u001b[0m     \u001b[0;32mdef\u001b[0m \u001b[0minverse_LU\u001b[0m\u001b[0;34m(\u001b[0m\u001b[0mself\u001b[0m\u001b[0;34m,\u001b[0m \u001b[0miszerofunc\u001b[0m\u001b[0;34m=\u001b[0m\u001b[0m_iszero\u001b[0m\u001b[0;34m)\u001b[0m\u001b[0;34m:\u001b[0m\u001b[0;34m\u001b[0m\u001b[0;34m\u001b[0m\u001b[0m\n",
            "\u001b[0;32m/usr/local/lib/python3.7/dist-packages/sympy/matrices/inverse.py\u001b[0m in \u001b[0;36m_inv_GE\u001b[0;34m(M, iszerofunc)\u001b[0m\n\u001b[1;32m    243\u001b[0m \u001b[0;34m\u001b[0m\u001b[0m\n\u001b[1;32m    244\u001b[0m     \u001b[0;32mif\u001b[0m \u001b[0many\u001b[0m\u001b[0;34m(\u001b[0m\u001b[0miszerofunc\u001b[0m\u001b[0;34m(\u001b[0m\u001b[0mred\u001b[0m\u001b[0;34m[\u001b[0m\u001b[0mj\u001b[0m\u001b[0;34m,\u001b[0m \u001b[0mj\u001b[0m\u001b[0;34m]\u001b[0m\u001b[0;34m)\u001b[0m \u001b[0;32mfor\u001b[0m \u001b[0mj\u001b[0m \u001b[0;32min\u001b[0m \u001b[0mrange\u001b[0m\u001b[0;34m(\u001b[0m\u001b[0mred\u001b[0m\u001b[0;34m.\u001b[0m\u001b[0mrows\u001b[0m\u001b[0;34m)\u001b[0m\u001b[0;34m)\u001b[0m\u001b[0;34m:\u001b[0m\u001b[0;34m\u001b[0m\u001b[0;34m\u001b[0m\u001b[0m\n\u001b[0;32m--> 245\u001b[0;31m         \u001b[0;32mraise\u001b[0m \u001b[0mNonInvertibleMatrixError\u001b[0m\u001b[0;34m(\u001b[0m\u001b[0;34m\"Matrix det == 0; not invertible.\"\u001b[0m\u001b[0;34m)\u001b[0m\u001b[0;34m\u001b[0m\u001b[0;34m\u001b[0m\u001b[0m\n\u001b[0m\u001b[1;32m    246\u001b[0m \u001b[0;34m\u001b[0m\u001b[0m\n\u001b[1;32m    247\u001b[0m     \u001b[0;32mreturn\u001b[0m \u001b[0mM\u001b[0m\u001b[0;34m.\u001b[0m\u001b[0m_new\u001b[0m\u001b[0;34m(\u001b[0m\u001b[0mred\u001b[0m\u001b[0;34m[\u001b[0m\u001b[0;34m:\u001b[0m\u001b[0;34m,\u001b[0m \u001b[0mbig\u001b[0m\u001b[0;34m.\u001b[0m\u001b[0mrows\u001b[0m\u001b[0;34m:\u001b[0m\u001b[0;34m]\u001b[0m\u001b[0;34m)\u001b[0m\u001b[0;34m\u001b[0m\u001b[0;34m\u001b[0m\u001b[0m\n",
            "\u001b[0;31mNonInvertibleMatrixError\u001b[0m: Matrix det == 0; not invertible."
          ]
        }
      ]
    },
    {
      "cell_type": "markdown",
      "metadata": {
        "id": "QLr_Hp5CK_BI"
      },
      "source": [
        "#**MATRIZ INVERSA USANDO EL MÉTODO  DE ELIMINACIÓN DE GAUSS-JORDAN**\n",
        "\n",
        "# **Operaciones elemantales sobre matrices**"
      ]
    },
    {
      "cell_type": "markdown",
      "metadata": {
        "id": "a8DSGsswon8y"
      },
      "source": [
        "|             Notación utilizada                  |         Operación sobre fila         | Código |\n",
        "|:-------------------------------:|:--------------------------------------:|:--------------:|\n",
        "|     $F_i \\longleftrightarrow F_j $  | Interrarcambiar la fila<br> $F_i$ con $F_j$ | **` M.row_swap(i, j)`**   |\n",
        "|            $k F_i \\rightarrow F_i  $           |  Multiplicar la fila $F_i$ <br> por la constante $k$ |     **`M[i ,:] = k*M[ i ,:]`**   |\n",
        "| $kF_i + F_j \\rightarrow F_j  $|  Sumar $k$ veces la fila $F_i$ <br> a la fila $F_j$ |    **`M[j ,:] = k*M[ i ,:] + M[j ,:]`**    |"
      ]
    },
    {
      "cell_type": "markdown",
      "metadata": {
        "id": "1W95Jw9id6GY"
      },
      "source": [
        "## **Ejemplo: matriz inversa** --> *paso a paso*\n",
        "\n",
        "Encuentra la matriz $A^{-1}$ paso a paso, si es posible, de la matriz:\n",
        "\n",
        "\n",
        "$$A=\\begin{bmatrix}\n",
        "5 & 4 & -5 \\\\\n",
        "3 & 6 & -7 \\\\\n",
        "1 & 0 & -3  \\\\\n",
        "\\end{bmatrix}\n",
        "$$"
      ]
    },
    {
      "cell_type": "markdown",
      "metadata": {
        "id": "WZnFIDYwfD7f"
      },
      "source": [
        "### **Construimos la matriz $\\left[  \\hspace{1mm} A \\hspace{2mm}|\\hspace{2mm} I \\hspace{1mm} \\right]$**"
      ]
    },
    {
      "cell_type": "code",
      "metadata": {
        "id": "23lj55K4cgM2"
      },
      "source": [
        "A = Matrix([[5,4,-5],[3,6,-7],[1,0,-3]])\n",
        "A"
      ],
      "execution_count": null,
      "outputs": []
    },
    {
      "cell_type": "code",
      "metadata": {
        "id": "OvuKbh-PxqYD"
      },
      "source": [
        "I = eye(3)\n",
        "I"
      ],
      "execution_count": null,
      "outputs": []
    },
    {
      "cell_type": "code",
      "metadata": {
        "id": "2-7kgGulxzjk"
      },
      "source": [
        "AI = Matrix.hstack(A,I)\n",
        "AI"
      ],
      "execution_count": null,
      "outputs": []
    },
    {
      "cell_type": "markdown",
      "metadata": {
        "id": "TmsIOhu3gGM3"
      },
      "source": [
        "### **Intercambiamos la fila 1 con la fila 2:**&nbsp;&nbsp;&nbsp;&nbsp;($ F_1 \\longleftrightarrow F_2  $ )"
      ]
    },
    {
      "cell_type": "code",
      "metadata": {
        "id": "H7-mVM-xGt6d"
      },
      "source": [
        "AI.row_swap(0,2)\n",
        "AI"
      ],
      "execution_count": null,
      "outputs": []
    },
    {
      "cell_type": "markdown",
      "metadata": {
        "id": "F5CRDkg9guhP"
      },
      "source": [
        "### **Multiplicamos por $-3$ &nbsp; la fila&nbsp; $1$ &nbsp; y se la sumamos a la fila&nbsp; $2$:**&nbsp;&nbsp;&nbsp;&nbsp;($-3F_1 + F_2 \\rightarrow F_2 $ )\n",
        "\n",
        "### **Multiplicamos por $-5$ &nbsp; la fila&nbsp; $1$ &nbsp; y se la sumamos a la fila&nbsp; $3$:**&nbsp;&nbsp;&nbsp;&nbsp;($-5F_1 + F_3 \\rightarrow F_3 $ )"
      ]
    },
    {
      "cell_type": "code",
      "metadata": {
        "id": "_9ES6Y0rH96i"
      },
      "source": [
        "AI[1,:] = -3*AI[0,:] + AI[1,:]\n",
        "AI[2,:] = -5*AI[0,:] + AI[2,:]\n",
        "AI"
      ],
      "execution_count": null,
      "outputs": []
    },
    {
      "cell_type": "markdown",
      "metadata": {
        "id": "cnpFK3R3hQQz"
      },
      "source": [
        "### **Multiplicamos por $\\frac{1}{6}$ la fila 2:**&nbsp;&nbsp;&nbsp;&nbsp;($\\frac{1}{6} F_1 \\rightarrow F_2  $ )"
      ]
    },
    {
      "cell_type": "code",
      "metadata": {
        "id": "KG04zuCpIffS"
      },
      "source": [
        "AI[1,:] = S(\"1/6\")*AI[1,:] \n",
        "AI"
      ],
      "execution_count": null,
      "outputs": []
    },
    {
      "cell_type": "markdown",
      "metadata": {
        "id": "WOsdJfLnhfto"
      },
      "source": [
        "### **Multiplicamos por $-4$ &nbsp; la fila&nbsp; $2$ &nbsp; y se la sumamos a la fila&nbsp; $3$:**&nbsp;&nbsp;&nbsp;&nbsp;($-4F_2 + F_3 \\rightarrow F_3 $ )"
      ]
    },
    {
      "cell_type": "code",
      "metadata": {
        "id": "QPUxrXIJIvqa"
      },
      "source": [
        "AI[2,:] = -4*AI[1,:] + AI[2,:]\n",
        "AI"
      ],
      "execution_count": null,
      "outputs": []
    },
    {
      "cell_type": "markdown",
      "metadata": {
        "id": "ZjMqByJyiomd"
      },
      "source": [
        "### **Multiplicamos por $\\frac{3}{26}$ &nbsp; la fila&nbsp; $3$:**&nbsp;&nbsp;&nbsp;&nbsp;($ \\frac{3}{26}F_3 \\rightarrow F_3 $ )"
      ]
    },
    {
      "cell_type": "code",
      "metadata": {
        "id": "8MGfjUHaI5hZ"
      },
      "source": [
        "AI[2,:] = S(\"3/26\")*AI[2,:] \n",
        "AI"
      ],
      "execution_count": null,
      "outputs": []
    },
    {
      "cell_type": "markdown",
      "metadata": {
        "id": "OTIzDqPVjOB7"
      },
      "source": [
        "### **Multiplicamos por $3$ &nbsp; la fila&nbsp; $3$ &nbsp; y se la sumamos a la fila&nbsp; $1$:**&nbsp;&nbsp;&nbsp;&nbsp;($3F_3 + F_1 \\rightarrow F_1 $ )\n",
        "\n",
        "### **Multiplicamos por $-\\frac{1}{3}$ &nbsp; la fila&nbsp; $3$ &nbsp; y se la sumamos a la fila&nbsp; $2$:**&nbsp;&nbsp;&nbsp;&nbsp;($-\\frac{1}{3}F_3 + F_2 \\rightarrow F_2 $ )"
      ]
    },
    {
      "cell_type": "code",
      "metadata": {
        "id": "9vozoPB1KiTR"
      },
      "source": [
        "AI[0,:] = 3*AI[2,:] + AI[0,:]\n",
        "AI[1,:] = S(\"-1/3\")*AI[2,:] + AI[1,:]\n",
        "AI"
      ],
      "execution_count": null,
      "outputs": []
    },
    {
      "cell_type": "markdown",
      "metadata": {
        "id": "49otieSyj1S0"
      },
      "source": [
        "### **Obtenemos la matriz $\\left[  \\hspace{1mm} I \\hspace{2mm}|\\hspace{2mm} A^{-1} \\hspace{1mm} \\right]$**"
      ]
    },
    {
      "cell_type": "code",
      "metadata": {
        "id": "vzFazsQkj0Hx"
      },
      "source": [
        "A_inv = AI[:,3:]\n",
        "A_inv"
      ],
      "execution_count": null,
      "outputs": []
    },
    {
      "cell_type": "markdown",
      "metadata": {
        "id": "U0ucpqYWkpM_"
      },
      "source": [
        "### **La matriz inversa $ A^{-1}$ es:**"
      ]
    },
    {
      "cell_type": "code",
      "metadata": {
        "id": "AUxsjAm_kqJ6"
      },
      "source": [
        "A_inv"
      ],
      "execution_count": null,
      "outputs": []
    },
    {
      "cell_type": "markdown",
      "metadata": {
        "id": "K2aTbUZaLVrf"
      },
      "source": [
        "#**Propiedades matriz inversa**\n",
        "Sea ${\\displaystyle A,B\\in {\\mathcal {M}}_{n\\times n}(\\mathbb {R} )}$ matrices invertibles y $ k\\in \\mathbb {R}$,  se cumplen las siguientes propiedades:\n",
        "\n",
        "|            PROPIEDAD           |       EXPLICACIÓN                      |\n",
        "|:------------------------------:|:--------------------------------------:|\n",
        "| Unicidad                  |$$A^{-1} \\in \\mathcal{M}_{n\\times n}(\\mathbb{R}) \\text{  y es unica}$$ |\n",
        "| Inversa del producto                   |$$(AB)^{-1} = B^{-1}A^{-1}$$|\n",
        "| Involutiva   |  $$(A^{-1})^{-1}= A$$                                  |\n",
        "| Inversa de un escalar por una matriz  |  $$(kA)^{-1}= \\dfrac{1}{k}A^{-1}$$ |\n",
        "\n"
      ]
    },
    {
      "cell_type": "markdown",
      "metadata": {
        "id": "qayPFJW5Q1tL"
      },
      "source": [
        "##**Verificación de las propiedades de la matriz inversa**"
      ]
    },
    {
      "cell_type": "markdown",
      "metadata": {
        "id": "qkufN_7ZQ1tT"
      },
      "source": [
        "### **Inversa del producto**\n",
        "\n",
        "$$(AB)^{-1} = B^{-1}A^{-1}$$"
      ]
    },
    {
      "cell_type": "code",
      "metadata": {
        "id": "ZuXBpBeVQ1tV"
      },
      "source": [
        ""
      ],
      "execution_count": null,
      "outputs": []
    },
    {
      "cell_type": "markdown",
      "metadata": {
        "id": "KPVJxSWvQ1tW"
      },
      "source": [
        "### **Propiedad involutiva**  \n",
        "$$(A^{-1})^{-1}$$"
      ]
    },
    {
      "cell_type": "code",
      "metadata": {
        "id": "HfgECaPfQ1tX"
      },
      "source": [
        ""
      ],
      "execution_count": null,
      "outputs": []
    },
    {
      "cell_type": "markdown",
      "metadata": {
        "id": "Ef7X2of8Q1tY"
      },
      "source": [
        "### **Inversa de un escalar por una matriz**\n",
        "\n",
        " $$(kA)^{-1}\n",
        " = \\dfrac{1}{k}A^{-1}$$                      "
      ]
    },
    {
      "cell_type": "code",
      "metadata": {
        "id": "l6-TFLP5Q1tZ"
      },
      "source": [
        ""
      ],
      "execution_count": null,
      "outputs": []
    },
    {
      "cell_type": "markdown",
      "metadata": {
        "id": "zWu8-GMVMqRQ"
      },
      "source": [
        "#**Inversa de una matriz 2 x 2**\n",
        "\n",
        "Sea ${\\displaystyle A\\in {\\mathcal {M}}_{2\\times 2}(\\mathbb {R} )}$: \n",
        "\n",
        "\n",
        "<center> <h4> Si &nbsp; &nbsp;  \n",
        "$A=\\begin{bmatrix}\n",
        "a & b  \\\\\n",
        "c & d  \\\\\n",
        "\\end{bmatrix}$ &nbsp; &nbsp; entonces &nbsp; &nbsp; \n",
        "$A^{-1}= \\dfrac{1}{ad-bc}\\begin{bmatrix}\n",
        "d & -b  \\\\\n",
        "-c & a  \\\\\n",
        "\\end{bmatrix}$ \n",
        "</h4> </center>\n",
        "\n",
        "\n",
        "donde $ad-bc \\neq 0 $ si $A$ es **invertible**.\n",
        "\n"
      ]
    },
    {
      "cell_type": "markdown",
      "metadata": {
        "id": "5nvtNqQTRYn3"
      },
      "source": [
        "### **Ejemplo 1:** "
      ]
    },
    {
      "cell_type": "code",
      "metadata": {
        "colab": {
          "base_uri": "https://localhost:8080/",
          "height": 60
        },
        "id": "aOnEvDgeLZb_",
        "outputId": "adbd447e-2854-42fc-e83b-79402f5d289d"
      },
      "source": [
        "from sympy import * \n",
        "a,b,c,d = symbols(\"a b c d \")\n",
        "A = Matrix([[a,b],[c,d]])\n",
        "A**(-1)"
      ],
      "execution_count": null,
      "outputs": [
        {
          "output_type": "execute_result",
          "data": {
            "text/latex": "$\\displaystyle \\left[\\begin{matrix}\\frac{d}{a d - b c} & - \\frac{b}{a d - b c}\\\\- \\frac{c}{a d - b c} & \\frac{a}{a d - b c}\\end{matrix}\\right]$",
            "text/plain": [
              "Matrix([\n",
              "[ d/(a*d - b*c), -b/(a*d - b*c)],\n",
              "[-c/(a*d - b*c),  a/(a*d - b*c)]])"
            ]
          },
          "metadata": {
            "tags": []
          },
          "execution_count": 3
        }
      ]
    },
    {
      "cell_type": "markdown",
      "metadata": {
        "id": "_nR-MyhNRxp9"
      },
      "source": [
        "### **Ejemplo 2:** "
      ]
    },
    {
      "cell_type": "code",
      "metadata": {
        "colab": {
          "base_uri": "https://localhost:8080/",
          "height": 57
        },
        "id": "hK0x8j46RzH8",
        "outputId": "8ce37de6-66b6-4d77-e5b6-27d202cd3d7d"
      },
      "source": [
        "A = Matrix([[1,2],[3,4]])\n",
        "A**(-1)"
      ],
      "execution_count": null,
      "outputs": [
        {
          "output_type": "execute_result",
          "data": {
            "text/latex": "$\\displaystyle \\left[\\begin{matrix}-2 & 1\\\\\\frac{3}{2} & - \\frac{1}{2}\\end{matrix}\\right]$",
            "text/plain": [
              "Matrix([\n",
              "[ -2,    1],\n",
              "[3/2, -1/2]])"
            ]
          },
          "metadata": {
            "tags": []
          },
          "execution_count": 4
        }
      ]
    },
    {
      "cell_type": "markdown",
      "metadata": {
        "id": "4gIgU4Q1d5uA"
      },
      "source": [
        "# **ECUACIONES MATRICIALES**"
      ]
    },
    {
      "cell_type": "markdown",
      "metadata": {
        "id": "RVUq5v8hF9RH"
      },
      "source": [
        "Dadas las matrices:\n",
        "\n",
        "$$A=\\begin{bmatrix}\n",
        "2  & -5 & 3\\\\\n",
        "4  & -7 & 4\\\\\n",
        "1  & -3 & -5\\\\\n",
        "\\end{bmatrix}\n",
        "\\hspace{1cm}\n",
        "B=\\begin{bmatrix}\n",
        "2  & -5 & 3\\\\\n",
        "4  & -7 & 4\\\\\n",
        "1  & -3 & -5\\\\\n",
        "\\end{bmatrix}\n",
        "\\hspace{1cm}\n",
        "C=\\begin{bmatrix}\n",
        "4  & -5 & 3\\\\\n",
        "3 & -7 & 7\\\\\n",
        "1  & 2 & -5\\\\\n",
        "\\end{bmatrix}\n",
        "$$\n",
        "\n",
        "Encuentra la matriz $X$ que resuelve la ecuación:\n",
        "\n",
        "$$AX + B = C$$\n",
        "\n"
      ]
    },
    {
      "cell_type": "code",
      "metadata": {
        "colab": {
          "base_uri": "https://localhost:8080/",
          "height": 78
        },
        "id": "UuT4NiDXIe-D",
        "outputId": "75e414af-2832-4445-954c-2721fa187c25"
      },
      "source": [
        "A = Matrix([[2,-5,3],[4,-7,4],[1,-3,-5]])\n",
        "B = Matrix([[2,-5,3],[4,-7,4],[1,-3,-5]])\n",
        "C = Matrix([[4,-5,3],[3,-7,7],[1,2,-5]])\n",
        "\n",
        "X = A**(-1)*(C-B)\n",
        "X\n"
      ],
      "execution_count": null,
      "outputs": [
        {
          "output_type": "execute_result",
          "data": {
            "text/latex": "$\\displaystyle \\left[\\begin{matrix}- \\frac{128}{41} & - \\frac{5}{41} & \\frac{102}{41}\\\\- \\frac{61}{41} & - \\frac{20}{41} & \\frac{39}{41}\\\\\\frac{11}{41} & - \\frac{30}{41} & - \\frac{3}{41}\\end{matrix}\\right]$",
            "text/plain": [
              "Matrix([\n",
              "[-128/41,  -5/41, 102/41],\n",
              "[ -61/41, -20/41,  39/41],\n",
              "[  11/41, -30/41,  -3/41]])"
            ]
          },
          "metadata": {
            "tags": []
          },
          "execution_count": 5
        }
      ]
    },
    {
      "cell_type": "markdown",
      "metadata": {
        "id": "6y7tI3w0wblw"
      },
      "source": [
        "## **Matriz inversa paso a paso**"
      ]
    },
    {
      "cell_type": "code",
      "metadata": {
        "colab": {
          "base_uri": "https://localhost:8080/",
          "height": 78
        },
        "id": "GXbUCrLk4b2t",
        "outputId": "0f916079-753f-41a5-f504-939d41020f89"
      },
      "source": [
        "A = Matrix([[2,-5,3],[4,-7,4],[1,-3,-5]])\n",
        "A"
      ],
      "execution_count": null,
      "outputs": [
        {
          "output_type": "execute_result",
          "data": {
            "text/latex": "$\\displaystyle \\left[\\begin{matrix}2 & -5 & 3\\\\4 & -7 & 4\\\\1 & -3 & -5\\end{matrix}\\right]$",
            "text/plain": [
              "Matrix([\n",
              "[2, -5,  3],\n",
              "[4, -7,  4],\n",
              "[1, -3, -5]])"
            ]
          },
          "metadata": {
            "tags": []
          },
          "execution_count": 6
        }
      ]
    },
    {
      "cell_type": "code",
      "metadata": {
        "colab": {
          "base_uri": "https://localhost:8080/",
          "height": 78
        },
        "id": "nkBqiTIk4g7T",
        "outputId": "44f485aa-d097-47f5-869e-44fd33296237"
      },
      "source": [
        "I = eye(3)\n",
        "AI = Matrix.hstack(A, I)\n",
        "AI"
      ],
      "execution_count": null,
      "outputs": [
        {
          "output_type": "execute_result",
          "data": {
            "text/latex": "$\\displaystyle \\left[\\begin{matrix}2 & -5 & 3 & 1 & 0 & 0\\\\4 & -7 & 4 & 0 & 1 & 0\\\\1 & -3 & -5 & 0 & 0 & 1\\end{matrix}\\right]$",
            "text/plain": [
              "Matrix([\n",
              "[2, -5,  3, 1, 0, 0],\n",
              "[4, -7,  4, 0, 1, 0],\n",
              "[1, -3, -5, 0, 0, 1]])"
            ]
          },
          "metadata": {
            "tags": []
          },
          "execution_count": 7
        }
      ]
    },
    {
      "cell_type": "code",
      "metadata": {
        "colab": {
          "base_uri": "https://localhost:8080/",
          "height": 78
        },
        "id": "4GNzsbSz5W3R",
        "outputId": "4c9b2af8-61a3-4885-8d9b-04aa39086f50"
      },
      "source": [
        "AI.row_swap(2,0)\n",
        "AI"
      ],
      "execution_count": null,
      "outputs": [
        {
          "output_type": "execute_result",
          "data": {
            "text/latex": "$\\displaystyle \\left[\\begin{matrix}1 & -3 & -5 & 0 & 0 & 1\\\\4 & -7 & 4 & 0 & 1 & 0\\\\2 & -5 & 3 & 1 & 0 & 0\\end{matrix}\\right]$",
            "text/plain": [
              "Matrix([\n",
              "[1, -3, -5, 0, 0, 1],\n",
              "[4, -7,  4, 0, 1, 0],\n",
              "[2, -5,  3, 1, 0, 0]])"
            ]
          },
          "metadata": {
            "tags": []
          },
          "execution_count": 8
        }
      ]
    },
    {
      "cell_type": "code",
      "metadata": {
        "colab": {
          "base_uri": "https://localhost:8080/",
          "height": 78
        },
        "id": "22f0tdYz5zjd",
        "outputId": "1f7f193b-28e9-4212-8b43-2c97029d666b"
      },
      "source": [
        "AI[1,:] = -4*AI[0,:] + AI[1,:]\n",
        "AI[2,:] = -2*AI[0,:] + AI[2,:]\n",
        "AI"
      ],
      "execution_count": null,
      "outputs": [
        {
          "output_type": "execute_result",
          "data": {
            "text/latex": "$\\displaystyle \\left[\\begin{matrix}1 & -3 & -5 & 0 & 0 & 1\\\\0 & 5 & 24 & 0 & 1 & -4\\\\0 & 1 & 13 & 1 & 0 & -2\\end{matrix}\\right]$",
            "text/plain": [
              "Matrix([\n",
              "[1, -3, -5, 0, 0,  1],\n",
              "[0,  5, 24, 0, 1, -4],\n",
              "[0,  1, 13, 1, 0, -2]])"
            ]
          },
          "metadata": {
            "tags": []
          },
          "execution_count": 9
        }
      ]
    },
    {
      "cell_type": "code",
      "metadata": {
        "colab": {
          "base_uri": "https://localhost:8080/",
          "height": 78
        },
        "id": "A0tKTukp6oCs",
        "outputId": "1fd7abd9-2be4-4658-be1f-2f41fb50ed06"
      },
      "source": [
        "AI.row_swap(2,1)\n",
        "AI"
      ],
      "execution_count": null,
      "outputs": [
        {
          "output_type": "execute_result",
          "data": {
            "text/latex": "$\\displaystyle \\left[\\begin{matrix}1 & -3 & -5 & 0 & 0 & 1\\\\0 & 1 & 13 & 1 & 0 & -2\\\\0 & 5 & 24 & 0 & 1 & -4\\end{matrix}\\right]$",
            "text/plain": [
              "Matrix([\n",
              "[1, -3, -5, 0, 0,  1],\n",
              "[0,  1, 13, 1, 0, -2],\n",
              "[0,  5, 24, 0, 1, -4]])"
            ]
          },
          "metadata": {
            "tags": []
          },
          "execution_count": 10
        }
      ]
    },
    {
      "cell_type": "code",
      "metadata": {
        "colab": {
          "base_uri": "https://localhost:8080/",
          "height": 78
        },
        "id": "rAs32jPn6u-O",
        "outputId": "90a59e5c-9143-4ae1-f4a1-ef847ac3de1c"
      },
      "source": [
        "AI[0,:] = 3*AI[1,:] + AI[0,:]\n",
        "AI[2,:] = -5*AI[1,:] + AI[2,:]\n",
        "AI"
      ],
      "execution_count": null,
      "outputs": [
        {
          "output_type": "execute_result",
          "data": {
            "text/latex": "$\\displaystyle \\left[\\begin{matrix}1 & 0 & 34 & 3 & 0 & -5\\\\0 & 1 & 13 & 1 & 0 & -2\\\\0 & 0 & -41 & -5 & 1 & 6\\end{matrix}\\right]$",
            "text/plain": [
              "Matrix([\n",
              "[1, 0,  34,  3, 0, -5],\n",
              "[0, 1,  13,  1, 0, -2],\n",
              "[0, 0, -41, -5, 1,  6]])"
            ]
          },
          "metadata": {
            "tags": []
          },
          "execution_count": 11
        }
      ]
    },
    {
      "cell_type": "code",
      "metadata": {
        "colab": {
          "base_uri": "https://localhost:8080/",
          "height": 78
        },
        "id": "lpULyNMt6-HB",
        "outputId": "59601550-d44c-4a87-85b7-d263b8bbd679"
      },
      "source": [
        "AI[2,:] = S(\"-1/41\")*AI[2,:] \n",
        "AI"
      ],
      "execution_count": null,
      "outputs": [
        {
          "output_type": "execute_result",
          "data": {
            "text/latex": "$\\displaystyle \\left[\\begin{matrix}1 & 0 & 34 & 3 & 0 & -5\\\\0 & 1 & 13 & 1 & 0 & -2\\\\0 & 0 & 1 & \\frac{5}{41} & - \\frac{1}{41} & - \\frac{6}{41}\\end{matrix}\\right]$",
            "text/plain": [
              "Matrix([\n",
              "[1, 0, 34,    3,     0,    -5],\n",
              "[0, 1, 13,    1,     0,    -2],\n",
              "[0, 0,  1, 5/41, -1/41, -6/41]])"
            ]
          },
          "metadata": {
            "tags": []
          },
          "execution_count": 12
        }
      ]
    },
    {
      "cell_type": "code",
      "metadata": {
        "colab": {
          "base_uri": "https://localhost:8080/",
          "height": 78
        },
        "id": "CT491Rbk7Qqx",
        "outputId": "94d32118-ac59-40ad-8af1-c94d36a4d11f"
      },
      "source": [
        "AI[0,:] = -34*AI[2,:] + AI[0,:]\n",
        "AI[1,:] = -13*AI[2,:] + AI[1,:]\n",
        "AI"
      ],
      "execution_count": null,
      "outputs": [
        {
          "output_type": "execute_result",
          "data": {
            "text/latex": "$\\displaystyle \\left[\\begin{matrix}1 & 0 & 0 & - \\frac{47}{41} & \\frac{34}{41} & - \\frac{1}{41}\\\\0 & 1 & 0 & - \\frac{24}{41} & \\frac{13}{41} & - \\frac{4}{41}\\\\0 & 0 & 1 & \\frac{5}{41} & - \\frac{1}{41} & - \\frac{6}{41}\\end{matrix}\\right]$",
            "text/plain": [
              "Matrix([\n",
              "[1, 0, 0, -47/41, 34/41, -1/41],\n",
              "[0, 1, 0, -24/41, 13/41, -4/41],\n",
              "[0, 0, 1,   5/41, -1/41, -6/41]])"
            ]
          },
          "metadata": {
            "tags": []
          },
          "execution_count": 13
        }
      ]
    },
    {
      "cell_type": "code",
      "metadata": {
        "colab": {
          "base_uri": "https://localhost:8080/",
          "height": 78
        },
        "id": "okr5cpDI7iOi",
        "outputId": "0eb7c26e-63d2-46a8-bc8a-597462969dd3"
      },
      "source": [
        "inv_A = AI[:,3:]\n",
        "inv_A"
      ],
      "execution_count": null,
      "outputs": [
        {
          "output_type": "execute_result",
          "data": {
            "text/latex": "$\\displaystyle \\left[\\begin{matrix}- \\frac{47}{41} & \\frac{34}{41} & - \\frac{1}{41}\\\\- \\frac{24}{41} & \\frac{13}{41} & - \\frac{4}{41}\\\\\\frac{5}{41} & - \\frac{1}{41} & - \\frac{6}{41}\\end{matrix}\\right]$",
            "text/plain": [
              "Matrix([\n",
              "[-47/41, 34/41, -1/41],\n",
              "[-24/41, 13/41, -4/41],\n",
              "[  5/41, -1/41, -6/41]])"
            ]
          },
          "metadata": {
            "tags": []
          },
          "execution_count": 14
        }
      ]
    },
    {
      "cell_type": "code",
      "metadata": {
        "colab": {
          "base_uri": "https://localhost:8080/",
          "height": 78
        },
        "id": "5i8MjvmL8GQK",
        "outputId": "86e332be-288b-450c-ea55-3640ed4e487f"
      },
      "source": [
        "A.inv()"
      ],
      "execution_count": null,
      "outputs": [
        {
          "output_type": "execute_result",
          "data": {
            "text/latex": "$\\displaystyle \\left[\\begin{matrix}- \\frac{47}{41} & \\frac{34}{41} & - \\frac{1}{41}\\\\- \\frac{24}{41} & \\frac{13}{41} & - \\frac{4}{41}\\\\\\frac{5}{41} & - \\frac{1}{41} & - \\frac{6}{41}\\end{matrix}\\right]$",
            "text/plain": [
              "Matrix([\n",
              "[-47/41, 34/41, -1/41],\n",
              "[-24/41, 13/41, -4/41],\n",
              "[  5/41, -1/41, -6/41]])"
            ]
          },
          "metadata": {
            "tags": []
          },
          "execution_count": 15
        }
      ]
    },
    {
      "cell_type": "code",
      "metadata": {
        "colab": {
          "base_uri": "https://localhost:8080/",
          "height": 78
        },
        "id": "wuewE5a68VXM",
        "outputId": "e7c0b157-48b5-4c84-fb81-901606aaac7d"
      },
      "source": [
        "A = Matrix([[2,-5,3],[4,-7,4],[1,-3,-5]])\n",
        "B = Matrix([[2,-5,3],[4,-7,4],[1,-3,-5]])\n",
        "C = Matrix([[4,-5,3],[3,-7,7],[1,2,-5]])\n",
        "\n",
        "X = inv_A*(C-B)\n",
        "X"
      ],
      "execution_count": null,
      "outputs": [
        {
          "output_type": "execute_result",
          "data": {
            "text/latex": "$\\displaystyle \\left[\\begin{matrix}- \\frac{128}{41} & - \\frac{5}{41} & \\frac{102}{41}\\\\- \\frac{61}{41} & - \\frac{20}{41} & \\frac{39}{41}\\\\\\frac{11}{41} & - \\frac{30}{41} & - \\frac{3}{41}\\end{matrix}\\right]$",
            "text/plain": [
              "Matrix([\n",
              "[-128/41,  -5/41, 102/41],\n",
              "[ -61/41, -20/41,  39/41],\n",
              "[  11/41, -30/41,  -3/41]])"
            ]
          },
          "metadata": {
            "tags": []
          },
          "execution_count": 16
        }
      ]
    },
    {
      "cell_type": "code",
      "metadata": {
        "colab": {
          "base_uri": "https://localhost:8080/"
        },
        "id": "5AbymB-W8hjt",
        "outputId": "988e2744-9f02-4006-c18d-9c3585cb5678"
      },
      "source": [
        "A*X + B == C"
      ],
      "execution_count": null,
      "outputs": [
        {
          "output_type": "execute_result",
          "data": {
            "text/plain": [
              "True"
            ]
          },
          "metadata": {
            "tags": []
          },
          "execution_count": 17
        }
      ]
    },
    {
      "cell_type": "markdown",
      "metadata": {
        "id": "OdQeYNbEaz6I"
      },
      "source": [
        "# **RESOLUCIÓN DE SISTEMAS DE ECUACIONES USANDO LA MATRIZ INVERSA**\n",
        "Resuelva el  siguiente sistema utilizando la matriz inversa\n",
        "\n",
        "$$\\left\\{\n",
        "\\begin{array}{rcl}\n",
        "     2x+ 4y+6z  & = & 18\n",
        "  \\\\ 4x+ 5y+6z & = & 24\n",
        "  \\\\ 3x+y-2z & = & 4\n",
        "\\end{array}\n",
        "\\right.$$\n",
        "\n",
        "que se puede reescribir  como $AX = B$  donde :\n",
        "\n",
        "$$A=\\begin{bmatrix}\n",
        "2  & 4 & 6\\\\\n",
        "4  & 5 & 6\\\\\n",
        "3  & 1 & -2\\\\\n",
        "\\end{bmatrix}\n",
        "\\hspace{1cm}\n",
        "B=\\begin{bmatrix}\n",
        "18  \\\\\n",
        "24  \\\\\n",
        "4 \\\\\n",
        "\\end{bmatrix}\n",
        "\\hspace{1cm}\n",
        "X=\\begin{bmatrix}\n",
        "x  \\\\\n",
        "y  \\\\\n",
        "z \\\\\n",
        "\\end{bmatrix}$$"
      ]
    },
    {
      "cell_type": "code",
      "metadata": {
        "colab": {
          "base_uri": "https://localhost:8080/",
          "height": 78
        },
        "id": "G2U2as3QfKYN",
        "outputId": "8e7f17be-26c1-4dd6-f331-76f80812d111"
      },
      "source": [
        "A = Matrix([[2,4,6],[4,5,6],[3,1,-2]])\n",
        "B = Matrix(3,1,[18,24,4])\n",
        "X = A**(-1)*B \n",
        "X"
      ],
      "execution_count": null,
      "outputs": [
        {
          "output_type": "execute_result",
          "data": {
            "text/latex": "$\\displaystyle \\left[\\begin{matrix}4\\\\-2\\\\3\\end{matrix}\\right]$",
            "text/plain": [
              "Matrix([\n",
              "[ 4],\n",
              "[-2],\n",
              "[ 3]])"
            ]
          },
          "metadata": {
            "tags": []
          },
          "execution_count": 18
        }
      ]
    },
    {
      "cell_type": "code",
      "metadata": {
        "colab": {
          "base_uri": "https://localhost:8080/",
          "height": 78
        },
        "id": "wF2-yDzp_T83",
        "outputId": "75e8fb31-36c5-4c0d-c5ef-2b04ab2ce079"
      },
      "source": [
        "A**(-1)"
      ],
      "execution_count": null,
      "outputs": [
        {
          "output_type": "execute_result",
          "data": {
            "text/latex": "$\\displaystyle \\left[\\begin{matrix}- \\frac{8}{3} & \\frac{7}{3} & -1\\\\\\frac{13}{3} & - \\frac{11}{3} & 2\\\\- \\frac{11}{6} & \\frac{5}{3} & -1\\end{matrix}\\right]$",
            "text/plain": [
              "Matrix([\n",
              "[ -8/3,   7/3, -1],\n",
              "[ 13/3, -11/3,  2],\n",
              "[-11/6,   5/3, -1]])"
            ]
          },
          "metadata": {
            "tags": []
          },
          "execution_count": 19
        }
      ]
    },
    {
      "cell_type": "code",
      "metadata": {
        "colab": {
          "base_uri": "https://localhost:8080/",
          "height": 78
        },
        "id": "jGSP-4c0b8Oz",
        "outputId": "4d5c8ed6-89b4-4378-da36-57ccb4724a25"
      },
      "source": [
        "A = Matrix(3,3,[1, 1,-2,2,-1,1,6,3,4] )\n",
        "A"
      ],
      "execution_count": 9,
      "outputs": [
        {
          "output_type": "execute_result",
          "data": {
            "text/latex": "$\\displaystyle \\left[\\begin{matrix}1 & 1 & -2\\\\2 & -1 & 1\\\\6 & 3 & 4\\end{matrix}\\right]$",
            "text/plain": [
              "⎡1  1   -2⎤\n",
              "⎢         ⎥\n",
              "⎢2  -1  1 ⎥\n",
              "⎢         ⎥\n",
              "⎣6  3   4 ⎦"
            ]
          },
          "metadata": {
            "tags": []
          },
          "execution_count": 9
        }
      ]
    },
    {
      "cell_type": "code",
      "metadata": {
        "colab": {
          "base_uri": "https://localhost:8080/",
          "height": 78
        },
        "id": "CmtwLKhXctjB",
        "outputId": "25434d0e-2be3-4870-fa31-6e1786cd13d4"
      },
      "source": [
        "I = eye(3)\n",
        "AI = Matrix.hstack(A,I)\n",
        "AI"
      ],
      "execution_count": 10,
      "outputs": [
        {
          "output_type": "execute_result",
          "data": {
            "text/latex": "$\\displaystyle \\left[\\begin{matrix}1 & 1 & -2 & 1 & 0 & 0\\\\2 & -1 & 1 & 0 & 1 & 0\\\\6 & 3 & 4 & 0 & 0 & 1\\end{matrix}\\right]$",
            "text/plain": [
              "⎡1  1   -2  1  0  0⎤\n",
              "⎢                  ⎥\n",
              "⎢2  -1  1   0  1  0⎥\n",
              "⎢                  ⎥\n",
              "⎣6  3   4   0  0  1⎦"
            ]
          },
          "metadata": {
            "tags": []
          },
          "execution_count": 10
        }
      ]
    },
    {
      "cell_type": "code",
      "metadata": {
        "colab": {
          "base_uri": "https://localhost:8080/",
          "height": 78
        },
        "id": "EhXwdZb6dIXT",
        "outputId": "5f788634-8f38-43d0-9a05-9fd76321e849"
      },
      "source": [
        "AI[1,:]=-2*AI[0,:]+ AI[1,:]\n",
        "AI[2,:]=-6*AI[0,:]+ AI[2,:]\n",
        "AI"
      ],
      "execution_count": 11,
      "outputs": [
        {
          "output_type": "execute_result",
          "data": {
            "text/latex": "$\\displaystyle \\left[\\begin{matrix}1 & 1 & -2 & 1 & 0 & 0\\\\0 & -3 & 5 & -2 & 1 & 0\\\\0 & -3 & 16 & -6 & 0 & 1\\end{matrix}\\right]$",
            "text/plain": [
              "⎡1  1   -2  1   0  0⎤\n",
              "⎢                   ⎥\n",
              "⎢0  -3  5   -2  1  0⎥\n",
              "⎢                   ⎥\n",
              "⎣0  -3  16  -6  0  1⎦"
            ]
          },
          "metadata": {
            "tags": []
          },
          "execution_count": 11
        }
      ]
    },
    {
      "cell_type": "code",
      "metadata": {
        "colab": {
          "base_uri": "https://localhost:8080/",
          "height": 78
        },
        "id": "KHMkm9VYd6l3",
        "outputId": "d4d0520f-187a-41e4-ea7f-7e106cdb05c0"
      },
      "source": [
        "AI[1,:]=S(\"-1/3\")*AI[1,:]\n",
        "AI"
      ],
      "execution_count": 12,
      "outputs": [
        {
          "output_type": "execute_result",
          "data": {
            "text/latex": "$\\displaystyle \\left[\\begin{matrix}1 & 1 & -2 & 1 & 0 & 0\\\\0 & 1 & - \\frac{5}{3} & \\frac{2}{3} & - \\frac{1}{3} & 0\\\\0 & -3 & 16 & -6 & 0 & 1\\end{matrix}\\right]$",
            "text/plain": [
              "⎡1  1    -2    1    0    0⎤\n",
              "⎢                         ⎥\n",
              "⎢0  1   -5/3  2/3  -1/3  0⎥\n",
              "⎢                         ⎥\n",
              "⎣0  -3   16   -6    0    1⎦"
            ]
          },
          "metadata": {
            "tags": []
          },
          "execution_count": 12
        }
      ]
    },
    {
      "cell_type": "code",
      "metadata": {
        "colab": {
          "base_uri": "https://localhost:8080/",
          "height": 78
        },
        "id": "rednYfKbeJEP",
        "outputId": "b8104d6f-545c-49c8-feac-bf85d42e9d41"
      },
      "source": [
        "AI[0,:]=-1*AI[1,:]+ AI[0,:]\n",
        "AI[2,:]=3*AI[1,:]+ AI[2,:]\n",
        "AI"
      ],
      "execution_count": 13,
      "outputs": [
        {
          "output_type": "execute_result",
          "data": {
            "text/latex": "$\\displaystyle \\left[\\begin{matrix}1 & 0 & - \\frac{1}{3} & \\frac{1}{3} & \\frac{1}{3} & 0\\\\0 & 1 & - \\frac{5}{3} & \\frac{2}{3} & - \\frac{1}{3} & 0\\\\0 & 0 & 11 & -4 & -1 & 1\\end{matrix}\\right]$",
            "text/plain": [
              "⎡1  0  -1/3  1/3  1/3   0⎤\n",
              "⎢                        ⎥\n",
              "⎢0  1  -5/3  2/3  -1/3  0⎥\n",
              "⎢                        ⎥\n",
              "⎣0  0   11   -4    -1   1⎦"
            ]
          },
          "metadata": {
            "tags": []
          },
          "execution_count": 13
        }
      ]
    },
    {
      "cell_type": "code",
      "metadata": {
        "colab": {
          "base_uri": "https://localhost:8080/",
          "height": 78
        },
        "id": "4P0phtKFeTYL",
        "outputId": "c8f06854-08c4-43cd-9487-046260faeda8"
      },
      "source": [
        "AI[2,:]=S(\"1/11\")*AI[2,:]\n",
        "AI"
      ],
      "execution_count": 14,
      "outputs": [
        {
          "output_type": "execute_result",
          "data": {
            "text/latex": "$\\displaystyle \\left[\\begin{matrix}1 & 0 & - \\frac{1}{3} & \\frac{1}{3} & \\frac{1}{3} & 0\\\\0 & 1 & - \\frac{5}{3} & \\frac{2}{3} & - \\frac{1}{3} & 0\\\\0 & 0 & 1 & - \\frac{4}{11} & - \\frac{1}{11} & \\frac{1}{11}\\end{matrix}\\right]$",
            "text/plain": [
              "⎡1  0  -1/3   1/3    1/3    0  ⎤\n",
              "⎢                              ⎥\n",
              "⎢0  1  -5/3   2/3   -1/3    0  ⎥\n",
              "⎢                              ⎥\n",
              "⎣0  0   1    -4/11  -1/11  1/11⎦"
            ]
          },
          "metadata": {
            "tags": []
          },
          "execution_count": 14
        }
      ]
    },
    {
      "cell_type": "code",
      "metadata": {
        "colab": {
          "base_uri": "https://localhost:8080/",
          "height": 78
        },
        "id": "RVlITh4VecPT",
        "outputId": "2abf01da-3ca2-447b-b45b-c54562d564ec"
      },
      "source": [
        "AI[1,:]=S(\"5/3\")*AI[2,:]+ AI[1,:]\n",
        "AI[0,:]=S(\"1/3\")*AI[2,:]+ AI[0,:]\n",
        "AI"
      ],
      "execution_count": 15,
      "outputs": [
        {
          "output_type": "execute_result",
          "data": {
            "text/latex": "$\\displaystyle \\left[\\begin{matrix}1 & 0 & 0 & \\frac{7}{33} & \\frac{10}{33} & \\frac{1}{33}\\\\0 & 1 & 0 & \\frac{2}{33} & - \\frac{16}{33} & \\frac{5}{33}\\\\0 & 0 & 1 & - \\frac{4}{11} & - \\frac{1}{11} & \\frac{1}{11}\\end{matrix}\\right]$",
            "text/plain": [
              "⎡                 10        ⎤\n",
              "⎢1  0  0  7/33    ──    1/33⎥\n",
              "⎢                 33        ⎥\n",
              "⎢                           ⎥\n",
              "⎢                -16        ⎥\n",
              "⎢0  1  0  2/33   ────   5/33⎥\n",
              "⎢                 33        ⎥\n",
              "⎢                           ⎥\n",
              "⎣0  0  1  -4/11  -1/11  1/11⎦"
            ]
          },
          "metadata": {
            "tags": []
          },
          "execution_count": 15
        }
      ]
    },
    {
      "cell_type": "code",
      "metadata": {
        "colab": {
          "base_uri": "https://localhost:8080/",
          "height": 78
        },
        "id": "EY28aFeSewMI",
        "outputId": "b130cc92-c785-4163-9919-de5d2e92ae24"
      },
      "source": [
        "inv_A = AI[:,3:]\n",
        "inv_A "
      ],
      "execution_count": 16,
      "outputs": [
        {
          "output_type": "execute_result",
          "data": {
            "text/latex": "$\\displaystyle \\left[\\begin{matrix}\\frac{7}{33} & \\frac{10}{33} & \\frac{1}{33}\\\\\\frac{2}{33} & - \\frac{16}{33} & \\frac{5}{33}\\\\- \\frac{4}{11} & - \\frac{1}{11} & \\frac{1}{11}\\end{matrix}\\right]$",
            "text/plain": [
              "⎡        10        ⎤\n",
              "⎢7/33    ──    1/33⎥\n",
              "⎢        33        ⎥\n",
              "⎢                  ⎥\n",
              "⎢       -16        ⎥\n",
              "⎢2/33   ────   5/33⎥\n",
              "⎢        33        ⎥\n",
              "⎢                  ⎥\n",
              "⎣-4/11  -1/11  1/11⎦"
            ]
          },
          "metadata": {
            "tags": []
          },
          "execution_count": 16
        }
      ]
    },
    {
      "cell_type": "markdown",
      "metadata": {
        "id": "Kwz-5QwIsj6F"
      },
      "source": [
        "## **verificación con la función solve**"
      ]
    },
    {
      "cell_type": "code",
      "metadata": {
        "colab": {
          "base_uri": "https://localhost:8080/"
        },
        "id": "igimf4U7rXVj",
        "outputId": "5e859c6a-84c7-48d1-b06b-0cd806e00aed"
      },
      "source": [
        "x,y,z = symbols(\"x y z\")\n",
        "solve( [ 2*x + 4*y + 6*z -18, 4*x + 5*y +6*z -24, 3*x + y - 2*z - 4], [x, y, z])"
      ],
      "execution_count": null,
      "outputs": [
        {
          "output_type": "execute_result",
          "data": {
            "text/plain": [
              "{x: 4, y: -2, z: 3}"
            ]
          },
          "metadata": {
            "tags": []
          },
          "execution_count": 22
        }
      ]
    },
    {
      "cell_type": "markdown",
      "metadata": {
        "id": "4BW-ChHG6M2j"
      },
      "source": [
        "#**MÉTODO DE MÍNIMOS CUADRADOS**\n",
        "\n",
        "Dados los datos que se encuentran en la siguiente tabla:\n",
        "\n",
        "| $\\large{x}$ |  $x_{1}$  | $x_{2}$   | $\\cdots$   |$x_{n-1}$   | $x_{n}$   |\n",
        "|:-:|:-:|:-:|:-:|:-:|:-:|\n",
        "| $\\large{y}$ |  $y_{1}$  |  $y_{2}$  | $\\cdots$   | $y_{n-1}$  | $y_{n}$  |\n",
        "\n",
        "El procedimiento para encontrar los valores de $m$ y $b$ para determinar la ecuación de recta $y = mx+b$ que mejor se ajusta a los datos presentados en la tabla recibe el nombre de *aproximación por mínimos cuadrados*.\n",
        "\n",
        "\n",
        "\n",
        "<center> <img src=\"https://i.ibb.co/tpSzbMv/imafinal.png\" alt=\"imafinal\" border=\"0\" width =\"450\">\n",
        " </center>\n",
        "\n",
        "\n",
        "Definimos inicialmente las matrices $y$ , $A$ y $U$ de la siguiente manera:\n",
        "\n",
        "$$y=\\begin{bmatrix}\n",
        "y_{1}  \\\\\n",
        "y_{2} \\\\\n",
        "\\vdots  \\\\\n",
        "y_{n}  \\\\\n",
        "y_{n-1} \\\\\n",
        "\\end{bmatrix}\n",
        "\\hspace{1cm}\n",
        "A=\\begin{bmatrix}\n",
        "1&x_{1}  \\\\\n",
        "1&x_{2} \\\\\n",
        "\\vdots  \\\\\n",
        "1&x_{n}  \\\\\n",
        "1&x_{n-1} \\\\\n",
        "\\end{bmatrix}\n",
        "\\hspace{1cm}\n",
        "U=\\begin{bmatrix}\n",
        "b  \\\\\n",
        "m \\\\\n",
        "\\end{bmatrix}\n",
        "$$\n",
        "\n",
        "Para determinar las entradas de la matriz $U$ que permitiran encontar la ecuación de la recta $y = mx +b$ de mejor ajuste, debemos usar la siguiente fórmula matricial:\n",
        "$$U=(A^{T}A)^{-1}A^Ty$$"
      ]
    },
    {
      "cell_type": "markdown",
      "metadata": {
        "id": "mPv65dfdOVUj"
      },
      "source": [
        "### **Ejemplo: aproximación usando el método de mínimos cuadrados**\n",
        "\n",
        "Encuentra la recta de mejor ajuste para los datos  que se presentan en la siguiente tabla:\n",
        "\n",
        "| $\\large{x}$ |  $21$  | $29$   | $34$   |$42$   | $50$   | \n",
        "|:-:|:-:|:-:|:-:|:-:|:-:|\n",
        "| $\\large{y}$ |  $59$  |  $60$ | $61$   | $62$  |$63$  |\n"
      ]
    },
    {
      "cell_type": "code",
      "metadata": {
        "id": "0Co2OJTSOVUk",
        "colab": {
          "base_uri": "https://localhost:8080/",
          "height": 58
        },
        "outputId": "8ae58839-5ea2-4cd3-e7d3-83f5825b1436"
      },
      "source": [
        "# Ingresamos como listas las componentes x y y del los puntos\n",
        "X = [8,16,41]\n",
        "Y = [500,1000,2500]\n",
        "\n",
        "# contamos el número de puntos\n",
        "n = len(X)\n",
        "\n",
        "#Contruimos las matrices\n",
        "A = Matrix.hstack(ones(n,1),Matrix(n,1,X))\n",
        "y = Matrix(n,1,Y)\n",
        "\n",
        "# Hallamos la matriz U\n",
        "U = (A.T*A)**(-1)*A.T*y\n",
        "U"
      ],
      "execution_count": 17,
      "outputs": [
        {
          "output_type": "execute_result",
          "data": {
            "text/latex": "$\\displaystyle \\left[\\begin{matrix}\\frac{20750}{889}\\\\\\frac{53750}{889}\\end{matrix}\\right]$",
            "text/plain": [
              "⎡20750⎤\n",
              "⎢─────⎥\n",
              "⎢ 889 ⎥\n",
              "⎢     ⎥\n",
              "⎢53750⎥\n",
              "⎢─────⎥\n",
              "⎣ 889 ⎦"
            ]
          },
          "metadata": {
            "tags": []
          },
          "execution_count": 17
        }
      ]
    },
    {
      "cell_type": "code",
      "metadata": {
        "colab": {
          "base_uri": "https://localhost:8080/",
          "height": 36
        },
        "id": "P41tpTntsRSO",
        "outputId": "623bef90-5c2d-41ad-fd37-90e2f4434cb9"
      },
      "source": [
        "U[0].evalf(3)"
      ],
      "execution_count": 19,
      "outputs": [
        {
          "output_type": "execute_result",
          "data": {
            "image/png": "[encoded data removed]",
            "text/latex": "$\\displaystyle 23.3$",
            "text/plain": [
              "23.3"
            ]
          },
          "metadata": {
            "tags": []
          },
          "execution_count": 19
        }
      ]
    },
    {
      "cell_type": "code",
      "metadata": {
        "colab": {
          "base_uri": "https://localhost:8080/",
          "height": 36
        },
        "id": "nFCy740JsZ4j",
        "outputId": "f5cf028b-a28a-4e43-f15c-97c395721591"
      },
      "source": [
        "U[1].evalf(3)"
      ],
      "execution_count": 20,
      "outputs": [
        {
          "output_type": "execute_result",
          "data": {
            "image/png": "[encoded data removed]",
            "text/latex": "$\\displaystyle 60.5$",
            "text/plain": [
              "60.5"
            ]
          },
          "metadata": {
            "tags": []
          },
          "execution_count": 20
        }
      ]
    },
    {
      "cell_type": "code",
      "metadata": {
        "id": "ODbjsqw46YDf",
        "colab": {
          "base_uri": "https://localhost:8080/",
          "height": 295
        },
        "outputId": "308ca2e9-18a7-4dab-adc2-6a4f41e422e7"
      },
      "source": [
        "import matplotlib\n",
        "import matplotlib.pyplot as plt\n",
        "import numpy as np\n",
        "\n",
        "#Extraemos los parámetros b y m de la matriz U\n",
        "b = U[0]\n",
        "m = U[1]\n",
        "\n",
        "#Se realiza la grafica de la recta de ajuste.\n",
        "x = np.arange(min(X),max(X),0.1)\n",
        "plt.plot(x, m*x+b, label='Recta de ajuste')\n",
        "\n",
        "#Se realiza el diagrama de dispersión de los puntos\n",
        "plt.scatter(X,Y, label='Datos')\n",
        "\n",
        "# Se nombran los ejes y asigna el titulo del grafico\n",
        "plt.xlabel(\"x\")\n",
        "plt.ylabel(\"y\")\n",
        "plt.title(\"Diagrama de dispersión\")\n",
        "plt.legend()\n",
        "\n",
        "# Muestra el gráfico\n",
        "plt.show()\n"
      ],
      "execution_count": 21,
      "outputs": [
        {
          "output_type": "display_data",
          "data": {
            "image/png": "[encoded data removed]",
            "text/plain": [
              "<Figure size 432x288 with 1 Axes>"
            ]
          },
          "metadata": {
            "tags": [],
            "needs_background": "light"
          }
        }
      ]
    }
  ]
}