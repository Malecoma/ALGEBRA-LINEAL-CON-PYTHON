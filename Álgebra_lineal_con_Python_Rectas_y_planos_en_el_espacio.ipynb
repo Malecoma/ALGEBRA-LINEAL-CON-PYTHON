{
  "nbformat": 4,
  "nbformat_minor": 0,
  "metadata": {
    "colab": {
      "name": " Álgebra lineal con Python- Rectas y planos en el espacio.ipynb",
      "provenance": [],
      "collapsed_sections": [],
      "include_colab_link": true
    },
    "kernelspec": {
      "name": "python3",
      "display_name": "Python 3"
    }
  },
  "cells": [
    {
      "cell_type": "markdown",
      "metadata": {
        "id": "view-in-github",
        "colab_type": "text"
      },
      "source": [
        "<a href=\"https://colab.research.google.com/github/josorio398/ALGEBRA-LINEAL-CON-PYTHON/blob/master/%C3%81lgebra_lineal_con_Python_Rectas_y_planos_en_el_espacio.ipynb\" target=\"_parent\"><img src=\"https://colab.research.google.com/assets/colab-badge.svg\" alt=\"Open In Colab\"/></a>"
      ]
    },
    {
      "cell_type": "markdown",
      "metadata": {
        "id": "RVxHpsbcExUD"
      },
      "source": [
        "<p><img alt=\"logo.fua\" height=\"100px\" src=\"https://www.uamerica.edu.co/wp-content/images/escudo.png\" align=\"left\" hspace=\"10px\" vspace=\"0px\"></p>\n",
        "\n",
        "<p><img alt=\"logo.fua\" height=\"26px\" src=\"https://mirrors.creativecommons.org/presskit/buttons/88x31/svg/by-nd.svg\" align=\"right\" hspace=\"0px\" vspace=\"11px\"></p>\n",
        "\n",
        "\n",
        "# <center> <font size=\"6\">**ÁLGEBRA LINEAL CON PYTHON** <center>*Jhonny Osorio Gallego &nbsp; &nbsp; &nbsp;<p>*</font> "
      ]
    },
    {
      "cell_type": "markdown",
      "metadata": {
        "id": "pELON3yz_46g"
      },
      "source": [
        "#**RECTAS Y PLANOS EN EL ESPACIO**\n",
        "\n"
      ]
    },
    {
      "cell_type": "markdown",
      "metadata": {
        "id": "U515Q-sM2m9k"
      },
      "source": [
        "##**LIBRERÍA SIMBÓLICA SYMPY**\n",
        "**SymPy** es una biblioteca de Python para matemáticas simbólicas. Su objetivo es convertirse en un sistema de álgebra computacional (CAS) con todas las funciones, manteniendo el código lo más simple posible para que sea comprensible y fácilmente extensible. SymPy está escrito completamente en Python.[sympy.org](https://www.sympy.org/en/index.html)"
      ]
    },
    {
      "cell_type": "code",
      "metadata": {
        "id": "4wHJ9dZ3405h"
      },
      "source": [
        "from sympy import *\n",
        "init_printing() \n",
        "x,y,z,w,a,b = symbols(\"x y z w a b \")\n",
        "A,B,C = symbols(\"A B C \")"
      ],
      "execution_count": null,
      "outputs": []
    },
    {
      "cell_type": "markdown",
      "metadata": {
        "id": "jTBd8M2YSnDJ"
      },
      "source": [
        "#<center>**NOTEBOOK EN ELABORACIÓN**"
      ]
    },
    {
      "cell_type": "code",
      "metadata": {
        "id": "gTyFJf22SuZY"
      },
      "source": [
        ""
      ],
      "execution_count": null,
      "outputs": []
    }
  ]
}